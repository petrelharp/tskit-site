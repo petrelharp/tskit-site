{
 "cells": [
  {
   "cell_type": "code",
   "execution_count": 1,
   "id": "c609f0bc",
   "metadata": {
    "tags": [
     "remove-cell"
    ]
   },
   "outputs": [],
   "source": [
    "import msprime\n",
    "import numpy as np\n",
    "from IPython.display import SVG\n",
    "from matplotlib import pyplot as plt"
   ]
  },
  {
   "cell_type": "markdown",
   "id": "dd166a39",
   "metadata": {},
   "source": [
    "(sec_randomness)=\n",
    "\n",
    "# Randomness and replication\n",
    "\n",
    "Simulations are used to generate random samples from complex distributions,\n",
    "which we usually don't have analytical solutions for. In this section\n",
    "we describe how msprime generates and\n",
    "{ref}`controls randomness<sec_randomness_seeds>`, and\n",
    "also how to efficiently and idiomatically run many\n",
    "{ref}`replicate simulations<sec_randomness_replication>`\n",
    "to summarise those distributions.\n",
    "\n",
    "(sec_randomness_seeds)=\n",
    "\n",
    "## Random seeds\n",
    "\n",
    "Stochastic simulations depend on a source of randomness, provided by a\n",
    "[psuedorandom number generator](<https://en.wikipedia.org/wiki/Pseudorandom_number_generator>).\n",
    "Msprime uses the\n",
    "[GNU Scientific Library](<https://www.gnu.org/software/gsl/doc/html/rng.html>)\n",
    "to generate high-quality random numbers.\n",
    "The particular trajectory produced by a pseudorandom number\n",
    "generator is controlled by the \"seed\" it is provided.\n",
    "\n",
    ":::{note}\n",
    "By default, msprime generates random seeds using a private instance of\n",
    "{class}`python:random.Random`, which should guarantee unique seeds are produced\n",
    "even if (e.g.) many simulations are started at the same time in different\n",
    "processes. In particular, simulations run concurrently in subprocesses using\n",
    "{mod}`concurrent.futures` or {mod}`multiprocessing` will be assigned unique\n",
    "seeds by default. See the {ref}`sec_randomness_replication_parallel` section\n",
    "for more information and examples.\n",
    ":::\n",
    "\n",
    "Thus, if we run two {ref}`ancestry simulations<sec_ancestry>`\n",
    "with the same parameters, we will get different results:"
   ]
  },
  {
   "cell_type": "code",
   "execution_count": 2,
   "id": "ca5e382d",
   "metadata": {
    "tags": [
     "remove-cell"
    ]
   },
   "outputs": [],
   "source": [
    "# Make this deterministic. DON'T DO THIS IN YOUR CODE.\n",
    "msprime.core.set_seed_rng_seed(412)"
   ]
  },
  {
   "cell_type": "code",
   "execution_count": 3,
   "id": "9534ff54",
   "metadata": {},
   "outputs": [
    {
     "data": {
      "image/svg+xml": [
       "<svg xmlns=\"http://www.w3.org/2000/svg\" xmlns:ev=\"http://www.w3.org/2001/xml-events\" xmlns:xlink=\"http://www.w3.org/1999/xlink\" baseProfile=\"full\" height=\"200\" version=\"1.1\" width=\"200\"><defs><style type=\"text/css\"><![CDATA[.tree-sequence .background path {fill: #808080; fill-opacity:0}.tree-sequence .background path:nth-child(odd) {fill-opacity:.1}.axes {font-size: 14px}.x-axis .tick .lab {font-weight: bold}.axes, .tree {font-size: 14px; text-anchor:middle}.y-axis line.grid {stroke: #FAFAFA}.y-axis > .lab text {transform: translateX(0.8em) rotate(-90deg)}.x-axis .tick g {transform: translateY(0.9em)}.x-axis > .lab text {transform: translateY(-0.8em)}.axes line, .edge {stroke:black; fill:none}.node > .sym {fill: black; stroke: none}.site > .sym {stroke: black}.mut text {fill: red; font-style: italic}.mut line {fill: none; stroke: none}.mut .sym {fill: none; stroke: red}.node .mut .sym {stroke-width: 1.5px}.tree text, .tree-sequence text {dominant-baseline: central}.plotbox .lab.lft {text-anchor: end}.plotbox .lab.rgt {text-anchor: start}]]></style></defs><g class=\"tree-sequence\"><g class=\"background\"><path d=\"M56.8,0 l123.2,0 l0,138.2 l0,25 l0,5 l-123.2,0 l0,-5 l0,-25 l0,-138.2z\"/></g><g class=\"axes\"><g class=\"x-axis\"><g class=\"lab\" transform=\"translate(118.4,200)\"><text text-anchor=\"middle\">Genome position</text></g><line x1=\"56.8\" x2=\"180\" y1=\"163.2\" y2=\"163.2\"/><g class=\"tick\" transform=\"translate(56.8 163.2)\"><line x1=\"0\" x2=\"0\" y1=\"0\" y2=\"5\"/><g class=\"lab\" transform=\"translate(0,5)\"><text>0</text></g></g><g class=\"tick\" transform=\"translate(180 163.2)\"><line x1=\"0\" x2=\"0\" y1=\"0\" y2=\"5\"/><g class=\"lab\" transform=\"translate(0,5)\"><text>1</text></g></g></g><g class=\"y-axis\"><g class=\"lab\" transform=\"translate(0,65.7)\"><text text-anchor=\"middle\">Time</text></g><line x1=\"56.8\" x2=\"56.8\" y1=\"121.4\" y2=\"10\"/><g class=\"tick\" transform=\"translate(56.8 121.4)\"><line x1=\"0\" x2=\"-5\" y1=\"0\" y2=\"0\"/><g class=\"lab\" transform=\"translate(-5,0)\"><text text-anchor=\"end\">0.00</text></g></g><g class=\"tick\" transform=\"translate(56.8 108.451)\"><line x1=\"0\" x2=\"-5\" y1=\"0\" y2=\"0\"/><g class=\"lab\" transform=\"translate(-5,0)\"><text text-anchor=\"end\">0.25</text></g></g><g class=\"tick\" transform=\"translate(56.8 92.8646)\"><line x1=\"0\" x2=\"-5\" y1=\"0\" y2=\"0\"/><g class=\"lab\" transform=\"translate(-5,0)\"><text text-anchor=\"end\">0.55</text></g></g><g class=\"tick\" transform=\"translate(56.8 26.8)\"><line x1=\"0\" x2=\"-5\" y1=\"0\" y2=\"0\"/><g class=\"lab\" transform=\"translate(-5,0)\"><text text-anchor=\"end\">1.84</text></g></g></g></g><g class=\"plotbox trees\"><g class=\"tree t0\" transform=\"translate(56.8 0)\"><g class=\"plotbox\"><g class=\"node n6 p0 root\" transform=\"translate(61.6 26.8)\"><g class=\"a6 node n4 p0\" transform=\"translate(-20.8 81.6505)\"><g class=\"a4 i0 leaf node n0 p0 sample\" transform=\"translate(-10.4 12.9495)\"><path class=\"edge\" d=\"M 0 0 V -12.9495 H 10.4\"/><rect class=\"sym\" height=\"6\" width=\"6\" x=\"-3\" y=\"-3\"/><text class=\"lab\" transform=\"translate(0 11)\">0</text></g><g class=\"a4 i1 leaf node n3 p0 sample\" transform=\"translate(10.4 12.9495)\"><path class=\"edge\" d=\"M 0 0 V -12.9495 H -10.4\"/><rect class=\"sym\" height=\"6\" width=\"6\" x=\"-3\" y=\"-3\"/><text class=\"lab\" transform=\"translate(0 11)\">3</text></g><path class=\"edge\" d=\"M 0 0 V -81.6505 H 20.8\"/><circle class=\"sym\" cx=\"0\" cy=\"0\" r=\"3\"/><text class=\"lab lft\" transform=\"translate(-3 -7.0)\">4</text></g><g class=\"a6 node n5 p0\" transform=\"translate(20.8 66.0646)\"><g class=\"a5 i0 leaf node n1 p0 sample\" transform=\"translate(-10.4 28.5354)\"><path class=\"edge\" d=\"M 0 0 V -28.5354 H 10.4\"/><rect class=\"sym\" height=\"6\" width=\"6\" x=\"-3\" y=\"-3\"/><text class=\"lab\" transform=\"translate(0 11)\">1</text></g><g class=\"a5 i1 leaf node n2 p0 sample\" transform=\"translate(10.4 28.5354)\"><path class=\"edge\" d=\"M 0 0 V -28.5354 H -10.4\"/><rect class=\"sym\" height=\"6\" width=\"6\" x=\"-3\" y=\"-3\"/><text class=\"lab\" transform=\"translate(0 11)\">2</text></g><path class=\"edge\" d=\"M 0 0 V -66.0646 H -20.8\"/><circle class=\"sym\" cx=\"0\" cy=\"0\" r=\"3\"/><text class=\"lab rgt\" transform=\"translate(3 -7.0)\">5</text></g><circle class=\"sym\" cx=\"0\" cy=\"0\" r=\"3\"/><text class=\"lab\" transform=\"translate(0 -11)\">6</text></g></g></g></g></g></svg>"
      ],
      "text/plain": [
       "<IPython.core.display.SVG object>"
      ]
     },
     "metadata": {
      "filenames": {
       "image/svg+xml": "/home/runner/work/tskit-site/tskit-site/docs/_build/jupyter_execute/replication_3_0.svg"
      }
     },
     "output_type": "display_data"
    },
    {
     "data": {
      "image/svg+xml": [
       "<svg xmlns=\"http://www.w3.org/2000/svg\" xmlns:ev=\"http://www.w3.org/2001/xml-events\" xmlns:xlink=\"http://www.w3.org/1999/xlink\" baseProfile=\"full\" height=\"200\" version=\"1.1\" width=\"200\"><defs><style type=\"text/css\"><![CDATA[.tree-sequence .background path {fill: #808080; fill-opacity:0}.tree-sequence .background path:nth-child(odd) {fill-opacity:.1}.axes {font-size: 14px}.x-axis .tick .lab {font-weight: bold}.axes, .tree {font-size: 14px; text-anchor:middle}.y-axis line.grid {stroke: #FAFAFA}.y-axis > .lab text {transform: translateX(0.8em) rotate(-90deg)}.x-axis .tick g {transform: translateY(0.9em)}.x-axis > .lab text {transform: translateY(-0.8em)}.axes line, .edge {stroke:black; fill:none}.node > .sym {fill: black; stroke: none}.site > .sym {stroke: black}.mut text {fill: red; font-style: italic}.mut line {fill: none; stroke: none}.mut .sym {fill: none; stroke: red}.node .mut .sym {stroke-width: 1.5px}.tree text, .tree-sequence text {dominant-baseline: central}.plotbox .lab.lft {text-anchor: end}.plotbox .lab.rgt {text-anchor: start}]]></style></defs><g class=\"tree-sequence\"><g class=\"background\"><path d=\"M56.8,0 l123.2,0 l0,138.2 l0,25 l0,5 l-123.2,0 l0,-5 l0,-25 l0,-138.2z\"/></g><g class=\"axes\"><g class=\"x-axis\"><g class=\"lab\" transform=\"translate(118.4,200)\"><text text-anchor=\"middle\">Genome position</text></g><line x1=\"56.8\" x2=\"180\" y1=\"163.2\" y2=\"163.2\"/><g class=\"tick\" transform=\"translate(56.8 163.2)\"><line x1=\"0\" x2=\"0\" y1=\"0\" y2=\"5\"/><g class=\"lab\" transform=\"translate(0,5)\"><text>0</text></g></g><g class=\"tick\" transform=\"translate(180 163.2)\"><line x1=\"0\" x2=\"0\" y1=\"0\" y2=\"5\"/><g class=\"lab\" transform=\"translate(0,5)\"><text>1</text></g></g></g><g class=\"y-axis\"><g class=\"lab\" transform=\"translate(0,65.7)\"><text text-anchor=\"middle\">Time</text></g><line x1=\"56.8\" x2=\"56.8\" y1=\"121.4\" y2=\"10\"/><g class=\"tick\" transform=\"translate(56.8 121.4)\"><line x1=\"0\" x2=\"-5\" y1=\"0\" y2=\"0\"/><g class=\"lab\" transform=\"translate(-5,0)\"><text text-anchor=\"end\">0.00</text></g></g><g class=\"tick\" transform=\"translate(56.8 113.824)\"><line x1=\"0\" x2=\"-5\" y1=\"0\" y2=\"0\"/><g class=\"lab\" transform=\"translate(-5,0)\"><text text-anchor=\"end\">0.10</text></g></g><g class=\"tick\" transform=\"translate(56.8 107.922)\"><line x1=\"0\" x2=\"-5\" y1=\"0\" y2=\"0\"/><g class=\"lab\" transform=\"translate(-5,0)\"><text text-anchor=\"end\">0.18</text></g></g><g class=\"tick\" transform=\"translate(56.8 26.8)\"><line x1=\"0\" x2=\"-5\" y1=\"0\" y2=\"0\"/><g class=\"lab\" transform=\"translate(-5,0)\"><text text-anchor=\"end\">1.25</text></g></g></g></g><g class=\"plotbox trees\"><g class=\"tree t0\" transform=\"translate(56.8 0)\"><g class=\"plotbox\"><g class=\"node n6 p0 root\" transform=\"translate(74.6 26.8)\"><g class=\"a6 i1 leaf node n3 p0 sample\" transform=\"translate(18.2 94.6)\"><path class=\"edge\" d=\"M 0 0 V -94.6 H -18.2\"/><rect class=\"sym\" height=\"6\" width=\"6\" x=\"-3\" y=\"-3\"/><text class=\"lab\" transform=\"translate(0 11)\">3</text></g><g class=\"a6 node n5 p0\" transform=\"translate(-18.2 81.122)\"><g class=\"a5 i1 leaf node n2 p0 sample\" transform=\"translate(15.6 13.478)\"><path class=\"edge\" d=\"M 0 0 V -13.478 H -15.6\"/><rect class=\"sym\" height=\"6\" width=\"6\" x=\"-3\" y=\"-3\"/><text class=\"lab\" transform=\"translate(0 11)\">2</text></g><g class=\"a5 node n4 p0\" transform=\"translate(-15.6 5.90239)\"><g class=\"a4 i0 leaf node n0 p0 sample\" transform=\"translate(-10.4 7.5756)\"><path class=\"edge\" d=\"M 0 0 V -7.5756 H 10.4\"/><rect class=\"sym\" height=\"6\" width=\"6\" x=\"-3\" y=\"-3\"/><text class=\"lab\" transform=\"translate(0 11)\">0</text></g><g class=\"a4 i0 leaf node n1 p0 sample\" transform=\"translate(10.4 7.5756)\"><path class=\"edge\" d=\"M 0 0 V -7.5756 H -10.4\"/><rect class=\"sym\" height=\"6\" width=\"6\" x=\"-3\" y=\"-3\"/><text class=\"lab\" transform=\"translate(0 11)\">1</text></g><path class=\"edge\" d=\"M 0 0 V -5.90239 H 15.6\"/><circle class=\"sym\" cx=\"0\" cy=\"0\" r=\"3\"/><text class=\"lab lft\" transform=\"translate(-3 -7.0)\">4</text></g><path class=\"edge\" d=\"M 0 0 V -81.122 H 18.2\"/><circle class=\"sym\" cx=\"0\" cy=\"0\" r=\"3\"/><text class=\"lab lft\" transform=\"translate(-3 -7.0)\">5</text></g><circle class=\"sym\" cx=\"0\" cy=\"0\" r=\"3\"/><text class=\"lab\" transform=\"translate(0 -11)\">6</text></g></g></g></g></g></svg>"
      ],
      "text/plain": [
       "<IPython.core.display.SVG object>"
      ]
     },
     "metadata": {
      "filenames": {
       "image/svg+xml": "/home/runner/work/tskit-site/tskit-site/docs/_build/jupyter_execute/replication_3_1.svg"
      }
     },
     "output_type": "display_data"
    }
   ],
   "source": [
    "from IPython.display import display, SVG\n",
    "\n",
    "ts1 = msprime.sim_ancestry(2)\n",
    "ts2 = msprime.sim_ancestry(2)\n",
    "display(SVG(ts1.draw_svg(y_axis=True)), SVG(ts2.draw_svg(y_axis=True)))"
   ]
  },
  {
   "cell_type": "markdown",
   "id": "14d272c2",
   "metadata": {},
   "source": [
    "The `random_seed` argument to {func}`.sim_ancestry` allows us specify\n",
    "seeds explicitly, making the output of the simulation fully deterministic:"
   ]
  },
  {
   "cell_type": "code",
   "execution_count": 4,
   "id": "80ac6405",
   "metadata": {},
   "outputs": [
    {
     "data": {
      "image/svg+xml": [
       "<svg xmlns=\"http://www.w3.org/2000/svg\" xmlns:ev=\"http://www.w3.org/2001/xml-events\" xmlns:xlink=\"http://www.w3.org/1999/xlink\" baseProfile=\"full\" height=\"200\" version=\"1.1\" width=\"200\"><defs><style type=\"text/css\"><![CDATA[.tree-sequence .background path {fill: #808080; fill-opacity:0}.tree-sequence .background path:nth-child(odd) {fill-opacity:.1}.axes {font-size: 14px}.x-axis .tick .lab {font-weight: bold}.axes, .tree {font-size: 14px; text-anchor:middle}.y-axis line.grid {stroke: #FAFAFA}.y-axis > .lab text {transform: translateX(0.8em) rotate(-90deg)}.x-axis .tick g {transform: translateY(0.9em)}.x-axis > .lab text {transform: translateY(-0.8em)}.axes line, .edge {stroke:black; fill:none}.node > .sym {fill: black; stroke: none}.site > .sym {stroke: black}.mut text {fill: red; font-style: italic}.mut line {fill: none; stroke: none}.mut .sym {fill: none; stroke: red}.node .mut .sym {stroke-width: 1.5px}.tree text, .tree-sequence text {dominant-baseline: central}.plotbox .lab.lft {text-anchor: end}.plotbox .lab.rgt {text-anchor: start}]]></style></defs><g class=\"tree-sequence\"><g class=\"background\"><path d=\"M56.8,0 l123.2,0 l0,138.2 l0,25 l0,5 l-123.2,0 l0,-5 l0,-25 l0,-138.2z\"/></g><g class=\"axes\"><g class=\"x-axis\"><g class=\"lab\" transform=\"translate(118.4,200)\"><text text-anchor=\"middle\">Genome position</text></g><line x1=\"56.8\" x2=\"180\" y1=\"163.2\" y2=\"163.2\"/><g class=\"tick\" transform=\"translate(56.8 163.2)\"><line x1=\"0\" x2=\"0\" y1=\"0\" y2=\"5\"/><g class=\"lab\" transform=\"translate(0,5)\"><text>0</text></g></g><g class=\"tick\" transform=\"translate(180 163.2)\"><line x1=\"0\" x2=\"0\" y1=\"0\" y2=\"5\"/><g class=\"lab\" transform=\"translate(0,5)\"><text>1</text></g></g></g><g class=\"y-axis\"><g class=\"lab\" transform=\"translate(0,65.7)\"><text text-anchor=\"middle\">Time</text></g><line x1=\"56.8\" x2=\"56.8\" y1=\"121.4\" y2=\"10\"/><g class=\"tick\" transform=\"translate(56.8 121.4)\"><line x1=\"0\" x2=\"-5\" y1=\"0\" y2=\"0\"/><g class=\"lab\" transform=\"translate(-5,0)\"><text text-anchor=\"end\">0.00</text></g></g><g class=\"tick\" transform=\"translate(56.8 114.411)\"><line x1=\"0\" x2=\"-5\" y1=\"0\" y2=\"0\"/><g class=\"lab\" transform=\"translate(-5,0)\"><text text-anchor=\"end\">0.16</text></g></g><g class=\"tick\" transform=\"translate(56.8 108.376)\"><line x1=\"0\" x2=\"-5\" y1=\"0\" y2=\"0\"/><g class=\"lab\" transform=\"translate(-5,0)\"><text text-anchor=\"end\">0.29</text></g></g><g class=\"tick\" transform=\"translate(56.8 26.8)\"><line x1=\"0\" x2=\"-5\" y1=\"0\" y2=\"0\"/><g class=\"lab\" transform=\"translate(-5,0)\"><text text-anchor=\"end\">2.12</text></g></g></g></g><g class=\"plotbox trees\"><g class=\"tree t0\" transform=\"translate(56.8 0)\"><g class=\"plotbox\"><g class=\"node n6 p0 root\" transform=\"translate(61.6 26.8)\"><g class=\"a6 node n4 p0\" transform=\"translate(-20.8 87.6115)\"><g class=\"a4 i0 leaf node n0 p0 sample\" transform=\"translate(-10.4 6.98854)\"><path class=\"edge\" d=\"M 0 0 V -6.98854 H 10.4\"/><rect class=\"sym\" height=\"6\" width=\"6\" x=\"-3\" y=\"-3\"/><text class=\"lab\" transform=\"translate(0 11)\">0</text></g><g class=\"a4 i0 leaf node n1 p0 sample\" transform=\"translate(10.4 6.98854)\"><path class=\"edge\" d=\"M 0 0 V -6.98854 H -10.4\"/><rect class=\"sym\" height=\"6\" width=\"6\" x=\"-3\" y=\"-3\"/><text class=\"lab\" transform=\"translate(0 11)\">1</text></g><path class=\"edge\" d=\"M 0 0 V -87.6115 H 20.8\"/><circle class=\"sym\" cx=\"0\" cy=\"0\" r=\"3\"/><text class=\"lab lft\" transform=\"translate(-3 -7.0)\">4</text></g><g class=\"a6 node n5 p0\" transform=\"translate(20.8 81.5756)\"><g class=\"a5 i1 leaf node n2 p0 sample\" transform=\"translate(-10.4 13.0244)\"><path class=\"edge\" d=\"M 0 0 V -13.0244 H 10.4\"/><rect class=\"sym\" height=\"6\" width=\"6\" x=\"-3\" y=\"-3\"/><text class=\"lab\" transform=\"translate(0 11)\">2</text></g><g class=\"a5 i1 leaf node n3 p0 sample\" transform=\"translate(10.4 13.0244)\"><path class=\"edge\" d=\"M 0 0 V -13.0244 H -10.4\"/><rect class=\"sym\" height=\"6\" width=\"6\" x=\"-3\" y=\"-3\"/><text class=\"lab\" transform=\"translate(0 11)\">3</text></g><path class=\"edge\" d=\"M 0 0 V -81.5756 H -20.8\"/><circle class=\"sym\" cx=\"0\" cy=\"0\" r=\"3\"/><text class=\"lab rgt\" transform=\"translate(3 -7.0)\">5</text></g><circle class=\"sym\" cx=\"0\" cy=\"0\" r=\"3\"/><text class=\"lab\" transform=\"translate(0 -11)\">6</text></g></g></g></g></g></svg>"
      ],
      "text/plain": [
       "<IPython.core.display.SVG object>"
      ]
     },
     "metadata": {
      "filenames": {
       "image/svg+xml": "/home/runner/work/tskit-site/tskit-site/docs/_build/jupyter_execute/replication_5_0.svg"
      }
     },
     "output_type": "display_data"
    },
    {
     "data": {
      "image/svg+xml": [
       "<svg xmlns=\"http://www.w3.org/2000/svg\" xmlns:ev=\"http://www.w3.org/2001/xml-events\" xmlns:xlink=\"http://www.w3.org/1999/xlink\" baseProfile=\"full\" height=\"200\" version=\"1.1\" width=\"200\"><defs><style type=\"text/css\"><![CDATA[.tree-sequence .background path {fill: #808080; fill-opacity:0}.tree-sequence .background path:nth-child(odd) {fill-opacity:.1}.axes {font-size: 14px}.x-axis .tick .lab {font-weight: bold}.axes, .tree {font-size: 14px; text-anchor:middle}.y-axis line.grid {stroke: #FAFAFA}.y-axis > .lab text {transform: translateX(0.8em) rotate(-90deg)}.x-axis .tick g {transform: translateY(0.9em)}.x-axis > .lab text {transform: translateY(-0.8em)}.axes line, .edge {stroke:black; fill:none}.node > .sym {fill: black; stroke: none}.site > .sym {stroke: black}.mut text {fill: red; font-style: italic}.mut line {fill: none; stroke: none}.mut .sym {fill: none; stroke: red}.node .mut .sym {stroke-width: 1.5px}.tree text, .tree-sequence text {dominant-baseline: central}.plotbox .lab.lft {text-anchor: end}.plotbox .lab.rgt {text-anchor: start}]]></style></defs><g class=\"tree-sequence\"><g class=\"background\"><path d=\"M56.8,0 l123.2,0 l0,138.2 l0,25 l0,5 l-123.2,0 l0,-5 l0,-25 l0,-138.2z\"/></g><g class=\"axes\"><g class=\"x-axis\"><g class=\"lab\" transform=\"translate(118.4,200)\"><text text-anchor=\"middle\">Genome position</text></g><line x1=\"56.8\" x2=\"180\" y1=\"163.2\" y2=\"163.2\"/><g class=\"tick\" transform=\"translate(56.8 163.2)\"><line x1=\"0\" x2=\"0\" y1=\"0\" y2=\"5\"/><g class=\"lab\" transform=\"translate(0,5)\"><text>0</text></g></g><g class=\"tick\" transform=\"translate(180 163.2)\"><line x1=\"0\" x2=\"0\" y1=\"0\" y2=\"5\"/><g class=\"lab\" transform=\"translate(0,5)\"><text>1</text></g></g></g><g class=\"y-axis\"><g class=\"lab\" transform=\"translate(0,65.7)\"><text text-anchor=\"middle\">Time</text></g><line x1=\"56.8\" x2=\"56.8\" y1=\"121.4\" y2=\"10\"/><g class=\"tick\" transform=\"translate(56.8 121.4)\"><line x1=\"0\" x2=\"-5\" y1=\"0\" y2=\"0\"/><g class=\"lab\" transform=\"translate(-5,0)\"><text text-anchor=\"end\">0.00</text></g></g><g class=\"tick\" transform=\"translate(56.8 114.411)\"><line x1=\"0\" x2=\"-5\" y1=\"0\" y2=\"0\"/><g class=\"lab\" transform=\"translate(-5,0)\"><text text-anchor=\"end\">0.16</text></g></g><g class=\"tick\" transform=\"translate(56.8 108.376)\"><line x1=\"0\" x2=\"-5\" y1=\"0\" y2=\"0\"/><g class=\"lab\" transform=\"translate(-5,0)\"><text text-anchor=\"end\">0.29</text></g></g><g class=\"tick\" transform=\"translate(56.8 26.8)\"><line x1=\"0\" x2=\"-5\" y1=\"0\" y2=\"0\"/><g class=\"lab\" transform=\"translate(-5,0)\"><text text-anchor=\"end\">2.12</text></g></g></g></g><g class=\"plotbox trees\"><g class=\"tree t0\" transform=\"translate(56.8 0)\"><g class=\"plotbox\"><g class=\"node n6 p0 root\" transform=\"translate(61.6 26.8)\"><g class=\"a6 node n4 p0\" transform=\"translate(-20.8 87.6115)\"><g class=\"a4 i0 leaf node n0 p0 sample\" transform=\"translate(-10.4 6.98854)\"><path class=\"edge\" d=\"M 0 0 V -6.98854 H 10.4\"/><rect class=\"sym\" height=\"6\" width=\"6\" x=\"-3\" y=\"-3\"/><text class=\"lab\" transform=\"translate(0 11)\">0</text></g><g class=\"a4 i0 leaf node n1 p0 sample\" transform=\"translate(10.4 6.98854)\"><path class=\"edge\" d=\"M 0 0 V -6.98854 H -10.4\"/><rect class=\"sym\" height=\"6\" width=\"6\" x=\"-3\" y=\"-3\"/><text class=\"lab\" transform=\"translate(0 11)\">1</text></g><path class=\"edge\" d=\"M 0 0 V -87.6115 H 20.8\"/><circle class=\"sym\" cx=\"0\" cy=\"0\" r=\"3\"/><text class=\"lab lft\" transform=\"translate(-3 -7.0)\">4</text></g><g class=\"a6 node n5 p0\" transform=\"translate(20.8 81.5756)\"><g class=\"a5 i1 leaf node n2 p0 sample\" transform=\"translate(-10.4 13.0244)\"><path class=\"edge\" d=\"M 0 0 V -13.0244 H 10.4\"/><rect class=\"sym\" height=\"6\" width=\"6\" x=\"-3\" y=\"-3\"/><text class=\"lab\" transform=\"translate(0 11)\">2</text></g><g class=\"a5 i1 leaf node n3 p0 sample\" transform=\"translate(10.4 13.0244)\"><path class=\"edge\" d=\"M 0 0 V -13.0244 H -10.4\"/><rect class=\"sym\" height=\"6\" width=\"6\" x=\"-3\" y=\"-3\"/><text class=\"lab\" transform=\"translate(0 11)\">3</text></g><path class=\"edge\" d=\"M 0 0 V -81.5756 H -20.8\"/><circle class=\"sym\" cx=\"0\" cy=\"0\" r=\"3\"/><text class=\"lab rgt\" transform=\"translate(3 -7.0)\">5</text></g><circle class=\"sym\" cx=\"0\" cy=\"0\" r=\"3\"/><text class=\"lab\" transform=\"translate(0 -11)\">6</text></g></g></g></g></g></svg>"
      ],
      "text/plain": [
       "<IPython.core.display.SVG object>"
      ]
     },
     "metadata": {
      "filenames": {
       "image/svg+xml": "/home/runner/work/tskit-site/tskit-site/docs/_build/jupyter_execute/replication_5_1.svg"
      }
     },
     "output_type": "display_data"
    }
   ],
   "source": [
    "ts1 = msprime.sim_ancestry(2, random_seed=42)\n",
    "ts2 = msprime.sim_ancestry(2, random_seed=42)\n",
    "display(SVG(ts1.draw_svg(y_axis=True)), SVG(ts2.draw_svg(y_axis=True)))"
   ]
  },
  {
   "cell_type": "markdown",
   "id": "d4b20d50",
   "metadata": {},
   "source": [
    "Similarly, if we run two different {ref}`mutation simulations<sec_mutations>`\n",
    "on the same ancestry, we'll get different sets of mutations (and, therefore,\n",
    "genome sequences):"
   ]
  },
  {
   "cell_type": "code",
   "execution_count": 5,
   "id": "8bea8633",
   "metadata": {},
   "outputs": [
    {
     "data": {
      "image/svg+xml": [
       "<svg xmlns=\"http://www.w3.org/2000/svg\" xmlns:ev=\"http://www.w3.org/2001/xml-events\" xmlns:xlink=\"http://www.w3.org/1999/xlink\" baseProfile=\"full\" height=\"200\" version=\"1.1\" width=\"200\"><defs><style type=\"text/css\"><![CDATA[.tree-sequence .background path {fill: #808080; fill-opacity:0}.tree-sequence .background path:nth-child(odd) {fill-opacity:.1}.axes {font-size: 14px}.x-axis .tick .lab {font-weight: bold}.axes, .tree {font-size: 14px; text-anchor:middle}.y-axis line.grid {stroke: #FAFAFA}.y-axis > .lab text {transform: translateX(0.8em) rotate(-90deg)}.x-axis .tick g {transform: translateY(0.9em)}.x-axis > .lab text {transform: translateY(-0.8em)}.axes line, .edge {stroke:black; fill:none}.node > .sym {fill: black; stroke: none}.site > .sym {stroke: black}.mut text {fill: red; font-style: italic}.mut line {fill: none; stroke: none}.mut .sym {fill: none; stroke: red}.node .mut .sym {stroke-width: 1.5px}.tree text, .tree-sequence text {dominant-baseline: central}.plotbox .lab.lft {text-anchor: end}.plotbox .lab.rgt {text-anchor: start}]]></style></defs><g class=\"tree-sequence\"><g class=\"background\"><path d=\"M56.8,0 l123.2,0 l0,138.2 l0,25 l0,5 l-123.2,0 l0,-5 l0,-25 l0,-138.2z\"/></g><g class=\"axes\"><g class=\"x-axis\"><g class=\"lab\" transform=\"translate(118.4,200)\"><text text-anchor=\"middle\">Genome position</text></g><line x1=\"56.8\" x2=\"180\" y1=\"163.2\" y2=\"163.2\"/><g class=\"tick\" transform=\"translate(56.8 163.2)\"><line x1=\"0\" x2=\"0\" y1=\"0\" y2=\"5\"/><g class=\"lab\" transform=\"translate(0,5)\"><text>0</text></g></g><g class=\"tick\" transform=\"translate(180 163.2)\"><line x1=\"0\" x2=\"0\" y1=\"0\" y2=\"5\"/><g class=\"lab\" transform=\"translate(0,5)\"><text>10</text></g></g><g class=\"site s0\" transform=\"translate(56.8 163.2)\"><line class=\"sym\" x1=\"0\" x2=\"0\" y1=\"0\" y2=\"-10\"/><g class=\"mut m0\"><polyline class=\"sym\" points=\"2.5,-6.5 0,-1.5 -2.5,-6.5\"/></g></g><g class=\"site s1\" transform=\"translate(118.4 163.2)\"><line class=\"sym\" x1=\"0\" x2=\"0\" y1=\"0\" y2=\"-10\"/><g class=\"mut m1\"><polyline class=\"sym\" points=\"2.5,-6.5 0,-1.5 -2.5,-6.5\"/></g></g><g class=\"site s2\" transform=\"translate(130.72 163.2)\"><line class=\"sym\" x1=\"0\" x2=\"0\" y1=\"0\" y2=\"-10\"/><g class=\"mut m2\"><polyline class=\"sym\" points=\"2.5,-6.5 0,-1.5 -2.5,-6.5\"/></g></g></g><g class=\"y-axis\"><g class=\"lab\" transform=\"translate(0,65.7)\"><text text-anchor=\"middle\">Time</text></g><line x1=\"56.8\" x2=\"56.8\" y1=\"121.4\" y2=\"10\"/><g class=\"tick\" transform=\"translate(56.8 121.4)\"><line x1=\"0\" x2=\"-5\" y1=\"0\" y2=\"0\"/><g class=\"lab\" transform=\"translate(-5,0)\"><text text-anchor=\"end\">0.00</text></g></g><g class=\"tick\" transform=\"translate(56.8 114.411)\"><line x1=\"0\" x2=\"-5\" y1=\"0\" y2=\"0\"/><g class=\"lab\" transform=\"translate(-5,0)\"><text text-anchor=\"end\">0.16</text></g></g><g class=\"tick\" transform=\"translate(56.8 108.376)\"><line x1=\"0\" x2=\"-5\" y1=\"0\" y2=\"0\"/><g class=\"lab\" transform=\"translate(-5,0)\"><text text-anchor=\"end\">0.29</text></g></g><g class=\"tick\" transform=\"translate(56.8 26.8)\"><line x1=\"0\" x2=\"-5\" y1=\"0\" y2=\"0\"/><g class=\"lab\" transform=\"translate(-5,0)\"><text text-anchor=\"end\">2.12</text></g></g></g></g><g class=\"plotbox trees\"><g class=\"tree t0\" transform=\"translate(56.8 0)\"><g class=\"plotbox\"><g class=\"node n6 p0 root\" transform=\"translate(61.6 26.8)\"><g class=\"a6 node n4 p0\" transform=\"translate(-20.8 87.6115)\"><g class=\"a4 i0 leaf node n0 p0 sample\" transform=\"translate(-10.4 6.98854)\"><path class=\"edge\" d=\"M 0 0 V -6.98854 H 10.4\"/><rect class=\"sym\" height=\"6\" width=\"6\" x=\"-3\" y=\"-3\"/><text class=\"lab\" transform=\"translate(0 11)\">0</text></g><g class=\"a4 i0 leaf node n1 p0 sample\" transform=\"translate(10.4 6.98854)\"><path class=\"edge\" d=\"M 0 0 V -6.98854 H -10.4\"/><rect class=\"sym\" height=\"6\" width=\"6\" x=\"-3\" y=\"-3\"/><text class=\"lab\" transform=\"translate(0 11)\">1</text></g><path class=\"edge\" d=\"M 0 0 V -87.6115 H 20.8\"/><circle class=\"sym\" cx=\"0\" cy=\"0\" r=\"3\"/><text class=\"lab lft\" transform=\"translate(-3 -7.0)\">4</text></g><g class=\"a6 m0 m1 m2 node n5 p0 s0 s1 s2\" transform=\"translate(20.8 81.5756)\"><g class=\"a5 i1 leaf node n2 p0 sample\" transform=\"translate(-10.4 13.0244)\"><path class=\"edge\" d=\"M 0 0 V -13.0244 H 10.4\"/><rect class=\"sym\" height=\"6\" width=\"6\" x=\"-3\" y=\"-3\"/><text class=\"lab\" transform=\"translate(0 11)\">2</text></g><g class=\"a5 i1 leaf node n3 p0 sample\" transform=\"translate(10.4 13.0244)\"><path class=\"edge\" d=\"M 0 0 V -13.0244 H -10.4\"/><rect class=\"sym\" height=\"6\" width=\"6\" x=\"-3\" y=\"-3\"/><text class=\"lab\" transform=\"translate(0 11)\">3</text></g><path class=\"edge\" d=\"M 0 0 V -81.5756 H -20.8\"/><g class=\"mut m0 s0\" transform=\"translate(0 -74.2433)\"><line x1=\"0\" x2=\"0\" y1=\"0\" y2=\"74.2433\"/><path class=\"sym\" d=\"M -3,-3 l 6,6 M -3,3 l 6,-6\"/><text class=\"lab rgt\" transform=\"translate(5 0)\">0</text></g><g class=\"mut m2 s2\" transform=\"translate(0 -66.6794)\"><line x1=\"0\" x2=\"0\" y1=\"0\" y2=\"66.6794\"/><path class=\"sym\" d=\"M -3,-3 l 6,6 M -3,3 l 6,-6\"/><text class=\"lab rgt\" transform=\"translate(5 0)\">2</text></g><g class=\"mut m1 s1\" transform=\"translate(0 -50.4812)\"><line x1=\"0\" x2=\"0\" y1=\"0\" y2=\"50.4812\"/><path class=\"sym\" d=\"M -3,-3 l 6,6 M -3,3 l 6,-6\"/><text class=\"lab rgt\" transform=\"translate(5 0)\">1</text></g><circle class=\"sym\" cx=\"0\" cy=\"0\" r=\"3\"/><text class=\"lab rgt\" transform=\"translate(3 -7.0)\">5</text></g><circle class=\"sym\" cx=\"0\" cy=\"0\" r=\"3\"/><text class=\"lab\" transform=\"translate(0 -11)\">6</text></g></g></g></g></g></svg>"
      ],
      "text/plain": [
       "<IPython.core.display.SVG object>"
      ]
     },
     "metadata": {
      "filenames": {
       "image/svg+xml": "/home/runner/work/tskit-site/tskit-site/docs/_build/jupyter_execute/replication_7_0.svg"
      }
     },
     "output_type": "display_data"
    },
    {
     "data": {
      "image/svg+xml": [
       "<svg xmlns=\"http://www.w3.org/2000/svg\" xmlns:ev=\"http://www.w3.org/2001/xml-events\" xmlns:xlink=\"http://www.w3.org/1999/xlink\" baseProfile=\"full\" height=\"200\" version=\"1.1\" width=\"200\"><defs><style type=\"text/css\"><![CDATA[.tree-sequence .background path {fill: #808080; fill-opacity:0}.tree-sequence .background path:nth-child(odd) {fill-opacity:.1}.axes {font-size: 14px}.x-axis .tick .lab {font-weight: bold}.axes, .tree {font-size: 14px; text-anchor:middle}.y-axis line.grid {stroke: #FAFAFA}.y-axis > .lab text {transform: translateX(0.8em) rotate(-90deg)}.x-axis .tick g {transform: translateY(0.9em)}.x-axis > .lab text {transform: translateY(-0.8em)}.axes line, .edge {stroke:black; fill:none}.node > .sym {fill: black; stroke: none}.site > .sym {stroke: black}.mut text {fill: red; font-style: italic}.mut line {fill: none; stroke: none}.mut .sym {fill: none; stroke: red}.node .mut .sym {stroke-width: 1.5px}.tree text, .tree-sequence text {dominant-baseline: central}.plotbox .lab.lft {text-anchor: end}.plotbox .lab.rgt {text-anchor: start}]]></style></defs><g class=\"tree-sequence\"><g class=\"background\"><path d=\"M56.8,0 l123.2,0 l0,138.2 l0,25 l0,5 l-123.2,0 l0,-5 l0,-25 l0,-138.2z\"/></g><g class=\"axes\"><g class=\"x-axis\"><g class=\"lab\" transform=\"translate(118.4,200)\"><text text-anchor=\"middle\">Genome position</text></g><line x1=\"56.8\" x2=\"180\" y1=\"163.2\" y2=\"163.2\"/><g class=\"tick\" transform=\"translate(56.8 163.2)\"><line x1=\"0\" x2=\"0\" y1=\"0\" y2=\"5\"/><g class=\"lab\" transform=\"translate(0,5)\"><text>0</text></g></g><g class=\"tick\" transform=\"translate(180 163.2)\"><line x1=\"0\" x2=\"0\" y1=\"0\" y2=\"5\"/><g class=\"lab\" transform=\"translate(0,5)\"><text>10</text></g></g><g class=\"site s0\" transform=\"translate(106.08 163.2)\"><line class=\"sym\" x1=\"0\" x2=\"0\" y1=\"0\" y2=\"-10\"/><g class=\"mut m0\"><polyline class=\"sym\" points=\"2.5,-6.5 0,-1.5 -2.5,-6.5\"/></g></g><g class=\"site s1\" transform=\"translate(130.72 163.2)\"><line class=\"sym\" x1=\"0\" x2=\"0\" y1=\"0\" y2=\"-10\"/><g class=\"mut m1\"><polyline class=\"sym\" points=\"2.5,-6.5 0,-1.5 -2.5,-6.5\"/></g></g><g class=\"site s2\" transform=\"translate(155.36 163.2)\"><line class=\"sym\" x1=\"0\" x2=\"0\" y1=\"0\" y2=\"-10\"/><g class=\"mut m3\"><polyline class=\"sym\" points=\"2.5,-6.5 0,-1.5 -2.5,-6.5\"/></g><g class=\"mut m2\"><polyline class=\"sym\" points=\"2.5,-10.5 0,-5.5 -2.5,-10.5\"/></g></g></g><g class=\"y-axis\"><g class=\"lab\" transform=\"translate(0,65.7)\"><text text-anchor=\"middle\">Time</text></g><line x1=\"56.8\" x2=\"56.8\" y1=\"121.4\" y2=\"10\"/><g class=\"tick\" transform=\"translate(56.8 121.4)\"><line x1=\"0\" x2=\"-5\" y1=\"0\" y2=\"0\"/><g class=\"lab\" transform=\"translate(-5,0)\"><text text-anchor=\"end\">0.00</text></g></g><g class=\"tick\" transform=\"translate(56.8 114.411)\"><line x1=\"0\" x2=\"-5\" y1=\"0\" y2=\"0\"/><g class=\"lab\" transform=\"translate(-5,0)\"><text text-anchor=\"end\">0.16</text></g></g><g class=\"tick\" transform=\"translate(56.8 108.376)\"><line x1=\"0\" x2=\"-5\" y1=\"0\" y2=\"0\"/><g class=\"lab\" transform=\"translate(-5,0)\"><text text-anchor=\"end\">0.29</text></g></g><g class=\"tick\" transform=\"translate(56.8 26.8)\"><line x1=\"0\" x2=\"-5\" y1=\"0\" y2=\"0\"/><g class=\"lab\" transform=\"translate(-5,0)\"><text text-anchor=\"end\">2.12</text></g></g></g></g><g class=\"plotbox trees\"><g class=\"tree t0\" transform=\"translate(56.8 0)\"><g class=\"plotbox\"><g class=\"node n6 p0 root\" transform=\"translate(61.6 26.8)\"><g class=\"a6 m1 m2 node n4 p0 s1 s2\" transform=\"translate(-20.8 87.6115)\"><g class=\"a4 i0 leaf node n0 p0 sample\" transform=\"translate(-10.4 6.98854)\"><path class=\"edge\" d=\"M 0 0 V -6.98854 H 10.4\"/><rect class=\"sym\" height=\"6\" width=\"6\" x=\"-3\" y=\"-3\"/><text class=\"lab\" transform=\"translate(0 11)\">0</text></g><g class=\"a4 i0 leaf node n1 p0 sample\" transform=\"translate(10.4 6.98854)\"><path class=\"edge\" d=\"M 0 0 V -6.98854 H -10.4\"/><rect class=\"sym\" height=\"6\" width=\"6\" x=\"-3\" y=\"-3\"/><text class=\"lab\" transform=\"translate(0 11)\">1</text></g><path class=\"edge\" d=\"M 0 0 V -87.6115 H 20.8\"/><g class=\"mut m2 s2\" transform=\"translate(0 -54.7687)\"><line x1=\"0\" x2=\"0\" y1=\"0\" y2=\"54.7687\"/><path class=\"sym\" d=\"M -3,-3 l 6,6 M -3,3 l 6,-6\"/><text class=\"lab lft\" transform=\"translate(-5 0)\">2</text></g><g class=\"mut m1 s1\" transform=\"translate(0 -49.38)\"><line x1=\"0\" x2=\"0\" y1=\"0\" y2=\"49.38\"/><path class=\"sym\" d=\"M -3,-3 l 6,6 M -3,3 l 6,-6\"/><text class=\"lab lft\" transform=\"translate(-5 0)\">1</text></g><circle class=\"sym\" cx=\"0\" cy=\"0\" r=\"3\"/><text class=\"lab lft\" transform=\"translate(-3 -7.0)\">4</text></g><g class=\"a6 m0 m3 node n5 p0 s0 s2\" transform=\"translate(20.8 81.5756)\"><g class=\"a5 i1 leaf node n2 p0 sample\" transform=\"translate(-10.4 13.0244)\"><path class=\"edge\" d=\"M 0 0 V -13.0244 H 10.4\"/><rect class=\"sym\" height=\"6\" width=\"6\" x=\"-3\" y=\"-3\"/><text class=\"lab\" transform=\"translate(0 11)\">2</text></g><g class=\"a5 i1 leaf node n3 p0 sample\" transform=\"translate(10.4 13.0244)\"><path class=\"edge\" d=\"M 0 0 V -13.0244 H -10.4\"/><rect class=\"sym\" height=\"6\" width=\"6\" x=\"-3\" y=\"-3\"/><text class=\"lab\" transform=\"translate(0 11)\">3</text></g><path class=\"edge\" d=\"M 0 0 V -81.5756 H -20.8\"/><g class=\"mut m0 s0\" transform=\"translate(0 -58.2748)\"><line x1=\"0\" x2=\"0\" y1=\"0\" y2=\"58.2748\"/><path class=\"sym\" d=\"M -3,-3 l 6,6 M -3,3 l 6,-6\"/><text class=\"lab rgt\" transform=\"translate(5 0)\">0</text></g><g class=\"mut m3 s2\" transform=\"translate(0 -45.4195)\"><line x1=\"0\" x2=\"0\" y1=\"0\" y2=\"45.4195\"/><path class=\"sym\" d=\"M -3,-3 l 6,6 M -3,3 l 6,-6\"/><text class=\"lab rgt\" transform=\"translate(5 0)\">3</text></g><circle class=\"sym\" cx=\"0\" cy=\"0\" r=\"3\"/><text class=\"lab rgt\" transform=\"translate(3 -7.0)\">5</text></g><circle class=\"sym\" cx=\"0\" cy=\"0\" r=\"3\"/><text class=\"lab\" transform=\"translate(0 -11)\">6</text></g></g></g></g></g></svg>"
      ],
      "text/plain": [
       "<IPython.core.display.SVG object>"
      ]
     },
     "metadata": {
      "filenames": {
       "image/svg+xml": "/home/runner/work/tskit-site/tskit-site/docs/_build/jupyter_execute/replication_7_1.svg"
      }
     },
     "output_type": "display_data"
    }
   ],
   "source": [
    "ts = msprime.sim_ancestry(2, sequence_length=10, random_seed=42)\n",
    "mts1 = msprime.sim_mutations(ts, rate=0.1)\n",
    "mts2 = msprime.sim_mutations(ts, rate=0.1)\n",
    "display(SVG(mts1.draw_svg(y_axis=True)), SVG(mts2.draw_svg(y_axis=True)))"
   ]
  },
  {
   "cell_type": "markdown",
   "id": "0c37b66f",
   "metadata": {},
   "source": [
    "We can see that mutations occur at different positions along the genome,\n",
    "and also on different branches of the trees. If we provide\n",
    "the ``random_seed`` argument to {func}`.sim_mutations`, we will get\n",
    "precisely the same result in both simulations:"
   ]
  },
  {
   "cell_type": "code",
   "execution_count": 6,
   "id": "b57414ec",
   "metadata": {},
   "outputs": [
    {
     "data": {
      "image/svg+xml": [
       "<svg xmlns=\"http://www.w3.org/2000/svg\" xmlns:ev=\"http://www.w3.org/2001/xml-events\" xmlns:xlink=\"http://www.w3.org/1999/xlink\" baseProfile=\"full\" height=\"200\" version=\"1.1\" width=\"200\"><defs><style type=\"text/css\"><![CDATA[.tree-sequence .background path {fill: #808080; fill-opacity:0}.tree-sequence .background path:nth-child(odd) {fill-opacity:.1}.axes {font-size: 14px}.x-axis .tick .lab {font-weight: bold}.axes, .tree {font-size: 14px; text-anchor:middle}.y-axis line.grid {stroke: #FAFAFA}.y-axis > .lab text {transform: translateX(0.8em) rotate(-90deg)}.x-axis .tick g {transform: translateY(0.9em)}.x-axis > .lab text {transform: translateY(-0.8em)}.axes line, .edge {stroke:black; fill:none}.node > .sym {fill: black; stroke: none}.site > .sym {stroke: black}.mut text {fill: red; font-style: italic}.mut line {fill: none; stroke: none}.mut .sym {fill: none; stroke: red}.node .mut .sym {stroke-width: 1.5px}.tree text, .tree-sequence text {dominant-baseline: central}.plotbox .lab.lft {text-anchor: end}.plotbox .lab.rgt {text-anchor: start}]]></style></defs><g class=\"tree-sequence\"><g class=\"background\"><path d=\"M56.8,0 l123.2,0 l0,138.2 l0,25 l0,5 l-123.2,0 l0,-5 l0,-25 l0,-138.2z\"/></g><g class=\"axes\"><g class=\"x-axis\"><g class=\"lab\" transform=\"translate(118.4,200)\"><text text-anchor=\"middle\">Genome position</text></g><line x1=\"56.8\" x2=\"180\" y1=\"163.2\" y2=\"163.2\"/><g class=\"tick\" transform=\"translate(56.8 163.2)\"><line x1=\"0\" x2=\"0\" y1=\"0\" y2=\"5\"/><g class=\"lab\" transform=\"translate(0,5)\"><text>0</text></g></g><g class=\"tick\" transform=\"translate(180 163.2)\"><line x1=\"0\" x2=\"0\" y1=\"0\" y2=\"5\"/><g class=\"lab\" transform=\"translate(0,5)\"><text>10</text></g></g><g class=\"site s0\" transform=\"translate(81.44 163.2)\"><line class=\"sym\" x1=\"0\" x2=\"0\" y1=\"0\" y2=\"-10\"/><g class=\"mut m3\"><polyline class=\"sym\" points=\"2.5,-6.5 0,-1.5 -2.5,-6.5\"/></g><g class=\"mut m2\"><polyline class=\"sym\" points=\"2.5,-10.5 0,-5.5 -2.5,-10.5\"/></g><g class=\"mut m1\"><polyline class=\"sym\" points=\"2.5,-14.5 0,-9.5 -2.5,-14.5\"/></g><g class=\"mut m0\"><polyline class=\"sym\" points=\"2.5,-18.5 0,-13.5 -2.5,-18.5\"/></g></g><g class=\"site s1\" transform=\"translate(130.72 163.2)\"><line class=\"sym\" x1=\"0\" x2=\"0\" y1=\"0\" y2=\"-10\"/><g class=\"mut m4\"><polyline class=\"sym\" points=\"2.5,-6.5 0,-1.5 -2.5,-6.5\"/></g></g><g class=\"site s2\" transform=\"translate(143.04 163.2)\"><line class=\"sym\" x1=\"0\" x2=\"0\" y1=\"0\" y2=\"-10\"/><g class=\"mut m5\"><polyline class=\"sym\" points=\"2.5,-6.5 0,-1.5 -2.5,-6.5\"/></g></g></g><g class=\"y-axis\"><g class=\"lab\" transform=\"translate(0,65.7)\"><text text-anchor=\"middle\">Time</text></g><line x1=\"56.8\" x2=\"56.8\" y1=\"121.4\" y2=\"10\"/><g class=\"tick\" transform=\"translate(56.8 121.4)\"><line x1=\"0\" x2=\"-5\" y1=\"0\" y2=\"0\"/><g class=\"lab\" transform=\"translate(-5,0)\"><text text-anchor=\"end\">0.00</text></g></g><g class=\"tick\" transform=\"translate(56.8 114.411)\"><line x1=\"0\" x2=\"-5\" y1=\"0\" y2=\"0\"/><g class=\"lab\" transform=\"translate(-5,0)\"><text text-anchor=\"end\">0.16</text></g></g><g class=\"tick\" transform=\"translate(56.8 108.376)\"><line x1=\"0\" x2=\"-5\" y1=\"0\" y2=\"0\"/><g class=\"lab\" transform=\"translate(-5,0)\"><text text-anchor=\"end\">0.29</text></g></g><g class=\"tick\" transform=\"translate(56.8 26.8)\"><line x1=\"0\" x2=\"-5\" y1=\"0\" y2=\"0\"/><g class=\"lab\" transform=\"translate(-5,0)\"><text text-anchor=\"end\">2.12</text></g></g></g></g><g class=\"plotbox trees\"><g class=\"tree t0\" transform=\"translate(56.8 0)\"><g class=\"plotbox\"><g class=\"node n6 p0 root\" transform=\"translate(61.6 26.8)\"><g class=\"a6 m1 m2 m3 node n4 p0 s0\" transform=\"translate(-20.8 87.6115)\"><g class=\"a4 i0 leaf node n0 p0 sample\" transform=\"translate(-10.4 6.98854)\"><path class=\"edge\" d=\"M 0 0 V -6.98854 H 10.4\"/><rect class=\"sym\" height=\"6\" width=\"6\" x=\"-3\" y=\"-3\"/><text class=\"lab\" transform=\"translate(0 11)\">0</text></g><g class=\"a4 i0 leaf node n1 p0 sample\" transform=\"translate(10.4 6.98854)\"><path class=\"edge\" d=\"M 0 0 V -6.98854 H -10.4\"/><rect class=\"sym\" height=\"6\" width=\"6\" x=\"-3\" y=\"-3\"/><text class=\"lab\" transform=\"translate(0 11)\">1</text></g><path class=\"edge\" d=\"M 0 0 V -87.6115 H 20.8\"/><g class=\"mut m1 s0\" transform=\"translate(0 -36.235)\"><line x1=\"0\" x2=\"0\" y1=\"0\" y2=\"36.235\"/><path class=\"sym\" d=\"M -3,-3 l 6,6 M -3,3 l 6,-6\"/><text class=\"lab lft\" transform=\"translate(-5 0)\">1</text></g><g class=\"mut m2 s0\" transform=\"translate(0 -8.75489)\"><line x1=\"0\" x2=\"0\" y1=\"0\" y2=\"8.75489\"/><path class=\"sym\" d=\"M -3,-3 l 6,6 M -3,3 l 6,-6\"/><text class=\"lab lft\" transform=\"translate(-5 0)\">2</text></g><g class=\"mut m3 s0\" transform=\"translate(0 -4.27656)\"><line x1=\"0\" x2=\"0\" y1=\"0\" y2=\"4.27656\"/><path class=\"sym\" d=\"M -3,-3 l 6,6 M -3,3 l 6,-6\"/><text class=\"lab lft\" transform=\"translate(-5 0)\">3</text></g><circle class=\"sym\" cx=\"0\" cy=\"0\" r=\"3\"/><text class=\"lab lft\" transform=\"translate(-3 -7.0)\">4</text></g><g class=\"a6 m0 m5 node n5 p0 s0 s2\" transform=\"translate(20.8 81.5756)\"><g class=\"a5 i1 leaf m4 node n2 p0 s1 sample\" transform=\"translate(-10.4 13.0244)\"><path class=\"edge\" d=\"M 0 0 V -13.0244 H 10.4\"/><g class=\"mut m4 s1\" transform=\"translate(0 -1.67985)\"><line x1=\"0\" x2=\"0\" y1=\"0\" y2=\"1.67985\"/><path class=\"sym\" d=\"M -3,-3 l 6,6 M -3,3 l 6,-6\"/><text class=\"lab lft\" transform=\"translate(-5 0)\">4</text></g><rect class=\"sym\" height=\"6\" width=\"6\" x=\"-3\" y=\"-3\"/><text class=\"lab\" transform=\"translate(0 11)\">2</text></g><g class=\"a5 i1 leaf node n3 p0 sample\" transform=\"translate(10.4 13.0244)\"><path class=\"edge\" d=\"M 0 0 V -13.0244 H -10.4\"/><rect class=\"sym\" height=\"6\" width=\"6\" x=\"-3\" y=\"-3\"/><text class=\"lab\" transform=\"translate(0 11)\">3</text></g><path class=\"edge\" d=\"M 0 0 V -81.5756 H -20.8\"/><g class=\"mut m5 s2\" transform=\"translate(0 -66.8884)\"><line x1=\"0\" x2=\"0\" y1=\"0\" y2=\"66.8884\"/><path class=\"sym\" d=\"M -3,-3 l 6,6 M -3,3 l 6,-6\"/><text class=\"lab rgt\" transform=\"translate(5 0)\">5</text></g><g class=\"mut m0 s0\" transform=\"translate(0 -62.5737)\"><line x1=\"0\" x2=\"0\" y1=\"0\" y2=\"62.5737\"/><path class=\"sym\" d=\"M -3,-3 l 6,6 M -3,3 l 6,-6\"/><text class=\"lab rgt\" transform=\"translate(5 0)\">0</text></g><circle class=\"sym\" cx=\"0\" cy=\"0\" r=\"3\"/><text class=\"lab rgt\" transform=\"translate(3 -7.0)\">5</text></g><circle class=\"sym\" cx=\"0\" cy=\"0\" r=\"3\"/><text class=\"lab\" transform=\"translate(0 -11)\">6</text></g></g></g></g></g></svg>"
      ],
      "text/plain": [
       "<IPython.core.display.SVG object>"
      ]
     },
     "metadata": {
      "filenames": {
       "image/svg+xml": "/home/runner/work/tskit-site/tskit-site/docs/_build/jupyter_execute/replication_9_0.svg"
      }
     },
     "output_type": "display_data"
    },
    {
     "data": {
      "image/svg+xml": [
       "<svg xmlns=\"http://www.w3.org/2000/svg\" xmlns:ev=\"http://www.w3.org/2001/xml-events\" xmlns:xlink=\"http://www.w3.org/1999/xlink\" baseProfile=\"full\" height=\"200\" version=\"1.1\" width=\"200\"><defs><style type=\"text/css\"><![CDATA[.tree-sequence .background path {fill: #808080; fill-opacity:0}.tree-sequence .background path:nth-child(odd) {fill-opacity:.1}.axes {font-size: 14px}.x-axis .tick .lab {font-weight: bold}.axes, .tree {font-size: 14px; text-anchor:middle}.y-axis line.grid {stroke: #FAFAFA}.y-axis > .lab text {transform: translateX(0.8em) rotate(-90deg)}.x-axis .tick g {transform: translateY(0.9em)}.x-axis > .lab text {transform: translateY(-0.8em)}.axes line, .edge {stroke:black; fill:none}.node > .sym {fill: black; stroke: none}.site > .sym {stroke: black}.mut text {fill: red; font-style: italic}.mut line {fill: none; stroke: none}.mut .sym {fill: none; stroke: red}.node .mut .sym {stroke-width: 1.5px}.tree text, .tree-sequence text {dominant-baseline: central}.plotbox .lab.lft {text-anchor: end}.plotbox .lab.rgt {text-anchor: start}]]></style></defs><g class=\"tree-sequence\"><g class=\"background\"><path d=\"M56.8,0 l123.2,0 l0,138.2 l0,25 l0,5 l-123.2,0 l0,-5 l0,-25 l0,-138.2z\"/></g><g class=\"axes\"><g class=\"x-axis\"><g class=\"lab\" transform=\"translate(118.4,200)\"><text text-anchor=\"middle\">Genome position</text></g><line x1=\"56.8\" x2=\"180\" y1=\"163.2\" y2=\"163.2\"/><g class=\"tick\" transform=\"translate(56.8 163.2)\"><line x1=\"0\" x2=\"0\" y1=\"0\" y2=\"5\"/><g class=\"lab\" transform=\"translate(0,5)\"><text>0</text></g></g><g class=\"tick\" transform=\"translate(180 163.2)\"><line x1=\"0\" x2=\"0\" y1=\"0\" y2=\"5\"/><g class=\"lab\" transform=\"translate(0,5)\"><text>10</text></g></g><g class=\"site s0\" transform=\"translate(81.44 163.2)\"><line class=\"sym\" x1=\"0\" x2=\"0\" y1=\"0\" y2=\"-10\"/><g class=\"mut m3\"><polyline class=\"sym\" points=\"2.5,-6.5 0,-1.5 -2.5,-6.5\"/></g><g class=\"mut m2\"><polyline class=\"sym\" points=\"2.5,-10.5 0,-5.5 -2.5,-10.5\"/></g><g class=\"mut m1\"><polyline class=\"sym\" points=\"2.5,-14.5 0,-9.5 -2.5,-14.5\"/></g><g class=\"mut m0\"><polyline class=\"sym\" points=\"2.5,-18.5 0,-13.5 -2.5,-18.5\"/></g></g><g class=\"site s1\" transform=\"translate(130.72 163.2)\"><line class=\"sym\" x1=\"0\" x2=\"0\" y1=\"0\" y2=\"-10\"/><g class=\"mut m4\"><polyline class=\"sym\" points=\"2.5,-6.5 0,-1.5 -2.5,-6.5\"/></g></g><g class=\"site s2\" transform=\"translate(143.04 163.2)\"><line class=\"sym\" x1=\"0\" x2=\"0\" y1=\"0\" y2=\"-10\"/><g class=\"mut m5\"><polyline class=\"sym\" points=\"2.5,-6.5 0,-1.5 -2.5,-6.5\"/></g></g></g><g class=\"y-axis\"><g class=\"lab\" transform=\"translate(0,65.7)\"><text text-anchor=\"middle\">Time</text></g><line x1=\"56.8\" x2=\"56.8\" y1=\"121.4\" y2=\"10\"/><g class=\"tick\" transform=\"translate(56.8 121.4)\"><line x1=\"0\" x2=\"-5\" y1=\"0\" y2=\"0\"/><g class=\"lab\" transform=\"translate(-5,0)\"><text text-anchor=\"end\">0.00</text></g></g><g class=\"tick\" transform=\"translate(56.8 114.411)\"><line x1=\"0\" x2=\"-5\" y1=\"0\" y2=\"0\"/><g class=\"lab\" transform=\"translate(-5,0)\"><text text-anchor=\"end\">0.16</text></g></g><g class=\"tick\" transform=\"translate(56.8 108.376)\"><line x1=\"0\" x2=\"-5\" y1=\"0\" y2=\"0\"/><g class=\"lab\" transform=\"translate(-5,0)\"><text text-anchor=\"end\">0.29</text></g></g><g class=\"tick\" transform=\"translate(56.8 26.8)\"><line x1=\"0\" x2=\"-5\" y1=\"0\" y2=\"0\"/><g class=\"lab\" transform=\"translate(-5,0)\"><text text-anchor=\"end\">2.12</text></g></g></g></g><g class=\"plotbox trees\"><g class=\"tree t0\" transform=\"translate(56.8 0)\"><g class=\"plotbox\"><g class=\"node n6 p0 root\" transform=\"translate(61.6 26.8)\"><g class=\"a6 m1 m2 m3 node n4 p0 s0\" transform=\"translate(-20.8 87.6115)\"><g class=\"a4 i0 leaf node n0 p0 sample\" transform=\"translate(-10.4 6.98854)\"><path class=\"edge\" d=\"M 0 0 V -6.98854 H 10.4\"/><rect class=\"sym\" height=\"6\" width=\"6\" x=\"-3\" y=\"-3\"/><text class=\"lab\" transform=\"translate(0 11)\">0</text></g><g class=\"a4 i0 leaf node n1 p0 sample\" transform=\"translate(10.4 6.98854)\"><path class=\"edge\" d=\"M 0 0 V -6.98854 H -10.4\"/><rect class=\"sym\" height=\"6\" width=\"6\" x=\"-3\" y=\"-3\"/><text class=\"lab\" transform=\"translate(0 11)\">1</text></g><path class=\"edge\" d=\"M 0 0 V -87.6115 H 20.8\"/><g class=\"mut m1 s0\" transform=\"translate(0 -36.235)\"><line x1=\"0\" x2=\"0\" y1=\"0\" y2=\"36.235\"/><path class=\"sym\" d=\"M -3,-3 l 6,6 M -3,3 l 6,-6\"/><text class=\"lab lft\" transform=\"translate(-5 0)\">1</text></g><g class=\"mut m2 s0\" transform=\"translate(0 -8.75489)\"><line x1=\"0\" x2=\"0\" y1=\"0\" y2=\"8.75489\"/><path class=\"sym\" d=\"M -3,-3 l 6,6 M -3,3 l 6,-6\"/><text class=\"lab lft\" transform=\"translate(-5 0)\">2</text></g><g class=\"mut m3 s0\" transform=\"translate(0 -4.27656)\"><line x1=\"0\" x2=\"0\" y1=\"0\" y2=\"4.27656\"/><path class=\"sym\" d=\"M -3,-3 l 6,6 M -3,3 l 6,-6\"/><text class=\"lab lft\" transform=\"translate(-5 0)\">3</text></g><circle class=\"sym\" cx=\"0\" cy=\"0\" r=\"3\"/><text class=\"lab lft\" transform=\"translate(-3 -7.0)\">4</text></g><g class=\"a6 m0 m5 node n5 p0 s0 s2\" transform=\"translate(20.8 81.5756)\"><g class=\"a5 i1 leaf m4 node n2 p0 s1 sample\" transform=\"translate(-10.4 13.0244)\"><path class=\"edge\" d=\"M 0 0 V -13.0244 H 10.4\"/><g class=\"mut m4 s1\" transform=\"translate(0 -1.67985)\"><line x1=\"0\" x2=\"0\" y1=\"0\" y2=\"1.67985\"/><path class=\"sym\" d=\"M -3,-3 l 6,6 M -3,3 l 6,-6\"/><text class=\"lab lft\" transform=\"translate(-5 0)\">4</text></g><rect class=\"sym\" height=\"6\" width=\"6\" x=\"-3\" y=\"-3\"/><text class=\"lab\" transform=\"translate(0 11)\">2</text></g><g class=\"a5 i1 leaf node n3 p0 sample\" transform=\"translate(10.4 13.0244)\"><path class=\"edge\" d=\"M 0 0 V -13.0244 H -10.4\"/><rect class=\"sym\" height=\"6\" width=\"6\" x=\"-3\" y=\"-3\"/><text class=\"lab\" transform=\"translate(0 11)\">3</text></g><path class=\"edge\" d=\"M 0 0 V -81.5756 H -20.8\"/><g class=\"mut m5 s2\" transform=\"translate(0 -66.8884)\"><line x1=\"0\" x2=\"0\" y1=\"0\" y2=\"66.8884\"/><path class=\"sym\" d=\"M -3,-3 l 6,6 M -3,3 l 6,-6\"/><text class=\"lab rgt\" transform=\"translate(5 0)\">5</text></g><g class=\"mut m0 s0\" transform=\"translate(0 -62.5737)\"><line x1=\"0\" x2=\"0\" y1=\"0\" y2=\"62.5737\"/><path class=\"sym\" d=\"M -3,-3 l 6,6 M -3,3 l 6,-6\"/><text class=\"lab rgt\" transform=\"translate(5 0)\">0</text></g><circle class=\"sym\" cx=\"0\" cy=\"0\" r=\"3\"/><text class=\"lab rgt\" transform=\"translate(3 -7.0)\">5</text></g><circle class=\"sym\" cx=\"0\" cy=\"0\" r=\"3\"/><text class=\"lab\" transform=\"translate(0 -11)\">6</text></g></g></g></g></g></svg>"
      ],
      "text/plain": [
       "<IPython.core.display.SVG object>"
      ]
     },
     "metadata": {
      "filenames": {
       "image/svg+xml": "/home/runner/work/tskit-site/tskit-site/docs/_build/jupyter_execute/replication_9_1.svg"
      }
     },
     "output_type": "display_data"
    }
   ],
   "source": [
    "ts = msprime.sim_ancestry(2, sequence_length=10, random_seed=42)\n",
    "mts1 = msprime.sim_mutations(ts, rate=0.1, random_seed=666)\n",
    "mts2 = msprime.sim_mutations(ts, rate=0.1, random_seed=666)\n",
    "display(SVG(mts1.draw_svg(y_axis=True)), SVG(mts2.draw_svg(y_axis=True)))"
   ]
  },
  {
   "cell_type": "markdown",
   "id": "dc8a836f",
   "metadata": {},
   "source": [
    "(sec_randomness_replication)=\n",
    "\n",
    "## Running replicate simulations\n",
    "\n",
    "Simulations are random, and we will therefore usually want to have\n",
    "many independent replicates for a particular set of parameters. In\n",
    "this section we provide some examples of how to efficiently\n",
    "run replicate simulations in msprime.\n",
    "\n",
    "### Ancestry simulations\n",
    "\n",
    "When performing {ref}`ancestry simulations<sec_ancestry>` with\n",
    "{func}`.sim_ancestry`, the `num_replicates` parameter provides a\n",
    "convenient and efficient\n",
    "way to iterate over a number of replicate simulations. For example,\n",
    "suppose we wish to examine the distribution of the\n",
    "time to the most recent common ancestor."
   ]
  },
  {
   "cell_type": "code",
   "execution_count": 7,
   "id": "603ecc7c",
   "metadata": {},
   "outputs": [
    {
     "data": {
      "text/plain": [
       "(3.799291711240622, 3.920289255957004)"
      ]
     },
     "execution_count": 7,
     "metadata": {},
     "output_type": "execute_result"
    }
   ],
   "source": [
    "import numpy as np\n",
    "\n",
    "num_replicates = 100\n",
    "tmrca = np.zeros(num_replicates)\n",
    "replicates = msprime.sim_ancestry(10, num_replicates=num_replicates, random_seed=42)\n",
    "for replicate_index, ts in enumerate(replicates):\n",
    "    tree = ts.first()\n",
    "    tmrca[replicate_index] = tree.time(tree.root)\n",
    "np.mean(tmrca), np.var(tmrca)"
   ]
  },
  {
   "cell_type": "markdown",
   "id": "736f4ba5",
   "metadata": {},
   "source": [
    ":::{tip}\n",
    "Using the ``num_replicates`` argument like this can be substantially\n",
    "more efficient that running simulations independently for\n",
    "small simulations.\n",
    ":::\n",
    "\n",
    "It's important to note that the replicate simulations are generated\n",
    "lazily here on demand---the `replicates` variable is a Python iterator,\n",
    "and we use the built-in {func}`python:enumerate` function to easily get\n",
    "the index of each replicate in the list. Thus, no simulation\n",
    "is actually done when we call ``sim_ancestry`` here, it's just setting\n",
    "up the underlying state. Each replicate simulation is done sequentially\n",
    "as we go through the loop. We therefore only use the memory that\n",
    "we need to represent the results of *one* simulation.\n",
    "\n",
    ":::{warning}\n",
    "It's a bad idea to store the result of ``sim_ancestry`` in a list like\n",
    "this:\n",
    "\n",
    "```\n",
    "replicates = list(msprime.sim_ancestry(10, num_replicates=100))\n",
    "```\n",
    "\n",
    "Unlike the efficient example above, this will run all 100 simulations\n",
    "before returning and store the resulting tree sequences in memory.\n",
    "This consumes approximately 100X more memory that the example above!\n",
    ":::\n",
    "\n",
    ":::{note}\n",
    "The return type of {func}`.sim_ancestry` changes when we use the\n",
    "`num_replicates` argument. If `num_replicates` is not specified\n",
    "or `None`, we return an instance of {class}`tskit.TreeSequence`.\n",
    "If it is specified, we return an *iterator* over\n",
    "a set of {class}`tskit.TreeSequence` instances.\n",
    ":::\n",
    "\n",
    "(sec_randomness_replication_mutations)=\n",
    "\n",
    "### Adding mutations\n",
    "\n",
    "Things are a little more involved when we also want to simulate\n",
    "mutations on the simulated ancestries, because we cannot get a\n",
    "stream of replicate results directly from {func}`.sim_ancestry`.\n",
    "In this section we a number of different and idiomatic ways to\n",
    "efficiently combine ancestry and mutation simulations.\n",
    "\n",
    ":::{seealso}\n",
    "It is often assumed that mutations are a necessary part of simulating\n",
    "population genetic processes, but this is often not the case.\n",
    "See the {ref}`tutorial<tutorials:sec_tskit_no_mutations>` on this\n",
    "topic for more information.\n",
    ":::\n",
    "\n",
    "#### Using a generator\n",
    "\n",
    "In this example we define a\n",
    "[\"generator\"](https://docs.python.org/3/tutorial/classes.html#generators)\n",
    "function that runs a set of replicate ancestry simulations,\n",
    "simulates mutations on them, and sequentially yields\n",
    "the resulting tree sequence to the calling code:"
   ]
  },
  {
   "cell_type": "code",
   "execution_count": 8,
   "id": "06e80b77",
   "metadata": {},
   "outputs": [],
   "source": [
    "def sim_replicates(sample_size, num_replicates):\n",
    "    ancestry_reps = msprime.sim_ancestry(\n",
    "        samples=sample_size,\n",
    "        population_size=100, sequence_length=1_000,\n",
    "        num_replicates=num_replicates)\n",
    "    for ts in ancestry_reps:\n",
    "        mutated_ts = msprime.sim_mutations(ts, rate=1e-6)\n",
    "        yield mutated_ts"
   ]
  },
  {
   "cell_type": "markdown",
   "id": "e4d09b5e",
   "metadata": {},
   "source": [
    "In general it's a good idea to encapsulate specific simulations\n",
    "in a function like this: an free parameters (like ``sample_size`` here)\n",
    "can be passed in as parameters to the function, and any fixed values\n",
    "(like e.g., ``sequence_length``) can be specified in one place,\n",
    "avoiding repetition and potential for mistakes. Having defined the\n",
    "generator function, we can now run it for a given number of\n",
    "replicates and sample size. In this example, we com\n",
    "compute the number of\n",
    "{meth}`segregating sites<tskit:tskit.TreeSequence.segregating_sites>`\n",
    "in each replicate tree sequence, and store the values in a numpy\n",
    "array:"
   ]
  },
  {
   "cell_type": "code",
   "execution_count": 9,
   "id": "65306974",
   "metadata": {},
   "outputs": [
    {
     "data": {
      "text/plain": [
       "(1.52, 1.5495999999999999)"
      ]
     },
     "execution_count": 9,
     "metadata": {},
     "output_type": "execute_result"
    }
   ],
   "source": [
    "num_replicates = 100\n",
    "S = np.zeros(num_replicates)\n",
    "for replicate_index, ts in enumerate(sim_replicates(10, num_replicates)):\n",
    "    S[replicate_index] = ts.segregating_sites(span_normalise=False, mode=\"site\")\n",
    "# Show the mean and variance of S\n",
    "(np.mean(S), np.var(S))"
   ]
  },
  {
   "cell_type": "markdown",
   "id": "dc5dca72",
   "metadata": {},
   "source": [
    "Again, this approach means that we only have the tree sequence for\n",
    "one replicate simulation in memory at one time.\n",
    "\n",
    "#### Using functional tools\n",
    "\n",
    "Another way in which we can efficiently apply mutations to replicate\n",
    "simulations is using Python's functional programming tools:"
   ]
  },
  {
   "cell_type": "code",
   "execution_count": 10,
   "id": "17177416",
   "metadata": {},
   "outputs": [
    {
     "data": {
      "text/plain": [
       "(1.47, 2.0691)"
      ]
     },
     "execution_count": 10,
     "metadata": {},
     "output_type": "execute_result"
    }
   ],
   "source": [
    "import functools\n",
    "\n",
    "num_replicates = 100\n",
    "S = np.zeros(num_replicates)\n",
    "ancestry_reps = msprime.sim_ancestry(\n",
    "    samples=10,\n",
    "    population_size=100,\n",
    "    sequence_length=1_000,\n",
    "    num_replicates=num_replicates)\n",
    "mutations_func = functools.partial(msprime.sim_mutations, rate=1e-6)\n",
    "mutations_reps = map(mutations_func, ancestry_reps)\n",
    "\n",
    "for replicate_index, ts in enumerate(mutations_reps):\n",
    "    S[replicate_index] = ts.segregating_sites(span_normalise=False, mode=\"site\")\n",
    "(np.mean(S), np.var(S))"
   ]
  },
  {
   "cell_type": "markdown",
   "id": "a3c59a14",
   "metadata": {},
   "source": [
    "In this example we use Python's {func}`python:map` function to iteratively\n",
    "apply the {func}`.sim_mutations` function to the output of\n",
    "{func}`.sim_ancestry`. Because ``map`` only expects a single argument\n",
    "and we also need to specify the ``rate`` value,\n",
    "we need to create a \"partial\" function which sets the mutation rate\n",
    "(and any other parameters we might like to provide) for {func}`.sim_mutations`.\n",
    "This could equally be done using a\n",
    "[lambda expression](https://docs.python.org/3/tutorial/controlflow.html#lambda-expressions)\n",
    "or indeed by defining a function in the usual way using ``def``.\n",
    "\n",
    ":::{warning}\n",
    "Do not set the random seed to a fixed value in partial function like\n",
    "this! This would result in different random ancestry replicates\n",
    "being correctly generated but all mutations being thrown down\n",
    "using the same seed. This would lead to nasty bugs!\n",
    ":::\n",
    "\n",
    "(sec_randomness_replication_specifying_seeds)=\n",
    "\n",
    "### Specifying seeds explicitly\n",
    "\n",
    "When we're running large simulations it's usually better to specify the\n",
    "seeds explicitly and run ancestry simulations individually. First\n",
    "we define a function that takes our free parameters (``num_samples``\n",
    "in this case) and random seed values for the ancestry and\n",
    "mutation simulations:"
   ]
  },
  {
   "cell_type": "code",
   "execution_count": 11,
   "id": "70b20d8e",
   "metadata": {},
   "outputs": [],
   "source": [
    "def run_sim(num_samples, ancestry_seed, mutation_seed):\n",
    "    ancestry_ts = msprime.sim_ancestry(\n",
    "        samples=num_samples,\n",
    "        population_size=100,\n",
    "        sequence_length=1_000,\n",
    "        random_seed=ancestry_seed)\n",
    "    mutated_ts = msprime.sim_mutations(\n",
    "        ancestry_ts, rate=1e-6, random_seed=mutation_seed)\n",
    "    return mutated_ts"
   ]
  },
  {
   "cell_type": "markdown",
   "id": "c73188b8",
   "metadata": {},
   "source": [
    ":::{note}\n",
    "Note that this function is not a generator---it returns a *single*\n",
    "tree sequence, rather than an iterator over replicate tree sequences.\n",
    ":::\n",
    "\n",
    "Having defined this function, we can then generate some random\n",
    "seeds using numpy (note that we seed the random generator\n",
    "to make the seeds themselves deterministic---otherwise,\n",
    "we might as well let msprime generate random seeds):"
   ]
  },
  {
   "cell_type": "code",
   "execution_count": 12,
   "id": "c01545fb",
   "metadata": {},
   "outputs": [
    {
     "data": {
      "text/plain": [
       "(1.28, 1.1016)"
      ]
     },
     "execution_count": 12,
     "metadata": {},
     "output_type": "execute_result"
    }
   ],
   "source": [
    "num_replicates = 100\n",
    "rng = np.random.RandomState(42)\n",
    "seeds = rng.randint(1, 2**31, size=(num_replicates, 2))\n",
    "\n",
    "S = np.zeros(num_replicates)\n",
    "for replicate_index in range(num_replicates):\n",
    "    ts = run_sim(10, *seeds[replicate_index])\n",
    "    S[replicate_index] = ts.segregating_sites(span_normalise=False, mode=\"site\")\n",
    "\n",
    "(np.mean(S), np.var(S))"
   ]
  },
  {
   "cell_type": "markdown",
   "id": "c4bd5783",
   "metadata": {},
   "source": [
    "(sec_randomness_replication_parallel)=\n",
    "\n",
    "### Running in parallel\n",
    "\n",
    "When we are running replicates of large simulations we will usually\n",
    "want to take advantage of the available CPU cores and run them\n",
    "in parallel. Since replicates are independent, this is quite easy\n",
    "to do using Python's {mod}`python:concurrent.futures` module.\n",
    "\n",
    "When running simulations in parallel it's important to create a\n",
    "simple function that runs your simulation in the worker processes.\n",
    "First we define this function:"
   ]
  },
  {
   "cell_type": "code",
   "execution_count": 13,
   "id": "13a9808c",
   "metadata": {},
   "outputs": [],
   "source": [
    "import concurrent.futures\n",
    "\n",
    "def worker(seeds):\n",
    "    ancestry_seed, mutation_seed = seeds\n",
    "    ts = msprime.sim_ancestry(\n",
    "        samples=10,\n",
    "        population_size=100,\n",
    "        sequence_length=1_000,\n",
    "        random_seed=ancestry_seed)\n",
    "    ts = msprime.sim_mutations(ts, rate=1e-6, random_seed=mutation_seed)\n",
    "    return ts.segregating_sites(span_normalise=False, mode=\"site\")"
   ]
  },
  {
   "cell_type": "markdown",
   "id": "c6160fce",
   "metadata": {},
   "source": [
    "Note that this is almost the same as the function we defined\n",
    "in the {ref}`sec_randomness_replication_specifying_seeds` section,\n",
    "with a few differences:\n",
    "\n",
    "1. The ``worker`` function takes one parameter, ``seeds``, which\n",
    "we unpack manually into the ``ancestry_seed`` and ``mutation_seed``.\n",
    "2. We have no free parameters, as it is much simpler to fully\n",
    "specify the worker function than it is to use partial functions in the\n",
    "context of multiple processes.\n",
    "3. We return the final result that we are interested (the segregating\n",
    "sites value) in rather than the simulated tree sequence. There\n",
    "are two good reasons for this: (a) we want to do as much computation\n",
    "as we can in the worker process and as little as possible in the\n",
    "main process; and (b) we want to keep the values that we return\n",
    "from the worker process as small and simple as we can to\n",
    "avoid serialisation overhead.\n",
    "\n",
    "Once we've defined the function, then we can generate some\n",
    "random seeds as before, and then use the\n",
    "``map`` method of {class}`~python:concurrent.futures.ProcessPoolExecutor`\n",
    "to distribute the work among all available CPU cores:"
   ]
  },
  {
   "cell_type": "code",
   "execution_count": 14,
   "id": "3eadc474",
   "metadata": {},
   "outputs": [
    {
     "data": {
      "text/plain": [
       "(1.28, 1.1016)"
      ]
     },
     "execution_count": 14,
     "metadata": {},
     "output_type": "execute_result"
    }
   ],
   "source": [
    "num_replicates = 100\n",
    "rng = np.random.RandomState(42)\n",
    "seeds = rng.randint(1, 2**31, size=(num_replicates, 2))\n",
    "\n",
    "with concurrent.futures.ProcessPoolExecutor() as executor:\n",
    "    results = executor.map(worker, seeds)\n",
    "    S = np.array(list(results))\n",
    "\n",
    "(np.mean(S), np.var(S))"
   ]
  },
  {
   "cell_type": "markdown",
   "id": "58ce0637",
   "metadata": {},
   "source": [
    ":::{note}\n",
    "This approach is a good pattern to use when running replicates\n",
    "of large simulations, requiring at least (say) 10 seconds to run.\n",
    "It will not be efficient as a way of running large numbers of\n",
    "small simulations, though.\n",
    ":::"
   ]
  }
 ],
 "metadata": {
  "jupytext": {
   "text_representation": {
    "extension": ".md",
    "format_name": "myst",
    "format_version": 0.12,
    "jupytext_version": "1.9.1"
   }
  },
  "kernelspec": {
   "display_name": "Python 3",
   "language": "python",
   "name": "python3"
  },
  "language_info": {
   "codemirror_mode": {
    "name": "ipython",
    "version": 3
   },
   "file_extension": ".py",
   "mimetype": "text/x-python",
   "name": "python",
   "nbconvert_exporter": "python",
   "pygments_lexer": "ipython3",
   "version": "3.8.10"
  },
  "source_map": [
   15,
   22,
   61,
   68,
   74,
   79,
   84,
   90,
   95,
   102,
   107,
   128,
   138,
   200,
   209,
   223,
   230,
   240,
   256,
   285,
   295,
   307,
   318,
   333,
   345,
   369,
   379
  ]
 },
 "nbformat": 4,
 "nbformat_minor": 5
}