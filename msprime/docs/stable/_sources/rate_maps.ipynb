{
 "cells": [
  {
   "cell_type": "code",
   "execution_count": 1,
   "id": "743f6ada",
   "metadata": {
    "tags": [
     "remove-cell"
    ]
   },
   "outputs": [],
   "source": [
    "import msprime\n",
    "import numpy as np\n",
    "from IPython.display import SVG\n",
    "from matplotlib import pyplot as plt"
   ]
  },
  {
   "cell_type": "markdown",
   "id": "b2eaa042",
   "metadata": {},
   "source": [
    "(sec_rate_maps)=\n",
    "# Rate Maps\n",
    "\n",
    "It is often useful to express a variable rate of some sort along the chromosome.\n",
    "For example, most organisms have mutation rates and recombination rates which vary\n",
    "depending on genomic position. Rates of this sort can be stored as an instance\n",
    "of a {class}`.RateMap`, and then passed as a parameter to the relevant `msprime`\n",
    "method. For instance, {func}`.sim_ancestry` accepts a {class}`.RateMap`\n",
    "for the {ref}`recombination_rate<sec_ancestry_recombination>`\n",
    "parameter and {func}`.sim_mutations` accepts a {class}`.RateMap`\n",
    "for the {ref}`rate<sec_mutations_rate>` parameter.\n",
    "\n",
    "A rate map is defined as a set of constant rates which apply piecewise\n",
    "over contiguous regions of the genome.\n",
    "For example, here we create a simple rate map over a 30kb genome:"
   ]
  },
  {
   "cell_type": "code",
   "execution_count": 2,
   "id": "b1f2ed05",
   "metadata": {},
   "outputs": [
    {
     "data": {
      "text/html": [
       "<div><style scoped=\"\">\n",
       "            .tskit-table thead tr th:only-of-type {vertical-align: middle;}\n",
       "            .tskit-table thead tr th {text-align: center;vertical-align: top;}\n",
       "            .tskit-table tbody td {text-align: right;padding: 0.5em 0.5em;}\n",
       "            .tskit-table tbody th {padding: 0.5em 0.5em;}\n",
       "        </style><b></b><table border=\"1\" class=\"tskit-table\"><thead><tr><th>left</th><th>right</th><th>mid</th><th>span</th><th>rate</th></tr></thead><tbody><tr><td>0</td><td>4000</td><td>2000</td><td>4000</td><td>0.00</td></tr><tr><td>4000</td><td>9000</td><td>6500</td><td>5000</td><td>0.10</td></tr><tr><td>9000</td><td>11000</td><td>10000</td><td>2000</td><td>0.60</td></tr><tr><td>11000</td><td>20000</td><td>15500</td><td>9000</td><td>0.20</td></tr><tr><td>20000</td><td>30000</td><td>25000</td><td>10000</td><td>0.10</td></tr></tbody></table></div>"
      ],
      "text/plain": [
       "RateMap(position=array([    0.,  4000.,  9000., 11000., 20000., 30000.]), rate=array([0. , 0.1, 0.6, 0.2, 0.1]))"
      ]
     },
     "execution_count": 2,
     "metadata": {},
     "output_type": "execute_result"
    }
   ],
   "source": [
    "rate_map = msprime.RateMap(\n",
    "    position=[0, 4000, 9000, 11000, 20000, 30000],\n",
    "    rate=[0, 0.1, 0.6, 0.2, 0.1]\n",
    ")\n",
    "rate_map"
   ]
  },
  {
   "cell_type": "markdown",
   "id": "56294856",
   "metadata": {},
   "source": [
    "See the {ref}`sec_rate_maps_basics` section for details on these columns.\n",
    "We can see how these rates vary along the genome by plotting:"
   ]
  },
  {
   "cell_type": "code",
   "execution_count": 3,
   "id": "c91a405b",
   "metadata": {
    "tags": [
     "hide-input"
    ]
   },
   "outputs": [
    {
     "data": {
      "image/png": "[encoded data removed]",
      "text/plain": [
       "<Figure size 720x288 with 1 Axes>"
      ]
     },
     "metadata": {
      "filenames": {
       "image/png": "/home/runner/work/tskit-site/tskit-site/docs/_build/jupyter_execute/rate_maps_4_0.png"
      },
      "needs_background": "light"
     },
     "output_type": "display_data"
    }
   ],
   "source": [
    "plt.figure(figsize=(10, 4))\n",
    "plt.stairs(rate_map.rate, rate_map.position)\n",
    "plt.title(\"Example RateMap with 5 rates, and a hotspot around position 10000\")\n",
    "plt.xlabel(\"Genome position\")\n",
    "plt.ylabel(\"Rate\")\n",
    "plt.xlim(0, rate_map.sequence_length)\n",
    "plt.show()"
   ]
  },
  {
   "cell_type": "markdown",
   "id": "3bf4f51f",
   "metadata": {},
   "source": [
    "---\n",
    "\n",
    "(sec_rate_maps_quickref)=\n",
    "\n",
    "## Quick reference\n",
    "\n",
    "{class}`.RateMap`\n",
    ": Represent the varying rate of processes along the genome as a piecewise function.\n",
    "\n",
    "**Creating rate maps**\n",
    "\n",
    "{meth}`.RateMap.uniform`\n",
    ": Create a RateMap with a single rate over the entire chromosome\n",
    "\n",
    "{meth}`.RateMap.read_hapmap`\n",
    ": Read in a RateMap from a file in \"HapMap\" format (common in recombination maps)\n",
    "\n",
    "{meth}`.RateMap.slice`\n",
    ": Create a new RateMap by slicing out a portion of an existing RateMap\n",
    "\n",
    "**Computing rates**\n",
    "\n",
    "{attr}`.RateMap.mean_rate`\n",
    ": The weighted average rate\n",
    "\n",
    "{attr}`.RateMap.total_mass`\n",
    ": The cumulative sum of rates over the entire map\n",
    "\n",
    "{meth}`.RateMap.get_rate`\n",
    ": Compute rate at a set of positions\n",
    "\n",
    "{meth}`.RateMap.get_cumulative_mass`\n",
    ": Compute the cumulative rate at a set of positions\n",
    "\n",
    "\n",
    "(sec_rate_maps_basics)=\n",
    "## Working with RateMaps\n",
    "\n",
    "In this section we illustrate the ways in which we can interact\n",
    "with a {class}`.RateMap` object. Throughout we'll use the example\n",
    "map from the introduction, defined over a 30kb genome:"
   ]
  },
  {
   "cell_type": "code",
   "execution_count": 4,
   "id": "6b382e11",
   "metadata": {},
   "outputs": [
    {
     "data": {
      "text/html": [
       "<div><style scoped=\"\">\n",
       "            .tskit-table thead tr th:only-of-type {vertical-align: middle;}\n",
       "            .tskit-table thead tr th {text-align: center;vertical-align: top;}\n",
       "            .tskit-table tbody td {text-align: right;padding: 0.5em 0.5em;}\n",
       "            .tskit-table tbody th {padding: 0.5em 0.5em;}\n",
       "        </style><b></b><table border=\"1\" class=\"tskit-table\"><thead><tr><th>left</th><th>right</th><th>mid</th><th>span</th><th>rate</th></tr></thead><tbody><tr><td>0</td><td>4000</td><td>2000</td><td>4000</td><td>0.00</td></tr><tr><td>4000</td><td>9000</td><td>6500</td><td>5000</td><td>0.10</td></tr><tr><td>9000</td><td>11000</td><td>10000</td><td>2000</td><td>0.60</td></tr><tr><td>11000</td><td>20000</td><td>15500</td><td>9000</td><td>0.20</td></tr><tr><td>20000</td><td>30000</td><td>25000</td><td>10000</td><td>0.10</td></tr></tbody></table></div>"
      ],
      "text/plain": [
       "RateMap(position=array([    0.,  4000.,  9000., 11000., 20000., 30000.]), rate=array([0. , 0.1, 0.6, 0.2, 0.1]))"
      ]
     },
     "execution_count": 4,
     "metadata": {},
     "output_type": "execute_result"
    }
   ],
   "source": [
    "rate_map = msprime.RateMap(\n",
    "    position=[0, 4000, 9000, 11000, 20000, 30000],\n",
    "    rate=[0, 0.1, 0.6, 0.2, 0.1]\n",
    ")\n",
    "rate_map"
   ]
  },
  {
   "cell_type": "markdown",
   "id": "5381589d",
   "metadata": {},
   "source": [
    ":::{seealso}\n",
    "See the {ref}`sec_rate_maps_creating` section for different ways of\n",
    "creating {class}`.RateMap` instances with various properties.\n",
    ":::\n",
    "\n",
    "To create the {class}`.RateMap` instance we called the constructor\n",
    "with two lists, ``position`` and ``rate``. These define the\n",
    "intervals along the genome and the rates in each interval. Because\n",
    "we are interested in nonoverlapping contiguous intervals, we can\n",
    "define all the {math}`n` intervals with {math}`n + 1` positions\n",
    "and corresponding {math}`n` rate values.\n",
    "\n",
    ":::{important}\n",
    "All intervals are **open-closed**; that is, the left coordinate\n",
    "is inclusive and the right coordinate exclusive.\n",
    ":::\n",
    "\n",
    "Information about each of the intervals is shown in the summary\n",
    "table above, one interval per row. So, the last interval has a\n",
    "``left`` coordinate of 20000, a ``right`` coordinate of 30000,\n",
    "a midpoint of 25000 (``mid``), has a ``span`` of 10000 base pairs\n",
    "and maps to a rate of 0.1.\n",
    "\n",
    ":::{seealso}\n",
    "See the {ref}`sec_rate_maps_basics_array` for examples of how to\n",
    "access the columns efficiently as numpy arrays.\n",
    ":::\n",
    "\n",
    "(sec_rate_maps_basics_mapping)=\n",
    "### Mapping interface\n",
    "\n",
    "The easiest way to access the rate information from a rate map is\n",
    "via the *mapping interface*. We can use the Python square bracket\n",
    "notation to get the rate at a particular point:"
   ]
  },
  {
   "cell_type": "code",
   "execution_count": 5,
   "id": "66dd39d9",
   "metadata": {},
   "outputs": [
    {
     "name": "stdout",
     "output_type": "stream",
     "text": [
      "rate at position 4500 =  0.1\n"
     ]
    }
   ],
   "source": [
    "print(\"rate at position 4500 = \", rate_map[4500])"
   ]
  },
  {
   "cell_type": "markdown",
   "id": "094866e6",
   "metadata": {},
   "source": [
    ":::{seealso}\n",
    "The {meth}`.RateMap.get_rate` method is a more efficient way to\n",
    "compute the rate values at an array of locations along the genome.\n",
    ":::\n",
    "\n",
    "We can also iterate over the intervals in the map, much\n",
    "as if it was a Python dictionary:"
   ]
  },
  {
   "cell_type": "code",
   "execution_count": 6,
   "id": "3fc0ce7b",
   "metadata": {},
   "outputs": [
    {
     "name": "stdout",
     "output_type": "stream",
     "text": [
      "2000.0\t0.0\n",
      "6500.0\t0.1\n",
      "10000.0\t0.6\n",
      "15500.0\t0.2\n",
      "25000.0\t0.1\n"
     ]
    }
   ],
   "source": [
    "for midpoint, rate in rate_map.items():\n",
    "    print(midpoint, rate, sep=\"\\t\")"
   ]
  },
  {
   "cell_type": "markdown",
   "id": "385dbb6a",
   "metadata": {},
   "source": [
    "Note that the key here is the **midpoint** of each interval.\n",
    "\n",
    "Operations such as ``in`` tell us whether the a give position is\n",
    "in the rate map:"
   ]
  },
  {
   "cell_type": "code",
   "execution_count": 7,
   "id": "43b1a157",
   "metadata": {},
   "outputs": [
    {
     "name": "stdout",
     "output_type": "stream",
     "text": [
      "Is position 10000 in the map? True\n",
      "Is position -1 in the map? False\n"
     ]
    }
   ],
   "source": [
    "print(\"Is position 10000 in the map?\", 10000 in rate_map)\n",
    "print(\"Is position -1 in the map?\", -1 in rate_map)"
   ]
  },
  {
   "cell_type": "markdown",
   "id": "a1512d99",
   "metadata": {},
   "source": [
    ":::{seealso}\n",
    "See the {ref}`sec_rate_maps_missing` section for information on\n",
    "how missing data is handled using this interface.\n",
    ":::\n",
    "\n",
    "\n",
    "(sec_rate_maps_basics_array)=\n",
    "### Array interface\n",
    "\n",
    "We can also access the information from the rate map using numpy\n",
    "arrays. This is usually the preferred option when working with\n",
    "rate maps, since they can be quite large."
   ]
  },
  {
   "cell_type": "code",
   "execution_count": 8,
   "id": "83d709f4",
   "metadata": {},
   "outputs": [
    {
     "name": "stdout",
     "output_type": "stream",
     "text": [
      "interval left position : [    0.  4000.  9000. 11000. 20000.]\n",
      "interval right position: [ 4000.  9000. 11000. 20000. 30000.]\n",
      "interval midpoint      : [ 2000.  6500. 10000. 15500. 25000.]\n",
      "interval span          : [ 4000.  5000.  2000.  9000. 10000.]\n",
      "interval rate          : [0.  0.1 0.6 0.2 0.1]\n"
     ]
    }
   ],
   "source": [
    "print(\"interval left position :\", rate_map.left)\n",
    "print(\"interval right position:\", rate_map.right)\n",
    "print(\"interval midpoint      :\", rate_map.mid)\n",
    "print(\"interval span          :\", rate_map.span)\n",
    "print(\"interval rate          :\", rate_map.rate)"
   ]
  },
  {
   "cell_type": "markdown",
   "id": "3c4e023d",
   "metadata": {},
   "source": [
    "Please see the documentation for\n",
    "{attr}`~.RateMap.left`,\n",
    "{attr}`~.RateMap.right`,\n",
    "{attr}`~.RateMap.mid`,\n",
    "{attr}`~.RateMap.span`,\n",
    "and {attr}`~.RateMap.rate` for more information.\n",
    "\n",
    "The {attr}`~.RateMap.position` array is also defined, which is\n",
    "equal to the ``left`` array with last element of the ``right``\n",
    "array (i.e., the {attr}`~.RateMap.sequence_length`) appended to\n",
    "it.\n",
    "\n",
    "\n",
    ":::{seealso}\n",
    "See the {ref}`sec_rate_maps_missing` section for information on\n",
    "how missing data is handled using this interface.\n",
    ":::\n",
    "\n",
    ":::{todo}\n",
    "Give an example of how we might do something useful with these\n",
    "arrays, like plotting something, e.g.\n",
    ":::\n",
    "\n",
    "(sec_rate_maps_creating)=\n",
    "## Creating rate maps\n",
    "\n",
    "A rate map can be created by initializing an instance of the {class}`.RateMap` class\n",
    "with a list of _n+1_ positions and _n_ rates. Alternatively, uniform rate maps can be\n",
    "created as described below, or rates read in from a text file. The last position of a\n",
    "rate map is taken as the sequence length: it is your responsibility to ensure that this\n",
    "is the same length as the simulated chromosome to which the rate is applied.\n",
    "\n",
    "(sec_rate_maps_creating_uniform)=\n",
    "### Uniform rate maps\n",
    "\n",
    "The most basic rate map is a uniform rate over the entire sequence. This can simply be\n",
    "generated by {meth}`.RateMap.uniform`:"
   ]
  },
  {
   "cell_type": "code",
   "execution_count": 9,
   "id": "3704f7a7",
   "metadata": {},
   "outputs": [
    {
     "data": {
      "text/html": [
       "<div><style scoped=\"\">\n",
       "            .tskit-table thead tr th:only-of-type {vertical-align: middle;}\n",
       "            .tskit-table thead tr th {text-align: center;vertical-align: top;}\n",
       "            .tskit-table tbody td {text-align: right;padding: 0.5em 0.5em;}\n",
       "            .tskit-table tbody th {padding: 0.5em 0.5em;}\n",
       "        </style><b></b><table border=\"1\" class=\"tskit-table\"><thead><tr><th>left</th><th>right</th><th>mid</th><th>span</th><th>rate</th></tr></thead><tbody><tr><td>0</td><td>100000000</td><td>50000000</td><td>100000000</td><td>0.50</td></tr></tbody></table></div>"
      ],
      "text/plain": [
       "RateMap(position=array([0.e+00, 1.e+08]), rate=array([0.5]))"
      ]
     },
     "execution_count": 9,
     "metadata": {},
     "output_type": "execute_result"
    }
   ],
   "source": [
    "msprime.RateMap.uniform(sequence_length=1e8, rate=0.5)"
   ]
  },
  {
   "cell_type": "markdown",
   "id": "8c80e354",
   "metadata": {},
   "source": [
    "### Reading from a text file\n",
    "\n",
    ":::{todo}\n",
    "Give an example of working with the {meth}`.RateMap.read_hapmap` method\n",
    ":::\n",
    "\n",
    "(sec_rate_maps_creating_hotspots)=\n",
    "### Hotspots\n",
    "\n",
    ":::{todo}\n",
    "Give an example of making a RateMap with some recurrent hotspots.\n",
    ":::\n",
    "\n",
    "(sec_rate_maps_missing)=\n",
    "\n",
    "## Missing data\n",
    "\n",
    "There are often times when we do not know what the rate of a particular\n",
    "process is along the genome. For example, in telomeric regions, we don't\n",
    "really know what the rate of recombination is, and we need some way\n",
    "of encoding this information.\n",
    "\n",
    ":::{seealso}\n",
    "See the {ref}`sec_ancestry_missing_data` section for an example\n",
    "of running an ancestry simulation with unknown recombination rates,\n",
    "and the properties of the resulting tree sequence.\n",
    ":::\n",
    "\n",
    "Following the standard convention in Python numerical libraries,\n",
    "we encode missing data using [NaN values](https://en.wikipedia.org/wiki/NaN).\n",
    "Here, for example we create a rate map in which we have a\n",
    "uniform rate except for the 10 base pairs at either end,\n",
    "which are unknown:"
   ]
  },
  {
   "cell_type": "code",
   "execution_count": 10,
   "id": "2fd1427b",
   "metadata": {},
   "outputs": [
    {
     "data": {
      "text/html": [
       "<div><style scoped=\"\">\n",
       "            .tskit-table thead tr th:only-of-type {vertical-align: middle;}\n",
       "            .tskit-table thead tr th {text-align: center;vertical-align: top;}\n",
       "            .tskit-table tbody td {text-align: right;padding: 0.5em 0.5em;}\n",
       "            .tskit-table tbody th {padding: 0.5em 0.5em;}\n",
       "        </style><b></b><table border=\"1\" class=\"tskit-table\"><thead><tr><th>left</th><th>right</th><th>mid</th><th>span</th><th>rate</th></tr></thead><tbody><tr><td>0</td><td>10</td><td>5</td><td>10</td><td>nan</td></tr><tr><td>10</td><td>90</td><td>50</td><td>80</td><td>0.10</td></tr><tr><td>90</td><td>100</td><td>95</td><td>10</td><td>nan</td></tr></tbody></table></div>"
      ],
      "text/plain": [
       "RateMap(position=array([  0.,  10.,  90., 100.]), rate=array([nan, 0.1, nan]))"
      ]
     },
     "execution_count": 10,
     "metadata": {},
     "output_type": "execute_result"
    }
   ],
   "source": [
    "rate_map = msprime.RateMap(position=[0, 10, 90, 100], rate=[np.nan, 0.1, np.nan])\n",
    "rate_map"
   ]
  },
  {
   "cell_type": "markdown",
   "id": "fd5146b4",
   "metadata": {},
   "source": [
    "Values that we compute such as {attr}`~.RateMap.mean_rate` correctly ignore\n",
    "the regions of missing data:"
   ]
  },
  {
   "cell_type": "code",
   "execution_count": 11,
   "id": "4fb35d6b",
   "metadata": {},
   "outputs": [
    {
     "name": "stdout",
     "output_type": "stream",
     "text": [
      "mean rate =  0.1\n"
     ]
    }
   ],
   "source": [
    "print(\"mean rate = \", rate_map.mean_rate)"
   ]
  },
  {
   "cell_type": "markdown",
   "id": "8618783c",
   "metadata": {},
   "source": [
    "The {ref}`sec_rate_maps_basics_mapping` and {ref}`sec_rate_maps_basics_array` have\n",
    "different semantics for dealing with missing data: the mapping interface\n",
    "filters out intervals that are missing, whereas the array interface\n",
    "leaves them in.\n",
    "\n",
    "### Array interface\n",
    "\n",
    "The array interface in the {class}`.RateMap` is an efficient way of directly\n",
    "accessing the underlying array data. To give the user the maximum flexibility,\n",
    "the per-interval arrays like {attr}`~.RateMap.left` are always defined\n",
    "over both missing **and** non-missing intervals:"
   ]
  },
  {
   "cell_type": "code",
   "execution_count": 12,
   "id": "2350126a",
   "metadata": {},
   "outputs": [
    {
     "name": "stdout",
     "output_type": "stream",
     "text": [
      "left  =  [ 0. 10. 90.]\n",
      "right =  [ 10.  90. 100.]\n",
      "mid   =  [ 5. 50. 95.]\n",
      "span  =  [10. 80. 10.]\n"
     ]
    }
   ],
   "source": [
    "print(\"left  = \", rate_map.left)\n",
    "print(\"right = \", rate_map.right)\n",
    "print(\"mid   = \", rate_map.mid)\n",
    "print(\"span  = \", rate_map.span)"
   ]
  },
  {
   "cell_type": "markdown",
   "id": "e5ff2b43",
   "metadata": {},
   "source": [
    "We can use the {attr}`~.RateMap.missing` and {attr}`~.RateMap.non_missing`\n",
    "arrays to get access to the missing and non-missing portions of the map.\n",
    "These are numpy boolean arrays, which we can use to index into the other\n",
    "per-interval arrays. For example, we can compare the total span of\n",
    "missing and non-missing intervals:"
   ]
  },
  {
   "cell_type": "code",
   "execution_count": 13,
   "id": "f0dad796",
   "metadata": {},
   "outputs": [
    {
     "name": "stdout",
     "output_type": "stream",
     "text": [
      "Total missing span      =  20.0\n",
      "Total non-missing span  =  80.0\n"
     ]
    }
   ],
   "source": [
    "print(\"Total missing span      = \", np.sum(rate_map.span[rate_map.missing]))\n",
    "print(\"Total non-missing span  = \", np.sum(rate_map.span[rate_map.non_missing]))"
   ]
  },
  {
   "cell_type": "markdown",
   "id": "6e20b5c8",
   "metadata": {},
   "source": [
    "### Mapping interace\n",
    "\n",
    "The {ref}`sec_rate_maps_basics_mapping` takes the opposite\n",
    "approach to missing data to the {ref}`sec_rate_maps_basics_array`: missing\n",
    "intervals are automatically **filtered** out. Consider what we get when\n",
    "we iterate over the ``items()`` in the map:"
   ]
  },
  {
   "cell_type": "code",
   "execution_count": 14,
   "id": "d7cb462a",
   "metadata": {},
   "outputs": [
    {
     "name": "stdout",
     "output_type": "stream",
     "text": [
      "50.0 -> 0.1\n"
     ]
    }
   ],
   "source": [
    "for key, value in rate_map.items():\n",
    "    print(f\"{key} -> {value}\")"
   ]
  },
  {
   "cell_type": "markdown",
   "id": "291d6c60",
   "metadata": {},
   "source": [
    "As far as the mapping interface is concerned, we have **one** interval\n",
    "in this map, **not three**. This logic is reflected by the ``in`` operation:\n",
    "we only consider a position to be \"in\" the map if it's in a non-missing\n",
    "interval:"
   ]
  },
  {
   "cell_type": "code",
   "execution_count": 15,
   "id": "1db38654",
   "metadata": {},
   "outputs": [
    {
     "name": "stdout",
     "output_type": "stream",
     "text": [
      "Is position 5 in the map?  False\n",
      "Is position 50 in the map?  True\n"
     ]
    }
   ],
   "source": [
    "print(\"Is position 5 in the map? \", 5 in rate_map)\n",
    "print(\"Is position 50 in the map? \", 50 in rate_map)"
   ]
  },
  {
   "cell_type": "markdown",
   "id": "55bb13fd",
   "metadata": {},
   "source": [
    "An important consequence of this definition is that the ``len()`` of a\n",
    "{class}`.RateMap` is the **number of non-empty intervals**:"
   ]
  },
  {
   "cell_type": "code",
   "execution_count": 16,
   "id": "3a21bb64",
   "metadata": {},
   "outputs": [
    {
     "name": "stdout",
     "output_type": "stream",
     "text": [
      "len                       =  1\n",
      "num_intervals             =  3\n",
      "num_non_missing_intervals =  1\n"
     ]
    }
   ],
   "source": [
    "print(\"len                       = \", len(rate_map))\n",
    "print(\"num_intervals             = \", rate_map.num_intervals)\n",
    "print(\"num_non_missing_intervals = \", rate_map.num_non_missing_intervals)"
   ]
  },
  {
   "cell_type": "markdown",
   "id": "7857e8d5",
   "metadata": {},
   "source": [
    ":::{important}\n",
    "Because the ``len()`` of a RateMap is defined as the number of\n",
    "non-empty intervals we recommend using the {attr}`~.RateMap.num_intervals`\n",
    "and {attr}`~.RateMap.num_non_missing_intervals` for clarity.\n",
    ":::\n",
    "\n",
    "(sec_rate_maps_masking_and_slicing)=\n",
    "### Slicing\n",
    "\n",
    "Sometimes we are interested in running a simulation for a small portion\n",
    "of a map, for example when we want to focus on a small region of a much\n",
    "larger chromosome. We can do this using the\n",
    "{meth}`~.RateMap.slice` method, which extracts a target region from a\n",
    "given map and marks the flanking regions as {ref}`missing data<sec_rate_maps_missing>`,\n",
    "so that the original coordinate system is maintained.\n",
    "\n",
    ":::{todo}\n",
    "Example of the slice method and slice notation on small maps\n",
    "so we can illustrate them.\n",
    ":::\n",
    "\n",
    "#### Simulation example\n",
    "\n",
    "For example, if you wish to simulate a 40 kb section of human chromosome\n",
    "1 from position 0.7Mb, but keep the standard chromosome 1 genomic coordinates, you could\n",
    "do this:"
   ]
  },
  {
   "cell_type": "code",
   "execution_count": 17,
   "id": "475c0c04",
   "metadata": {},
   "outputs": [],
   "source": [
    "import io\n",
    "# First and last sections of human chr 1 build 36 genetic map taken from\n",
    "# https://ftp.ncbi.nlm.nih.gov/hapmap/recombination/latest/rates/\n",
    "hapmap_chr1_snippet = io.StringIO(\"\"\"\\\n",
    "chr position COMBINED_rate(cM/Mb) Genetic_Map(cM)\n",
    "1 72434 0.0015000000 0\n",
    "1 78032 0.0015000000 0.0000083970\n",
    "1 554461 0.0015000000 0.0007230405\n",
    "1 554484 0.0015000000 0.0007230750\n",
    "1 555296 0.0015000000 0.0007242930\n",
    "1 558185 0.0015000000 0.0007286265\n",
    "1 558390 0.0010000000 0.0007289340\n",
    "1 711153 1.9757156611 0.0008816970\n",
    "1 713682 2.0415081787 0.0058782819\n",
    "1 713754 2.1264889217 0.0060252705\n",
    "1 718105 2.1260252999 0.0152776238\n",
    "1 719811 2.1911540342 0.0189046230\n",
    "1 728873 2.1938678585 0.0387608608\n",
    "1 730720 2.1951341342 0.0428129347\n",
    "1 740098 1.3377804252 0.0633989027\n",
    "1 742429 0.9035885389 0.0665172688\n",
    "1 743132 0.9037201735 0.0671524916  # Next 256440 lines snipped\n",
    "1 247184904 0.6238867396 278.0908415443\n",
    "1 247185273 0 278.0910717585\"\"\")\n",
    "large_ratemap = msprime.RateMap.read_hapmap(hapmap_chr1_snippet)\n",
    "sliced_ratemap = large_ratemap.slice(700e3, 740e3)\n",
    "ts = msprime.sim_ancestry(10, recombination_rate=sliced_ratemap, random_seed=1)"
   ]
  },
  {
   "cell_type": "markdown",
   "id": "dea81412",
   "metadata": {},
   "source": [
    "Because the recombination rate is marked as unknown in regions below\n",
    "position 700 000 and above position\n",
    "740 000, `msprime` has not had to put effort into simulating recombination (and its\n",
    "effect on ancestry) in these regions, so the simulation completes very quickly, even\n",
    "though the resulting tree sequence has a `sequence_length` of 247 megabases.\n",
    "\n",
    ":::{seealso}\n",
    "See the {ref}`sec_ancestry_missing_data` section for more information\n",
    "about how ancestry simulations with missing rate data are performed.\n",
    ":::"
   ]
  }
 ],
 "metadata": {
  "jupytext": {
   "text_representation": {
    "extension": ".md",
    "format_name": "myst",
    "format_version": 0.12,
    "jupytext_version": "1.9.1"
   }
  },
  "kernelspec": {
   "display_name": "Python 3",
   "language": "python",
   "name": "python3"
  },
  "language_info": {
   "codemirror_mode": {
    "name": "ipython",
    "version": 3
   },
   "file_extension": ".py",
   "mimetype": "text/x-python",
   "name": "python",
   "nbconvert_exporter": "python",
   "pygments_lexer": "ipython3",
   "version": "3.8.10"
  },
  "source_map": [
   14,
   21,
   39,
   45,
   49,
   58,
   102,
   108,
   145,
   147,
   157,
   160,
   167,
   170,
   185,
   191,
   231,
   233,
   269,
   272,
   277,
   279,
   293,
   298,
   306,
   309,
   318,
   321,
   328,
   331,
   336,
   340,
   369,
   397
  ]
 },
 "nbformat": 4,
 "nbformat_minor": 5
}