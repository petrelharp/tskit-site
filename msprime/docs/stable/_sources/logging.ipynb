{
 "cells": [
  {
   "cell_type": "markdown",
   "id": "bdbf25d5",
   "metadata": {},
   "source": [
    "(sec_logging)=\n",
    "\n",
    "# Logging\n",
    "\n",
    "Msprime uses the Python {mod}`logging` infrastructure to help debugging complex\n",
    "simulations. Messages at the INFO level are high-level information about the\n",
    "state of the current simulation, such as switches in simulation model, etc.\n",
    "While it is straightforward to set up logging messages using the built-in\n",
    "Python methods, the [daiquiri](<https://daiquiri.readthedocs.io/en/latest/>)\n",
    "library is a bit more convenient. For example,\n",
    "\n",
    "% Note: the output is very ugly here but there doesn't seem to be much we\n",
    "% can do about until streams can be \"coalesced\" upstream:\n",
    "% https://github.com/executablebooks/jupyter-book/issues/973\n",
    "% We could try to change the buffering on stderr, I guess, but it seems\n",
    "% fiddly."
   ]
  },
  {
   "cell_type": "code",
   "execution_count": 1,
   "id": "3fe48f2d",
   "metadata": {},
   "outputs": [
    {
     "name": "stderr",
     "output_type": "stream",
     "text": [
      "2021-06-08 14:38:58,170 [2592] INFO     msprime.ancestry: Sampling 10 individuals with ploidy 2 in population 0 (name='pop_0') at time 0\n"
     ]
    },
    {
     "name": "stderr",
     "output_type": "stream",
     "text": [
      "2021-06-08 14:38:58,175 [2592] INFO     msprime.ancestry: Starting replicate 0\n"
     ]
    },
    {
     "name": "stderr",
     "output_type": "stream",
     "text": [
      "2021-06-08 14:38:58,175 [2592] INFO     msprime.ancestry: model[0] {'name': 'dtwf'} started at time=0 nodes=20 edges=0\n"
     ]
    },
    {
     "name": "stderr",
     "output_type": "stream",
     "text": [
      "2021-06-08 14:38:58,177 [2592] INFO     msprime.ancestry: Running model {'name': 'dtwf'} until max time: 100.000000\n"
     ]
    },
    {
     "name": "stderr",
     "output_type": "stream",
     "text": [
      "2021-06-08 14:38:58,179 [2592] INFO     msprime.ancestry: model[1] {'name': 'hudson'} started at time=100 nodes=25 edges=10\n"
     ]
    },
    {
     "name": "stderr",
     "output_type": "stream",
     "text": [
      "2021-06-08 14:38:58,180 [2592] INFO     msprime.ancestry: Running model {'name': 'hudson'} until max time: inf\n"
     ]
    },
    {
     "name": "stderr",
     "output_type": "stream",
     "text": [
      "2021-06-08 14:38:58,181 [2592] INFO     msprime.ancestry: Completed at time=5876.22 nodes=39 edges=38\n"
     ]
    }
   ],
   "source": [
    "import daiquiri\n",
    "import msprime\n",
    "\n",
    "daiquiri.setup(level=\"INFO\")\n",
    "ts = msprime.sim_ancestry(\n",
    "    10,\n",
    "    population_size=1000,\n",
    "    model=[\n",
    "        msprime.DiscreteTimeWrightFisher(duration=100),\n",
    "        msprime.StandardCoalescent(),\n",
    "    ],\n",
    "    random_seed=1234\n",
    ")"
   ]
  },
  {
   "cell_type": "markdown",
   "id": "8a820c64",
   "metadata": {},
   "source": [
    "When running larger simulations and trying to figure out when\n",
    "they might finish, it can be helpful to use the DEBUG logging output.\n",
    "For example:"
   ]
  },
  {
   "cell_type": "code",
   "execution_count": 2,
   "id": "60762bd6",
   "metadata": {},
   "outputs": [
    {
     "name": "stderr",
     "output_type": "stream",
     "text": [
      "2021-06-08 14:38:58,190 [2592] INFO     msprime.ancestry: Sampling 100000 individuals with ploidy 2 in population 0 (name='pop_0') at time 0\n"
     ]
    },
    {
     "name": "stderr",
     "output_type": "stream",
     "text": [
      "2021-06-08 14:38:58,307 [2592] INFO     msprime.ancestry: Starting replicate 0\n"
     ]
    },
    {
     "name": "stderr",
     "output_type": "stream",
     "text": [
      "2021-06-08 14:38:58,316 [2592] INFO     msprime.ancestry: model[0] {'name': 'hudson'} started at time=0 nodes=200000 edges=0\n"
     ]
    },
    {
     "name": "stderr",
     "output_type": "stream",
     "text": [
      "2021-06-08 14:38:58,317 [2592] INFO     msprime.ancestry: Running model {'name': 'hudson'} until max time: inf\n"
     ]
    },
    {
     "name": "stderr",
     "output_type": "stream",
     "text": [
      "2021-06-08 14:38:58,362 [2592] DEBUG    msprime.ancestry: time=0.0104295 ancestors=190080 ret=ExitReason.MAX_EVENTS\n"
     ]
    },
    {
     "name": "stderr",
     "output_type": "stream",
     "text": [
      "2021-06-08 14:38:58,395 [2592] DEBUG    msprime.ancestry: time=0.0219435 ancestors=180166 ret=ExitReason.MAX_EVENTS\n"
     ]
    },
    {
     "name": "stderr",
     "output_type": "stream",
     "text": [
      "2021-06-08 14:38:58,429 [2592] DEBUG    msprime.ancestry: time=0.0346803 ancestors=170256 ret=ExitReason.MAX_EVENTS\n"
     ]
    },
    {
     "name": "stderr",
     "output_type": "stream",
     "text": [
      "2021-06-08 14:38:58,463 [2592] DEBUG    msprime.ancestry: time=0.0491285 ancestors=160336 ret=ExitReason.MAX_EVENTS\n"
     ]
    },
    {
     "name": "stderr",
     "output_type": "stream",
     "text": [
      "2021-06-08 14:38:58,498 [2592] DEBUG    msprime.ancestry: time=0.0657941 ancestors=150418 ret=ExitReason.MAX_EVENTS\n"
     ]
    },
    {
     "name": "stderr",
     "output_type": "stream",
     "text": [
      "2021-06-08 14:38:58,534 [2592] DEBUG    msprime.ancestry: time=0.0847891 ancestors=140540 ret=ExitReason.MAX_EVENTS\n"
     ]
    },
    {
     "name": "stderr",
     "output_type": "stream",
     "text": [
      "2021-06-08 14:38:58,571 [2592] DEBUG    msprime.ancestry: time=0.106283 ancestors=130644 ret=ExitReason.MAX_EVENTS\n"
     ]
    },
    {
     "name": "stderr",
     "output_type": "stream",
     "text": [
      "2021-06-08 14:38:58,614 [2592] DEBUG    msprime.ancestry: time=0.131827 ancestors=120740 ret=ExitReason.MAX_EVENTS\n"
     ]
    },
    {
     "name": "stderr",
     "output_type": "stream",
     "text": [
      "2021-06-08 14:38:58,660 [2592] DEBUG    msprime.ancestry: time=0.161742 ancestors=110874 ret=ExitReason.MAX_EVENTS\n"
     ]
    },
    {
     "name": "stderr",
     "output_type": "stream",
     "text": [
      "2021-06-08 14:38:58,711 [2592] DEBUG    msprime.ancestry: time=0.197291 ancestors=101020 ret=ExitReason.MAX_EVENTS\n"
     ]
    },
    {
     "name": "stderr",
     "output_type": "stream",
     "text": [
      "2021-06-08 14:38:58,767 [2592] DEBUG    msprime.ancestry: time=0.240122 ancestors=91192 ret=ExitReason.MAX_EVENTS\n"
     ]
    },
    {
     "name": "stderr",
     "output_type": "stream",
     "text": [
      "2021-06-08 14:38:58,832 [2592] DEBUG    msprime.ancestry: time=0.293227 ancestors=81390 ret=ExitReason.MAX_EVENTS\n"
     ]
    },
    {
     "name": "stderr",
     "output_type": "stream",
     "text": [
      "2021-06-08 14:38:58,903 [2592] DEBUG    msprime.ancestry: time=0.361519 ancestors=71580 ret=ExitReason.MAX_EVENTS\n"
     ]
    },
    {
     "name": "stderr",
     "output_type": "stream",
     "text": [
      "2021-06-08 14:38:58,984 [2592] DEBUG    msprime.ancestry: time=0.45156 ancestors=61818 ret=ExitReason.MAX_EVENTS\n"
     ]
    },
    {
     "name": "stderr",
     "output_type": "stream",
     "text": [
      "2021-06-08 14:38:59,070 [2592] DEBUG    msprime.ancestry: time=0.573763 ancestors=52074 ret=ExitReason.MAX_EVENTS\n"
     ]
    },
    {
     "name": "stderr",
     "output_type": "stream",
     "text": [
      "2021-06-08 14:38:59,169 [2592] DEBUG    msprime.ancestry: time=0.755864 ancestors=42402 ret=ExitReason.MAX_EVENTS\n"
     ]
    },
    {
     "name": "stderr",
     "output_type": "stream",
     "text": [
      "2021-06-08 14:38:59,281 [2592] DEBUG    msprime.ancestry: time=1.03995 ancestors=32814 ret=ExitReason.MAX_EVENTS\n"
     ]
    },
    {
     "name": "stderr",
     "output_type": "stream",
     "text": [
      "2021-06-08 14:38:59,401 [2592] DEBUG    msprime.ancestry: time=1.54834 ancestors=23356 ret=ExitReason.MAX_EVENTS\n"
     ]
    },
    {
     "name": "stderr",
     "output_type": "stream",
     "text": [
      "2021-06-08 14:38:59,545 [2592] DEBUG    msprime.ancestry: time=2.72085 ancestors=14190 ret=ExitReason.MAX_EVENTS\n"
     ]
    },
    {
     "name": "stderr",
     "output_type": "stream",
     "text": [
      "2021-06-08 14:38:59,719 [2592] DEBUG    msprime.ancestry: time=7.38436 ancestors=5736 ret=ExitReason.MAX_EVENTS\n"
     ]
    },
    {
     "name": "stderr",
     "output_type": "stream",
     "text": [
      "2021-06-08 14:38:59,851 [2592] DEBUG    msprime.ancestry: time=150.174 ancestors=558 ret=ExitReason.MAX_EVENTS\n"
     ]
    },
    {
     "name": "stderr",
     "output_type": "stream",
     "text": [
      "2021-06-08 14:38:59,873 [2592] DEBUG    msprime.ancestry: time=4639.98 ancestors=154 ret=ExitReason.MAX_EVENTS\n"
     ]
    },
    {
     "name": "stderr",
     "output_type": "stream",
     "text": [
      "2021-06-08 14:38:59,888 [2592] DEBUG    msprime.ancestry: time=17020.3 ancestors=100 ret=ExitReason.MAX_EVENTS\n"
     ]
    },
    {
     "name": "stderr",
     "output_type": "stream",
     "text": [
      "2021-06-08 14:38:59,899 [2592] DEBUG    msprime.ancestry: time=35240.4 ancestors=96 ret=ExitReason.MAX_EVENTS\n"
     ]
    },
    {
     "name": "stderr",
     "output_type": "stream",
     "text": [
      "2021-06-08 14:38:59,908 [2592] DEBUG    msprime.ancestry: time=66125.6 ancestors=62 ret=ExitReason.MAX_EVENTS\n"
     ]
    },
    {
     "name": "stderr",
     "output_type": "stream",
     "text": [
      "2021-06-08 14:38:59,915 [2592] DEBUG    msprime.ancestry: time=192317 ancestors=0 ret=ExitReason.COALESCENCE\n"
     ]
    },
    {
     "name": "stderr",
     "output_type": "stream",
     "text": [
      "2021-06-08 14:38:59,915 [2592] DEBUG    msprime.ancestry: Skipping remaining 0 models\n"
     ]
    },
    {
     "name": "stderr",
     "output_type": "stream",
     "text": [
      "2021-06-08 14:38:59,916 [2592] INFO     msprime.ancestry: Completed at time=192317 nodes=407802 edges=437129\n"
     ]
    }
   ],
   "source": [
    "daiquiri.setup(level=\"DEBUG\")\n",
    "ts = msprime.sim_ancestry(\n",
    "    10 ** 5,\n",
    "    population_size=10000,\n",
    "    recombination_rate=2e-8,\n",
    "    sequence_length=1e6,\n",
    "    random_seed=32\n",
    ")"
   ]
  },
  {
   "cell_type": "markdown",
   "id": "23344312",
   "metadata": {},
   "source": [
    "In this example we run a reasonably large simulation and turn on\n",
    "the DEBUG output. This will then periodically (every 10,000 simulation\n",
    "events) print out the current time in the simulation, and the\n",
    "number of extant ancestral lineages.\n",
    "\n",
    ":::{warning}\n",
    "The format of these logging messages is not fixed and may change\n",
    "arbitrarily in the future. If you need to obtain the information within\n",
    "them, please open an issue on GitHub so that we can provide a documented\n",
    "API for this.\n",
    ":::"
   ]
  }
 ],
 "metadata": {
  "jupytext": {
   "text_representation": {
    "extension": ".md",
    "format_name": "myst",
    "format_version": 0.12,
    "jupytext_version": "1.9.1"
   }
  },
  "kernelspec": {
   "display_name": "Python 3",
   "language": "python",
   "name": "python3"
  },
  "language_info": {
   "codemirror_mode": {
    "name": "ipython",
    "version": 3
   },
   "file_extension": ".py",
   "mimetype": "text/x-python",
   "name": "python",
   "nbconvert_exporter": "python",
   "pygments_lexer": "ipython3",
   "version": "3.8.10"
  },
  "source_map": [
   12,
   32,
   46,
   52,
   62
  ]
 },
 "nbformat": 4,
 "nbformat_minor": 5
}