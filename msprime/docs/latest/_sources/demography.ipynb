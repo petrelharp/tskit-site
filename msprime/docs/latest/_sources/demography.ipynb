{
 "cells": [
  {
   "cell_type": "code",
   "execution_count": 1,
   "id": "90588844",
   "metadata": {
    "tags": [
     "remove-cell"
    ]
   },
   "outputs": [],
   "source": [
    "import msprime\n",
    "import numpy as np\n",
    "import matplotlib.pyplot as plt\n",
    "from IPython.display import SVG\n",
    "\n",
    "plt.rcParams[\"figure.figsize\"] = (10,7)"
   ]
  },
  {
   "cell_type": "markdown",
   "id": "0f43bc3d",
   "metadata": {},
   "source": [
    "(sec_demography)=\n",
    "\n",
    "# Demographic models\n",
    "\n",
    "By default, msprime assumes a single randomly mating population of a fixed\n",
    "size for {ref}`ancestry simulations <sec_ancestry>`, which is unrealistic\n",
    "for most purposes. To enable more realistic and complex simulations,\n",
    "msprime models population structure\n",
    "by defining a set of discrete {ref}`sec_demography_populations`,\n",
    "with {ref}`sec_demography_migration` between these populations occurring\n",
    "at different rates. Populations and their parameters can\n",
    "change over time, via {ref}`demographic events<sec_demography_events>`.\n",
    "Please see the {ref}`sec_demography_definitions`\n",
    "section for mathematical details.\n",
    "\n",
    "The information required to define a demographic model is encapsulated\n",
    "by the {class}`.Demography` object. To run\n",
    "{ref}`ancestry simulations <sec_ancestry>` for a given demography\n",
    "we use the `demography` parameter to {func}`.sim_ancestry` and define\n",
    "what populations our {ref}`samples <sec_ancestry_samples>` are drawn from.\n",
    "For example, here we create a three-population model in which\n",
    "populations ``A`` and ``B`` split from ``C`` 1000 generations ago.\n",
    "We then run an ancestry simulation based on this demography;\n",
    "here we draw one diploid sample each from ``A`` and ``B`` at time zero:"
   ]
  },
  {
   "cell_type": "code",
   "execution_count": 2,
   "id": "c8db4bf9",
   "metadata": {},
   "outputs": [
    {
     "data": {
      "text/html": [
       "\n",
       "<div>\n",
       "  <style>\n",
       "    .tskit-table thead tr th {text-align: left;padding: 0.5em 0.5em;}\n",
       "    .tskit-table tbody tr td {padding: 0.5em 0.5em;}\n",
       "    .tskit-table tbody tr td:first-of-type {text-align: left;}\n",
       "    .tskit-details-label {vertical-align: top; padding-right:5px;}\n",
       "    .tskit-table-set {display: inline-flex;flex-wrap: wrap;margin: -12px 0 0 -12px;width: calc(100% + 12px);}\n",
       "    .tskit-table-set-table {margin: 12px 0 0 12px;}\n",
       "    details {display: inline-block;}\n",
       "    summary {cursor: pointer; outline: 0; display: list-item;}\n",
       "  </style>\n",
       "  <div class=\"tskit-table-set\">\n",
       "    <div class=\"tskit-table-set-table\">\n",
       "      <table class=\"tskit-table\">\n",
       "        <thead>\n",
       "          <tr>\n",
       "            <th style=\"padding:0;line-height:21px;\">\n",
       "              <img style=\"height: 32px;display: inline-block;padding: 3px 5px 3px 0;\"src=\"https://raw.githubusercontent.com/tskit-dev/administrative/main/tskit_logo.svg\"/>\n",
       "              <a target=\"_blank\" href=\"https://tskit.readthedocs.io/en/latest/python-api.html#the-treesequence-class\"> Tree Sequence\n",
       "            </th>\n",
       "          </tr>\n",
       "        </thead>\n",
       "        <tbody>\n",
       "          <tr><td>Trees</td><td>1</td></tr>\n",
       "          <tr><td>Sequence Length</td><td>1.0</td></tr>\n",
       "          <tr><td>Sample Nodes</td><td>4</td></tr>\n",
       "          <tr><td>Total Size</td><td>2.4 KiB</td></tr>\n",
       "          <tr>\n",
       "            <td>Metadata</td><td style=\"text-align: left;\">No Metadata</td></tr>\n",
       "        </tbody>\n",
       "      </table>\n",
       "    </div>\n",
       "    <div class=\"tskit-table-set-table\">\n",
       "      <table class=\"tskit-table\">\n",
       "        <thead>\n",
       "          <tr>\n",
       "            <th style=\"line-height:21px;\">Table</th>\n",
       "            <th>Rows</th>\n",
       "            <th>Size</th>\n",
       "            <th>Has Metadata</th>\n",
       "          </tr>\n",
       "        </thead>\n",
       "        <tbody>\n",
       "\n",
       "      <tr>\n",
       "        <td>Edges</td>\n",
       "          <td>6</td>\n",
       "          <td>172 Bytes</td>\n",
       "          <td style=\"text-align: center;\">\n",
       "\n",
       "          </td>\n",
       "        </tr>\n",
       "\n",
       "      <tr>\n",
       "        <td>Individuals</td>\n",
       "          <td>2</td>\n",
       "          <td>44 Bytes</td>\n",
       "          <td style=\"text-align: center;\">\n",
       "\n",
       "          </td>\n",
       "        </tr>\n",
       "\n",
       "      <tr>\n",
       "        <td>Migrations</td>\n",
       "          <td>0</td>\n",
       "          <td>4 Bytes</td>\n",
       "          <td style=\"text-align: center;\">\n",
       "\n",
       "          </td>\n",
       "        </tr>\n",
       "\n",
       "      <tr>\n",
       "        <td>Mutations</td>\n",
       "          <td>0</td>\n",
       "          <td>8 Bytes</td>\n",
       "          <td style=\"text-align: center;\">\n",
       "\n",
       "          </td>\n",
       "        </tr>\n",
       "\n",
       "      <tr>\n",
       "        <td>Nodes</td>\n",
       "          <td>7</td>\n",
       "          <td>172 Bytes</td>\n",
       "          <td style=\"text-align: center;\">\n",
       "\n",
       "          </td>\n",
       "        </tr>\n",
       "\n",
       "      <tr>\n",
       "        <td>Populations</td>\n",
       "          <td>3</td>\n",
       "          <td>278 Bytes</td>\n",
       "          <td style=\"text-align: center;\">\n",
       "            ✅\n",
       "          </td>\n",
       "        </tr>\n",
       "\n",
       "      <tr>\n",
       "        <td>Provenances</td>\n",
       "          <td>1</td>\n",
       "          <td>1.6 KiB</td>\n",
       "          <td style=\"text-align: center;\">\n",
       "\n",
       "          </td>\n",
       "        </tr>\n",
       "\n",
       "      <tr>\n",
       "        <td>Sites</td>\n",
       "          <td>0</td>\n",
       "          <td>8 Bytes</td>\n",
       "          <td style=\"text-align: center;\">\n",
       "\n",
       "          </td>\n",
       "        </tr>\n",
       "\n",
       "        </tbody>\n",
       "      </table>\n",
       "    </div>\n",
       "  </div>\n",
       "</div>\n"
      ],
      "text/plain": [
       "<tskit.trees.TreeSequence at 0x7f5d62e26d60>"
      ]
     },
     "execution_count": 2,
     "metadata": {},
     "output_type": "execute_result"
    }
   ],
   "source": [
    "demography = msprime.Demography()\n",
    "demography.add_population(name=\"A\", initial_size=10_000)\n",
    "demography.add_population(name=\"B\", initial_size=5_000)\n",
    "demography.add_population(name=\"C\", initial_size=1_000)\n",
    "demography.add_population_split(time=1000, derived=[\"A\", \"B\"], ancestral=\"C\")\n",
    "ts = msprime.sim_ancestry(samples={\"A\": 1, \"B\": 1}, demography=demography, random_seed=12)\n",
    "ts"
   ]
  },
  {
   "cell_type": "markdown",
   "id": "b09134a3",
   "metadata": {},
   "source": [
    "Please see the {ref}`sec_demography_examples` section for\n",
    "more detailed examples of models from the literature.\n",
    "\n",
    "---\n",
    "\n",
    "## Quick reference\n",
    "\n",
    "{class}`.Demography`\n",
    ": Description of a demographic model\n",
    "\n",
    "**Building models**\n",
    "\n",
    "{meth}`.Demography.add_population`\n",
    ": Add a population to the model\n",
    "\n",
    "{meth}`.Demography.set_symmetric_migration_rate`\n",
    ": Sets the symmetric migration rates among a set of populations\n",
    "\n",
    "{meth}`.Demography.set_migration_rate`\n",
    ": Sets the migration rate from one population to another\n",
    "\n",
    "{meth}`.Demography.add_population_parameters_change`\n",
    ": Change population size and growth rate values at some time\n",
    "\n",
    "{meth}`.Demography.add_migration_rate_change`\n",
    ": Change the migration rate from one population to another at some time\n",
    "\n",
    "{meth}`.Demography.add_symmetric_migration_rate_change`\n",
    ": Change the migration rate among a set of populations at some time\n",
    "\n",
    "{meth}`.Demography.add_population_split`\n",
    ": One or more derived populations split from an ancestral population at a given time\n",
    "\n",
    "{meth}`.Demography.add_admixture`\n",
    ": A derived population where the given fractions of the individuals are\n",
    "  migrants from the corresponding ancestral populations.\n",
    "\n",
    "\n",
    "**Predefined theoretical models**\n",
    "\n",
    "{meth}`.Demography.isolated_model`\n",
    ": A model of isolated populations\n",
    "\n",
    "{meth}`.Demography.island_model`\n",
    ": An interconnected web of populations\n",
    "\n",
    "{meth}`.Demography.stepping_stone_model`\n",
    ": Simple spatial model\n",
    "\n",
    "**Constructing models from existing definitions**\n",
    "\n",
    "{meth}`.Demography.from_species_tree`\n",
    ": Parse a newick species tree\n",
    "\n",
    "{meth}`.Demography.from_starbeast`\n",
    ": Parse StarBeast output\n",
    "\n",
    "{meth}`.Demography.from_old_style`\n",
    ": Demography from msprime legacy 0.x inputs\n",
    "\n",
    "**Debugging**\n",
    "\n",
    "{meth}`.Demography.debug`\n",
    ": Get a Debugger for a demography\n",
    "\n",
    "{class}`.DemographyDebugger`\n",
    ": Debugger for demographic models\n",
    "\n",
    "**Numerical methods**\n",
    "\n",
    "{meth}`.DemographyDebugger.coalescence_rate_trajectory`\n",
    ": Compute mean coalescence rate and fraction of uncoalesced lineages\n",
    "\n",
    "{meth}`.DemographyDebugger.mean_coalescence_time`\n",
    ": Compute the mean time until coalescence\n",
    "\n",
    "{meth}`.DemographyDebugger.lineage_probabilities`\n",
    ": Probability of the location of lineages over time\n",
    "\n",
    "---\n",
    "\n",
    "## Model\n",
    "\n",
    "In this section we define the model used to describe demography\n",
    "in msprime, as encapsulated by a {class}`.Demography` object.\n",
    "\n",
    "(sec_demography_direction_of_time)=\n",
    "\n",
    "### Direction of time\n",
    "\n",
    "Msprime simulates retrospective population models like the coalescent\n",
    "in which we begin with a sample of lineages at the present time\n",
    "and then simulate the historical events that affect these lineages.\n",
    "The process moves **backwards in time**, and time is measured in\n",
    "units of **generations ago**. Everything in msprime is considered from\n",
    "this backwards in time perspective of the simulation.\n",
    "So here, and throughout the documentation,\n",
    "when we say something happens \"before\" or \"after\" a particular event\n",
    "this is in terms of the simulation itself, and therefore usually\n",
    "the **opposite** of what you would mean if thinking about things\n",
    "forwards in time.\n",
    "\n",
    "This is initially very confusing, but getting used to thinking \"backwards in\n",
    "time\" is essential for coalescent modelling and working with ancestral\n",
    "histories in general, so it's worth the effort of getting used to it. For\n",
    "example, understanding how different patterns of lineages moving from one\n",
    "population to another backwards in time corresponds to\n",
    "{ref}`population splits<sec_demography_events_population_split>` and\n",
    "{ref}`admixture<sec_demography_events_admixture>` events is a\n",
    "great way to deepen your understanding of the coalescent in general.\n",
    "\n",
    "Mostly it doesn't matter, and it's just a point of clarification\n",
    "for reading this documentation and understanding why the models\n",
    "we define are usually expressed backwards in time. However,\n",
    "it is essential to be remember that ``source`` and ``dest``\n",
    "populations are from the perspective of the coalescent\n",
    "when describing {ref}`migration<sec_demography_migration>`,\n",
    "which we try to flag in this documentation where it's important.\n",
    "\n",
    "(sec_demography_definitions)=\n",
    "\n",
    "### Definitions\n",
    "\n",
    "Formally, population structure in msprime is modelled by specifying a fixed\n",
    "number of subpopulations {math}`d`.\n",
    "Each population has an initial absolute population size {math}`s`\n",
    "and a per generation exponential growth rate {math}`\\alpha`. The size of a\n",
    "given population at time {math}`t` in the past (measured in generations) is\n",
    "therefore given by {math}`s e^{-\\alpha t}`. Demographic events that occur in\n",
    "the history of the simulated population alter some aspect of this population\n",
    "configuration at a particular time in the past.\n",
    "\n",
    "Continuous migration between populations is modelled by a\n",
    "{math}`d \\times d` matrix {math}`M` of per-generation migration rates.\n",
    "The {math}`(j,k)^{th}` entry\n",
    "of {math}`M` is the expected number of migrants moving from population\n",
    "{math}`k` to population {math}`j` per generation, divided by the size of\n",
    "population {math}`j`. In terms of the coalescent process, {math}`M_{j,k}`\n",
    "gives the rate at which an ancestral lineage moves from population\n",
    "{math}`j` to population {math}`k`, as one follows it back through time. In\n",
    "continuous-time models, when {math}`M_{j,k}` is close to zero, this rate is\n",
    "approximately equivalent to the fraction of population {math}`j` that is\n",
    "replaced each generation by migrants from population {math}`k`. In\n",
    "discrete-time models, the equivalence is exact and each row of {math}`M`\n",
    "has the constraint {math}`\\sum_{k \\neq j} M_{j,k} \\leq 1`. This differs\n",
    "from the migration matrix one usually uses in population demography: if\n",
    "{math}`m_{k,j}` is the proportion of individuals (in the usual sense; not\n",
    "lineages) in population {math}`k` that move to population {math}`j` per\n",
    "generation, then translating this proportion of population {math}`k` to a\n",
    "proportion of population {math}`j`, we have\n",
    "{math}`M_{j,k} = m_{k,j} \\times N_k / N_j`.\n",
    "\n",
    "The details of population structure in msprime closely follow the model\n",
    "used in the classical\n",
    "[ms](https://academic.oup.com/bioinformatics/article/18/2/337/225783)\n",
    "program.\n",
    "\n",
    "---\n",
    "\n",
    "(sec_demography_populations)=\n",
    "\n",
    "### Populations\n",
    "\n",
    "A {class}`.Demography` contains a list of {class}`.Population` objects.\n",
    "A population represents some randomly mating set of individuals that\n",
    "optionally exchange migrants with other populations at some rate.\n",
    "\n",
    ":::{note}\n",
    "Msprime version 0.x performed poorly when there were large numbers of\n",
    "populations, even if most of those populations had no lineages present\n",
    "for much of the simulation.\n",
    "Version 1 has a much better support for large numbers of populations,\n",
    "and there is now no performance cost for having inactive populations.\n",
    ":::\n",
    "\n",
    "Populations essentially have two purposes:\n",
    "\n",
    "1. To define the state of the population at the start of the simulation (i.e.,\n",
    "    the {ref}`sec_demography_populations_initial_size` and\n",
    "    the {ref}`sec_demography_populations_growth_rate`)\n",
    "2. To define {ref}`sec_demography_populations_metadata` which is\n",
    "    associated with the corresponding {class}`tskit.Population` objects\n",
    "    in simulated tree sequences.\n",
    "\n",
    "Populations additionally have a \"state\" which determines whether lineages\n",
    "can be present within them or not at a given time, as described in\n",
    "the {ref}`sec_demography_populations_life_cycle` section.\n",
    "\n",
    "(sec_demography_populations_identifiers)=\n",
    "\n",
    "#### Identifying populations\n",
    "\n",
    "When used as part of the {class}`.Demography`, each population has an integer\n",
    "ID (its zero-based index in the `populations` list) and a ``name`` attribute.\n",
    "By default, msprime assigns the name `pop_j` to the population at index\n",
    "`j` in a demographic model. These default names can be overridden, and\n",
    "users should give populations more descriptive names when building complex models.\n",
    "\n",
    ":::{Attention}\n",
    "Population names must be unique within a single {class}`.Demography` and be valid\n",
    "[Python identifiers](https://docs.python.org/3/reference/lexical_analysis.html#identifiers).\n",
    "For example, this means that names like \"my_pop_1\" is valid, but \"my-pop-1\" and \"my pop 1\"\n",
    "are not.\n",
    ":::\n",
    "\n",
    "When defining empirical models (such as those in the {ref}`sec_demography_examples`\n",
    "section) names should be chosen for clarity.\n",
    "We also encourage the use\n",
    "of {ref}`population split<sec_demography_events_population_split>`\n",
    "events to explicitly name and describe the different phases of a demographic\n",
    "history rather than use anonymous population size changes (as encouraged\n",
    "by the {ref}`legacy 0.x API<sec_legacy_0x>`). This makes it easier\n",
    "to interpret the resulting tree sequence files (since detailed metadata\n",
    "about the populations in which coalescences occurred is maintained)\n",
    "and makes it easier to avoid\n",
    "[modelling errors](http://dx.doi.org/10.1016/j.ajhg.2020.08.017).\n",
    "\n",
    "(sec_demography_populations_initial_size)=\n",
    "\n",
    "#### Initial size\n",
    "\n",
    "The `initial_size` of a population is its size at the start of a simulation\n",
    "(looking {ref}`backwards in time<sec_demography_direction_of_time>`).\n",
    "If the population's\n",
    "{ref}`sec_demography_populations_growth_rate` is zero, then\n",
    "the population will have the same size for all time (unless there are\n",
    "some {ref}`sec_demography_events` that change these parameters).\n",
    "\n",
    ":::{note}\n",
    "The ``initial_size`` of a population refers to its size at time zero,\n",
    "and is **not** affected by the simulation {ref}`start_time<sec_ancestry_start_time>`.\n",
    ":::\n",
    "\n",
    "When using methods like {meth}`.Demography.island_model` to describe\n",
    "simple multipopulation models, the ``initial_size`` parameter takes\n",
    "a **list** of size values which defines both the number of\n",
    "populations and their sizes. For example, here we define two isolated\n",
    "populations (i.e., which have no migration) with sizes 100 and 200:"
   ]
  },
  {
   "cell_type": "code",
   "execution_count": 3,
   "id": "45c0c69d",
   "metadata": {},
   "outputs": [
    {
     "data": {
      "text/html": [
       "<div style=\"margin-left:20px\"><div><style scoped=\"\">\n",
       "            .tskit-table thead tr th:only-of-type {vertical-align: middle;}\n",
       "            .tskit-table thead tr th {text-align: center;vertical-align: top;}\n",
       "            .tskit-table tbody td {text-align: right;padding: 0.5em 0.5em;}\n",
       "            .tskit-table tbody th {padding: 0.5em 0.5em;}\n",
       "        </style><b>Populations (2)</b><table border=\"1\" class=\"tskit-table\"><thead><tr><th>id</th><th>name</th><th>description</th><th>initial_size</th><th>growth_rate</th><th>default_sampling_time</th><th>extra_metadata</th></tr></thead><tbody><tr><td>0</td><td>pop_0</td><td></td><td>100.0</td><td>0</td><td>0</td><td>{}</td></tr><tr><td>1</td><td>pop_1</td><td></td><td>200.0</td><td>0</td><td>0</td><td>{}</td></tr></tbody></table></div><div><style scoped=\"\">\n",
       "            .tskit-table thead tr th:only-of-type {vertical-align: middle;}\n",
       "            .tskit-table thead tr th {text-align: center;vertical-align: top;}\n",
       "            .tskit-table tbody td {text-align: right;padding: 0.5em 0.5em;}\n",
       "            .tskit-table tbody th {padding: 0.5em 0.5em;}\n",
       "        </style><b>Migration matrix (all zero)</b><table border=\"1\" class=\"tskit-table\"><thead><tr></tr></thead><tbody></tbody></table></div><div><style scoped=\"\">\n",
       "            .tskit-table thead tr th:only-of-type {vertical-align: middle;}\n",
       "            .tskit-table thead tr th {text-align: center;vertical-align: top;}\n",
       "            .tskit-table tbody td {text-align: right;padding: 0.5em 0.5em;}\n",
       "            .tskit-table tbody th {padding: 0.5em 0.5em;}\n",
       "        </style><b>Events (0)</b><table border=\"1\" class=\"tskit-table\"><thead><tr></tr></thead><tbody></tbody></table></div></div>"
      ],
      "text/plain": [
       "Demography(populations=[Population(initial_size=100.0, growth_rate=0.0, name='pop_0', description='', extra_metadata={}, default_sampling_time=None, initially_active=None, id=0), Population(initial_size=200.0, growth_rate=0.0, name='pop_1', description='', extra_metadata={}, default_sampling_time=None, initially_active=None, id=1)], events=[], migration_matrix=array([[0., 0.],\n",
       "       [0., 0.]]))"
      ]
     },
     "execution_count": 3,
     "metadata": {},
     "output_type": "execute_result"
    }
   ],
   "source": [
    "demography = msprime.Demography.isolated_model([100, 200])\n",
    "demography"
   ]
  },
  {
   "cell_type": "markdown",
   "id": "01bf16b4",
   "metadata": {},
   "source": [
    "When we have multiple populations that are the same size we can use\n",
    "some Python tricks to avoid code duplication. For example, here\n",
    "we create three populations with size 100:"
   ]
  },
  {
   "cell_type": "code",
   "execution_count": 4,
   "id": "a8901224",
   "metadata": {},
   "outputs": [
    {
     "data": {
      "text/html": [
       "<div style=\"margin-left:20px\"><div><style scoped=\"\">\n",
       "            .tskit-table thead tr th:only-of-type {vertical-align: middle;}\n",
       "            .tskit-table thead tr th {text-align: center;vertical-align: top;}\n",
       "            .tskit-table tbody td {text-align: right;padding: 0.5em 0.5em;}\n",
       "            .tskit-table tbody th {padding: 0.5em 0.5em;}\n",
       "        </style><b>Populations (3)</b><table border=\"1\" class=\"tskit-table\"><thead><tr><th>id</th><th>name</th><th>description</th><th>initial_size</th><th>growth_rate</th><th>default_sampling_time</th><th>extra_metadata</th></tr></thead><tbody><tr><td>0</td><td>pop_0</td><td></td><td>100.0</td><td>0</td><td>0</td><td>{}</td></tr><tr><td>1</td><td>pop_1</td><td></td><td>100.0</td><td>0</td><td>0</td><td>{}</td></tr><tr><td>2</td><td>pop_2</td><td></td><td>100.0</td><td>0</td><td>0</td><td>{}</td></tr></tbody></table></div><div><style scoped=\"\">\n",
       "            .tskit-table thead tr th:only-of-type {vertical-align: middle;}\n",
       "            .tskit-table thead tr th {text-align: center;vertical-align: top;}\n",
       "            .tskit-table tbody td {text-align: right;padding: 0.5em 0.5em;}\n",
       "            .tskit-table tbody th {padding: 0.5em 0.5em;}\n",
       "        </style><b>Migration matrix (all zero)</b><table border=\"1\" class=\"tskit-table\"><thead><tr></tr></thead><tbody></tbody></table></div><div><style scoped=\"\">\n",
       "            .tskit-table thead tr th:only-of-type {vertical-align: middle;}\n",
       "            .tskit-table thead tr th {text-align: center;vertical-align: top;}\n",
       "            .tskit-table tbody td {text-align: right;padding: 0.5em 0.5em;}\n",
       "            .tskit-table tbody th {padding: 0.5em 0.5em;}\n",
       "        </style><b>Events (0)</b><table border=\"1\" class=\"tskit-table\"><thead><tr></tr></thead><tbody></tbody></table></div></div>"
      ],
      "text/plain": [
       "Demography(populations=[Population(initial_size=100.0, growth_rate=0.0, name='pop_0', description='', extra_metadata={}, default_sampling_time=None, initially_active=None, id=0), Population(initial_size=100.0, growth_rate=0.0, name='pop_1', description='', extra_metadata={}, default_sampling_time=None, initially_active=None, id=1), Population(initial_size=100.0, growth_rate=0.0, name='pop_2', description='', extra_metadata={}, default_sampling_time=None, initially_active=None, id=2)], events=[], migration_matrix=array([[0., 0., 0.],\n",
       "       [0., 0., 0.],\n",
       "       [0., 0., 0.]]))"
      ]
     },
     "execution_count": 4,
     "metadata": {},
     "output_type": "execute_result"
    }
   ],
   "source": [
    "demography = msprime.Demography.isolated_model([100] * 3)\n",
    "demography"
   ]
  },
  {
   "cell_type": "markdown",
   "id": "f1a1cf31",
   "metadata": {},
   "source": [
    ":::{warning}\n",
    "We use the {meth}`.Demography.isolated_model` function here as a\n",
    "way to create example demographies. However, it's\n",
    "important to note that simulations in which we sample from\n",
    "multiple isolated populations will fail with an error because\n",
    "the lineages in question can never coalesce. See\n",
    "the {ref}`sec_ancestry_errors_infinite_waiting_time` section\n",
    "for more details.\n",
    ":::\n",
    "\n",
    "(sec_demography_populations_growth_rate)=\n",
    "\n",
    "#### Growth rate\n",
    "\n",
    "Each population has an exponential growth rate so that the\n",
    "size of a population with initial size {math}`s`\n",
    "and growth rate {math}`\\alpha` is {math}`s e^{-\\alpha t}`\n",
    "at time {math}`t` generations in the past (see the\n",
    "{ref}`sec_demography_definitions` section for more details).\n",
    "\n",
    "Growth rates for functions like {meth}`.Demography.island_model`\n",
    "that construct a {class}`.Demography` are specified in a similar\n",
    "way to {ref}`sec_demography_populations_initial_size`: we provide\n",
    "a list of sizes equal to the number of populations. For\n",
    "example, here we define 2 populations with different\n",
    "population sizes and growth rates:"
   ]
  },
  {
   "cell_type": "code",
   "execution_count": 5,
   "id": "232a5ba7",
   "metadata": {},
   "outputs": [
    {
     "data": {
      "text/html": [
       "<div style=\"margin-left:20px\"><div><style scoped=\"\">\n",
       "            .tskit-table thead tr th:only-of-type {vertical-align: middle;}\n",
       "            .tskit-table thead tr th {text-align: center;vertical-align: top;}\n",
       "            .tskit-table tbody td {text-align: right;padding: 0.5em 0.5em;}\n",
       "            .tskit-table tbody th {padding: 0.5em 0.5em;}\n",
       "        </style><b>Populations (2)</b><table border=\"1\" class=\"tskit-table\"><thead><tr><th>id</th><th>name</th><th>description</th><th>initial_size</th><th>growth_rate</th><th>default_sampling_time</th><th>extra_metadata</th></tr></thead><tbody><tr><td>0</td><td>pop_0</td><td></td><td>100.0</td><td>0.01</td><td>0</td><td>{}</td></tr><tr><td>1</td><td>pop_1</td><td></td><td>200.0</td><td>0.02</td><td>0</td><td>{}</td></tr></tbody></table></div><div><style scoped=\"\">\n",
       "            .tskit-table thead tr th:only-of-type {vertical-align: middle;}\n",
       "            .tskit-table thead tr th {text-align: center;vertical-align: top;}\n",
       "            .tskit-table tbody td {text-align: right;padding: 0.5em 0.5em;}\n",
       "            .tskit-table tbody th {padding: 0.5em 0.5em;}\n",
       "        </style><b>Migration matrix (all zero)</b><table border=\"1\" class=\"tskit-table\"><thead><tr></tr></thead><tbody></tbody></table></div><div><style scoped=\"\">\n",
       "            .tskit-table thead tr th:only-of-type {vertical-align: middle;}\n",
       "            .tskit-table thead tr th {text-align: center;vertical-align: top;}\n",
       "            .tskit-table tbody td {text-align: right;padding: 0.5em 0.5em;}\n",
       "            .tskit-table tbody th {padding: 0.5em 0.5em;}\n",
       "        </style><b>Events (0)</b><table border=\"1\" class=\"tskit-table\"><thead><tr></tr></thead><tbody></tbody></table></div></div>"
      ],
      "text/plain": [
       "Demography(populations=[Population(initial_size=100.0, growth_rate=0.01, name='pop_0', description='', extra_metadata={}, default_sampling_time=None, initially_active=None, id=0), Population(initial_size=200.0, growth_rate=0.02, name='pop_1', description='', extra_metadata={}, default_sampling_time=None, initially_active=None, id=1)], events=[], migration_matrix=array([[0., 0.],\n",
       "       [0., 0.]]))"
      ]
     },
     "execution_count": 5,
     "metadata": {},
     "output_type": "execute_result"
    }
   ],
   "source": [
    "demography = msprime.Demography.isolated_model([100, 200], growth_rate=[0.01, 0.02])\n",
    "demography"
   ]
  },
  {
   "cell_type": "markdown",
   "id": "6e333738",
   "metadata": {},
   "source": [
    "```{note}\n",
    "The {class}`.DemographyDebugger` is a useful tool to help understand\n",
    "how population sizes change over time. See the\n",
    "{ref}`sec_demography_debugging_tools` section for details.\n",
    "```\n",
    "\n",
    "(sec_demography_populations_metadata)=\n",
    "\n",
    "#### Metadata\n",
    "\n",
    "In [tskit](https://tskit.dev/tskit) the {class}`Population<tskit.Population>` class\n",
    "largely exists as a container for {ref}`tskit:sec_metadata`. Metadata is\n",
    "important and useful: it lets us associate information about our simulated\n",
    "populations with the output tree sequence, which we can then use\n",
    "when we are analysing the data.\n",
    "\n",
    "Msprime associates two pieces of mandatory metadata with every population:\n",
    "their `name` and `description`. For example,"
   ]
  },
  {
   "cell_type": "code",
   "execution_count": 6,
   "id": "b9d57289",
   "metadata": {},
   "outputs": [
    {
     "name": "stdout",
     "output_type": "stream",
     "text": [
      "[{'description': '', 'name': 'pop_0'}, {'description': '', 'name': 'pop_1'}]\n"
     ]
    }
   ],
   "source": [
    "demography = msprime.Demography.stepping_stone_model([100, 100], migration_rate=0.01)\n",
    "ts = msprime.sim_ancestry({0: 1, 1: 1}, demography=demography)\n",
    "print([population.metadata for population in ts.populations()])"
   ]
  },
  {
   "cell_type": "markdown",
   "id": "96adfd46",
   "metadata": {},
   "source": [
    "Here we have two populations in the output tree sequence, and the metadata\n",
    "for each population is a dictionary containing the keys ``name`` and\n",
    "``description``. These correspond to the same attributes on the msprime\n",
    "{class}`.Population` class. We don't have to just use the defaults\n",
    "for these values: we can set them to (more or less) anything we like.\n",
    "For example,"
   ]
  },
  {
   "cell_type": "code",
   "execution_count": 7,
   "id": "afa52bfb",
   "metadata": {},
   "outputs": [
    {
     "name": "stdout",
     "output_type": "stream",
     "text": [
      "id=0: {'description': 'This population is totally awesome', 'name': 'awesome_pop'}\n",
      "id=1: {'description': 'This population is even more awesome', 'name': 'more_awesome_pop'}\n"
     ]
    }
   ],
   "source": [
    "demography = msprime.Demography.stepping_stone_model([100, 100], migration_rate=0.01)\n",
    "demography[0].name = \"awesome_pop\"\n",
    "demography[0].description = \"This population is totally awesome\"\n",
    "demography[1].name = \"more_awesome_pop\"\n",
    "demography[1].description = \"This population is even more awesome\"\n",
    "ts = msprime.sim_ancestry({0: 1, 1: 1}, demography=demography)\n",
    "for population in ts.populations():\n",
    "    print(f\"id={population.id}: {population.metadata}\")"
   ]
  },
  {
   "cell_type": "markdown",
   "id": "f4e745b4",
   "metadata": {},
   "source": [
    "As well as the default ``name`` and ``description`` metadata keys\n",
    "we can also associate additional metadata with population objects using\n",
    "the ``extra_metadata`` attribute of the msprime {class}`.Population`\n",
    "object. For example,"
   ]
  },
  {
   "cell_type": "code",
   "execution_count": 8,
   "id": "00e3f9e0",
   "metadata": {},
   "outputs": [
    {
     "name": "stdout",
     "output_type": "stream",
     "text": [
      "0 \t 👍 awesome_pop\n",
      "1 \t 🤘 more_awesome_pop\n"
     ]
    }
   ],
   "source": [
    "demography = msprime.Demography.stepping_stone_model([100, 100], migration_rate=0.01)\n",
    "demography[0].name = \"awesome_pop\"\n",
    "demography[0].extra_metadata = {\"emoji\": \"👍\"}\n",
    "demography[1].name = \"more_awesome_pop\"\n",
    "demography[1].extra_metadata = {\"emoji\": \"🤘\"}\n",
    "ts = msprime.sim_ancestry({0: 1, 1: 1}, demography=demography)\n",
    "for pop in ts.populations():\n",
    "    print(pop.id, \"\\t\", pop.metadata[\"emoji\"], pop.metadata[\"name\"])"
   ]
  },
  {
   "cell_type": "markdown",
   "id": "623ec738",
   "metadata": {},
   "source": [
    "(sec_demography_populations_life_cycle)=\n",
    "\n",
    "#### Life cycle\n",
    "\n",
    "Each population has a ``state`` associated with it during the simulation,\n",
    "which can be one of ``INACTIVE``, ``ACTIVE`` or ``PREVIOUSLY_ACTIVE``.\n",
    "Populations can follow one of two state progressions:\n",
    "```\n",
    "INACTIVE → ACTIVE\n",
    "```\n",
    "and\n",
    "```\n",
    "ACTIVE → PREVIOUSLY_ACTIVE\n",
    "```\n",
    "All populations are ``ACTIVE`` by default at the start of the simulation\n",
    "(looking {ref}`backwards in time<sec_demography_direction_of_time>`)\n",
    "except if they are ``ancestral`` in a\n",
    "{ref}`sec_demography_events_population_split`.\n",
    "In this case populations are initially ``INACTIVE``, by default.\n",
    "An ``ancestral`` population then transitions\n",
    "from ``INACTIVE`` → ``ACTIVE`` when the corresponding\n",
    "population split event occurs.\n",
    "\n",
    "It is possible to override the default initial state of the population\n",
    "that is ancestral in a population split event using the ``initially_active``\n",
    "boolean flag in the {class}`.Population` class. This is to facilitate\n",
    "\"trunk population\" models, as shown in\n",
    "{ref}`this example<sec_demography_examples_trunk_population>`.\n",
    "\n",
    "Populations transition from ``ACTIVE`` → ``PREVIOUSLY_ACTIVE`` when they\n",
    "are ``derived`` in either population split or admixture events.\n",
    "\n",
    "Any attempts to move lineages into a population that is not ``ACTIVE``\n",
    "via sampling, continuous or pulse migration will result in an error\n",
    "during the simulation.\n",
    "\n",
    "(sec_demography_populations_default_sampling_time)=\n",
    "\n",
    "#### Default sampling time\n",
    "\n",
    "The ``default_sampling_time`` property of a {class}`.Population`\n",
    "defines the default time at which samples will be drawn from a population\n",
    "in {func}`.sim_ancestry`. See the\n",
    "{ref}`sec_ancestry_samples` section for details on how this time\n",
    "is used when running simulations, and how sampling time can also\n",
    "be specified directly, overriding the population default.\n",
    "\n",
    "The default sampling time can be specified directly using either\n",
    "the {meth}`.Demography.add_population` method, or by setting the\n",
    "``default_sampling_time`` attribute of the {class}`.Population`\n",
    "later. The default value is 0, **unless** the population is\n",
    "ancestral in a\n",
    "{ref}`sec_demography_events_population_split` event added\n",
    "using the {meth}`.Demography.add_population_split` method. In\n",
    "this case the default sampling time is set to the\n",
    "time of the event (i.e., when the population\n",
    "{ref}`first<sec_demography_direction_of_time>`\n",
    "becomes {ref}`active<sec_demography_populations_life_cycle>`),\n",
    "unless the ``initially_active`` flag has been set.\n",
    "\n",
    "(sec_demography_migration)=\n",
    "\n",
    "### Migration\n",
    "\n",
    "Migration is the process of lineages moving from one population to another\n",
    "during the course of the simulation.\n",
    "This either happens through continuous migration, where a rate of\n",
    "migration between each pair of populations is defined, or through\n",
    "{ref}`sec_demography_events_mass_migration` events. In this section\n",
    "we are concerned with continuous migration.\n",
    "\n",
    "As described in the {ref}`sec_demography_definitions` section,\n",
    "continuous migration between populations is modelled by a matrix\n",
    "of rates, so that `M[j, k]` is the rate at which lineages move from\n",
    "population `j` to population `k` in the **coalescent process**,\n",
    "that is, **backwards in time**\n",
    "(see the {ref}`sec_demography_direction_of_time` section for more details).\n",
    "Lineages that move from population\n",
    "`j` to `k` backwards in time actually correspond to individuals\n",
    "migrating from population `k` to `j` **forwards in time**.\n",
    "\n",
    ":::{note}\n",
    "If you're confused at this point, don't worry. Everyone is confused by\n",
    "this.\n",
    ":::\n",
    "\n",
    "Let's take an example to clarify. Suppose we have a two population model\n",
    "in which we have migration at rate 0.1 from ``source`` population `0` to\n",
    "``dest`` population `1` and no\n",
    "migration in the other direction. We'll then take one haploid sample\n",
    "from each population:"
   ]
  },
  {
   "cell_type": "code",
   "execution_count": 9,
   "id": "e1ddf0f5",
   "metadata": {},
   "outputs": [
    {
     "data": {
      "text/html": [
       "\n",
       "            <div>\n",
       "                <style scoped=\"\">\n",
       "                    .tskit-table tbody tr th:only-of-type {vertical-align: middle;}\n",
       "                    .tskit-table tbody tr th {vertical-align: top;}\n",
       "                    .tskit-table tbody td {text-align: right;padding: 0.5em 0.5em;}\n",
       "                    .tskit-table tbody th {padding: 0.5em 0.5em;}\n",
       "                </style>\n",
       "                <table border=\"1\" class=\"tskit-table\">\n",
       "                    <thead>\n",
       "                        <tr>\n",
       "                            <th>id</th><th>flags</th><th>population</th><th>individual</th><th>time</th><th>metadata</th>\n",
       "                        </tr>\n",
       "                    </thead>\n",
       "                    <tbody>\n",
       "                        <tr><td>0</td><td>1</td><td>0</td><td>0</td><td>0.00000000000000</td><td></td></tr>\n",
       "<tr><td>1</td><td>1</td><td>1</td><td>1</td><td>0.00000000000000</td><td></td></tr>\n",
       "<tr><td>2</td><td>0</td><td>1</td><td>-1</td><td>64.57256315536642</td><td></td></tr>\n",
       "\n",
       "                    </tbody>\n",
       "                </table>\n",
       "            </div>\n"
      ],
      "text/plain": [
       "<tskit.tables.NodeTable at 0x7f5d62e26910>"
      ]
     },
     "execution_count": 9,
     "metadata": {},
     "output_type": "execute_result"
    }
   ],
   "source": [
    "demography = msprime.Demography.isolated_model([100, 100])\n",
    "demography.set_migration_rate(source=0, dest=1, rate=0.1)\n",
    "ts = msprime.sim_ancestry(\n",
    "    samples={0: 1, 1: 1},\n",
    "    demography=demography,\n",
    "    ploidy=1,\n",
    "    random_seed=12345)\n",
    "ts.tables.nodes"
   ]
  },
  {
   "cell_type": "markdown",
   "id": "eafc6f37",
   "metadata": {},
   "source": [
    "Because we have only two samples and no recombination we have\n",
    "only one coalescent event in the simulation, and therefore\n",
    "only one ancestral node. We are interested in what\n",
    "populations nodes are associated with, which is shown in\n",
    "the ``population`` column of the node table. We can see\n",
    "that our samples, nodes 0 and 1, are associated with populations 0 and 1,\n",
    "respectively. Node 2, which is the ancestor of nodes\n",
    "0 and 1, is from population 1 which means that the **lineage**\n",
    "for node 0 moved from (``source``) population 0 to\n",
    "(``dest``) population 1 as we traced\n",
    "its history back through time, so that it could ultimately\n",
    "coalesce with lineage 1 in population 1. However, **forwards** in\n",
    "time, this must mean that one of the individuals along node 0's lineage\n",
    "(each lineage is a succession of individuals, passing on genetic\n",
    "information through the generations) must have migrated\n",
    "from population ``1`` to population ``0``.\n",
    "\n",
    ":::{note}\n",
    "If you're still confused, don't worry, it's still OK. Just remember\n",
    "that migration rates are confusing and come back to check the\n",
    "documentation whenever you need to work with them.\n",
    ":::\n",
    "\n",
    "Fortunately, asymmetric migration rates are rare in practice\n",
    "and we can instead use the\n",
    "{meth}`.Demography.set_symmetric_migration_rate` and\n",
    "{meth}`.Demography.add_symmetric_migration_rate_change` methods\n",
    "to set the migration rate in *both* directions. This has the\n",
    "advantage of reducing duplication in our code, as well as\n",
    "meaning that we don't need to remember what ``source`` and ``dest``\n",
    "mean. See the {ref}`sec_demography_examples` section for\n",
    "examples of setting symmetric migration rates.\n",
    "\n",
    ":::{todo}\n",
    "Clarify that demes does things the other way around.\n",
    ":::\n",
    "\n",
    "(sec_demography_events)=\n",
    "\n",
    "### Events\n",
    "\n",
    "Setting the population parameters and migration matrix in the {class}`.Demography`\n",
    "object define the state of demographic model at the\n",
    "{ref}`start<sec_demography_direction_of_time>` of the simulation\n",
    "(i.e., the present). We are often interested in population models in which\n",
    "these parameters change over time; these are implemented through a set\n",
    "of demographic events, which make some instantaneous changes to the state\n",
    "of the simulation.\n",
    "\n",
    "The {class}`.DemographyDebugger` is very useful for inspecting the\n",
    "state of the simulation at each of the epochs defined by these\n",
    "events---see the {ref}`sec_demography_debugging_tools` for examples.\n",
    "\n",
    "\n",
    "(sec_demography_events_population_parameters_change)=\n",
    "\n",
    "#### Population parameters change\n",
    "\n",
    "The {meth}`.Demography.add_population_parameters_change` method\n",
    "adds an event to change the\n",
    "``initial_size`` or ``growth_rate`` of a\n",
    "{ref}`population <sec_demography_populations>` (or populations)\n",
    "at a given time. For example,\n",
    "here we create a two-population model and add two events that\n",
    "change the parameters of these populations over time. The first\n",
    "event changes the size of population ``A`` to 200, 10 generations\n",
    "in the past. The second event changes the size of *both* populations\n",
    "to 10 after 20 generations using the ``population=None`` shorthand."
   ]
  },
  {
   "cell_type": "code",
   "execution_count": 10,
   "id": "a957e276",
   "metadata": {},
   "outputs": [
    {
     "data": {
      "text/html": [
       "<div><details open=\"true\"><summary>Epoch[0]: [0, 10) generations</summary><div style=\"margin-left:20px\"><div><style scoped=\"\">\n",
       "            .tskit-table thead tr th:only-of-type {vertical-align: middle;}\n",
       "            .tskit-table thead tr th {text-align: center;vertical-align: top;}\n",
       "            .tskit-table tbody td {text-align: right;padding: 0.5em 0.5em;}\n",
       "            .tskit-table tbody th {padding: 0.5em 0.5em;}\n",
       "        </style><b>Populations (total=2 active=2)</b><table border=\"1\" class=\"tskit-table\"><thead><tr><th></th><th>start</th><th>end</th><th>growth_rate</th><th>A</th><th>B</th></tr></thead><tbody><tr><td>A</td><td> 100.0</td><td> 100.0</td><td> 0</td><td>0</td><td title='Backwards in time migration rate from population A to B = 0.0 per generation.\n",
       "Forwards in time, this is the expected number of migrants moving from B to A per\n",
       "generation, divided by the size of A.'>0</td></tr><tr><td>B</td><td> 100.0</td><td> 100.0</td><td> 0</td><td title='Backwards in time migration rate from population B to A = 0.0 per generation.\n",
       "Forwards in time, this is the expected number of migrants moving from A to B per\n",
       "generation, divided by the size of B.'>0</td><td>0</td></tr></tbody></table></div><div><style scoped=\"\">\n",
       "            .tskit-table thead tr th:only-of-type {vertical-align: middle;}\n",
       "            .tskit-table thead tr th {text-align: center;vertical-align: top;}\n",
       "            .tskit-table tbody td {text-align: right;padding: 0.5em 0.5em;}\n",
       "            .tskit-table tbody th {padding: 0.5em 0.5em;}\n",
       "        </style><b>Events @ generation 10</b><table border=\"1\" class=\"tskit-table\"><thead><tr><th>time</th><th>type</th><th>parameters</th><th>effect</th></tr></thead><tbody><tr><td>10</td><td><a href='https://tskit.dev/msprime/docs/latest/api.html#msprime.Demography.add_population_parameters_change'>Population parameter change</a></td><td>population=A, initial_size=200</td><td>initial_size → 2e+02 for population A</td></tr></tbody></table></div></div></details><details open=\"true\"><summary>Epoch[1]: [10, 20) generations</summary><div style=\"margin-left:20px\"><div><style scoped=\"\">\n",
       "            .tskit-table thead tr th:only-of-type {vertical-align: middle;}\n",
       "            .tskit-table thead tr th {text-align: center;vertical-align: top;}\n",
       "            .tskit-table tbody td {text-align: right;padding: 0.5em 0.5em;}\n",
       "            .tskit-table tbody th {padding: 0.5em 0.5em;}\n",
       "        </style><b>Populations (total=2 active=2)</b><table border=\"1\" class=\"tskit-table\"><thead><tr><th></th><th>start</th><th>end</th><th>growth_rate</th><th>A</th><th>B</th></tr></thead><tbody><tr><td>A</td><td> 200.0</td><td> 200.0</td><td> 0</td><td>0</td><td title='Backwards in time migration rate from population A to B = 0.0 per generation.\n",
       "Forwards in time, this is the expected number of migrants moving from B to A per\n",
       "generation, divided by the size of A.'>0</td></tr><tr><td>B</td><td> 100.0</td><td> 100.0</td><td> 0</td><td title='Backwards in time migration rate from population B to A = 0.0 per generation.\n",
       "Forwards in time, this is the expected number of migrants moving from A to B per\n",
       "generation, divided by the size of B.'>0</td><td>0</td></tr></tbody></table></div><div><style scoped=\"\">\n",
       "            .tskit-table thead tr th:only-of-type {vertical-align: middle;}\n",
       "            .tskit-table thead tr th {text-align: center;vertical-align: top;}\n",
       "            .tskit-table tbody td {text-align: right;padding: 0.5em 0.5em;}\n",
       "            .tskit-table tbody th {padding: 0.5em 0.5em;}\n",
       "        </style><b>Events @ generation 20</b><table border=\"1\" class=\"tskit-table\"><thead><tr><th>time</th><th>type</th><th>parameters</th><th>effect</th></tr></thead><tbody><tr><td>20</td><td><a href='https://tskit.dev/msprime/docs/latest/api.html#msprime.Demography.add_population_parameters_change'>Population parameter change</a></td><td>population=-1, initial_size=10</td><td>initial_size → 10 for all populations</td></tr></tbody></table></div></div></details><details open=\"true\"><summary>Epoch[2]: [20, inf) generations</summary><div style=\"margin-left:20px\"><div><style scoped=\"\">\n",
       "            .tskit-table thead tr th:only-of-type {vertical-align: middle;}\n",
       "            .tskit-table thead tr th {text-align: center;vertical-align: top;}\n",
       "            .tskit-table tbody td {text-align: right;padding: 0.5em 0.5em;}\n",
       "            .tskit-table tbody th {padding: 0.5em 0.5em;}\n",
       "        </style><b>Populations (total=2 active=2)</b><table border=\"1\" class=\"tskit-table\"><thead><tr><th></th><th>start</th><th>end</th><th>growth_rate</th><th>A</th><th>B</th></tr></thead><tbody><tr><td>A</td><td> 10.0</td><td> 10.0</td><td> 0</td><td>0</td><td title='Backwards in time migration rate from population A to B = 0.0 per generation.\n",
       "Forwards in time, this is the expected number of migrants moving from B to A per\n",
       "generation, divided by the size of A.'>0</td></tr><tr><td>B</td><td> 10.0</td><td> 10.0</td><td> 0</td><td title='Backwards in time migration rate from population B to A = 0.0 per generation.\n",
       "Forwards in time, this is the expected number of migrants moving from A to B per\n",
       "generation, divided by the size of B.'>0</td><td>0</td></tr></tbody></table></div></div></details></div>"
      ],
      "text/plain": [
       "<msprime.demography.DemographyDebugger at 0x7f5d62e06af0>"
      ]
     },
     "execution_count": 10,
     "metadata": {},
     "output_type": "execute_result"
    }
   ],
   "source": [
    "demography = msprime.Demography()\n",
    "demography.add_population(name=\"A\", initial_size=100)\n",
    "demography.add_population(name=\"B\", initial_size=100)\n",
    "demography.add_population_parameters_change(time=10, population=\"A\", initial_size=200)\n",
    "demography.add_population_parameters_change(time=20, population=None, initial_size=10)\n",
    "demography.debug()"
   ]
  },
  {
   "cell_type": "markdown",
   "id": "6e10e53c",
   "metadata": {},
   "source": [
    "(sec_demography_events_migration_rate_change)=\n",
    "\n",
    "#### Migration rate change\n",
    "\n",
    "The {meth}`.Demography.add_symmetric_migration_rate_change`\n",
    "and {meth}`.Demography.add_migration_rate_change` methods\n",
    "are used to change the state of the\n",
    "{ref}`migration matrix <sec_demography_migration>` at a given time.\n",
    "Here we create a two population model with no migration initially,\n",
    "and then add symmetric migration between the two populations\n",
    "at rate 0.1 from generation 10."
   ]
  },
  {
   "cell_type": "code",
   "execution_count": 11,
   "id": "0f606c2c",
   "metadata": {},
   "outputs": [
    {
     "data": {
      "text/html": [
       "<div><details open=\"true\"><summary>Epoch[0]: [0, 10) generations</summary><div style=\"margin-left:20px\"><div><style scoped=\"\">\n",
       "            .tskit-table thead tr th:only-of-type {vertical-align: middle;}\n",
       "            .tskit-table thead tr th {text-align: center;vertical-align: top;}\n",
       "            .tskit-table tbody td {text-align: right;padding: 0.5em 0.5em;}\n",
       "            .tskit-table tbody th {padding: 0.5em 0.5em;}\n",
       "        </style><b>Populations (total=2 active=2)</b><table border=\"1\" class=\"tskit-table\"><thead><tr><th></th><th>start</th><th>end</th><th>growth_rate</th><th>A</th><th>B</th></tr></thead><tbody><tr><td>A</td><td> 100.0</td><td> 100.0</td><td> 0</td><td>0</td><td title='Backwards in time migration rate from population A to B = 0.0 per generation.\n",
       "Forwards in time, this is the expected number of migrants moving from B to A per\n",
       "generation, divided by the size of A.'>0</td></tr><tr><td>B</td><td> 100.0</td><td> 100.0</td><td> 0</td><td title='Backwards in time migration rate from population B to A = 0.0 per generation.\n",
       "Forwards in time, this is the expected number of migrants moving from A to B per\n",
       "generation, divided by the size of B.'>0</td><td>0</td></tr></tbody></table></div><div><style scoped=\"\">\n",
       "            .tskit-table thead tr th:only-of-type {vertical-align: middle;}\n",
       "            .tskit-table thead tr th {text-align: center;vertical-align: top;}\n",
       "            .tskit-table tbody td {text-align: right;padding: 0.5em 0.5em;}\n",
       "            .tskit-table tbody th {padding: 0.5em 0.5em;}\n",
       "        </style><b>Events @ generation 10</b><table border=\"1\" class=\"tskit-table\"><thead><tr><th>time</th><th>type</th><th>parameters</th><th>effect</th></tr></thead><tbody><tr><td>10</td><td><a href='https://tskit.dev/msprime/docs/latest/api.html#msprime.Demography.add_symmetric_migration_rate_change'>Symmetric migration rate change</a></td><td>populations=[A, B], rate=0.1</td><td>Sets the symmetric migration rate between A and B to 0.1 per generation</td></tr></tbody></table></div></div></details><details open=\"true\"><summary>Epoch[1]: [10, inf) generations</summary><div style=\"margin-left:20px\"><div><style scoped=\"\">\n",
       "            .tskit-table thead tr th:only-of-type {vertical-align: middle;}\n",
       "            .tskit-table thead tr th {text-align: center;vertical-align: top;}\n",
       "            .tskit-table tbody td {text-align: right;padding: 0.5em 0.5em;}\n",
       "            .tskit-table tbody th {padding: 0.5em 0.5em;}\n",
       "        </style><b>Populations (total=2 active=2)</b><table border=\"1\" class=\"tskit-table\"><thead><tr><th></th><th>start</th><th>end</th><th>growth_rate</th><th>A</th><th>B</th></tr></thead><tbody><tr><td>A</td><td> 100.0</td><td> 100.0</td><td> 0</td><td>0</td><td title='Backwards in time migration rate from population A to B = 0.1 per generation.\n",
       "Forwards in time, this is the expected number of migrants moving from B to A per\n",
       "generation, divided by the size of A.'>0.1</td></tr><tr><td>B</td><td> 100.0</td><td> 100.0</td><td> 0</td><td title='Backwards in time migration rate from population B to A = 0.1 per generation.\n",
       "Forwards in time, this is the expected number of migrants moving from A to B per\n",
       "generation, divided by the size of B.'>0.1</td><td>0</td></tr></tbody></table></div></div></details></div>"
      ],
      "text/plain": [
       "<msprime.demography.DemographyDebugger at 0x7f5d62de1a90>"
      ]
     },
     "execution_count": 11,
     "metadata": {},
     "output_type": "execute_result"
    }
   ],
   "source": [
    "demography = msprime.Demography()\n",
    "demography.add_population(name=\"A\", initial_size=100)\n",
    "demography.add_population(name=\"B\", initial_size=100)\n",
    "demography.add_symmetric_migration_rate_change(time=10, populations=[\"A\",\"B\"], rate=0.1)\n",
    "demography.debug()"
   ]
  },
  {
   "cell_type": "markdown",
   "id": "36db30df",
   "metadata": {},
   "source": [
    "(sec_demography_events_population_split)=\n",
    "\n",
    "#### Population split\n",
    "\n",
    "The {meth}`.Demography.add_population_split` method is used to declare\n",
    "that one or more populations derive from a given ancestral\n",
    "population at some time. Consider the following population tree\n",
    "(much like a {ref}`species tree<sec_demography_importing_species_trees>`)\n",
    "in which we have three present-day populations ``A``, ``B``\n",
    "and ``C``, which merge into ancestral populations ``AB`` and ``ABC``:"
   ]
  },
  {
   "cell_type": "code",
   "execution_count": 12,
   "id": "3b725200",
   "metadata": {
    "tags": [
     "hide-input"
    ]
   },
   "outputs": [
    {
     "data": {
      "image/svg+xml": [
       "<svg xmlns=\"http://www.w3.org/2000/svg\" xmlns:ev=\"http://www.w3.org/2001/xml-events\" xmlns:xlink=\"http://www.w3.org/1999/xlink\" baseProfile=\"full\" height=\"200\" version=\"1.1\" width=\"200\"><defs><style type=\"text/css\"><![CDATA[.tree-sequence .background path {fill: #808080; fill-opacity:0}.tree-sequence .background path:nth-child(odd) {fill-opacity:.1}.axes {font-size: 14px}.x-axis .tick .lab {font-weight: bold}.axes, .tree {font-size: 14px; text-anchor:middle}.y-axis line.grid {stroke: #FAFAFA}.y-axis > .lab text {transform: translateX(0.8em) rotate(-90deg)}.x-axis .tick g {transform: translateY(0.9em)}.x-axis > .lab text {transform: translateY(-0.8em)}.axes line, .edge {stroke:black; fill:none}.node > .sym {fill: black; stroke: none}.site > .sym {stroke: black}.mut text {fill: red; font-style: italic}.mut line {fill: none; stroke: none}.mut .sym {fill: none; stroke: red}.node .mut .sym {stroke-width: 1.5px}.tree text, .tree-sequence text {dominant-baseline: central}.plotbox .lab.lft {text-anchor: end}.plotbox .lab.rgt {text-anchor: start}]]></style></defs><g class=\"tree t0\"><g class=\"plotbox\"><g class=\"node n4 root\" transform=\"translate(113.333 26.8)\"><g class=\"a4 leaf node n2 sample\" transform=\"translate(40 146.4)\"><path class=\"edge\" d=\"M 0 0 V -146.4 H -40\"/><rect class=\"sym\" height=\"6\" width=\"6\" x=\"-3\" y=\"-3\"/><text class=\"lab\" transform=\"translate(0 11)\">C</text></g><g class=\"a4 node n3\" transform=\"translate(-40 73.2)\"><g class=\"a3 leaf node n0 sample\" transform=\"translate(-26.6667 73.2)\"><path class=\"edge\" d=\"M 0 0 V -73.2 H 26.6667\"/><rect class=\"sym\" height=\"6\" width=\"6\" x=\"-3\" y=\"-3\"/><text class=\"lab\" transform=\"translate(0 11)\">A</text></g><g class=\"a3 leaf node n1 sample\" transform=\"translate(26.6667 73.2)\"><path class=\"edge\" d=\"M 0 0 V -73.2 H -26.6667\"/><rect class=\"sym\" height=\"6\" width=\"6\" x=\"-3\" y=\"-3\"/><text class=\"lab\" transform=\"translate(0 11)\">B</text></g><path class=\"edge\" d=\"M 0 0 V -73.2 H 40\"/><circle class=\"sym\" cx=\"0\" cy=\"0\" r=\"3\"/><text class=\"lab lft\" transform=\"translate(-3 -7.0)\">AB</text></g><circle class=\"sym\" cx=\"0\" cy=\"0\" r=\"3\"/><text class=\"lab\" transform=\"translate(0 -11)\">ABC</text></g></g></g></svg>"
      ],
      "text/plain": [
       "<IPython.core.display.SVG object>"
      ]
     },
     "execution_count": 12,
     "metadata": {
      "filenames": {
       "image/svg+xml": "/home/runner/work/tskit-site/tskit-site/docs/_build/jupyter_execute/demography_22_0.svg"
      }
     },
     "output_type": "execute_result"
    }
   ],
   "source": [
    "import tskit\n",
    "\n",
    "tables = tskit.TableCollection(1)\n",
    "for _ in range(3):\n",
    "    tables.nodes.add_row(flags=tskit.NODE_IS_SAMPLE)\n",
    "AB = tables.nodes.add_row(time=10)\n",
    "ABC = tables.nodes.add_row(time=20)\n",
    "tables.edges.add_row(0, 1, AB, 0)\n",
    "tables.edges.add_row(0, 1, AB, 1)\n",
    "tables.edges.add_row(0, 1, ABC, 2)\n",
    "tables.edges.add_row(0, 1, ABC, AB)\n",
    "tables.sort()\n",
    "\n",
    "tree = tables.tree_sequence().first()\n",
    "SVG(tree.draw_svg(node_labels={0:\"A\", 1:\"B\", 2:\"C\", 3:\"AB\", 4:\"ABC\"}))"
   ]
  },
  {
   "cell_type": "markdown",
   "id": "7d62aa1b",
   "metadata": {},
   "source": [
    "We can describe this population topology as follows:"
   ]
  },
  {
   "cell_type": "code",
   "execution_count": 13,
   "id": "aa8113fa",
   "metadata": {},
   "outputs": [
    {
     "data": {
      "text/html": [
       "<div style=\"margin-left:20px\"><div><style scoped=\"\">\n",
       "            .tskit-table thead tr th:only-of-type {vertical-align: middle;}\n",
       "            .tskit-table thead tr th {text-align: center;vertical-align: top;}\n",
       "            .tskit-table tbody td {text-align: right;padding: 0.5em 0.5em;}\n",
       "            .tskit-table tbody th {padding: 0.5em 0.5em;}\n",
       "        </style><b>Populations (5)</b><table border=\"1\" class=\"tskit-table\"><thead><tr><th>id</th><th>name</th><th>description</th><th>initial_size</th><th>growth_rate</th><th>default_sampling_time</th><th>extra_metadata</th></tr></thead><tbody><tr><td>0</td><td>A</td><td></td><td>100.0</td><td>0</td><td>0</td><td>{}</td></tr><tr><td>1</td><td>B</td><td></td><td>100.0</td><td>0</td><td>0</td><td>{}</td></tr><tr><td>2</td><td>C</td><td></td><td>100.0</td><td>0</td><td>0</td><td>{}</td></tr><tr><td>3</td><td>AB</td><td></td><td>100.0</td><td>0</td><td>10</td><td>{}</td></tr><tr><td>4</td><td>ABC</td><td></td><td>100.0</td><td>0</td><td>20</td><td>{}</td></tr></tbody></table></div><div><style scoped=\"\">\n",
       "            .tskit-table thead tr th:only-of-type {vertical-align: middle;}\n",
       "            .tskit-table thead tr th {text-align: center;vertical-align: top;}\n",
       "            .tskit-table tbody td {text-align: right;padding: 0.5em 0.5em;}\n",
       "            .tskit-table tbody th {padding: 0.5em 0.5em;}\n",
       "        </style><b>Migration matrix (all zero)</b><table border=\"1\" class=\"tskit-table\"><thead><tr></tr></thead><tbody></tbody></table></div><div><style scoped=\"\">\n",
       "            .tskit-table thead tr th:only-of-type {vertical-align: middle;}\n",
       "            .tskit-table thead tr th {text-align: center;vertical-align: top;}\n",
       "            .tskit-table tbody td {text-align: right;padding: 0.5em 0.5em;}\n",
       "            .tskit-table tbody th {padding: 0.5em 0.5em;}\n",
       "        </style><b>Events (2)</b><table border=\"1\" class=\"tskit-table\"><thead><tr><th>time</th><th>type</th><th>parameters</th><th>effect</th></tr></thead><tbody><tr><td>10</td><td><a href='https://tskit.dev/msprime/docs/latest/api.html#msprime.Demography.add_population_split'>Population Split</a></td><td>derived=[A, B], ancestral=AB</td><td>Moves all lineages from derived populations &#x27;A&#x27; and &#x27;B&#x27; to the ancestral &#x27;AB&#x27; population. Also set the derived populations to inactive, and all migration rates to and from the derived populations to zero.</td></tr><tr><td>20</td><td><a href='https://tskit.dev/msprime/docs/latest/api.html#msprime.Demography.add_population_split'>Population Split</a></td><td>derived=[AB, C], ancestral=ABC</td><td>Moves all lineages from derived populations &#x27;AB&#x27; and &#x27;C&#x27; to the ancestral &#x27;ABC&#x27; population. Also set the derived populations to inactive, and all migration rates to and from the derived populations to zero.</td></tr></tbody></table></div></div>"
      ],
      "text/plain": [
       "Demography(populations=[Population(initial_size=100, growth_rate=0, name='A', description='', extra_metadata={}, default_sampling_time=None, initially_active=None, id=0), Population(initial_size=100, growth_rate=0, name='B', description='', extra_metadata={}, default_sampling_time=None, initially_active=None, id=1), Population(initial_size=100, growth_rate=0, name='C', description='', extra_metadata={}, default_sampling_time=None, initially_active=None, id=2), Population(initial_size=100, growth_rate=0, name='AB', description='', extra_metadata={}, default_sampling_time=10, initially_active=False, id=3), Population(initial_size=100, growth_rate=0, name='ABC', description='', extra_metadata={}, default_sampling_time=20, initially_active=False, id=4)], events=[PopulationSplit(time=10, derived=['A', 'B'], ancestral='AB'), PopulationSplit(time=20, derived=['AB', 'C'], ancestral='ABC')], migration_matrix=array([[0., 0., 0., 0., 0.],\n",
       "       [0., 0., 0., 0., 0.],\n",
       "       [0., 0., 0., 0., 0.],\n",
       "       [0., 0., 0., 0., 0.],\n",
       "       [0., 0., 0., 0., 0.]]))"
      ]
     },
     "execution_count": 13,
     "metadata": {},
     "output_type": "execute_result"
    }
   ],
   "source": [
    "demography = msprime.Demography()\n",
    "demography.add_population(name=\"A\", initial_size=100)\n",
    "demography.add_population(name=\"B\", initial_size=100)\n",
    "demography.add_population(name=\"C\", initial_size=100)\n",
    "demography.add_population(name=\"AB\", initial_size=100)\n",
    "demography.add_population(name=\"ABC\", initial_size=100)\n",
    "demography.add_population_split(time=10, derived=[\"A\", \"B\"], ancestral=\"AB\")\n",
    "demography.add_population_split(time=20, derived=[\"AB\", \"C\"], ancestral=\"ABC\")\n",
    "demography"
   ]
  },
  {
   "cell_type": "markdown",
   "id": "8c86e01c",
   "metadata": {},
   "source": [
    ":::{note}\n",
    "Note that the\n",
    "{ref}`default_sampling_time<sec_demography_populations_default_sampling_time>`\n",
    "value for the ancestral populations is set to the time of the split event.\n",
    ":::\n",
    "\n",
    "The {ref}`debug output<sec_demography_debugging_tools>` for this demography\n",
    "shows how the various populations become\n",
    "{ref}`active and inactive<sec_demography_populations_life_cycle>`\n",
    "over time:"
   ]
  },
  {
   "cell_type": "code",
   "execution_count": 14,
   "id": "61ab36ba",
   "metadata": {},
   "outputs": [
    {
     "data": {
      "text/html": [
       "<div><details open=\"true\"><summary>Epoch[0]: [0, 10) generations</summary><div style=\"margin-left:20px\"><div><style scoped=\"\">\n",
       "            .tskit-table thead tr th:only-of-type {vertical-align: middle;}\n",
       "            .tskit-table thead tr th {text-align: center;vertical-align: top;}\n",
       "            .tskit-table tbody td {text-align: right;padding: 0.5em 0.5em;}\n",
       "            .tskit-table tbody th {padding: 0.5em 0.5em;}\n",
       "        </style><b>Populations (total=5 active=3)</b><table border=\"1\" class=\"tskit-table\"><thead><tr><th></th><th>start</th><th>end</th><th>growth_rate</th><th>A</th><th>B</th><th>C</th></tr></thead><tbody><tr><td>A</td><td> 100.0</td><td> 100.0</td><td> 0</td><td>0</td><td title='Backwards in time migration rate from population A to B = 0.0 per generation.\n",
       "Forwards in time, this is the expected number of migrants moving from B to A per\n",
       "generation, divided by the size of A.'>0</td><td title='Backwards in time migration rate from population A to C = 0.0 per generation.\n",
       "Forwards in time, this is the expected number of migrants moving from C to A per\n",
       "generation, divided by the size of A.'>0</td></tr><tr><td>B</td><td> 100.0</td><td> 100.0</td><td> 0</td><td title='Backwards in time migration rate from population B to A = 0.0 per generation.\n",
       "Forwards in time, this is the expected number of migrants moving from A to B per\n",
       "generation, divided by the size of B.'>0</td><td>0</td><td title='Backwards in time migration rate from population B to C = 0.0 per generation.\n",
       "Forwards in time, this is the expected number of migrants moving from C to B per\n",
       "generation, divided by the size of B.'>0</td></tr><tr><td>C</td><td> 100.0</td><td> 100.0</td><td> 0</td><td title='Backwards in time migration rate from population C to A = 0.0 per generation.\n",
       "Forwards in time, this is the expected number of migrants moving from A to C per\n",
       "generation, divided by the size of C.'>0</td><td title='Backwards in time migration rate from population C to B = 0.0 per generation.\n",
       "Forwards in time, this is the expected number of migrants moving from B to C per\n",
       "generation, divided by the size of C.'>0</td><td>0</td></tr></tbody></table></div><div><style scoped=\"\">\n",
       "            .tskit-table thead tr th:only-of-type {vertical-align: middle;}\n",
       "            .tskit-table thead tr th {text-align: center;vertical-align: top;}\n",
       "            .tskit-table tbody td {text-align: right;padding: 0.5em 0.5em;}\n",
       "            .tskit-table tbody th {padding: 0.5em 0.5em;}\n",
       "        </style><b>Events @ generation 10</b><table border=\"1\" class=\"tskit-table\"><thead><tr><th>time</th><th>type</th><th>parameters</th><th>effect</th></tr></thead><tbody><tr><td>10</td><td><a href='https://tskit.dev/msprime/docs/latest/api.html#msprime.Demography.add_population_split'>Population Split</a></td><td>derived=[A, B], ancestral=AB</td><td>Moves all lineages from derived populations &#x27;A&#x27; and &#x27;B&#x27; to the ancestral &#x27;AB&#x27; population. Also set the derived populations to inactive, and all migration rates to and from the derived populations to zero.</td></tr></tbody></table></div></div></details><details open=\"true\"><summary>Epoch[1]: [10, 20) generations</summary><div style=\"margin-left:20px\"><div><style scoped=\"\">\n",
       "            .tskit-table thead tr th:only-of-type {vertical-align: middle;}\n",
       "            .tskit-table thead tr th {text-align: center;vertical-align: top;}\n",
       "            .tskit-table tbody td {text-align: right;padding: 0.5em 0.5em;}\n",
       "            .tskit-table tbody th {padding: 0.5em 0.5em;}\n",
       "        </style><b>Populations (total=5 active=2)</b><table border=\"1\" class=\"tskit-table\"><thead><tr><th></th><th>start</th><th>end</th><th>growth_rate</th><th>C</th><th>AB</th></tr></thead><tbody><tr><td>C</td><td> 100.0</td><td> 100.0</td><td> 0</td><td>0</td><td title='Backwards in time migration rate from population C to AB = 0.0 per generation.\n",
       "Forwards in time, this is the expected number of migrants moving from AB to C\n",
       "per generation, divided by the size of C.'>0</td></tr><tr><td>AB</td><td> 100.0</td><td> 100.0</td><td> 0</td><td title='Backwards in time migration rate from population AB to C = 0.0 per generation.\n",
       "Forwards in time, this is the expected number of migrants moving from C to AB\n",
       "per generation, divided by the size of AB.'>0</td><td>0</td></tr></tbody></table></div><div><style scoped=\"\">\n",
       "            .tskit-table thead tr th:only-of-type {vertical-align: middle;}\n",
       "            .tskit-table thead tr th {text-align: center;vertical-align: top;}\n",
       "            .tskit-table tbody td {text-align: right;padding: 0.5em 0.5em;}\n",
       "            .tskit-table tbody th {padding: 0.5em 0.5em;}\n",
       "        </style><b>Events @ generation 20</b><table border=\"1\" class=\"tskit-table\"><thead><tr><th>time</th><th>type</th><th>parameters</th><th>effect</th></tr></thead><tbody><tr><td>20</td><td><a href='https://tskit.dev/msprime/docs/latest/api.html#msprime.Demography.add_population_split'>Population Split</a></td><td>derived=[AB, C], ancestral=ABC</td><td>Moves all lineages from derived populations &#x27;AB&#x27; and &#x27;C&#x27; to the ancestral &#x27;ABC&#x27; population. Also set the derived populations to inactive, and all migration rates to and from the derived populations to zero.</td></tr></tbody></table></div></div></details><details open=\"true\"><summary>Epoch[2]: [20, inf) generations</summary><div style=\"margin-left:20px\"><div><style scoped=\"\">\n",
       "            .tskit-table thead tr th:only-of-type {vertical-align: middle;}\n",
       "            .tskit-table thead tr th {text-align: center;vertical-align: top;}\n",
       "            .tskit-table tbody td {text-align: right;padding: 0.5em 0.5em;}\n",
       "            .tskit-table tbody th {padding: 0.5em 0.5em;}\n",
       "        </style><b>Populations (total=5 active=1)</b><table border=\"1\" class=\"tskit-table\"><thead><tr><th></th><th>start</th><th>end</th><th>growth_rate</th></tr></thead><tbody><tr><td>ABC</td><td> 100.0</td><td> 100.0</td><td> 0</td></tr></tbody></table></div></div></details></div>"
      ],
      "text/plain": [
       "<msprime.demography.DemographyDebugger at 0x7f5d62dec400>"
      ]
     },
     "execution_count": 14,
     "metadata": {},
     "output_type": "execute_result"
    }
   ],
   "source": [
    "demography.debug()"
   ]
  },
  {
   "cell_type": "markdown",
   "id": "d8587b0f",
   "metadata": {},
   "source": [
    ":::{seealso}\n",
    "See the population tree {ref}`example<sec_demography_examples_population_tree>`\n",
    "for a Human out-of-Africa model from the literature.\n",
    ":::\n",
    "\n",
    "It is also possible to have less tree-like population topologies, in which\n",
    "several populations successively merge into one \"trunk\" population. For\n",
    "example, here we define three populations, where ``B`` and ``C`` merge\n",
    "into ``A`` 10 and 20 generations ago, respectively:"
   ]
  },
  {
   "cell_type": "code",
   "execution_count": 15,
   "id": "5638bcb1",
   "metadata": {},
   "outputs": [
    {
     "data": {
      "text/html": [
       "<div><details open=\"true\"><summary>Epoch[0]: [0, 10) generations</summary><div style=\"margin-left:20px\"><div><style scoped=\"\">\n",
       "            .tskit-table thead tr th:only-of-type {vertical-align: middle;}\n",
       "            .tskit-table thead tr th {text-align: center;vertical-align: top;}\n",
       "            .tskit-table tbody td {text-align: right;padding: 0.5em 0.5em;}\n",
       "            .tskit-table tbody th {padding: 0.5em 0.5em;}\n",
       "        </style><b>Populations (total=3 active=3)</b><table border=\"1\" class=\"tskit-table\"><thead><tr><th></th><th>start</th><th>end</th><th>growth_rate</th><th>A</th><th>B</th><th>C</th></tr></thead><tbody><tr><td>A</td><td> 100.0</td><td> 100.0</td><td> 0</td><td>0</td><td title='Backwards in time migration rate from population A to B = 0.0 per generation.\n",
       "Forwards in time, this is the expected number of migrants moving from B to A per\n",
       "generation, divided by the size of A.'>0</td><td title='Backwards in time migration rate from population A to C = 0.0 per generation.\n",
       "Forwards in time, this is the expected number of migrants moving from C to A per\n",
       "generation, divided by the size of A.'>0</td></tr><tr><td>B</td><td> 100.0</td><td> 100.0</td><td> 0</td><td title='Backwards in time migration rate from population B to A = 0.0 per generation.\n",
       "Forwards in time, this is the expected number of migrants moving from A to B per\n",
       "generation, divided by the size of B.'>0</td><td>0</td><td title='Backwards in time migration rate from population B to C = 0.0 per generation.\n",
       "Forwards in time, this is the expected number of migrants moving from C to B per\n",
       "generation, divided by the size of B.'>0</td></tr><tr><td>C</td><td> 100.0</td><td> 100.0</td><td> 0</td><td title='Backwards in time migration rate from population C to A = 0.0 per generation.\n",
       "Forwards in time, this is the expected number of migrants moving from A to C per\n",
       "generation, divided by the size of C.'>0</td><td title='Backwards in time migration rate from population C to B = 0.0 per generation.\n",
       "Forwards in time, this is the expected number of migrants moving from B to C per\n",
       "generation, divided by the size of C.'>0</td><td>0</td></tr></tbody></table></div><div><style scoped=\"\">\n",
       "            .tskit-table thead tr th:only-of-type {vertical-align: middle;}\n",
       "            .tskit-table thead tr th {text-align: center;vertical-align: top;}\n",
       "            .tskit-table tbody td {text-align: right;padding: 0.5em 0.5em;}\n",
       "            .tskit-table tbody th {padding: 0.5em 0.5em;}\n",
       "        </style><b>Events @ generation 10</b><table border=\"1\" class=\"tskit-table\"><thead><tr><th>time</th><th>type</th><th>parameters</th><th>effect</th></tr></thead><tbody><tr><td>10</td><td><a href='https://tskit.dev/msprime/docs/latest/api.html#msprime.Demography.add_population_split'>Population Split</a></td><td>derived=[B], ancestral=A</td><td>Moves all lineages from the &#x27;B&#x27; derived population to the ancestral &#x27;A&#x27; population. Also set &#x27;B&#x27; to inactive, and all migration rates to and from the derived population to zero.</td></tr></tbody></table></div></div></details><details open=\"true\"><summary>Epoch[1]: [10, 20) generations</summary><div style=\"margin-left:20px\"><div><style scoped=\"\">\n",
       "            .tskit-table thead tr th:only-of-type {vertical-align: middle;}\n",
       "            .tskit-table thead tr th {text-align: center;vertical-align: top;}\n",
       "            .tskit-table tbody td {text-align: right;padding: 0.5em 0.5em;}\n",
       "            .tskit-table tbody th {padding: 0.5em 0.5em;}\n",
       "        </style><b>Populations (total=3 active=2)</b><table border=\"1\" class=\"tskit-table\"><thead><tr><th></th><th>start</th><th>end</th><th>growth_rate</th><th>A</th><th>C</th></tr></thead><tbody><tr><td>A</td><td> 100.0</td><td> 100.0</td><td> 0</td><td>0</td><td title='Backwards in time migration rate from population A to C = 0.0 per generation.\n",
       "Forwards in time, this is the expected number of migrants moving from C to A per\n",
       "generation, divided by the size of A.'>0</td></tr><tr><td>C</td><td> 100.0</td><td> 100.0</td><td> 0</td><td title='Backwards in time migration rate from population C to A = 0.0 per generation.\n",
       "Forwards in time, this is the expected number of migrants moving from A to C per\n",
       "generation, divided by the size of C.'>0</td><td>0</td></tr></tbody></table></div><div><style scoped=\"\">\n",
       "            .tskit-table thead tr th:only-of-type {vertical-align: middle;}\n",
       "            .tskit-table thead tr th {text-align: center;vertical-align: top;}\n",
       "            .tskit-table tbody td {text-align: right;padding: 0.5em 0.5em;}\n",
       "            .tskit-table tbody th {padding: 0.5em 0.5em;}\n",
       "        </style><b>Events @ generation 20</b><table border=\"1\" class=\"tskit-table\"><thead><tr><th>time</th><th>type</th><th>parameters</th><th>effect</th></tr></thead><tbody><tr><td>20</td><td><a href='https://tskit.dev/msprime/docs/latest/api.html#msprime.Demography.add_population_split'>Population Split</a></td><td>derived=[C], ancestral=A</td><td>Moves all lineages from the &#x27;C&#x27; derived population to the ancestral &#x27;A&#x27; population. Also set &#x27;C&#x27; to inactive, and all migration rates to and from the derived population to zero.</td></tr></tbody></table></div></div></details><details open=\"true\"><summary>Epoch[2]: [20, inf) generations</summary><div style=\"margin-left:20px\"><div><style scoped=\"\">\n",
       "            .tskit-table thead tr th:only-of-type {vertical-align: middle;}\n",
       "            .tskit-table thead tr th {text-align: center;vertical-align: top;}\n",
       "            .tskit-table tbody td {text-align: right;padding: 0.5em 0.5em;}\n",
       "            .tskit-table tbody th {padding: 0.5em 0.5em;}\n",
       "        </style><b>Populations (total=3 active=1)</b><table border=\"1\" class=\"tskit-table\"><thead><tr><th></th><th>start</th><th>end</th><th>growth_rate</th></tr></thead><tbody><tr><td>A</td><td> 100.0</td><td> 100.0</td><td> 0</td></tr></tbody></table></div></div></details></div>"
      ],
      "text/plain": [
       "<msprime.demography.DemographyDebugger at 0x7f5d62de1790>"
      ]
     },
     "execution_count": 15,
     "metadata": {},
     "output_type": "execute_result"
    }
   ],
   "source": [
    "demography = msprime.Demography()\n",
    "demography.add_population(name=\"A\", initial_size=100, initially_active=True)\n",
    "demography.add_population(name=\"B\", initial_size=100)\n",
    "demography.add_population(name=\"C\", initial_size=100)\n",
    "demography.add_population_split(time=10, derived=[\"B\"], ancestral=\"A\")\n",
    "demography.add_population_split(time=20, derived=[\"C\"], ancestral=\"A\")\n",
    "demography.debug()"
   ]
  },
  {
   "cell_type": "markdown",
   "id": "157ddd18",
   "metadata": {},
   "source": [
    "We can see that the ``B`` and ``C`` populations successively become\n",
    "{ref}`inactive<sec_demography_populations_life_cycle>` as lineages\n",
    "move into ``A``.\n",
    "\n",
    ":::{important}\n",
    "For trunk populations like ``A`` here we **must** set the ``initially_active``\n",
    "flag if we want to draw samples from it at the present day.\n",
    ":::\n",
    "\n",
    ":::{seealso}\n",
    "See the {ref}`trunk population example<sec_demography_examples_trunk_population>`\n",
    "of this style of model from the literature.\n",
    ":::\n",
    "\n",
    "\n",
    "(sec_demography_events_admixture)=\n",
    "\n",
    "#### Admixture\n",
    "\n",
    "The {meth}`.Demography.add_admixture` method is used to declare\n",
    "that a derived population is admixed from a set of ancestral populations.\n",
    "In the following example we create a demography with 4 populations:\n",
    "``A``, ``B`` and ``ADMIX`` are contemporary populations, and\n",
    "``ANC`` is an ancestral root population. We add an admixture event\n",
    "in which ``ADMIX`` is derived from ``A`` and ``B`` 10 generations ago,\n",
    "and ``A`` and ``B`` then merge into ``ANC``\n",
    "20 generations ago. The {ref}`debug output<sec_demography_debugging_tools>`\n",
    "can help us understand what this means:"
   ]
  },
  {
   "cell_type": "code",
   "execution_count": 16,
   "id": "93e70bca",
   "metadata": {},
   "outputs": [
    {
     "data": {
      "text/html": [
       "<div><details open=\"true\"><summary>Epoch[0]: [0, 10) generations</summary><div style=\"margin-left:20px\"><div><style scoped=\"\">\n",
       "            .tskit-table thead tr th:only-of-type {vertical-align: middle;}\n",
       "            .tskit-table thead tr th {text-align: center;vertical-align: top;}\n",
       "            .tskit-table tbody td {text-align: right;padding: 0.5em 0.5em;}\n",
       "            .tskit-table tbody th {padding: 0.5em 0.5em;}\n",
       "        </style><b>Populations (total=4 active=3)</b><table border=\"1\" class=\"tskit-table\"><thead><tr><th></th><th>start</th><th>end</th><th>growth_rate</th><th>A</th><th>B</th><th>ADMIX</th></tr></thead><tbody><tr><td>A</td><td> 100.0</td><td> 100.0</td><td> 0</td><td>0</td><td title='Backwards in time migration rate from population A to B = 0.0 per generation.\n",
       "Forwards in time, this is the expected number of migrants moving from B to A per\n",
       "generation, divided by the size of A.'>0</td><td title='Backwards in time migration rate from population A to ADMIX = 0.0 per\n",
       "generation. Forwards in time, this is the expected number of migrants moving\n",
       "from ADMIX to A per generation, divided by the size of A.'>0</td></tr><tr><td>B</td><td> 100.0</td><td> 100.0</td><td> 0</td><td title='Backwards in time migration rate from population B to A = 0.0 per generation.\n",
       "Forwards in time, this is the expected number of migrants moving from A to B per\n",
       "generation, divided by the size of B.'>0</td><td>0</td><td title='Backwards in time migration rate from population B to ADMIX = 0.0 per\n",
       "generation. Forwards in time, this is the expected number of migrants moving\n",
       "from ADMIX to B per generation, divided by the size of B.'>0</td></tr><tr><td>ADMIX</td><td> 100.0</td><td> 100.0</td><td> 0</td><td title='Backwards in time migration rate from population ADMIX to A = 0.0 per\n",
       "generation. Forwards in time, this is the expected number of migrants moving\n",
       "from A to ADMIX per generation, divided by the size of ADMIX.'>0</td><td title='Backwards in time migration rate from population ADMIX to B = 0.0 per\n",
       "generation. Forwards in time, this is the expected number of migrants moving\n",
       "from B to ADMIX per generation, divided by the size of ADMIX.'>0</td><td>0</td></tr></tbody></table></div><div><style scoped=\"\">\n",
       "            .tskit-table thead tr th:only-of-type {vertical-align: middle;}\n",
       "            .tskit-table thead tr th {text-align: center;vertical-align: top;}\n",
       "            .tskit-table tbody td {text-align: right;padding: 0.5em 0.5em;}\n",
       "            .tskit-table tbody th {padding: 0.5em 0.5em;}\n",
       "        </style><b>Events @ generation 10</b><table border=\"1\" class=\"tskit-table\"><thead><tr><th>time</th><th>type</th><th>parameters</th><th>effect</th></tr></thead><tbody><tr><td>10</td><td><a href='https://tskit.dev/msprime/docs/latest/api.html#msprime.Demography.add_admixture'>Admixture</a></td><td>derived=ADMIX ancestral=[A, B] proportions=[0.25, 0.75]</td><td>Moves all lineages from admixed population &#x27;ADMIX&#x27; to ancestral populations. Lineages move to &#x27;A&#x27; with proba 0.25; &#x27;B&#x27; with proba 0.75. Set &#x27;ADMIX&#x27; to inactive, and all migration rates to and from &#x27;ADMIX&#x27; to zero.</td></tr></tbody></table></div></div></details><details open=\"true\"><summary>Epoch[1]: [10, 20) generations</summary><div style=\"margin-left:20px\"><div><style scoped=\"\">\n",
       "            .tskit-table thead tr th:only-of-type {vertical-align: middle;}\n",
       "            .tskit-table thead tr th {text-align: center;vertical-align: top;}\n",
       "            .tskit-table tbody td {text-align: right;padding: 0.5em 0.5em;}\n",
       "            .tskit-table tbody th {padding: 0.5em 0.5em;}\n",
       "        </style><b>Populations (total=4 active=2)</b><table border=\"1\" class=\"tskit-table\"><thead><tr><th></th><th>start</th><th>end</th><th>growth_rate</th><th>A</th><th>B</th></tr></thead><tbody><tr><td>A</td><td> 100.0</td><td> 100.0</td><td> 0</td><td>0</td><td title='Backwards in time migration rate from population A to B = 0.0 per generation.\n",
       "Forwards in time, this is the expected number of migrants moving from B to A per\n",
       "generation, divided by the size of A.'>0</td></tr><tr><td>B</td><td> 100.0</td><td> 100.0</td><td> 0</td><td title='Backwards in time migration rate from population B to A = 0.0 per generation.\n",
       "Forwards in time, this is the expected number of migrants moving from A to B per\n",
       "generation, divided by the size of B.'>0</td><td>0</td></tr></tbody></table></div><div><style scoped=\"\">\n",
       "            .tskit-table thead tr th:only-of-type {vertical-align: middle;}\n",
       "            .tskit-table thead tr th {text-align: center;vertical-align: top;}\n",
       "            .tskit-table tbody td {text-align: right;padding: 0.5em 0.5em;}\n",
       "            .tskit-table tbody th {padding: 0.5em 0.5em;}\n",
       "        </style><b>Events @ generation 20</b><table border=\"1\" class=\"tskit-table\"><thead><tr><th>time</th><th>type</th><th>parameters</th><th>effect</th></tr></thead><tbody><tr><td>20</td><td><a href='https://tskit.dev/msprime/docs/latest/api.html#msprime.Demography.add_population_split'>Population Split</a></td><td>derived=[A, B], ancestral=ANC</td><td>Moves all lineages from derived populations &#x27;A&#x27; and &#x27;B&#x27; to the ancestral &#x27;ANC&#x27; population. Also set the derived populations to inactive, and all migration rates to and from the derived populations to zero.</td></tr></tbody></table></div></div></details><details open=\"true\"><summary>Epoch[2]: [20, inf) generations</summary><div style=\"margin-left:20px\"><div><style scoped=\"\">\n",
       "            .tskit-table thead tr th:only-of-type {vertical-align: middle;}\n",
       "            .tskit-table thead tr th {text-align: center;vertical-align: top;}\n",
       "            .tskit-table tbody td {text-align: right;padding: 0.5em 0.5em;}\n",
       "            .tskit-table tbody th {padding: 0.5em 0.5em;}\n",
       "        </style><b>Populations (total=4 active=1)</b><table border=\"1\" class=\"tskit-table\"><thead><tr><th></th><th>start</th><th>end</th><th>growth_rate</th></tr></thead><tbody><tr><td>ANC</td><td> 100.0</td><td> 100.0</td><td> 0</td></tr></tbody></table></div></div></details></div>"
      ],
      "text/plain": [
       "<msprime.demography.DemographyDebugger at 0x7f5d62dc9430>"
      ]
     },
     "execution_count": 16,
     "metadata": {},
     "output_type": "execute_result"
    }
   ],
   "source": [
    "demography = msprime.Demography()\n",
    "demography.add_population(name=\"A\", initial_size=100)\n",
    "demography.add_population(name=\"B\", initial_size=100)\n",
    "demography.add_population(name=\"ADMIX\", initial_size=100)\n",
    "demography.add_population(name=\"ANC\", initial_size=100)\n",
    "demography.add_admixture(\n",
    "    time=10, derived=\"ADMIX\", ancestral=[\"A\", \"B\"], proportions=[0.25, 0.75])\n",
    "demography.add_population_split(time=20, derived=[\"A\", \"B\"], ancestral=\"ANC\")\n",
    "demography.debug()"
   ]
  },
  {
   "cell_type": "markdown",
   "id": "ece32f86",
   "metadata": {},
   "source": [
    "In the first epoch (from 0 to 10 generations ago) we have three active\n",
    "populations: ``A``, ``B`` and ``ADMIX``. Then the admixture event\n",
    "happens: {ref}`backwards in time<sec_demography_direction_of_time>`\n",
    "we take all the lineages that are in ``ADMIX``, and for each one\n",
    "we move it to ``A`` with probability 1/4 and to ``B`` with probability\n",
    "3/4. In the next epoch (10 to 20 generations ago), we just have\n",
    "populations ``A`` and ``B`` active because the derived ``ADMIX``\n",
    "population is now inactive.\n",
    "\n",
    "What does this mean forwards in time? In this case, rather than thinking\n",
    "about sampled lineages moving from population to population we must think\n",
    "about whole populations and individuals migrating.\n",
    "So forwards in time, 10 generations ago\n",
    "the ``ADMIX`` population suddenly appeared and it contained\n",
    "100 individuals (note the initial size): 25 of these individuals were\n",
    "migrants from ``A`` and the other 75 were migrants from ``B``.\n",
    "\n",
    ":::{note}\n",
    "The ``ANC`` population in this model isn't important, it's there\n",
    "to ensure that it's possible for lineages to coalesce and\n",
    "we don't get an {ref}`sec_ancestry_errors_infinite_waiting_time`.\n",
    ":::\n",
    "\n",
    ":::{seealso}\n",
    "See the {ref}`American Admixture example<sec_demography_examples_admixture>`\n",
    "below.\n",
    ":::\n",
    "\n",
    "(sec_demography_events_mass_migration)=\n",
    "\n",
    "#### Pulse (mass) migration\n",
    "\n",
    ":::{important}\n",
    "We do not recommend using mass migration events unless it is\n",
    "really necessary; most of the time, the desired effect can\n",
    "be achieved using {ref}`sec_demography_events_population_split`\n",
    "and {ref}`sec_demography_events_admixture` events. If you are\n",
    "{ref}`msprime 0.x<sec_legacy_0x>` user who is accustomed to\n",
    "working with mass migrations or updating legacy code, please\n",
    "consider \"migrating\" to using these new, more specific, events.\n",
    ":::\n",
    "\n",
    "The {meth}`.Demography.add_mass_migration` method is used to\n",
    "move a proportion of the lineages currently\n",
    "in one population (the ``source``) to another (the ``dest``).\n",
    "\n",
    ":::{warning}\n",
    "There are two things it's vitally important to realise about mass migrations:\n",
    "\n",
    "1. Like {ref}`continuous migration <sec_demography_migration>` the source\n",
    "   and destination populations are from the perspective of the coalescent\n",
    "   process, that is {ref}`backwards in time<sec_demography_direction_of_time>`.\n",
    "   So, if a lineage is moved from\n",
    "   `source` population ``A`` to `dest` population ``B`` by msprime, this\n",
    "   corresponds to an individual moving **from** ``B`` **to** ``A``,\n",
    "   forwards in time. (Yes, this is\n",
    "   {ref}`confusing <sec_demography_migration>`!)\n",
    "\n",
    "2. Mass migration events **do not** alter the migration rates between\n",
    "   populations. So, even if all lineages are moved out of a\n",
    "   particular population (i.e., if ``proportion=1``) that population\n",
    "   may still have lineages migrating into it after the event. This\n",
    "   can easily lead to errors when modelling population splits using\n",
    "   {class}`.MassMigration` events. This error was present in the\n",
    "   documentation for an older version of msprime, which lead to an\n",
    "   incorrect version of an example demographic model being used\n",
    "   in a number of publications. See\n",
    "   [this paper](http://dx.doi.org/10.1016/j.ajhg.2020.08.017) for\n",
    "   more details.\n",
    ":::\n",
    "\n",
    "The effect of mass migration events are summarised in the\n",
    "{class}`.DemographyDebugger` output:"
   ]
  },
  {
   "cell_type": "code",
   "execution_count": 17,
   "id": "a5a248e8",
   "metadata": {},
   "outputs": [
    {
     "data": {
      "text/html": [
       "<div><details open=\"true\"><summary>Epoch[0]: [0, 10) generations</summary><div style=\"margin-left:20px\"><div><style scoped=\"\">\n",
       "            .tskit-table thead tr th:only-of-type {vertical-align: middle;}\n",
       "            .tskit-table thead tr th {text-align: center;vertical-align: top;}\n",
       "            .tskit-table tbody td {text-align: right;padding: 0.5em 0.5em;}\n",
       "            .tskit-table tbody th {padding: 0.5em 0.5em;}\n",
       "        </style><b>Populations (total=2 active=2)</b><table border=\"1\" class=\"tskit-table\"><thead><tr><th></th><th>start</th><th>end</th><th>growth_rate</th><th>pop_0</th><th>pop_1</th></tr></thead><tbody><tr><td>pop_0</td><td> 100.0</td><td> 100.0</td><td> 0</td><td>0</td><td title='Backwards in time migration rate from population pop_0 to pop_1 = 0.1 per\n",
       "generation. Forwards in time, this is the expected number of migrants moving\n",
       "from pop_1 to pop_0 per generation, divided by the size of pop_0.'>0.1</td></tr><tr><td>pop_1</td><td> 100.0</td><td> 100.0</td><td> 0</td><td title='Backwards in time migration rate from population pop_1 to pop_0 = 0.1 per\n",
       "generation. Forwards in time, this is the expected number of migrants moving\n",
       "from pop_0 to pop_1 per generation, divided by the size of pop_1.'>0.1</td><td>0</td></tr></tbody></table></div><div><style scoped=\"\">\n",
       "            .tskit-table thead tr th:only-of-type {vertical-align: middle;}\n",
       "            .tskit-table thead tr th {text-align: center;vertical-align: top;}\n",
       "            .tskit-table tbody td {text-align: right;padding: 0.5em 0.5em;}\n",
       "            .tskit-table tbody th {padding: 0.5em 0.5em;}\n",
       "        </style><b>Events @ generation 10</b><table border=\"1\" class=\"tskit-table\"><thead><tr><th>time</th><th>type</th><th>parameters</th><th>effect</th></tr></thead><tbody><tr><td>10</td><td><a href='https://tskit.dev/msprime/docs/latest/api.html#msprime.Demography.add_mass_migration'>Mass Migration</a></td><td>source=0, dest=1, proportion=0.5</td><td>Lineages currently in population 0 move to 1 with probability 0.5 (equivalent to individuals migrating from 1 to 0 forwards in time)</td></tr></tbody></table></div></div></details><details open=\"true\"><summary>Epoch[1]: [10, inf) generations</summary><div style=\"margin-left:20px\"><div><style scoped=\"\">\n",
       "            .tskit-table thead tr th:only-of-type {vertical-align: middle;}\n",
       "            .tskit-table thead tr th {text-align: center;vertical-align: top;}\n",
       "            .tskit-table tbody td {text-align: right;padding: 0.5em 0.5em;}\n",
       "            .tskit-table tbody th {padding: 0.5em 0.5em;}\n",
       "        </style><b>Populations (total=2 active=2)</b><table border=\"1\" class=\"tskit-table\"><thead><tr><th></th><th>start</th><th>end</th><th>growth_rate</th><th>pop_0</th><th>pop_1</th></tr></thead><tbody><tr><td>pop_0</td><td> 100.0</td><td> 100.0</td><td> 0</td><td>0</td><td title='Backwards in time migration rate from population pop_0 to pop_1 = 0.1 per\n",
       "generation. Forwards in time, this is the expected number of migrants moving\n",
       "from pop_1 to pop_0 per generation, divided by the size of pop_0.'>0.1</td></tr><tr><td>pop_1</td><td> 100.0</td><td> 100.0</td><td> 0</td><td title='Backwards in time migration rate from population pop_1 to pop_0 = 0.1 per\n",
       "generation. Forwards in time, this is the expected number of migrants moving\n",
       "from pop_0 to pop_1 per generation, divided by the size of pop_1.'>0.1</td><td>0</td></tr></tbody></table></div></div></details></div>"
      ],
      "text/plain": [
       "<msprime.demography.DemographyDebugger at 0x7f5d626acd30>"
      ]
     },
     "execution_count": 17,
     "metadata": {},
     "output_type": "execute_result"
    }
   ],
   "source": [
    "demography = msprime.Demography.island_model([100, 100], migration_rate=0.1)\n",
    "demography.add_mass_migration(time=10, source=0, dest=1, proportion=0.5)\n",
    "demography.debug()"
   ]
  },
  {
   "cell_type": "markdown",
   "id": "75906202",
   "metadata": {},
   "source": [
    "(sec_demography_events_instantaneous_bottleneck)=\n",
    "\n",
    "#### Instantaneous bottleneck\n",
    "\n",
    "A common approach to modelling the effect of demographic history on genealogies\n",
    "is to assume that effective population size ({math}`N_e`) changes in discrete steps\n",
    "which define a series of epochs.\n",
    "In this setting of piece-wise constant\n",
    "{math}`N_e`, capturing a population bottleneck requires three epochs: {math}`N_e` is\n",
    "reduced by some fraction {math}`b` at the start of the bottleneck,\n",
    "{math}`T_{start}`, and\n",
    "recovers to its initial value at time {math}`T_{end}` (Marth et al 2004).\n",
    "If bottlenecks are short both on the timescale of coalescence and mutations, one\n",
    "may expect little information about the duration of a bottleneck\n",
    "{math}`(T_{end}-T_{start})` in sequence data.\n",
    "Thus a simpler, alternative model is to assume that\n",
    "bottlenecks are instantaneous\n",
    "({math}`T_{end}-T_{start} \\rightarrow 0`) and generate\n",
    "a sudden burst of coalescence events in the genealogy.\n",
    "\n",
    "The strength of the bottleneck {math}`B` can be thought of as an (imaginary)\n",
    "time period during which coalescence events are collapsed, i.e. there is no\n",
    "growth in genealogical branches during {math}`B` and the probability\n",
    "that a single pair\n",
    "of lineages entering the bottleneck coalesce during the bottleneck is\n",
    "{math}`1-e^{-B}`.\n",
    "\n",
    "In the following example we create a population of size 100,\n",
    "and then 25 generations ago create a bottleneck equivalent to\n",
    "200 generations of the coalescent using the\n",
    "{meth}`~.Demography.add_instantaneous_bottleneck`\n",
    "method:"
   ]
  },
  {
   "cell_type": "code",
   "execution_count": 18,
   "id": "d66fc7a6",
   "metadata": {},
   "outputs": [
    {
     "data": {
      "image/svg+xml": [
       "<svg xmlns=\"http://www.w3.org/2000/svg\" xmlns:ev=\"http://www.w3.org/2001/xml-events\" xmlns:xlink=\"http://www.w3.org/1999/xlink\" baseProfile=\"full\" height=\"200\" version=\"1.1\" width=\"300\"><defs><style type=\"text/css\"><![CDATA[.tree-sequence .background path {fill: #808080; fill-opacity:0}.tree-sequence .background path:nth-child(odd) {fill-opacity:.1}.axes {font-size: 14px}.x-axis .tick .lab {font-weight: bold}.axes, .tree {font-size: 14px; text-anchor:middle}.y-axis line.grid {stroke: #FAFAFA}.y-axis > .lab text {transform: translateX(0.8em) rotate(-90deg)}.x-axis .tick g {transform: translateY(0.9em)}.x-axis > .lab text {transform: translateY(-0.8em)}.axes line, .edge {stroke:black; fill:none}.node > .sym {fill: black; stroke: none}.site > .sym {stroke: black}.mut text {fill: red; font-style: italic}.mut line {fill: none; stroke: none}.mut .sym {fill: none; stroke: red}.node .mut .sym {stroke-width: 1.5px}.tree text, .tree-sequence text {dominant-baseline: central}.plotbox .lab.lft {text-anchor: end}.plotbox .lab.rgt {text-anchor: start}]]></style></defs><g class=\"tree-sequence\"><g class=\"background\"><path d=\"M56.8,0 l223.2,0 l0,138.2 l0,25 l0,5 l-223.2,0 l0,-5 l0,-25 l0,-138.2z\"/></g><g class=\"axes\"><g class=\"x-axis\"><g class=\"lab\" transform=\"translate(168.4,200)\"><text text-anchor=\"middle\">Genome position</text></g><line x1=\"56.8\" x2=\"280\" y1=\"163.2\" y2=\"163.2\"/><g class=\"tick\" transform=\"translate(56.8 163.2)\"><line x1=\"0\" x2=\"0\" y1=\"0\" y2=\"5\"/><g class=\"lab\" transform=\"translate(0,5)\"><text>0</text></g></g><g class=\"tick\" transform=\"translate(280 163.2)\"><line x1=\"0\" x2=\"0\" y1=\"0\" y2=\"5\"/><g class=\"lab\" transform=\"translate(0,5)\"><text>1</text></g></g></g><g class=\"y-axis\"><g class=\"lab\" transform=\"translate(0,65.7)\"><text text-anchor=\"middle\">Time</text></g><line x1=\"56.8\" x2=\"56.8\" y1=\"121.4\" y2=\"10\"/><g class=\"tick\" transform=\"translate(56.8 121.4)\"><line x1=\"0\" x2=\"-5\" y1=\"0\" y2=\"0\"/><g class=\"lab\" transform=\"translate(-5,0)\"><text text-anchor=\"end\">0.00</text></g></g><g class=\"tick\" transform=\"translate(56.8 121.074)\"><line x1=\"0\" x2=\"-5\" y1=\"0\" y2=\"0\"/><g class=\"lab\" transform=\"translate(-5,0)\"><text text-anchor=\"end\">0.94</text></g></g><g class=\"tick\" transform=\"translate(56.8 117.813)\"><line x1=\"0\" x2=\"-5\" y1=\"0\" y2=\"0\"/><g class=\"lab\" transform=\"translate(-5,0)\"><text text-anchor=\"end\">10.41</text></g></g><g class=\"tick\" transform=\"translate(56.8 114.025)\"><line x1=\"0\" x2=\"-5\" y1=\"0\" y2=\"0\"/><g class=\"lab\" transform=\"translate(-5,0)\"><text text-anchor=\"end\">21.40</text></g></g><g class=\"tick\" transform=\"translate(56.8 112.783)\"><line x1=\"0\" x2=\"-5\" y1=\"0\" y2=\"0\"/><g class=\"lab\" transform=\"translate(-5,0)\"><text text-anchor=\"end\">25.00</text></g></g><g class=\"tick\" transform=\"translate(56.8 26.8)\"><line x1=\"0\" x2=\"-5\" y1=\"0\" y2=\"0\"/><g class=\"lab\" transform=\"translate(-5,0)\"><text text-anchor=\"end\">274.45</text></g></g></g></g><g class=\"plotbox trees\"><g class=\"tree t0\" transform=\"translate(56.8 0)\"><g class=\"plotbox\"><g class=\"node n15 p0 root\" transform=\"translate(132.21 26.8)\"><g class=\"a15 node n13 p0\" transform=\"translate(-48.09 85.9827)\"><g class=\"a13 i0 leaf node n0 p0 sample\" transform=\"translate(-54.96 8.61733)\"><path class=\"edge\" d=\"M 0 0 V -8.61733 H 54.96\"/><rect class=\"sym\" height=\"6\" width=\"6\" x=\"-3\" y=\"-3\"/><text class=\"lab\" transform=\"translate(0 11)\">0</text></g><g class=\"a13 i4 leaf node n8 p0 sample\" transform=\"translate(36.64 8.61733)\"><path class=\"edge\" d=\"M 0 0 V -8.61733 H -36.64\"/><rect class=\"sym\" height=\"6\" width=\"6\" x=\"-3\" y=\"-3\"/><text class=\"lab\" transform=\"translate(0 11)\">8</text></g><g class=\"a13 i4 leaf node n9 p0 sample\" transform=\"translate(54.96 8.61733)\"><path class=\"edge\" d=\"M 0 0 V -8.61733 H -54.96\"/><rect class=\"sym\" height=\"6\" width=\"6\" x=\"-3\" y=\"-3\"/><text class=\"lab\" transform=\"translate(0 11)\">9</text></g><g class=\"a13 node n10 p0\" transform=\"translate(-27.48 8.29163)\"><g class=\"a10 i1 leaf node n3 p0 sample\" transform=\"translate(-9.16 0.325695)\"><path class=\"edge\" d=\"M 0 0 V -0.325695 H 9.16\"/><rect class=\"sym\" height=\"6\" width=\"6\" x=\"-3\" y=\"-3\"/><text class=\"lab\" transform=\"translate(0 11)\">3</text></g><g class=\"a10 i2 leaf node n5 p0 sample\" transform=\"translate(9.16 0.325695)\"><path class=\"edge\" d=\"M 0 0 V -0.325695 H -9.16\"/><rect class=\"sym\" height=\"6\" width=\"6\" x=\"-3\" y=\"-3\"/><text class=\"lab\" transform=\"translate(0 11)\">5</text></g><path class=\"edge\" d=\"M 0 0 V -8.29163 H 27.48\"/><circle class=\"sym\" cx=\"0\" cy=\"0\" r=\"3\"/><text class=\"lab rgt\" transform=\"translate(3 -7.0)\">10</text></g><g class=\"a13 node n11 p0\" transform=\"translate(9.16 5.03072)\"><g class=\"a11 i2 leaf node n4 p0 sample\" transform=\"translate(-9.16 3.58661)\"><path class=\"edge\" d=\"M 0 0 V -3.58661 H 9.16\"/><rect class=\"sym\" height=\"6\" width=\"6\" x=\"-3\" y=\"-3\"/><text class=\"lab\" transform=\"translate(0 11)\">4</text></g><g class=\"a11 i3 leaf node n7 p0 sample\" transform=\"translate(9.16 3.58661)\"><path class=\"edge\" d=\"M 0 0 V -3.58661 H -9.16\"/><rect class=\"sym\" height=\"6\" width=\"6\" x=\"-3\" y=\"-3\"/><text class=\"lab\" transform=\"translate(0 11)\">7</text></g><path class=\"edge\" d=\"M 0 0 V -5.03072 H -9.16\"/><circle class=\"sym\" cx=\"0\" cy=\"0\" r=\"3\"/><text class=\"lab rgt\" transform=\"translate(3 -7.0)\">11</text></g><path class=\"edge\" d=\"M 0 0 V -85.9827 H 48.09\"/><circle class=\"sym\" cx=\"0\" cy=\"0\" r=\"3\"/><text class=\"lab lft\" transform=\"translate(-3 -7.0)\">13</text></g><g class=\"a15 node n14 p0\" transform=\"translate(48.09 85.9827)\"><g class=\"a14 i3 leaf node n6 p0 sample\" transform=\"translate(13.74 8.61733)\"><path class=\"edge\" d=\"M 0 0 V -8.61733 H -13.74\"/><rect class=\"sym\" height=\"6\" width=\"6\" x=\"-3\" y=\"-3\"/><text class=\"lab\" transform=\"translate(0 11)\">6</text></g><g class=\"a14 node n12 p0\" transform=\"translate(-13.74 1.24208)\"><g class=\"a12 i0 leaf node n1 p0 sample\" transform=\"translate(-9.16 7.37524)\"><path class=\"edge\" d=\"M 0 0 V -7.37524 H 9.16\"/><rect class=\"sym\" height=\"6\" width=\"6\" x=\"-3\" y=\"-3\"/><text class=\"lab\" transform=\"translate(0 11)\">1</text></g><g class=\"a12 i1 leaf node n2 p0 sample\" transform=\"translate(9.16 7.37524)\"><path class=\"edge\" d=\"M 0 0 V -7.37524 H -9.16\"/><rect class=\"sym\" height=\"6\" width=\"6\" x=\"-3\" y=\"-3\"/><text class=\"lab\" transform=\"translate(0 11)\">2</text></g><path class=\"edge\" d=\"M 0 0 V -1.24208 H 13.74\"/><circle class=\"sym\" cx=\"0\" cy=\"0\" r=\"3\"/><text class=\"lab lft\" transform=\"translate(-3 -7.0)\">12</text></g><path class=\"edge\" d=\"M 0 0 V -85.9827 H -48.09\"/><circle class=\"sym\" cx=\"0\" cy=\"0\" r=\"3\"/><text class=\"lab rgt\" transform=\"translate(3 -7.0)\">14</text></g><circle class=\"sym\" cx=\"0\" cy=\"0\" r=\"3\"/><text class=\"lab\" transform=\"translate(0 -11)\">15</text></g></g></g></g></g></svg>"
      ],
      "text/plain": [
       "<IPython.core.display.SVG object>"
      ]
     },
     "execution_count": 18,
     "metadata": {
      "filenames": {
       "image/svg+xml": "/home/runner/work/tskit-site/tskit-site/docs/_build/jupyter_execute/demography_34_0.svg"
      }
     },
     "output_type": "execute_result"
    }
   ],
   "source": [
    "demography = msprime.Demography()\n",
    "demography.add_population(initial_size=100)\n",
    "demography.add_instantaneous_bottleneck(time=25, strength=200, population=0)\n",
    "\n",
    "ts = msprime.sim_ancestry(5, demography=demography, random_seed=1234)\n",
    "SVG(ts.draw_svg(y_axis=True, size=(300, 200)))"
   ]
  },
  {
   "cell_type": "markdown",
   "id": "f62e7f1d",
   "metadata": {},
   "source": [
    "We can see that there is a strong burst of coalscence 25 generations ago.\n",
    "\n",
    ":::{important}\n",
    "Note that there is no possibility of recombination, migration or any other\n",
    "events occuring during the bottleneck: it is strictly *instantaneous*\n",
    "and can only result in coalscences within the trees.\n",
    ":::\n",
    "\n",
    ":::{seealso}\n",
    "See [Bunnefeld et al. (2015)](https://doi.org/10.1534/genetics.115.179861)\n",
    "and [Galtier et al. (2000)](https://www.ncbi.nlm.nih.gov/pmc/articles/PMC1461106/)\n",
    "for more details on this model of population bottlenecks.\n",
    ":::\n",
    "\n",
    "\n",
    "(sec_demography_events_simple_bottleneck)=\n",
    "\n",
    "#### Simple bottleneck\n",
    "\n",
    "In a {meth}`simple bottleneck<.Demography.add_simple_bottleneck>`\n",
    "each lineage in a given population has a specified\n",
    "probability of coalescing into a single ancestral lineage and a given\n",
    "time. For example, here we create a bottleneck in which lineages\n",
    "have a probability of 0.8 of coalescing at time 1:"
   ]
  },
  {
   "cell_type": "code",
   "execution_count": 19,
   "id": "55eeb85f",
   "metadata": {},
   "outputs": [
    {
     "data": {
      "image/svg+xml": [
       "<svg xmlns=\"http://www.w3.org/2000/svg\" xmlns:ev=\"http://www.w3.org/2001/xml-events\" xmlns:xlink=\"http://www.w3.org/1999/xlink\" baseProfile=\"full\" height=\"200\" version=\"1.1\" width=\"200\"><defs><style type=\"text/css\"><![CDATA[.tree-sequence .background path {fill: #808080; fill-opacity:0}.tree-sequence .background path:nth-child(odd) {fill-opacity:.1}.axes {font-size: 14px}.x-axis .tick .lab {font-weight: bold}.axes, .tree {font-size: 14px; text-anchor:middle}.y-axis line.grid {stroke: #FAFAFA}.y-axis > .lab text {transform: translateX(0.8em) rotate(-90deg)}.x-axis .tick g {transform: translateY(0.9em)}.x-axis > .lab text {transform: translateY(-0.8em)}.axes line, .edge {stroke:black; fill:none}.node > .sym {fill: black; stroke: none}.site > .sym {stroke: black}.mut text {fill: red; font-style: italic}.mut line {fill: none; stroke: none}.mut .sym {fill: none; stroke: red}.node .mut .sym {stroke-width: 1.5px}.tree text, .tree-sequence text {dominant-baseline: central}.plotbox .lab.lft {text-anchor: end}.plotbox .lab.rgt {text-anchor: start}]]></style></defs><g class=\"tree-sequence\"><g class=\"background\"><path d=\"M56.8,0 l123.2,0 l0,138.2 l0,25 l0,5 l-123.2,0 l0,-5 l0,-25 l0,-138.2z\"/></g><g class=\"axes\"><g class=\"x-axis\"><g class=\"lab\" transform=\"translate(118.4,200)\"><text text-anchor=\"middle\">Genome position</text></g><line x1=\"56.8\" x2=\"180\" y1=\"163.2\" y2=\"163.2\"/><g class=\"tick\" transform=\"translate(56.8 163.2)\"><line x1=\"0\" x2=\"0\" y1=\"0\" y2=\"5\"/><g class=\"lab\" transform=\"translate(0,5)\"><text>0</text></g></g><g class=\"tick\" transform=\"translate(180 163.2)\"><line x1=\"0\" x2=\"0\" y1=\"0\" y2=\"5\"/><g class=\"lab\" transform=\"translate(0,5)\"><text>1</text></g></g></g><g class=\"y-axis\"><g class=\"lab\" transform=\"translate(0,65.7)\"><text text-anchor=\"middle\">Time</text></g><line x1=\"56.8\" x2=\"56.8\" y1=\"121.4\" y2=\"10\"/><g class=\"tick\" transform=\"translate(56.8 121.4)\"><line x1=\"0\" x2=\"-5\" y1=\"0\" y2=\"0\"/><g class=\"lab\" transform=\"translate(-5,0)\"><text text-anchor=\"end\">0.00</text></g></g><g class=\"tick\" transform=\"translate(56.8 105.674)\"><line x1=\"0\" x2=\"-5\" y1=\"0\" y2=\"0\"/><g class=\"lab\" transform=\"translate(-5,0)\"><text text-anchor=\"end\">0.17</text></g></g><g class=\"tick\" transform=\"translate(56.8 26.8)\"><line x1=\"0\" x2=\"-5\" y1=\"0\" y2=\"0\"/><g class=\"lab\" transform=\"translate(-5,0)\"><text text-anchor=\"end\">1.00</text></g></g></g></g><g class=\"plotbox trees\"><g class=\"tree t0\" transform=\"translate(56.8 0)\"><g class=\"plotbox\"><g class=\"node n9 p0 root\" transform=\"translate(61.6 26.8)\"><g class=\"a9 i0 leaf node n0 p0 sample\" transform=\"translate(-36.4 94.6)\"><path class=\"edge\" d=\"M 0 0 V -94.6 H 36.4\"/><rect class=\"sym\" height=\"6\" width=\"6\" x=\"-3\" y=\"-3\"/><text class=\"lab\" transform=\"translate(0 11)\">0</text></g><g class=\"a9 i1 leaf node n2 p0 sample\" transform=\"translate(-5.2 94.6)\"><path class=\"edge\" d=\"M 0 0 V -94.6 H 5.2\"/><rect class=\"sym\" height=\"6\" width=\"6\" x=\"-3\" y=\"-3\"/><text class=\"lab\" transform=\"translate(0 11)\">2</text></g><g class=\"a9 i2 leaf node n4 p0 sample\" transform=\"translate(5.2 94.6)\"><path class=\"edge\" d=\"M 0 0 V -94.6 H -5.2\"/><rect class=\"sym\" height=\"6\" width=\"6\" x=\"-3\" y=\"-3\"/><text class=\"lab\" transform=\"translate(0 11)\">4</text></g><g class=\"a9 i2 leaf node n5 p0 sample\" transform=\"translate(15.6 94.6)\"><path class=\"edge\" d=\"M 0 0 V -94.6 H -15.6\"/><rect class=\"sym\" height=\"6\" width=\"6\" x=\"-3\" y=\"-3\"/><text class=\"lab\" transform=\"translate(0 11)\">5</text></g><g class=\"a9 i3 leaf node n6 p0 sample\" transform=\"translate(26 94.6)\"><path class=\"edge\" d=\"M 0 0 V -94.6 H -26\"/><rect class=\"sym\" height=\"6\" width=\"6\" x=\"-3\" y=\"-3\"/><text class=\"lab\" transform=\"translate(0 11)\">6</text></g><g class=\"a9 i3 leaf node n7 p0 sample\" transform=\"translate(36.4 94.6)\"><path class=\"edge\" d=\"M 0 0 V -94.6 H -36.4\"/><rect class=\"sym\" height=\"6\" width=\"6\" x=\"-3\" y=\"-3\"/><text class=\"lab\" transform=\"translate(0 11)\">7</text></g><g class=\"a9 node n8 p0\" transform=\"translate(-20.8 78.8739)\"><g class=\"a8 i0 leaf node n1 p0 sample\" transform=\"translate(-5.2 15.7261)\"><path class=\"edge\" d=\"M 0 0 V -15.7261 H 5.2\"/><rect class=\"sym\" height=\"6\" width=\"6\" x=\"-3\" y=\"-3\"/><text class=\"lab\" transform=\"translate(0 11)\">1</text></g><g class=\"a8 i1 leaf node n3 p0 sample\" transform=\"translate(5.2 15.7261)\"><path class=\"edge\" d=\"M 0 0 V -15.7261 H -5.2\"/><rect class=\"sym\" height=\"6\" width=\"6\" x=\"-3\" y=\"-3\"/><text class=\"lab\" transform=\"translate(0 11)\">3</text></g><path class=\"edge\" d=\"M 0 0 V -78.8739 H 20.8\"/><circle class=\"sym\" cx=\"0\" cy=\"0\" r=\"3\"/><text class=\"lab rgt\" transform=\"translate(3 -7.0)\">8</text></g><circle class=\"sym\" cx=\"0\" cy=\"0\" r=\"3\"/><text class=\"lab\" transform=\"translate(0 -11)\">9</text></g></g></g></g></g></svg>"
      ],
      "text/plain": [
       "<IPython.core.display.SVG object>"
      ]
     },
     "execution_count": 19,
     "metadata": {
      "filenames": {
       "image/svg+xml": "/home/runner/work/tskit-site/tskit-site/docs/_build/jupyter_execute/demography_36_0.svg"
      }
     },
     "output_type": "execute_result"
    }
   ],
   "source": [
    "demography = msprime.Demography()\n",
    "demography.add_population(name=\"A\", initial_size=10)\n",
    "demography.add_simple_bottleneck(time=1, population=\"A\", proportion=0.8)\n",
    "\n",
    "ts = msprime.sim_ancestry(4, demography=demography, random_seed=243)\n",
    "SVG(ts.draw_svg(y_axis=True))"
   ]
  },
  {
   "cell_type": "markdown",
   "id": "e8e8bda7",
   "metadata": {},
   "source": [
    "We can see that at time 1 we had 7 extant lineages, and all of these\n",
    "happened to coalesce, leading to a large polytomy at the root.\n",
    "\n",
    ":::{note}\n",
    "The {meth}`.Demography.add_simple_bottleneck` method can be useful\n",
    "for creating trees with particular properties, but it is not\n",
    "based on any particular theoretical model and is unlikely to be\n",
    "useful in modelling real populations.\n",
    ":::\n",
    "\n",
    "(sec_demography_demography_objects)=\n",
    "\n",
    "## Demography objects\n",
    "\n",
    "{class}`.Demography` objects provide a number of convenient ways of\n",
    "accessing individual population data. Consider the following three\n",
    "population example:"
   ]
  },
  {
   "cell_type": "code",
   "execution_count": 20,
   "id": "baad5535",
   "metadata": {},
   "outputs": [
    {
     "data": {
      "text/html": [
       "<div style=\"margin-left:20px\"><div><style scoped=\"\">\n",
       "            .tskit-table thead tr th:only-of-type {vertical-align: middle;}\n",
       "            .tskit-table thead tr th {text-align: center;vertical-align: top;}\n",
       "            .tskit-table tbody td {text-align: right;padding: 0.5em 0.5em;}\n",
       "            .tskit-table tbody th {padding: 0.5em 0.5em;}\n",
       "        </style><b>Populations (3)</b><table border=\"1\" class=\"tskit-table\"><thead><tr><th>id</th><th>name</th><th>description</th><th>initial_size</th><th>growth_rate</th><th>default_sampling_time</th><th>extra_metadata</th></tr></thead><tbody><tr><td>0</td><td>A</td><td></td><td>1.0</td><td>0</td><td>0</td><td>{}</td></tr><tr><td>1</td><td>B</td><td></td><td>2.0</td><td>0</td><td>0</td><td>{}</td></tr><tr><td>2</td><td>C</td><td></td><td>3.0</td><td>0</td><td>0</td><td>{}</td></tr></tbody></table></div><div><style scoped=\"\">\n",
       "            .tskit-table thead tr th:only-of-type {vertical-align: middle;}\n",
       "            .tskit-table thead tr th {text-align: center;vertical-align: top;}\n",
       "            .tskit-table tbody td {text-align: right;padding: 0.5em 0.5em;}\n",
       "            .tskit-table tbody th {padding: 0.5em 0.5em;}\n",
       "        </style><b>Migration matrix (all zero)</b><table border=\"1\" class=\"tskit-table\"><thead><tr></tr></thead><tbody></tbody></table></div><div><style scoped=\"\">\n",
       "            .tskit-table thead tr th:only-of-type {vertical-align: middle;}\n",
       "            .tskit-table thead tr th {text-align: center;vertical-align: top;}\n",
       "            .tskit-table tbody td {text-align: right;padding: 0.5em 0.5em;}\n",
       "            .tskit-table tbody th {padding: 0.5em 0.5em;}\n",
       "        </style><b>Events (0)</b><table border=\"1\" class=\"tskit-table\"><thead><tr></tr></thead><tbody></tbody></table></div></div>"
      ],
      "text/plain": [
       "Demography(populations=[Population(initial_size=1, growth_rate=0, name='A', description='', extra_metadata={}, default_sampling_time=None, initially_active=None, id=0), Population(initial_size=2, growth_rate=0, name='B', description='', extra_metadata={}, default_sampling_time=None, initially_active=None, id=1), Population(initial_size=3, growth_rate=0, name='C', description='', extra_metadata={}, default_sampling_time=None, initially_active=None, id=2)], events=[], migration_matrix=array([[0., 0., 0.],\n",
       "       [0., 0., 0.],\n",
       "       [0., 0., 0.]]))"
      ]
     },
     "execution_count": 20,
     "metadata": {},
     "output_type": "execute_result"
    }
   ],
   "source": [
    "demography = msprime.Demography()\n",
    "demography.add_population(name=\"A\", initial_size=1)\n",
    "demography.add_population(name=\"B\", initial_size=2)\n",
    "demography.add_population(name=\"C\", initial_size=3)\n",
    "demography"
   ]
  },
  {
   "cell_type": "markdown",
   "id": "0572da92",
   "metadata": {},
   "source": [
    "Demography objects are essentially a mapping from population identifiers\n",
    "to the corresponding population objects, and behave like\n",
    "a {class}`python:dict` with some extra methods. The additional\n",
    "feature provided by the {class}`.Demography` class is that populations\n",
    "can be found either by their integer ID their string names\n",
    "(see the {ref}`sec_demography_populations_identifiers` section for more\n",
    "details):"
   ]
  },
  {
   "cell_type": "code",
   "execution_count": 21,
   "id": "96c08778",
   "metadata": {},
   "outputs": [
    {
     "name": "stdout",
     "output_type": "stream",
     "text": [
      "Population(initial_size=2, growth_rate=0, name='B', description='', extra_metadata={}, default_sampling_time=None, initially_active=None, id=1)\n",
      "Population(initial_size=2, growth_rate=0, name='B', description='', extra_metadata={}, default_sampling_time=None, initially_active=None, id=1)\n"
     ]
    }
   ],
   "source": [
    "print(demography[\"B\"])\n",
    "print(demography[1])"
   ]
  },
  {
   "cell_type": "markdown",
   "id": "c021e3c4",
   "metadata": {},
   "source": [
    "Note that the ``keys`` for a Demography are the names:"
   ]
  },
  {
   "cell_type": "code",
   "execution_count": 22,
   "id": "a028f802",
   "metadata": {},
   "outputs": [
    {
     "data": {
      "text/plain": [
       "['A', 'B', 'C']"
      ]
     },
     "execution_count": 22,
     "metadata": {},
     "output_type": "execute_result"
    }
   ],
   "source": [
    "list(demography.keys())"
   ]
  },
  {
   "cell_type": "markdown",
   "id": "0329c5c8",
   "metadata": {},
   "source": [
    "The values for population objects can be updated in-place. For example,\n",
    "suppose we wanted to change the {ref}`sec_demography_populations_growth_rate`\n",
    "for ``A`` to 0.001:"
   ]
  },
  {
   "cell_type": "code",
   "execution_count": 23,
   "id": "df86da62",
   "metadata": {},
   "outputs": [
    {
     "data": {
      "text/html": [
       "<div style=\"margin-left:20px\"><div><style scoped=\"\">\n",
       "            .tskit-table thead tr th:only-of-type {vertical-align: middle;}\n",
       "            .tskit-table thead tr th {text-align: center;vertical-align: top;}\n",
       "            .tskit-table tbody td {text-align: right;padding: 0.5em 0.5em;}\n",
       "            .tskit-table tbody th {padding: 0.5em 0.5em;}\n",
       "        </style><b>Populations (3)</b><table border=\"1\" class=\"tskit-table\"><thead><tr><th>id</th><th>name</th><th>description</th><th>initial_size</th><th>growth_rate</th><th>default_sampling_time</th><th>extra_metadata</th></tr></thead><tbody><tr><td>0</td><td>A</td><td></td><td>1.0</td><td>0.001</td><td>0</td><td>{}</td></tr><tr><td>1</td><td>B</td><td></td><td>2.0</td><td>0</td><td>0</td><td>{}</td></tr><tr><td>2</td><td>C</td><td></td><td>3.0</td><td>0</td><td>0</td><td>{}</td></tr></tbody></table></div><div><style scoped=\"\">\n",
       "            .tskit-table thead tr th:only-of-type {vertical-align: middle;}\n",
       "            .tskit-table thead tr th {text-align: center;vertical-align: top;}\n",
       "            .tskit-table tbody td {text-align: right;padding: 0.5em 0.5em;}\n",
       "            .tskit-table tbody th {padding: 0.5em 0.5em;}\n",
       "        </style><b>Migration matrix (all zero)</b><table border=\"1\" class=\"tskit-table\"><thead><tr></tr></thead><tbody></tbody></table></div><div><style scoped=\"\">\n",
       "            .tskit-table thead tr th:only-of-type {vertical-align: middle;}\n",
       "            .tskit-table thead tr th {text-align: center;vertical-align: top;}\n",
       "            .tskit-table tbody td {text-align: right;padding: 0.5em 0.5em;}\n",
       "            .tskit-table tbody th {padding: 0.5em 0.5em;}\n",
       "        </style><b>Events (0)</b><table border=\"1\" class=\"tskit-table\"><thead><tr></tr></thead><tbody></tbody></table></div></div>"
      ],
      "text/plain": [
       "Demography(populations=[Population(initial_size=1, growth_rate=0.001, name='A', description='', extra_metadata={}, default_sampling_time=None, initially_active=None, id=0), Population(initial_size=2, growth_rate=0, name='B', description='', extra_metadata={}, default_sampling_time=None, initially_active=None, id=1), Population(initial_size=3, growth_rate=0, name='C', description='', extra_metadata={}, default_sampling_time=None, initially_active=None, id=2)], events=[], migration_matrix=array([[0., 0., 0.],\n",
       "       [0., 0., 0.],\n",
       "       [0., 0., 0.]]))"
      ]
     },
     "execution_count": 23,
     "metadata": {},
     "output_type": "execute_result"
    }
   ],
   "source": [
    "demography[\"A\"].growth_rate = 0.001\n",
    "demography"
   ]
  },
  {
   "cell_type": "markdown",
   "id": "d88ae2a5",
   "metadata": {},
   "source": [
    "We can also loop over all populations using the standard dict protocols.\n",
    "For example, if we wanted to multiply all population sizes by 100 we\n",
    "could do:"
   ]
  },
  {
   "cell_type": "code",
   "execution_count": 24,
   "id": "16e703c1",
   "metadata": {},
   "outputs": [
    {
     "data": {
      "text/html": [
       "<div style=\"margin-left:20px\"><div><style scoped=\"\">\n",
       "            .tskit-table thead tr th:only-of-type {vertical-align: middle;}\n",
       "            .tskit-table thead tr th {text-align: center;vertical-align: top;}\n",
       "            .tskit-table tbody td {text-align: right;padding: 0.5em 0.5em;}\n",
       "            .tskit-table tbody th {padding: 0.5em 0.5em;}\n",
       "        </style><b>Populations (3)</b><table border=\"1\" class=\"tskit-table\"><thead><tr><th>id</th><th>name</th><th>description</th><th>initial_size</th><th>growth_rate</th><th>default_sampling_time</th><th>extra_metadata</th></tr></thead><tbody><tr><td>0</td><td>A</td><td></td><td>100.0</td><td>0.001</td><td>0</td><td>{}</td></tr><tr><td>1</td><td>B</td><td></td><td>200.0</td><td>0</td><td>0</td><td>{}</td></tr><tr><td>2</td><td>C</td><td></td><td>300.0</td><td>0</td><td>0</td><td>{}</td></tr></tbody></table></div><div><style scoped=\"\">\n",
       "            .tskit-table thead tr th:only-of-type {vertical-align: middle;}\n",
       "            .tskit-table thead tr th {text-align: center;vertical-align: top;}\n",
       "            .tskit-table tbody td {text-align: right;padding: 0.5em 0.5em;}\n",
       "            .tskit-table tbody th {padding: 0.5em 0.5em;}\n",
       "        </style><b>Migration matrix (all zero)</b><table border=\"1\" class=\"tskit-table\"><thead><tr></tr></thead><tbody></tbody></table></div><div><style scoped=\"\">\n",
       "            .tskit-table thead tr th:only-of-type {vertical-align: middle;}\n",
       "            .tskit-table thead tr th {text-align: center;vertical-align: top;}\n",
       "            .tskit-table tbody td {text-align: right;padding: 0.5em 0.5em;}\n",
       "            .tskit-table tbody th {padding: 0.5em 0.5em;}\n",
       "        </style><b>Events (0)</b><table border=\"1\" class=\"tskit-table\"><thead><tr></tr></thead><tbody></tbody></table></div></div>"
      ],
      "text/plain": [
       "Demography(populations=[Population(initial_size=100, growth_rate=0.001, name='A', description='', extra_metadata={}, default_sampling_time=None, initially_active=None, id=0), Population(initial_size=200, growth_rate=0, name='B', description='', extra_metadata={}, default_sampling_time=None, initially_active=None, id=1), Population(initial_size=300, growth_rate=0, name='C', description='', extra_metadata={}, default_sampling_time=None, initially_active=None, id=2)], events=[], migration_matrix=array([[0., 0., 0.],\n",
       "       [0., 0., 0.],\n",
       "       [0., 0., 0.]]))"
      ]
     },
     "execution_count": 24,
     "metadata": {},
     "output_type": "execute_result"
    }
   ],
   "source": [
    "for pop in demography.values():\n",
    "    pop.initial_size *= 100\n",
    "demography"
   ]
  },
  {
   "cell_type": "markdown",
   "id": "051a0363",
   "metadata": {},
   "source": [
    "(sec_demography_debugging_tools)=\n",
    "\n",
    "## Debugging tools\n",
    "\n",
    "Creating demographic models is a difficult and\n",
    "[error prone](http://dx.doi.org/10.1016/j.ajhg.2020.08.017) process\n",
    "and we need all the help we can get to avoid making mistakes.\n",
    "Msprime provides some basic debugging utilities to help understand\n",
    "and inspect the contents of {class}`.Demography` objects, as well\n",
    "as understand how the model parameters change over time.\n",
    "\n",
    "### Demography objects\n",
    "\n",
    "When working in a Jupyter notebook environment it is very easy to\n",
    "get a summary of the state of a Demography object: using Jupyter\n",
    "magic, we write the variable at the end of a cell and it gets\n",
    "summarised automatically:"
   ]
  },
  {
   "cell_type": "code",
   "execution_count": 25,
   "id": "4781c5af",
   "metadata": {},
   "outputs": [
    {
     "data": {
      "text/html": [
       "<div style=\"margin-left:20px\"><div><style scoped=\"\">\n",
       "            .tskit-table thead tr th:only-of-type {vertical-align: middle;}\n",
       "            .tskit-table thead tr th {text-align: center;vertical-align: top;}\n",
       "            .tskit-table tbody td {text-align: right;padding: 0.5em 0.5em;}\n",
       "            .tskit-table tbody th {padding: 0.5em 0.5em;}\n",
       "        </style><b>Populations (2)</b><table border=\"1\" class=\"tskit-table\"><thead><tr><th>id</th><th>name</th><th>description</th><th>initial_size</th><th>growth_rate</th><th>default_sampling_time</th><th>extra_metadata</th></tr></thead><tbody><tr><td>0</td><td>pop_0</td><td></td><td>100.0</td><td>0</td><td>0</td><td>{}</td></tr><tr><td>1</td><td>pop_1</td><td></td><td>100.0</td><td>0</td><td>0</td><td>{}</td></tr></tbody></table></div><div><style scoped=\"\">\n",
       "            .tskit-table thead tr th:only-of-type {vertical-align: middle;}\n",
       "            .tskit-table thead tr th {text-align: center;vertical-align: top;}\n",
       "            .tskit-table tbody td {text-align: right;padding: 0.5em 0.5em;}\n",
       "            .tskit-table tbody th {padding: 0.5em 0.5em;}\n",
       "        </style><b>Migration matrix</b><table border=\"1\" class=\"tskit-table\"><thead><tr><th></th><th>pop_0</th><th>pop_1</th></tr></thead><tbody><tr><td>pop_0</td><td>0</td><td title='Backwards in time migration rate from population pop_0 to pop_1 = 0.1 per\n",
       "generation. Forwards in time, this is the expected number of migrants moving\n",
       "from pop_1 to pop_0 per generation, divided by the size of pop_0.'>0.1</td></tr><tr><td>pop_1</td><td title='Backwards in time migration rate from population pop_1 to pop_0 = 0.1 per\n",
       "generation. Forwards in time, this is the expected number of migrants moving\n",
       "from pop_0 to pop_1 per generation, divided by the size of pop_1.'>0.1</td><td>0</td></tr></tbody></table></div><div><style scoped=\"\">\n",
       "            .tskit-table thead tr th:only-of-type {vertical-align: middle;}\n",
       "            .tskit-table thead tr th {text-align: center;vertical-align: top;}\n",
       "            .tskit-table tbody td {text-align: right;padding: 0.5em 0.5em;}\n",
       "            .tskit-table tbody th {padding: 0.5em 0.5em;}\n",
       "        </style><b>Events (0)</b><table border=\"1\" class=\"tskit-table\"><thead><tr></tr></thead><tbody></tbody></table></div></div>"
      ],
      "text/plain": [
       "Demography(populations=[Population(initial_size=100.0, growth_rate=0.0, name='pop_0', description='', extra_metadata={}, default_sampling_time=None, initially_active=None, id=0), Population(initial_size=100.0, growth_rate=0.0, name='pop_1', description='', extra_metadata={}, default_sampling_time=None, initially_active=None, id=1)], events=[], migration_matrix=array([[0. , 0.1],\n",
       "       [0.1, 0. ]]))"
      ]
     },
     "execution_count": 25,
     "metadata": {},
     "output_type": "execute_result"
    }
   ],
   "source": [
    "# Define a demography\n",
    "demography = msprime.Demography.island_model([100, 100], migration_rate=0.1)\n",
    "# Ask Jupyter to print out a summary of it.\n",
    "demography"
   ]
  },
  {
   "cell_type": "markdown",
   "id": "de5c9427",
   "metadata": {},
   "source": [
    "If you prefer to work in a terminal or other non-notebook environment\n",
    "the same information can be accessed by converting the demography object\n",
    "to a string, e.g., by calling ``print``:"
   ]
  },
  {
   "cell_type": "code",
   "execution_count": 26,
   "id": "fc83c4a2",
   "metadata": {},
   "outputs": [
    {
     "name": "stdout",
     "output_type": "stream",
     "text": [
      "Demography\n",
      "╟  Populations\n",
      "║  ┌────────────────────────────────────────────────────────────────────────────────────────────────┐\n",
      "║  │ id │name   │description  │initial_size  │ growth_rate │  default_sampling_time│extra_metadata  │\n",
      "║  ├────────────────────────────────────────────────────────────────────────────────────────────────┤\n",
      "║  │ 0  │pop_0  │             │100.0         │      0      │                      0│{}              │\n",
      "║  │ 1  │pop_1  │             │100.0         │      0      │                      0│{}              │\n",
      "║  └────────────────────────────────────────────────────────────────────────────────────────────────┘\n",
      "╟  Migration Matrix\n",
      "║  ┌───────────────────────┐\n",
      "║  │       │ pop_0 │ pop_1 │\n",
      "║  ├───────────────────────┤\n",
      "║  │  pop_0│   0   │  0.1  │\n",
      "║  │  pop_1│  0.1  │   0   │\n",
      "║  └───────────────────────┘\n",
      "╟  Events\n",
      "║  ┌───────────────────────────────────┐\n",
      "║  │  time│type  │parameters  │effect  │\n",
      "║  ├───────────────────────────────────┤\n",
      "║  └───────────────────────────────────┘\n",
      "\n"
     ]
    }
   ],
   "source": [
    "print(demography)"
   ]
  },
  {
   "cell_type": "markdown",
   "id": "3a6ac38c",
   "metadata": {},
   "source": [
    ":::{note}\n",
    "This may not render correctly in all browsers because of the lack of\n",
    "support for fixed width fonts.\n",
    ":::\n",
    "\n",
    "\n",
    "### DemographyDebugger\n",
    "\n",
    "The {class}`.DemographyDebugger` is a very useful tool for understanding\n",
    "how a model changes over time. For example, let's consider a simple\n",
    "population tree:"
   ]
  },
  {
   "cell_type": "code",
   "execution_count": 27,
   "id": "48400c10",
   "metadata": {},
   "outputs": [
    {
     "data": {
      "text/html": [
       "<div><details open=\"true\"><summary>Epoch[0]: [0, 1e+03) generations</summary><div style=\"margin-left:20px\"><div><style scoped=\"\">\n",
       "            .tskit-table thead tr th:only-of-type {vertical-align: middle;}\n",
       "            .tskit-table thead tr th {text-align: center;vertical-align: top;}\n",
       "            .tskit-table tbody td {text-align: right;padding: 0.5em 0.5em;}\n",
       "            .tskit-table tbody th {padding: 0.5em 0.5em;}\n",
       "        </style><b>Populations (total=3 active=2)</b><table border=\"1\" class=\"tskit-table\"><thead><tr><th></th><th>start</th><th>end</th><th>growth_rate</th><th>A</th><th>B</th></tr></thead><tbody><tr><td>A</td><td> 10000.0</td><td> 10000.0</td><td> 0</td><td>0</td><td title='Backwards in time migration rate from population A to B = 0.0 per generation.\n",
       "Forwards in time, this is the expected number of migrants moving from B to A per\n",
       "generation, divided by the size of A.'>0</td></tr><tr><td>B</td><td> 5000.0</td><td> 5000.0</td><td> 0</td><td title='Backwards in time migration rate from population B to A = 0.0 per generation.\n",
       "Forwards in time, this is the expected number of migrants moving from A to B per\n",
       "generation, divided by the size of B.'>0</td><td>0</td></tr></tbody></table></div><div><style scoped=\"\">\n",
       "            .tskit-table thead tr th:only-of-type {vertical-align: middle;}\n",
       "            .tskit-table thead tr th {text-align: center;vertical-align: top;}\n",
       "            .tskit-table tbody td {text-align: right;padding: 0.5em 0.5em;}\n",
       "            .tskit-table tbody th {padding: 0.5em 0.5em;}\n",
       "        </style><b>Events @ generation 1e+03</b><table border=\"1\" class=\"tskit-table\"><thead><tr><th>time</th><th>type</th><th>parameters</th><th>effect</th></tr></thead><tbody><tr><td>1000</td><td><a href='https://tskit.dev/msprime/docs/latest/api.html#msprime.Demography.add_population_split'>Population Split</a></td><td>derived=[A, B], ancestral=C</td><td>Moves all lineages from derived populations &#x27;A&#x27; and &#x27;B&#x27; to the ancestral &#x27;C&#x27; population. Also set the derived populations to inactive, and all migration rates to and from the derived populations to zero.</td></tr></tbody></table></div></div></details><details open=\"true\"><summary>Epoch[1]: [1e+03, inf) generations</summary><div style=\"margin-left:20px\"><div><style scoped=\"\">\n",
       "            .tskit-table thead tr th:only-of-type {vertical-align: middle;}\n",
       "            .tskit-table thead tr th {text-align: center;vertical-align: top;}\n",
       "            .tskit-table tbody td {text-align: right;padding: 0.5em 0.5em;}\n",
       "            .tskit-table tbody th {padding: 0.5em 0.5em;}\n",
       "        </style><b>Populations (total=3 active=1)</b><table border=\"1\" class=\"tskit-table\"><thead><tr><th></th><th>start</th><th>end</th><th>growth_rate</th></tr></thead><tbody><tr><td>C</td><td> 1000.0</td><td> 1000.0</td><td> 0</td></tr></tbody></table></div></div></details></div>"
      ],
      "text/plain": [
       "<msprime.demography.DemographyDebugger at 0x7f5d62686550>"
      ]
     },
     "execution_count": 27,
     "metadata": {},
     "output_type": "execute_result"
    }
   ],
   "source": [
    "demography = msprime.Demography()\n",
    "demography.add_population(name=\"A\", initial_size=10_000)\n",
    "demography.add_population(name=\"B\", initial_size=5_000)\n",
    "demography.add_population(name=\"C\", initial_size=1_000)\n",
    "demography.add_population_split(time=1000, derived=[\"A\", \"B\"], ancestral=\"C\")\n",
    "demography.debug()"
   ]
  },
  {
   "cell_type": "markdown",
   "id": "2d99fd89",
   "metadata": {},
   "source": [
    "Here we define a {class}`.Demography` object and then get a visual\n",
    "summary of the evolution of the model over time by calling\n",
    "the {meth}`.Demography.debug` method (which returns a\n",
    "{class}`.DemographyDebugger` instance).\n",
    "\n",
    "The debugger splits time up in to simulation \"epochs\" during which all the\n",
    "parameters are the same, and no events happen (as everywhere in msprime,\n",
    "we work {ref}`backwards in time<sec_demography_direction_of_time>`). In\n",
    "each epoch we give the state of the population parameters and migration\n",
    "rates for all {ref}`active<sec_demography_populations_life_cycle>`\n",
    "populations. We also show the events that signal the end of the epoch,\n",
    "which create the next epoch.\n",
    "\n",
    "Again, the same information is available for non-notebook users by\n",
    "converting the debugger object to string:"
   ]
  },
  {
   "cell_type": "code",
   "execution_count": 28,
   "id": "2a8dacad",
   "metadata": {},
   "outputs": [
    {
     "name": "stdout",
     "output_type": "stream",
     "text": [
      "DemographyDebugger\n",
      "╠══════════════════════════════════╗\n",
      "║ Epoch[0]: [0, 1e+03) generations ║\n",
      "╠══════════════════════════════════╝\n",
      "╟    Populations (total=3 active=2)\n",
      "║    ┌───────────────────────────────────────────────┐\n",
      "║    │   │     start│       end│growth_rate  │ A │ B │\n",
      "║    ├───────────────────────────────────────────────┤\n",
      "║    │  A│   10000.0│   10000.0│ 0           │ 0 │ 0 │\n",
      "║    │  B│    5000.0│    5000.0│ 0           │ 0 │ 0 │\n",
      "║    └───────────────────────────────────────────────┘\n",
      "╟    Events @ generation 1e+03\n",
      "║    ┌──────────────────────────────────────────────────────────────────────────────┐\n",
      "║    │  time│type        │parameters       │effect                                  │\n",
      "║    ├──────────────────────────────────────────────────────────────────────────────┤\n",
      "║    │  1000│Population  │derived=[A, B],  │Moves all lineages from derived         │\n",
      "║    │      │Split       │ancestral=C      │populations 'A' and 'B' to the          │\n",
      "║    │      │            │                 │ancestral 'C' population. Also set the  │\n",
      "║    │      │            │                 │derived populations to inactive, and    │\n",
      "║    │      │            │                 │all migration rates to and from the     │\n",
      "║    │      │            │                 │derived populations to zero.            │\n",
      "║    └──────────────────────────────────────────────────────────────────────────────┘\n",
      "╠════════════════════════════════════╗\n",
      "║ Epoch[1]: [1e+03, inf) generations ║\n",
      "╠════════════════════════════════════╝\n",
      "╟    Populations (total=3 active=1)\n",
      "║    ┌─────────────────────────────────────┐\n",
      "║    │   │    start│      end│growth_rate  │\n",
      "║    ├─────────────────────────────────────┤\n",
      "║    │  C│   1000.0│   1000.0│ 0           │\n",
      "║    └─────────────────────────────────────┘\n",
      "\n"
     ]
    }
   ],
   "source": [
    "print(demography.debug())"
   ]
  },
  {
   "cell_type": "markdown",
   "id": "4c1bee21",
   "metadata": {},
   "source": [
    ":::{seealso}\n",
    "The {class}`.DemographyDebugger` has a number of methods to\n",
    "perform calculations based on a given demography. See the\n",
    "{ref}`sec_demography_numerical` section for details and examples.\n",
    ":::\n",
    "\n",
    "(sec_demography_examples)=\n",
    "\n",
    "## Example models\n",
    "\n",
    "In this section we show how to build demographic models by working\n",
    "through some example models from the literature.\n",
    "\n",
    "(sec_demography_examples_population_tree)=\n",
    "\n",
    "### Population tree\n",
    "\n",
    "The first example we examine is the\n",
    "[Gutenkunst et al.](http://dx.doi.org/10.1371/journal.pgen.1000695)\n",
    "out-of-Africa model, in which the history of three present-day populations\n",
    "is modelled by a tree of ancestral populations.\n",
    "\n",
    ":::{important}\n",
    "If you want to use this precise model in your analyses\n",
    "we strongly recommend using {ref}`stdpopsim <stdpopsim:sec_introduction>`,\n",
    "which provides a community maintained {ref}`catalog <stdpopsim:sec_catalog>`\n",
    "of species information and demographic models for simulation. The\n",
    "model given here is equivalent to the\n",
    "{ref}`HomSap/OutOfAfrica_3G09 <stdpopsim:sec_catalog_homsap_models_outofafrica_3g09>`\n",
    "model.\n",
    ":::\n",
    "\n",
    "First we declare some variables and compute some quantities that will\n",
    "come in useful:"
   ]
  },
  {
   "cell_type": "code",
   "execution_count": 29,
   "id": "5f06287b",
   "metadata": {},
   "outputs": [],
   "source": [
    "import math\n",
    "\n",
    "# Times are provided in years, so we convert into generations.\n",
    "generation_time = 25\n",
    "T_OOA = 21.2e3 / generation_time\n",
    "T_AMH = 140e3 / generation_time\n",
    "T_ANC = 220e3 / generation_time\n",
    "# We need to work out the starting population sizes based on\n",
    "# the growth rates provided for these two populations\n",
    "r_CEU = 0.004\n",
    "r_CHB = 0.0055\n",
    "N_CEU = 1000 / math.exp(-r_CEU * T_OOA)\n",
    "N_CHB = 510 / math.exp(-r_CHB * T_OOA)\n",
    "N_AFR = 12300"
   ]
  },
  {
   "cell_type": "markdown",
   "id": "4f981d55",
   "metadata": {},
   "source": [
    "The time and other variables are declared here\n",
    "following the [DRY](https://en.wikipedia.org/wiki/Don't_repeat_yourself)\n",
    "principle: when we have to use the same numerical value more than\n",
    "once it's a very good idea to use a variable to avoid errors. The\n",
    "time conversions are needed because time in msprime is always measured\n",
    "in generations, and the paper reported times in units of years.\n",
    "The size computations are required because the paper reported\n",
    "the European and Asian population sizes at the time they split\n",
    "from the Out-of-Africa population, but we need the present-day\n",
    "sizes.\n",
    "\n",
    "Once we have computed these quantities we can declare the\n",
    "{class}`.Demography` object representing the model we are\n",
    "building and add some {ref}`sec_demography_populations`:"
   ]
  },
  {
   "cell_type": "code",
   "execution_count": 30,
   "id": "32b88846",
   "metadata": {},
   "outputs": [
    {
     "data": {
      "text/html": [
       "<div style=\"margin-left:20px\"><div><style scoped=\"\">\n",
       "            .tskit-table thead tr th:only-of-type {vertical-align: middle;}\n",
       "            .tskit-table thead tr th {text-align: center;vertical-align: top;}\n",
       "            .tskit-table tbody td {text-align: right;padding: 0.5em 0.5em;}\n",
       "            .tskit-table tbody th {padding: 0.5em 0.5em;}\n",
       "        </style><b>Populations (6)</b><table border=\"1\" class=\"tskit-table\"><thead><tr><th>id</th><th>name</th><th>description</th><th>initial_size</th><th>growth_rate</th><th>default_sampling_time</th><th>extra_metadata</th></tr></thead><tbody><tr><td>0</td><td>YRI</td><td>Yoruba in Ibadan, Nigeria</td><td>12300.0</td><td>0</td><td>0</td><td>{}</td></tr><tr><td>1</td><td>CEU</td><td>Utah Residents (CEPH) with Northern and Western European Ancestry</td><td>29725.3</td><td>0.004</td><td>0</td><td>{}</td></tr><tr><td>2</td><td>CHB</td><td>Han Chinese in Beijing, China</td><td>54090.3</td><td>0.0055</td><td>0</td><td>{}</td></tr><tr><td>3</td><td>OOA</td><td>Bottleneck out-of-Africa population</td><td>2100.0</td><td>0</td><td>0</td><td>{}</td></tr><tr><td>4</td><td>AMH</td><td>Anatomically modern humans</td><td>12300.0</td><td>0</td><td>0</td><td>{}</td></tr><tr><td>5</td><td>ANC</td><td>Ancestral equilibrium population</td><td>7300.0</td><td>0</td><td>0</td><td>{}</td></tr></tbody></table></div><div><style scoped=\"\">\n",
       "            .tskit-table thead tr th:only-of-type {vertical-align: middle;}\n",
       "            .tskit-table thead tr th {text-align: center;vertical-align: top;}\n",
       "            .tskit-table tbody td {text-align: right;padding: 0.5em 0.5em;}\n",
       "            .tskit-table tbody th {padding: 0.5em 0.5em;}\n",
       "        </style><b>Migration matrix (all zero)</b><table border=\"1\" class=\"tskit-table\"><thead><tr></tr></thead><tbody></tbody></table></div><div><style scoped=\"\">\n",
       "            .tskit-table thead tr th:only-of-type {vertical-align: middle;}\n",
       "            .tskit-table thead tr th {text-align: center;vertical-align: top;}\n",
       "            .tskit-table tbody td {text-align: right;padding: 0.5em 0.5em;}\n",
       "            .tskit-table tbody th {padding: 0.5em 0.5em;}\n",
       "        </style><b>Events (0)</b><table border=\"1\" class=\"tskit-table\"><thead><tr></tr></thead><tbody></tbody></table></div></div>"
      ],
      "text/plain": [
       "Demography(populations=[Population(initial_size=12300, growth_rate=0, name='YRI', description='Yoruba in Ibadan, Nigeria', extra_metadata={}, default_sampling_time=None, initially_active=None, id=0), Population(initial_size=29725.343546388514, growth_rate=0.004, name='CEU', description='Utah Residents (CEPH) with Northern and Western European Ancestry', extra_metadata={}, default_sampling_time=None, initially_active=None, id=1), Population(initial_size=54090.331077946525, growth_rate=0.0055, name='CHB', description='Han Chinese in Beijing, China', extra_metadata={}, default_sampling_time=None, initially_active=None, id=2), Population(initial_size=2100, growth_rate=0, name='OOA', description='Bottleneck out-of-Africa population', extra_metadata={}, default_sampling_time=None, initially_active=None, id=3), Population(initial_size=12300, growth_rate=0, name='AMH', description='Anatomically modern humans', extra_metadata={}, default_sampling_time=None, initially_active=None, id=4), Population(initial_size=7300, growth_rate=0, name='ANC', description='Ancestral equilibrium population', extra_metadata={}, default_sampling_time=None, initially_active=None, id=5)], events=[], migration_matrix=array([[0., 0., 0., 0., 0., 0.],\n",
       "       [0., 0., 0., 0., 0., 0.],\n",
       "       [0., 0., 0., 0., 0., 0.],\n",
       "       [0., 0., 0., 0., 0., 0.],\n",
       "       [0., 0., 0., 0., 0., 0.],\n",
       "       [0., 0., 0., 0., 0., 0.]]))"
      ]
     },
     "execution_count": 30,
     "metadata": {},
     "output_type": "execute_result"
    }
   ],
   "source": [
    "demography = msprime.Demography()\n",
    "demography.add_population(\n",
    "    name=\"YRI\",\n",
    "    description=\"Yoruba in Ibadan, Nigeria\",\n",
    "    initial_size=N_AFR,\n",
    ")\n",
    "demography.add_population(\n",
    "    name=\"CEU\",\n",
    "    description=(\n",
    "        \"Utah Residents (CEPH) with Northern and Western European Ancestry\"\n",
    "    ),\n",
    "    initial_size=N_CEU,\n",
    "    growth_rate=r_CEU,\n",
    ")\n",
    "demography.add_population(\n",
    "    name=\"CHB\",\n",
    "    description=\"Han Chinese in Beijing, China\",\n",
    "    initial_size=N_CHB,\n",
    "    growth_rate=r_CHB,\n",
    ")\n",
    "demography.add_population(\n",
    "    name=\"OOA\",\n",
    "    description=\"Bottleneck out-of-Africa population\",\n",
    "    initial_size=2100,\n",
    ")\n",
    "demography.add_population(\n",
    "    name=\"AMH\", description=\"Anatomically modern humans\", initial_size=N_AFR\n",
    ")\n",
    "demography.add_population(\n",
    "    name=\"ANC\",\n",
    "    description=\"Ancestral equilibrium population\",\n",
    "    initial_size=7300,\n",
    ")\n",
    "demography"
   ]
  },
  {
   "cell_type": "markdown",
   "id": "b59387e6",
   "metadata": {},
   "source": [
    "Here we create a new {class}`.Demography` object and add six populations\n",
    "using the {meth}`.Demography.add_population` method. The first three\n",
    "populations represent present-day populations and the others ancestral\n",
    "populations. For convenience, we define the\n",
    "{ref}`sec_demography_populations_initial_size` of the ancestral populations\n",
    "here, but technically those populations won't be\n",
    "{ref}`active <sec_demography_populations_life_cycle>` until later in the\n",
    "simulation (i.e., further back in time). To check that we have correctly\n",
    "set up the starting states of the populations, we can look at the\n",
    "HTML representation using Jupyter magic.\n",
    "\n",
    "This sets up our populations, but there is no {ref}`sec_demography_migration`\n",
    "between any of them, as we can see in the output migration matrix.\n",
    "We can add migration to the model using the\n",
    "{meth}`.Demography.set_symmetric_migration_rate` method (we can also\n",
    "set asymmetric migration rates using {meth}`.Demography.set_migration_rate`,\n",
    "but beware of the {ref}`confusion <sec_demography_migration>` around the\n",
    "meaning of ``source`` and ``dest``)."
   ]
  },
  {
   "cell_type": "code",
   "execution_count": 31,
   "id": "e34353a1",
   "metadata": {},
   "outputs": [
    {
     "data": {
      "text/html": [
       "<div style=\"margin-left:20px\"><div><style scoped=\"\">\n",
       "            .tskit-table thead tr th:only-of-type {vertical-align: middle;}\n",
       "            .tskit-table thead tr th {text-align: center;vertical-align: top;}\n",
       "            .tskit-table tbody td {text-align: right;padding: 0.5em 0.5em;}\n",
       "            .tskit-table tbody th {padding: 0.5em 0.5em;}\n",
       "        </style><b>Populations (6)</b><table border=\"1\" class=\"tskit-table\"><thead><tr><th>id</th><th>name</th><th>description</th><th>initial_size</th><th>growth_rate</th><th>default_sampling_time</th><th>extra_metadata</th></tr></thead><tbody><tr><td>0</td><td>YRI</td><td>Yoruba in Ibadan, Nigeria</td><td>12300.0</td><td>0</td><td>0</td><td>{}</td></tr><tr><td>1</td><td>CEU</td><td>Utah Residents (CEPH) with Northern and Western European Ancestry</td><td>29725.3</td><td>0.004</td><td>0</td><td>{}</td></tr><tr><td>2</td><td>CHB</td><td>Han Chinese in Beijing, China</td><td>54090.3</td><td>0.0055</td><td>0</td><td>{}</td></tr><tr><td>3</td><td>OOA</td><td>Bottleneck out-of-Africa population</td><td>2100.0</td><td>0</td><td>0</td><td>{}</td></tr><tr><td>4</td><td>AMH</td><td>Anatomically modern humans</td><td>12300.0</td><td>0</td><td>0</td><td>{}</td></tr><tr><td>5</td><td>ANC</td><td>Ancestral equilibrium population</td><td>7300.0</td><td>0</td><td>0</td><td>{}</td></tr></tbody></table></div><div><style scoped=\"\">\n",
       "            .tskit-table thead tr th:only-of-type {vertical-align: middle;}\n",
       "            .tskit-table thead tr th {text-align: center;vertical-align: top;}\n",
       "            .tskit-table tbody td {text-align: right;padding: 0.5em 0.5em;}\n",
       "            .tskit-table tbody th {padding: 0.5em 0.5em;}\n",
       "        </style><b>Migration matrix</b><table border=\"1\" class=\"tskit-table\"><thead><tr><th></th><th>YRI</th><th>CEU</th><th>CHB</th><th>OOA</th><th>AMH</th><th>ANC</th></tr></thead><tbody><tr><td>YRI</td><td>0</td><td title='Backwards in time migration rate from population YRI to CEU = 3e-05 per\n",
       "generation. Forwards in time, this is the expected number of migrants moving\n",
       "from CEU to YRI per generation, divided by the size of YRI.'>3e-05</td><td title='Backwards in time migration rate from population YRI to CHB = 1.9e-05 per\n",
       "generation. Forwards in time, this is the expected number of migrants moving\n",
       "from CHB to YRI per generation, divided by the size of YRI.'>1.9e-05</td><td title='Backwards in time migration rate from population YRI to OOA = 0.0 per\n",
       "generation. Forwards in time, this is the expected number of migrants moving\n",
       "from OOA to YRI per generation, divided by the size of YRI.'>0</td><td title='Backwards in time migration rate from population YRI to AMH = 0.0 per\n",
       "generation. Forwards in time, this is the expected number of migrants moving\n",
       "from AMH to YRI per generation, divided by the size of YRI.'>0</td><td title='Backwards in time migration rate from population YRI to ANC = 0.0 per\n",
       "generation. Forwards in time, this is the expected number of migrants moving\n",
       "from ANC to YRI per generation, divided by the size of YRI.'>0</td></tr><tr><td>CEU</td><td title='Backwards in time migration rate from population CEU to YRI = 3e-05 per\n",
       "generation. Forwards in time, this is the expected number of migrants moving\n",
       "from YRI to CEU per generation, divided by the size of CEU.'>3e-05</td><td>0</td><td title='Backwards in time migration rate from population CEU to CHB = 9.6e-05 per\n",
       "generation. Forwards in time, this is the expected number of migrants moving\n",
       "from CHB to CEU per generation, divided by the size of CEU.'>9.6e-05</td><td title='Backwards in time migration rate from population CEU to OOA = 0.0 per\n",
       "generation. Forwards in time, this is the expected number of migrants moving\n",
       "from OOA to CEU per generation, divided by the size of CEU.'>0</td><td title='Backwards in time migration rate from population CEU to AMH = 0.0 per\n",
       "generation. Forwards in time, this is the expected number of migrants moving\n",
       "from AMH to CEU per generation, divided by the size of CEU.'>0</td><td title='Backwards in time migration rate from population CEU to ANC = 0.0 per\n",
       "generation. Forwards in time, this is the expected number of migrants moving\n",
       "from ANC to CEU per generation, divided by the size of CEU.'>0</td></tr><tr><td>CHB</td><td title='Backwards in time migration rate from population CHB to YRI = 1.9e-05 per\n",
       "generation. Forwards in time, this is the expected number of migrants moving\n",
       "from YRI to CHB per generation, divided by the size of CHB.'>1.9e-05</td><td title='Backwards in time migration rate from population CHB to CEU = 9.6e-05 per\n",
       "generation. Forwards in time, this is the expected number of migrants moving\n",
       "from CEU to CHB per generation, divided by the size of CHB.'>9.6e-05</td><td>0</td><td title='Backwards in time migration rate from population CHB to OOA = 0.0 per\n",
       "generation. Forwards in time, this is the expected number of migrants moving\n",
       "from OOA to CHB per generation, divided by the size of CHB.'>0</td><td title='Backwards in time migration rate from population CHB to AMH = 0.0 per\n",
       "generation. Forwards in time, this is the expected number of migrants moving\n",
       "from AMH to CHB per generation, divided by the size of CHB.'>0</td><td title='Backwards in time migration rate from population CHB to ANC = 0.0 per\n",
       "generation. Forwards in time, this is the expected number of migrants moving\n",
       "from ANC to CHB per generation, divided by the size of CHB.'>0</td></tr><tr><td>OOA</td><td title='Backwards in time migration rate from population OOA to YRI = 0.0 per\n",
       "generation. Forwards in time, this is the expected number of migrants moving\n",
       "from YRI to OOA per generation, divided by the size of OOA.'>0</td><td title='Backwards in time migration rate from population OOA to CEU = 0.0 per\n",
       "generation. Forwards in time, this is the expected number of migrants moving\n",
       "from CEU to OOA per generation, divided by the size of OOA.'>0</td><td title='Backwards in time migration rate from population OOA to CHB = 0.0 per\n",
       "generation. Forwards in time, this is the expected number of migrants moving\n",
       "from CHB to OOA per generation, divided by the size of OOA.'>0</td><td>0</td><td title='Backwards in time migration rate from population OOA to AMH = 0.0 per\n",
       "generation. Forwards in time, this is the expected number of migrants moving\n",
       "from AMH to OOA per generation, divided by the size of OOA.'>0</td><td title='Backwards in time migration rate from population OOA to ANC = 0.0 per\n",
       "generation. Forwards in time, this is the expected number of migrants moving\n",
       "from ANC to OOA per generation, divided by the size of OOA.'>0</td></tr><tr><td>AMH</td><td title='Backwards in time migration rate from population AMH to YRI = 0.0 per\n",
       "generation. Forwards in time, this is the expected number of migrants moving\n",
       "from YRI to AMH per generation, divided by the size of AMH.'>0</td><td title='Backwards in time migration rate from population AMH to CEU = 0.0 per\n",
       "generation. Forwards in time, this is the expected number of migrants moving\n",
       "from CEU to AMH per generation, divided by the size of AMH.'>0</td><td title='Backwards in time migration rate from population AMH to CHB = 0.0 per\n",
       "generation. Forwards in time, this is the expected number of migrants moving\n",
       "from CHB to AMH per generation, divided by the size of AMH.'>0</td><td title='Backwards in time migration rate from population AMH to OOA = 0.0 per\n",
       "generation. Forwards in time, this is the expected number of migrants moving\n",
       "from OOA to AMH per generation, divided by the size of AMH.'>0</td><td>0</td><td title='Backwards in time migration rate from population AMH to ANC = 0.0 per\n",
       "generation. Forwards in time, this is the expected number of migrants moving\n",
       "from ANC to AMH per generation, divided by the size of AMH.'>0</td></tr><tr><td>ANC</td><td title='Backwards in time migration rate from population ANC to YRI = 0.0 per\n",
       "generation. Forwards in time, this is the expected number of migrants moving\n",
       "from YRI to ANC per generation, divided by the size of ANC.'>0</td><td title='Backwards in time migration rate from population ANC to CEU = 0.0 per\n",
       "generation. Forwards in time, this is the expected number of migrants moving\n",
       "from CEU to ANC per generation, divided by the size of ANC.'>0</td><td title='Backwards in time migration rate from population ANC to CHB = 0.0 per\n",
       "generation. Forwards in time, this is the expected number of migrants moving\n",
       "from CHB to ANC per generation, divided by the size of ANC.'>0</td><td title='Backwards in time migration rate from population ANC to OOA = 0.0 per\n",
       "generation. Forwards in time, this is the expected number of migrants moving\n",
       "from OOA to ANC per generation, divided by the size of ANC.'>0</td><td title='Backwards in time migration rate from population ANC to AMH = 0.0 per\n",
       "generation. Forwards in time, this is the expected number of migrants moving\n",
       "from AMH to ANC per generation, divided by the size of ANC.'>0</td><td>0</td></tr></tbody></table></div><div><style scoped=\"\">\n",
       "            .tskit-table thead tr th:only-of-type {vertical-align: middle;}\n",
       "            .tskit-table thead tr th {text-align: center;vertical-align: top;}\n",
       "            .tskit-table tbody td {text-align: right;padding: 0.5em 0.5em;}\n",
       "            .tskit-table tbody th {padding: 0.5em 0.5em;}\n",
       "        </style><b>Events (0)</b><table border=\"1\" class=\"tskit-table\"><thead><tr></tr></thead><tbody></tbody></table></div></div>"
      ],
      "text/plain": [
       "Demography(populations=[Population(initial_size=12300, growth_rate=0, name='YRI', description='Yoruba in Ibadan, Nigeria', extra_metadata={}, default_sampling_time=None, initially_active=None, id=0), Population(initial_size=29725.343546388514, growth_rate=0.004, name='CEU', description='Utah Residents (CEPH) with Northern and Western European Ancestry', extra_metadata={}, default_sampling_time=None, initially_active=None, id=1), Population(initial_size=54090.331077946525, growth_rate=0.0055, name='CHB', description='Han Chinese in Beijing, China', extra_metadata={}, default_sampling_time=None, initially_active=None, id=2), Population(initial_size=2100, growth_rate=0, name='OOA', description='Bottleneck out-of-Africa population', extra_metadata={}, default_sampling_time=None, initially_active=None, id=3), Population(initial_size=12300, growth_rate=0, name='AMH', description='Anatomically modern humans', extra_metadata={}, default_sampling_time=None, initially_active=None, id=4), Population(initial_size=7300, growth_rate=0, name='ANC', description='Ancestral equilibrium population', extra_metadata={}, default_sampling_time=None, initially_active=None, id=5)], events=[], migration_matrix=array([[0.0e+00, 3.0e-05, 1.9e-05, 0.0e+00, 0.0e+00, 0.0e+00],\n",
       "       [3.0e-05, 0.0e+00, 9.6e-05, 0.0e+00, 0.0e+00, 0.0e+00],\n",
       "       [1.9e-05, 9.6e-05, 0.0e+00, 0.0e+00, 0.0e+00, 0.0e+00],\n",
       "       [0.0e+00, 0.0e+00, 0.0e+00, 0.0e+00, 0.0e+00, 0.0e+00],\n",
       "       [0.0e+00, 0.0e+00, 0.0e+00, 0.0e+00, 0.0e+00, 0.0e+00],\n",
       "       [0.0e+00, 0.0e+00, 0.0e+00, 0.0e+00, 0.0e+00, 0.0e+00]]))"
      ]
     },
     "execution_count": 31,
     "metadata": {},
     "output_type": "execute_result"
    }
   ],
   "source": [
    "# Set the migration rates between extant populations\n",
    "demography.set_symmetric_migration_rate([\"CEU\", \"CHB\"], 9.6e-5)\n",
    "demography.set_symmetric_migration_rate([\"YRI\", \"CHB\"], 1.9e-5)\n",
    "demography.set_symmetric_migration_rate([\"YRI\", \"CEU\"], 3e-5)\n",
    "demography"
   ]
  },
  {
   "cell_type": "markdown",
   "id": "9b77c6b6",
   "metadata": {},
   "source": [
    "Now we can see that the migration matrix shows the\n",
    "appropriate rates between the extant populations.\n",
    "\n",
    ":::{tip}\n",
    "If you hover your mouse over an entry in the migration matrix\n",
    "it will tell which populations are involved, and how the rate\n",
    "can be interpreted.\n",
    ":::\n",
    "\n",
    "The model still does not have any sense of how the modern\n",
    "and ancient populations relate to each other, or how\n",
    "parameters change over time. To do this, we need to declare\n",
    "some {ref}`sec_demography_events`:"
   ]
  },
  {
   "cell_type": "code",
   "execution_count": 32,
   "id": "d26f6fa6",
   "metadata": {},
   "outputs": [
    {
     "data": {
      "text/html": [
       "<div style=\"margin-left:20px\"><div><style scoped=\"\">\n",
       "            .tskit-table thead tr th:only-of-type {vertical-align: middle;}\n",
       "            .tskit-table thead tr th {text-align: center;vertical-align: top;}\n",
       "            .tskit-table tbody td {text-align: right;padding: 0.5em 0.5em;}\n",
       "            .tskit-table tbody th {padding: 0.5em 0.5em;}\n",
       "        </style><b>Populations (6)</b><table border=\"1\" class=\"tskit-table\"><thead><tr><th>id</th><th>name</th><th>description</th><th>initial_size</th><th>growth_rate</th><th>default_sampling_time</th><th>extra_metadata</th></tr></thead><tbody><tr><td>0</td><td>YRI</td><td>Yoruba in Ibadan, Nigeria</td><td>12300.0</td><td>0</td><td>0</td><td>{}</td></tr><tr><td>1</td><td>CEU</td><td>Utah Residents (CEPH) with Northern and Western European Ancestry</td><td>29725.3</td><td>0.004</td><td>0</td><td>{}</td></tr><tr><td>2</td><td>CHB</td><td>Han Chinese in Beijing, China</td><td>54090.3</td><td>0.0055</td><td>0</td><td>{}</td></tr><tr><td>3</td><td>OOA</td><td>Bottleneck out-of-Africa population</td><td>2100.0</td><td>0</td><td>8.5e+02</td><td>{}</td></tr><tr><td>4</td><td>AMH</td><td>Anatomically modern humans</td><td>12300.0</td><td>0</td><td>5.6e+03</td><td>{}</td></tr><tr><td>5</td><td>ANC</td><td>Ancestral equilibrium population</td><td>7300.0</td><td>0</td><td>8.8e+03</td><td>{}</td></tr></tbody></table></div><div><style scoped=\"\">\n",
       "            .tskit-table thead tr th:only-of-type {vertical-align: middle;}\n",
       "            .tskit-table thead tr th {text-align: center;vertical-align: top;}\n",
       "            .tskit-table tbody td {text-align: right;padding: 0.5em 0.5em;}\n",
       "            .tskit-table tbody th {padding: 0.5em 0.5em;}\n",
       "        </style><b>Migration matrix</b><table border=\"1\" class=\"tskit-table\"><thead><tr><th></th><th>YRI</th><th>CEU</th><th>CHB</th><th>OOA</th><th>AMH</th><th>ANC</th></tr></thead><tbody><tr><td>YRI</td><td>0</td><td title='Backwards in time migration rate from population YRI to CEU = 3e-05 per\n",
       "generation. Forwards in time, this is the expected number of migrants moving\n",
       "from CEU to YRI per generation, divided by the size of YRI.'>3e-05</td><td title='Backwards in time migration rate from population YRI to CHB = 1.9e-05 per\n",
       "generation. Forwards in time, this is the expected number of migrants moving\n",
       "from CHB to YRI per generation, divided by the size of YRI.'>1.9e-05</td><td title='Backwards in time migration rate from population YRI to OOA = 0.0 per\n",
       "generation. Forwards in time, this is the expected number of migrants moving\n",
       "from OOA to YRI per generation, divided by the size of YRI.'>0</td><td title='Backwards in time migration rate from population YRI to AMH = 0.0 per\n",
       "generation. Forwards in time, this is the expected number of migrants moving\n",
       "from AMH to YRI per generation, divided by the size of YRI.'>0</td><td title='Backwards in time migration rate from population YRI to ANC = 0.0 per\n",
       "generation. Forwards in time, this is the expected number of migrants moving\n",
       "from ANC to YRI per generation, divided by the size of YRI.'>0</td></tr><tr><td>CEU</td><td title='Backwards in time migration rate from population CEU to YRI = 3e-05 per\n",
       "generation. Forwards in time, this is the expected number of migrants moving\n",
       "from YRI to CEU per generation, divided by the size of CEU.'>3e-05</td><td>0</td><td title='Backwards in time migration rate from population CEU to CHB = 9.6e-05 per\n",
       "generation. Forwards in time, this is the expected number of migrants moving\n",
       "from CHB to CEU per generation, divided by the size of CEU.'>9.6e-05</td><td title='Backwards in time migration rate from population CEU to OOA = 0.0 per\n",
       "generation. Forwards in time, this is the expected number of migrants moving\n",
       "from OOA to CEU per generation, divided by the size of CEU.'>0</td><td title='Backwards in time migration rate from population CEU to AMH = 0.0 per\n",
       "generation. Forwards in time, this is the expected number of migrants moving\n",
       "from AMH to CEU per generation, divided by the size of CEU.'>0</td><td title='Backwards in time migration rate from population CEU to ANC = 0.0 per\n",
       "generation. Forwards in time, this is the expected number of migrants moving\n",
       "from ANC to CEU per generation, divided by the size of CEU.'>0</td></tr><tr><td>CHB</td><td title='Backwards in time migration rate from population CHB to YRI = 1.9e-05 per\n",
       "generation. Forwards in time, this is the expected number of migrants moving\n",
       "from YRI to CHB per generation, divided by the size of CHB.'>1.9e-05</td><td title='Backwards in time migration rate from population CHB to CEU = 9.6e-05 per\n",
       "generation. Forwards in time, this is the expected number of migrants moving\n",
       "from CEU to CHB per generation, divided by the size of CHB.'>9.6e-05</td><td>0</td><td title='Backwards in time migration rate from population CHB to OOA = 0.0 per\n",
       "generation. Forwards in time, this is the expected number of migrants moving\n",
       "from OOA to CHB per generation, divided by the size of CHB.'>0</td><td title='Backwards in time migration rate from population CHB to AMH = 0.0 per\n",
       "generation. Forwards in time, this is the expected number of migrants moving\n",
       "from AMH to CHB per generation, divided by the size of CHB.'>0</td><td title='Backwards in time migration rate from population CHB to ANC = 0.0 per\n",
       "generation. Forwards in time, this is the expected number of migrants moving\n",
       "from ANC to CHB per generation, divided by the size of CHB.'>0</td></tr><tr><td>OOA</td><td title='Backwards in time migration rate from population OOA to YRI = 0.0 per\n",
       "generation. Forwards in time, this is the expected number of migrants moving\n",
       "from YRI to OOA per generation, divided by the size of OOA.'>0</td><td title='Backwards in time migration rate from population OOA to CEU = 0.0 per\n",
       "generation. Forwards in time, this is the expected number of migrants moving\n",
       "from CEU to OOA per generation, divided by the size of OOA.'>0</td><td title='Backwards in time migration rate from population OOA to CHB = 0.0 per\n",
       "generation. Forwards in time, this is the expected number of migrants moving\n",
       "from CHB to OOA per generation, divided by the size of OOA.'>0</td><td>0</td><td title='Backwards in time migration rate from population OOA to AMH = 0.0 per\n",
       "generation. Forwards in time, this is the expected number of migrants moving\n",
       "from AMH to OOA per generation, divided by the size of OOA.'>0</td><td title='Backwards in time migration rate from population OOA to ANC = 0.0 per\n",
       "generation. Forwards in time, this is the expected number of migrants moving\n",
       "from ANC to OOA per generation, divided by the size of OOA.'>0</td></tr><tr><td>AMH</td><td title='Backwards in time migration rate from population AMH to YRI = 0.0 per\n",
       "generation. Forwards in time, this is the expected number of migrants moving\n",
       "from YRI to AMH per generation, divided by the size of AMH.'>0</td><td title='Backwards in time migration rate from population AMH to CEU = 0.0 per\n",
       "generation. Forwards in time, this is the expected number of migrants moving\n",
       "from CEU to AMH per generation, divided by the size of AMH.'>0</td><td title='Backwards in time migration rate from population AMH to CHB = 0.0 per\n",
       "generation. Forwards in time, this is the expected number of migrants moving\n",
       "from CHB to AMH per generation, divided by the size of AMH.'>0</td><td title='Backwards in time migration rate from population AMH to OOA = 0.0 per\n",
       "generation. Forwards in time, this is the expected number of migrants moving\n",
       "from OOA to AMH per generation, divided by the size of AMH.'>0</td><td>0</td><td title='Backwards in time migration rate from population AMH to ANC = 0.0 per\n",
       "generation. Forwards in time, this is the expected number of migrants moving\n",
       "from ANC to AMH per generation, divided by the size of AMH.'>0</td></tr><tr><td>ANC</td><td title='Backwards in time migration rate from population ANC to YRI = 0.0 per\n",
       "generation. Forwards in time, this is the expected number of migrants moving\n",
       "from YRI to ANC per generation, divided by the size of ANC.'>0</td><td title='Backwards in time migration rate from population ANC to CEU = 0.0 per\n",
       "generation. Forwards in time, this is the expected number of migrants moving\n",
       "from CEU to ANC per generation, divided by the size of ANC.'>0</td><td title='Backwards in time migration rate from population ANC to CHB = 0.0 per\n",
       "generation. Forwards in time, this is the expected number of migrants moving\n",
       "from CHB to ANC per generation, divided by the size of ANC.'>0</td><td title='Backwards in time migration rate from population ANC to OOA = 0.0 per\n",
       "generation. Forwards in time, this is the expected number of migrants moving\n",
       "from OOA to ANC per generation, divided by the size of ANC.'>0</td><td title='Backwards in time migration rate from population ANC to AMH = 0.0 per\n",
       "generation. Forwards in time, this is the expected number of migrants moving\n",
       "from AMH to ANC per generation, divided by the size of ANC.'>0</td><td>0</td></tr></tbody></table></div><div><style scoped=\"\">\n",
       "            .tskit-table thead tr th:only-of-type {vertical-align: middle;}\n",
       "            .tskit-table thead tr th {text-align: center;vertical-align: top;}\n",
       "            .tskit-table tbody td {text-align: right;padding: 0.5em 0.5em;}\n",
       "            .tskit-table tbody th {padding: 0.5em 0.5em;}\n",
       "        </style><b>Events (4)</b><table border=\"1\" class=\"tskit-table\"><thead><tr><th>time</th><th>type</th><th>parameters</th><th>effect</th></tr></thead><tbody><tr><td>848</td><td><a href='https://tskit.dev/msprime/docs/latest/api.html#msprime.Demography.add_population_split'>Population Split</a></td><td>derived=[CEU, CHB], ancestral=OOA</td><td>Moves all lineages from derived populations &#x27;CEU&#x27; and &#x27;CHB&#x27; to the ancestral &#x27;OOA&#x27; population. Also set the derived populations to inactive, and all migration rates to and from the derived populations to zero.</td></tr><tr><td>848</td><td><a href='https://tskit.dev/msprime/docs/latest/api.html#msprime.Demography.add_symmetric_migration_rate_change'>Symmetric migration rate change</a></td><td>populations=[YRI, OOA], rate=0.00025</td><td>Sets the symmetric migration rate between YRI and OOA to 0.00025 per generation</td></tr><tr><td>5600</td><td><a href='https://tskit.dev/msprime/docs/latest/api.html#msprime.Demography.add_population_split'>Population Split</a></td><td>derived=[YRI, OOA], ancestral=AMH</td><td>Moves all lineages from derived populations &#x27;YRI&#x27; and &#x27;OOA&#x27; to the ancestral &#x27;AMH&#x27; population. Also set the derived populations to inactive, and all migration rates to and from the derived populations to zero.</td></tr><tr><td>8800</td><td><a href='https://tskit.dev/msprime/docs/latest/api.html#msprime.Demography.add_population_split'>Population Split</a></td><td>derived=[AMH], ancestral=ANC</td><td>Moves all lineages from the &#x27;AMH&#x27; derived population to the ancestral &#x27;ANC&#x27; population. Also set &#x27;AMH&#x27; to inactive, and all migration rates to and from the derived population to zero.</td></tr></tbody></table></div></div>"
      ],
      "text/plain": [
       "Demography(populations=[Population(initial_size=12300, growth_rate=0, name='YRI', description='Yoruba in Ibadan, Nigeria', extra_metadata={}, default_sampling_time=None, initially_active=None, id=0), Population(initial_size=29725.343546388514, growth_rate=0.004, name='CEU', description='Utah Residents (CEPH) with Northern and Western European Ancestry', extra_metadata={}, default_sampling_time=None, initially_active=None, id=1), Population(initial_size=54090.331077946525, growth_rate=0.0055, name='CHB', description='Han Chinese in Beijing, China', extra_metadata={}, default_sampling_time=None, initially_active=None, id=2), Population(initial_size=2100, growth_rate=0, name='OOA', description='Bottleneck out-of-Africa population', extra_metadata={}, default_sampling_time=848.0, initially_active=False, id=3), Population(initial_size=12300, growth_rate=0, name='AMH', description='Anatomically modern humans', extra_metadata={}, default_sampling_time=5600.0, initially_active=False, id=4), Population(initial_size=7300, growth_rate=0, name='ANC', description='Ancestral equilibrium population', extra_metadata={}, default_sampling_time=8800.0, initially_active=False, id=5)], events=[PopulationSplit(time=848.0, derived=['CEU', 'CHB'], ancestral='OOA'), SymmetricMigrationRateChange(time=848.0, populations=['YRI', 'OOA'], rate=0.00025), PopulationSplit(time=5600.0, derived=['YRI', 'OOA'], ancestral='AMH'), PopulationSplit(time=8800.0, derived=['AMH'], ancestral='ANC')], migration_matrix=array([[0.0e+00, 3.0e-05, 1.9e-05, 0.0e+00, 0.0e+00, 0.0e+00],\n",
       "       [3.0e-05, 0.0e+00, 9.6e-05, 0.0e+00, 0.0e+00, 0.0e+00],\n",
       "       [1.9e-05, 9.6e-05, 0.0e+00, 0.0e+00, 0.0e+00, 0.0e+00],\n",
       "       [0.0e+00, 0.0e+00, 0.0e+00, 0.0e+00, 0.0e+00, 0.0e+00],\n",
       "       [0.0e+00, 0.0e+00, 0.0e+00, 0.0e+00, 0.0e+00, 0.0e+00],\n",
       "       [0.0e+00, 0.0e+00, 0.0e+00, 0.0e+00, 0.0e+00, 0.0e+00]]))"
      ]
     },
     "execution_count": 32,
     "metadata": {},
     "output_type": "execute_result"
    }
   ],
   "source": [
    "demography.add_population_split(time=T_OOA, derived=[\"CEU\", \"CHB\"], ancestral=\"OOA\")\n",
    "demography.add_symmetric_migration_rate_change(\n",
    "    time=T_OOA, populations=[\"YRI\", \"OOA\"], rate=25e-5\n",
    ")\n",
    "demography.add_population_split(time=T_AMH, derived=[\"YRI\", \"OOA\"], ancestral=\"AMH\")\n",
    "demography.add_population_split(time=T_ANC, derived=[\"AMH\"], ancestral=\"ANC\")\n",
    "demography"
   ]
  },
  {
   "cell_type": "markdown",
   "id": "46818d5f",
   "metadata": {},
   "source": [
    "The first event we added was a {ref}`sec_demography_events_population_split`\n",
    "using the {meth}`.Demography.add_population_split` method. This has\n",
    "three effects:\n",
    "\n",
    "1. At the time of the split, all lineages currently in the\n",
    "``CEU`` and ``CHB`` populations are moved into ancestral\n",
    "``OOA`` population (remember, this is\n",
    "{ref}`backwards in time<sec_demography_direction_of_time>`).\n",
    "\n",
    "2. It marks the ``OOA`` population as\n",
    "{ref}`inactive <sec_demography_populations_life_cycle>`\n",
    "\"before\"  the event, and sets its\n",
    "{ref}`sampling time<sec_demography_populations_default_sampling_time>`\n",
    "to the time of the population split (as can be seen in the Populations table\n",
    "above).\n",
    "\n",
    "3. It marks the ``CEU`` and ``CHB`` populations as\n",
    "{ref}`previously active <sec_demography_populations_life_cycle>`\n",
    "\"after\" the event. Any subsequent attempts to move lineages into these\n",
    "populations will result in an error.\n",
    "\n",
    ":::{tip}\n",
    "The **effect** column in the events output summarises the effect of\n",
    "each event.\n",
    ":::\n",
    "\n",
    "The next event is a {ref}`sec_demography_events_migration_rate_change`\n",
    "using the {meth}`.Demography.add_symmetric_migration_rate_change` method,\n",
    "that also happens at the Out-of-Africa split time. This sets the migration\n",
    "rate between the ``OOA`` and ``YRI`` populations.\n",
    "\n",
    ":::{note}\n",
    "Any number of events can occur at the same time in msprime, and they are\n",
    "guaranteed to be executed in the order that they are specified.\n",
    ":::\n",
    "\n",
    "The remaining events are then both population splits: 5600 generations\n",
    "ago, the ``OOA`` and ``YRI`` split from the ``AMH`` population,\n",
    "and finally 8800 generation ago the ``AMH`` population \"split\" from\n",
    "the ``ANC`` population. This last population split may seem unnecessary,\n",
    "since we could have achieved the same effect by a population\n",
    "{ref}`size change<sec_demography_events_population_parameters_change>`,\n",
    "but from an interpretation perspective it is much better to explicitly\n",
    "model distinct phases as separate populations."
   ]
  },
  {
   "cell_type": "code",
   "execution_count": 33,
   "id": "ae3095f2",
   "metadata": {
    "tags": [
     "remove-cell"
    ]
   },
   "outputs": [],
   "source": [
    "# Make sure we don't insert any errors in this version of the model.\n",
    "# Once we have an equivalent version in stdpopsim we can update here\n",
    "# to compare against that instead and remove the Demography._ooa_model()\n",
    "\n",
    "demography.assert_equal(msprime.Demography._ooa_model())"
   ]
  },
  {
   "cell_type": "markdown",
   "id": "06b09e3e",
   "metadata": {},
   "source": [
    "We can now see the model as a set of populations, their initial state\n",
    "and migration rates and a set of events. To help understand how this\n",
    "model evolves over time the {class}`.DemographyDebugger` is extremely\n",
    "useful. To get a debugger instance for a given demography use the\n",
    "{meth}`.Demography.debug()` method. This will then display the\n",
    "state of the demography as a set of \"epochs\", where we see the\n",
    "state of the populations and the migration matrix during different\n",
    "time periods:\n",
    "\n",
    ":::{note}\n",
    "Only populations that are **active** during a particular epoch\n",
    "are displayed in the debugger output.\n",
    ":::"
   ]
  },
  {
   "cell_type": "code",
   "execution_count": 34,
   "id": "e5555ce3",
   "metadata": {},
   "outputs": [
    {
     "data": {
      "text/html": [
       "<div><details open=\"true\"><summary>Epoch[0]: [0, 848) generations</summary><div style=\"margin-left:20px\"><div><style scoped=\"\">\n",
       "            .tskit-table thead tr th:only-of-type {vertical-align: middle;}\n",
       "            .tskit-table thead tr th {text-align: center;vertical-align: top;}\n",
       "            .tskit-table tbody td {text-align: right;padding: 0.5em 0.5em;}\n",
       "            .tskit-table tbody th {padding: 0.5em 0.5em;}\n",
       "        </style><b>Populations (total=6 active=3)</b><table border=\"1\" class=\"tskit-table\"><thead><tr><th></th><th>start</th><th>end</th><th>growth_rate</th><th>YRI</th><th>CEU</th><th>CHB</th></tr></thead><tbody><tr><td>YRI</td><td> 12300.0</td><td> 12300.0</td><td> 0</td><td>0</td><td title='Backwards in time migration rate from population YRI to CEU = 3e-05 per\n",
       "generation. Forwards in time, this is the expected number of migrants moving\n",
       "from CEU to YRI per generation, divided by the size of YRI.'>3e-05</td><td title='Backwards in time migration rate from population YRI to CHB = 1.9e-05 per\n",
       "generation. Forwards in time, this is the expected number of migrants moving\n",
       "from CHB to YRI per generation, divided by the size of YRI.'>1.9e-05</td></tr><tr><td>CEU</td><td> 29725.3</td><td> 1000.0</td><td> 0.004</td><td title='Backwards in time migration rate from population CEU to YRI = 3e-05 per\n",
       "generation. Forwards in time, this is the expected number of migrants moving\n",
       "from YRI to CEU per generation, divided by the size of CEU.'>3e-05</td><td>0</td><td title='Backwards in time migration rate from population CEU to CHB = 9.6e-05 per\n",
       "generation. Forwards in time, this is the expected number of migrants moving\n",
       "from CHB to CEU per generation, divided by the size of CEU.'>9.6e-05</td></tr><tr><td>CHB</td><td> 54090.3</td><td> 510.0</td><td> 0.0055</td><td title='Backwards in time migration rate from population CHB to YRI = 1.9e-05 per\n",
       "generation. Forwards in time, this is the expected number of migrants moving\n",
       "from YRI to CHB per generation, divided by the size of CHB.'>1.9e-05</td><td title='Backwards in time migration rate from population CHB to CEU = 9.6e-05 per\n",
       "generation. Forwards in time, this is the expected number of migrants moving\n",
       "from CEU to CHB per generation, divided by the size of CHB.'>9.6e-05</td><td>0</td></tr></tbody></table></div><div><style scoped=\"\">\n",
       "            .tskit-table thead tr th:only-of-type {vertical-align: middle;}\n",
       "            .tskit-table thead tr th {text-align: center;vertical-align: top;}\n",
       "            .tskit-table tbody td {text-align: right;padding: 0.5em 0.5em;}\n",
       "            .tskit-table tbody th {padding: 0.5em 0.5em;}\n",
       "        </style><b>Events @ generation 848</b><table border=\"1\" class=\"tskit-table\"><thead><tr><th>time</th><th>type</th><th>parameters</th><th>effect</th></tr></thead><tbody><tr><td>848</td><td><a href='https://tskit.dev/msprime/docs/latest/api.html#msprime.Demography.add_population_split'>Population Split</a></td><td>derived=[CEU, CHB], ancestral=OOA</td><td>Moves all lineages from derived populations &#x27;CEU&#x27; and &#x27;CHB&#x27; to the ancestral &#x27;OOA&#x27; population. Also set the derived populations to inactive, and all migration rates to and from the derived populations to zero.</td></tr><tr><td>848</td><td><a href='https://tskit.dev/msprime/docs/latest/api.html#msprime.Demography.add_symmetric_migration_rate_change'>Symmetric migration rate change</a></td><td>populations=[YRI, OOA], rate=0.00025</td><td>Sets the symmetric migration rate between YRI and OOA to 0.00025 per generation</td></tr></tbody></table></div></div></details><details open=\"true\"><summary>Epoch[1]: [848, 5.6e+03) generations</summary><div style=\"margin-left:20px\"><div><style scoped=\"\">\n",
       "            .tskit-table thead tr th:only-of-type {vertical-align: middle;}\n",
       "            .tskit-table thead tr th {text-align: center;vertical-align: top;}\n",
       "            .tskit-table tbody td {text-align: right;padding: 0.5em 0.5em;}\n",
       "            .tskit-table tbody th {padding: 0.5em 0.5em;}\n",
       "        </style><b>Populations (total=6 active=2)</b><table border=\"1\" class=\"tskit-table\"><thead><tr><th></th><th>start</th><th>end</th><th>growth_rate</th><th>YRI</th><th>OOA</th></tr></thead><tbody><tr><td>YRI</td><td> 12300.0</td><td> 12300.0</td><td> 0</td><td>0</td><td title='Backwards in time migration rate from population YRI to OOA = 0.00025 per\n",
       "generation. Forwards in time, this is the expected number of migrants moving\n",
       "from OOA to YRI per generation, divided by the size of YRI.'>0.00025</td></tr><tr><td>OOA</td><td> 2100.0</td><td> 2100.0</td><td> 0</td><td title='Backwards in time migration rate from population OOA to YRI = 0.00025 per\n",
       "generation. Forwards in time, this is the expected number of migrants moving\n",
       "from YRI to OOA per generation, divided by the size of OOA.'>0.00025</td><td>0</td></tr></tbody></table></div><div><style scoped=\"\">\n",
       "            .tskit-table thead tr th:only-of-type {vertical-align: middle;}\n",
       "            .tskit-table thead tr th {text-align: center;vertical-align: top;}\n",
       "            .tskit-table tbody td {text-align: right;padding: 0.5em 0.5em;}\n",
       "            .tskit-table tbody th {padding: 0.5em 0.5em;}\n",
       "        </style><b>Events @ generation 5.6e+03</b><table border=\"1\" class=\"tskit-table\"><thead><tr><th>time</th><th>type</th><th>parameters</th><th>effect</th></tr></thead><tbody><tr><td>5600</td><td><a href='https://tskit.dev/msprime/docs/latest/api.html#msprime.Demography.add_population_split'>Population Split</a></td><td>derived=[YRI, OOA], ancestral=AMH</td><td>Moves all lineages from derived populations &#x27;YRI&#x27; and &#x27;OOA&#x27; to the ancestral &#x27;AMH&#x27; population. Also set the derived populations to inactive, and all migration rates to and from the derived populations to zero.</td></tr></tbody></table></div></div></details><details open=\"true\"><summary>Epoch[2]: [5.6e+03, 8.8e+03) generations</summary><div style=\"margin-left:20px\"><div><style scoped=\"\">\n",
       "            .tskit-table thead tr th:only-of-type {vertical-align: middle;}\n",
       "            .tskit-table thead tr th {text-align: center;vertical-align: top;}\n",
       "            .tskit-table tbody td {text-align: right;padding: 0.5em 0.5em;}\n",
       "            .tskit-table tbody th {padding: 0.5em 0.5em;}\n",
       "        </style><b>Populations (total=6 active=1)</b><table border=\"1\" class=\"tskit-table\"><thead><tr><th></th><th>start</th><th>end</th><th>growth_rate</th></tr></thead><tbody><tr><td>AMH</td><td> 12300.0</td><td> 12300.0</td><td> 0</td></tr></tbody></table></div><div><style scoped=\"\">\n",
       "            .tskit-table thead tr th:only-of-type {vertical-align: middle;}\n",
       "            .tskit-table thead tr th {text-align: center;vertical-align: top;}\n",
       "            .tskit-table tbody td {text-align: right;padding: 0.5em 0.5em;}\n",
       "            .tskit-table tbody th {padding: 0.5em 0.5em;}\n",
       "        </style><b>Events @ generation 8.8e+03</b><table border=\"1\" class=\"tskit-table\"><thead><tr><th>time</th><th>type</th><th>parameters</th><th>effect</th></tr></thead><tbody><tr><td>8800</td><td><a href='https://tskit.dev/msprime/docs/latest/api.html#msprime.Demography.add_population_split'>Population Split</a></td><td>derived=[AMH], ancestral=ANC</td><td>Moves all lineages from the &#x27;AMH&#x27; derived population to the ancestral &#x27;ANC&#x27; population. Also set &#x27;AMH&#x27; to inactive, and all migration rates to and from the derived population to zero.</td></tr></tbody></table></div></div></details><details open=\"true\"><summary>Epoch[3]: [8.8e+03, inf) generations</summary><div style=\"margin-left:20px\"><div><style scoped=\"\">\n",
       "            .tskit-table thead tr th:only-of-type {vertical-align: middle;}\n",
       "            .tskit-table thead tr th {text-align: center;vertical-align: top;}\n",
       "            .tskit-table tbody td {text-align: right;padding: 0.5em 0.5em;}\n",
       "            .tskit-table tbody th {padding: 0.5em 0.5em;}\n",
       "        </style><b>Populations (total=6 active=1)</b><table border=\"1\" class=\"tskit-table\"><thead><tr><th></th><th>start</th><th>end</th><th>growth_rate</th></tr></thead><tbody><tr><td>ANC</td><td> 7300.0</td><td> 7300.0</td><td> 0</td></tr></tbody></table></div></div></details></div>"
      ],
      "text/plain": [
       "<msprime.demography.DemographyDebugger at 0x7f5d6267b7f0>"
      ]
     },
     "execution_count": 34,
     "metadata": {},
     "output_type": "execute_result"
    }
   ],
   "source": [
    "demography.debug()"
   ]
  },
  {
   "cell_type": "markdown",
   "id": "a4c73805",
   "metadata": {},
   "source": [
    "(sec_demography_examples_admixture)=\n",
    "\n",
    "### Admixture\n",
    "\n",
    "Many models of populations over time cannot be described as a simple\n",
    "tree. In this example we implement the American Admixture model\n",
    "from [Browning et al. 2011](https://doi.org/10.1371/journal.pgen.1007385).\n",
    "\n",
    ":::{important}\n",
    "If you want to use this precise model in your analyses\n",
    "we strongly recommend using the {ref}`stdpopsim <stdpopsim:sec_introduction>`\n",
    "{ref}`HomSap/AmericanAdmixture_4B11 <stdpopsim:sec_catalog_homsap_models_americanadmixture_4b11>`\n",
    "model.\n",
    ":::\n",
    "\n",
    "We start again by assigning some values that we use repeatedly\n",
    "to variables, declaring some populations, and setting up the\n",
    "initial migration rates between the extant populations:"
   ]
  },
  {
   "cell_type": "code",
   "execution_count": 35,
   "id": "a6bbfc16",
   "metadata": {},
   "outputs": [
    {
     "data": {
      "text/html": [
       "<div style=\"margin-left:20px\"><div><style scoped=\"\">\n",
       "            .tskit-table thead tr th:only-of-type {vertical-align: middle;}\n",
       "            .tskit-table thead tr th {text-align: center;vertical-align: top;}\n",
       "            .tskit-table tbody td {text-align: right;padding: 0.5em 0.5em;}\n",
       "            .tskit-table tbody th {padding: 0.5em 0.5em;}\n",
       "        </style><b>Populations (7)</b><table border=\"1\" class=\"tskit-table\"><thead><tr><th>id</th><th>name</th><th>description</th><th>initial_size</th><th>growth_rate</th><th>default_sampling_time</th><th>extra_metadata</th></tr></thead><tbody><tr><td>0</td><td>AFR</td><td>African</td><td>14474.0</td><td>0</td><td>0</td><td>{}</td></tr><tr><td>1</td><td>EUR</td><td>European</td><td>34039.0</td><td>0.0038</td><td>0</td><td>{}</td></tr><tr><td>2</td><td>EAS</td><td>East Asian</td><td>45852.0</td><td>0.0048</td><td>0</td><td>{}</td></tr><tr><td>3</td><td>ADMIX</td><td>Admixed America</td><td>54664.0</td><td>0.05</td><td>0</td><td>{}</td></tr><tr><td>4</td><td>OOA</td><td>Bottleneck out-of-Africa</td><td>1861.0</td><td>0</td><td>0</td><td>{}</td></tr><tr><td>5</td><td>AMH</td><td>Anatomically modern humans</td><td>14474.0</td><td>0</td><td>0</td><td>{}</td></tr><tr><td>6</td><td>ANC</td><td>Ancestral equilibrium</td><td>7310.0</td><td>0</td><td>0</td><td>{}</td></tr></tbody></table></div><div><style scoped=\"\">\n",
       "            .tskit-table thead tr th:only-of-type {vertical-align: middle;}\n",
       "            .tskit-table thead tr th {text-align: center;vertical-align: top;}\n",
       "            .tskit-table tbody td {text-align: right;padding: 0.5em 0.5em;}\n",
       "            .tskit-table tbody th {padding: 0.5em 0.5em;}\n",
       "        </style><b>Migration matrix</b><table border=\"1\" class=\"tskit-table\"><thead><tr><th></th><th>AFR</th><th>EUR</th><th>EAS</th><th>ADMIX</th><th>OOA</th><th>AMH</th><th>ANC</th></tr></thead><tbody><tr><td>AFR</td><td>0</td><td title='Backwards in time migration rate from population AFR to EUR = 2.5e-05 per\n",
       "generation. Forwards in time, this is the expected number of migrants moving\n",
       "from EUR to AFR per generation, divided by the size of AFR.'>2.5e-05</td><td title='Backwards in time migration rate from population AFR to EAS = 7.8e-06 per\n",
       "generation. Forwards in time, this is the expected number of migrants moving\n",
       "from EAS to AFR per generation, divided by the size of AFR.'>7.8e-06</td><td title='Backwards in time migration rate from population AFR to ADMIX = 0.0 per\n",
       "generation. Forwards in time, this is the expected number of migrants moving\n",
       "from ADMIX to AFR per generation, divided by the size of AFR.'>0</td><td title='Backwards in time migration rate from population AFR to OOA = 0.0 per\n",
       "generation. Forwards in time, this is the expected number of migrants moving\n",
       "from OOA to AFR per generation, divided by the size of AFR.'>0</td><td title='Backwards in time migration rate from population AFR to AMH = 0.0 per\n",
       "generation. Forwards in time, this is the expected number of migrants moving\n",
       "from AMH to AFR per generation, divided by the size of AFR.'>0</td><td title='Backwards in time migration rate from population AFR to ANC = 0.0 per\n",
       "generation. Forwards in time, this is the expected number of migrants moving\n",
       "from ANC to AFR per generation, divided by the size of AFR.'>0</td></tr><tr><td>EUR</td><td title='Backwards in time migration rate from population EUR to AFR = 2.5e-05 per\n",
       "generation. Forwards in time, this is the expected number of migrants moving\n",
       "from AFR to EUR per generation, divided by the size of EUR.'>2.5e-05</td><td>0</td><td title='Backwards in time migration rate from population EUR to EAS = 3.11e-05 per\n",
       "generation. Forwards in time, this is the expected number of migrants moving\n",
       "from EAS to EUR per generation, divided by the size of EUR.'>3.11e-05</td><td title='Backwards in time migration rate from population EUR to ADMIX = 0.0 per\n",
       "generation. Forwards in time, this is the expected number of migrants moving\n",
       "from ADMIX to EUR per generation, divided by the size of EUR.'>0</td><td title='Backwards in time migration rate from population EUR to OOA = 0.0 per\n",
       "generation. Forwards in time, this is the expected number of migrants moving\n",
       "from OOA to EUR per generation, divided by the size of EUR.'>0</td><td title='Backwards in time migration rate from population EUR to AMH = 0.0 per\n",
       "generation. Forwards in time, this is the expected number of migrants moving\n",
       "from AMH to EUR per generation, divided by the size of EUR.'>0</td><td title='Backwards in time migration rate from population EUR to ANC = 0.0 per\n",
       "generation. Forwards in time, this is the expected number of migrants moving\n",
       "from ANC to EUR per generation, divided by the size of EUR.'>0</td></tr><tr><td>EAS</td><td title='Backwards in time migration rate from population EAS to AFR = 7.8e-06 per\n",
       "generation. Forwards in time, this is the expected number of migrants moving\n",
       "from AFR to EAS per generation, divided by the size of EAS.'>7.8e-06</td><td title='Backwards in time migration rate from population EAS to EUR = 3.11e-05 per\n",
       "generation. Forwards in time, this is the expected number of migrants moving\n",
       "from EUR to EAS per generation, divided by the size of EAS.'>3.11e-05</td><td>0</td><td title='Backwards in time migration rate from population EAS to ADMIX = 0.0 per\n",
       "generation. Forwards in time, this is the expected number of migrants moving\n",
       "from ADMIX to EAS per generation, divided by the size of EAS.'>0</td><td title='Backwards in time migration rate from population EAS to OOA = 0.0 per\n",
       "generation. Forwards in time, this is the expected number of migrants moving\n",
       "from OOA to EAS per generation, divided by the size of EAS.'>0</td><td title='Backwards in time migration rate from population EAS to AMH = 0.0 per\n",
       "generation. Forwards in time, this is the expected number of migrants moving\n",
       "from AMH to EAS per generation, divided by the size of EAS.'>0</td><td title='Backwards in time migration rate from population EAS to ANC = 0.0 per\n",
       "generation. Forwards in time, this is the expected number of migrants moving\n",
       "from ANC to EAS per generation, divided by the size of EAS.'>0</td></tr><tr><td>ADMIX</td><td title='Backwards in time migration rate from population ADMIX to AFR = 0.0 per\n",
       "generation. Forwards in time, this is the expected number of migrants moving\n",
       "from AFR to ADMIX per generation, divided by the size of ADMIX.'>0</td><td title='Backwards in time migration rate from population ADMIX to EUR = 0.0 per\n",
       "generation. Forwards in time, this is the expected number of migrants moving\n",
       "from EUR to ADMIX per generation, divided by the size of ADMIX.'>0</td><td title='Backwards in time migration rate from population ADMIX to EAS = 0.0 per\n",
       "generation. Forwards in time, this is the expected number of migrants moving\n",
       "from EAS to ADMIX per generation, divided by the size of ADMIX.'>0</td><td>0</td><td title='Backwards in time migration rate from population ADMIX to OOA = 0.0 per\n",
       "generation. Forwards in time, this is the expected number of migrants moving\n",
       "from OOA to ADMIX per generation, divided by the size of ADMIX.'>0</td><td title='Backwards in time migration rate from population ADMIX to AMH = 0.0 per\n",
       "generation. Forwards in time, this is the expected number of migrants moving\n",
       "from AMH to ADMIX per generation, divided by the size of ADMIX.'>0</td><td title='Backwards in time migration rate from population ADMIX to ANC = 0.0 per\n",
       "generation. Forwards in time, this is the expected number of migrants moving\n",
       "from ANC to ADMIX per generation, divided by the size of ADMIX.'>0</td></tr><tr><td>OOA</td><td title='Backwards in time migration rate from population OOA to AFR = 0.0 per\n",
       "generation. Forwards in time, this is the expected number of migrants moving\n",
       "from AFR to OOA per generation, divided by the size of OOA.'>0</td><td title='Backwards in time migration rate from population OOA to EUR = 0.0 per\n",
       "generation. Forwards in time, this is the expected number of migrants moving\n",
       "from EUR to OOA per generation, divided by the size of OOA.'>0</td><td title='Backwards in time migration rate from population OOA to EAS = 0.0 per\n",
       "generation. Forwards in time, this is the expected number of migrants moving\n",
       "from EAS to OOA per generation, divided by the size of OOA.'>0</td><td title='Backwards in time migration rate from population OOA to ADMIX = 0.0 per\n",
       "generation. Forwards in time, this is the expected number of migrants moving\n",
       "from ADMIX to OOA per generation, divided by the size of OOA.'>0</td><td>0</td><td title='Backwards in time migration rate from population OOA to AMH = 0.0 per\n",
       "generation. Forwards in time, this is the expected number of migrants moving\n",
       "from AMH to OOA per generation, divided by the size of OOA.'>0</td><td title='Backwards in time migration rate from population OOA to ANC = 0.0 per\n",
       "generation. Forwards in time, this is the expected number of migrants moving\n",
       "from ANC to OOA per generation, divided by the size of OOA.'>0</td></tr><tr><td>AMH</td><td title='Backwards in time migration rate from population AMH to AFR = 0.0 per\n",
       "generation. Forwards in time, this is the expected number of migrants moving\n",
       "from AFR to AMH per generation, divided by the size of AMH.'>0</td><td title='Backwards in time migration rate from population AMH to EUR = 0.0 per\n",
       "generation. Forwards in time, this is the expected number of migrants moving\n",
       "from EUR to AMH per generation, divided by the size of AMH.'>0</td><td title='Backwards in time migration rate from population AMH to EAS = 0.0 per\n",
       "generation. Forwards in time, this is the expected number of migrants moving\n",
       "from EAS to AMH per generation, divided by the size of AMH.'>0</td><td title='Backwards in time migration rate from population AMH to ADMIX = 0.0 per\n",
       "generation. Forwards in time, this is the expected number of migrants moving\n",
       "from ADMIX to AMH per generation, divided by the size of AMH.'>0</td><td title='Backwards in time migration rate from population AMH to OOA = 0.0 per\n",
       "generation. Forwards in time, this is the expected number of migrants moving\n",
       "from OOA to AMH per generation, divided by the size of AMH.'>0</td><td>0</td><td title='Backwards in time migration rate from population AMH to ANC = 0.0 per\n",
       "generation. Forwards in time, this is the expected number of migrants moving\n",
       "from ANC to AMH per generation, divided by the size of AMH.'>0</td></tr><tr><td>ANC</td><td title='Backwards in time migration rate from population ANC to AFR = 0.0 per\n",
       "generation. Forwards in time, this is the expected number of migrants moving\n",
       "from AFR to ANC per generation, divided by the size of ANC.'>0</td><td title='Backwards in time migration rate from population ANC to EUR = 0.0 per\n",
       "generation. Forwards in time, this is the expected number of migrants moving\n",
       "from EUR to ANC per generation, divided by the size of ANC.'>0</td><td title='Backwards in time migration rate from population ANC to EAS = 0.0 per\n",
       "generation. Forwards in time, this is the expected number of migrants moving\n",
       "from EAS to ANC per generation, divided by the size of ANC.'>0</td><td title='Backwards in time migration rate from population ANC to ADMIX = 0.0 per\n",
       "generation. Forwards in time, this is the expected number of migrants moving\n",
       "from ADMIX to ANC per generation, divided by the size of ANC.'>0</td><td title='Backwards in time migration rate from population ANC to OOA = 0.0 per\n",
       "generation. Forwards in time, this is the expected number of migrants moving\n",
       "from OOA to ANC per generation, divided by the size of ANC.'>0</td><td title='Backwards in time migration rate from population ANC to AMH = 0.0 per\n",
       "generation. Forwards in time, this is the expected number of migrants moving\n",
       "from AMH to ANC per generation, divided by the size of ANC.'>0</td><td>0</td></tr></tbody></table></div><div><style scoped=\"\">\n",
       "            .tskit-table thead tr th:only-of-type {vertical-align: middle;}\n",
       "            .tskit-table thead tr th {text-align: center;vertical-align: top;}\n",
       "            .tskit-table tbody td {text-align: right;padding: 0.5em 0.5em;}\n",
       "            .tskit-table tbody th {padding: 0.5em 0.5em;}\n",
       "        </style><b>Events (0)</b><table border=\"1\" class=\"tskit-table\"><thead><tr></tr></thead><tbody></tbody></table></div></div>"
      ],
      "text/plain": [
       "Demography(populations=[Population(initial_size=14474, growth_rate=0, name='AFR', description='African', extra_metadata={}, default_sampling_time=None, initially_active=None, id=0), Population(initial_size=34039, growth_rate=0.0038, name='EUR', description='European', extra_metadata={}, default_sampling_time=None, initially_active=None, id=1), Population(initial_size=45852, growth_rate=0.0048, name='EAS', description='East Asian', extra_metadata={}, default_sampling_time=None, initially_active=None, id=2), Population(initial_size=54664, growth_rate=0.05, name='ADMIX', description='Admixed America', extra_metadata={}, default_sampling_time=None, initially_active=None, id=3), Population(initial_size=1861, growth_rate=0, name='OOA', description='Bottleneck out-of-Africa', extra_metadata={}, default_sampling_time=None, initially_active=None, id=4), Population(initial_size=14474, growth_rate=0, name='AMH', description='Anatomically modern humans', extra_metadata={}, default_sampling_time=None, initially_active=None, id=5), Population(initial_size=7310, growth_rate=0, name='ANC', description='Ancestral equilibrium', extra_metadata={}, default_sampling_time=None, initially_active=None, id=6)], events=[], migration_matrix=array([[0.00e+00, 2.50e-05, 7.80e-06, 0.00e+00, 0.00e+00, 0.00e+00,\n",
       "        0.00e+00],\n",
       "       [2.50e-05, 0.00e+00, 3.11e-05, 0.00e+00, 0.00e+00, 0.00e+00,\n",
       "        0.00e+00],\n",
       "       [7.80e-06, 3.11e-05, 0.00e+00, 0.00e+00, 0.00e+00, 0.00e+00,\n",
       "        0.00e+00],\n",
       "       [0.00e+00, 0.00e+00, 0.00e+00, 0.00e+00, 0.00e+00, 0.00e+00,\n",
       "        0.00e+00],\n",
       "       [0.00e+00, 0.00e+00, 0.00e+00, 0.00e+00, 0.00e+00, 0.00e+00,\n",
       "        0.00e+00],\n",
       "       [0.00e+00, 0.00e+00, 0.00e+00, 0.00e+00, 0.00e+00, 0.00e+00,\n",
       "        0.00e+00],\n",
       "       [0.00e+00, 0.00e+00, 0.00e+00, 0.00e+00, 0.00e+00, 0.00e+00,\n",
       "        0.00e+00]]))"
      ]
     },
     "execution_count": 35,
     "metadata": {},
     "output_type": "execute_result"
    }
   ],
   "source": [
    "T_OOA = 920\n",
    "\n",
    "demography = msprime.Demography()\n",
    "demography.add_population(name=\"AFR\", description=\"African\", initial_size=14474)\n",
    "demography.add_population(\n",
    "    name=\"EUR\",\n",
    "    description=\"European\",\n",
    "    initial_size=34039,\n",
    "    growth_rate=0.0038,\n",
    ")\n",
    "demography.add_population(\n",
    "    name=\"EAS\",\n",
    "    description=\"East Asian\",\n",
    "    initial_size=45852,\n",
    "    growth_rate=0.0048,\n",
    ")\n",
    "demography.add_population(\n",
    "    name=\"ADMIX\",\n",
    "    description=\"Admixed America\",\n",
    "    initial_size=54664,\n",
    "    growth_rate=0.05,\n",
    ")\n",
    "demography.add_population(\n",
    "    name=\"OOA\",\n",
    "    description=\"Bottleneck out-of-Africa\",\n",
    "    initial_size=1861,\n",
    ")\n",
    "demography.add_population(\n",
    "    name=\"AMH\", description=\"Anatomically modern humans\", initial_size=14474\n",
    ")\n",
    "demography.add_population(\n",
    "    name=\"ANC\",\n",
    "    description=\"Ancestral equilibrium\",\n",
    "    initial_size=7310,\n",
    ")\n",
    "demography.set_symmetric_migration_rate([\"AFR\", \"EUR\"], 2.5e-5)\n",
    "demography.set_symmetric_migration_rate([\"AFR\", \"EAS\"], 0.78e-5)\n",
    "demography.set_symmetric_migration_rate([\"EUR\", \"EAS\"], 3.11e-5)\n",
    "\n",
    "demography"
   ]
  },
  {
   "cell_type": "markdown",
   "id": "0fc07c87",
   "metadata": {},
   "source": [
    "Here we set up seven {ref}`populations<sec_demography_populations>`,\n",
    "their initial states and the migration rates between them. The\n",
    "next thing we do is add an {ref}`admixture<sec_demography_events_admixture>`\n",
    "event 12 generations in the past:"
   ]
  },
  {
   "cell_type": "code",
   "execution_count": 36,
   "id": "4ced18fa",
   "metadata": {},
   "outputs": [],
   "source": [
    "demography.add_admixture(\n",
    "    12,\n",
    "    derived=\"ADMIX\",\n",
    "    ancestral=[\"AFR\", \"EUR\", \"EAS\"],\n",
    "    proportions=[1 / 6, 2 / 6, 3 / 6],\n",
    ");"
   ]
  },
  {
   "cell_type": "markdown",
   "id": "47090d17",
   "metadata": {},
   "source": [
    "During a simulation, in an admixture event all of the lineages\n",
    "present in the derived population move to one of the ancestral\n",
    "populations with the appropriate probability. Forwards in time,\n",
    "this corresponds to the initial state of the admixed population\n",
    "being composed of these fractions of individuals from the\n",
    "ancestral populations.\n",
    "\n",
    "We can then add population split events, similar to the\n",
    "{ref}`out of Africa model<sec_demography_examples_population_tree>`.\n",
    "The {class}`.DemographyDebugger` output then shows how the\n",
    "populations change over time:"
   ]
  },
  {
   "cell_type": "code",
   "execution_count": 37,
   "id": "90ff41bf",
   "metadata": {},
   "outputs": [
    {
     "data": {
      "text/html": [
       "<div><details open=\"true\"><summary>Epoch[0]: [0, 12) generations</summary><div style=\"margin-left:20px\"><div><style scoped=\"\">\n",
       "            .tskit-table thead tr th:only-of-type {vertical-align: middle;}\n",
       "            .tskit-table thead tr th {text-align: center;vertical-align: top;}\n",
       "            .tskit-table tbody td {text-align: right;padding: 0.5em 0.5em;}\n",
       "            .tskit-table tbody th {padding: 0.5em 0.5em;}\n",
       "        </style><b>Populations (total=7 active=4)</b><table border=\"1\" class=\"tskit-table\"><thead><tr><th></th><th>start</th><th>end</th><th>growth_rate</th><th>AFR</th><th>EUR</th><th>EAS</th><th>ADMIX</th></tr></thead><tbody><tr><td>AFR</td><td> 14474.0</td><td> 14474.0</td><td> 0</td><td>0</td><td title='Backwards in time migration rate from population AFR to EUR = 2.5e-05 per\n",
       "generation. Forwards in time, this is the expected number of migrants moving\n",
       "from EUR to AFR per generation, divided by the size of AFR.'>2.5e-05</td><td title='Backwards in time migration rate from population AFR to EAS = 7.8e-06 per\n",
       "generation. Forwards in time, this is the expected number of migrants moving\n",
       "from EAS to AFR per generation, divided by the size of AFR.'>7.8e-06</td><td title='Backwards in time migration rate from population AFR to ADMIX = 0.0 per\n",
       "generation. Forwards in time, this is the expected number of migrants moving\n",
       "from ADMIX to AFR per generation, divided by the size of AFR.'>0</td></tr><tr><td>EUR</td><td> 34039.0</td><td> 32521.7</td><td> 0.0038</td><td title='Backwards in time migration rate from population EUR to AFR = 2.5e-05 per\n",
       "generation. Forwards in time, this is the expected number of migrants moving\n",
       "from AFR to EUR per generation, divided by the size of EUR.'>2.5e-05</td><td>0</td><td title='Backwards in time migration rate from population EUR to EAS = 3.11e-05 per\n",
       "generation. Forwards in time, this is the expected number of migrants moving\n",
       "from EAS to EUR per generation, divided by the size of EUR.'>3.11e-05</td><td title='Backwards in time migration rate from population EUR to ADMIX = 0.0 per\n",
       "generation. Forwards in time, this is the expected number of migrants moving\n",
       "from ADMIX to EUR per generation, divided by the size of EUR.'>0</td></tr><tr><td>EAS</td><td> 45852.0</td><td> 43285.5</td><td> 0.0048</td><td title='Backwards in time migration rate from population EAS to AFR = 7.8e-06 per\n",
       "generation. Forwards in time, this is the expected number of migrants moving\n",
       "from AFR to EAS per generation, divided by the size of EAS.'>7.8e-06</td><td title='Backwards in time migration rate from population EAS to EUR = 3.11e-05 per\n",
       "generation. Forwards in time, this is the expected number of migrants moving\n",
       "from EUR to EAS per generation, divided by the size of EAS.'>3.11e-05</td><td>0</td><td title='Backwards in time migration rate from population EAS to ADMIX = 0.0 per\n",
       "generation. Forwards in time, this is the expected number of migrants moving\n",
       "from ADMIX to EAS per generation, divided by the size of EAS.'>0</td></tr><tr><td>ADMIX</td><td> 54664.0</td><td> 30000.2</td><td> 0.05</td><td title='Backwards in time migration rate from population ADMIX to AFR = 0.0 per\n",
       "generation. Forwards in time, this is the expected number of migrants moving\n",
       "from AFR to ADMIX per generation, divided by the size of ADMIX.'>0</td><td title='Backwards in time migration rate from population ADMIX to EUR = 0.0 per\n",
       "generation. Forwards in time, this is the expected number of migrants moving\n",
       "from EUR to ADMIX per generation, divided by the size of ADMIX.'>0</td><td title='Backwards in time migration rate from population ADMIX to EAS = 0.0 per\n",
       "generation. Forwards in time, this is the expected number of migrants moving\n",
       "from EAS to ADMIX per generation, divided by the size of ADMIX.'>0</td><td>0</td></tr></tbody></table></div><div><style scoped=\"\">\n",
       "            .tskit-table thead tr th:only-of-type {vertical-align: middle;}\n",
       "            .tskit-table thead tr th {text-align: center;vertical-align: top;}\n",
       "            .tskit-table tbody td {text-align: right;padding: 0.5em 0.5em;}\n",
       "            .tskit-table tbody th {padding: 0.5em 0.5em;}\n",
       "        </style><b>Events @ generation 12</b><table border=\"1\" class=\"tskit-table\"><thead><tr><th>time</th><th>type</th><th>parameters</th><th>effect</th></tr></thead><tbody><tr><td>12</td><td><a href='https://tskit.dev/msprime/docs/latest/api.html#msprime.Demography.add_admixture'>Admixture</a></td><td>derived=ADMIX ancestral=[AFR, EUR, EAS] proportions=[0.17, 0.33, 0.50]</td><td>Moves all lineages from admixed population &#x27;ADMIX&#x27; to ancestral populations. Lineages move to &#x27;AFR&#x27; with proba 0.167; &#x27;EUR&#x27; with proba 0.333; &#x27;EAS&#x27; with proba 0.5. Set &#x27;ADMIX&#x27; to inactive, and all migration rates to and from &#x27;ADMIX&#x27; to zero.</td></tr></tbody></table></div></div></details><details open=\"true\"><summary>Epoch[1]: [12, 920) generations</summary><div style=\"margin-left:20px\"><div><style scoped=\"\">\n",
       "            .tskit-table thead tr th:only-of-type {vertical-align: middle;}\n",
       "            .tskit-table thead tr th {text-align: center;vertical-align: top;}\n",
       "            .tskit-table tbody td {text-align: right;padding: 0.5em 0.5em;}\n",
       "            .tskit-table tbody th {padding: 0.5em 0.5em;}\n",
       "        </style><b>Populations (total=7 active=3)</b><table border=\"1\" class=\"tskit-table\"><thead><tr><th></th><th>start</th><th>end</th><th>growth_rate</th><th>AFR</th><th>EUR</th><th>EAS</th></tr></thead><tbody><tr><td>AFR</td><td> 14474.0</td><td> 14474.0</td><td> 0</td><td>0</td><td title='Backwards in time migration rate from population AFR to EUR = 2.5e-05 per\n",
       "generation. Forwards in time, this is the expected number of migrants moving\n",
       "from EUR to AFR per generation, divided by the size of AFR.'>2.5e-05</td><td title='Backwards in time migration rate from population AFR to EAS = 7.8e-06 per\n",
       "generation. Forwards in time, this is the expected number of migrants moving\n",
       "from EAS to AFR per generation, divided by the size of AFR.'>7.8e-06</td></tr><tr><td>EUR</td><td> 32521.7</td><td> 1032.0</td><td> 0.0038</td><td title='Backwards in time migration rate from population EUR to AFR = 2.5e-05 per\n",
       "generation. Forwards in time, this is the expected number of migrants moving\n",
       "from AFR to EUR per generation, divided by the size of EUR.'>2.5e-05</td><td>0</td><td title='Backwards in time migration rate from population EUR to EAS = 3.11e-05 per\n",
       "generation. Forwards in time, this is the expected number of migrants moving\n",
       "from EAS to EUR per generation, divided by the size of EUR.'>3.11e-05</td></tr><tr><td>EAS</td><td> 43285.5</td><td> 554.0</td><td> 0.0048</td><td title='Backwards in time migration rate from population EAS to AFR = 7.8e-06 per\n",
       "generation. Forwards in time, this is the expected number of migrants moving\n",
       "from AFR to EAS per generation, divided by the size of EAS.'>7.8e-06</td><td title='Backwards in time migration rate from population EAS to EUR = 3.11e-05 per\n",
       "generation. Forwards in time, this is the expected number of migrants moving\n",
       "from EUR to EAS per generation, divided by the size of EAS.'>3.11e-05</td><td>0</td></tr></tbody></table></div><div><style scoped=\"\">\n",
       "            .tskit-table thead tr th:only-of-type {vertical-align: middle;}\n",
       "            .tskit-table thead tr th {text-align: center;vertical-align: top;}\n",
       "            .tskit-table tbody td {text-align: right;padding: 0.5em 0.5em;}\n",
       "            .tskit-table tbody th {padding: 0.5em 0.5em;}\n",
       "        </style><b>Events @ generation 920</b><table border=\"1\" class=\"tskit-table\"><thead><tr><th>time</th><th>type</th><th>parameters</th><th>effect</th></tr></thead><tbody><tr><td>920</td><td><a href='https://tskit.dev/msprime/docs/latest/api.html#msprime.Demography.add_population_split'>Population Split</a></td><td>derived=[EUR, EAS], ancestral=OOA</td><td>Moves all lineages from derived populations &#x27;EUR&#x27; and &#x27;EAS&#x27; to the ancestral &#x27;OOA&#x27; population. Also set the derived populations to inactive, and all migration rates to and from the derived populations to zero.</td></tr><tr><td>920</td><td><a href='https://tskit.dev/msprime/docs/latest/api.html#msprime.Demography.add_symmetric_migration_rate_change'>Symmetric migration rate change</a></td><td>populations=[AFR, OOA], rate=0.00015</td><td>Sets the symmetric migration rate between AFR and OOA to 0.00015 per generation</td></tr></tbody></table></div></div></details><details open=\"true\"><summary>Epoch[2]: [920, 2.04e+03) generations</summary><div style=\"margin-left:20px\"><div><style scoped=\"\">\n",
       "            .tskit-table thead tr th:only-of-type {vertical-align: middle;}\n",
       "            .tskit-table thead tr th {text-align: center;vertical-align: top;}\n",
       "            .tskit-table tbody td {text-align: right;padding: 0.5em 0.5em;}\n",
       "            .tskit-table tbody th {padding: 0.5em 0.5em;}\n",
       "        </style><b>Populations (total=7 active=2)</b><table border=\"1\" class=\"tskit-table\"><thead><tr><th></th><th>start</th><th>end</th><th>growth_rate</th><th>AFR</th><th>OOA</th></tr></thead><tbody><tr><td>AFR</td><td> 14474.0</td><td> 14474.0</td><td> 0</td><td>0</td><td title='Backwards in time migration rate from population AFR to OOA = 0.00015 per\n",
       "generation. Forwards in time, this is the expected number of migrants moving\n",
       "from OOA to AFR per generation, divided by the size of AFR.'>0.00015</td></tr><tr><td>OOA</td><td> 1861.0</td><td> 1861.0</td><td> 0</td><td title='Backwards in time migration rate from population OOA to AFR = 0.00015 per\n",
       "generation. Forwards in time, this is the expected number of migrants moving\n",
       "from AFR to OOA per generation, divided by the size of OOA.'>0.00015</td><td>0</td></tr></tbody></table></div><div><style scoped=\"\">\n",
       "            .tskit-table thead tr th:only-of-type {vertical-align: middle;}\n",
       "            .tskit-table thead tr th {text-align: center;vertical-align: top;}\n",
       "            .tskit-table tbody td {text-align: right;padding: 0.5em 0.5em;}\n",
       "            .tskit-table tbody th {padding: 0.5em 0.5em;}\n",
       "        </style><b>Events @ generation 2.04e+03</b><table border=\"1\" class=\"tskit-table\"><thead><tr><th>time</th><th>type</th><th>parameters</th><th>effect</th></tr></thead><tbody><tr><td>2040</td><td><a href='https://tskit.dev/msprime/docs/latest/api.html#msprime.Demography.add_population_split'>Population Split</a></td><td>derived=[OOA, AFR], ancestral=AMH</td><td>Moves all lineages from derived populations &#x27;OOA&#x27; and &#x27;AFR&#x27; to the ancestral &#x27;AMH&#x27; population. Also set the derived populations to inactive, and all migration rates to and from the derived populations to zero.</td></tr></tbody></table></div></div></details><details open=\"true\"><summary>Epoch[3]: [2.04e+03, 5.92e+03) generations</summary><div style=\"margin-left:20px\"><div><style scoped=\"\">\n",
       "            .tskit-table thead tr th:only-of-type {vertical-align: middle;}\n",
       "            .tskit-table thead tr th {text-align: center;vertical-align: top;}\n",
       "            .tskit-table tbody td {text-align: right;padding: 0.5em 0.5em;}\n",
       "            .tskit-table tbody th {padding: 0.5em 0.5em;}\n",
       "        </style><b>Populations (total=7 active=1)</b><table border=\"1\" class=\"tskit-table\"><thead><tr><th></th><th>start</th><th>end</th><th>growth_rate</th></tr></thead><tbody><tr><td>AMH</td><td> 14474.0</td><td> 14474.0</td><td> 0</td></tr></tbody></table></div><div><style scoped=\"\">\n",
       "            .tskit-table thead tr th:only-of-type {vertical-align: middle;}\n",
       "            .tskit-table thead tr th {text-align: center;vertical-align: top;}\n",
       "            .tskit-table tbody td {text-align: right;padding: 0.5em 0.5em;}\n",
       "            .tskit-table tbody th {padding: 0.5em 0.5em;}\n",
       "        </style><b>Events @ generation 5.92e+03</b><table border=\"1\" class=\"tskit-table\"><thead><tr><th>time</th><th>type</th><th>parameters</th><th>effect</th></tr></thead><tbody><tr><td>5920</td><td><a href='https://tskit.dev/msprime/docs/latest/api.html#msprime.Demography.add_population_split'>Population Split</a></td><td>derived=[AMH], ancestral=ANC</td><td>Moves all lineages from the &#x27;AMH&#x27; derived population to the ancestral &#x27;ANC&#x27; population. Also set &#x27;AMH&#x27; to inactive, and all migration rates to and from the derived population to zero.</td></tr></tbody></table></div></div></details><details open=\"true\"><summary>Epoch[4]: [5.92e+03, inf) generations</summary><div style=\"margin-left:20px\"><div><style scoped=\"\">\n",
       "            .tskit-table thead tr th:only-of-type {vertical-align: middle;}\n",
       "            .tskit-table thead tr th {text-align: center;vertical-align: top;}\n",
       "            .tskit-table tbody td {text-align: right;padding: 0.5em 0.5em;}\n",
       "            .tskit-table tbody th {padding: 0.5em 0.5em;}\n",
       "        </style><b>Populations (total=7 active=1)</b><table border=\"1\" class=\"tskit-table\"><thead><tr><th></th><th>start</th><th>end</th><th>growth_rate</th></tr></thead><tbody><tr><td>ANC</td><td> 7310.0</td><td> 7310.0</td><td> 0</td></tr></tbody></table></div></div></details></div>"
      ],
      "text/plain": [
       "<msprime.demography.DemographyDebugger at 0x7f5d62d9ad30>"
      ]
     },
     "execution_count": 37,
     "metadata": {},
     "output_type": "execute_result"
    }
   ],
   "source": [
    "demography.add_population_split(T_OOA, derived=[\"EUR\", \"EAS\"], ancestral=\"OOA\")\n",
    "demography.add_symmetric_migration_rate_change(\n",
    "    time=T_OOA, populations=[\"AFR\", \"OOA\"], rate=15e-5\n",
    ")\n",
    "demography.add_population_split(2040, derived=[\"OOA\", \"AFR\"], ancestral=\"AMH\")\n",
    "demography.add_population_split(5920, derived=[\"AMH\"], ancestral=\"ANC\")\n",
    "demography.debug()"
   ]
  },
  {
   "cell_type": "code",
   "execution_count": 38,
   "id": "b9cada7c",
   "metadata": {
    "tags": [
     "remove-cell"
    ]
   },
   "outputs": [],
   "source": [
    "# Make sure we don't insert any errors in this version of the model.\n",
    "# Once we have an equivalent version in stdpopsim we can update here\n",
    "# to compare against that instead and remove the local model\n",
    "\n",
    "demography.assert_equal(msprime.Demography._american_admixture_model())"
   ]
  },
  {
   "cell_type": "markdown",
   "id": "0850c446",
   "metadata": {},
   "source": [
    "(sec_demography_examples_trunk_population)=\n",
    "\n",
    "### Trunk population models\n",
    "\n",
    "For many empirical models we want to sequentially merge derived populations\n",
    "into a \"trunk\" population. We illustrate this with a slightly different\n",
    "version of the {ref}`example<sec_demography_examples_population_tree>` above,\n",
    "this time defining only\n",
    "four populations, as in this illustration of the model using\n",
    "the [demography package](https://github.com/apragsdale/demography>)\n",
    "(see also [Figure 2B](http://dx.doi.org/10.1371/journal.pgen.1000695.g002)\n",
    "of the Gutenkunst et. al paper):\n",
    "\n",
    "```{image} _static/Gutenkunst_OOA_diagram.svg\n",
    ":width: 500px\n",
    ":align: center\n",
    ":alt: Schematic of Gutenkunst et al. (2009) out-of-Africa model.\n",
    "```\n",
    ":::{warning}\n",
    "The version of this model in this documentation from 31 May 2016 to 29 May 2020\n",
    "(on the stable branch) was **incorrect**. Specifically, it mistakenly\n",
    "allowed for migration to continue beyond the merger of the African and\n",
    "Eurasian bottleneck populations. This has now been fixed, but if you had\n",
    "copied this model from the tutorial for your own analyses, you should\n",
    "update your model code or use the implementation that has been verified in\n",
    "{ref}`stdpopsim project <stdpopsim:sec_introduction>`. See\n",
    "[here](https://github.com/jeromekelleher/msprime-model-errors) for more\n",
    "details on the faulty model and its likely effects on downstream analyses.\n",
    ":::\n",
    "\n",
    "We proceed as before, calculating some quantities that we need\n",
    "for the model, and creating a {class}`.Demography`:"
   ]
  },
  {
   "cell_type": "code",
   "execution_count": 39,
   "id": "9a81992b",
   "metadata": {},
   "outputs": [],
   "source": [
    "# Times are provided in years, so we convert into generations.\n",
    "generation_time = 25\n",
    "T_OOA = 21.2e3 / generation_time\n",
    "T_AMH = 140e3 / generation_time\n",
    "T_ANC = 220e3 / generation_time\n",
    "# We need to work out the starting population sizes based on\n",
    "# the growth rates provided for these two populations\n",
    "r_CEU = 0.004\n",
    "r_CHB = 0.0055\n",
    "N_CEU = 1000 / math.exp(-r_CEU * T_OOA)\n",
    "N_CHB = 510 / math.exp(-r_CHB * T_OOA)\n",
    "\n",
    "demography = msprime.Demography()\n",
    "# This is the \"trunk\" population that we merge other populations into\n",
    "demography.add_population(\n",
    "    name=\"YRI\",\n",
    "    description=\"Africa\",\n",
    "    initial_size=12300,\n",
    "    # NOTE: we have to set this flag if we have a population that's\n",
    "    # ancestral in a population split *and* is contemporary population.\n",
    "    initially_active=True,\n",
    ");\n",
    "demography.add_population(\n",
    "    name=\"CEU\",\n",
    "    description=\"European\",\n",
    "    initial_size=N_CEU,\n",
    "    growth_rate=r_CEU,\n",
    ")\n",
    "demography.add_population(\n",
    "    name=\"CHB\",\n",
    "    description=\"East Asian\",\n",
    "    initial_size=N_CHB,\n",
    "    growth_rate=r_CHB,\n",
    ")\n",
    "demography.add_population(\n",
    "    name=\"OOA\",\n",
    "    description=\"Bottleneck out-of-Africa population\",\n",
    "    initial_size=2100,\n",
    ")\n",
    "\n",
    "# Set the migration rates between extant populations\n",
    "demography.set_symmetric_migration_rate([\"CEU\", \"CHB\"], 9.6e-5)\n",
    "demography.set_symmetric_migration_rate([\"YRI\", \"CHB\"], 1.9e-5)\n",
    "demography.set_symmetric_migration_rate([\"YRI\", \"CEU\"], 3e-5)\n",
    "\n",
    "demography.add_population_split(\n",
    "    time=T_OOA, derived=[\"CEU\", \"CHB\"], ancestral=\"OOA\"\n",
    ")\n",
    "demography.add_symmetric_migration_rate_change(\n",
    "    time=T_OOA, populations=[\"YRI\", \"OOA\"], rate=25e-5\n",
    ")\n",
    "demography.add_population_split(\n",
    "    time=T_AMH, derived=[\"OOA\"], ancestral=\"YRI\"\n",
    ")\n",
    "demography.add_population_parameters_change(\n",
    "    time=T_ANC, population=\"YRI\", initial_size=7300\n",
    ");"
   ]
  },
  {
   "cell_type": "markdown",
   "id": "6c38750f",
   "metadata": {},
   "source": [
    "The first population we add is ``YRI``, which represents both contemporary\n",
    "African population as well as ancient populations (which are highly misleading\n",
    "to label as ``YRI`` --- see the note below). This is the \"trunk\" population\n",
    "that we merge other populations into over time, which we do via\n",
    "{ref}`sec_demography_events_population_split` events. Because these events are\n",
    "intended to conveniently model \"population trees\", we assume that the ancestral\n",
    "population will be {ref}`inactive<sec_demography_populations_life_cycle>` before\n",
    "the split (looking backwards). However, in this case, we will be merging the\n",
    "``OOA`` population in to the ``YRI``, which we wish to also be\n",
    "{ref}`active<sec_demography_populations_life_cycle>` at the start of the\n",
    "simulation. To do this, we use the ``initially_active=True`` flag to\n",
    "make sure that the ``YRI`` population is active, and can therefore\n",
    "represent contemporary Africans as well as ancient populations.\n",
    "\n",
    "We can see how the ``YRI`` population then remains active through\n",
    "all epochs from the debug output:"
   ]
  },
  {
   "cell_type": "code",
   "execution_count": 40,
   "id": "a6d7b1f8",
   "metadata": {},
   "outputs": [
    {
     "data": {
      "text/html": [
       "<div><details open=\"true\"><summary>Epoch[0]: [0, 848) generations</summary><div style=\"margin-left:20px\"><div><style scoped=\"\">\n",
       "            .tskit-table thead tr th:only-of-type {vertical-align: middle;}\n",
       "            .tskit-table thead tr th {text-align: center;vertical-align: top;}\n",
       "            .tskit-table tbody td {text-align: right;padding: 0.5em 0.5em;}\n",
       "            .tskit-table tbody th {padding: 0.5em 0.5em;}\n",
       "        </style><b>Populations (total=4 active=3)</b><table border=\"1\" class=\"tskit-table\"><thead><tr><th></th><th>start</th><th>end</th><th>growth_rate</th><th>YRI</th><th>CEU</th><th>CHB</th></tr></thead><tbody><tr><td>YRI</td><td> 12300.0</td><td> 12300.0</td><td> 0</td><td>0</td><td title='Backwards in time migration rate from population YRI to CEU = 3e-05 per\n",
       "generation. Forwards in time, this is the expected number of migrants moving\n",
       "from CEU to YRI per generation, divided by the size of YRI.'>3e-05</td><td title='Backwards in time migration rate from population YRI to CHB = 1.9e-05 per\n",
       "generation. Forwards in time, this is the expected number of migrants moving\n",
       "from CHB to YRI per generation, divided by the size of YRI.'>1.9e-05</td></tr><tr><td>CEU</td><td> 29725.3</td><td> 1000.0</td><td> 0.004</td><td title='Backwards in time migration rate from population CEU to YRI = 3e-05 per\n",
       "generation. Forwards in time, this is the expected number of migrants moving\n",
       "from YRI to CEU per generation, divided by the size of CEU.'>3e-05</td><td>0</td><td title='Backwards in time migration rate from population CEU to CHB = 9.6e-05 per\n",
       "generation. Forwards in time, this is the expected number of migrants moving\n",
       "from CHB to CEU per generation, divided by the size of CEU.'>9.6e-05</td></tr><tr><td>CHB</td><td> 54090.3</td><td> 510.0</td><td> 0.0055</td><td title='Backwards in time migration rate from population CHB to YRI = 1.9e-05 per\n",
       "generation. Forwards in time, this is the expected number of migrants moving\n",
       "from YRI to CHB per generation, divided by the size of CHB.'>1.9e-05</td><td title='Backwards in time migration rate from population CHB to CEU = 9.6e-05 per\n",
       "generation. Forwards in time, this is the expected number of migrants moving\n",
       "from CEU to CHB per generation, divided by the size of CHB.'>9.6e-05</td><td>0</td></tr></tbody></table></div><div><style scoped=\"\">\n",
       "            .tskit-table thead tr th:only-of-type {vertical-align: middle;}\n",
       "            .tskit-table thead tr th {text-align: center;vertical-align: top;}\n",
       "            .tskit-table tbody td {text-align: right;padding: 0.5em 0.5em;}\n",
       "            .tskit-table tbody th {padding: 0.5em 0.5em;}\n",
       "        </style><b>Events @ generation 848</b><table border=\"1\" class=\"tskit-table\"><thead><tr><th>time</th><th>type</th><th>parameters</th><th>effect</th></tr></thead><tbody><tr><td>848</td><td><a href='https://tskit.dev/msprime/docs/latest/api.html#msprime.Demography.add_population_split'>Population Split</a></td><td>derived=[CEU, CHB], ancestral=OOA</td><td>Moves all lineages from derived populations &#x27;CEU&#x27; and &#x27;CHB&#x27; to the ancestral &#x27;OOA&#x27; population. Also set the derived populations to inactive, and all migration rates to and from the derived populations to zero.</td></tr><tr><td>848</td><td><a href='https://tskit.dev/msprime/docs/latest/api.html#msprime.Demography.add_symmetric_migration_rate_change'>Symmetric migration rate change</a></td><td>populations=[YRI, OOA], rate=0.00025</td><td>Sets the symmetric migration rate between YRI and OOA to 0.00025 per generation</td></tr></tbody></table></div></div></details><details open=\"true\"><summary>Epoch[1]: [848, 5.6e+03) generations</summary><div style=\"margin-left:20px\"><div><style scoped=\"\">\n",
       "            .tskit-table thead tr th:only-of-type {vertical-align: middle;}\n",
       "            .tskit-table thead tr th {text-align: center;vertical-align: top;}\n",
       "            .tskit-table tbody td {text-align: right;padding: 0.5em 0.5em;}\n",
       "            .tskit-table tbody th {padding: 0.5em 0.5em;}\n",
       "        </style><b>Populations (total=4 active=2)</b><table border=\"1\" class=\"tskit-table\"><thead><tr><th></th><th>start</th><th>end</th><th>growth_rate</th><th>YRI</th><th>OOA</th></tr></thead><tbody><tr><td>YRI</td><td> 12300.0</td><td> 12300.0</td><td> 0</td><td>0</td><td title='Backwards in time migration rate from population YRI to OOA = 0.00025 per\n",
       "generation. Forwards in time, this is the expected number of migrants moving\n",
       "from OOA to YRI per generation, divided by the size of YRI.'>0.00025</td></tr><tr><td>OOA</td><td> 2100.0</td><td> 2100.0</td><td> 0</td><td title='Backwards in time migration rate from population OOA to YRI = 0.00025 per\n",
       "generation. Forwards in time, this is the expected number of migrants moving\n",
       "from YRI to OOA per generation, divided by the size of OOA.'>0.00025</td><td>0</td></tr></tbody></table></div><div><style scoped=\"\">\n",
       "            .tskit-table thead tr th:only-of-type {vertical-align: middle;}\n",
       "            .tskit-table thead tr th {text-align: center;vertical-align: top;}\n",
       "            .tskit-table tbody td {text-align: right;padding: 0.5em 0.5em;}\n",
       "            .tskit-table tbody th {padding: 0.5em 0.5em;}\n",
       "        </style><b>Events @ generation 5.6e+03</b><table border=\"1\" class=\"tskit-table\"><thead><tr><th>time</th><th>type</th><th>parameters</th><th>effect</th></tr></thead><tbody><tr><td>5600</td><td><a href='https://tskit.dev/msprime/docs/latest/api.html#msprime.Demography.add_population_split'>Population Split</a></td><td>derived=[OOA], ancestral=YRI</td><td>Moves all lineages from the &#x27;OOA&#x27; derived population to the ancestral &#x27;YRI&#x27; population. Also set &#x27;OOA&#x27; to inactive, and all migration rates to and from the derived population to zero.</td></tr></tbody></table></div></div></details><details open=\"true\"><summary>Epoch[2]: [5.6e+03, 8.8e+03) generations</summary><div style=\"margin-left:20px\"><div><style scoped=\"\">\n",
       "            .tskit-table thead tr th:only-of-type {vertical-align: middle;}\n",
       "            .tskit-table thead tr th {text-align: center;vertical-align: top;}\n",
       "            .tskit-table tbody td {text-align: right;padding: 0.5em 0.5em;}\n",
       "            .tskit-table tbody th {padding: 0.5em 0.5em;}\n",
       "        </style><b>Populations (total=4 active=1)</b><table border=\"1\" class=\"tskit-table\"><thead><tr><th></th><th>start</th><th>end</th><th>growth_rate</th></tr></thead><tbody><tr><td>YRI</td><td> 12300.0</td><td> 12300.0</td><td> 0</td></tr></tbody></table></div><div><style scoped=\"\">\n",
       "            .tskit-table thead tr th:only-of-type {vertical-align: middle;}\n",
       "            .tskit-table thead tr th {text-align: center;vertical-align: top;}\n",
       "            .tskit-table tbody td {text-align: right;padding: 0.5em 0.5em;}\n",
       "            .tskit-table tbody th {padding: 0.5em 0.5em;}\n",
       "        </style><b>Events @ generation 8.8e+03</b><table border=\"1\" class=\"tskit-table\"><thead><tr><th>time</th><th>type</th><th>parameters</th><th>effect</th></tr></thead><tbody><tr><td>8800</td><td><a href='https://tskit.dev/msprime/docs/latest/api.html#msprime.Demography.add_population_parameters_change'>Population parameter change</a></td><td>population=YRI, initial_size=7300</td><td>initial_size → 7.3e+03 for population YRI</td></tr></tbody></table></div></div></details><details open=\"true\"><summary>Epoch[3]: [8.8e+03, inf) generations</summary><div style=\"margin-left:20px\"><div><style scoped=\"\">\n",
       "            .tskit-table thead tr th:only-of-type {vertical-align: middle;}\n",
       "            .tskit-table thead tr th {text-align: center;vertical-align: top;}\n",
       "            .tskit-table tbody td {text-align: right;padding: 0.5em 0.5em;}\n",
       "            .tskit-table tbody th {padding: 0.5em 0.5em;}\n",
       "        </style><b>Populations (total=4 active=1)</b><table border=\"1\" class=\"tskit-table\"><thead><tr><th></th><th>start</th><th>end</th><th>growth_rate</th></tr></thead><tbody><tr><td>YRI</td><td> 7300.0</td><td> 7300.0</td><td> 0</td></tr></tbody></table></div></div></details></div>"
      ],
      "text/plain": [
       "<msprime.demography.DemographyDebugger at 0x7f5d6267bd60>"
      ]
     },
     "execution_count": 40,
     "metadata": {},
     "output_type": "execute_result"
    }
   ],
   "source": [
    "demography.debug()"
   ]
  },
  {
   "cell_type": "code",
   "execution_count": 41,
   "id": "89d968dc",
   "metadata": {
    "tags": [
     "remove-cell"
    ]
   },
   "outputs": [],
   "source": [
    "# Make sure we don't insert any errors in this version of the model.\n",
    "# Once we have an equivalent version in stdpopsim we can update here\n",
    "# to compare against that instead and remove the local model\n",
    "\n",
    "demography.assert_equal(msprime.Demography._ooa_trunk_model())"
   ]
  },
  {
   "cell_type": "markdown",
   "id": "12d42538",
   "metadata": {},
   "source": [
    ":::{note}\n",
    "We do not recommend using \"trunk\" populations in this way as it is\n",
    "misleading to think of contemporary populations like the Yoruba being\n",
    "in any way representative of the very ancient populations being\n",
    "modelled in the oldest epochs.\n",
    ":::\n",
    "\n",
    "(sec_demography_importing)=\n",
    "\n",
    "## Importing model definitions\n",
    "\n",
    "(sec_demography_importing_demes)=\n",
    "\n",
    "### Demes\n",
    "\n",
    "```{eval-rst}\n",
    ".. todo:: Details of how we import Demes models.\n",
    "```\n",
    "\n",
    "\n",
    "(sec_demography_importing_species_trees)=\n",
    "\n",
    "### Species trees\n",
    "\n",
    "Species trees hold information about the sequence and the times at which species\n",
    "diverged from each other, which we model via a series of\n",
    "{ref}`sec_demography_events_population_split`.\n",
    "The {meth}`.Demography.from_species_tree` method parses a\n",
    "species tree in [Newick format](https://en.wikipedia.org/wiki/Newick_format)\n",
    "and returns a {class}`.Demography` object. These species trees do not contain\n",
    "any information on the sizes of the relevant populations, however, and so these\n",
    "must be specified separately using the ``initial_size`` argument\n",
    "(see {ref}`sec_demography_populations_initial_size`).\n",
    "When species trees are estimated with a program like\n",
    "[StarBEAST](<https://academic.oup.com/mbe/article/34/8/2101/3738283>) they can\n",
    "contain estimates on the population sizes of extant and ancestral species.\n",
    "The {meth}`.Demography.from_starbeast` method parses species trees estimated\n",
    "with StarBEAST and sets the population sizes accordingly.\n",
    "\n",
    ":::{important}\n",
    "When a species tree has branch lengths in units of years or millions of years\n",
    "rather than generations (which is common), a generation time in years\n",
    "must be specified.\n",
    ":::\n",
    "\n",
    "Species trees must be encoded in\n",
    "[Newick](<https://en.wikipedia.org/wiki/Newick_format>) format, with named leaves and\n",
    "branch lengths. Consider the following species tree of four primates, for example:\n",
    "\n",
    "```\n",
    "(((human:5.6,chimpanzee:5.6):3.0,gorilla:8.6):9.4,orangutan:18.0)\n",
    "```\n",
    "\n",
    "When visualized in software like\n",
    "[FigTree](http://tree.bio.ed.ac.uk/software/figtree/), the tree\n",
    "looks like this:\n",
    "\n",
    "```{figure} _static/primates.svg\n",
    ":width: 400px\n",
    ":alt: A species tree with branch lengths.\n",
    "```\n",
    "\n",
    "The numbers written on branches indicate the lengths of these branches,\n",
    "which in this case is expressed in millions of years. We can then\n",
    "convert this species tree into a {class}`.Demography` using the\n",
    "{meth}`.Demography.from_species_tree`:"
   ]
  },
  {
   "cell_type": "code",
   "execution_count": 42,
   "id": "be2f1a3a",
   "metadata": {},
   "outputs": [
    {
     "data": {
      "text/html": [
       "<div><details open=\"true\"><summary>Epoch[0]: [0, 2e+05) generations</summary><div style=\"margin-left:20px\"><div><style scoped=\"\">\n",
       "            .tskit-table thead tr th:only-of-type {vertical-align: middle;}\n",
       "            .tskit-table thead tr th {text-align: center;vertical-align: top;}\n",
       "            .tskit-table tbody td {text-align: right;padding: 0.5em 0.5em;}\n",
       "            .tskit-table tbody th {padding: 0.5em 0.5em;}\n",
       "        </style><b>Populations (total=7 active=4)</b><table border=\"1\" class=\"tskit-table\"><thead><tr><th></th><th>start</th><th>end</th><th>growth_rate</th><th>human</th><th>chimpanzee</th><th>gorilla</th><th>orangutan</th></tr></thead><tbody><tr><td>human</td><td> 10000.0</td><td> 10000.0</td><td> 0</td><td>0</td><td title='Backwards in time migration rate from population human to chimpanzee = 0.0 per\n",
       "generation. Forwards in time, this is the expected number of migrants moving\n",
       "from chimpanzee to human per generation, divided by the size of human.'>0</td><td title='Backwards in time migration rate from population human to gorilla = 0.0 per\n",
       "generation. Forwards in time, this is the expected number of migrants moving\n",
       "from gorilla to human per generation, divided by the size of human.'>0</td><td title='Backwards in time migration rate from population human to orangutan = 0.0 per\n",
       "generation. Forwards in time, this is the expected number of migrants moving\n",
       "from orangutan to human per generation, divided by the size of human.'>0</td></tr><tr><td>chimpanzee</td><td> 10000.0</td><td> 10000.0</td><td> 0</td><td title='Backwards in time migration rate from population chimpanzee to human = 0.0 per\n",
       "generation. Forwards in time, this is the expected number of migrants moving\n",
       "from human to chimpanzee per generation, divided by the size of chimpanzee.'>0</td><td>0</td><td title='Backwards in time migration rate from population chimpanzee to gorilla = 0.0 per\n",
       "generation. Forwards in time, this is the expected number of migrants moving\n",
       "from gorilla to chimpanzee per generation, divided by the size of chimpanzee.'>0</td><td title='Backwards in time migration rate from population chimpanzee to orangutan = 0.0\n",
       "per generation. Forwards in time, this is the expected number of migrants moving\n",
       "from orangutan to chimpanzee per generation, divided by the size of chimpanzee.'>0</td></tr><tr><td>gorilla</td><td> 10000.0</td><td> 10000.0</td><td> 0</td><td title='Backwards in time migration rate from population gorilla to human = 0.0 per\n",
       "generation. Forwards in time, this is the expected number of migrants moving\n",
       "from human to gorilla per generation, divided by the size of gorilla.'>0</td><td title='Backwards in time migration rate from population gorilla to chimpanzee = 0.0 per\n",
       "generation. Forwards in time, this is the expected number of migrants moving\n",
       "from chimpanzee to gorilla per generation, divided by the size of gorilla.'>0</td><td>0</td><td title='Backwards in time migration rate from population gorilla to orangutan = 0.0 per\n",
       "generation. Forwards in time, this is the expected number of migrants moving\n",
       "from orangutan to gorilla per generation, divided by the size of gorilla.'>0</td></tr><tr><td>orangutan</td><td> 10000.0</td><td> 10000.0</td><td> 0</td><td title='Backwards in time migration rate from population orangutan to human = 0.0 per\n",
       "generation. Forwards in time, this is the expected number of migrants moving\n",
       "from human to orangutan per generation, divided by the size of orangutan.'>0</td><td title='Backwards in time migration rate from population orangutan to chimpanzee = 0.0\n",
       "per generation. Forwards in time, this is the expected number of migrants moving\n",
       "from chimpanzee to orangutan per generation, divided by the size of orangutan.'>0</td><td title='Backwards in time migration rate from population orangutan to gorilla = 0.0 per\n",
       "generation. Forwards in time, this is the expected number of migrants moving\n",
       "from gorilla to orangutan per generation, divided by the size of orangutan.'>0</td><td>0</td></tr></tbody></table></div><div><style scoped=\"\">\n",
       "            .tskit-table thead tr th:only-of-type {vertical-align: middle;}\n",
       "            .tskit-table thead tr th {text-align: center;vertical-align: top;}\n",
       "            .tskit-table tbody td {text-align: right;padding: 0.5em 0.5em;}\n",
       "            .tskit-table tbody th {padding: 0.5em 0.5em;}\n",
       "        </style><b>Events @ generation 2e+05</b><table border=\"1\" class=\"tskit-table\"><thead><tr><th>time</th><th>type</th><th>parameters</th><th>effect</th></tr></thead><tbody><tr><td>2e+05</td><td><a href='https://tskit.dev/msprime/docs/latest/api.html#msprime.Demography.add_population_split'>Population Split</a></td><td>derived=[human, chimpanzee], ancestral=pop_4</td><td>Moves all lineages from derived populations &#x27;human&#x27; and &#x27;chimpanzee&#x27; to the ancestral &#x27;pop_4&#x27; population. Also set the derived populations to inactive, and all migration rates to and from the derived populations to zero.</td></tr></tbody></table></div></div></details><details open=\"true\"><summary>Epoch[1]: [2e+05, 3.07e+05) generations</summary><div style=\"margin-left:20px\"><div><style scoped=\"\">\n",
       "            .tskit-table thead tr th:only-of-type {vertical-align: middle;}\n",
       "            .tskit-table thead tr th {text-align: center;vertical-align: top;}\n",
       "            .tskit-table tbody td {text-align: right;padding: 0.5em 0.5em;}\n",
       "            .tskit-table tbody th {padding: 0.5em 0.5em;}\n",
       "        </style><b>Populations (total=7 active=3)</b><table border=\"1\" class=\"tskit-table\"><thead><tr><th></th><th>start</th><th>end</th><th>growth_rate</th><th>gorilla</th><th>orangutan</th><th>pop_4</th></tr></thead><tbody><tr><td>gorilla</td><td> 10000.0</td><td> 10000.0</td><td> 0</td><td>0</td><td title='Backwards in time migration rate from population gorilla to orangutan = 0.0 per\n",
       "generation. Forwards in time, this is the expected number of migrants moving\n",
       "from orangutan to gorilla per generation, divided by the size of gorilla.'>0</td><td title='Backwards in time migration rate from population gorilla to pop_4 = 0.0 per\n",
       "generation. Forwards in time, this is the expected number of migrants moving\n",
       "from pop_4 to gorilla per generation, divided by the size of gorilla.'>0</td></tr><tr><td>orangutan</td><td> 10000.0</td><td> 10000.0</td><td> 0</td><td title='Backwards in time migration rate from population orangutan to gorilla = 0.0 per\n",
       "generation. Forwards in time, this is the expected number of migrants moving\n",
       "from gorilla to orangutan per generation, divided by the size of orangutan.'>0</td><td>0</td><td title='Backwards in time migration rate from population orangutan to pop_4 = 0.0 per\n",
       "generation. Forwards in time, this is the expected number of migrants moving\n",
       "from pop_4 to orangutan per generation, divided by the size of orangutan.'>0</td></tr><tr><td>pop_4</td><td> 10000.0</td><td> 10000.0</td><td> 0</td><td title='Backwards in time migration rate from population pop_4 to gorilla = 0.0 per\n",
       "generation. Forwards in time, this is the expected number of migrants moving\n",
       "from gorilla to pop_4 per generation, divided by the size of pop_4.'>0</td><td title='Backwards in time migration rate from population pop_4 to orangutan = 0.0 per\n",
       "generation. Forwards in time, this is the expected number of migrants moving\n",
       "from orangutan to pop_4 per generation, divided by the size of pop_4.'>0</td><td>0</td></tr></tbody></table></div><div><style scoped=\"\">\n",
       "            .tskit-table thead tr th:only-of-type {vertical-align: middle;}\n",
       "            .tskit-table thead tr th {text-align: center;vertical-align: top;}\n",
       "            .tskit-table tbody td {text-align: right;padding: 0.5em 0.5em;}\n",
       "            .tskit-table tbody th {padding: 0.5em 0.5em;}\n",
       "        </style><b>Events @ generation 3.07e+05</b><table border=\"1\" class=\"tskit-table\"><thead><tr><th>time</th><th>type</th><th>parameters</th><th>effect</th></tr></thead><tbody><tr><td>3.071e+05</td><td><a href='https://tskit.dev/msprime/docs/latest/api.html#msprime.Demography.add_population_split'>Population Split</a></td><td>derived=[pop_4, gorilla], ancestral=pop_5</td><td>Moves all lineages from derived populations &#x27;pop_4&#x27; and &#x27;gorilla&#x27; to the ancestral &#x27;pop_5&#x27; population. Also set the derived populations to inactive, and all migration rates to and from the derived populations to zero.</td></tr></tbody></table></div></div></details><details open=\"true\"><summary>Epoch[2]: [3.07e+05, 6.43e+05) generations</summary><div style=\"margin-left:20px\"><div><style scoped=\"\">\n",
       "            .tskit-table thead tr th:only-of-type {vertical-align: middle;}\n",
       "            .tskit-table thead tr th {text-align: center;vertical-align: top;}\n",
       "            .tskit-table tbody td {text-align: right;padding: 0.5em 0.5em;}\n",
       "            .tskit-table tbody th {padding: 0.5em 0.5em;}\n",
       "        </style><b>Populations (total=7 active=2)</b><table border=\"1\" class=\"tskit-table\"><thead><tr><th></th><th>start</th><th>end</th><th>growth_rate</th><th>orangutan</th><th>pop_5</th></tr></thead><tbody><tr><td>orangutan</td><td> 10000.0</td><td> 10000.0</td><td> 0</td><td>0</td><td title='Backwards in time migration rate from population orangutan to pop_5 = 0.0 per\n",
       "generation. Forwards in time, this is the expected number of migrants moving\n",
       "from pop_5 to orangutan per generation, divided by the size of orangutan.'>0</td></tr><tr><td>pop_5</td><td> 10000.0</td><td> 10000.0</td><td> 0</td><td title='Backwards in time migration rate from population pop_5 to orangutan = 0.0 per\n",
       "generation. Forwards in time, this is the expected number of migrants moving\n",
       "from orangutan to pop_5 per generation, divided by the size of pop_5.'>0</td><td>0</td></tr></tbody></table></div><div><style scoped=\"\">\n",
       "            .tskit-table thead tr th:only-of-type {vertical-align: middle;}\n",
       "            .tskit-table thead tr th {text-align: center;vertical-align: top;}\n",
       "            .tskit-table tbody td {text-align: right;padding: 0.5em 0.5em;}\n",
       "            .tskit-table tbody th {padding: 0.5em 0.5em;}\n",
       "        </style><b>Events @ generation 6.43e+05</b><table border=\"1\" class=\"tskit-table\"><thead><tr><th>time</th><th>type</th><th>parameters</th><th>effect</th></tr></thead><tbody><tr><td>6.429e+05</td><td><a href='https://tskit.dev/msprime/docs/latest/api.html#msprime.Demography.add_population_split'>Population Split</a></td><td>derived=[pop_5, orangutan], ancestral=pop_6</td><td>Moves all lineages from derived populations &#x27;pop_5&#x27; and &#x27;orangutan&#x27; to the ancestral &#x27;pop_6&#x27; population. Also set the derived populations to inactive, and all migration rates to and from the derived populations to zero.</td></tr></tbody></table></div></div></details><details open=\"true\"><summary>Epoch[3]: [6.43e+05, inf) generations</summary><div style=\"margin-left:20px\"><div><style scoped=\"\">\n",
       "            .tskit-table thead tr th:only-of-type {vertical-align: middle;}\n",
       "            .tskit-table thead tr th {text-align: center;vertical-align: top;}\n",
       "            .tskit-table tbody td {text-align: right;padding: 0.5em 0.5em;}\n",
       "            .tskit-table tbody th {padding: 0.5em 0.5em;}\n",
       "        </style><b>Populations (total=7 active=1)</b><table border=\"1\" class=\"tskit-table\"><thead><tr><th></th><th>start</th><th>end</th><th>growth_rate</th></tr></thead><tbody><tr><td>pop_6</td><td> 10000.0</td><td> 10000.0</td><td> 0</td></tr></tbody></table></div></div></details></div>"
      ],
      "text/plain": [
       "<msprime.demography.DemographyDebugger at 0x7f5d62d9a8e0>"
      ]
     },
     "execution_count": 42,
     "metadata": {},
     "output_type": "execute_result"
    }
   ],
   "source": [
    "import msprime\n",
    "\n",
    "demography = msprime.Demography.from_species_tree(\n",
    "    \"(((human:5.6,chimpanzee:5.6):3.0,gorilla:8.6):9.4,orangutan:18.0)\",\n",
    "    initial_size=10_000,\n",
    "    time_units=\"myr\",\n",
    "    generation_time=28)\n",
    "demography.debug()"
   ]
  },
  {
   "cell_type": "markdown",
   "id": "3cfcc47a",
   "metadata": {},
   "source": [
    "Because the species tree does not contain complete information about the\n",
    "demographic model, we must provide some extra information. The\n",
    "``initial_size`` parameter lets us specify the size of each of the\n",
    "populations; here we give all the populations a fixed size of 10,000\n",
    "(there is much more flexibility here, however). Because the branch\n",
    "lengths in the species tree are given in millions of years, we also\n",
    "need provide a ``time_units`` parameter and a ``generation_time``.\n",
    "\n",
    "The epoch boundaries 200000, 307142.9, and 642857.1 correspond to the species\n",
    "divergence times 5.6, 8.6, and 18.0 after converting the branch length units\n",
    "of the species tree from millions of years to generations with the specified\n",
    "generation time of 28 years.\n",
    "\n",
    "\n",
    "Running the simulation is then straightforward:"
   ]
  },
  {
   "cell_type": "code",
   "execution_count": 43,
   "id": "1963e570",
   "metadata": {},
   "outputs": [
    {
     "data": {
      "text/html": [
       "\n",
       "<div>\n",
       "  <style>\n",
       "    .tskit-table thead tr th {text-align: left;padding: 0.5em 0.5em;}\n",
       "    .tskit-table tbody tr td {padding: 0.5em 0.5em;}\n",
       "    .tskit-table tbody tr td:first-of-type {text-align: left;}\n",
       "    .tskit-details-label {vertical-align: top; padding-right:5px;}\n",
       "    .tskit-table-set {display: inline-flex;flex-wrap: wrap;margin: -12px 0 0 -12px;width: calc(100% + 12px);}\n",
       "    .tskit-table-set-table {margin: 12px 0 0 12px;}\n",
       "    details {display: inline-block;}\n",
       "    summary {cursor: pointer; outline: 0; display: list-item;}\n",
       "  </style>\n",
       "  <div class=\"tskit-table-set\">\n",
       "    <div class=\"tskit-table-set-table\">\n",
       "      <table class=\"tskit-table\">\n",
       "        <thead>\n",
       "          <tr>\n",
       "            <th style=\"padding:0;line-height:21px;\">\n",
       "              <img style=\"height: 32px;display: inline-block;padding: 3px 5px 3px 0;\"src=\"https://raw.githubusercontent.com/tskit-dev/administrative/main/tskit_logo.svg\"/>\n",
       "              <a target=\"_blank\" href=\"https://tskit.readthedocs.io/en/latest/python-api.html#the-treesequence-class\"> Tree Sequence\n",
       "            </th>\n",
       "          </tr>\n",
       "        </thead>\n",
       "        <tbody>\n",
       "          <tr><td>Trees</td><td>1</td></tr>\n",
       "          <tr><td>Sequence Length</td><td>1.0</td></tr>\n",
       "          <tr><td>Sample Nodes</td><td>8</td></tr>\n",
       "          <tr><td>Total Size</td><td>4.2 KiB</td></tr>\n",
       "          <tr>\n",
       "            <td>Metadata</td><td style=\"text-align: left;\">No Metadata</td></tr>\n",
       "        </tbody>\n",
       "      </table>\n",
       "    </div>\n",
       "    <div class=\"tskit-table-set-table\">\n",
       "      <table class=\"tskit-table\">\n",
       "        <thead>\n",
       "          <tr>\n",
       "            <th style=\"line-height:21px;\">Table</th>\n",
       "            <th>Rows</th>\n",
       "            <th>Size</th>\n",
       "            <th>Has Metadata</th>\n",
       "          </tr>\n",
       "        </thead>\n",
       "        <tbody>\n",
       "\n",
       "      <tr>\n",
       "        <td>Edges</td>\n",
       "          <td>14</td>\n",
       "          <td>396 Bytes</td>\n",
       "          <td style=\"text-align: center;\">\n",
       "\n",
       "          </td>\n",
       "        </tr>\n",
       "\n",
       "      <tr>\n",
       "        <td>Individuals</td>\n",
       "          <td>4</td>\n",
       "          <td>76 Bytes</td>\n",
       "          <td style=\"text-align: center;\">\n",
       "\n",
       "          </td>\n",
       "        </tr>\n",
       "\n",
       "      <tr>\n",
       "        <td>Migrations</td>\n",
       "          <td>0</td>\n",
       "          <td>4 Bytes</td>\n",
       "          <td style=\"text-align: center;\">\n",
       "\n",
       "          </td>\n",
       "        </tr>\n",
       "\n",
       "      <tr>\n",
       "        <td>Mutations</td>\n",
       "          <td>0</td>\n",
       "          <td>8 Bytes</td>\n",
       "          <td style=\"text-align: center;\">\n",
       "\n",
       "          </td>\n",
       "        </tr>\n",
       "\n",
       "      <tr>\n",
       "        <td>Nodes</td>\n",
       "          <td>15</td>\n",
       "          <td>364 Bytes</td>\n",
       "          <td style=\"text-align: center;\">\n",
       "\n",
       "          </td>\n",
       "        </tr>\n",
       "\n",
       "      <tr>\n",
       "        <td>Populations</td>\n",
       "          <td>7</td>\n",
       "          <td>449 Bytes</td>\n",
       "          <td style=\"text-align: center;\">\n",
       "            ✅\n",
       "          </td>\n",
       "        </tr>\n",
       "\n",
       "      <tr>\n",
       "        <td>Provenances</td>\n",
       "          <td>1</td>\n",
       "          <td>2.8 KiB</td>\n",
       "          <td style=\"text-align: center;\">\n",
       "\n",
       "          </td>\n",
       "        </tr>\n",
       "\n",
       "      <tr>\n",
       "        <td>Sites</td>\n",
       "          <td>0</td>\n",
       "          <td>8 Bytes</td>\n",
       "          <td style=\"text-align: center;\">\n",
       "\n",
       "          </td>\n",
       "        </tr>\n",
       "\n",
       "        </tbody>\n",
       "      </table>\n",
       "    </div>\n",
       "  </div>\n",
       "</div>\n"
      ],
      "text/plain": [
       "<tskit.trees.TreeSequence at 0x7f5d62690550>"
      ]
     },
     "execution_count": 43,
     "metadata": {},
     "output_type": "execute_result"
    }
   ],
   "source": [
    "ts = msprime.sim_ancestry(\n",
    "    {\"human\": 2, \"orangutan\": 2}, demography=demography, random_seed=2)\n",
    "ts"
   ]
  },
  {
   "cell_type": "markdown",
   "id": "e73312f0",
   "metadata": {},
   "source": [
    "Note that the names of the populations are recorded in the population\n",
    "metadata:"
   ]
  },
  {
   "cell_type": "code",
   "execution_count": 44,
   "id": "dff2667e",
   "metadata": {},
   "outputs": [
    {
     "name": "stdout",
     "output_type": "stream",
     "text": [
      "{'description': '', 'name': 'human'}\n",
      "{'description': '', 'name': 'chimpanzee'}\n",
      "{'description': '', 'name': 'gorilla'}\n",
      "{'description': '', 'name': 'orangutan'}\n",
      "{'description': '', 'name': 'pop_4'}\n",
      "{'description': '', 'name': 'pop_5'}\n",
      "{'description': '', 'name': 'pop_6'}\n"
     ]
    }
   ],
   "source": [
    "for population in ts.populations():\n",
    "    print(population.metadata)"
   ]
  },
  {
   "cell_type": "markdown",
   "id": "715357ce",
   "metadata": {},
   "source": [
    "(sec_demography_numerical)=\n",
    "\n",
    "## Numerical utilities\n",
    "\n",
    "### Population sizes over time\n",
    "\n",
    "When working with exponential growth models it is useful to be able to compute\n",
    "the sizes of the populations at given times. The\n",
    "{meth}`.DemographyDebugger.population_size_trajectory` gives a straightforward\n",
    "way of doing this. For example, here we create two exponentially growing populations\n",
    "and show how their sizes change over time:"
   ]
  },
  {
   "cell_type": "code",
   "execution_count": 45,
   "id": "37d4a709",
   "metadata": {},
   "outputs": [
    {
     "data": {
      "image/png": "[encoded data removed]",
      "text/plain": [
       "<Figure size 720x504 with 1 Axes>"
      ]
     },
     "metadata": {
      "filenames": {
       "image/png": "/home/runner/work/tskit-site/tskit-site/docs/_build/jupyter_execute/demography_86_0.png"
      },
      "needs_background": "light"
     },
     "output_type": "display_data"
    }
   ],
   "source": [
    "demography = msprime.Demography()\n",
    "demography.add_population(name=\"A\", initial_size=10000, growth_rate=0.01)\n",
    "demography.add_population(name=\"B\", initial_size=10000, growth_rate=0.03)\n",
    "\n",
    "debug = demography.debug()\n",
    "\n",
    "t = np.linspace(0, 100, num=20)\n",
    "S = debug.population_size_trajectory(t)\n",
    "plt.plot(t, S, label=[\"A\", \"B\"])\n",
    "plt.xlabel(\"Time ago\")\n",
    "plt.ylabel(\"Population size\")\n",
    "plt.legend();"
   ]
  },
  {
   "cell_type": "markdown",
   "id": "3cd37301",
   "metadata": {},
   "source": [
    "### Possible locations of lineages\n",
    "\n",
    "When debugging a demographic model it can be helpful to track the possible\n",
    "location of ancestral lineages over time, as determined by the model\n",
    "structure and the initial composition of the sample. For example,\n",
    "here we create a simple model involving a\n",
    "{ref}`population split<sec_demography_events_population_split>`, and then\n",
    "use the {meth}`~.DemographyDebugger.possible_lineage_locations` method:"
   ]
  },
  {
   "cell_type": "code",
   "execution_count": 46,
   "id": "477c984b",
   "metadata": {},
   "outputs": [
    {
     "data": {
      "text/plain": [
       "{(0.0, 500.0): array([ True,  True, False]),\n",
       " (500.0, inf): array([False, False,  True])}"
      ]
     },
     "execution_count": 46,
     "metadata": {},
     "output_type": "execute_result"
    }
   ],
   "source": [
    "demography = msprime.Demography()\n",
    "demography.add_population(name=\"A\", initial_size=100)\n",
    "demography.add_population(name=\"B\", initial_size=100)\n",
    "demography.add_population(name=\"C\", initial_size=100)\n",
    "demography.add_population_split(time=500, derived=[\"A\", \"B\"], ancestral=\"C\")\n",
    "\n",
    "debug = demography.debug()\n",
    "debug.possible_lineage_locations()"
   ]
  },
  {
   "cell_type": "markdown",
   "id": "73dbd905",
   "metadata": {},
   "source": [
    "The method returns a mapping of time intervals to numpy boolean arrays.\n",
    "The keys are ``(start, end]`` intervals during which the possible location\n",
    "of samples are the same, and the values are arrays telling us whether\n",
    "a given population can have lineages present during this epoch or not.\n",
    "By default,\n",
    "{meth}`~.DemographyDebugger.possible_lineage_locations` assumes that we\n",
    "draw samples from all populations that have a\n",
    "{ref}`default sampling time<sec_demography_populations_default_sampling_time>`\n",
    "of zero, and so for the initial period between time 0 and 500 we\n",
    "can have samples in population \"A\" and \"B\", but not in \"C\". The next time\n",
    "slice, from 500 generations ago onwards, we can only\n",
    "have lineages in population \"C\" (because after the population split all\n",
    "lineages will be in the ancestral population).\n",
    "\n",
    "We can also specify that we are interested in sampling from specific\n",
    "populations at particular times. Suppose we take samples from \"A\" at\n",
    "time 0 and from \"B\" at time 20:"
   ]
  },
  {
   "cell_type": "code",
   "execution_count": 47,
   "id": "5fc9e224",
   "metadata": {},
   "outputs": [
    {
     "data": {
      "text/plain": [
       "{(0.0, 20): array([ True, False, False]),\n",
       " (20, 500.0): array([ True,  True, False]),\n",
       " (500.0, inf): array([False, False,  True])}"
      ]
     },
     "execution_count": 47,
     "metadata": {},
     "output_type": "execute_result"
    }
   ],
   "source": [
    "debug.possible_lineage_locations([\n",
    "    msprime.SampleSet(1, population=\"A\", time=0),\n",
    "    msprime.SampleSet(1, population=\"B\", time=20),\n",
    "])"
   ]
  },
  {
   "cell_type": "markdown",
   "id": "17723560",
   "metadata": {},
   "source": [
    "Now, we can have lineages in \"A\" from 0 to 20 generations ago, but not\n",
    "in \"B\".\n",
    "\n",
    ":::{note}\n",
    "The number of samples we supply per population isn't important\n",
    "(once it's greater than 0).\n",
    ":::\n",
    "\n",
    "The effects of migration are also taken into account by this method.\n",
    "For example, consider a different model in which we have two initially\n",
    "isolated populations, with migration between then introduced 50\n",
    "generations ago:"
   ]
  },
  {
   "cell_type": "code",
   "execution_count": 48,
   "id": "65cad168",
   "metadata": {},
   "outputs": [
    {
     "data": {
      "text/plain": [
       "{(0.0, 50.0): array([ True, False]), (50.0, inf): array([ True,  True])}"
      ]
     },
     "execution_count": 48,
     "metadata": {},
     "output_type": "execute_result"
    }
   ],
   "source": [
    "demography = msprime.Demography()\n",
    "demography.add_population(name=\"A\", initial_size=100)\n",
    "demography.add_population(name=\"B\", initial_size=100)\n",
    "demography.add_symmetric_migration_rate_change(\n",
    "    time=50, populations=[\"A\", \"B\"], rate=0.01)\n",
    "\n",
    "debug = demography.debug()\n",
    "debug.possible_lineage_locations([\"A\"])"
   ]
  },
  {
   "cell_type": "markdown",
   "id": "d84d5987",
   "metadata": {},
   "source": [
    "Because we only sampled lineages in \"A\", we cannot have\n",
    "any lineages in \"B\" until after the migration between the\n",
    "the two after 50 generations ago.\n",
    "\n",
    "### Lineage probabilities\n",
    "\n",
    "The {meth}`~.DemographyDebugger.lineage_probabilities` method computes\n",
    "the probability that a lineage sampled at a given time in a each population\n",
    "is present in any other population at a set of times in the past.\n",
    "Consider a simple\n",
    "{ref}`population split<sec_demography_events_population_split>` model:"
   ]
  },
  {
   "cell_type": "code",
   "execution_count": 49,
   "id": "a8d9d46d",
   "metadata": {},
   "outputs": [
    {
     "data": {
      "text/plain": [
       "array([[[1., 0., 0.],\n",
       "        [0., 1., 0.],\n",
       "        [0., 0., 1.]],\n",
       "\n",
       "       [[0., 0., 1.],\n",
       "        [0., 0., 1.],\n",
       "        [0., 0., 1.]]])"
      ]
     },
     "execution_count": 49,
     "metadata": {},
     "output_type": "execute_result"
    }
   ],
   "source": [
    "demography = msprime.Demography()\n",
    "demography.add_population(name=\"A\", initial_size=100)\n",
    "demography.add_population(name=\"B\", initial_size=100)\n",
    "demography.add_population(name=\"C\", initial_size=100)\n",
    "demography.add_population_split(time=500, derived=[\"A\", \"B\"], ancestral=\"C\")\n",
    "\n",
    "debug = demography.debug()\n",
    "debug.lineage_probabilities([250, 750])"
   ]
  },
  {
   "cell_type": "markdown",
   "id": "62673f72",
   "metadata": {},
   "source": [
    "Here we ask to compute the matrix of lineage probabilities 250 and\n",
    "750 generations ago, before and after the population split. Before the\n",
    "split, any lineages sampled in a population can only still be in\n",
    "that population so the diagonal of the matrix is 1. After the\n",
    "split, all lineages must be in population \"C\", and so the\n",
    "corresponding column is 1.\n",
    "\n",
    "Migration is taken into account in these calculations.\n",
    "If we add some migration between \"A\" and \"B\",\n",
    "we can see how lineages equilibrate between the two:"
   ]
  },
  {
   "cell_type": "code",
   "execution_count": 50,
   "id": "8d573c5e",
   "metadata": {},
   "outputs": [
    {
     "data": {
      "image/png": "[encoded data removed]",
      "text/plain": [
       "<Figure size 720x504 with 2 Axes>"
      ]
     },
     "metadata": {
      "filenames": {
       "image/png": "/home/runner/work/tskit-site/tskit-site/docs/_build/jupyter_execute/demography_96_0.png"
      },
      "needs_background": "light"
     },
     "output_type": "display_data"
    }
   ],
   "source": [
    "demography = msprime.Demography()\n",
    "demography.add_population(name=\"A\", initial_size=100)\n",
    "demography.add_population(name=\"B\", initial_size=100)\n",
    "demography.set_migration_rate(source=\"A\", dest=\"B\", rate=0.005)\n",
    "demography.set_migration_rate(source=\"B\", dest=\"A\", rate=0.02)\n",
    "\n",
    "debug = demography.debug()\n",
    "T = np.linspace(0, 500, 51)\n",
    "X = debug.lineage_probabilities(T)\n",
    "\n",
    "for j, pop in enumerate(demography.populations):\n",
    "    plt.subplot(1, 2, j + 1)\n",
    "    for k, dest_pop in enumerate(demography.populations):\n",
    "        plt.plot(T, X[:, j, k], label=dest_pop.name)\n",
    "    plt.legend()\n",
    "    plt.xlabel(\"Time ago\")\n",
    "    plt.title(f\"Sample from {pop.name}\")\n",
    "    if j == 0:\n",
    "        plt.ylabel(\"Probability of being in population\");"
   ]
  },
  {
   "cell_type": "markdown",
   "id": "8ea3d02a",
   "metadata": {},
   "source": [
    "Since migration is asymmetric, lineages are more likely\n",
    "to be found in population \"A\".\n",
    "We've set the migration rate for *lineages*\n",
    "to be higher from \"B\" to \"A\", so lineages tend to spend more time in \"A\".\n",
    "Since the two populations have the same size,\n",
    "this corresponds (in forwards time) to a higher flux of migrants from \"A\" to \"B\",\n",
    "as would happen if mean fecundity in \"A\" is higher than in \"B\".\n",
    "\n",
    "We can also use this to see how lineages spread out over discrete\n",
    "space in a 1D {meth}`~.Demography.stepping_stone_model`:"
   ]
  },
  {
   "cell_type": "code",
   "execution_count": 51,
   "id": "59790935",
   "metadata": {},
   "outputs": [
    {
     "data": {
      "image/png": "[encoded data removed]",
      "text/plain": [
       "<Figure size 720x504 with 1 Axes>"
      ]
     },
     "metadata": {
      "filenames": {
       "image/png": "/home/runner/work/tskit-site/tskit-site/docs/_build/jupyter_execute/demography_98_0.png"
      },
      "needs_background": "light"
     },
     "output_type": "display_data"
    }
   ],
   "source": [
    "N = 32\n",
    "demography = msprime.Demography().stepping_stone_model(\n",
    "    initial_size=[100] * N, migration_rate=0.01)\n",
    "\n",
    "debug = demography.debug()\n",
    "T = [10, 100, 1000]\n",
    "X = debug.lineage_probabilities(T)\n",
    "\n",
    "for t, x in zip(T, X):\n",
    "    plt.plot(x[N // 2], label=f\"{t} generations ago\")\n",
    "plt.legend()\n",
    "plt.xlabel(\"Population ID\");\n",
    "plt.ylabel(\"Probability of being in population\");"
   ]
  },
  {
   "cell_type": "markdown",
   "id": "94579e07",
   "metadata": {},
   "source": [
    "Here we create a 32 population stepping stone model, and\n",
    "compute the matrix of lineage probabilities at 10, 100\n",
    "and 1000 generations ago. We then plot the probability\n",
    "of lineages sampled in the middle population\n",
    "being present in the linearly-connected populations.\n",
    "As we can see, 10 generations ago, the probability\n",
    "of lineages being present falls off quickly with\n",
    "distance, but as we go further back into the past\n",
    "the possible location of lineages becomes more evenly\n",
    "distributed in space.\n",
    "\n",
    "(sec_demography_numerical_coalescence)=\n",
    "\n",
    "### Coalescence rates and mean times\n",
    "\n",
    "Lineage probabilities tell us where lineages might possibly be,\n",
    "which uses only information about migration rates and population splits.\n",
    "Using information about population sizes,\n",
    "we can also compute the *coalescence rates*,\n",
    "using {meth}`.DemographyDebugger.coalescence_rate_trajectory`.\n",
    "For instance, here are the three pairwise coalescence rate trajectories\n",
    "in the two-population model with migration above:"
   ]
  },
  {
   "cell_type": "code",
   "execution_count": 52,
   "id": "6ed02d44",
   "metadata": {},
   "outputs": [
    {
     "data": {
      "image/png": "[encoded data removed]",
      "text/plain": [
       "<Figure size 720x504 with 1 Axes>"
      ]
     },
     "metadata": {
      "filenames": {
       "image/png": "/home/runner/work/tskit-site/tskit-site/docs/_build/jupyter_execute/demography_100_0.png"
      },
      "needs_background": "light"
     },
     "output_type": "display_data"
    }
   ],
   "source": [
    "demography = msprime.Demography()\n",
    "demography.add_population(name=\"A\", initial_size=100)\n",
    "demography.add_population(name=\"B\", initial_size=100)\n",
    "demography.set_migration_rate(source=\"A\", dest=\"B\", rate=0.005)\n",
    "demography.set_migration_rate(source=\"B\", dest=\"A\", rate=0.02)\n",
    "\n",
    "debug = demography.debug()\n",
    "T = np.linspace(0, 500, 51)\n",
    "RAA, _ = debug.coalescence_rate_trajectory(T, {\"A\": 2})\n",
    "RBB, _ = debug.coalescence_rate_trajectory(T, {\"B\": 2})\n",
    "RAB, _ = debug.coalescence_rate_trajectory(T, {\"A\": 1, \"B\": 1})\n",
    "\n",
    "plt.plot(T, RAA, label=\"two A samples\")\n",
    "plt.plot(T, RBB, label=\"two B samples\")\n",
    "plt.plot(T, RAB, label=\"one of each\")\n",
    "plt.legend()\n",
    "plt.xlabel(\"time ago\")\n",
    "plt.ylabel(\"coalecence rate\");"
   ]
  },
  {
   "cell_type": "markdown",
   "id": "ae2f2b43",
   "metadata": {},
   "source": [
    "The coalescence rate of lineages sampled from different populations begins at zero,\n",
    "and increases as the chance of them migrating to the same population increases.\n",
    "Interestingly, the coalescence rate of two lineages in population \"B\"\n",
    "is nonmonotonic, due to the asymmetric migration rates.\n",
    "\n",
    "Many properties of genomes (e.g., mean genetic diversity) are determined\n",
    "by mean coalescence times, which we can compute with\n",
    "{meth}`.DemographyDebugger.mean_coalescence_time`.\n",
    "For instance, we might want to know how the three pairwise mean coalescence times\n",
    "change as we make the migration rate less asymmetric:"
   ]
  },
  {
   "cell_type": "code",
   "execution_count": 53,
   "id": "47c961a2",
   "metadata": {},
   "outputs": [
    {
     "data": {
      "image/png": "[encoded data removed]",
      "text/plain": [
       "<Figure size 720x504 with 1 Axes>"
      ]
     },
     "metadata": {
      "filenames": {
       "image/png": "/home/runner/work/tskit-site/tskit-site/docs/_build/jupyter_execute/demography_102_0.png"
      },
      "needs_background": "light"
     },
     "output_type": "display_data"
    }
   ],
   "source": [
    "def get_mean_coaltimes(m):\n",
    "    demography.set_migration_rate(source=\"A\", dest=\"B\", rate=m)\n",
    "    debug = demography.debug()\n",
    "    TAA = debug.mean_coalescence_time({\"A\": 2})\n",
    "    TBB = debug.mean_coalescence_time({\"B\": 2})\n",
    "    TAB = debug.mean_coalescence_time({\"A\": 1, \"B\": 1})\n",
    "    return [TAA, TBB, TAB]\n",
    "\n",
    "M = np.linspace(0.001, 0.02, 11)\n",
    "T = np.zeros((len(M), 3))\n",
    "for j, m in enumerate(M):\n",
    "    T[j, :] = get_mean_coaltimes(m)\n",
    "\n",
    "plt.plot(M, T[:,0], label=\"two A samples\")\n",
    "plt.plot(M, T[:,1], label=\"two B samples\")\n",
    "plt.plot(M, T[:,2], label=\"one of each\")\n",
    "plt.legend()\n",
    "plt.xlabel(\"A→B migration rate\")\n",
    "plt.ylabel(\"coalecence rate\");"
   ]
  },
  {
   "cell_type": "markdown",
   "id": "d20904cd",
   "metadata": {},
   "source": [
    "From this, we can see that genetic diversity increases as the migration rate increases,\n",
    "that divergence between the populations is always greater than diversity within either,\n",
    "and that diversity within \"B\" goes from a level close to that found between populations\n",
    "to that within \"A\", as the \"A→B\" migration rate approaches the \"B→A\" rate.\n",
    "\n",
    "\n",
    "(sec_demography_numerical_trajectories)=\n",
    "\n",
    "### Inverse instantaneous coalescence rates\n",
    "\n",
    "Coalescence rates are analogous to effective population sizes,\n",
    "in that if {math}`r(t)` is the coalescence rate at time {math}`t` ago\n",
    "between two lineages from a population in *any* population model,\n",
    "then a single population of changing size,\n",
    "with {math}`2 N(t) = 1/r(t)` genomes at time {math}`t` ago,\n",
    "has exactly the same distribution of coalescence times.\n",
    "(The factor of two assumes the organisms are diploid,\n",
    "and this assumes a continuous-time model.)\n",
    "One reason this is helpful is because we often fit simplified demographic models\n",
    "to more complex reality,\n",
    "and we might expect models that fit a single population-size-over-time\n",
    "to infer something closer to the inverse coalescence rate.\n",
    "For more discussion, see\n",
    "[Chikhi et al., 2018](https://doi.org/10.1038/s41437-017-0005-6) and\n",
    "[Adrion et al., 2020](https://doi.org/10.7554/eLife.54967).\n",
    "\n",
    "For instance, let's take the Gutenkunst et al 2009 \"Out of Africa\" model\n",
    "we used above in the {ref}`sec_demography_examples_population_tree` section,\n",
    "and compare inverse coalescence rates to actual population sizes.\n",
    "To follow along, first you should define ``demography`` as in the section above.\n",
    "Next we make a grid of times, ``T``,  spanning the last 10,000 generations,\n",
    "and calculate coalescence rates at these times:"
   ]
  },
  {
   "cell_type": "code",
   "execution_count": 54,
   "id": "11f9bd8e",
   "metadata": {
    "tags": [
     "remove-cell"
    ]
   },
   "outputs": [],
   "source": [
    "demography = msprime.Demography._ooa_model()"
   ]
  },
  {
   "cell_type": "code",
   "execution_count": 55,
   "id": "eebf96ea",
   "metadata": {},
   "outputs": [],
   "source": [
    "# first define Gutenkunst et al model as above\n",
    "debug = demography.debug()\n",
    "\n",
    "T = np.concatenate([\n",
    "    np.linspace(0, 1000, 2001),\n",
    "    np.linspace(1000, 1e4, 401)[1:]\n",
    "])\n",
    "\n",
    "R = np.zeros((len(T), 3))\n",
    "R[:,0], _ = debug.coalescence_rate_trajectory(T, {\"YRI\": 2})\n",
    "R[:,1], _ = debug.coalescence_rate_trajectory(T, {\"CEU\": 2})\n",
    "R[:,2], _ = debug.coalescence_rate_trajectory(T, {\"CHB\": 2})"
   ]
  },
  {
   "cell_type": "markdown",
   "id": "01fcec3b",
   "metadata": {},
   "source": [
    "The time values look a bit weird because when at first we set them to have\n",
    "equal spacing across the whole time period\n",
    "we got a warning about possible numerical inaccuracy\n",
    "(and inaccurate trajectories).\n",
    "This is because {meth}`.DemographyDebugger.coalescence_rate_trajectory`\n",
    "uses the provided time steps to calculate a discrete approximation\n",
    "to the trajectory, and for this to be a good approximation\n",
    "we need to take small time steps when the population is changing in size rapidly.\n",
    "In this model, the rapid growth occurs recently, so we need a finer grid\n",
    "of time steps in the last 1,000 generations.\n",
    "\n",
    "Next we compute the \"census sizes\", and plot these\n",
    "along with the inverse instantaneous coalescence rates.\n",
    "Since {meth}`.DemographyDebugger.population_size_trajectory`\n",
    "gives us population sizes for each of the six populations\n",
    "(three modern and three ancient),\n",
    "we need to do some work to copy the right population sizes over\n",
    "(e.g., prior to the most recent split we should use sizes for the\n",
    "shared \"OOA\" population for both the non-African populations)."
   ]
  },
  {
   "cell_type": "code",
   "execution_count": 56,
   "id": "b56ac7b5",
   "metadata": {},
   "outputs": [
    {
     "data": {
      "image/png": "[encoded data removed]",
      "text/plain": [
       "<Figure size 720x504 with 1 Axes>"
      ]
     },
     "metadata": {
      "filenames": {
       "image/png": "/home/runner/work/tskit-site/tskit-site/docs/_build/jupyter_execute/demography_107_0.png"
      },
      "needs_background": "light"
     },
     "output_type": "display_data"
    }
   ],
   "source": [
    "N = debug.population_size_trajectory(T)\n",
    "# CEU-CHB merge\n",
    "which_T = (T >= debug.epoch_start_time[1])\n",
    "for j in (1, 2):\n",
    "    N[which_T, j] = N[which_T, 3]\n",
    "# OOA-Afr merge\n",
    "which_T = (T >= debug.epoch_start_time[2])\n",
    "for j in (0, 1, 2):\n",
    "    N[which_T, j] = N[which_T, 4]\n",
    "which_T = (T >= debug.epoch_start_time[3])\n",
    "for j in (0, 1, 2):\n",
    "    N[which_T, j] = N[which_T, 5]\n",
    "\n",
    "plt.plot(T, 1/(2*R), label=[demography.populations[j].name for j in range(3)])\n",
    "plt.plot(T, N[:,:3], \":\", label=[\"actual population sizes\", None, None])\n",
    "plt.legend()\n",
    "plt.xlabel(\"time ago (generations)\")\n",
    "plt.ylabel(\"population size\");"
   ]
  },
  {
   "cell_type": "markdown",
   "id": "5e7af0ab",
   "metadata": {},
   "source": [
    "We can see that the inverse instantaneous coalescence rates\n",
    "do not respond instantly to population size changes,\n",
    "when there's more than one population with migration between them.\n",
    "(If we had a *single* population, the inverse coalescence rates\n",
    "would exactly match the population size.)\n",
    "So, if the true history matched this model\n",
    "and we inferred the population-size-through-time using only \"CEU\" samples,\n",
    "we might expect the inferred history to have a gradual increase back towards the out-of-Africa bottleneck,\n",
    "instead of the actual sudden change at the bottleneck,\n",
    "which is due to subsequent population structure."
   ]
  }
 ],
 "metadata": {
  "jupytext": {
   "text_representation": {
    "extension": ".md",
    "format_name": "myst",
    "format_version": 0.12,
    "jupytext_version": "1.9.1"
   }
  },
  "kernelspec": {
   "display_name": "Python 3",
   "language": "python",
   "name": "python3"
  },
  "language_info": {
   "codemirror_mode": {
    "name": "ipython",
    "version": 3
   },
   "file_extension": ".py",
   "mimetype": "text/x-python",
   "name": "python",
   "nbconvert_exporter": "python",
   "pygments_lexer": "ipython3",
   "version": "3.8.10"
  },
  "source_map": [
   15,
   24,
   51,
   59,
   300,
   303,
   309,
   312,
   341,
   344,
   365,
   369,
   378,
   387,
   394,
   403,
   497,
   506,
   577,
   584,
   598,
   604,
   617,
   635,
   639,
   649,
   662,
   664,
   676,
   684,
   715,
   725,
   801,
   805,
   841,
   848,
   875,
   882,
   902,
   908,
   918,
   921,
   924,
   926,
   932,
   935,
   941,
   945,
   965,
   970,
   976,
   978,
   992,
   999,
   1016,
   1018,
   1055,
   1070,
   1087,
   1122,
   1143,
   1149,
   1165,
   1173,
   1220,
   1228,
   1244,
   1246,
   1267,
   1308,
   1316,
   1323,
   1337,
   1347,
   1355,
   1390,
   1448,
   1467,
   1471,
   1479,
   1548,
   1558,
   1576,
   1581,
   1586,
   1589,
   1603,
   1616,
   1627,
   1636,
   1656,
   1661,
   1676,
   1685,
   1699,
   1708,
   1721,
   1741,
   1754,
   1768,
   1793,
   1812,
   1825,
   1845,
   1880,
   1886,
   1899,
   1922,
   1941
  ]
 },
 "nbformat": 4,
 "nbformat_minor": 5
}