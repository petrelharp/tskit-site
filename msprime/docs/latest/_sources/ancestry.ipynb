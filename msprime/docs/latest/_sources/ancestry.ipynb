{
 "cells": [
  {
   "cell_type": "code",
   "execution_count": 1,
   "id": "31118c8d",
   "metadata": {
    "tags": [
     "remove-cell"
    ]
   },
   "outputs": [
    {
     "name": "stderr",
     "output_type": "stream",
     "text": [
      "Matplotlib is building the font cache; this may take a moment.\n"
     ]
    }
   ],
   "source": [
    "import msprime\n",
    "from IPython.display import SVG\n",
    "from matplotlib import pyplot as plt\n",
    "import numpy as np"
   ]
  },
  {
   "cell_type": "markdown",
   "id": "a5dd621f",
   "metadata": {},
   "source": [
    "(sec_ancestry)=\n",
    "\n",
    "# Ancestry simulations\n",
    "\n",
    "Msprime simulates the ancestry of sampled genomes under a number of\n",
    "different backwards-in-time population genetic\n",
    "{ref}`models <sec_ancestry_models>`. The simulated ancestry is\n",
    "represented as a [succinct tree sequence](https://tskit.dev) using\n",
    "the [tskit](https://tskit.dev/tskit) library, which provides an\n",
    "extensive suite of operations for analysing genealogical trees\n",
    "and DNA sequence data. See the {ref}`tutorials:sec_tskit_getting_started`\n",
    "tutorial for more information on how to process data using tskit.\n",
    "\n",
    "Here we run a simple simulation and show a summary of the resulting\n",
    "tree sequence:"
   ]
  },
  {
   "cell_type": "code",
   "execution_count": 2,
   "id": "4b7900cb",
   "metadata": {},
   "outputs": [
    {
     "data": {
      "text/html": [
       "\n",
       "<div>\n",
       "  <style>\n",
       "    .tskit-table thead tr th {text-align: left;padding: 0.5em 0.5em;}\n",
       "    .tskit-table tbody tr td {padding: 0.5em 0.5em;}\n",
       "    .tskit-table tbody tr td:first-of-type {text-align: left;}\n",
       "    .tskit-details-label {vertical-align: top; padding-right:5px;}\n",
       "    .tskit-table-set {display: inline-flex;flex-wrap: wrap;margin: -12px 0 0 -12px;width: calc(100% + 12px);}\n",
       "    .tskit-table-set-table {margin: 12px 0 0 12px;}\n",
       "    details {display: inline-block;}\n",
       "    summary {cursor: pointer; outline: 0; display: list-item;}\n",
       "  </style>\n",
       "  <div class=\"tskit-table-set\">\n",
       "    <div class=\"tskit-table-set-table\">\n",
       "      <table class=\"tskit-table\">\n",
       "        <thead>\n",
       "          <tr>\n",
       "            <th style=\"padding:0;line-height:21px;\">\n",
       "              <img style=\"height: 32px;display: inline-block;padding: 3px 5px 3px 0;\"src=\"https://raw.githubusercontent.com/tskit-dev/administrative/main/tskit_logo.svg\"/>\n",
       "              <a target=\"_blank\" href=\"https://tskit.readthedocs.io/en/latest/python-api.html#the-treesequence-class\"> Tree Sequence\n",
       "            </th>\n",
       "          </tr>\n",
       "        </thead>\n",
       "        <tbody>\n",
       "          <tr><td>Trees</td><td>1</td></tr>\n",
       "          <tr><td>Sequence Length</td><td>1.0</td></tr>\n",
       "          <tr><td>Sample Nodes</td><td>4</td></tr>\n",
       "          <tr><td>Total Size</td><td>1.6 KiB</td></tr>\n",
       "          <tr>\n",
       "            <td>Metadata</td><td style=\"text-align: left;\">No Metadata</td></tr>\n",
       "        </tbody>\n",
       "      </table>\n",
       "    </div>\n",
       "    <div class=\"tskit-table-set-table\">\n",
       "      <table class=\"tskit-table\">\n",
       "        <thead>\n",
       "          <tr>\n",
       "            <th style=\"line-height:21px;\">Table</th>\n",
       "            <th>Rows</th>\n",
       "            <th>Size</th>\n",
       "            <th>Has Metadata</th>\n",
       "          </tr>\n",
       "        </thead>\n",
       "        <tbody>\n",
       "\n",
       "      <tr>\n",
       "        <td>Edges</td>\n",
       "          <td>6</td>\n",
       "          <td>172 Bytes</td>\n",
       "          <td style=\"text-align: center;\">\n",
       "\n",
       "          </td>\n",
       "        </tr>\n",
       "\n",
       "      <tr>\n",
       "        <td>Individuals</td>\n",
       "          <td>2</td>\n",
       "          <td>44 Bytes</td>\n",
       "          <td style=\"text-align: center;\">\n",
       "\n",
       "          </td>\n",
       "        </tr>\n",
       "\n",
       "      <tr>\n",
       "        <td>Migrations</td>\n",
       "          <td>0</td>\n",
       "          <td>4 Bytes</td>\n",
       "          <td style=\"text-align: center;\">\n",
       "\n",
       "          </td>\n",
       "        </tr>\n",
       "\n",
       "      <tr>\n",
       "        <td>Mutations</td>\n",
       "          <td>0</td>\n",
       "          <td>8 Bytes</td>\n",
       "          <td style=\"text-align: center;\">\n",
       "\n",
       "          </td>\n",
       "        </tr>\n",
       "\n",
       "      <tr>\n",
       "        <td>Nodes</td>\n",
       "          <td>7</td>\n",
       "          <td>172 Bytes</td>\n",
       "          <td style=\"text-align: center;\">\n",
       "\n",
       "          </td>\n",
       "        </tr>\n",
       "\n",
       "      <tr>\n",
       "        <td>Populations</td>\n",
       "          <td>1</td>\n",
       "          <td>216 Bytes</td>\n",
       "          <td style=\"text-align: center;\">\n",
       "            ✅\n",
       "          </td>\n",
       "        </tr>\n",
       "\n",
       "      <tr>\n",
       "        <td>Provenances</td>\n",
       "          <td>1</td>\n",
       "          <td>972 Bytes</td>\n",
       "          <td style=\"text-align: center;\">\n",
       "\n",
       "          </td>\n",
       "        </tr>\n",
       "\n",
       "      <tr>\n",
       "        <td>Sites</td>\n",
       "          <td>0</td>\n",
       "          <td>8 Bytes</td>\n",
       "          <td style=\"text-align: center;\">\n",
       "\n",
       "          </td>\n",
       "        </tr>\n",
       "\n",
       "        </tbody>\n",
       "      </table>\n",
       "    </div>\n",
       "  </div>\n",
       "</div>\n"
      ],
      "text/plain": [
       "<tskit.trees.TreeSequence at 0x7fbfec66ce50>"
      ]
     },
     "execution_count": 2,
     "metadata": {},
     "output_type": "execute_result"
    }
   ],
   "source": [
    "ts = msprime.sim_ancestry(2)\n",
    "ts"
   ]
  },
  {
   "cell_type": "markdown",
   "id": "c2ded5d7",
   "metadata": {},
   "source": [
    "The {func}`.sim_ancestry` function has many parameters to specify\n",
    "the details of the simulations. The {func}`API documentation <.sim_ancestry>`\n",
    "contains a precise description of the parameter; the sections\n",
    "in this page provide some explanation and examples of how to use these\n",
    "parameters.\n",
    "\n",
    ":::{note}\n",
    "It's important to note that {func}`.sim_ancestry` only simulates\n",
    "the ancestral trees for samples: if we want actual sequence data\n",
    "then we also need to simulate mutations on these trees.\n",
    "See the {ref}`sec_mutations` section for more information on how to do\n",
    "this.\n",
    ":::\n",
    "\n",
    "---\n",
    "\n",
    "(sec_ancestry_quickref)=\n",
    "\n",
    "## Quick reference\n",
    "\n",
    "{func}`.sim_ancestry`\n",
    ": Simulate ancestral tree sequence topology\n",
    "\n",
    "**Models**\n",
    "\n",
    "{class}`.StandardCoalescent`\n",
    ": Coalescent with recombination (\"hudson\")\n",
    "\n",
    "{class}`.SmcApproxCoalescent`\n",
    ": Sequentially Markov Coalescent (\"smc\")\n",
    "\n",
    "{class}`.SmcPrimeApproxCoalescent`\n",
    ": SMC'(\"smc_prime\")\n",
    "\n",
    "{class}`.DiscreteTimeWrightFisher`\n",
    ": Generation-by-generation Wright-Fisher\n",
    "\n",
    "{class}`.BetaCoalescent`\n",
    ": Beta coalescent multiple-merger\n",
    "\n",
    "{class}`.DiracCoalescent`\n",
    ": Dirac coalescent multiple-merger\n",
    "\n",
    "{class}`.SweepGenicSelection`\n",
    ": Selective sweep at a linked locus\n",
    "\n",
    "---\n",
    "\n",
    "\n",
    "(sec_ancestry_samples)=\n",
    "## Specifying samples\n",
    "\n",
    "The `samples` argument to {func}`.sim_ancestry` defines the number\n",
    "of sampled individuals whose history will be simulated. There are three different\n",
    "forms; the `samples` argument can be:\n",
    "\n",
    "- an **integer**, interpreted as the number of sampled individuals to draw in\n",
    "  a single population model;\n",
    "- a **dictionary** mapping population references (either integer IDs or\n",
    "  names) to the number of sampled individuals for that population;\n",
    "- a list of {class}`.SampleSet` objects, which provide more flexibility\n",
    "  in how groups of similar samples are drawn from populations.\n",
    "\n",
    "\n",
    "In the simplest case, provide a single integer which defines the number\n",
    "of samples:"
   ]
  },
  {
   "cell_type": "code",
   "execution_count": 3,
   "id": "2ed6f6ad",
   "metadata": {},
   "outputs": [
    {
     "data": {
      "text/html": [
       "\n",
       "<div>\n",
       "  <style>\n",
       "    .tskit-table thead tr th {text-align: left;padding: 0.5em 0.5em;}\n",
       "    .tskit-table tbody tr td {padding: 0.5em 0.5em;}\n",
       "    .tskit-table tbody tr td:first-of-type {text-align: left;}\n",
       "    .tskit-details-label {vertical-align: top; padding-right:5px;}\n",
       "    .tskit-table-set {display: inline-flex;flex-wrap: wrap;margin: -12px 0 0 -12px;width: calc(100% + 12px);}\n",
       "    .tskit-table-set-table {margin: 12px 0 0 12px;}\n",
       "    details {display: inline-block;}\n",
       "    summary {cursor: pointer; outline: 0; display: list-item;}\n",
       "  </style>\n",
       "  <div class=\"tskit-table-set\">\n",
       "    <div class=\"tskit-table-set-table\">\n",
       "      <table class=\"tskit-table\">\n",
       "        <thead>\n",
       "          <tr>\n",
       "            <th style=\"padding:0;line-height:21px;\">\n",
       "              <img style=\"height: 32px;display: inline-block;padding: 3px 5px 3px 0;\"src=\"https://raw.githubusercontent.com/tskit-dev/administrative/main/tskit_logo.svg\"/>\n",
       "              <a target=\"_blank\" href=\"https://tskit.readthedocs.io/en/latest/python-api.html#the-treesequence-class\"> Tree Sequence\n",
       "            </th>\n",
       "          </tr>\n",
       "        </thead>\n",
       "        <tbody>\n",
       "          <tr><td>Trees</td><td>1</td></tr>\n",
       "          <tr><td>Sequence Length</td><td>1.0</td></tr>\n",
       "          <tr><td>Sample Nodes</td><td>4</td></tr>\n",
       "          <tr><td>Total Size</td><td>1.6 KiB</td></tr>\n",
       "          <tr>\n",
       "            <td>Metadata</td><td style=\"text-align: left;\">No Metadata</td></tr>\n",
       "        </tbody>\n",
       "      </table>\n",
       "    </div>\n",
       "    <div class=\"tskit-table-set-table\">\n",
       "      <table class=\"tskit-table\">\n",
       "        <thead>\n",
       "          <tr>\n",
       "            <th style=\"line-height:21px;\">Table</th>\n",
       "            <th>Rows</th>\n",
       "            <th>Size</th>\n",
       "            <th>Has Metadata</th>\n",
       "          </tr>\n",
       "        </thead>\n",
       "        <tbody>\n",
       "\n",
       "      <tr>\n",
       "        <td>Edges</td>\n",
       "          <td>6</td>\n",
       "          <td>172 Bytes</td>\n",
       "          <td style=\"text-align: center;\">\n",
       "\n",
       "          </td>\n",
       "        </tr>\n",
       "\n",
       "      <tr>\n",
       "        <td>Individuals</td>\n",
       "          <td>2</td>\n",
       "          <td>44 Bytes</td>\n",
       "          <td style=\"text-align: center;\">\n",
       "\n",
       "          </td>\n",
       "        </tr>\n",
       "\n",
       "      <tr>\n",
       "        <td>Migrations</td>\n",
       "          <td>0</td>\n",
       "          <td>4 Bytes</td>\n",
       "          <td style=\"text-align: center;\">\n",
       "\n",
       "          </td>\n",
       "        </tr>\n",
       "\n",
       "      <tr>\n",
       "        <td>Mutations</td>\n",
       "          <td>0</td>\n",
       "          <td>8 Bytes</td>\n",
       "          <td style=\"text-align: center;\">\n",
       "\n",
       "          </td>\n",
       "        </tr>\n",
       "\n",
       "      <tr>\n",
       "        <td>Nodes</td>\n",
       "          <td>7</td>\n",
       "          <td>172 Bytes</td>\n",
       "          <td style=\"text-align: center;\">\n",
       "\n",
       "          </td>\n",
       "        </tr>\n",
       "\n",
       "      <tr>\n",
       "        <td>Populations</td>\n",
       "          <td>1</td>\n",
       "          <td>216 Bytes</td>\n",
       "          <td style=\"text-align: center;\">\n",
       "            ✅\n",
       "          </td>\n",
       "        </tr>\n",
       "\n",
       "      <tr>\n",
       "        <td>Provenances</td>\n",
       "          <td>1</td>\n",
       "          <td>966 Bytes</td>\n",
       "          <td style=\"text-align: center;\">\n",
       "\n",
       "          </td>\n",
       "        </tr>\n",
       "\n",
       "      <tr>\n",
       "        <td>Sites</td>\n",
       "          <td>0</td>\n",
       "          <td>8 Bytes</td>\n",
       "          <td style=\"text-align: center;\">\n",
       "\n",
       "          </td>\n",
       "        </tr>\n",
       "\n",
       "        </tbody>\n",
       "      </table>\n",
       "    </div>\n",
       "  </div>\n",
       "</div>\n"
      ],
      "text/plain": [
       "<tskit.trees.TreeSequence at 0x7fbfc81caaf0>"
      ]
     },
     "execution_count": 3,
     "metadata": {},
     "output_type": "execute_result"
    }
   ],
   "source": [
    "ts = msprime.sim_ancestry(2, random_seed=1234)\n",
    "ts"
   ]
  },
  {
   "cell_type": "markdown",
   "id": "cb24f9ad",
   "metadata": {},
   "source": [
    "Here we specify two sample **individuals**, which at the default\n",
    "ploidy of two, gives us four sample **nodes**.\n",
    "\n",
    ":::{warning}\n",
    "It is important to note that the number of samples\n",
    "refers to the number of *individuals* not the number of *nodes*\n",
    "(monoploid genomes). See the {ref}`sec_ancestry_ploidy`\n",
    "section for details.\n",
    ":::\n",
    "\n",
    "This integer form for the ``samples`` argument can only be used\n",
    "when the ``demography`` is a single population model.\n",
    "\n",
    "### Populations\n",
    "\n",
    "The next example illustrates one usage of the dictionary form of the `samples`\n",
    "argument, in which the keys refer to populations in the\n",
    "{ref}`demographic model<sec_demography>` and\n",
    "the values are the number of samples to draw.\n",
    "(See the {ref}`sec_ancestry_demography` section for more details on\n",
    "the ``demography`` argument to {func}`.sim_ancestry`.)\n",
    "We first create a {class}`.Demography` object representing\n",
    "a 10 deme linear stepping stone model. Then, we run the simulation\n",
    "with 3 diploid samples each drawn from the first and last demes in this\n",
    "linear habitat."
   ]
  },
  {
   "cell_type": "code",
   "execution_count": 4,
   "id": "59aea112",
   "metadata": {},
   "outputs": [
    {
     "data": {
      "text/html": [
       "\n",
       "<div>\n",
       "  <style>\n",
       "    .tskit-table thead tr th {text-align: left;padding: 0.5em 0.5em;}\n",
       "    .tskit-table tbody tr td {padding: 0.5em 0.5em;}\n",
       "    .tskit-table tbody tr td:first-of-type {text-align: left;}\n",
       "    .tskit-details-label {vertical-align: top; padding-right:5px;}\n",
       "    .tskit-table-set {display: inline-flex;flex-wrap: wrap;margin: -12px 0 0 -12px;width: calc(100% + 12px);}\n",
       "    .tskit-table-set-table {margin: 12px 0 0 12px;}\n",
       "    details {display: inline-block;}\n",
       "    summary {cursor: pointer; outline: 0; display: list-item;}\n",
       "  </style>\n",
       "  <div class=\"tskit-table-set\">\n",
       "    <div class=\"tskit-table-set-table\">\n",
       "      <table class=\"tskit-table\">\n",
       "        <thead>\n",
       "          <tr>\n",
       "            <th style=\"padding:0;line-height:21px;\">\n",
       "              <img style=\"height: 32px;display: inline-block;padding: 3px 5px 3px 0;\"src=\"https://raw.githubusercontent.com/tskit-dev/administrative/main/tskit_logo.svg\"/>\n",
       "              <a target=\"_blank\" href=\"https://tskit.readthedocs.io/en/latest/python-api.html#the-treesequence-class\"> Tree Sequence\n",
       "            </th>\n",
       "          </tr>\n",
       "        </thead>\n",
       "        <tbody>\n",
       "          <tr><td>Trees</td><td>1</td></tr>\n",
       "          <tr><td>Sequence Length</td><td>1.0</td></tr>\n",
       "          <tr><td>Sample Nodes</td><td>12</td></tr>\n",
       "          <tr><td>Total Size</td><td>5.2 KiB</td></tr>\n",
       "          <tr>\n",
       "            <td>Metadata</td><td style=\"text-align: left;\">No Metadata</td></tr>\n",
       "        </tbody>\n",
       "      </table>\n",
       "    </div>\n",
       "    <div class=\"tskit-table-set-table\">\n",
       "      <table class=\"tskit-table\">\n",
       "        <thead>\n",
       "          <tr>\n",
       "            <th style=\"line-height:21px;\">Table</th>\n",
       "            <th>Rows</th>\n",
       "            <th>Size</th>\n",
       "            <th>Has Metadata</th>\n",
       "          </tr>\n",
       "        </thead>\n",
       "        <tbody>\n",
       "\n",
       "      <tr>\n",
       "        <td>Edges</td>\n",
       "          <td>22</td>\n",
       "          <td>620 Bytes</td>\n",
       "          <td style=\"text-align: center;\">\n",
       "\n",
       "          </td>\n",
       "        </tr>\n",
       "\n",
       "      <tr>\n",
       "        <td>Individuals</td>\n",
       "          <td>6</td>\n",
       "          <td>108 Bytes</td>\n",
       "          <td style=\"text-align: center;\">\n",
       "\n",
       "          </td>\n",
       "        </tr>\n",
       "\n",
       "      <tr>\n",
       "        <td>Migrations</td>\n",
       "          <td>0</td>\n",
       "          <td>4 Bytes</td>\n",
       "          <td style=\"text-align: center;\">\n",
       "\n",
       "          </td>\n",
       "        </tr>\n",
       "\n",
       "      <tr>\n",
       "        <td>Mutations</td>\n",
       "          <td>0</td>\n",
       "          <td>8 Bytes</td>\n",
       "          <td style=\"text-align: center;\">\n",
       "\n",
       "          </td>\n",
       "        </tr>\n",
       "\n",
       "      <tr>\n",
       "        <td>Nodes</td>\n",
       "          <td>23</td>\n",
       "          <td>556 Bytes</td>\n",
       "          <td style=\"text-align: center;\">\n",
       "\n",
       "          </td>\n",
       "        </tr>\n",
       "\n",
       "      <tr>\n",
       "        <td>Populations</td>\n",
       "          <td>10</td>\n",
       "          <td>549 Bytes</td>\n",
       "          <td style=\"text-align: center;\">\n",
       "            ✅\n",
       "          </td>\n",
       "        </tr>\n",
       "\n",
       "      <tr>\n",
       "        <td>Provenances</td>\n",
       "          <td>1</td>\n",
       "          <td>3.2 KiB</td>\n",
       "          <td style=\"text-align: center;\">\n",
       "\n",
       "          </td>\n",
       "        </tr>\n",
       "\n",
       "      <tr>\n",
       "        <td>Sites</td>\n",
       "          <td>0</td>\n",
       "          <td>8 Bytes</td>\n",
       "          <td style=\"text-align: center;\">\n",
       "\n",
       "          </td>\n",
       "        </tr>\n",
       "\n",
       "        </tbody>\n",
       "      </table>\n",
       "    </div>\n",
       "  </div>\n",
       "</div>\n"
      ],
      "text/plain": [
       "<tskit.trees.TreeSequence at 0x7fbfec662070>"
      ]
     },
     "execution_count": 4,
     "metadata": {},
     "output_type": "execute_result"
    }
   ],
   "source": [
    "N = 10\n",
    "demography = msprime.Demography.stepping_stone_model(\n",
    "    [100] * N,\n",
    "    migration_rate=0.1,\n",
    "    boundaries=True)\n",
    "ts = msprime.sim_ancestry({0: 3, N - 1: 3}, demography=demography)\n",
    "ts"
   ]
  },
  {
   "cell_type": "markdown",
   "id": "a4bc61c2",
   "metadata": {},
   "source": [
    "The keys in the dictionary can also be the string names of the\n",
    "population (see the {ref}`sec_demography_populations_identifiers` section\n",
    "), which is useful when we are simulating from empirically\n",
    "estimated models. For example, here create a {class}`.Demography` object\n",
    "based on a species tree, and then draw samples using the species names."
   ]
  },
  {
   "cell_type": "code",
   "execution_count": 5,
   "id": "dd128ef9",
   "metadata": {},
   "outputs": [
    {
     "data": {
      "text/html": [
       "\n",
       "<div>\n",
       "  <style>\n",
       "    .tskit-table thead tr th {text-align: left;padding: 0.5em 0.5em;}\n",
       "    .tskit-table tbody tr td {padding: 0.5em 0.5em;}\n",
       "    .tskit-table tbody tr td:first-of-type {text-align: left;}\n",
       "    .tskit-details-label {vertical-align: top; padding-right:5px;}\n",
       "    .tskit-table-set {display: inline-flex;flex-wrap: wrap;margin: -12px 0 0 -12px;width: calc(100% + 12px);}\n",
       "    .tskit-table-set-table {margin: 12px 0 0 12px;}\n",
       "    details {display: inline-block;}\n",
       "    summary {cursor: pointer; outline: 0; display: list-item;}\n",
       "  </style>\n",
       "  <div class=\"tskit-table-set\">\n",
       "    <div class=\"tskit-table-set-table\">\n",
       "      <table class=\"tskit-table\">\n",
       "        <thead>\n",
       "          <tr>\n",
       "            <th style=\"padding:0;line-height:21px;\">\n",
       "              <img style=\"height: 32px;display: inline-block;padding: 3px 5px 3px 0;\"src=\"https://raw.githubusercontent.com/tskit-dev/administrative/main/tskit_logo.svg\"/>\n",
       "              <a target=\"_blank\" href=\"https://tskit.readthedocs.io/en/latest/python-api.html#the-treesequence-class\"> Tree Sequence\n",
       "            </th>\n",
       "          </tr>\n",
       "        </thead>\n",
       "        <tbody>\n",
       "          <tr><td>Trees</td><td>1</td></tr>\n",
       "          <tr><td>Sequence Length</td><td>1.0</td></tr>\n",
       "          <tr><td>Sample Nodes</td><td>12</td></tr>\n",
       "          <tr><td>Total Size</td><td>4.6 KiB</td></tr>\n",
       "          <tr>\n",
       "            <td>Metadata</td><td style=\"text-align: left;\">No Metadata</td></tr>\n",
       "        </tbody>\n",
       "      </table>\n",
       "    </div>\n",
       "    <div class=\"tskit-table-set-table\">\n",
       "      <table class=\"tskit-table\">\n",
       "        <thead>\n",
       "          <tr>\n",
       "            <th style=\"line-height:21px;\">Table</th>\n",
       "            <th>Rows</th>\n",
       "            <th>Size</th>\n",
       "            <th>Has Metadata</th>\n",
       "          </tr>\n",
       "        </thead>\n",
       "        <tbody>\n",
       "\n",
       "      <tr>\n",
       "        <td>Edges</td>\n",
       "          <td>22</td>\n",
       "          <td>620 Bytes</td>\n",
       "          <td style=\"text-align: center;\">\n",
       "\n",
       "          </td>\n",
       "        </tr>\n",
       "\n",
       "      <tr>\n",
       "        <td>Individuals</td>\n",
       "          <td>6</td>\n",
       "          <td>108 Bytes</td>\n",
       "          <td style=\"text-align: center;\">\n",
       "\n",
       "          </td>\n",
       "        </tr>\n",
       "\n",
       "      <tr>\n",
       "        <td>Migrations</td>\n",
       "          <td>0</td>\n",
       "          <td>4 Bytes</td>\n",
       "          <td style=\"text-align: center;\">\n",
       "\n",
       "          </td>\n",
       "        </tr>\n",
       "\n",
       "      <tr>\n",
       "        <td>Mutations</td>\n",
       "          <td>0</td>\n",
       "          <td>8 Bytes</td>\n",
       "          <td style=\"text-align: center;\">\n",
       "\n",
       "          </td>\n",
       "        </tr>\n",
       "\n",
       "      <tr>\n",
       "        <td>Nodes</td>\n",
       "          <td>23</td>\n",
       "          <td>556 Bytes</td>\n",
       "          <td style=\"text-align: center;\">\n",
       "\n",
       "          </td>\n",
       "        </tr>\n",
       "\n",
       "      <tr>\n",
       "        <td>Populations</td>\n",
       "          <td>7</td>\n",
       "          <td>449 Bytes</td>\n",
       "          <td style=\"text-align: center;\">\n",
       "            ✅\n",
       "          </td>\n",
       "        </tr>\n",
       "\n",
       "      <tr>\n",
       "        <td>Provenances</td>\n",
       "          <td>1</td>\n",
       "          <td>2.7 KiB</td>\n",
       "          <td style=\"text-align: center;\">\n",
       "\n",
       "          </td>\n",
       "        </tr>\n",
       "\n",
       "      <tr>\n",
       "        <td>Sites</td>\n",
       "          <td>0</td>\n",
       "          <td>8 Bytes</td>\n",
       "          <td style=\"text-align: center;\">\n",
       "\n",
       "          </td>\n",
       "        </tr>\n",
       "\n",
       "        </tbody>\n",
       "      </table>\n",
       "    </div>\n",
       "  </div>\n",
       "</div>\n"
      ],
      "text/plain": [
       "<tskit.trees.TreeSequence at 0x7fbfc819af70>"
      ]
     },
     "execution_count": 5,
     "metadata": {},
     "output_type": "execute_result"
    }
   ],
   "source": [
    "demography = msprime.Demography.from_species_tree(\n",
    "    \"(((human:5.6,chimpanzee:5.6):3.0,gorilla:8.6):9.4,orangutan:18.0)\",\n",
    "    time_units=\"myr\",\n",
    "    initial_size=10**4,\n",
    "    generation_time=20)\n",
    "ts = msprime.sim_ancestry({\"gorilla\": 2, \"human\": 4}, demography=demography)\n",
    "ts"
   ]
  },
  {
   "cell_type": "markdown",
   "id": "7dbd2a37",
   "metadata": {},
   "source": [
    "When samples are drawn using this dictionary form it is always\n",
    "at the population's {ref}`sec_demography_populations_default_sampling_time`.\n",
    "If you wish to draw samples at a different time, then you must use the\n",
    "more general form of a list of {class}`.SampleSet` objects.\n",
    "\n",
    ":::{seealso}\n",
    "See the {ref}`sec_ancestry_demography` section for more information\n",
    "on how to specify demographic models in a simulation.\n",
    ":::\n",
    "\n",
    "(sec_ancestry_samples_sampling_time)=\n",
    "\n",
    "### Sampling time\n",
    "\n",
    "By default the samples that we draw from a {class}`.Population` are\n",
    "at the population's {attr}`~.Population.default_sampling_time`.\n",
    "See the {ref}`sec_demography_populations_default_sampling_time`\n",
    "section for more information about how this is\n",
    "set for populations in a demographic model.\n",
    "\n",
    "We can manually control the time at which samples\n",
    "are drawn using list of {class}`.SampleSet` objects form for the\n",
    "samples argument.\n",
    "\n",
    "In this example we create two diploid sample individuals,\n",
    "one at the present time\n",
    "and one taken 50 generations ago, representing one modern\n",
    "and one ancient individual. By default, when we draw the\n",
    "trees, the nodes that belong to samples are drawn as squares\n",
    "whereas nodes that are not samples are drawn as circles."
   ]
  },
  {
   "cell_type": "code",
   "execution_count": 6,
   "id": "4380291f",
   "metadata": {},
   "outputs": [
    {
     "data": {
      "image/svg+xml": [
       "<svg xmlns=\"http://www.w3.org/2000/svg\" xmlns:ev=\"http://www.w3.org/2001/xml-events\" xmlns:xlink=\"http://www.w3.org/1999/xlink\" baseProfile=\"full\" height=\"200\" version=\"1.1\" width=\"200\"><defs><style type=\"text/css\"><![CDATA[.tree-sequence .background path {fill: #808080; fill-opacity:0}.tree-sequence .background path:nth-child(odd) {fill-opacity:.1}.axes {font-size: 14px}.x-axis .tick .lab {font-weight: bold}.axes, .tree {font-size: 14px; text-anchor:middle}.y-axis line.grid {stroke: #FAFAFA}.y-axis > .lab text {transform: translateX(0.8em) rotate(-90deg)}.x-axis .tick g {transform: translateY(0.9em)}.x-axis > .lab text {transform: translateY(-0.8em)}.axes line, .edge {stroke:black; fill:none}.node > .sym {fill: black; stroke: none}.site > .sym {stroke: black}.mut text {fill: red; font-style: italic}.mut line {fill: none; stroke: none}.mut .sym {fill: none; stroke: red}.node .mut .sym {stroke-width: 1.5px}.tree text, .tree-sequence text {dominant-baseline: central}.plotbox .lab.lft {text-anchor: end}.plotbox .lab.rgt {text-anchor: start}]]></style></defs><g class=\"tree-sequence\"><g class=\"background\"><path d=\"M56.8,0 l123.2,0 l0,138.2 l0,25 l0,5 l-123.2,0 l0,-5 l0,-25 l0,-138.2z\"/></g><g class=\"axes\"><g class=\"x-axis\"><g class=\"lab\" transform=\"translate(118.4,200)\"><text text-anchor=\"middle\">Genome position</text></g><line x1=\"56.8\" x2=\"180\" y1=\"163.2\" y2=\"163.2\"/><g class=\"tick\" transform=\"translate(56.8 163.2)\"><line x1=\"0\" x2=\"0\" y1=\"0\" y2=\"5\"/><g class=\"lab\" transform=\"translate(0,5)\"><text>0</text></g></g><g class=\"tick\" transform=\"translate(180 163.2)\"><line x1=\"0\" x2=\"0\" y1=\"0\" y2=\"5\"/><g class=\"lab\" transform=\"translate(0,5)\"><text>1</text></g></g></g><g class=\"y-axis\"><g class=\"lab\" transform=\"translate(0,65.7)\"><text text-anchor=\"middle\">Time</text></g><line x1=\"56.8\" x2=\"56.8\" y1=\"121.4\" y2=\"10\"/><g class=\"tick\" transform=\"translate(56.8 121.4)\"><line x1=\"0\" x2=\"-5\" y1=\"0\" y2=\"0\"/><g class=\"lab\" transform=\"translate(-5,0)\"><text text-anchor=\"end\">0.00</text></g></g><g class=\"tick\" transform=\"translate(56.8 108.704)\"><line x1=\"0\" x2=\"-5\" y1=\"0\" y2=\"0\"/><g class=\"lab\" transform=\"translate(-5,0)\"><text text-anchor=\"end\">50.00</text></g></g><g class=\"tick\" transform=\"translate(56.8 95.2261)\"><line x1=\"0\" x2=\"-5\" y1=\"0\" y2=\"0\"/><g class=\"lab\" transform=\"translate(-5,0)\"><text text-anchor=\"end\">103.08</text></g></g><g class=\"tick\" transform=\"translate(56.8 72.9357)\"><line x1=\"0\" x2=\"-5\" y1=\"0\" y2=\"0\"/><g class=\"lab\" transform=\"translate(-5,0)\"><text text-anchor=\"end\">190.86</text></g></g><g class=\"tick\" transform=\"translate(56.8 26.8)\"><line x1=\"0\" x2=\"-5\" y1=\"0\" y2=\"0\"/><g class=\"lab\" transform=\"translate(-5,0)\"><text text-anchor=\"end\">372.55</text></g></g></g></g><g class=\"plotbox trees\"><g class=\"tree t0\" transform=\"translate(56.8 0)\"><g class=\"plotbox\"><g class=\"node n6 p0 root\" transform=\"translate(61.6 26.8)\"><g class=\"a6 node n4 p0\" transform=\"translate(-20.8 68.4261)\"><g class=\"a4 i0 leaf node n0 p0 sample\" transform=\"translate(-10.4 26.1739)\"><path class=\"edge\" d=\"M 0 0 V -26.1739 H 10.4\"/><rect class=\"sym\" height=\"6\" width=\"6\" x=\"-3\" y=\"-3\"/><text class=\"lab\" transform=\"translate(0 11)\">0</text></g><g class=\"a4 i1 leaf node n3 p0 sample\" transform=\"translate(10.4 13.4776)\"><path class=\"edge\" d=\"M 0 0 V -13.4776 H -10.4\"/><rect class=\"sym\" height=\"6\" width=\"6\" x=\"-3\" y=\"-3\"/><text class=\"lab\" transform=\"translate(0 11)\">3</text></g><path class=\"edge\" d=\"M 0 0 V -68.4261 H 20.8\"/><circle class=\"sym\" cx=\"0\" cy=\"0\" r=\"3\"/><text class=\"lab lft\" transform=\"translate(-3 -7.0)\">4</text></g><g class=\"a6 node n5 p0\" transform=\"translate(20.8 46.1357)\"><g class=\"a5 i0 leaf node n1 p0 sample\" transform=\"translate(-10.4 48.4643)\"><path class=\"edge\" d=\"M 0 0 V -48.4643 H 10.4\"/><rect class=\"sym\" height=\"6\" width=\"6\" x=\"-3\" y=\"-3\"/><text class=\"lab\" transform=\"translate(0 11)\">1</text></g><g class=\"a5 i1 leaf node n2 p0 sample\" transform=\"translate(10.4 35.768)\"><path class=\"edge\" d=\"M 0 0 V -35.768 H -10.4\"/><rect class=\"sym\" height=\"6\" width=\"6\" x=\"-3\" y=\"-3\"/><text class=\"lab\" transform=\"translate(0 11)\">2</text></g><path class=\"edge\" d=\"M 0 0 V -46.1357 H -20.8\"/><circle class=\"sym\" cx=\"0\" cy=\"0\" r=\"3\"/><text class=\"lab rgt\" transform=\"translate(3 -7.0)\">5</text></g><circle class=\"sym\" cx=\"0\" cy=\"0\" r=\"3\"/><text class=\"lab\" transform=\"translate(0 -11)\">6</text></g></g></g></g></g></svg>"
      ],
      "text/plain": [
       "<IPython.core.display.SVG object>"
      ]
     },
     "execution_count": 6,
     "metadata": {
      "filenames": {
       "image/svg+xml": "/home/runner/work/tskit-site/tskit-site/docs/_build/jupyter_execute/ancestry_10_0.svg"
      }
     },
     "output_type": "execute_result"
    }
   ],
   "source": [
    "ts = msprime.sim_ancestry(\n",
    "    samples = [\n",
    "        msprime.SampleSet(1),\n",
    "        msprime.SampleSet(1, time=50)\n",
    "    ],\n",
    "    population_size=100,\n",
    "    random_seed=42\n",
    ")\n",
    "SVG(ts.draw_svg(y_axis=True))"
   ]
  },
  {
   "cell_type": "markdown",
   "id": "956694e9",
   "metadata": {},
   "source": [
    ":::{seealso}\n",
    "See the {ref}`sec_ancestry_event_order` section for details\n",
    "of the relative order in which sampling events occur.\n",
    ":::\n",
    "\n",
    "(sec_ancestry_samples_sampling_details)=\n",
    "\n",
    "### Sample details\n",
    "\n",
    "Sample individuals and nodes are allocated sequentially in the order that\n",
    "they are specified. For example:"
   ]
  },
  {
   "cell_type": "code",
   "execution_count": 7,
   "id": "00c72c62",
   "metadata": {},
   "outputs": [
    {
     "name": "stdout",
     "output_type": "stream",
     "text": [
      "id\tflags\tlocation\tparents\tmetadata\n",
      "0\t0\t\t\t\n",
      "1\t0\t\t\t\n",
      "2\t0\t\t\t\n",
      "id\tflags\tpopulation\tindividual\ttime\tmetadata\n",
      "0\t1\t1\t0\t0.00000000000000\t\n",
      "1\t1\t1\t0\t0.00000000000000\t\n",
      "2\t1\t0\t1\t0.00000000000000\t\n",
      "3\t1\t0\t1\t0.00000000000000\t\n",
      "4\t1\t0\t2\t0.00000000000000\t\n",
      "5\t1\t0\t2\t0.00000000000000\t\n"
     ]
    }
   ],
   "source": [
    "demography = msprime.Demography.island_model([10, 10], migration_rate=1)\n",
    "ts = msprime.sim_ancestry(\n",
    "    samples=[\n",
    "        msprime.SampleSet(1, population=1),\n",
    "        msprime.SampleSet(2, population=0)],\n",
    "    demography=demography,\n",
    "    end_time=0)\n",
    "print(ts.tables.individuals)\n",
    "print(ts.tables.nodes)"
   ]
  },
  {
   "cell_type": "markdown",
   "id": "234cf560",
   "metadata": {},
   "source": [
    "(Because we're only interested in the sampled nodes and individuals we\n",
    "stopped the simulation from actually doing anything by setting\n",
    "`end_time=0` --- see the {ref}`sec_ancestry_start_time` section\n",
    "for more information.) Here we define three sample individuals,\n",
    "and we therefore have three rows in the individual table.\n",
    "Because these are diploid individuals, the node table contains\n",
    "six sample nodes. If we look at the `individual` column in the\n",
    "node table we can see that the first two nodes correspond to individual\n",
    "`0`, the next two nodes individual `1`, etc. The sample configuration\n",
    "stated that the first sample should come from population `1` and\n",
    "the other two from population `0`, and we can see this reflected\n",
    "in the `population` column of the node table. (Somewhat confusingly,\n",
    "population values are associated with nodes rather than individuals;\n",
    "this is mostly for historical reasons.)\n",
    "\n",
    "The {class}`.SampleSet` class has a number of attributes which default\n",
    "to `None`. If these are set they will **override** the values\n",
    "which might be specified elsewhere. For example, we can specify\n",
    "mixed ploidy samples via the `ploidy` attribute of {class}`.SampleSet`:"
   ]
  },
  {
   "cell_type": "code",
   "execution_count": 8,
   "id": "c7161334",
   "metadata": {},
   "outputs": [
    {
     "name": "stdout",
     "output_type": "stream",
     "text": [
      "id\tflags\tlocation\tparents\tmetadata\n",
      "0\t0\t\t\t\n",
      "1\t0\t\t\t\n",
      "2\t0\t\t\t\n",
      "id\tflags\tpopulation\tindividual\ttime\tmetadata\n",
      "0\t1\t0\t0\t0.00000000000000\t\n",
      "1\t1\t0\t0\t0.00000000000000\t\n",
      "2\t1\t0\t0\t0.00000000000000\t\n",
      "3\t1\t0\t1\t0.00000000000000\t\n",
      "4\t1\t0\t2\t0.00000000000000\t\n"
     ]
    }
   ],
   "source": [
    "ts = msprime.sim_ancestry(\n",
    "    samples=[\n",
    "        msprime.SampleSet(1, ploidy=3),\n",
    "        msprime.SampleSet(2)],\n",
    "    ploidy=1,\n",
    "    end_time=0)\n",
    "print(ts.tables.individuals)\n",
    "print(ts.tables.nodes)"
   ]
  },
  {
   "cell_type": "markdown",
   "id": "ec1c3e35",
   "metadata": {},
   "source": [
    "(Again, we stop the simulation immediately because we're only interested\n",
    "in the initial samples.) Here we have three sampled individuals again\n",
    "but in this they are mixed ploidy: the first individual is triploid\n",
    "and the other two are haploid.\n",
    "\n",
    ":::{warning}\n",
    "It is vital to note that setting the `ploidy` value\n",
    "of {class}`.SampleSet` objects only affects sampling and does\n",
    "not affect the actual simulation. In this case, the simulation\n",
    "will be run on the haploid time scale.  See the\n",
    "{ref}`sec_ancestry_ploidy` section for more details.\n",
    ":::\n",
    "\n",
    "If you wish to set up the node and individual IDs in some other way,\n",
    "it is possible to do so by using the ``initial_state`` parameter.\n",
    "See the  {ref}`sec_ancestry_initial_state` for more information\n",
    "on how to use this (advanced) feature.\n",
    "\n",
    "(sec_ancestry_demography)=\n",
    "## Demography\n",
    "\n",
    "A {ref}`demographic model<sec_demography>` is a description of a\n",
    "set of populations, the migration rates between then and the\n",
    "events that modify the populations over time. Ancestry simulations\n",
    "can take one of these models as input via the ``demography``\n",
    "parameter to {func}`.sim_ancestry`.\n",
    "\n",
    ":::{seealso}\n",
    "Please see the {ref}`sec_demography` section for details on how\n",
    "to create and debug demographic models, and the\n",
    "{ref}`sec_ancestry_samples` section for help on how to\n",
    "define the locations and times of sampled individuals.\n",
    ":::\n",
    "\n",
    "We don't need to explicitly specify a {class}`.Demography`\n",
    "for every ancestry simulation, however. By default, we assume a\n",
    "single fixed-size population. For the default\n",
    "{ref}`standard coalescent<sec_ancestry_models_hudson>` ancestry\n",
    "model we assume a population size of 1, so that time is measured\n",
    "in \"coalescent units\". This is useful for theoretical work where\n",
    "we usually work in scaled coalescent time.\n",
    "\n",
    ":::{important}\n",
    "By default msprime uses the **diploid** coalescent time scale;\n",
    "see the {ref}`sec_ancestry_ploidy` section for more details.\n",
    ":::\n",
    "\n",
    "Outside of theoretical analysis, working with scaled\n",
    "coalescent time can be confusing and it's usually better to\n",
    "explicitly set the population size so that the output\n",
    "times are directly interpretable in generations.\n",
    "The ``population_size`` parameter to {func}`.sim_ancestry`\n",
    "allows us to set the size of the single constant\n",
    "sized population in the default demography.\n",
    "\n",
    "For example, here we run the same simulation twice, one with\n",
    "the default population size and one with a population size\n",
    "of 100:"
   ]
  },
  {
   "cell_type": "code",
   "execution_count": 9,
   "id": "ed18dd65",
   "metadata": {},
   "outputs": [
    {
     "data": {
      "image/svg+xml": [
       "<svg xmlns=\"http://www.w3.org/2000/svg\" xmlns:ev=\"http://www.w3.org/2001/xml-events\" xmlns:xlink=\"http://www.w3.org/1999/xlink\" baseProfile=\"full\" height=\"200\" version=\"1.1\" width=\"200\"><defs><style type=\"text/css\"><![CDATA[.tree-sequence .background path {fill: #808080; fill-opacity:0}.tree-sequence .background path:nth-child(odd) {fill-opacity:.1}.axes {font-size: 14px}.x-axis .tick .lab {font-weight: bold}.axes, .tree {font-size: 14px; text-anchor:middle}.y-axis line.grid {stroke: #FAFAFA}.y-axis > .lab text {transform: translateX(0.8em) rotate(-90deg)}.x-axis .tick g {transform: translateY(0.9em)}.x-axis > .lab text {transform: translateY(-0.8em)}.axes line, .edge {stroke:black; fill:none}.node > .sym {fill: black; stroke: none}.site > .sym {stroke: black}.mut text {fill: red; font-style: italic}.mut line {fill: none; stroke: none}.mut .sym {fill: none; stroke: red}.node .mut .sym {stroke-width: 1.5px}.tree text, .tree-sequence text {dominant-baseline: central}.plotbox .lab.lft {text-anchor: end}.plotbox .lab.rgt {text-anchor: start}]]></style></defs><g class=\"tree-sequence\"><g class=\"background\"><path d=\"M56.8,0 l123.2,0 l0,138.2 l0,25 l0,5 l-123.2,0 l0,-5 l0,-25 l0,-138.2z\"/></g><g class=\"axes\"><g class=\"x-axis\"><g class=\"lab\" transform=\"translate(118.4,200)\"><text text-anchor=\"middle\">Genome position</text></g><line x1=\"56.8\" x2=\"180\" y1=\"163.2\" y2=\"163.2\"/><g class=\"tick\" transform=\"translate(56.8 163.2)\"><line x1=\"0\" x2=\"0\" y1=\"0\" y2=\"5\"/><g class=\"lab\" transform=\"translate(0,5)\"><text>0</text></g></g><g class=\"tick\" transform=\"translate(180 163.2)\"><line x1=\"0\" x2=\"0\" y1=\"0\" y2=\"5\"/><g class=\"lab\" transform=\"translate(0,5)\"><text>1</text></g></g></g><g class=\"y-axis\"><g class=\"lab\" transform=\"translate(0,65.7)\"><text text-anchor=\"middle\">Time</text></g><line x1=\"56.8\" x2=\"56.8\" y1=\"121.4\" y2=\"10\"/><g class=\"tick\" transform=\"translate(56.8 121.4)\"><line x1=\"0\" x2=\"-5\" y1=\"0\" y2=\"0\"/><g class=\"lab\" transform=\"translate(-5,0)\"><text text-anchor=\"end\">0.00</text></g></g><g class=\"tick\" transform=\"translate(56.8 119.835)\"><line x1=\"0\" x2=\"-5\" y1=\"0\" y2=\"0\"/><g class=\"lab\" transform=\"translate(-5,0)\"><text text-anchor=\"end\">0.07</text></g></g><g class=\"tick\" transform=\"translate(56.8 94.7646)\"><line x1=\"0\" x2=\"-5\" y1=\"0\" y2=\"0\"/><g class=\"lab\" transform=\"translate(-5,0)\"><text text-anchor=\"end\">1.21</text></g></g><g class=\"tick\" transform=\"translate(56.8 26.8)\"><line x1=\"0\" x2=\"-5\" y1=\"0\" y2=\"0\"/><g class=\"lab\" transform=\"translate(-5,0)\"><text text-anchor=\"end\">4.28</text></g></g></g></g><g class=\"plotbox trees\"><g class=\"tree t0\" transform=\"translate(56.8 0)\"><g class=\"plotbox\"><g class=\"node n6 p0 root\" transform=\"translate(61.6 26.8)\"><g class=\"a6 node n4 p0\" transform=\"translate(20.8 93.035)\"><g class=\"a4 i0 leaf node n1 p0 sample\" transform=\"translate(-10.4 1.565)\"><path class=\"edge\" d=\"M 0 0 V -1.565 H 10.4\"/><rect class=\"sym\" height=\"6\" width=\"6\" x=\"-3\" y=\"-3\"/><text class=\"lab\" transform=\"translate(0 11)\">1</text></g><g class=\"a4 i1 leaf node n2 p0 sample\" transform=\"translate(10.4 1.565)\"><path class=\"edge\" d=\"M 0 0 V -1.565 H -10.4\"/><rect class=\"sym\" height=\"6\" width=\"6\" x=\"-3\" y=\"-3\"/><text class=\"lab\" transform=\"translate(0 11)\">2</text></g><path class=\"edge\" d=\"M 0 0 V -93.035 H -20.8\"/><circle class=\"sym\" cx=\"0\" cy=\"0\" r=\"3\"/><text class=\"lab rgt\" transform=\"translate(3 -7.0)\">4</text></g><g class=\"a6 node n5 p0\" transform=\"translate(-20.8 67.9646)\"><g class=\"a5 i0 leaf node n0 p0 sample\" transform=\"translate(-10.4 26.6354)\"><path class=\"edge\" d=\"M 0 0 V -26.6354 H 10.4\"/><rect class=\"sym\" height=\"6\" width=\"6\" x=\"-3\" y=\"-3\"/><text class=\"lab\" transform=\"translate(0 11)\">0</text></g><g class=\"a5 i1 leaf node n3 p0 sample\" transform=\"translate(10.4 26.6354)\"><path class=\"edge\" d=\"M 0 0 V -26.6354 H -10.4\"/><rect class=\"sym\" height=\"6\" width=\"6\" x=\"-3\" y=\"-3\"/><text class=\"lab\" transform=\"translate(0 11)\">3</text></g><path class=\"edge\" d=\"M 0 0 V -67.9646 H 20.8\"/><circle class=\"sym\" cx=\"0\" cy=\"0\" r=\"3\"/><text class=\"lab lft\" transform=\"translate(-3 -7.0)\">5</text></g><circle class=\"sym\" cx=\"0\" cy=\"0\" r=\"3\"/><text class=\"lab\" transform=\"translate(0 -11)\">6</text></g></g></g></g></g></svg>"
      ],
      "text/plain": [
       "<IPython.core.display.SVG object>"
      ]
     },
     "execution_count": 9,
     "metadata": {
      "filenames": {
       "image/svg+xml": "/home/runner/work/tskit-site/tskit-site/docs/_build/jupyter_execute/ancestry_16_0.svg"
      }
     },
     "output_type": "execute_result"
    }
   ],
   "source": [
    "ts = msprime.sim_ancestry(2, random_seed=1234)\n",
    "SVG(ts.draw_svg(y_axis=True))"
   ]
  },
  {
   "cell_type": "code",
   "execution_count": 10,
   "id": "a25912b1",
   "metadata": {},
   "outputs": [
    {
     "data": {
      "image/svg+xml": [
       "<svg xmlns=\"http://www.w3.org/2000/svg\" xmlns:ev=\"http://www.w3.org/2001/xml-events\" xmlns:xlink=\"http://www.w3.org/1999/xlink\" baseProfile=\"full\" height=\"200\" version=\"1.1\" width=\"200\"><defs><style type=\"text/css\"><![CDATA[.tree-sequence .background path {fill: #808080; fill-opacity:0}.tree-sequence .background path:nth-child(odd) {fill-opacity:.1}.axes {font-size: 14px}.x-axis .tick .lab {font-weight: bold}.axes, .tree {font-size: 14px; text-anchor:middle}.y-axis line.grid {stroke: #FAFAFA}.y-axis > .lab text {transform: translateX(0.8em) rotate(-90deg)}.x-axis .tick g {transform: translateY(0.9em)}.x-axis > .lab text {transform: translateY(-0.8em)}.axes line, .edge {stroke:black; fill:none}.node > .sym {fill: black; stroke: none}.site > .sym {stroke: black}.mut text {fill: red; font-style: italic}.mut line {fill: none; stroke: none}.mut .sym {fill: none; stroke: red}.node .mut .sym {stroke-width: 1.5px}.tree text, .tree-sequence text {dominant-baseline: central}.plotbox .lab.lft {text-anchor: end}.plotbox .lab.rgt {text-anchor: start}]]></style></defs><g class=\"tree-sequence\"><g class=\"background\"><path d=\"M56.8,0 l123.2,0 l0,138.2 l0,25 l0,5 l-123.2,0 l0,-5 l0,-25 l0,-138.2z\"/></g><g class=\"axes\"><g class=\"x-axis\"><g class=\"lab\" transform=\"translate(118.4,200)\"><text text-anchor=\"middle\">Genome position</text></g><line x1=\"56.8\" x2=\"180\" y1=\"163.2\" y2=\"163.2\"/><g class=\"tick\" transform=\"translate(56.8 163.2)\"><line x1=\"0\" x2=\"0\" y1=\"0\" y2=\"5\"/><g class=\"lab\" transform=\"translate(0,5)\"><text>0</text></g></g><g class=\"tick\" transform=\"translate(180 163.2)\"><line x1=\"0\" x2=\"0\" y1=\"0\" y2=\"5\"/><g class=\"lab\" transform=\"translate(0,5)\"><text>1</text></g></g></g><g class=\"y-axis\"><g class=\"lab\" transform=\"translate(0,65.7)\"><text text-anchor=\"middle\">Time</text></g><line x1=\"56.8\" x2=\"56.8\" y1=\"121.4\" y2=\"10\"/><g class=\"tick\" transform=\"translate(56.8 121.4)\"><line x1=\"0\" x2=\"-5\" y1=\"0\" y2=\"0\"/><g class=\"lab\" transform=\"translate(-5,0)\"><text text-anchor=\"end\">0.00</text></g></g><g class=\"tick\" transform=\"translate(56.8 119.835)\"><line x1=\"0\" x2=\"-5\" y1=\"0\" y2=\"0\"/><g class=\"lab\" transform=\"translate(-5,0)\"><text text-anchor=\"end\">7.09</text></g></g><g class=\"tick\" transform=\"translate(56.8 94.7646)\"><line x1=\"0\" x2=\"-5\" y1=\"0\" y2=\"0\"/><g class=\"lab\" transform=\"translate(-5,0)\"><text text-anchor=\"end\">120.61</text></g></g><g class=\"tick\" transform=\"translate(56.8 26.8)\"><line x1=\"0\" x2=\"-5\" y1=\"0\" y2=\"0\"/><g class=\"lab\" transform=\"translate(-5,0)\"><text text-anchor=\"end\">428.37</text></g></g></g></g><g class=\"plotbox trees\"><g class=\"tree t0\" transform=\"translate(56.8 0)\"><g class=\"plotbox\"><g class=\"node n6 p0 root\" transform=\"translate(61.6 26.8)\"><g class=\"a6 node n4 p0\" transform=\"translate(20.8 93.035)\"><g class=\"a4 i0 leaf node n1 p0 sample\" transform=\"translate(-10.4 1.565)\"><path class=\"edge\" d=\"M 0 0 V -1.565 H 10.4\"/><rect class=\"sym\" height=\"6\" width=\"6\" x=\"-3\" y=\"-3\"/><text class=\"lab\" transform=\"translate(0 11)\">1</text></g><g class=\"a4 i1 leaf node n2 p0 sample\" transform=\"translate(10.4 1.565)\"><path class=\"edge\" d=\"M 0 0 V -1.565 H -10.4\"/><rect class=\"sym\" height=\"6\" width=\"6\" x=\"-3\" y=\"-3\"/><text class=\"lab\" transform=\"translate(0 11)\">2</text></g><path class=\"edge\" d=\"M 0 0 V -93.035 H -20.8\"/><circle class=\"sym\" cx=\"0\" cy=\"0\" r=\"3\"/><text class=\"lab rgt\" transform=\"translate(3 -7.0)\">4</text></g><g class=\"a6 node n5 p0\" transform=\"translate(-20.8 67.9646)\"><g class=\"a5 i0 leaf node n0 p0 sample\" transform=\"translate(-10.4 26.6354)\"><path class=\"edge\" d=\"M 0 0 V -26.6354 H 10.4\"/><rect class=\"sym\" height=\"6\" width=\"6\" x=\"-3\" y=\"-3\"/><text class=\"lab\" transform=\"translate(0 11)\">0</text></g><g class=\"a5 i1 leaf node n3 p0 sample\" transform=\"translate(10.4 26.6354)\"><path class=\"edge\" d=\"M 0 0 V -26.6354 H -10.4\"/><rect class=\"sym\" height=\"6\" width=\"6\" x=\"-3\" y=\"-3\"/><text class=\"lab\" transform=\"translate(0 11)\">3</text></g><path class=\"edge\" d=\"M 0 0 V -67.9646 H 20.8\"/><circle class=\"sym\" cx=\"0\" cy=\"0\" r=\"3\"/><text class=\"lab lft\" transform=\"translate(-3 -7.0)\">5</text></g><circle class=\"sym\" cx=\"0\" cy=\"0\" r=\"3\"/><text class=\"lab\" transform=\"translate(0 -11)\">6</text></g></g></g></g></g></svg>"
      ],
      "text/plain": [
       "<IPython.core.display.SVG object>"
      ]
     },
     "execution_count": 10,
     "metadata": {
      "filenames": {
       "image/svg+xml": "/home/runner/work/tskit-site/tskit-site/docs/_build/jupyter_execute/ancestry_17_0.svg"
      }
     },
     "output_type": "execute_result"
    }
   ],
   "source": [
    "ts = msprime.sim_ancestry(2, population_size=100, random_seed=1234)\n",
    "SVG(ts.draw_svg(y_axis=True))"
   ]
  },
  {
   "cell_type": "markdown",
   "id": "a0a4380a",
   "metadata": {},
   "source": [
    "We can see that the results are identical, except the node times have\n",
    "been scaled by the population size.\n",
    "\n",
    "The {ref}`sec_ancestry_models_dtwf` model is different. Because it\n",
    "explicitly works with a population of N individuals we get an\n",
    "error if we don't specify a population size:"
   ]
  },
  {
   "cell_type": "code",
   "execution_count": 11,
   "id": "54f088c8",
   "metadata": {
    "tags": [
     "raises-exception"
    ]
   },
   "outputs": [
    {
     "ename": "ValueError",
     "evalue": "When using the DTWF model, the population size must be set explicitly, either using the population_size or demography arguments.",
     "output_type": "error",
     "traceback": [
      "\u001b[0;31m---------------------------------------------------------------------------\u001b[0m",
      "\u001b[0;31mValueError\u001b[0m                                Traceback (most recent call last)",
      "\u001b[0;32m<ipython-input-11-3cbdc35a974a>\u001b[0m in \u001b[0;36m<module>\u001b[0;34m\u001b[0m\n\u001b[0;32m----> 1\u001b[0;31m \u001b[0mmsprime\u001b[0m\u001b[0;34m.\u001b[0m\u001b[0msim_ancestry\u001b[0m\u001b[0;34m(\u001b[0m\u001b[0;36m2\u001b[0m\u001b[0;34m,\u001b[0m \u001b[0mmodel\u001b[0m\u001b[0;34m=\u001b[0m\u001b[0;34m\"dtwf\"\u001b[0m\u001b[0;34m,\u001b[0m \u001b[0mrandom_seed\u001b[0m\u001b[0;34m=\u001b[0m\u001b[0;36m1234\u001b[0m\u001b[0;34m)\u001b[0m\u001b[0;34m\u001b[0m\u001b[0;34m\u001b[0m\u001b[0m\n\u001b[0m",
      "\u001b[0;32m~/work/tskit-site/tskit-site/msprime/ancestry.py\u001b[0m in \u001b[0;36msim_ancestry\u001b[0;34m(samples, demography, sequence_length, discrete_genome, recombination_rate, gene_conversion_rate, gene_conversion_tract_length, population_size, ploidy, model, initial_state, start_time, end_time, record_migrations, record_full_arg, num_labels, random_seed, num_replicates, replicate_index, record_provenance)\u001b[0m\n\u001b[1;32m   1145\u001b[0m         \u001b[0mframe\u001b[0m \u001b[0;34m=\u001b[0m \u001b[0minspect\u001b[0m\u001b[0;34m.\u001b[0m\u001b[0mcurrentframe\u001b[0m\u001b[0;34m(\u001b[0m\u001b[0;34m)\u001b[0m\u001b[0;34m\u001b[0m\u001b[0;34m\u001b[0m\u001b[0m\n\u001b[1;32m   1146\u001b[0m         \u001b[0mprovenance_dict\u001b[0m \u001b[0;34m=\u001b[0m \u001b[0m_build_provenance\u001b[0m\u001b[0;34m(\u001b[0m\u001b[0;34m\"sim_ancestry\"\u001b[0m\u001b[0;34m,\u001b[0m \u001b[0mrandom_seed\u001b[0m\u001b[0;34m,\u001b[0m \u001b[0mframe\u001b[0m\u001b[0;34m)\u001b[0m\u001b[0;34m\u001b[0m\u001b[0;34m\u001b[0m\u001b[0m\n\u001b[0;32m-> 1147\u001b[0;31m     sim = _parse_sim_ancestry(\n\u001b[0m\u001b[1;32m   1148\u001b[0m         \u001b[0msamples\u001b[0m\u001b[0;34m=\u001b[0m\u001b[0msamples\u001b[0m\u001b[0;34m,\u001b[0m\u001b[0;34m\u001b[0m\u001b[0;34m\u001b[0m\u001b[0m\n\u001b[1;32m   1149\u001b[0m         \u001b[0msequence_length\u001b[0m\u001b[0;34m=\u001b[0m\u001b[0msequence_length\u001b[0m\u001b[0;34m,\u001b[0m\u001b[0;34m\u001b[0m\u001b[0;34m\u001b[0m\u001b[0m\n",
      "\u001b[0;32m~/work/tskit-site/tskit-site/msprime/ancestry.py\u001b[0m in \u001b[0;36m_parse_sim_ancestry\u001b[0;34m(samples, sequence_length, recombination_rate, gene_conversion_rate, gene_conversion_tract_length, discrete_genome, population_size, demography, ploidy, model, initial_state, start_time, end_time, record_migrations, record_full_arg, num_labels, random_seed, init_for_debugger)\u001b[0m\n\u001b[1;32m    898\u001b[0m             \u001b[0;31m# an error.\u001b[0m\u001b[0;34m\u001b[0m\u001b[0;34m\u001b[0m\u001b[0;34m\u001b[0m\u001b[0m\n\u001b[1;32m    899\u001b[0m             \u001b[0;32mif\u001b[0m \u001b[0mpopulation_size\u001b[0m \u001b[0;32mis\u001b[0m \u001b[0;32mNone\u001b[0m\u001b[0;34m:\u001b[0m\u001b[0;34m\u001b[0m\u001b[0;34m\u001b[0m\u001b[0m\n\u001b[0;32m--> 900\u001b[0;31m                 raise ValueError(\n\u001b[0m\u001b[1;32m    901\u001b[0m                     \u001b[0;34m\"When using the DTWF model, the population size must be set \"\u001b[0m\u001b[0;34m\u001b[0m\u001b[0;34m\u001b[0m\u001b[0m\n\u001b[1;32m    902\u001b[0m                     \u001b[0;34m\"explicitly, either using the population_size or demography \"\u001b[0m\u001b[0;34m\u001b[0m\u001b[0;34m\u001b[0m\u001b[0m\n",
      "\u001b[0;31mValueError\u001b[0m: When using the DTWF model, the population size must be set explicitly, either using the population_size or demography arguments."
     ]
    }
   ],
   "source": [
    "msprime.sim_ancestry(2, model=\"dtwf\", random_seed=1234)"
   ]
  },
  {
   "cell_type": "markdown",
   "id": "99443d31",
   "metadata": {},
   "source": [
    ":::{note}\n",
    "Because the DTWF models populations of individuals rather than\n",
    "using continuous\n",
    "time approximations, simulations with different population sizes\n",
    "will yield entirely different results; we are **not** simply\n",
    "rescaling time by using different population sizes. Furthermore,\n",
    "simulations with large population sizes will take relatively\n",
    "more CPU time and memory.\n",
    ":::\n",
    "\n",
    "---\n",
    "\n",
    "(sec_ancestry_ploidy)=\n",
    "## Ploidy\n",
    "\n",
    "The ``ploidy`` argument to {func}`.sim_ancestry` has two effects:\n",
    "\n",
    "1. It sets the default ploidy (i.e., number sample nodes) of sample\n",
    "individuals.\n",
    "2. For continuous time coalescent models, it sets the time scale.\n",
    "\n",
    "Both of these are somewhat confusing, so let's look at them one at a time.\n",
    "\n",
    "(sec_ancestry_ploidy_default_num_nodes)=\n",
    "\n",
    "### Default number of nodes per sample individual\n",
    "\n",
    "As discussed in the {ref}`sec_ancestry_samples_sampling_details` section,\n",
    "the number of nodes (i.e., monoploid genomes) that we allocate per\n",
    "sample individual is determined by the ploidy. Here, we specify\n",
    "2 sample individuals with a ploidy of 3:"
   ]
  },
  {
   "cell_type": "code",
   "execution_count": 12,
   "id": "451074a6",
   "metadata": {},
   "outputs": [
    {
     "name": "stdout",
     "output_type": "stream",
     "text": [
      "id\tflags\tlocation\tparents\tmetadata\n",
      "0\t0\t\t\t\n",
      "1\t0\t\t\t\n",
      "id\tflags\tpopulation\tindividual\ttime\tmetadata\n",
      "0\t1\t0\t0\t0.00000000000000\t\n",
      "1\t1\t0\t0\t0.00000000000000\t\n",
      "2\t1\t0\t0\t0.00000000000000\t\n",
      "3\t1\t0\t1\t0.00000000000000\t\n",
      "4\t1\t0\t1\t0.00000000000000\t\n",
      "5\t1\t0\t1\t0.00000000000000\t\n"
     ]
    }
   ],
   "source": [
    "ts = msprime.sim_ancestry(samples=2, ploidy=3, end_time=0)\n",
    "print(ts.tables.individuals)\n",
    "print(ts.tables.nodes)"
   ]
  },
  {
   "cell_type": "markdown",
   "id": "3f18cbd7",
   "metadata": {},
   "source": [
    ":::{note}\n",
    "Because we're only interested in the initial conditions here we\n",
    "set the ``end_time`` to zero: see the {ref}`sec_ancestry_start_time`\n",
    "section for more details.\n",
    ":::\n",
    "\n",
    "Our individual table has two rows (the number of ``samples``)\n",
    "and node table has 6 rows: three for each of the sampled\n",
    "individuals.\n",
    "\n",
    "Note that this is the **default**, and can be overridden by the\n",
    "{attr}`.SampleSet.ploidy` value, as described in the\n",
    "{ref}`sec_ancestry_samples_sampling_details` section.\n",
    "\n",
    "(sec_ancestry_ploidy_coalescent_time_scales)=\n",
    "\n",
    "### Coalescent time scales\n",
    "\n",
    "The ploidy argument also\n",
    "affects the time scale on which coalescence occurs,\n",
    "since it affects the total number of genomes in the population\n",
    "(see also {ref}`population size<sec_ancestry_demography>`).\n",
    "For example, consider the following two simulations, which\n",
    "are identical except for different ``ploidy`` values\n",
    "(note we use the {class}`.SampleSet` object to make\n",
    "sure we allocate the same number of **nodes**, as discussed\n",
    "in the {ref}`sec_ancestry_ploidy_default_num_nodes` section):"
   ]
  },
  {
   "cell_type": "code",
   "execution_count": 13,
   "id": "f3310c4c",
   "metadata": {},
   "outputs": [
    {
     "data": {
      "image/svg+xml": [
       "<svg xmlns=\"http://www.w3.org/2000/svg\" xmlns:ev=\"http://www.w3.org/2001/xml-events\" xmlns:xlink=\"http://www.w3.org/1999/xlink\" baseProfile=\"full\" height=\"200\" version=\"1.1\" width=\"200\"><defs><style type=\"text/css\"><![CDATA[.tree-sequence .background path {fill: #808080; fill-opacity:0}.tree-sequence .background path:nth-child(odd) {fill-opacity:.1}.axes {font-size: 14px}.x-axis .tick .lab {font-weight: bold}.axes, .tree {font-size: 14px; text-anchor:middle}.y-axis line.grid {stroke: #FAFAFA}.y-axis > .lab text {transform: translateX(0.8em) rotate(-90deg)}.x-axis .tick g {transform: translateY(0.9em)}.x-axis > .lab text {transform: translateY(-0.8em)}.axes line, .edge {stroke:black; fill:none}.node > .sym {fill: black; stroke: none}.site > .sym {stroke: black}.mut text {fill: red; font-style: italic}.mut line {fill: none; stroke: none}.mut .sym {fill: none; stroke: red}.node .mut .sym {stroke-width: 1.5px}.tree text, .tree-sequence text {dominant-baseline: central}.plotbox .lab.lft {text-anchor: end}.plotbox .lab.rgt {text-anchor: start}]]></style></defs><g class=\"tree-sequence\"><g class=\"background\"><path d=\"M56.8,0 l123.2,0 l0,138.2 l0,25 l0,5 l-123.2,0 l0,-5 l0,-25 l0,-138.2z\"/></g><g class=\"axes\"><g class=\"x-axis\"><g class=\"lab\" transform=\"translate(118.4,200)\"><text text-anchor=\"middle\">Genome position</text></g><line x1=\"56.8\" x2=\"180\" y1=\"163.2\" y2=\"163.2\"/><g class=\"tick\" transform=\"translate(56.8 163.2)\"><line x1=\"0\" x2=\"0\" y1=\"0\" y2=\"5\"/><g class=\"lab\" transform=\"translate(0,5)\"><text>0</text></g></g><g class=\"tick\" transform=\"translate(180 163.2)\"><line x1=\"0\" x2=\"0\" y1=\"0\" y2=\"5\"/><g class=\"lab\" transform=\"translate(0,5)\"><text>1</text></g></g></g><g class=\"y-axis\"><g class=\"lab\" transform=\"translate(0,65.7)\"><text text-anchor=\"middle\">Time</text></g><line x1=\"56.8\" x2=\"56.8\" y1=\"121.4\" y2=\"10\"/><g class=\"tick\" transform=\"translate(56.8 121.4)\"><line x1=\"0\" x2=\"-5\" y1=\"0\" y2=\"0\"/><g class=\"lab\" transform=\"translate(-5,0)\"><text text-anchor=\"end\">0.00</text></g></g><g class=\"tick\" transform=\"translate(56.8 119.835)\"><line x1=\"0\" x2=\"-5\" y1=\"0\" y2=\"0\"/><g class=\"lab\" transform=\"translate(-5,0)\"><text text-anchor=\"end\">0.04</text></g></g><g class=\"tick\" transform=\"translate(56.8 94.7646)\"><line x1=\"0\" x2=\"-5\" y1=\"0\" y2=\"0\"/><g class=\"lab\" transform=\"translate(-5,0)\"><text text-anchor=\"end\">0.60</text></g></g><g class=\"tick\" transform=\"translate(56.8 26.8)\"><line x1=\"0\" x2=\"-5\" y1=\"0\" y2=\"0\"/><g class=\"lab\" transform=\"translate(-5,0)\"><text text-anchor=\"end\">2.14</text></g></g></g></g><g class=\"plotbox trees\"><g class=\"tree t0\" transform=\"translate(56.8 0)\"><g class=\"plotbox\"><g class=\"node n6 p0 root\" transform=\"translate(61.6 26.8)\"><g class=\"a6 node n4 p0\" transform=\"translate(20.8 93.035)\"><g class=\"a4 i1 leaf node n1 p0 sample\" transform=\"translate(-10.4 1.565)\"><path class=\"edge\" d=\"M 0 0 V -1.565 H 10.4\"/><rect class=\"sym\" height=\"6\" width=\"6\" x=\"-3\" y=\"-3\"/><text class=\"lab\" transform=\"translate(0 11)\">1</text></g><g class=\"a4 i2 leaf node n2 p0 sample\" transform=\"translate(10.4 1.565)\"><path class=\"edge\" d=\"M 0 0 V -1.565 H -10.4\"/><rect class=\"sym\" height=\"6\" width=\"6\" x=\"-3\" y=\"-3\"/><text class=\"lab\" transform=\"translate(0 11)\">2</text></g><path class=\"edge\" d=\"M 0 0 V -93.035 H -20.8\"/><circle class=\"sym\" cx=\"0\" cy=\"0\" r=\"3\"/><text class=\"lab rgt\" transform=\"translate(3 -7.0)\">4</text></g><g class=\"a6 node n5 p0\" transform=\"translate(-20.8 67.9646)\"><g class=\"a5 i0 leaf node n0 p0 sample\" transform=\"translate(-10.4 26.6354)\"><path class=\"edge\" d=\"M 0 0 V -26.6354 H 10.4\"/><rect class=\"sym\" height=\"6\" width=\"6\" x=\"-3\" y=\"-3\"/><text class=\"lab\" transform=\"translate(0 11)\">0</text></g><g class=\"a5 i3 leaf node n3 p0 sample\" transform=\"translate(10.4 26.6354)\"><path class=\"edge\" d=\"M 0 0 V -26.6354 H -10.4\"/><rect class=\"sym\" height=\"6\" width=\"6\" x=\"-3\" y=\"-3\"/><text class=\"lab\" transform=\"translate(0 11)\">3</text></g><path class=\"edge\" d=\"M 0 0 V -67.9646 H 20.8\"/><circle class=\"sym\" cx=\"0\" cy=\"0\" r=\"3\"/><text class=\"lab lft\" transform=\"translate(-3 -7.0)\">5</text></g><circle class=\"sym\" cx=\"0\" cy=\"0\" r=\"3\"/><text class=\"lab\" transform=\"translate(0 -11)\">6</text></g></g></g></g></g></svg>"
      ],
      "text/plain": [
       "<IPython.core.display.SVG object>"
      ]
     },
     "execution_count": 13,
     "metadata": {
      "filenames": {
       "image/svg+xml": "/home/runner/work/tskit-site/tskit-site/docs/_build/jupyter_execute/ancestry_23_0.svg"
      }
     },
     "output_type": "execute_result"
    }
   ],
   "source": [
    "ts = msprime.sim_ancestry(\n",
    "    samples=[msprime.SampleSet(4, ploidy=1)],\n",
    "    population_size=1,\n",
    "    ploidy=1,\n",
    "    random_seed=1234\n",
    ")\n",
    "SVG(ts.draw_svg(y_axis=True))"
   ]
  },
  {
   "cell_type": "code",
   "execution_count": 14,
   "id": "732343eb",
   "metadata": {},
   "outputs": [
    {
     "data": {
      "image/svg+xml": [
       "<svg xmlns=\"http://www.w3.org/2000/svg\" xmlns:ev=\"http://www.w3.org/2001/xml-events\" xmlns:xlink=\"http://www.w3.org/1999/xlink\" baseProfile=\"full\" height=\"200\" version=\"1.1\" width=\"200\"><defs><style type=\"text/css\"><![CDATA[.tree-sequence .background path {fill: #808080; fill-opacity:0}.tree-sequence .background path:nth-child(odd) {fill-opacity:.1}.axes {font-size: 14px}.x-axis .tick .lab {font-weight: bold}.axes, .tree {font-size: 14px; text-anchor:middle}.y-axis line.grid {stroke: #FAFAFA}.y-axis > .lab text {transform: translateX(0.8em) rotate(-90deg)}.x-axis .tick g {transform: translateY(0.9em)}.x-axis > .lab text {transform: translateY(-0.8em)}.axes line, .edge {stroke:black; fill:none}.node > .sym {fill: black; stroke: none}.site > .sym {stroke: black}.mut text {fill: red; font-style: italic}.mut line {fill: none; stroke: none}.mut .sym {fill: none; stroke: red}.node .mut .sym {stroke-width: 1.5px}.tree text, .tree-sequence text {dominant-baseline: central}.plotbox .lab.lft {text-anchor: end}.plotbox .lab.rgt {text-anchor: start}]]></style></defs><g class=\"tree-sequence\"><g class=\"background\"><path d=\"M56.8,0 l123.2,0 l0,138.2 l0,25 l0,5 l-123.2,0 l0,-5 l0,-25 l0,-138.2z\"/></g><g class=\"axes\"><g class=\"x-axis\"><g class=\"lab\" transform=\"translate(118.4,200)\"><text text-anchor=\"middle\">Genome position</text></g><line x1=\"56.8\" x2=\"180\" y1=\"163.2\" y2=\"163.2\"/><g class=\"tick\" transform=\"translate(56.8 163.2)\"><line x1=\"0\" x2=\"0\" y1=\"0\" y2=\"5\"/><g class=\"lab\" transform=\"translate(0,5)\"><text>0</text></g></g><g class=\"tick\" transform=\"translate(180 163.2)\"><line x1=\"0\" x2=\"0\" y1=\"0\" y2=\"5\"/><g class=\"lab\" transform=\"translate(0,5)\"><text>1</text></g></g></g><g class=\"y-axis\"><g class=\"lab\" transform=\"translate(0,65.7)\"><text text-anchor=\"middle\">Time</text></g><line x1=\"56.8\" x2=\"56.8\" y1=\"121.4\" y2=\"10\"/><g class=\"tick\" transform=\"translate(56.8 121.4)\"><line x1=\"0\" x2=\"-5\" y1=\"0\" y2=\"0\"/><g class=\"lab\" transform=\"translate(-5,0)\"><text text-anchor=\"end\">0.00</text></g></g><g class=\"tick\" transform=\"translate(56.8 119.835)\"><line x1=\"0\" x2=\"-5\" y1=\"0\" y2=\"0\"/><g class=\"lab\" transform=\"translate(-5,0)\"><text text-anchor=\"end\">0.07</text></g></g><g class=\"tick\" transform=\"translate(56.8 94.7646)\"><line x1=\"0\" x2=\"-5\" y1=\"0\" y2=\"0\"/><g class=\"lab\" transform=\"translate(-5,0)\"><text text-anchor=\"end\">1.21</text></g></g><g class=\"tick\" transform=\"translate(56.8 26.8)\"><line x1=\"0\" x2=\"-5\" y1=\"0\" y2=\"0\"/><g class=\"lab\" transform=\"translate(-5,0)\"><text text-anchor=\"end\">4.28</text></g></g></g></g><g class=\"plotbox trees\"><g class=\"tree t0\" transform=\"translate(56.8 0)\"><g class=\"plotbox\"><g class=\"node n6 p0 root\" transform=\"translate(61.6 26.8)\"><g class=\"a6 node n4 p0\" transform=\"translate(20.8 93.035)\"><g class=\"a4 i1 leaf node n1 p0 sample\" transform=\"translate(-10.4 1.565)\"><path class=\"edge\" d=\"M 0 0 V -1.565 H 10.4\"/><rect class=\"sym\" height=\"6\" width=\"6\" x=\"-3\" y=\"-3\"/><text class=\"lab\" transform=\"translate(0 11)\">1</text></g><g class=\"a4 i2 leaf node n2 p0 sample\" transform=\"translate(10.4 1.565)\"><path class=\"edge\" d=\"M 0 0 V -1.565 H -10.4\"/><rect class=\"sym\" height=\"6\" width=\"6\" x=\"-3\" y=\"-3\"/><text class=\"lab\" transform=\"translate(0 11)\">2</text></g><path class=\"edge\" d=\"M 0 0 V -93.035 H -20.8\"/><circle class=\"sym\" cx=\"0\" cy=\"0\" r=\"3\"/><text class=\"lab rgt\" transform=\"translate(3 -7.0)\">4</text></g><g class=\"a6 node n5 p0\" transform=\"translate(-20.8 67.9646)\"><g class=\"a5 i0 leaf node n0 p0 sample\" transform=\"translate(-10.4 26.6354)\"><path class=\"edge\" d=\"M 0 0 V -26.6354 H 10.4\"/><rect class=\"sym\" height=\"6\" width=\"6\" x=\"-3\" y=\"-3\"/><text class=\"lab\" transform=\"translate(0 11)\">0</text></g><g class=\"a5 i3 leaf node n3 p0 sample\" transform=\"translate(10.4 26.6354)\"><path class=\"edge\" d=\"M 0 0 V -26.6354 H -10.4\"/><rect class=\"sym\" height=\"6\" width=\"6\" x=\"-3\" y=\"-3\"/><text class=\"lab\" transform=\"translate(0 11)\">3</text></g><path class=\"edge\" d=\"M 0 0 V -67.9646 H 20.8\"/><circle class=\"sym\" cx=\"0\" cy=\"0\" r=\"3\"/><text class=\"lab lft\" transform=\"translate(-3 -7.0)\">5</text></g><circle class=\"sym\" cx=\"0\" cy=\"0\" r=\"3\"/><text class=\"lab\" transform=\"translate(0 -11)\">6</text></g></g></g></g></g></svg>"
      ],
      "text/plain": [
       "<IPython.core.display.SVG object>"
      ]
     },
     "execution_count": 14,
     "metadata": {
      "filenames": {
       "image/svg+xml": "/home/runner/work/tskit-site/tskit-site/docs/_build/jupyter_execute/ancestry_24_0.svg"
      }
     },
     "output_type": "execute_result"
    }
   ],
   "source": [
    "ts = msprime.sim_ancestry(\n",
    "    samples=[msprime.SampleSet(4, ploidy=1)],\n",
    "    population_size=1,\n",
    "    ploidy=2,\n",
    "    random_seed=1234\n",
    ")\n",
    "SVG(ts.draw_svg(y_axis=True))"
   ]
  },
  {
   "cell_type": "markdown",
   "id": "9c462643",
   "metadata": {},
   "source": [
    "The resulting tree sequences are identical, except that node time differ by a\n",
    "factor of 2, because in the underlying coalescent algorithm the total number of\n",
    "genomes in the population acts as a time scaling.\n",
    "\n",
    ":::{todo}\n",
    "Add a discussion here here about the Lambda coalescents an how\n",
    "things are more complicated for them.\n",
    ":::\n",
    "\n",
    ":::{important}\n",
    "The {ref}`sec_ancestry_models_dtwf` model is an explicitly diploid model\n",
    "and it is therefore\n",
    "an error to run it with any ``ploidy`` value other than 2.\n",
    ":::\n",
    "\n",
    "(sec_ancestry_genome_properties)=\n",
    "\n",
    "## Genome properties\n",
    "\n",
    "(sec_ancestry_sequence_length)=\n",
    "\n",
    "### Sequence length\n",
    "\n",
    "There are a number of different ways to specify the length of the\n",
    "chromosome that we want to simulate. In the absence of recombination\n",
    "and gene conversion, we assume a genome of length 1:"
   ]
  },
  {
   "cell_type": "code",
   "execution_count": 15,
   "id": "ff4e5e6e",
   "metadata": {},
   "outputs": [
    {
     "data": {
      "image/svg+xml": [
       "<svg xmlns=\"http://www.w3.org/2000/svg\" xmlns:ev=\"http://www.w3.org/2001/xml-events\" xmlns:xlink=\"http://www.w3.org/1999/xlink\" baseProfile=\"full\" height=\"200\" version=\"1.1\" width=\"200\"><defs><style type=\"text/css\"><![CDATA[.tree-sequence .background path {fill: #808080; fill-opacity:0}.tree-sequence .background path:nth-child(odd) {fill-opacity:.1}.axes {font-size: 14px}.x-axis .tick .lab {font-weight: bold}.axes, .tree {font-size: 14px; text-anchor:middle}.y-axis line.grid {stroke: #FAFAFA}.y-axis > .lab text {transform: translateX(0.8em) rotate(-90deg)}.x-axis .tick g {transform: translateY(0.9em)}.x-axis > .lab text {transform: translateY(-0.8em)}.axes line, .edge {stroke:black; fill:none}.node > .sym {fill: black; stroke: none}.site > .sym {stroke: black}.mut text {fill: red; font-style: italic}.mut line {fill: none; stroke: none}.mut .sym {fill: none; stroke: red}.node .mut .sym {stroke-width: 1.5px}.tree text, .tree-sequence text {dominant-baseline: central}.plotbox .lab.lft {text-anchor: end}.plotbox .lab.rgt {text-anchor: start}]]></style></defs><g class=\"tree-sequence\"><g class=\"background\"><path d=\"M20,0 l160,0 l0,138.2 l0,25 l0,5 l-160,0 l0,-5 l0,-25 l0,-138.2z\"/></g><g class=\"axes\"><g class=\"x-axis\"><g class=\"lab\" transform=\"translate(100,200)\"><text text-anchor=\"middle\">Genome position</text></g><line x1=\"20\" x2=\"180\" y1=\"163.2\" y2=\"163.2\"/><g class=\"tick\" transform=\"translate(20 163.2)\"><line x1=\"0\" x2=\"0\" y1=\"0\" y2=\"5\"/><g class=\"lab\" transform=\"translate(0,5)\"><text>0</text></g></g><g class=\"tick\" transform=\"translate(180 163.2)\"><line x1=\"0\" x2=\"0\" y1=\"0\" y2=\"5\"/><g class=\"lab\" transform=\"translate(0,5)\"><text>1</text></g></g></g></g><g class=\"plotbox trees\"><g class=\"tree t0\" transform=\"translate(20 0)\"><g class=\"plotbox\"><g class=\"node n6 p0 root\" transform=\"translate(98.75 26.8)\"><g class=\"a6 i1 leaf node n2 p0 sample\" transform=\"translate(26.25 94.6)\"><path class=\"edge\" d=\"M 0 0 V -94.6 H -26.25\"/><rect class=\"sym\" height=\"6\" width=\"6\" x=\"-3\" y=\"-3\"/><text class=\"lab\" transform=\"translate(0 11)\">2</text></g><g class=\"a6 node n5 p0\" transform=\"translate(-26.25 25.2505)\"><g class=\"a5 i1 leaf node n3 p0 sample\" transform=\"translate(22.5 69.3495)\"><path class=\"edge\" d=\"M 0 0 V -69.3495 H -22.5\"/><rect class=\"sym\" height=\"6\" width=\"6\" x=\"-3\" y=\"-3\"/><text class=\"lab\" transform=\"translate(0 11)\">3</text></g><g class=\"a5 node n4 p0\" transform=\"translate(-22.5 63.0417)\"><g class=\"a4 i0 leaf node n0 p0 sample\" transform=\"translate(-15 6.3078)\"><path class=\"edge\" d=\"M 0 0 V -6.3078 H 15\"/><rect class=\"sym\" height=\"6\" width=\"6\" x=\"-3\" y=\"-3\"/><text class=\"lab\" transform=\"translate(0 11)\">0</text></g><g class=\"a4 i0 leaf node n1 p0 sample\" transform=\"translate(15 6.3078)\"><path class=\"edge\" d=\"M 0 0 V -6.3078 H -15\"/><rect class=\"sym\" height=\"6\" width=\"6\" x=\"-3\" y=\"-3\"/><text class=\"lab\" transform=\"translate(0 11)\">1</text></g><path class=\"edge\" d=\"M 0 0 V -63.0417 H 22.5\"/><circle class=\"sym\" cx=\"0\" cy=\"0\" r=\"3\"/><text class=\"lab lft\" transform=\"translate(-3 -7.0)\">4</text></g><path class=\"edge\" d=\"M 0 0 V -25.2505 H 26.25\"/><circle class=\"sym\" cx=\"0\" cy=\"0\" r=\"3\"/><text class=\"lab lft\" transform=\"translate(-3 -7.0)\">5</text></g><circle class=\"sym\" cx=\"0\" cy=\"0\" r=\"3\"/><text class=\"lab\" transform=\"translate(0 -11)\">6</text></g></g></g></g></g></svg>"
      ],
      "text/plain": [
       "<IPython.core.display.SVG object>"
      ]
     },
     "execution_count": 15,
     "metadata": {
      "filenames": {
       "image/svg+xml": "/home/runner/work/tskit-site/tskit-site/docs/_build/jupyter_execute/ancestry_26_0.svg"
      }
     },
     "output_type": "execute_result"
    }
   ],
   "source": [
    "ts = msprime.sim_ancestry(2, random_seed=1)\n",
    "SVG(ts.draw_svg())"
   ]
  },
  {
   "cell_type": "markdown",
   "id": "7d9fa491",
   "metadata": {},
   "source": [
    "The ``sequence_length`` parameter determines the length of the\n",
    "simulated sequence:"
   ]
  },
  {
   "cell_type": "code",
   "execution_count": 16,
   "id": "92045c40",
   "metadata": {},
   "outputs": [
    {
     "data": {
      "image/svg+xml": [
       "<svg xmlns=\"http://www.w3.org/2000/svg\" xmlns:ev=\"http://www.w3.org/2001/xml-events\" xmlns:xlink=\"http://www.w3.org/1999/xlink\" baseProfile=\"full\" height=\"200\" version=\"1.1\" width=\"200\"><defs><style type=\"text/css\"><![CDATA[.tree-sequence .background path {fill: #808080; fill-opacity:0}.tree-sequence .background path:nth-child(odd) {fill-opacity:.1}.axes {font-size: 14px}.x-axis .tick .lab {font-weight: bold}.axes, .tree {font-size: 14px; text-anchor:middle}.y-axis line.grid {stroke: #FAFAFA}.y-axis > .lab text {transform: translateX(0.8em) rotate(-90deg)}.x-axis .tick g {transform: translateY(0.9em)}.x-axis > .lab text {transform: translateY(-0.8em)}.axes line, .edge {stroke:black; fill:none}.node > .sym {fill: black; stroke: none}.site > .sym {stroke: black}.mut text {fill: red; font-style: italic}.mut line {fill: none; stroke: none}.mut .sym {fill: none; stroke: red}.node .mut .sym {stroke-width: 1.5px}.tree text, .tree-sequence text {dominant-baseline: central}.plotbox .lab.lft {text-anchor: end}.plotbox .lab.rgt {text-anchor: start}]]></style></defs><g class=\"tree-sequence\"><g class=\"background\"><path d=\"M20,0 l160,0 l0,138.2 l0,25 l0,5 l-160,0 l0,-5 l0,-25 l0,-138.2z\"/></g><g class=\"axes\"><g class=\"x-axis\"><g class=\"lab\" transform=\"translate(100,200)\"><text text-anchor=\"middle\">Genome position</text></g><line x1=\"20\" x2=\"180\" y1=\"163.2\" y2=\"163.2\"/><g class=\"tick\" transform=\"translate(20 163.2)\"><line x1=\"0\" x2=\"0\" y1=\"0\" y2=\"5\"/><g class=\"lab\" transform=\"translate(0,5)\"><text>0</text></g></g><g class=\"tick\" transform=\"translate(180 163.2)\"><line x1=\"0\" x2=\"0\" y1=\"0\" y2=\"5\"/><g class=\"lab\" transform=\"translate(0,5)\"><text>100</text></g></g></g></g><g class=\"plotbox trees\"><g class=\"tree t0\" transform=\"translate(20 0)\"><g class=\"plotbox\"><g class=\"node n6 p0 root\" transform=\"translate(98.75 26.8)\"><g class=\"a6 i1 leaf node n2 p0 sample\" transform=\"translate(26.25 94.6)\"><path class=\"edge\" d=\"M 0 0 V -94.6 H -26.25\"/><rect class=\"sym\" height=\"6\" width=\"6\" x=\"-3\" y=\"-3\"/><text class=\"lab\" transform=\"translate(0 11)\">2</text></g><g class=\"a6 node n5 p0\" transform=\"translate(-26.25 25.2505)\"><g class=\"a5 i1 leaf node n3 p0 sample\" transform=\"translate(22.5 69.3495)\"><path class=\"edge\" d=\"M 0 0 V -69.3495 H -22.5\"/><rect class=\"sym\" height=\"6\" width=\"6\" x=\"-3\" y=\"-3\"/><text class=\"lab\" transform=\"translate(0 11)\">3</text></g><g class=\"a5 node n4 p0\" transform=\"translate(-22.5 63.0417)\"><g class=\"a4 i0 leaf node n0 p0 sample\" transform=\"translate(-15 6.3078)\"><path class=\"edge\" d=\"M 0 0 V -6.3078 H 15\"/><rect class=\"sym\" height=\"6\" width=\"6\" x=\"-3\" y=\"-3\"/><text class=\"lab\" transform=\"translate(0 11)\">0</text></g><g class=\"a4 i0 leaf node n1 p0 sample\" transform=\"translate(15 6.3078)\"><path class=\"edge\" d=\"M 0 0 V -6.3078 H -15\"/><rect class=\"sym\" height=\"6\" width=\"6\" x=\"-3\" y=\"-3\"/><text class=\"lab\" transform=\"translate(0 11)\">1</text></g><path class=\"edge\" d=\"M 0 0 V -63.0417 H 22.5\"/><circle class=\"sym\" cx=\"0\" cy=\"0\" r=\"3\"/><text class=\"lab lft\" transform=\"translate(-3 -7.0)\">4</text></g><path class=\"edge\" d=\"M 0 0 V -25.2505 H 26.25\"/><circle class=\"sym\" cx=\"0\" cy=\"0\" r=\"3\"/><text class=\"lab lft\" transform=\"translate(-3 -7.0)\">5</text></g><circle class=\"sym\" cx=\"0\" cy=\"0\" r=\"3\"/><text class=\"lab\" transform=\"translate(0 -11)\">6</text></g></g></g></g></g></svg>"
      ],
      "text/plain": [
       "<IPython.core.display.SVG object>"
      ]
     },
     "execution_count": 16,
     "metadata": {
      "filenames": {
       "image/svg+xml": "/home/runner/work/tskit-site/tskit-site/docs/_build/jupyter_execute/ancestry_28_0.svg"
      }
     },
     "output_type": "execute_result"
    }
   ],
   "source": [
    "ts = msprime.sim_ancestry(2, sequence_length=100, random_seed=1)\n",
    "SVG(ts.draw_svg())"
   ]
  },
  {
   "cell_type": "markdown",
   "id": "3f018d69",
   "metadata": {},
   "source": [
    "By default there is no recombination or gene conversion, and so we\n",
    "therefore still have only one tree defining the ancestry of the\n",
    "samples. The sequence length makes little difference if we are\n",
    "considering only the ancestry of a non-recombining sequence, however,\n",
    "this will be important if we are interested in adding\n",
    "{ref}`mutations<sec_mutations>` later.\n",
    "\n",
    "(sec_ancestry_recombination)=\n",
    "\n",
    "### Recombination\n",
    "\n",
    "As we trace the ancestry of a sample of genomes backwards in time,\n",
    "recombination has the effect of creating segments of genome\n",
    "that have different (but highly correlated) genealogical trees.\n",
    "The {func}`.sim_ancestry` function has a ``recombination_rate``\n",
    "argument that allows us to flexibly specify both uniform and\n",
    "non-uniform rates of recombination along the genome.\n",
    "\n",
    "The simplest way to run simulations with recombination is to\n",
    "use the ``recombination_rate`` and ``sequence_length`` parameters:"
   ]
  },
  {
   "cell_type": "code",
   "execution_count": 17,
   "id": "b8c81569",
   "metadata": {},
   "outputs": [
    {
     "data": {
      "image/svg+xml": [
       "<svg xmlns=\"http://www.w3.org/2000/svg\" xmlns:ev=\"http://www.w3.org/2001/xml-events\" xmlns:xlink=\"http://www.w3.org/1999/xlink\" baseProfile=\"full\" height=\"200\" version=\"1.1\" width=\"800\"><defs><style type=\"text/css\"><![CDATA[.tree-sequence .background path {fill: #808080; fill-opacity:0}.tree-sequence .background path:nth-child(odd) {fill-opacity:.1}.axes {font-size: 14px}.x-axis .tick .lab {font-weight: bold}.axes, .tree {font-size: 14px; text-anchor:middle}.y-axis line.grid {stroke: #FAFAFA}.y-axis > .lab text {transform: translateX(0.8em) rotate(-90deg)}.x-axis .tick g {transform: translateY(0.9em)}.x-axis > .lab text {transform: translateY(-0.8em)}.axes line, .edge {stroke:black; fill:none}.node > .sym {fill: black; stroke: none}.site > .sym {stroke: black}.mut text {fill: red; font-style: italic}.mut line {fill: none; stroke: none}.mut .sym {fill: none; stroke: red}.node .mut .sym {stroke-width: 1.5px}.tree text, .tree-sequence text {dominant-baseline: central}.plotbox .lab.lft {text-anchor: end}.plotbox .lab.rgt {text-anchor: start}]]></style></defs><g class=\"tree-sequence\"><g class=\"background\"><path d=\"M20,0 l190,0 l0,138.2 l-38,25 l0,5 l-152,0 l0,-5 l0,-25 l0,-138.2z\"/><path d=\"M210,0 l190,0 l0,138.2 l-76,25 l0,5 l-152,0 l0,-5 l38,-25 l0,-138.2z\"/><path d=\"M400,0 l190,0 l0,138.2 l-38,25 l0,5 l-228,0 l0,-5 l76,-25 l0,-138.2z\"/><path d=\"M590,0 l190,0 l0,138.2 l0,25 l0,5 l-228,0 l0,-5 l38,-25 l0,-138.2z\"/></g><g class=\"axes\"><g class=\"x-axis\"><g class=\"lab\" transform=\"translate(400,200)\"><text text-anchor=\"middle\">Genome position</text></g><line x1=\"20\" x2=\"780\" y1=\"163.2\" y2=\"163.2\"/><g class=\"tick\" transform=\"translate(20 163.2)\"><line x1=\"0\" x2=\"0\" y1=\"0\" y2=\"5\"/><g class=\"lab\" transform=\"translate(0,5)\"><text>0</text></g></g><g class=\"tick\" transform=\"translate(172 163.2)\"><line x1=\"0\" x2=\"0\" y1=\"0\" y2=\"5\"/><g class=\"lab\" transform=\"translate(0,5)\"><text>2</text></g></g><g class=\"tick\" transform=\"translate(324 163.2)\"><line x1=\"0\" x2=\"0\" y1=\"0\" y2=\"5\"/><g class=\"lab\" transform=\"translate(0,5)\"><text>4</text></g></g><g class=\"tick\" transform=\"translate(552 163.2)\"><line x1=\"0\" x2=\"0\" y1=\"0\" y2=\"5\"/><g class=\"lab\" transform=\"translate(0,5)\"><text>7</text></g></g><g class=\"tick\" transform=\"translate(780 163.2)\"><line x1=\"0\" x2=\"0\" y1=\"0\" y2=\"5\"/><g class=\"lab\" transform=\"translate(0,5)\"><text>10</text></g></g></g></g><g class=\"plotbox trees\"><g class=\"tree t0\" transform=\"translate(20 0)\"><g class=\"plotbox\"><g class=\"node n14 p0 root\" transform=\"translate(74.6875 26.8)\"><g class=\"a14 node n6 p0\" transform=\"translate(-29.6875 93.2031)\"><g class=\"a6 i0 leaf node n0 p0 sample\" transform=\"translate(-12.5 1.39692)\"><path class=\"edge\" d=\"M 0 0 V -1.39692 H 12.5\"/><rect class=\"sym\" height=\"6\" width=\"6\" x=\"-3\" y=\"-3\"/><text class=\"lab\" transform=\"translate(0 11)\">0</text></g><g class=\"a6 i2 leaf node n5 p0 sample\" transform=\"translate(12.5 1.39692)\"><path class=\"edge\" d=\"M 0 0 V -1.39692 H -12.5\"/><rect class=\"sym\" height=\"6\" width=\"6\" x=\"-3\" y=\"-3\"/><text class=\"lab\" transform=\"translate(0 11)\">5</text></g><path class=\"edge\" d=\"M 0 0 V -93.2031 H 29.6875\"/><circle class=\"sym\" cx=\"0\" cy=\"0\" r=\"3\"/><text class=\"lab lft\" transform=\"translate(-3 -7.0)\">6</text></g><g class=\"a14 node n9 p0\" transform=\"translate(29.6875 67.5815)\"><g class=\"a9 i0 leaf node n1 p0 sample\" transform=\"translate(-21.875 27.0185)\"><path class=\"edge\" d=\"M 0 0 V -27.0185 H 21.875\"/><rect class=\"sym\" height=\"6\" width=\"6\" x=\"-3\" y=\"-3\"/><text class=\"lab\" transform=\"translate(0 11)\">1</text></g><g class=\"a9 node n8 p0\" transform=\"translate(21.875 9.95537)\"><g class=\"a8 i1 leaf node n2 p0 sample\" transform=\"translate(-18.75 17.0631)\"><path class=\"edge\" d=\"M 0 0 V -17.0631 H 18.75\"/><rect class=\"sym\" height=\"6\" width=\"6\" x=\"-3\" y=\"-3\"/><text class=\"lab\" transform=\"translate(0 11)\">2</text></g><g class=\"a8 node n7 p0\" transform=\"translate(18.75 2.86901)\"><g class=\"a7 i1 leaf node n3 p0 sample\" transform=\"translate(-12.5 14.1941)\"><path class=\"edge\" d=\"M 0 0 V -14.1941 H 12.5\"/><rect class=\"sym\" height=\"6\" width=\"6\" x=\"-3\" y=\"-3\"/><text class=\"lab\" transform=\"translate(0 11)\">3</text></g><g class=\"a7 i2 leaf node n4 p0 sample\" transform=\"translate(12.5 14.1941)\"><path class=\"edge\" d=\"M 0 0 V -14.1941 H -12.5\"/><rect class=\"sym\" height=\"6\" width=\"6\" x=\"-3\" y=\"-3\"/><text class=\"lab\" transform=\"translate(0 11)\">4</text></g><path class=\"edge\" d=\"M 0 0 V -2.86901 H -18.75\"/><circle class=\"sym\" cx=\"0\" cy=\"0\" r=\"3\"/><text class=\"lab rgt\" transform=\"translate(3 -7.0)\">7</text></g><path class=\"edge\" d=\"M 0 0 V -9.95537 H -21.875\"/><circle class=\"sym\" cx=\"0\" cy=\"0\" r=\"3\"/><text class=\"lab rgt\" transform=\"translate(3 -7.0)\">8</text></g><path class=\"edge\" d=\"M 0 0 V -67.5815 H -29.6875\"/><circle class=\"sym\" cx=\"0\" cy=\"0\" r=\"3\"/><text class=\"lab rgt\" transform=\"translate(3 -7.0)\">9</text></g><circle class=\"sym\" cx=\"0\" cy=\"0\" r=\"3\"/><text class=\"lab\" transform=\"translate(0 -11)\">14</text></g></g></g><g class=\"tree t1\" transform=\"translate(210 0)\"><g class=\"plotbox\"><g class=\"node n14 p0 root\" transform=\"translate(87.1875 26.8)\"><g class=\"a14 node n6 p0\" transform=\"translate(-42.1875 93.2031)\"><g class=\"a6 i0 leaf node n0 p0 sample\" transform=\"translate(-12.5 1.39692)\"><path class=\"edge\" d=\"M 0 0 V -1.39692 H 12.5\"/><rect class=\"sym\" height=\"6\" width=\"6\" x=\"-3\" y=\"-3\"/><text class=\"lab\" transform=\"translate(0 11)\">0</text></g><g class=\"a6 i2 leaf node n5 p0 sample\" transform=\"translate(12.5 1.39692)\"><path class=\"edge\" d=\"M 0 0 V -1.39692 H -12.5\"/><rect class=\"sym\" height=\"6\" width=\"6\" x=\"-3\" y=\"-3\"/><text class=\"lab\" transform=\"translate(0 11)\">5</text></g><path class=\"edge\" d=\"M 0 0 V -93.2031 H 42.1875\"/><circle class=\"sym\" cx=\"0\" cy=\"0\" r=\"3\"/><text class=\"lab lft\" transform=\"translate(-3 -7.0)\">6</text></g><g class=\"a14 node n13 p0\" transform=\"translate(42.1875 12.6456)\"><g class=\"a13 i1 leaf node n3 p0 sample\" transform=\"translate(28.125 81.9544)\"><path class=\"edge\" d=\"M 0 0 V -81.9544 H -28.125\"/><rect class=\"sym\" height=\"6\" width=\"6\" x=\"-3\" y=\"-3\"/><text class=\"lab\" transform=\"translate(0 11)\">3</text></g><g class=\"a13 node n9 p0\" transform=\"translate(-28.125 54.9359)\"><g class=\"a9 i0 leaf node n1 p0 sample\" transform=\"translate(-18.75 27.0185)\"><path class=\"edge\" d=\"M 0 0 V -27.0185 H 18.75\"/><rect class=\"sym\" height=\"6\" width=\"6\" x=\"-3\" y=\"-3\"/><text class=\"lab\" transform=\"translate(0 11)\">1</text></g><g class=\"a9 node n8 p0\" transform=\"translate(18.75 9.95537)\"><g class=\"a8 i1 leaf node n2 p0 sample\" transform=\"translate(-12.5 17.0631)\"><path class=\"edge\" d=\"M 0 0 V -17.0631 H 12.5\"/><rect class=\"sym\" height=\"6\" width=\"6\" x=\"-3\" y=\"-3\"/><text class=\"lab\" transform=\"translate(0 11)\">2</text></g><g class=\"a8 i2 leaf node n4 p0 sample\" transform=\"translate(12.5 17.0631)\"><path class=\"edge\" d=\"M 0 0 V -17.0631 H -12.5\"/><rect class=\"sym\" height=\"6\" width=\"6\" x=\"-3\" y=\"-3\"/><text class=\"lab\" transform=\"translate(0 11)\">4</text></g><path class=\"edge\" d=\"M 0 0 V -9.95537 H -18.75\"/><circle class=\"sym\" cx=\"0\" cy=\"0\" r=\"3\"/><text class=\"lab rgt\" transform=\"translate(3 -7.0)\">8</text></g><path class=\"edge\" d=\"M 0 0 V -54.9359 H 28.125\"/><circle class=\"sym\" cx=\"0\" cy=\"0\" r=\"3\"/><text class=\"lab lft\" transform=\"translate(-3 -7.0)\">9</text></g><path class=\"edge\" d=\"M 0 0 V -12.6456 H -42.1875\"/><circle class=\"sym\" cx=\"0\" cy=\"0\" r=\"3\"/><text class=\"lab rgt\" transform=\"translate(3 -7.0)\">13</text></g><circle class=\"sym\" cx=\"0\" cy=\"0\" r=\"3\"/><text class=\"lab\" transform=\"translate(0 -11)\">14</text></g></g></g><g class=\"tree t2\" transform=\"translate(400 0)\"><g class=\"plotbox\"><g class=\"node n14 p0 root\" transform=\"translate(101.25 26.8)\"><g class=\"a14 node n13 p0\" transform=\"translate(37.5 12.6456)\"><g class=\"a13 i1 leaf node n3 p0 sample\" transform=\"translate(18.75 81.9544)\"><path class=\"edge\" d=\"M 0 0 V -81.9544 H -18.75\"/><rect class=\"sym\" height=\"6\" width=\"6\" x=\"-3\" y=\"-3\"/><text class=\"lab\" transform=\"translate(0 11)\">3</text></g><g class=\"a13 node n8 p0\" transform=\"translate(-18.75 64.8913)\"><g class=\"a8 i1 leaf node n2 p0 sample\" transform=\"translate(-12.5 17.0631)\"><path class=\"edge\" d=\"M 0 0 V -17.0631 H 12.5\"/><rect class=\"sym\" height=\"6\" width=\"6\" x=\"-3\" y=\"-3\"/><text class=\"lab\" transform=\"translate(0 11)\">2</text></g><g class=\"a8 i2 leaf node n4 p0 sample\" transform=\"translate(12.5 17.0631)\"><path class=\"edge\" d=\"M 0 0 V -17.0631 H -12.5\"/><rect class=\"sym\" height=\"6\" width=\"6\" x=\"-3\" y=\"-3\"/><text class=\"lab\" transform=\"translate(0 11)\">4</text></g><path class=\"edge\" d=\"M 0 0 V -64.8913 H 18.75\"/><circle class=\"sym\" cx=\"0\" cy=\"0\" r=\"3\"/><text class=\"lab lft\" transform=\"translate(-3 -7.0)\">8</text></g><path class=\"edge\" d=\"M 0 0 V -12.6456 H -37.5\"/><circle class=\"sym\" cx=\"0\" cy=\"0\" r=\"3\"/><text class=\"lab rgt\" transform=\"translate(3 -7.0)\">13</text></g><g class=\"a14 node n10 p0\" transform=\"translate(-37.5 60.2032)\"><g class=\"a10 i0 leaf node n1 p0 sample\" transform=\"translate(18.75 34.3968)\"><path class=\"edge\" d=\"M 0 0 V -34.3968 H -18.75\"/><rect class=\"sym\" height=\"6\" width=\"6\" x=\"-3\" y=\"-3\"/><text class=\"lab\" transform=\"translate(0 11)\">1</text></g><g class=\"a10 node n6 p0\" transform=\"translate(-18.75 32.9998)\"><g class=\"a6 i0 leaf node n0 p0 sample\" transform=\"translate(-12.5 1.39692)\"><path class=\"edge\" d=\"M 0 0 V -1.39692 H 12.5\"/><rect class=\"sym\" height=\"6\" width=\"6\" x=\"-3\" y=\"-3\"/><text class=\"lab\" transform=\"translate(0 11)\">0</text></g><g class=\"a6 i2 leaf node n5 p0 sample\" transform=\"translate(12.5 1.39692)\"><path class=\"edge\" d=\"M 0 0 V -1.39692 H -12.5\"/><rect class=\"sym\" height=\"6\" width=\"6\" x=\"-3\" y=\"-3\"/><text class=\"lab\" transform=\"translate(0 11)\">5</text></g><path class=\"edge\" d=\"M 0 0 V -32.9998 H 18.75\"/><circle class=\"sym\" cx=\"0\" cy=\"0\" r=\"3\"/><text class=\"lab lft\" transform=\"translate(-3 -7.0)\">6</text></g><path class=\"edge\" d=\"M 0 0 V -60.2032 H 37.5\"/><circle class=\"sym\" cx=\"0\" cy=\"0\" r=\"3\"/><text class=\"lab lft\" transform=\"translate(-3 -7.0)\">10</text></g><circle class=\"sym\" cx=\"0\" cy=\"0\" r=\"3\"/><text class=\"lab\" transform=\"translate(0 -11)\">14</text></g></g></g><g class=\"tree t3\" transform=\"translate(590 0)\"><g class=\"plotbox\"><g class=\"node n13 p0 root\" transform=\"translate(95 39.4456)\"><g class=\"a13 node n11 p0\" transform=\"translate(31.25 15.3506)\"><g class=\"a11 i0 leaf node n1 p0 sample\" transform=\"translate(-18.75 66.6037)\"><path class=\"edge\" d=\"M 0 0 V -66.6037 H 18.75\"/><rect class=\"sym\" height=\"6\" width=\"6\" x=\"-3\" y=\"-3\"/><text class=\"lab\" transform=\"translate(0 11)\">1</text></g><g class=\"a11 node n8 p0\" transform=\"translate(18.75 49.5406)\"><g class=\"a8 i1 leaf node n2 p0 sample\" transform=\"translate(-12.5 17.0631)\"><path class=\"edge\" d=\"M 0 0 V -17.0631 H 12.5\"/><rect class=\"sym\" height=\"6\" width=\"6\" x=\"-3\" y=\"-3\"/><text class=\"lab\" transform=\"translate(0 11)\">2</text></g><g class=\"a8 i2 leaf node n4 p0 sample\" transform=\"translate(12.5 17.0631)\"><path class=\"edge\" d=\"M 0 0 V -17.0631 H -12.5\"/><rect class=\"sym\" height=\"6\" width=\"6\" x=\"-3\" y=\"-3\"/><text class=\"lab\" transform=\"translate(0 11)\">4</text></g><path class=\"edge\" d=\"M 0 0 V -49.5406 H -18.75\"/><circle class=\"sym\" cx=\"0\" cy=\"0\" r=\"3\"/><text class=\"lab rgt\" transform=\"translate(3 -7.0)\">8</text></g><path class=\"edge\" d=\"M 0 0 V -15.3506 H -31.25\"/><circle class=\"sym\" cx=\"0\" cy=\"0\" r=\"3\"/><text class=\"lab rgt\" transform=\"translate(3 -7.0)\">11</text></g><g class=\"a13 node n12 p0\" transform=\"translate(-31.25 12.027)\"><g class=\"a12 i1 leaf node n3 p0 sample\" transform=\"translate(18.75 69.9273)\"><path class=\"edge\" d=\"M 0 0 V -69.9273 H -18.75\"/><rect class=\"sym\" height=\"6\" width=\"6\" x=\"-3\" y=\"-3\"/><text class=\"lab\" transform=\"translate(0 11)\">3</text></g><g class=\"a12 node n6 p0\" transform=\"translate(-18.75 68.5304)\"><g class=\"a6 i0 leaf node n0 p0 sample\" transform=\"translate(-12.5 1.39692)\"><path class=\"edge\" d=\"M 0 0 V -1.39692 H 12.5\"/><rect class=\"sym\" height=\"6\" width=\"6\" x=\"-3\" y=\"-3\"/><text class=\"lab\" transform=\"translate(0 11)\">0</text></g><g class=\"a6 i2 leaf node n5 p0 sample\" transform=\"translate(12.5 1.39692)\"><path class=\"edge\" d=\"M 0 0 V -1.39692 H -12.5\"/><rect class=\"sym\" height=\"6\" width=\"6\" x=\"-3\" y=\"-3\"/><text class=\"lab\" transform=\"translate(0 11)\">5</text></g><path class=\"edge\" d=\"M 0 0 V -68.5304 H 18.75\"/><circle class=\"sym\" cx=\"0\" cy=\"0\" r=\"3\"/><text class=\"lab lft\" transform=\"translate(-3 -7.0)\">6</text></g><path class=\"edge\" d=\"M 0 0 V -12.027 H 31.25\"/><circle class=\"sym\" cx=\"0\" cy=\"0\" r=\"3\"/><text class=\"lab lft\" transform=\"translate(-3 -7.0)\">12</text></g><circle class=\"sym\" cx=\"0\" cy=\"0\" r=\"3\"/><text class=\"lab\" transform=\"translate(0 -11)\">13</text></g></g></g></g></g></svg>"
      ],
      "text/plain": [
       "<IPython.core.display.SVG object>"
      ]
     },
     "execution_count": 17,
     "metadata": {
      "filenames": {
       "image/svg+xml": "/home/runner/work/tskit-site/tskit-site/docs/_build/jupyter_execute/ancestry_30_0.svg"
      }
     },
     "output_type": "execute_result"
    }
   ],
   "source": [
    "ts = msprime.sim_ancestry(\n",
    "    3, recombination_rate=0.1, sequence_length=10, random_seed=2)\n",
    "SVG(ts.draw_svg())"
   ]
  },
  {
   "cell_type": "markdown",
   "id": "fffa269d",
   "metadata": {},
   "source": [
    "Here, we we have four distinct trees along the genome,\n",
    "created by recombination events."
   ]
  },
  {
   "cell_type": "code",
   "execution_count": 18,
   "id": "8209b6f4",
   "metadata": {
    "tags": [
     "remove-cell"
    ]
   },
   "outputs": [],
   "source": [
    "assert 1 < ts.num_trees < 5"
   ]
  },
  {
   "cell_type": "markdown",
   "id": "2c28d85f",
   "metadata": {},
   "source": [
    "We can also provide a {class}`.RateMap` argument to ``recombination_rate``:"
   ]
  },
  {
   "cell_type": "code",
   "execution_count": 19,
   "id": "6d703cf3",
   "metadata": {},
   "outputs": [],
   "source": [
    "rate_map = msprime.RateMap.uniform(sequence_length=10, rate=0.1)\n",
    "other_ts = msprime.sim_ancestry(3, recombination_rate=rate_map, random_seed=2)\n",
    "assert ts.equals(other_ts, ignore_provenance=True)"
   ]
  },
  {
   "cell_type": "markdown",
   "id": "88b27734",
   "metadata": {},
   "source": [
    "There are two things to note here:\n",
    "\n",
    "1. We didn't need to specify a ``sequence_length`` argument to\n",
    "{func}`.sim_ancestry`, as this information is encapsulated by the ``rate_map``\n",
    "instance. (We can provide a value for ``sequence_length`` if we wish, but\n",
    "it must be equal to the {attr}`~.RateMap.sequence_length` property of the\n",
    "{class}`.RateMap`).\n",
    "2. The result of the simulation for a {ref}`sec_rate_maps_creating_uniform`\n",
    "rate map with the same rate and ``sequence_length`` is identical to\n",
    "the first simulation above.\n",
    "\n",
    "We can simulate non-uniform recombination by defining our {class}`.RateMap`\n",
    "appropriately. For example, here we define a map in which the\n",
    "rate over the first half of the sequence is one tenth of the second half:"
   ]
  },
  {
   "cell_type": "code",
   "execution_count": 20,
   "id": "95058525",
   "metadata": {},
   "outputs": [
    {
     "data": {
      "image/svg+xml": [
       "<svg xmlns=\"http://www.w3.org/2000/svg\" xmlns:ev=\"http://www.w3.org/2001/xml-events\" xmlns:xlink=\"http://www.w3.org/1999/xlink\" baseProfile=\"full\" height=\"200\" version=\"1.1\" width=\"800\"><defs><style type=\"text/css\"><![CDATA[.tree-sequence .background path {fill: #808080; fill-opacity:0}.tree-sequence .background path:nth-child(odd) {fill-opacity:.1}.axes {font-size: 14px}.x-axis .tick .lab {font-weight: bold}.axes, .tree {font-size: 14px; text-anchor:middle}.y-axis line.grid {stroke: #FAFAFA}.y-axis > .lab text {transform: translateX(0.8em) rotate(-90deg)}.x-axis .tick g {transform: translateY(0.9em)}.x-axis > .lab text {transform: translateY(-0.8em)}.axes line, .edge {stroke:black; fill:none}.node > .sym {fill: black; stroke: none}.site > .sym {stroke: black}.mut text {fill: red; font-style: italic}.mut line {fill: none; stroke: none}.mut .sym {fill: none; stroke: red}.node .mut .sym {stroke-width: 1.5px}.tree text, .tree-sequence text {dominant-baseline: central}.plotbox .lab.lft {text-anchor: end}.plotbox .lab.rgt {text-anchor: start}]]></style></defs><g class=\"tree-sequence\"><g class=\"background\"><path d=\"M20,0 l190,0 l0,138.2 l228,25 l0,5 l-418,0 l0,-5 l0,-25 l0,-138.2z\"/><path d=\"M210,0 l190,0 l0,138.2 l76,25 l0,5 l-38,0 l0,-5 l-228,-25 l0,-138.2z\"/><path d=\"M400,0 l190,0 l0,138.2 l0,25 l0,5 l-114,0 l0,-5 l-76,-25 l0,-138.2z\"/><path d=\"M590,0 l190,0 l0,138.2 l0,25 l0,5 l-190,0 l0,-5 l0,-25 l0,-138.2z\"/></g><g class=\"axes\"><g class=\"x-axis\"><g class=\"lab\" transform=\"translate(400,200)\"><text text-anchor=\"middle\">Genome position</text></g><line x1=\"20\" x2=\"780\" y1=\"163.2\" y2=\"163.2\"/><g class=\"tick\" transform=\"translate(20 163.2)\"><line x1=\"0\" x2=\"0\" y1=\"0\" y2=\"5\"/><g class=\"lab\" transform=\"translate(0,5)\"><text>0</text></g></g><g class=\"tick\" transform=\"translate(438 163.2)\"><line x1=\"0\" x2=\"0\" y1=\"0\" y2=\"5\"/><g class=\"lab\" transform=\"translate(0,5)\"><text>11</text></g></g><g class=\"tick\" transform=\"translate(476 163.2)\"><line x1=\"0\" x2=\"0\" y1=\"0\" y2=\"5\"/><g class=\"lab\" transform=\"translate(0,5)\"><text>12</text></g></g><g class=\"tick\" transform=\"translate(590 163.2)\"><line x1=\"0\" x2=\"0\" y1=\"0\" y2=\"5\"/><g class=\"lab\" transform=\"translate(0,5)\"><text>15</text></g></g><g class=\"tick\" transform=\"translate(780 163.2)\"><line x1=\"0\" x2=\"0\" y1=\"0\" y2=\"5\"/><g class=\"lab\" transform=\"translate(0,5)\"><text>20</text></g></g></g></g><g class=\"plotbox trees\"><g class=\"tree t0\" transform=\"translate(20 0)\"><g class=\"plotbox\"><g class=\"node n14 p0 root\" transform=\"translate(74.6875 26.8)\"><g class=\"a14 node n6 p0\" transform=\"translate(-29.6875 93.0814)\"><g class=\"a6 i0 leaf node n0 p0 sample\" transform=\"translate(-12.5 1.51859)\"><path class=\"edge\" d=\"M 0 0 V -1.51859 H 12.5\"/><rect class=\"sym\" height=\"6\" width=\"6\" x=\"-3\" y=\"-3\"/><text class=\"lab\" transform=\"translate(0 11)\">0</text></g><g class=\"a6 i2 leaf node n5 p0 sample\" transform=\"translate(12.5 1.51859)\"><path class=\"edge\" d=\"M 0 0 V -1.51859 H -12.5\"/><rect class=\"sym\" height=\"6\" width=\"6\" x=\"-3\" y=\"-3\"/><text class=\"lab\" transform=\"translate(0 11)\">5</text></g><path class=\"edge\" d=\"M 0 0 V -93.0814 H 29.6875\"/><circle class=\"sym\" cx=\"0\" cy=\"0\" r=\"3\"/><text class=\"lab lft\" transform=\"translate(-3 -7.0)\">6</text></g><g class=\"a14 node n9 p0\" transform=\"translate(29.6875 68.193)\"><g class=\"a9 i0 leaf node n1 p0 sample\" transform=\"translate(-21.875 26.407)\"><path class=\"edge\" d=\"M 0 0 V -26.407 H 21.875\"/><rect class=\"sym\" height=\"6\" width=\"6\" x=\"-3\" y=\"-3\"/><text class=\"lab\" transform=\"translate(0 11)\">1</text></g><g class=\"a9 node n8 p0\" transform=\"translate(21.875 9.93916)\"><g class=\"a8 i1 leaf node n2 p0 sample\" transform=\"translate(-18.75 16.4678)\"><path class=\"edge\" d=\"M 0 0 V -16.4678 H 18.75\"/><rect class=\"sym\" height=\"6\" width=\"6\" x=\"-3\" y=\"-3\"/><text class=\"lab\" transform=\"translate(0 11)\">2</text></g><g class=\"a8 node n7 p0\" transform=\"translate(18.75 2.75709)\"><g class=\"a7 i1 leaf node n3 p0 sample\" transform=\"translate(-12.5 13.7107)\"><path class=\"edge\" d=\"M 0 0 V -13.7107 H 12.5\"/><rect class=\"sym\" height=\"6\" width=\"6\" x=\"-3\" y=\"-3\"/><text class=\"lab\" transform=\"translate(0 11)\">3</text></g><g class=\"a7 i2 leaf node n4 p0 sample\" transform=\"translate(12.5 13.7107)\"><path class=\"edge\" d=\"M 0 0 V -13.7107 H -12.5\"/><rect class=\"sym\" height=\"6\" width=\"6\" x=\"-3\" y=\"-3\"/><text class=\"lab\" transform=\"translate(0 11)\">4</text></g><path class=\"edge\" d=\"M 0 0 V -2.75709 H -18.75\"/><circle class=\"sym\" cx=\"0\" cy=\"0\" r=\"3\"/><text class=\"lab rgt\" transform=\"translate(3 -7.0)\">7</text></g><path class=\"edge\" d=\"M 0 0 V -9.93916 H -21.875\"/><circle class=\"sym\" cx=\"0\" cy=\"0\" r=\"3\"/><text class=\"lab rgt\" transform=\"translate(3 -7.0)\">8</text></g><path class=\"edge\" d=\"M 0 0 V -68.193 H -29.6875\"/><circle class=\"sym\" cx=\"0\" cy=\"0\" r=\"3\"/><text class=\"lab rgt\" transform=\"translate(3 -7.0)\">9</text></g><circle class=\"sym\" cx=\"0\" cy=\"0\" r=\"3\"/><text class=\"lab\" transform=\"translate(0 -11)\">14</text></g></g></g><g class=\"tree t1\" transform=\"translate(210 0)\"><g class=\"plotbox\"><g class=\"node n14 p0 root\" transform=\"translate(87.1875 26.8)\"><g class=\"a14 node n6 p0\" transform=\"translate(-42.1875 93.0814)\"><g class=\"a6 i0 leaf node n0 p0 sample\" transform=\"translate(-12.5 1.51859)\"><path class=\"edge\" d=\"M 0 0 V -1.51859 H 12.5\"/><rect class=\"sym\" height=\"6\" width=\"6\" x=\"-3\" y=\"-3\"/><text class=\"lab\" transform=\"translate(0 11)\">0</text></g><g class=\"a6 i2 leaf node n5 p0 sample\" transform=\"translate(12.5 1.51859)\"><path class=\"edge\" d=\"M 0 0 V -1.51859 H -12.5\"/><rect class=\"sym\" height=\"6\" width=\"6\" x=\"-3\" y=\"-3\"/><text class=\"lab\" transform=\"translate(0 11)\">5</text></g><path class=\"edge\" d=\"M 0 0 V -93.0814 H 42.1875\"/><circle class=\"sym\" cx=\"0\" cy=\"0\" r=\"3\"/><text class=\"lab lft\" transform=\"translate(-3 -7.0)\">6</text></g><g class=\"a14 node n13 p0\" transform=\"translate(42.1875 13.747)\"><g class=\"a13 i1 leaf node n3 p0 sample\" transform=\"translate(28.125 80.853)\"><path class=\"edge\" d=\"M 0 0 V -80.853 H -28.125\"/><rect class=\"sym\" height=\"6\" width=\"6\" x=\"-3\" y=\"-3\"/><text class=\"lab\" transform=\"translate(0 11)\">3</text></g><g class=\"a13 node n9 p0\" transform=\"translate(-28.125 54.446)\"><g class=\"a9 i0 leaf node n1 p0 sample\" transform=\"translate(-18.75 26.407)\"><path class=\"edge\" d=\"M 0 0 V -26.407 H 18.75\"/><rect class=\"sym\" height=\"6\" width=\"6\" x=\"-3\" y=\"-3\"/><text class=\"lab\" transform=\"translate(0 11)\">1</text></g><g class=\"a9 node n8 p0\" transform=\"translate(18.75 9.93916)\"><g class=\"a8 i1 leaf node n2 p0 sample\" transform=\"translate(-12.5 16.4678)\"><path class=\"edge\" d=\"M 0 0 V -16.4678 H 12.5\"/><rect class=\"sym\" height=\"6\" width=\"6\" x=\"-3\" y=\"-3\"/><text class=\"lab\" transform=\"translate(0 11)\">2</text></g><g class=\"a8 i2 leaf node n4 p0 sample\" transform=\"translate(12.5 16.4678)\"><path class=\"edge\" d=\"M 0 0 V -16.4678 H -12.5\"/><rect class=\"sym\" height=\"6\" width=\"6\" x=\"-3\" y=\"-3\"/><text class=\"lab\" transform=\"translate(0 11)\">4</text></g><path class=\"edge\" d=\"M 0 0 V -9.93916 H -18.75\"/><circle class=\"sym\" cx=\"0\" cy=\"0\" r=\"3\"/><text class=\"lab rgt\" transform=\"translate(3 -7.0)\">8</text></g><path class=\"edge\" d=\"M 0 0 V -54.446 H 28.125\"/><circle class=\"sym\" cx=\"0\" cy=\"0\" r=\"3\"/><text class=\"lab lft\" transform=\"translate(-3 -7.0)\">9</text></g><path class=\"edge\" d=\"M 0 0 V -13.747 H -42.1875\"/><circle class=\"sym\" cx=\"0\" cy=\"0\" r=\"3\"/><text class=\"lab rgt\" transform=\"translate(3 -7.0)\">13</text></g><circle class=\"sym\" cx=\"0\" cy=\"0\" r=\"3\"/><text class=\"lab\" transform=\"translate(0 -11)\">14</text></g></g></g><g class=\"tree t2\" transform=\"translate(400 0)\"><g class=\"plotbox\"><g class=\"node n14 p0 root\" transform=\"translate(101.25 26.8)\"><g class=\"a14 node n13 p0\" transform=\"translate(37.5 13.747)\"><g class=\"a13 i1 leaf node n3 p0 sample\" transform=\"translate(18.75 80.853)\"><path class=\"edge\" d=\"M 0 0 V -80.853 H -18.75\"/><rect class=\"sym\" height=\"6\" width=\"6\" x=\"-3\" y=\"-3\"/><text class=\"lab\" transform=\"translate(0 11)\">3</text></g><g class=\"a13 node n8 p0\" transform=\"translate(-18.75 64.3851)\"><g class=\"a8 i1 leaf node n2 p0 sample\" transform=\"translate(-12.5 16.4678)\"><path class=\"edge\" d=\"M 0 0 V -16.4678 H 12.5\"/><rect class=\"sym\" height=\"6\" width=\"6\" x=\"-3\" y=\"-3\"/><text class=\"lab\" transform=\"translate(0 11)\">2</text></g><g class=\"a8 i2 leaf node n4 p0 sample\" transform=\"translate(12.5 16.4678)\"><path class=\"edge\" d=\"M 0 0 V -16.4678 H -12.5\"/><rect class=\"sym\" height=\"6\" width=\"6\" x=\"-3\" y=\"-3\"/><text class=\"lab\" transform=\"translate(0 11)\">4</text></g><path class=\"edge\" d=\"M 0 0 V -64.3851 H 18.75\"/><circle class=\"sym\" cx=\"0\" cy=\"0\" r=\"3\"/><text class=\"lab lft\" transform=\"translate(-3 -7.0)\">8</text></g><path class=\"edge\" d=\"M 0 0 V -13.747 H -37.5\"/><circle class=\"sym\" cx=\"0\" cy=\"0\" r=\"3\"/><text class=\"lab rgt\" transform=\"translate(3 -7.0)\">13</text></g><g class=\"a14 node n10 p0\" transform=\"translate(-37.5 60.1721)\"><g class=\"a10 i0 leaf node n1 p0 sample\" transform=\"translate(18.75 34.4279)\"><path class=\"edge\" d=\"M 0 0 V -34.4279 H -18.75\"/><rect class=\"sym\" height=\"6\" width=\"6\" x=\"-3\" y=\"-3\"/><text class=\"lab\" transform=\"translate(0 11)\">1</text></g><g class=\"a10 node n6 p0\" transform=\"translate(-18.75 32.9093)\"><g class=\"a6 i0 leaf node n0 p0 sample\" transform=\"translate(-12.5 1.51859)\"><path class=\"edge\" d=\"M 0 0 V -1.51859 H 12.5\"/><rect class=\"sym\" height=\"6\" width=\"6\" x=\"-3\" y=\"-3\"/><text class=\"lab\" transform=\"translate(0 11)\">0</text></g><g class=\"a6 i2 leaf node n5 p0 sample\" transform=\"translate(12.5 1.51859)\"><path class=\"edge\" d=\"M 0 0 V -1.51859 H -12.5\"/><rect class=\"sym\" height=\"6\" width=\"6\" x=\"-3\" y=\"-3\"/><text class=\"lab\" transform=\"translate(0 11)\">5</text></g><path class=\"edge\" d=\"M 0 0 V -32.9093 H 18.75\"/><circle class=\"sym\" cx=\"0\" cy=\"0\" r=\"3\"/><text class=\"lab lft\" transform=\"translate(-3 -7.0)\">6</text></g><path class=\"edge\" d=\"M 0 0 V -60.1721 H 37.5\"/><circle class=\"sym\" cx=\"0\" cy=\"0\" r=\"3\"/><text class=\"lab lft\" transform=\"translate(-3 -7.0)\">10</text></g><circle class=\"sym\" cx=\"0\" cy=\"0\" r=\"3\"/><text class=\"lab\" transform=\"translate(0 -11)\">14</text></g></g></g><g class=\"tree t3\" transform=\"translate(590 0)\"><g class=\"plotbox\"><g class=\"node n13 p0 root\" transform=\"translate(95 40.547)\"><g class=\"a13 node n11 p0\" transform=\"translate(31.25 16.6876)\"><g class=\"a11 i0 leaf node n1 p0 sample\" transform=\"translate(-18.75 64.1653)\"><path class=\"edge\" d=\"M 0 0 V -64.1653 H 18.75\"/><rect class=\"sym\" height=\"6\" width=\"6\" x=\"-3\" y=\"-3\"/><text class=\"lab\" transform=\"translate(0 11)\">1</text></g><g class=\"a11 node n8 p0\" transform=\"translate(18.75 47.6975)\"><g class=\"a8 i1 leaf node n2 p0 sample\" transform=\"translate(-12.5 16.4678)\"><path class=\"edge\" d=\"M 0 0 V -16.4678 H 12.5\"/><rect class=\"sym\" height=\"6\" width=\"6\" x=\"-3\" y=\"-3\"/><text class=\"lab\" transform=\"translate(0 11)\">2</text></g><g class=\"a8 i2 leaf node n4 p0 sample\" transform=\"translate(12.5 16.4678)\"><path class=\"edge\" d=\"M 0 0 V -16.4678 H -12.5\"/><rect class=\"sym\" height=\"6\" width=\"6\" x=\"-3\" y=\"-3\"/><text class=\"lab\" transform=\"translate(0 11)\">4</text></g><path class=\"edge\" d=\"M 0 0 V -47.6975 H -18.75\"/><circle class=\"sym\" cx=\"0\" cy=\"0\" r=\"3\"/><text class=\"lab rgt\" transform=\"translate(3 -7.0)\">8</text></g><path class=\"edge\" d=\"M 0 0 V -16.6876 H -31.25\"/><circle class=\"sym\" cx=\"0\" cy=\"0\" r=\"3\"/><text class=\"lab rgt\" transform=\"translate(3 -7.0)\">11</text></g><g class=\"a13 node n12 p0\" transform=\"translate(-31.25 13.0746)\"><g class=\"a12 i1 leaf node n3 p0 sample\" transform=\"translate(18.75 67.7784)\"><path class=\"edge\" d=\"M 0 0 V -67.7784 H -18.75\"/><rect class=\"sym\" height=\"6\" width=\"6\" x=\"-3\" y=\"-3\"/><text class=\"lab\" transform=\"translate(0 11)\">3</text></g><g class=\"a12 node n6 p0\" transform=\"translate(-18.75 66.2598)\"><g class=\"a6 i0 leaf node n0 p0 sample\" transform=\"translate(-12.5 1.51859)\"><path class=\"edge\" d=\"M 0 0 V -1.51859 H 12.5\"/><rect class=\"sym\" height=\"6\" width=\"6\" x=\"-3\" y=\"-3\"/><text class=\"lab\" transform=\"translate(0 11)\">0</text></g><g class=\"a6 i2 leaf node n5 p0 sample\" transform=\"translate(12.5 1.51859)\"><path class=\"edge\" d=\"M 0 0 V -1.51859 H -12.5\"/><rect class=\"sym\" height=\"6\" width=\"6\" x=\"-3\" y=\"-3\"/><text class=\"lab\" transform=\"translate(0 11)\">5</text></g><path class=\"edge\" d=\"M 0 0 V -66.2598 H 18.75\"/><circle class=\"sym\" cx=\"0\" cy=\"0\" r=\"3\"/><text class=\"lab lft\" transform=\"translate(-3 -7.0)\">6</text></g><path class=\"edge\" d=\"M 0 0 V -13.0746 H 31.25\"/><circle class=\"sym\" cx=\"0\" cy=\"0\" r=\"3\"/><text class=\"lab lft\" transform=\"translate(-3 -7.0)\">12</text></g><circle class=\"sym\" cx=\"0\" cy=\"0\" r=\"3\"/><text class=\"lab\" transform=\"translate(0 -11)\">13</text></g></g></g></g></g></svg>"
      ],
      "text/plain": [
       "<IPython.core.display.SVG object>"
      ]
     },
     "execution_count": 20,
     "metadata": {
      "filenames": {
       "image/svg+xml": "/home/runner/work/tskit-site/tskit-site/docs/_build/jupyter_execute/ancestry_36_0.svg"
      }
     },
     "output_type": "execute_result"
    }
   ],
   "source": [
    "rate_map = msprime.RateMap(position=[0, 10, 20], rate=[0.01, 0.1])\n",
    "ts = msprime.sim_ancestry(3, recombination_rate=rate_map, random_seed=2)\n",
    "SVG(ts.draw_svg())"
   ]
  },
  {
   "cell_type": "markdown",
   "id": "8486cf1e",
   "metadata": {},
   "source": [
    "Because the recombination rate in from position 10 to 20 is so much\n",
    "higher than the rate from 0 to 10, we can see that all the recombinations\n",
    "have fallen in the high recombination region.\n",
    "\n",
    ":::{seealso}\n",
    "- See the {ref}`sec_rate_maps_creating` section for more examples of\n",
    "creating {class}`.RateMap` instances.\n",
    "\n",
    "- See the {meth}`.RateMap.read_hapmap` method for reading in\n",
    "genetic maps from text files.\n",
    ":::\n",
    "\n",
    "(sec_ancestry_gene_conversion)=\n",
    "\n",
    "### Gene conversion\n",
    "\n",
    "Gene conversion events are defined by two parameters: the rate at which gene\n",
    "conversion events are initiated and the distribution of tract lengths.\n",
    "In the default case of discrete genome coordinates, tract lengths are drawn\n",
    "from a geometric distribution with mean ``gene_conversion_tract_length`` (which\n",
    "must be at least 1). Note that if we specify a tract length of 1, then all\n",
    "gene conversion tracts will have length exactly 1.\n",
    "In the following example one gene conversion event of length 1 has occurred:"
   ]
  },
  {
   "cell_type": "code",
   "execution_count": 21,
   "id": "df20343b",
   "metadata": {},
   "outputs": [
    {
     "data": {
      "image/svg+xml": [
       "<svg xmlns=\"http://www.w3.org/2000/svg\" xmlns:ev=\"http://www.w3.org/2001/xml-events\" xmlns:xlink=\"http://www.w3.org/1999/xlink\" baseProfile=\"full\" height=\"200\" version=\"1.1\" width=\"600\"><defs><style type=\"text/css\"><![CDATA[.tree-sequence .background path {fill: #808080; fill-opacity:0}.tree-sequence .background path:nth-child(odd) {fill-opacity:.1}.axes {font-size: 14px}.x-axis .tick .lab {font-weight: bold}.axes, .tree {font-size: 14px; text-anchor:middle}.y-axis line.grid {stroke: #FAFAFA}.y-axis > .lab text {transform: translateX(0.8em) rotate(-90deg)}.x-axis .tick g {transform: translateY(0.9em)}.x-axis > .lab text {transform: translateY(-0.8em)}.axes line, .edge {stroke:black; fill:none}.node > .sym {fill: black; stroke: none}.site > .sym {stroke: black}.mut text {fill: red; font-style: italic}.mut line {fill: none; stroke: none}.mut .sym {fill: none; stroke: red}.node .mut .sym {stroke-width: 1.5px}.tree text, .tree-sequence text {dominant-baseline: central}.plotbox .lab.lft {text-anchor: end}.plotbox .lab.rgt {text-anchor: start}]]></style></defs><g class=\"tree-sequence\"><g class=\"background\"><path d=\"M20,0 l186.667,0 l0,138.2 l93.3333,25 l0,5 l-280,0 l0,-5 l0,-25 l0,-138.2z\"/><path d=\"M206.667,0 l186.667,0 l0,138.2 l-37.3333,25 l0,5 l-56,0 l0,-5 l-93.3333,-25 l0,-138.2z\"/><path d=\"M393.333,0 l186.667,0 l0,138.2 l0,25 l0,5 l-224,0 l0,-5 l37.3333,-25 l0,-138.2z\"/></g><g class=\"axes\"><g class=\"x-axis\"><g class=\"lab\" transform=\"translate(300,200)\"><text text-anchor=\"middle\">Genome position</text></g><line x1=\"20\" x2=\"580\" y1=\"163.2\" y2=\"163.2\"/><g class=\"tick\" transform=\"translate(20 163.2)\"><line x1=\"0\" x2=\"0\" y1=\"0\" y2=\"5\"/><g class=\"lab\" transform=\"translate(0,5)\"><text>0</text></g></g><g class=\"tick\" transform=\"translate(300 163.2)\"><line x1=\"0\" x2=\"0\" y1=\"0\" y2=\"5\"/><g class=\"lab\" transform=\"translate(0,5)\"><text>5</text></g></g><g class=\"tick\" transform=\"translate(356 163.2)\"><line x1=\"0\" x2=\"0\" y1=\"0\" y2=\"5\"/><g class=\"lab\" transform=\"translate(0,5)\"><text>6</text></g></g><g class=\"tick\" transform=\"translate(580 163.2)\"><line x1=\"0\" x2=\"0\" y1=\"0\" y2=\"5\"/><g class=\"lab\" transform=\"translate(0,5)\"><text>10</text></g></g></g></g><g class=\"plotbox trees\"><g class=\"tree t0\" transform=\"translate(20 0)\"><g class=\"plotbox\"><g class=\"node n11 p0 root\" transform=\"translate(81.1111 26.8)\"><g class=\"a11 node n6 p0\" transform=\"translate(-36.6667 89.2217)\"><g class=\"a6 i0 leaf node n0 p0 sample\" transform=\"translate(-12.2222 5.37835)\"><path class=\"edge\" d=\"M 0 0 V -5.37835 H 12.2222\"/><rect class=\"sym\" height=\"6\" width=\"6\" x=\"-3\" y=\"-3\"/><text class=\"lab\" transform=\"translate(0 11)\">0</text></g><g class=\"a6 i2 leaf node n4 p0 sample\" transform=\"translate(12.2222 5.37835)\"><path class=\"edge\" d=\"M 0 0 V -5.37835 H -12.2222\"/><rect class=\"sym\" height=\"6\" width=\"6\" x=\"-3\" y=\"-3\"/><text class=\"lab\" transform=\"translate(0 11)\">4</text></g><path class=\"edge\" d=\"M 0 0 V -89.2217 H 36.6667\"/><circle class=\"sym\" cx=\"0\" cy=\"0\" r=\"3\"/><text class=\"lab lft\" transform=\"translate(-3 -7.0)\">6</text></g><g class=\"a11 node n10 p0\" transform=\"translate(36.6667 67.5377)\"><g class=\"a10 node n8 p0\" transform=\"translate(24.4444 15.7471)\"><g class=\"a8 i1 leaf node n2 p0 sample\" transform=\"translate(-12.2222 11.3152)\"><path class=\"edge\" d=\"M 0 0 V -11.3152 H 12.2222\"/><rect class=\"sym\" height=\"6\" width=\"6\" x=\"-3\" y=\"-3\"/><text class=\"lab\" transform=\"translate(0 11)\">2</text></g><g class=\"a8 i1 leaf node n3 p0 sample\" transform=\"translate(12.2222 11.3152)\"><path class=\"edge\" d=\"M 0 0 V -11.3152 H -12.2222\"/><rect class=\"sym\" height=\"6\" width=\"6\" x=\"-3\" y=\"-3\"/><text class=\"lab\" transform=\"translate(0 11)\">3</text></g><path class=\"edge\" d=\"M 0 0 V -15.7471 H -24.4444\"/><circle class=\"sym\" cx=\"0\" cy=\"0\" r=\"3\"/><text class=\"lab rgt\" transform=\"translate(3 -7.0)\">8</text></g><g class=\"a10 node n9 p0\" transform=\"translate(-24.4444 11.2407)\"><g class=\"a9 i0 leaf node n1 p0 sample\" transform=\"translate(-12.2222 15.8216)\"><path class=\"edge\" d=\"M 0 0 V -15.8216 H 12.2222\"/><rect class=\"sym\" height=\"6\" width=\"6\" x=\"-3\" y=\"-3\"/><text class=\"lab\" transform=\"translate(0 11)\">1</text></g><g class=\"a9 i2 leaf node n5 p0 sample\" transform=\"translate(12.2222 15.8216)\"><path class=\"edge\" d=\"M 0 0 V -15.8216 H -12.2222\"/><rect class=\"sym\" height=\"6\" width=\"6\" x=\"-3\" y=\"-3\"/><text class=\"lab\" transform=\"translate(0 11)\">5</text></g><path class=\"edge\" d=\"M 0 0 V -11.2407 H 24.4444\"/><circle class=\"sym\" cx=\"0\" cy=\"0\" r=\"3\"/><text class=\"lab lft\" transform=\"translate(-3 -7.0)\">9</text></g><path class=\"edge\" d=\"M 0 0 V -67.5377 H -36.6667\"/><circle class=\"sym\" cx=\"0\" cy=\"0\" r=\"3\"/><text class=\"lab rgt\" transform=\"translate(3 -7.0)\">10</text></g><circle class=\"sym\" cx=\"0\" cy=\"0\" r=\"3\"/><text class=\"lab\" transform=\"translate(0 -11)\">11</text></g></g></g><g class=\"tree t1\" transform=\"translate(206.667 0)\"><g class=\"plotbox\"><g class=\"node n11 p0 root\" transform=\"translate(99.4444 26.8)\"><g class=\"a11 node n10 p0\" transform=\"translate(36.6667 67.5377)\"><g class=\"a10 node n8 p0\" transform=\"translate(-18.3333 15.7471)\"><g class=\"a8 i1 leaf node n2 p0 sample\" transform=\"translate(-12.2222 11.3152)\"><path class=\"edge\" d=\"M 0 0 V -11.3152 H 12.2222\"/><rect class=\"sym\" height=\"6\" width=\"6\" x=\"-3\" y=\"-3\"/><text class=\"lab\" transform=\"translate(0 11)\">2</text></g><g class=\"a8 i1 leaf node n3 p0 sample\" transform=\"translate(12.2222 11.3152)\"><path class=\"edge\" d=\"M 0 0 V -11.3152 H -12.2222\"/><rect class=\"sym\" height=\"6\" width=\"6\" x=\"-3\" y=\"-3\"/><text class=\"lab\" transform=\"translate(0 11)\">3</text></g><path class=\"edge\" d=\"M 0 0 V -15.7471 H 18.3333\"/><circle class=\"sym\" cx=\"0\" cy=\"0\" r=\"3\"/><text class=\"lab lft\" transform=\"translate(-3 -7.0)\">8</text></g><g class=\"a10 i2 leaf node n5 p0 sample\" transform=\"translate(18.3333 27.0623)\"><path class=\"edge\" d=\"M 0 0 V -27.0623 H -18.3333\"/><rect class=\"sym\" height=\"6\" width=\"6\" x=\"-3\" y=\"-3\"/><text class=\"lab\" transform=\"translate(0 11)\">5</text></g><path class=\"edge\" d=\"M 0 0 V -67.5377 H -36.6667\"/><circle class=\"sym\" cx=\"0\" cy=\"0\" r=\"3\"/><text class=\"lab rgt\" transform=\"translate(3 -7.0)\">10</text></g><g class=\"a11 node n7 p0\" transform=\"translate(-36.6667 83.9282)\"><g class=\"a7 i0 leaf node n1 p0 sample\" transform=\"translate(18.3333 10.6718)\"><path class=\"edge\" d=\"M 0 0 V -10.6718 H -18.3333\"/><rect class=\"sym\" height=\"6\" width=\"6\" x=\"-3\" y=\"-3\"/><text class=\"lab\" transform=\"translate(0 11)\">1</text></g><g class=\"a7 node n6 p0\" transform=\"translate(-18.3333 5.29346)\"><g class=\"a6 i0 leaf node n0 p0 sample\" transform=\"translate(-12.2222 5.37835)\"><path class=\"edge\" d=\"M 0 0 V -5.37835 H 12.2222\"/><rect class=\"sym\" height=\"6\" width=\"6\" x=\"-3\" y=\"-3\"/><text class=\"lab\" transform=\"translate(0 11)\">0</text></g><g class=\"a6 i2 leaf node n4 p0 sample\" transform=\"translate(12.2222 5.37835)\"><path class=\"edge\" d=\"M 0 0 V -5.37835 H -12.2222\"/><rect class=\"sym\" height=\"6\" width=\"6\" x=\"-3\" y=\"-3\"/><text class=\"lab\" transform=\"translate(0 11)\">4</text></g><path class=\"edge\" d=\"M 0 0 V -5.29346 H 18.3333\"/><circle class=\"sym\" cx=\"0\" cy=\"0\" r=\"3\"/><text class=\"lab lft\" transform=\"translate(-3 -7.0)\">6</text></g><path class=\"edge\" d=\"M 0 0 V -83.9282 H 36.6667\"/><circle class=\"sym\" cx=\"0\" cy=\"0\" r=\"3\"/><text class=\"lab lft\" transform=\"translate(-3 -7.0)\">7</text></g><circle class=\"sym\" cx=\"0\" cy=\"0\" r=\"3\"/><text class=\"lab\" transform=\"translate(0 -11)\">11</text></g></g></g><g class=\"tree t2\" transform=\"translate(393.333 0)\"><g class=\"plotbox\"><g class=\"node n11 p0 root\" transform=\"translate(81.1111 26.8)\"><g class=\"a11 node n10 p0\" transform=\"translate(36.6667 67.5377)\"><g class=\"a10 node n8 p0\" transform=\"translate(24.4444 15.7471)\"><g class=\"a8 i1 leaf node n2 p0 sample\" transform=\"translate(-12.2222 11.3152)\"><path class=\"edge\" d=\"M 0 0 V -11.3152 H 12.2222\"/><rect class=\"sym\" height=\"6\" width=\"6\" x=\"-3\" y=\"-3\"/><text class=\"lab\" transform=\"translate(0 11)\">2</text></g><g class=\"a8 i1 leaf node n3 p0 sample\" transform=\"translate(12.2222 11.3152)\"><path class=\"edge\" d=\"M 0 0 V -11.3152 H -12.2222\"/><rect class=\"sym\" height=\"6\" width=\"6\" x=\"-3\" y=\"-3\"/><text class=\"lab\" transform=\"translate(0 11)\">3</text></g><path class=\"edge\" d=\"M 0 0 V -15.7471 H -24.4444\"/><circle class=\"sym\" cx=\"0\" cy=\"0\" r=\"3\"/><text class=\"lab rgt\" transform=\"translate(3 -7.0)\">8</text></g><g class=\"a10 node n9 p0\" transform=\"translate(-24.4444 11.2407)\"><g class=\"a9 i0 leaf node n1 p0 sample\" transform=\"translate(-12.2222 15.8216)\"><path class=\"edge\" d=\"M 0 0 V -15.8216 H 12.2222\"/><rect class=\"sym\" height=\"6\" width=\"6\" x=\"-3\" y=\"-3\"/><text class=\"lab\" transform=\"translate(0 11)\">1</text></g><g class=\"a9 i2 leaf node n5 p0 sample\" transform=\"translate(12.2222 15.8216)\"><path class=\"edge\" d=\"M 0 0 V -15.8216 H -12.2222\"/><rect class=\"sym\" height=\"6\" width=\"6\" x=\"-3\" y=\"-3\"/><text class=\"lab\" transform=\"translate(0 11)\">5</text></g><path class=\"edge\" d=\"M 0 0 V -11.2407 H 24.4444\"/><circle class=\"sym\" cx=\"0\" cy=\"0\" r=\"3\"/><text class=\"lab lft\" transform=\"translate(-3 -7.0)\">9</text></g><path class=\"edge\" d=\"M 0 0 V -67.5377 H -36.6667\"/><circle class=\"sym\" cx=\"0\" cy=\"0\" r=\"3\"/><text class=\"lab rgt\" transform=\"translate(3 -7.0)\">10</text></g><g class=\"a11 node n6 p0\" transform=\"translate(-36.6667 89.2217)\"><g class=\"a6 i0 leaf node n0 p0 sample\" transform=\"translate(-12.2222 5.37835)\"><path class=\"edge\" d=\"M 0 0 V -5.37835 H 12.2222\"/><rect class=\"sym\" height=\"6\" width=\"6\" x=\"-3\" y=\"-3\"/><text class=\"lab\" transform=\"translate(0 11)\">0</text></g><g class=\"a6 i2 leaf node n4 p0 sample\" transform=\"translate(12.2222 5.37835)\"><path class=\"edge\" d=\"M 0 0 V -5.37835 H -12.2222\"/><rect class=\"sym\" height=\"6\" width=\"6\" x=\"-3\" y=\"-3\"/><text class=\"lab\" transform=\"translate(0 11)\">4</text></g><path class=\"edge\" d=\"M 0 0 V -89.2217 H 36.6667\"/><circle class=\"sym\" cx=\"0\" cy=\"0\" r=\"3\"/><text class=\"lab lft\" transform=\"translate(-3 -7.0)\">6</text></g><circle class=\"sym\" cx=\"0\" cy=\"0\" r=\"3\"/><text class=\"lab\" transform=\"translate(0 -11)\">11</text></g></g></g></g></g></svg>"
      ],
      "text/plain": [
       "<IPython.core.display.SVG object>"
      ]
     },
     "execution_count": 21,
     "metadata": {
      "filenames": {
       "image/svg+xml": "/home/runner/work/tskit-site/tskit-site/docs/_build/jupyter_execute/ancestry_38_0.svg"
      }
     },
     "output_type": "execute_result"
    }
   ],
   "source": [
    "ts = msprime.sim_ancestry(\n",
    "    3, gene_conversion_rate=0.02, gene_conversion_tract_length=1,\n",
    "    sequence_length=10, random_seed=3)\n",
    "SVG(ts.draw_svg())"
   ]
  },
  {
   "cell_type": "markdown",
   "id": "cb074912",
   "metadata": {},
   "source": [
    ":::{note}\n",
    "We can see the specific effect of gene conversion here in this simple\n",
    "example, because the trees at either side of the event are identical.\n",
    "However, this will not be true in general.\n",
    ":::"
   ]
  },
  {
   "cell_type": "code",
   "execution_count": 22,
   "id": "9fc109ca",
   "metadata": {
    "tags": [
     "remove-cell"
    ]
   },
   "outputs": [],
   "source": [
    "assert ts.num_trees == 3\n",
    "assert ts.at(0).parent_dict == ts.at(2).parent_dict"
   ]
  },
  {
   "cell_type": "markdown",
   "id": "4b382c10",
   "metadata": {},
   "source": [
    "Continuous genomes can also be used. In this case the parameters define\n",
    "the rate at which gene conversion events are initiated per unit of sequence\n",
    "length and the mean of the exponentially distributed gene conversion tract\n",
    "lengths. The following example shows the same simulation as above but for a\n",
    "continuous genome:"
   ]
  },
  {
   "cell_type": "code",
   "execution_count": 23,
   "id": "1c1f3907",
   "metadata": {},
   "outputs": [
    {
     "data": {
      "image/svg+xml": [
       "<svg xmlns=\"http://www.w3.org/2000/svg\" xmlns:ev=\"http://www.w3.org/2001/xml-events\" xmlns:xlink=\"http://www.w3.org/1999/xlink\" baseProfile=\"full\" height=\"200\" version=\"1.1\" width=\"600\"><defs><style type=\"text/css\"><![CDATA[.tree-sequence .background path {fill: #808080; fill-opacity:0}.tree-sequence .background path:nth-child(odd) {fill-opacity:.1}.axes {font-size: 14px}.x-axis .tick .lab {font-weight: bold}.axes, .tree {font-size: 14px; text-anchor:middle}.y-axis line.grid {stroke: #FAFAFA}.y-axis > .lab text {transform: translateX(0.8em) rotate(-90deg)}.x-axis .tick g {transform: translateY(0.9em)}.x-axis > .lab text {transform: translateY(-0.8em)}.axes line, .edge {stroke:black; fill:none}.node > .sym {fill: black; stroke: none}.site > .sym {stroke: black}.mut text {fill: red; font-style: italic}.mut line {fill: none; stroke: none}.mut .sym {fill: none; stroke: red}.node .mut .sym {stroke-width: 1.5px}.tree text, .tree-sequence text {dominant-baseline: central}.plotbox .lab.lft {text-anchor: end}.plotbox .lab.rgt {text-anchor: start}]]></style></defs><g class=\"tree-sequence\"><g class=\"background\"><path d=\"M20,0 l186.667,0 l0,138.2 l73.5848,25 l0,5 l-260.251,0 l0,-5 l0,-25 l0,-138.2z\"/><path d=\"M206.667,0 l186.667,0 l0,138.2 l-80.9051,25 l0,5 l-32.1768,0 l0,-5 l-73.5848,-25 l0,-138.2z\"/><path d=\"M393.333,0 l186.667,0 l0,138.2 l0,25 l0,5 l-267.572,0 l0,-5 l80.9051,-25 l0,-138.2z\"/></g><g class=\"axes\"><g class=\"x-axis\"><g class=\"lab\" transform=\"translate(300,200)\"><text text-anchor=\"middle\">Genome position</text></g><line x1=\"20\" x2=\"580\" y1=\"163.2\" y2=\"163.2\"/><g class=\"tick\" transform=\"translate(20 163.2)\"><line x1=\"0\" x2=\"0\" y1=\"0\" y2=\"5\"/><g class=\"lab\" transform=\"translate(0,5)\"><text>0.00</text></g></g><g class=\"tick\" transform=\"translate(280.251 163.2)\"><line x1=\"0\" x2=\"0\" y1=\"0\" y2=\"5\"/><g class=\"lab\" transform=\"translate(0,5)\"><text>4.65</text></g></g><g class=\"tick\" transform=\"translate(312.428 163.2)\"><line x1=\"0\" x2=\"0\" y1=\"0\" y2=\"5\"/><g class=\"lab\" transform=\"translate(0,5)\"><text>5.22</text></g></g><g class=\"tick\" transform=\"translate(580 163.2)\"><line x1=\"0\" x2=\"0\" y1=\"0\" y2=\"5\"/><g class=\"lab\" transform=\"translate(0,5)\"><text>10.00</text></g></g></g></g><g class=\"plotbox trees\"><g class=\"tree t0\" transform=\"translate(20 0)\"><g class=\"plotbox\"><g class=\"node n11 p0 root\" transform=\"translate(81.1111 26.8)\"><g class=\"a11 node n6 p0\" transform=\"translate(-36.6667 89.0063)\"><g class=\"a6 i0 leaf node n0 p0 sample\" transform=\"translate(-12.2222 5.59372)\"><path class=\"edge\" d=\"M 0 0 V -5.59372 H 12.2222\"/><rect class=\"sym\" height=\"6\" width=\"6\" x=\"-3\" y=\"-3\"/><text class=\"lab\" transform=\"translate(0 11)\">0</text></g><g class=\"a6 i2 leaf node n4 p0 sample\" transform=\"translate(12.2222 5.59372)\"><path class=\"edge\" d=\"M 0 0 V -5.59372 H -12.2222\"/><rect class=\"sym\" height=\"6\" width=\"6\" x=\"-3\" y=\"-3\"/><text class=\"lab\" transform=\"translate(0 11)\">4</text></g><path class=\"edge\" d=\"M 0 0 V -89.0063 H 36.6667\"/><circle class=\"sym\" cx=\"0\" cy=\"0\" r=\"3\"/><text class=\"lab lft\" transform=\"translate(-3 -7.0)\">6</text></g><g class=\"a11 node n10 p0\" transform=\"translate(36.6667 67.0871)\"><g class=\"a10 node n8 p0\" transform=\"translate(24.4444 16.2341)\"><g class=\"a8 i1 leaf node n2 p0 sample\" transform=\"translate(-12.2222 11.2788)\"><path class=\"edge\" d=\"M 0 0 V -11.2788 H 12.2222\"/><rect class=\"sym\" height=\"6\" width=\"6\" x=\"-3\" y=\"-3\"/><text class=\"lab\" transform=\"translate(0 11)\">2</text></g><g class=\"a8 i1 leaf node n3 p0 sample\" transform=\"translate(12.2222 11.2788)\"><path class=\"edge\" d=\"M 0 0 V -11.2788 H -12.2222\"/><rect class=\"sym\" height=\"6\" width=\"6\" x=\"-3\" y=\"-3\"/><text class=\"lab\" transform=\"translate(0 11)\">3</text></g><path class=\"edge\" d=\"M 0 0 V -16.2341 H -24.4444\"/><circle class=\"sym\" cx=\"0\" cy=\"0\" r=\"3\"/><text class=\"lab rgt\" transform=\"translate(3 -7.0)\">8</text></g><g class=\"a10 node n9 p0\" transform=\"translate(-24.4444 11.6908)\"><g class=\"a9 i0 leaf node n1 p0 sample\" transform=\"translate(-12.2222 15.8221)\"><path class=\"edge\" d=\"M 0 0 V -15.8221 H 12.2222\"/><rect class=\"sym\" height=\"6\" width=\"6\" x=\"-3\" y=\"-3\"/><text class=\"lab\" transform=\"translate(0 11)\">1</text></g><g class=\"a9 i2 leaf node n5 p0 sample\" transform=\"translate(12.2222 15.8221)\"><path class=\"edge\" d=\"M 0 0 V -15.8221 H -12.2222\"/><rect class=\"sym\" height=\"6\" width=\"6\" x=\"-3\" y=\"-3\"/><text class=\"lab\" transform=\"translate(0 11)\">5</text></g><path class=\"edge\" d=\"M 0 0 V -11.6908 H 24.4444\"/><circle class=\"sym\" cx=\"0\" cy=\"0\" r=\"3\"/><text class=\"lab lft\" transform=\"translate(-3 -7.0)\">9</text></g><path class=\"edge\" d=\"M 0 0 V -67.0871 H -36.6667\"/><circle class=\"sym\" cx=\"0\" cy=\"0\" r=\"3\"/><text class=\"lab rgt\" transform=\"translate(3 -7.0)\">10</text></g><circle class=\"sym\" cx=\"0\" cy=\"0\" r=\"3\"/><text class=\"lab\" transform=\"translate(0 -11)\">11</text></g></g></g><g class=\"tree t1\" transform=\"translate(206.667 0)\"><g class=\"plotbox\"><g class=\"node n11 p0 root\" transform=\"translate(99.4444 26.8)\"><g class=\"a11 node n10 p0\" transform=\"translate(36.6667 67.0871)\"><g class=\"a10 node n8 p0\" transform=\"translate(-18.3333 16.2341)\"><g class=\"a8 i1 leaf node n2 p0 sample\" transform=\"translate(-12.2222 11.2788)\"><path class=\"edge\" d=\"M 0 0 V -11.2788 H 12.2222\"/><rect class=\"sym\" height=\"6\" width=\"6\" x=\"-3\" y=\"-3\"/><text class=\"lab\" transform=\"translate(0 11)\">2</text></g><g class=\"a8 i1 leaf node n3 p0 sample\" transform=\"translate(12.2222 11.2788)\"><path class=\"edge\" d=\"M 0 0 V -11.2788 H -12.2222\"/><rect class=\"sym\" height=\"6\" width=\"6\" x=\"-3\" y=\"-3\"/><text class=\"lab\" transform=\"translate(0 11)\">3</text></g><path class=\"edge\" d=\"M 0 0 V -16.2341 H 18.3333\"/><circle class=\"sym\" cx=\"0\" cy=\"0\" r=\"3\"/><text class=\"lab lft\" transform=\"translate(-3 -7.0)\">8</text></g><g class=\"a10 i2 leaf node n5 p0 sample\" transform=\"translate(18.3333 27.5129)\"><path class=\"edge\" d=\"M 0 0 V -27.5129 H -18.3333\"/><rect class=\"sym\" height=\"6\" width=\"6\" x=\"-3\" y=\"-3\"/><text class=\"lab\" transform=\"translate(0 11)\">5</text></g><path class=\"edge\" d=\"M 0 0 V -67.0871 H -36.6667\"/><circle class=\"sym\" cx=\"0\" cy=\"0\" r=\"3\"/><text class=\"lab rgt\" transform=\"translate(3 -7.0)\">10</text></g><g class=\"a11 node n7 p0\" transform=\"translate(-36.6667 83.9904)\"><g class=\"a7 i0 leaf node n1 p0 sample\" transform=\"translate(18.3333 10.6096)\"><path class=\"edge\" d=\"M 0 0 V -10.6096 H -18.3333\"/><rect class=\"sym\" height=\"6\" width=\"6\" x=\"-3\" y=\"-3\"/><text class=\"lab\" transform=\"translate(0 11)\">1</text></g><g class=\"a7 node n6 p0\" transform=\"translate(-18.3333 5.01584)\"><g class=\"a6 i0 leaf node n0 p0 sample\" transform=\"translate(-12.2222 5.59372)\"><path class=\"edge\" d=\"M 0 0 V -5.59372 H 12.2222\"/><rect class=\"sym\" height=\"6\" width=\"6\" x=\"-3\" y=\"-3\"/><text class=\"lab\" transform=\"translate(0 11)\">0</text></g><g class=\"a6 i2 leaf node n4 p0 sample\" transform=\"translate(12.2222 5.59372)\"><path class=\"edge\" d=\"M 0 0 V -5.59372 H -12.2222\"/><rect class=\"sym\" height=\"6\" width=\"6\" x=\"-3\" y=\"-3\"/><text class=\"lab\" transform=\"translate(0 11)\">4</text></g><path class=\"edge\" d=\"M 0 0 V -5.01584 H 18.3333\"/><circle class=\"sym\" cx=\"0\" cy=\"0\" r=\"3\"/><text class=\"lab lft\" transform=\"translate(-3 -7.0)\">6</text></g><path class=\"edge\" d=\"M 0 0 V -83.9904 H 36.6667\"/><circle class=\"sym\" cx=\"0\" cy=\"0\" r=\"3\"/><text class=\"lab lft\" transform=\"translate(-3 -7.0)\">7</text></g><circle class=\"sym\" cx=\"0\" cy=\"0\" r=\"3\"/><text class=\"lab\" transform=\"translate(0 -11)\">11</text></g></g></g><g class=\"tree t2\" transform=\"translate(393.333 0)\"><g class=\"plotbox\"><g class=\"node n11 p0 root\" transform=\"translate(81.1111 26.8)\"><g class=\"a11 node n10 p0\" transform=\"translate(36.6667 67.0871)\"><g class=\"a10 node n8 p0\" transform=\"translate(24.4444 16.2341)\"><g class=\"a8 i1 leaf node n2 p0 sample\" transform=\"translate(-12.2222 11.2788)\"><path class=\"edge\" d=\"M 0 0 V -11.2788 H 12.2222\"/><rect class=\"sym\" height=\"6\" width=\"6\" x=\"-3\" y=\"-3\"/><text class=\"lab\" transform=\"translate(0 11)\">2</text></g><g class=\"a8 i1 leaf node n3 p0 sample\" transform=\"translate(12.2222 11.2788)\"><path class=\"edge\" d=\"M 0 0 V -11.2788 H -12.2222\"/><rect class=\"sym\" height=\"6\" width=\"6\" x=\"-3\" y=\"-3\"/><text class=\"lab\" transform=\"translate(0 11)\">3</text></g><path class=\"edge\" d=\"M 0 0 V -16.2341 H -24.4444\"/><circle class=\"sym\" cx=\"0\" cy=\"0\" r=\"3\"/><text class=\"lab rgt\" transform=\"translate(3 -7.0)\">8</text></g><g class=\"a10 node n9 p0\" transform=\"translate(-24.4444 11.6908)\"><g class=\"a9 i0 leaf node n1 p0 sample\" transform=\"translate(-12.2222 15.8221)\"><path class=\"edge\" d=\"M 0 0 V -15.8221 H 12.2222\"/><rect class=\"sym\" height=\"6\" width=\"6\" x=\"-3\" y=\"-3\"/><text class=\"lab\" transform=\"translate(0 11)\">1</text></g><g class=\"a9 i2 leaf node n5 p0 sample\" transform=\"translate(12.2222 15.8221)\"><path class=\"edge\" d=\"M 0 0 V -15.8221 H -12.2222\"/><rect class=\"sym\" height=\"6\" width=\"6\" x=\"-3\" y=\"-3\"/><text class=\"lab\" transform=\"translate(0 11)\">5</text></g><path class=\"edge\" d=\"M 0 0 V -11.6908 H 24.4444\"/><circle class=\"sym\" cx=\"0\" cy=\"0\" r=\"3\"/><text class=\"lab lft\" transform=\"translate(-3 -7.0)\">9</text></g><path class=\"edge\" d=\"M 0 0 V -67.0871 H -36.6667\"/><circle class=\"sym\" cx=\"0\" cy=\"0\" r=\"3\"/><text class=\"lab rgt\" transform=\"translate(3 -7.0)\">10</text></g><g class=\"a11 node n6 p0\" transform=\"translate(-36.6667 89.0063)\"><g class=\"a6 i0 leaf node n0 p0 sample\" transform=\"translate(-12.2222 5.59372)\"><path class=\"edge\" d=\"M 0 0 V -5.59372 H 12.2222\"/><rect class=\"sym\" height=\"6\" width=\"6\" x=\"-3\" y=\"-3\"/><text class=\"lab\" transform=\"translate(0 11)\">0</text></g><g class=\"a6 i2 leaf node n4 p0 sample\" transform=\"translate(12.2222 5.59372)\"><path class=\"edge\" d=\"M 0 0 V -5.59372 H -12.2222\"/><rect class=\"sym\" height=\"6\" width=\"6\" x=\"-3\" y=\"-3\"/><text class=\"lab\" transform=\"translate(0 11)\">4</text></g><path class=\"edge\" d=\"M 0 0 V -89.0063 H 36.6667\"/><circle class=\"sym\" cx=\"0\" cy=\"0\" r=\"3\"/><text class=\"lab lft\" transform=\"translate(-3 -7.0)\">6</text></g><circle class=\"sym\" cx=\"0\" cy=\"0\" r=\"3\"/><text class=\"lab\" transform=\"translate(0 -11)\">11</text></g></g></g></g></g></svg>"
      ],
      "text/plain": [
       "<IPython.core.display.SVG object>"
      ]
     },
     "execution_count": 23,
     "metadata": {
      "filenames": {
       "image/svg+xml": "/home/runner/work/tskit-site/tskit-site/docs/_build/jupyter_execute/ancestry_42_0.svg"
      }
     },
     "output_type": "execute_result"
    }
   ],
   "source": [
    "ts = msprime.sim_ancestry(\n",
    "    3, gene_conversion_rate=0.02, gene_conversion_tract_length=1,\n",
    "    sequence_length=10, random_seed=3, discrete_genome=False)\n",
    "SVG(ts.draw_svg())"
   ]
  },
  {
   "cell_type": "code",
   "execution_count": 24,
   "id": "21a3ac4d",
   "metadata": {
    "tags": [
     "remove-cell"
    ]
   },
   "outputs": [],
   "source": [
    "assert ts.num_trees == 3"
   ]
  },
  {
   "cell_type": "markdown",
   "id": "52bf262d",
   "metadata": {},
   "source": [
    "Recombination and gene conversion at constant rates can be simulated alongside.\n",
    "In the following example recombinations at site 60 and 97 have occurred in addition\n",
    "to a gene conversion event covering the tract from site 76 to site 80."
   ]
  },
  {
   "cell_type": "code",
   "execution_count": 25,
   "id": "c7f9eb8f",
   "metadata": {},
   "outputs": [
    {
     "data": {
      "image/svg+xml": [
       "<svg xmlns=\"http://www.w3.org/2000/svg\" xmlns:ev=\"http://www.w3.org/2001/xml-events\" xmlns:xlink=\"http://www.w3.org/1999/xlink\" baseProfile=\"full\" height=\"200\" version=\"1.1\" width=\"1000\"><defs><style type=\"text/css\"><![CDATA[.tree-sequence .background path {fill: #808080; fill-opacity:0}.tree-sequence .background path:nth-child(odd) {fill-opacity:.1}.axes {font-size: 14px}.x-axis .tick .lab {font-weight: bold}.axes, .tree {font-size: 14px; text-anchor:middle}.y-axis line.grid {stroke: #FAFAFA}.y-axis > .lab text {transform: translateX(0.8em) rotate(-90deg)}.x-axis .tick g {transform: translateY(0.9em)}.x-axis > .lab text {transform: translateY(-0.8em)}.axes line, .edge {stroke:black; fill:none}.node > .sym {fill: black; stroke: none}.site > .sym {stroke: black}.mut text {fill: red; font-style: italic}.mut line {fill: none; stroke: none}.mut .sym {fill: none; stroke: red}.node .mut .sym {stroke-width: 1.5px}.tree text, .tree-sequence text {dominant-baseline: central}.plotbox .lab.lft {text-anchor: end}.plotbox .lab.rgt {text-anchor: start}]]></style></defs><g class=\"tree-sequence\"><g class=\"background\"><path d=\"M20,0 l192,0 l0,138.2 l384,25 l0,5 l-576,0 l0,-5 l0,-25 l0,-138.2z\"/><path d=\"M212,0 l192,0 l0,138.2 l345.6,25 l0,5 l-153.6,0 l0,-5 l-384,-25 l0,-138.2z\"/><path d=\"M404,0 l192,0 l0,138.2 l201.6,25 l0,5 l-48,0 l0,-5 l-345.6,-25 l0,-138.2z\"/><path d=\"M596,0 l192,0 l0,138.2 l163.2,25 l0,5 l-153.6,0 l0,-5 l-201.6,-25 l0,-138.2z\"/><path d=\"M788,0 l192,0 l0,138.2 l0,25 l0,5 l-28.8,0 l0,-5 l-163.2,-25 l0,-138.2z\"/></g><g class=\"axes\"><g class=\"x-axis\"><g class=\"lab\" transform=\"translate(500,200)\"><text text-anchor=\"middle\">Genome position</text></g><line x1=\"20\" x2=\"980\" y1=\"163.2\" y2=\"163.2\"/><g class=\"tick\" transform=\"translate(20 163.2)\"><line x1=\"0\" x2=\"0\" y1=\"0\" y2=\"5\"/><g class=\"lab\" transform=\"translate(0,5)\"><text>0</text></g></g><g class=\"tick\" transform=\"translate(596 163.2)\"><line x1=\"0\" x2=\"0\" y1=\"0\" y2=\"5\"/><g class=\"lab\" transform=\"translate(0,5)\"><text>60</text></g></g><g class=\"tick\" transform=\"translate(749.6 163.2)\"><line x1=\"0\" x2=\"0\" y1=\"0\" y2=\"5\"/><g class=\"lab\" transform=\"translate(0,5)\"><text>76</text></g></g><g class=\"tick\" transform=\"translate(797.6 163.2)\"><line x1=\"0\" x2=\"0\" y1=\"0\" y2=\"5\"/><g class=\"lab\" transform=\"translate(0,5)\"><text>81</text></g></g><g class=\"tick\" transform=\"translate(951.2 163.2)\"><line x1=\"0\" x2=\"0\" y1=\"0\" y2=\"5\"/><g class=\"lab\" transform=\"translate(0,5)\"><text>97</text></g></g><g class=\"tick\" transform=\"translate(980 163.2)\"><line x1=\"0\" x2=\"0\" y1=\"0\" y2=\"5\"/><g class=\"lab\" transform=\"translate(0,5)\"><text>100</text></g></g></g></g><g class=\"plotbox trees\"><g class=\"tree t0\" transform=\"translate(20 0)\"><g class=\"plotbox\"><g class=\"node n10 p0 root\" transform=\"translate(119.75 102.603)\"><g class=\"a10 i1 leaf node n2 p0 sample\" transform=\"translate(39.5833 18.7971)\"><path class=\"edge\" d=\"M 0 0 V -18.7971 H -39.5833\"/><rect class=\"sym\" height=\"6\" width=\"6\" x=\"-3\" y=\"-3\"/><text class=\"lab\" transform=\"translate(0 11)\">2</text></g><g class=\"a10 node n9 p0\" transform=\"translate(-39.5833 5.07917)\"><g class=\"a9 node n7 p0\" transform=\"translate(34.8333 10.3648)\"><g class=\"a7 i1 leaf node n3 p0 sample\" transform=\"translate(19 3.35313)\"><path class=\"edge\" d=\"M 0 0 V -3.35313 H -19\"/><rect class=\"sym\" height=\"6\" width=\"6\" x=\"-3\" y=\"-3\"/><text class=\"lab\" transform=\"translate(0 11)\">3</text></g><g class=\"a7 node n6 p0\" transform=\"translate(-19 3.03802)\"><g class=\"a6 i0 leaf node n1 p0 sample\" transform=\"translate(-12.6667 0.315114)\"><path class=\"edge\" d=\"M 0 0 V -0.315114 H 12.6667\"/><rect class=\"sym\" height=\"6\" width=\"6\" x=\"-3\" y=\"-3\"/><text class=\"lab\" transform=\"translate(0 11)\">1</text></g><g class=\"a6 i2 leaf node n5 p0 sample\" transform=\"translate(12.6667 0.315114)\"><path class=\"edge\" d=\"M 0 0 V -0.315114 H -12.6667\"/><rect class=\"sym\" height=\"6\" width=\"6\" x=\"-3\" y=\"-3\"/><text class=\"lab\" transform=\"translate(0 11)\">5</text></g><path class=\"edge\" d=\"M 0 0 V -3.03802 H 19\"/><circle class=\"sym\" cx=\"0\" cy=\"0\" r=\"3\"/><text class=\"lab lft\" transform=\"translate(-3 -7.0)\">6</text></g><path class=\"edge\" d=\"M 0 0 V -10.3648 H -34.8333\"/><circle class=\"sym\" cx=\"0\" cy=\"0\" r=\"3\"/><text class=\"lab rgt\" transform=\"translate(3 -7.0)\">7</text></g><g class=\"a9 node n8 p0\" transform=\"translate(-34.8333 5.42491)\"><g class=\"a8 i0 leaf node n0 p0 sample\" transform=\"translate(-12.6667 8.29301)\"><path class=\"edge\" d=\"M 0 0 V -8.29301 H 12.6667\"/><rect class=\"sym\" height=\"6\" width=\"6\" x=\"-3\" y=\"-3\"/><text class=\"lab\" transform=\"translate(0 11)\">0</text></g><g class=\"a8 i2 leaf node n4 p0 sample\" transform=\"translate(12.6667 8.29301)\"><path class=\"edge\" d=\"M 0 0 V -8.29301 H -12.6667\"/><rect class=\"sym\" height=\"6\" width=\"6\" x=\"-3\" y=\"-3\"/><text class=\"lab\" transform=\"translate(0 11)\">4</text></g><path class=\"edge\" d=\"M 0 0 V -5.42491 H 34.8333\"/><circle class=\"sym\" cx=\"0\" cy=\"0\" r=\"3\"/><text class=\"lab lft\" transform=\"translate(-3 -7.0)\">8</text></g><path class=\"edge\" d=\"M 0 0 V -5.07917 H 39.5833\"/><circle class=\"sym\" cx=\"0\" cy=\"0\" r=\"3\"/><text class=\"lab lft\" transform=\"translate(-3 -7.0)\">9</text></g><circle class=\"sym\" cx=\"0\" cy=\"0\" r=\"3\"/><text class=\"lab\" transform=\"translate(0 -11)\">10</text></g></g></g><g class=\"tree t1\" transform=\"translate(212 0)\"><g class=\"plotbox\"><g class=\"node n11 p0 root\" transform=\"translate(119.75 89.986)\"><g class=\"a11 i1 leaf node n2 p0 sample\" transform=\"translate(39.5833 31.414)\"><path class=\"edge\" d=\"M 0 0 V -31.414 H -39.5833\"/><rect class=\"sym\" height=\"6\" width=\"6\" x=\"-3\" y=\"-3\"/><text class=\"lab\" transform=\"translate(0 11)\">2</text></g><g class=\"a11 node n9 p0\" transform=\"translate(-39.5833 17.6961)\"><g class=\"a9 node n7 p0\" transform=\"translate(34.8333 10.3648)\"><g class=\"a7 i1 leaf node n3 p0 sample\" transform=\"translate(19 3.35313)\"><path class=\"edge\" d=\"M 0 0 V -3.35313 H -19\"/><rect class=\"sym\" height=\"6\" width=\"6\" x=\"-3\" y=\"-3\"/><text class=\"lab\" transform=\"translate(0 11)\">3</text></g><g class=\"a7 node n6 p0\" transform=\"translate(-19 3.03802)\"><g class=\"a6 i0 leaf node n1 p0 sample\" transform=\"translate(-12.6667 0.315114)\"><path class=\"edge\" d=\"M 0 0 V -0.315114 H 12.6667\"/><rect class=\"sym\" height=\"6\" width=\"6\" x=\"-3\" y=\"-3\"/><text class=\"lab\" transform=\"translate(0 11)\">1</text></g><g class=\"a6 i2 leaf node n5 p0 sample\" transform=\"translate(12.6667 0.315114)\"><path class=\"edge\" d=\"M 0 0 V -0.315114 H -12.6667\"/><rect class=\"sym\" height=\"6\" width=\"6\" x=\"-3\" y=\"-3\"/><text class=\"lab\" transform=\"translate(0 11)\">5</text></g><path class=\"edge\" d=\"M 0 0 V -3.03802 H 19\"/><circle class=\"sym\" cx=\"0\" cy=\"0\" r=\"3\"/><text class=\"lab lft\" transform=\"translate(-3 -7.0)\">6</text></g><path class=\"edge\" d=\"M 0 0 V -10.3648 H -34.8333\"/><circle class=\"sym\" cx=\"0\" cy=\"0\" r=\"3\"/><text class=\"lab rgt\" transform=\"translate(3 -7.0)\">7</text></g><g class=\"a9 node n8 p0\" transform=\"translate(-34.8333 5.42491)\"><g class=\"a8 i0 leaf node n0 p0 sample\" transform=\"translate(-12.6667 8.29301)\"><path class=\"edge\" d=\"M 0 0 V -8.29301 H 12.6667\"/><rect class=\"sym\" height=\"6\" width=\"6\" x=\"-3\" y=\"-3\"/><text class=\"lab\" transform=\"translate(0 11)\">0</text></g><g class=\"a8 i2 leaf node n4 p0 sample\" transform=\"translate(12.6667 8.29301)\"><path class=\"edge\" d=\"M 0 0 V -8.29301 H -12.6667\"/><rect class=\"sym\" height=\"6\" width=\"6\" x=\"-3\" y=\"-3\"/><text class=\"lab\" transform=\"translate(0 11)\">4</text></g><path class=\"edge\" d=\"M 0 0 V -5.42491 H 34.8333\"/><circle class=\"sym\" cx=\"0\" cy=\"0\" r=\"3\"/><text class=\"lab lft\" transform=\"translate(-3 -7.0)\">8</text></g><path class=\"edge\" d=\"M 0 0 V -17.6961 H 39.5833\"/><circle class=\"sym\" cx=\"0\" cy=\"0\" r=\"3\"/><text class=\"lab lft\" transform=\"translate(-3 -7.0)\">9</text></g><circle class=\"sym\" cx=\"0\" cy=\"0\" r=\"3\"/><text class=\"lab\" transform=\"translate(0 -11)\">11</text></g></g></g><g class=\"tree t2\" transform=\"translate(404 0)\"><g class=\"plotbox\"><g class=\"node n12 p0 root\" transform=\"translate(119.75 82.5253)\"><g class=\"a12 i1 leaf node n2 p0 sample\" transform=\"translate(39.5833 38.8747)\"><path class=\"edge\" d=\"M 0 0 V -38.8747 H -39.5833\"/><rect class=\"sym\" height=\"6\" width=\"6\" x=\"-3\" y=\"-3\"/><text class=\"lab\" transform=\"translate(0 11)\">2</text></g><g class=\"a12 node n9 p0\" transform=\"translate(-39.5833 25.1568)\"><g class=\"a9 node n7 p0\" transform=\"translate(34.8333 10.3648)\"><g class=\"a7 i1 leaf node n3 p0 sample\" transform=\"translate(19 3.35313)\"><path class=\"edge\" d=\"M 0 0 V -3.35313 H -19\"/><rect class=\"sym\" height=\"6\" width=\"6\" x=\"-3\" y=\"-3\"/><text class=\"lab\" transform=\"translate(0 11)\">3</text></g><g class=\"a7 node n6 p0\" transform=\"translate(-19 3.03802)\"><g class=\"a6 i0 leaf node n1 p0 sample\" transform=\"translate(-12.6667 0.315114)\"><path class=\"edge\" d=\"M 0 0 V -0.315114 H 12.6667\"/><rect class=\"sym\" height=\"6\" width=\"6\" x=\"-3\" y=\"-3\"/><text class=\"lab\" transform=\"translate(0 11)\">1</text></g><g class=\"a6 i2 leaf node n5 p0 sample\" transform=\"translate(12.6667 0.315114)\"><path class=\"edge\" d=\"M 0 0 V -0.315114 H -12.6667\"/><rect class=\"sym\" height=\"6\" width=\"6\" x=\"-3\" y=\"-3\"/><text class=\"lab\" transform=\"translate(0 11)\">5</text></g><path class=\"edge\" d=\"M 0 0 V -3.03802 H 19\"/><circle class=\"sym\" cx=\"0\" cy=\"0\" r=\"3\"/><text class=\"lab lft\" transform=\"translate(-3 -7.0)\">6</text></g><path class=\"edge\" d=\"M 0 0 V -10.3648 H -34.8333\"/><circle class=\"sym\" cx=\"0\" cy=\"0\" r=\"3\"/><text class=\"lab rgt\" transform=\"translate(3 -7.0)\">7</text></g><g class=\"a9 node n8 p0\" transform=\"translate(-34.8333 5.42491)\"><g class=\"a8 i0 leaf node n0 p0 sample\" transform=\"translate(-12.6667 8.29301)\"><path class=\"edge\" d=\"M 0 0 V -8.29301 H 12.6667\"/><rect class=\"sym\" height=\"6\" width=\"6\" x=\"-3\" y=\"-3\"/><text class=\"lab\" transform=\"translate(0 11)\">0</text></g><g class=\"a8 i2 leaf node n4 p0 sample\" transform=\"translate(12.6667 8.29301)\"><path class=\"edge\" d=\"M 0 0 V -8.29301 H -12.6667\"/><rect class=\"sym\" height=\"6\" width=\"6\" x=\"-3\" y=\"-3\"/><text class=\"lab\" transform=\"translate(0 11)\">4</text></g><path class=\"edge\" d=\"M 0 0 V -5.42491 H 34.8333\"/><circle class=\"sym\" cx=\"0\" cy=\"0\" r=\"3\"/><text class=\"lab lft\" transform=\"translate(-3 -7.0)\">8</text></g><path class=\"edge\" d=\"M 0 0 V -25.1568 H 39.5833\"/><circle class=\"sym\" cx=\"0\" cy=\"0\" r=\"3\"/><text class=\"lab lft\" transform=\"translate(-3 -7.0)\">9</text></g><circle class=\"sym\" cx=\"0\" cy=\"0\" r=\"3\"/><text class=\"lab\" transform=\"translate(0 -11)\">12</text></g></g></g><g class=\"tree t3\" transform=\"translate(596 0)\"><g class=\"plotbox\"><g class=\"node n11 p0 root\" transform=\"translate(119.75 89.986)\"><g class=\"a11 i1 leaf node n2 p0 sample\" transform=\"translate(39.5833 31.414)\"><path class=\"edge\" d=\"M 0 0 V -31.414 H -39.5833\"/><rect class=\"sym\" height=\"6\" width=\"6\" x=\"-3\" y=\"-3\"/><text class=\"lab\" transform=\"translate(0 11)\">2</text></g><g class=\"a11 node n9 p0\" transform=\"translate(-39.5833 17.6961)\"><g class=\"a9 node n7 p0\" transform=\"translate(34.8333 10.3648)\"><g class=\"a7 i1 leaf node n3 p0 sample\" transform=\"translate(19 3.35313)\"><path class=\"edge\" d=\"M 0 0 V -3.35313 H -19\"/><rect class=\"sym\" height=\"6\" width=\"6\" x=\"-3\" y=\"-3\"/><text class=\"lab\" transform=\"translate(0 11)\">3</text></g><g class=\"a7 node n6 p0\" transform=\"translate(-19 3.03802)\"><g class=\"a6 i0 leaf node n1 p0 sample\" transform=\"translate(-12.6667 0.315114)\"><path class=\"edge\" d=\"M 0 0 V -0.315114 H 12.6667\"/><rect class=\"sym\" height=\"6\" width=\"6\" x=\"-3\" y=\"-3\"/><text class=\"lab\" transform=\"translate(0 11)\">1</text></g><g class=\"a6 i2 leaf node n5 p0 sample\" transform=\"translate(12.6667 0.315114)\"><path class=\"edge\" d=\"M 0 0 V -0.315114 H -12.6667\"/><rect class=\"sym\" height=\"6\" width=\"6\" x=\"-3\" y=\"-3\"/><text class=\"lab\" transform=\"translate(0 11)\">5</text></g><path class=\"edge\" d=\"M 0 0 V -3.03802 H 19\"/><circle class=\"sym\" cx=\"0\" cy=\"0\" r=\"3\"/><text class=\"lab lft\" transform=\"translate(-3 -7.0)\">6</text></g><path class=\"edge\" d=\"M 0 0 V -10.3648 H -34.8333\"/><circle class=\"sym\" cx=\"0\" cy=\"0\" r=\"3\"/><text class=\"lab rgt\" transform=\"translate(3 -7.0)\">7</text></g><g class=\"a9 node n8 p0\" transform=\"translate(-34.8333 5.42491)\"><g class=\"a8 i0 leaf node n0 p0 sample\" transform=\"translate(-12.6667 8.29301)\"><path class=\"edge\" d=\"M 0 0 V -8.29301 H 12.6667\"/><rect class=\"sym\" height=\"6\" width=\"6\" x=\"-3\" y=\"-3\"/><text class=\"lab\" transform=\"translate(0 11)\">0</text></g><g class=\"a8 i2 leaf node n4 p0 sample\" transform=\"translate(12.6667 8.29301)\"><path class=\"edge\" d=\"M 0 0 V -8.29301 H -12.6667\"/><rect class=\"sym\" height=\"6\" width=\"6\" x=\"-3\" y=\"-3\"/><text class=\"lab\" transform=\"translate(0 11)\">4</text></g><path class=\"edge\" d=\"M 0 0 V -5.42491 H 34.8333\"/><circle class=\"sym\" cx=\"0\" cy=\"0\" r=\"3\"/><text class=\"lab lft\" transform=\"translate(-3 -7.0)\">8</text></g><path class=\"edge\" d=\"M 0 0 V -17.6961 H 39.5833\"/><circle class=\"sym\" cx=\"0\" cy=\"0\" r=\"3\"/><text class=\"lab lft\" transform=\"translate(-3 -7.0)\">9</text></g><circle class=\"sym\" cx=\"0\" cy=\"0\" r=\"3\"/><text class=\"lab\" transform=\"translate(0 -11)\">11</text></g></g></g><g class=\"tree t4\" transform=\"translate(788 0)\"><g class=\"plotbox\"><g class=\"node n13 p0 root\" transform=\"translate(130.833 26.8)\"><g class=\"a13 i1 leaf node n3 p0 sample\" transform=\"translate(28.5 94.6)\"><path class=\"edge\" d=\"M 0 0 V -94.6 H -28.5\"/><rect class=\"sym\" height=\"6\" width=\"6\" x=\"-3\" y=\"-3\"/><text class=\"lab\" transform=\"translate(0 11)\">3</text></g><g class=\"a13 node n11 p0\" transform=\"translate(-28.5 63.186)\"><g class=\"a11 i1 leaf node n2 p0 sample\" transform=\"translate(31.6667 31.414)\"><path class=\"edge\" d=\"M 0 0 V -31.414 H -31.6667\"/><rect class=\"sym\" height=\"6\" width=\"6\" x=\"-3\" y=\"-3\"/><text class=\"lab\" transform=\"translate(0 11)\">2</text></g><g class=\"a11 node n9 p0\" transform=\"translate(-31.6667 17.6961)\"><g class=\"a9 node n8 p0\" transform=\"translate(-25.3333 5.42491)\"><g class=\"a8 i0 leaf node n0 p0 sample\" transform=\"translate(-12.6667 8.29301)\"><path class=\"edge\" d=\"M 0 0 V -8.29301 H 12.6667\"/><rect class=\"sym\" height=\"6\" width=\"6\" x=\"-3\" y=\"-3\"/><text class=\"lab\" transform=\"translate(0 11)\">0</text></g><g class=\"a8 i2 leaf node n4 p0 sample\" transform=\"translate(12.6667 8.29301)\"><path class=\"edge\" d=\"M 0 0 V -8.29301 H -12.6667\"/><rect class=\"sym\" height=\"6\" width=\"6\" x=\"-3\" y=\"-3\"/><text class=\"lab\" transform=\"translate(0 11)\">4</text></g><path class=\"edge\" d=\"M 0 0 V -5.42491 H 25.3333\"/><circle class=\"sym\" cx=\"0\" cy=\"0\" r=\"3\"/><text class=\"lab lft\" transform=\"translate(-3 -7.0)\">8</text></g><g class=\"a9 node n6 p0\" transform=\"translate(25.3333 13.4028)\"><g class=\"a6 i0 leaf node n1 p0 sample\" transform=\"translate(-12.6667 0.315114)\"><path class=\"edge\" d=\"M 0 0 V -0.315114 H 12.6667\"/><rect class=\"sym\" height=\"6\" width=\"6\" x=\"-3\" y=\"-3\"/><text class=\"lab\" transform=\"translate(0 11)\">1</text></g><g class=\"a6 i2 leaf node n5 p0 sample\" transform=\"translate(12.6667 0.315114)\"><path class=\"edge\" d=\"M 0 0 V -0.315114 H -12.6667\"/><rect class=\"sym\" height=\"6\" width=\"6\" x=\"-3\" y=\"-3\"/><text class=\"lab\" transform=\"translate(0 11)\">5</text></g><path class=\"edge\" d=\"M 0 0 V -13.4028 H -25.3333\"/><circle class=\"sym\" cx=\"0\" cy=\"0\" r=\"3\"/><text class=\"lab rgt\" transform=\"translate(3 -7.0)\">6</text></g><path class=\"edge\" d=\"M 0 0 V -17.6961 H 31.6667\"/><circle class=\"sym\" cx=\"0\" cy=\"0\" r=\"3\"/><text class=\"lab lft\" transform=\"translate(-3 -7.0)\">9</text></g><path class=\"edge\" d=\"M 0 0 V -63.186 H 28.5\"/><circle class=\"sym\" cx=\"0\" cy=\"0\" r=\"3\"/><text class=\"lab lft\" transform=\"translate(-3 -7.0)\">11</text></g><circle class=\"sym\" cx=\"0\" cy=\"0\" r=\"3\"/><text class=\"lab\" transform=\"translate(0 -11)\">13</text></g></g></g></g></g></svg>"
      ],
      "text/plain": [
       "<IPython.core.display.SVG object>"
      ]
     },
     "execution_count": 25,
     "metadata": {
      "filenames": {
       "image/svg+xml": "/home/runner/work/tskit-site/tskit-site/docs/_build/jupyter_execute/ancestry_45_0.svg"
      }
     },
     "output_type": "execute_result"
    }
   ],
   "source": [
    "ts = msprime.sim_ancestry(\n",
    "    3, sequence_length = 100, recombination_rate=0.003,\n",
    "    gene_conversion_rate=0.002, gene_conversion_tract_length=5,\n",
    "    random_seed=6)\n",
    "SVG(ts.draw_svg())"
   ]
  },
  {
   "cell_type": "code",
   "execution_count": 26,
   "id": "431825c8",
   "metadata": {
    "tags": [
     "remove-cell"
    ]
   },
   "outputs": [],
   "source": [
    "assert 1 < ts.num_trees < 6"
   ]
  },
  {
   "cell_type": "markdown",
   "id": "a0c1e986",
   "metadata": {},
   "source": [
    "Variable recombination rates and constant gene conversion rates\n",
    "can also be combined.\n",
    "\n",
    ":::{note}\n",
    "Variable rates of gene conversion breakpoint initiation are not currently\n",
    "supported, but are planned for a future release. If you are interested\n",
    "in this feature please let us know!\n",
    ":::\n",
    "\n",
    "(sec_ancestry_discrete_genome)=\n",
    "\n",
    "### Discrete or continuous?\n",
    "\n",
    "By default, we assume that the genome we are simulating is *discrete*\n",
    "so that genome coordinates are at integer positions:"
   ]
  },
  {
   "cell_type": "code",
   "execution_count": 27,
   "id": "bb5ab4ed",
   "metadata": {},
   "outputs": [
    {
     "data": {
      "image/svg+xml": [
       "<svg xmlns=\"http://www.w3.org/2000/svg\" xmlns:ev=\"http://www.w3.org/2001/xml-events\" xmlns:xlink=\"http://www.w3.org/1999/xlink\" baseProfile=\"full\" height=\"200\" version=\"1.1\" width=\"800\"><defs><style type=\"text/css\"><![CDATA[.tree-sequence .background path {fill: #808080; fill-opacity:0}.tree-sequence .background path:nth-child(odd) {fill-opacity:.1}.axes {font-size: 14px}.x-axis .tick .lab {font-weight: bold}.axes, .tree {font-size: 14px; text-anchor:middle}.y-axis line.grid {stroke: #FAFAFA}.y-axis > .lab text {transform: translateX(0.8em) rotate(-90deg)}.x-axis .tick g {transform: translateY(0.9em)}.x-axis > .lab text {transform: translateY(-0.8em)}.axes line, .edge {stroke:black; fill:none}.node > .sym {fill: black; stroke: none}.site > .sym {stroke: black}.mut text {fill: red; font-style: italic}.mut line {fill: none; stroke: none}.mut .sym {fill: none; stroke: red}.node .mut .sym {stroke-width: 1.5px}.tree text, .tree-sequence text {dominant-baseline: central}.plotbox .lab.lft {text-anchor: end}.plotbox .lab.rgt {text-anchor: start}]]></style></defs><g class=\"tree-sequence\"><g class=\"background\"><path d=\"M20,0 l190,0 l0,138.2 l-38,25 l0,5 l-152,0 l0,-5 l0,-25 l0,-138.2z\"/><path d=\"M210,0 l190,0 l0,138.2 l-76,25 l0,5 l-152,0 l0,-5 l38,-25 l0,-138.2z\"/><path d=\"M400,0 l190,0 l0,138.2 l-38,25 l0,5 l-228,0 l0,-5 l76,-25 l0,-138.2z\"/><path d=\"M590,0 l190,0 l0,138.2 l0,25 l0,5 l-228,0 l0,-5 l38,-25 l0,-138.2z\"/></g><g class=\"axes\"><g class=\"x-axis\"><g class=\"lab\" transform=\"translate(400,200)\"><text text-anchor=\"middle\">Genome position</text></g><line x1=\"20\" x2=\"780\" y1=\"163.2\" y2=\"163.2\"/><g class=\"tick\" transform=\"translate(20 163.2)\"><line x1=\"0\" x2=\"0\" y1=\"0\" y2=\"5\"/><g class=\"lab\" transform=\"translate(0,5)\"><text>0</text></g></g><g class=\"tick\" transform=\"translate(172 163.2)\"><line x1=\"0\" x2=\"0\" y1=\"0\" y2=\"5\"/><g class=\"lab\" transform=\"translate(0,5)\"><text>2</text></g></g><g class=\"tick\" transform=\"translate(324 163.2)\"><line x1=\"0\" x2=\"0\" y1=\"0\" y2=\"5\"/><g class=\"lab\" transform=\"translate(0,5)\"><text>4</text></g></g><g class=\"tick\" transform=\"translate(552 163.2)\"><line x1=\"0\" x2=\"0\" y1=\"0\" y2=\"5\"/><g class=\"lab\" transform=\"translate(0,5)\"><text>7</text></g></g><g class=\"tick\" transform=\"translate(780 163.2)\"><line x1=\"0\" x2=\"0\" y1=\"0\" y2=\"5\"/><g class=\"lab\" transform=\"translate(0,5)\"><text>10</text></g></g></g></g><g class=\"plotbox trees\"><g class=\"tree t0\" transform=\"translate(20 0)\"><g class=\"plotbox\"><g class=\"node n14 p0 root\" transform=\"translate(74.6875 26.8)\"><g class=\"a14 node n6 p0\" transform=\"translate(-29.6875 93.2031)\"><g class=\"a6 i0 leaf node n0 p0 sample\" transform=\"translate(-12.5 1.39692)\"><path class=\"edge\" d=\"M 0 0 V -1.39692 H 12.5\"/><rect class=\"sym\" height=\"6\" width=\"6\" x=\"-3\" y=\"-3\"/><text class=\"lab\" transform=\"translate(0 11)\">0</text></g><g class=\"a6 i2 leaf node n5 p0 sample\" transform=\"translate(12.5 1.39692)\"><path class=\"edge\" d=\"M 0 0 V -1.39692 H -12.5\"/><rect class=\"sym\" height=\"6\" width=\"6\" x=\"-3\" y=\"-3\"/><text class=\"lab\" transform=\"translate(0 11)\">5</text></g><path class=\"edge\" d=\"M 0 0 V -93.2031 H 29.6875\"/><circle class=\"sym\" cx=\"0\" cy=\"0\" r=\"3\"/><text class=\"lab lft\" transform=\"translate(-3 -7.0)\">6</text></g><g class=\"a14 node n9 p0\" transform=\"translate(29.6875 67.5815)\"><g class=\"a9 i0 leaf node n1 p0 sample\" transform=\"translate(-21.875 27.0185)\"><path class=\"edge\" d=\"M 0 0 V -27.0185 H 21.875\"/><rect class=\"sym\" height=\"6\" width=\"6\" x=\"-3\" y=\"-3\"/><text class=\"lab\" transform=\"translate(0 11)\">1</text></g><g class=\"a9 node n8 p0\" transform=\"translate(21.875 9.95537)\"><g class=\"a8 i1 leaf node n2 p0 sample\" transform=\"translate(-18.75 17.0631)\"><path class=\"edge\" d=\"M 0 0 V -17.0631 H 18.75\"/><rect class=\"sym\" height=\"6\" width=\"6\" x=\"-3\" y=\"-3\"/><text class=\"lab\" transform=\"translate(0 11)\">2</text></g><g class=\"a8 node n7 p0\" transform=\"translate(18.75 2.86901)\"><g class=\"a7 i1 leaf node n3 p0 sample\" transform=\"translate(-12.5 14.1941)\"><path class=\"edge\" d=\"M 0 0 V -14.1941 H 12.5\"/><rect class=\"sym\" height=\"6\" width=\"6\" x=\"-3\" y=\"-3\"/><text class=\"lab\" transform=\"translate(0 11)\">3</text></g><g class=\"a7 i2 leaf node n4 p0 sample\" transform=\"translate(12.5 14.1941)\"><path class=\"edge\" d=\"M 0 0 V -14.1941 H -12.5\"/><rect class=\"sym\" height=\"6\" width=\"6\" x=\"-3\" y=\"-3\"/><text class=\"lab\" transform=\"translate(0 11)\">4</text></g><path class=\"edge\" d=\"M 0 0 V -2.86901 H -18.75\"/><circle class=\"sym\" cx=\"0\" cy=\"0\" r=\"3\"/><text class=\"lab rgt\" transform=\"translate(3 -7.0)\">7</text></g><path class=\"edge\" d=\"M 0 0 V -9.95537 H -21.875\"/><circle class=\"sym\" cx=\"0\" cy=\"0\" r=\"3\"/><text class=\"lab rgt\" transform=\"translate(3 -7.0)\">8</text></g><path class=\"edge\" d=\"M 0 0 V -67.5815 H -29.6875\"/><circle class=\"sym\" cx=\"0\" cy=\"0\" r=\"3\"/><text class=\"lab rgt\" transform=\"translate(3 -7.0)\">9</text></g><circle class=\"sym\" cx=\"0\" cy=\"0\" r=\"3\"/><text class=\"lab\" transform=\"translate(0 -11)\">14</text></g></g></g><g class=\"tree t1\" transform=\"translate(210 0)\"><g class=\"plotbox\"><g class=\"node n14 p0 root\" transform=\"translate(87.1875 26.8)\"><g class=\"a14 node n6 p0\" transform=\"translate(-42.1875 93.2031)\"><g class=\"a6 i0 leaf node n0 p0 sample\" transform=\"translate(-12.5 1.39692)\"><path class=\"edge\" d=\"M 0 0 V -1.39692 H 12.5\"/><rect class=\"sym\" height=\"6\" width=\"6\" x=\"-3\" y=\"-3\"/><text class=\"lab\" transform=\"translate(0 11)\">0</text></g><g class=\"a6 i2 leaf node n5 p0 sample\" transform=\"translate(12.5 1.39692)\"><path class=\"edge\" d=\"M 0 0 V -1.39692 H -12.5\"/><rect class=\"sym\" height=\"6\" width=\"6\" x=\"-3\" y=\"-3\"/><text class=\"lab\" transform=\"translate(0 11)\">5</text></g><path class=\"edge\" d=\"M 0 0 V -93.2031 H 42.1875\"/><circle class=\"sym\" cx=\"0\" cy=\"0\" r=\"3\"/><text class=\"lab lft\" transform=\"translate(-3 -7.0)\">6</text></g><g class=\"a14 node n13 p0\" transform=\"translate(42.1875 12.6456)\"><g class=\"a13 i1 leaf node n3 p0 sample\" transform=\"translate(28.125 81.9544)\"><path class=\"edge\" d=\"M 0 0 V -81.9544 H -28.125\"/><rect class=\"sym\" height=\"6\" width=\"6\" x=\"-3\" y=\"-3\"/><text class=\"lab\" transform=\"translate(0 11)\">3</text></g><g class=\"a13 node n9 p0\" transform=\"translate(-28.125 54.9359)\"><g class=\"a9 i0 leaf node n1 p0 sample\" transform=\"translate(-18.75 27.0185)\"><path class=\"edge\" d=\"M 0 0 V -27.0185 H 18.75\"/><rect class=\"sym\" height=\"6\" width=\"6\" x=\"-3\" y=\"-3\"/><text class=\"lab\" transform=\"translate(0 11)\">1</text></g><g class=\"a9 node n8 p0\" transform=\"translate(18.75 9.95537)\"><g class=\"a8 i1 leaf node n2 p0 sample\" transform=\"translate(-12.5 17.0631)\"><path class=\"edge\" d=\"M 0 0 V -17.0631 H 12.5\"/><rect class=\"sym\" height=\"6\" width=\"6\" x=\"-3\" y=\"-3\"/><text class=\"lab\" transform=\"translate(0 11)\">2</text></g><g class=\"a8 i2 leaf node n4 p0 sample\" transform=\"translate(12.5 17.0631)\"><path class=\"edge\" d=\"M 0 0 V -17.0631 H -12.5\"/><rect class=\"sym\" height=\"6\" width=\"6\" x=\"-3\" y=\"-3\"/><text class=\"lab\" transform=\"translate(0 11)\">4</text></g><path class=\"edge\" d=\"M 0 0 V -9.95537 H -18.75\"/><circle class=\"sym\" cx=\"0\" cy=\"0\" r=\"3\"/><text class=\"lab rgt\" transform=\"translate(3 -7.0)\">8</text></g><path class=\"edge\" d=\"M 0 0 V -54.9359 H 28.125\"/><circle class=\"sym\" cx=\"0\" cy=\"0\" r=\"3\"/><text class=\"lab lft\" transform=\"translate(-3 -7.0)\">9</text></g><path class=\"edge\" d=\"M 0 0 V -12.6456 H -42.1875\"/><circle class=\"sym\" cx=\"0\" cy=\"0\" r=\"3\"/><text class=\"lab rgt\" transform=\"translate(3 -7.0)\">13</text></g><circle class=\"sym\" cx=\"0\" cy=\"0\" r=\"3\"/><text class=\"lab\" transform=\"translate(0 -11)\">14</text></g></g></g><g class=\"tree t2\" transform=\"translate(400 0)\"><g class=\"plotbox\"><g class=\"node n14 p0 root\" transform=\"translate(101.25 26.8)\"><g class=\"a14 node n13 p0\" transform=\"translate(37.5 12.6456)\"><g class=\"a13 i1 leaf node n3 p0 sample\" transform=\"translate(18.75 81.9544)\"><path class=\"edge\" d=\"M 0 0 V -81.9544 H -18.75\"/><rect class=\"sym\" height=\"6\" width=\"6\" x=\"-3\" y=\"-3\"/><text class=\"lab\" transform=\"translate(0 11)\">3</text></g><g class=\"a13 node n8 p0\" transform=\"translate(-18.75 64.8913)\"><g class=\"a8 i1 leaf node n2 p0 sample\" transform=\"translate(-12.5 17.0631)\"><path class=\"edge\" d=\"M 0 0 V -17.0631 H 12.5\"/><rect class=\"sym\" height=\"6\" width=\"6\" x=\"-3\" y=\"-3\"/><text class=\"lab\" transform=\"translate(0 11)\">2</text></g><g class=\"a8 i2 leaf node n4 p0 sample\" transform=\"translate(12.5 17.0631)\"><path class=\"edge\" d=\"M 0 0 V -17.0631 H -12.5\"/><rect class=\"sym\" height=\"6\" width=\"6\" x=\"-3\" y=\"-3\"/><text class=\"lab\" transform=\"translate(0 11)\">4</text></g><path class=\"edge\" d=\"M 0 0 V -64.8913 H 18.75\"/><circle class=\"sym\" cx=\"0\" cy=\"0\" r=\"3\"/><text class=\"lab lft\" transform=\"translate(-3 -7.0)\">8</text></g><path class=\"edge\" d=\"M 0 0 V -12.6456 H -37.5\"/><circle class=\"sym\" cx=\"0\" cy=\"0\" r=\"3\"/><text class=\"lab rgt\" transform=\"translate(3 -7.0)\">13</text></g><g class=\"a14 node n10 p0\" transform=\"translate(-37.5 60.2032)\"><g class=\"a10 i0 leaf node n1 p0 sample\" transform=\"translate(18.75 34.3968)\"><path class=\"edge\" d=\"M 0 0 V -34.3968 H -18.75\"/><rect class=\"sym\" height=\"6\" width=\"6\" x=\"-3\" y=\"-3\"/><text class=\"lab\" transform=\"translate(0 11)\">1</text></g><g class=\"a10 node n6 p0\" transform=\"translate(-18.75 32.9998)\"><g class=\"a6 i0 leaf node n0 p0 sample\" transform=\"translate(-12.5 1.39692)\"><path class=\"edge\" d=\"M 0 0 V -1.39692 H 12.5\"/><rect class=\"sym\" height=\"6\" width=\"6\" x=\"-3\" y=\"-3\"/><text class=\"lab\" transform=\"translate(0 11)\">0</text></g><g class=\"a6 i2 leaf node n5 p0 sample\" transform=\"translate(12.5 1.39692)\"><path class=\"edge\" d=\"M 0 0 V -1.39692 H -12.5\"/><rect class=\"sym\" height=\"6\" width=\"6\" x=\"-3\" y=\"-3\"/><text class=\"lab\" transform=\"translate(0 11)\">5</text></g><path class=\"edge\" d=\"M 0 0 V -32.9998 H 18.75\"/><circle class=\"sym\" cx=\"0\" cy=\"0\" r=\"3\"/><text class=\"lab lft\" transform=\"translate(-3 -7.0)\">6</text></g><path class=\"edge\" d=\"M 0 0 V -60.2032 H 37.5\"/><circle class=\"sym\" cx=\"0\" cy=\"0\" r=\"3\"/><text class=\"lab lft\" transform=\"translate(-3 -7.0)\">10</text></g><circle class=\"sym\" cx=\"0\" cy=\"0\" r=\"3\"/><text class=\"lab\" transform=\"translate(0 -11)\">14</text></g></g></g><g class=\"tree t3\" transform=\"translate(590 0)\"><g class=\"plotbox\"><g class=\"node n13 p0 root\" transform=\"translate(95 39.4456)\"><g class=\"a13 node n11 p0\" transform=\"translate(31.25 15.3506)\"><g class=\"a11 i0 leaf node n1 p0 sample\" transform=\"translate(-18.75 66.6037)\"><path class=\"edge\" d=\"M 0 0 V -66.6037 H 18.75\"/><rect class=\"sym\" height=\"6\" width=\"6\" x=\"-3\" y=\"-3\"/><text class=\"lab\" transform=\"translate(0 11)\">1</text></g><g class=\"a11 node n8 p0\" transform=\"translate(18.75 49.5406)\"><g class=\"a8 i1 leaf node n2 p0 sample\" transform=\"translate(-12.5 17.0631)\"><path class=\"edge\" d=\"M 0 0 V -17.0631 H 12.5\"/><rect class=\"sym\" height=\"6\" width=\"6\" x=\"-3\" y=\"-3\"/><text class=\"lab\" transform=\"translate(0 11)\">2</text></g><g class=\"a8 i2 leaf node n4 p0 sample\" transform=\"translate(12.5 17.0631)\"><path class=\"edge\" d=\"M 0 0 V -17.0631 H -12.5\"/><rect class=\"sym\" height=\"6\" width=\"6\" x=\"-3\" y=\"-3\"/><text class=\"lab\" transform=\"translate(0 11)\">4</text></g><path class=\"edge\" d=\"M 0 0 V -49.5406 H -18.75\"/><circle class=\"sym\" cx=\"0\" cy=\"0\" r=\"3\"/><text class=\"lab rgt\" transform=\"translate(3 -7.0)\">8</text></g><path class=\"edge\" d=\"M 0 0 V -15.3506 H -31.25\"/><circle class=\"sym\" cx=\"0\" cy=\"0\" r=\"3\"/><text class=\"lab rgt\" transform=\"translate(3 -7.0)\">11</text></g><g class=\"a13 node n12 p0\" transform=\"translate(-31.25 12.027)\"><g class=\"a12 i1 leaf node n3 p0 sample\" transform=\"translate(18.75 69.9273)\"><path class=\"edge\" d=\"M 0 0 V -69.9273 H -18.75\"/><rect class=\"sym\" height=\"6\" width=\"6\" x=\"-3\" y=\"-3\"/><text class=\"lab\" transform=\"translate(0 11)\">3</text></g><g class=\"a12 node n6 p0\" transform=\"translate(-18.75 68.5304)\"><g class=\"a6 i0 leaf node n0 p0 sample\" transform=\"translate(-12.5 1.39692)\"><path class=\"edge\" d=\"M 0 0 V -1.39692 H 12.5\"/><rect class=\"sym\" height=\"6\" width=\"6\" x=\"-3\" y=\"-3\"/><text class=\"lab\" transform=\"translate(0 11)\">0</text></g><g class=\"a6 i2 leaf node n5 p0 sample\" transform=\"translate(12.5 1.39692)\"><path class=\"edge\" d=\"M 0 0 V -1.39692 H -12.5\"/><rect class=\"sym\" height=\"6\" width=\"6\" x=\"-3\" y=\"-3\"/><text class=\"lab\" transform=\"translate(0 11)\">5</text></g><path class=\"edge\" d=\"M 0 0 V -68.5304 H 18.75\"/><circle class=\"sym\" cx=\"0\" cy=\"0\" r=\"3\"/><text class=\"lab lft\" transform=\"translate(-3 -7.0)\">6</text></g><path class=\"edge\" d=\"M 0 0 V -12.027 H 31.25\"/><circle class=\"sym\" cx=\"0\" cy=\"0\" r=\"3\"/><text class=\"lab lft\" transform=\"translate(-3 -7.0)\">12</text></g><circle class=\"sym\" cx=\"0\" cy=\"0\" r=\"3\"/><text class=\"lab\" transform=\"translate(0 -11)\">13</text></g></g></g></g></g></svg>"
      ],
      "text/plain": [
       "<IPython.core.display.SVG object>"
      ]
     },
     "execution_count": 27,
     "metadata": {
      "filenames": {
       "image/svg+xml": "/home/runner/work/tskit-site/tskit-site/docs/_build/jupyter_execute/ancestry_48_0.svg"
      }
     },
     "output_type": "execute_result"
    }
   ],
   "source": [
    "ts = msprime.sim_ancestry(\n",
    "    3, recombination_rate=0.1, sequence_length=10, random_seed=2)\n",
    "SVG(ts.draw_svg())"
   ]
  },
  {
   "cell_type": "code",
   "execution_count": 28,
   "id": "6a8b9e64",
   "metadata": {
    "tags": [
     "remove-cell"
    ]
   },
   "outputs": [],
   "source": [
    "assert 1 < ts.num_trees < 5"
   ]
  },
  {
   "cell_type": "markdown",
   "id": "fa1bd36f",
   "metadata": {},
   "source": [
    "We can also simulate a continous genome by setting\n",
    "`discrete_genome=False`:"
   ]
  },
  {
   "cell_type": "code",
   "execution_count": 29,
   "id": "f0c9b138",
   "metadata": {},
   "outputs": [
    {
     "data": {
      "image/svg+xml": [
       "<svg xmlns=\"http://www.w3.org/2000/svg\" xmlns:ev=\"http://www.w3.org/2001/xml-events\" xmlns:xlink=\"http://www.w3.org/1999/xlink\" baseProfile=\"full\" height=\"200\" version=\"1.1\" width=\"600\"><defs><style type=\"text/css\"><![CDATA[.tree-sequence .background path {fill: #808080; fill-opacity:0}.tree-sequence .background path:nth-child(odd) {fill-opacity:.1}.axes {font-size: 14px}.x-axis .tick .lab {font-weight: bold}.axes, .tree {font-size: 14px; text-anchor:middle}.y-axis line.grid {stroke: #FAFAFA}.y-axis > .lab text {transform: translateX(0.8em) rotate(-90deg)}.x-axis .tick g {transform: translateY(0.9em)}.x-axis > .lab text {transform: translateY(-0.8em)}.axes line, .edge {stroke:black; fill:none}.node > .sym {fill: black; stroke: none}.site > .sym {stroke: black}.mut text {fill: red; font-style: italic}.mut line {fill: none; stroke: none}.mut .sym {fill: none; stroke: red}.node .mut .sym {stroke-width: 1.5px}.tree text, .tree-sequence text {dominant-baseline: central}.plotbox .lab.lft {text-anchor: end}.plotbox .lab.rgt {text-anchor: start}]]></style></defs><g class=\"tree-sequence\"><g class=\"background\"><path d=\"M20,0 l186.667,0 l0,138.2 l-86.9204,25 l0,5 l-99.7463,0 l0,-5 l0,-25 l0,-138.2z\"/><path d=\"M206.667,0 l186.667,0 l0,138.2 l-204.494,25 l0,5 l-69.0929,0 l0,-5 l86.9204,-25 l0,-138.2z\"/><path d=\"M393.333,0 l186.667,0 l0,138.2 l0,25 l0,5 l-391.161,0 l0,-5 l204.494,-25 l0,-138.2z\"/></g><g class=\"axes\"><g class=\"x-axis\"><g class=\"lab\" transform=\"translate(300,200)\"><text text-anchor=\"middle\">Genome position</text></g><line x1=\"20\" x2=\"580\" y1=\"163.2\" y2=\"163.2\"/><g class=\"tick\" transform=\"translate(20 163.2)\"><line x1=\"0\" x2=\"0\" y1=\"0\" y2=\"5\"/><g class=\"lab\" transform=\"translate(0,5)\"><text>0.00</text></g></g><g class=\"tick\" transform=\"translate(119.746 163.2)\"><line x1=\"0\" x2=\"0\" y1=\"0\" y2=\"5\"/><g class=\"lab\" transform=\"translate(0,5)\"><text>0.18</text></g></g><g class=\"tick\" transform=\"translate(188.839 163.2)\"><line x1=\"0\" x2=\"0\" y1=\"0\" y2=\"5\"/><g class=\"lab\" transform=\"translate(0,5)\"><text>0.30</text></g></g><g class=\"tick\" transform=\"translate(580 163.2)\"><line x1=\"0\" x2=\"0\" y1=\"0\" y2=\"5\"/><g class=\"lab\" transform=\"translate(0,5)\"><text>1.00</text></g></g></g></g><g class=\"plotbox trees\"><g class=\"tree t0\" transform=\"translate(20 0)\"><g class=\"plotbox\"><g class=\"node n10 p0 root\" transform=\"translate(129.236 37.0296)\"><g class=\"a10 i2 leaf node n4 p0 sample\" transform=\"translate(25.2083 84.3704)\"><path class=\"edge\" d=\"M 0 0 V -84.3704 H -25.2083\"/><rect class=\"sym\" height=\"6\" width=\"6\" x=\"-3\" y=\"-3\"/><text class=\"lab\" transform=\"translate(0 11)\">4</text></g><g class=\"a10 node n9 p0\" transform=\"translate(-25.2083 60.3652)\"><g class=\"a9 i2 leaf node n5 p0 sample\" transform=\"translate(25.9722 24.0052)\"><path class=\"edge\" d=\"M 0 0 V -24.0052 H -25.9722\"/><rect class=\"sym\" height=\"6\" width=\"6\" x=\"-3\" y=\"-3\"/><text class=\"lab\" transform=\"translate(0 11)\">5</text></g><g class=\"a9 node n8 p0\" transform=\"translate(-25.9722 5.89198)\"><g class=\"a8 i1 leaf node n2 p0 sample\" transform=\"translate(27.5 18.1132)\"><path class=\"edge\" d=\"M 0 0 V -18.1132 H -27.5\"/><rect class=\"sym\" height=\"6\" width=\"6\" x=\"-3\" y=\"-3\"/><text class=\"lab\" transform=\"translate(0 11)\">2</text></g><g class=\"a8 node n7 p0\" transform=\"translate(-27.5 4.89431)\"><g class=\"a7 i0 leaf node n0 p0 sample\" transform=\"translate(-18.3333 13.2189)\"><path class=\"edge\" d=\"M 0 0 V -13.2189 H 18.3333\"/><rect class=\"sym\" height=\"6\" width=\"6\" x=\"-3\" y=\"-3\"/><text class=\"lab\" transform=\"translate(0 11)\">0</text></g><g class=\"a7 node n6 p0\" transform=\"translate(18.3333 10.5158)\"><g class=\"a6 i0 leaf node n1 p0 sample\" transform=\"translate(-12.2222 2.70312)\"><path class=\"edge\" d=\"M 0 0 V -2.70312 H 12.2222\"/><rect class=\"sym\" height=\"6\" width=\"6\" x=\"-3\" y=\"-3\"/><text class=\"lab\" transform=\"translate(0 11)\">1</text></g><g class=\"a6 i1 leaf node n3 p0 sample\" transform=\"translate(12.2222 2.70312)\"><path class=\"edge\" d=\"M 0 0 V -2.70312 H -12.2222\"/><rect class=\"sym\" height=\"6\" width=\"6\" x=\"-3\" y=\"-3\"/><text class=\"lab\" transform=\"translate(0 11)\">3</text></g><path class=\"edge\" d=\"M 0 0 V -10.5158 H -18.3333\"/><circle class=\"sym\" cx=\"0\" cy=\"0\" r=\"3\"/><text class=\"lab rgt\" transform=\"translate(3 -7.0)\">6</text></g><path class=\"edge\" d=\"M 0 0 V -4.89431 H 27.5\"/><circle class=\"sym\" cx=\"0\" cy=\"0\" r=\"3\"/><text class=\"lab lft\" transform=\"translate(-3 -7.0)\">7</text></g><path class=\"edge\" d=\"M 0 0 V -5.89198 H 25.9722\"/><circle class=\"sym\" cx=\"0\" cy=\"0\" r=\"3\"/><text class=\"lab lft\" transform=\"translate(-3 -7.0)\">8</text></g><path class=\"edge\" d=\"M 0 0 V -60.3652 H 25.2083\"/><circle class=\"sym\" cx=\"0\" cy=\"0\" r=\"3\"/><text class=\"lab lft\" transform=\"translate(-3 -7.0)\">9</text></g><circle class=\"sym\" cx=\"0\" cy=\"0\" r=\"3\"/><text class=\"lab\" transform=\"translate(0 -11)\">10</text></g></g></g><g class=\"tree t1\" transform=\"translate(206.667 0)\"><g class=\"plotbox\"><g class=\"node n11 p0 root\" transform=\"translate(129.236 26.8)\"><g class=\"a11 i2 leaf node n4 p0 sample\" transform=\"translate(25.2083 94.6)\"><path class=\"edge\" d=\"M 0 0 V -94.6 H -25.2083\"/><rect class=\"sym\" height=\"6\" width=\"6\" x=\"-3\" y=\"-3\"/><text class=\"lab\" transform=\"translate(0 11)\">4</text></g><g class=\"a11 node n9 p0\" transform=\"translate(-25.2083 70.5948)\"><g class=\"a9 i2 leaf node n5 p0 sample\" transform=\"translate(25.9722 24.0052)\"><path class=\"edge\" d=\"M 0 0 V -24.0052 H -25.9722\"/><rect class=\"sym\" height=\"6\" width=\"6\" x=\"-3\" y=\"-3\"/><text class=\"lab\" transform=\"translate(0 11)\">5</text></g><g class=\"a9 node n8 p0\" transform=\"translate(-25.9722 5.89198)\"><g class=\"a8 i1 leaf node n2 p0 sample\" transform=\"translate(27.5 18.1132)\"><path class=\"edge\" d=\"M 0 0 V -18.1132 H -27.5\"/><rect class=\"sym\" height=\"6\" width=\"6\" x=\"-3\" y=\"-3\"/><text class=\"lab\" transform=\"translate(0 11)\">2</text></g><g class=\"a8 node n7 p0\" transform=\"translate(-27.5 4.89431)\"><g class=\"a7 i0 leaf node n0 p0 sample\" transform=\"translate(-18.3333 13.2189)\"><path class=\"edge\" d=\"M 0 0 V -13.2189 H 18.3333\"/><rect class=\"sym\" height=\"6\" width=\"6\" x=\"-3\" y=\"-3\"/><text class=\"lab\" transform=\"translate(0 11)\">0</text></g><g class=\"a7 node n6 p0\" transform=\"translate(18.3333 10.5158)\"><g class=\"a6 i0 leaf node n1 p0 sample\" transform=\"translate(-12.2222 2.70312)\"><path class=\"edge\" d=\"M 0 0 V -2.70312 H 12.2222\"/><rect class=\"sym\" height=\"6\" width=\"6\" x=\"-3\" y=\"-3\"/><text class=\"lab\" transform=\"translate(0 11)\">1</text></g><g class=\"a6 i1 leaf node n3 p0 sample\" transform=\"translate(12.2222 2.70312)\"><path class=\"edge\" d=\"M 0 0 V -2.70312 H -12.2222\"/><rect class=\"sym\" height=\"6\" width=\"6\" x=\"-3\" y=\"-3\"/><text class=\"lab\" transform=\"translate(0 11)\">3</text></g><path class=\"edge\" d=\"M 0 0 V -10.5158 H -18.3333\"/><circle class=\"sym\" cx=\"0\" cy=\"0\" r=\"3\"/><text class=\"lab rgt\" transform=\"translate(3 -7.0)\">6</text></g><path class=\"edge\" d=\"M 0 0 V -4.89431 H 27.5\"/><circle class=\"sym\" cx=\"0\" cy=\"0\" r=\"3\"/><text class=\"lab lft\" transform=\"translate(-3 -7.0)\">7</text></g><path class=\"edge\" d=\"M 0 0 V -5.89198 H 25.9722\"/><circle class=\"sym\" cx=\"0\" cy=\"0\" r=\"3\"/><text class=\"lab lft\" transform=\"translate(-3 -7.0)\">8</text></g><path class=\"edge\" d=\"M 0 0 V -70.5948 H 25.2083\"/><circle class=\"sym\" cx=\"0\" cy=\"0\" r=\"3\"/><text class=\"lab lft\" transform=\"translate(-3 -7.0)\">9</text></g><circle class=\"sym\" cx=\"0\" cy=\"0\" r=\"3\"/><text class=\"lab\" transform=\"translate(0 -11)\">11</text></g></g></g><g class=\"tree t2\" transform=\"translate(393.333 0)\"><g class=\"plotbox\"><g class=\"node n11 p0 root\" transform=\"translate(129.236 26.8)\"><g class=\"a11 i2 leaf node n4 p0 sample\" transform=\"translate(25.2083 94.6)\"><path class=\"edge\" d=\"M 0 0 V -94.6 H -25.2083\"/><rect class=\"sym\" height=\"6\" width=\"6\" x=\"-3\" y=\"-3\"/><text class=\"lab\" transform=\"translate(0 11)\">4</text></g><g class=\"a11 node n10 p0\" transform=\"translate(-25.2083 10.2296)\"><g class=\"a10 i2 leaf node n5 p0 sample\" transform=\"translate(25.9722 84.3704)\"><path class=\"edge\" d=\"M 0 0 V -84.3704 H -25.9722\"/><rect class=\"sym\" height=\"6\" width=\"6\" x=\"-3\" y=\"-3\"/><text class=\"lab\" transform=\"translate(0 11)\">5</text></g><g class=\"a10 node n8 p0\" transform=\"translate(-25.9722 66.2571)\"><g class=\"a8 i1 leaf node n2 p0 sample\" transform=\"translate(27.5 18.1132)\"><path class=\"edge\" d=\"M 0 0 V -18.1132 H -27.5\"/><rect class=\"sym\" height=\"6\" width=\"6\" x=\"-3\" y=\"-3\"/><text class=\"lab\" transform=\"translate(0 11)\">2</text></g><g class=\"a8 node n7 p0\" transform=\"translate(-27.5 4.89431)\"><g class=\"a7 i0 leaf node n0 p0 sample\" transform=\"translate(-18.3333 13.2189)\"><path class=\"edge\" d=\"M 0 0 V -13.2189 H 18.3333\"/><rect class=\"sym\" height=\"6\" width=\"6\" x=\"-3\" y=\"-3\"/><text class=\"lab\" transform=\"translate(0 11)\">0</text></g><g class=\"a7 node n6 p0\" transform=\"translate(18.3333 10.5158)\"><g class=\"a6 i0 leaf node n1 p0 sample\" transform=\"translate(-12.2222 2.70312)\"><path class=\"edge\" d=\"M 0 0 V -2.70312 H 12.2222\"/><rect class=\"sym\" height=\"6\" width=\"6\" x=\"-3\" y=\"-3\"/><text class=\"lab\" transform=\"translate(0 11)\">1</text></g><g class=\"a6 i1 leaf node n3 p0 sample\" transform=\"translate(12.2222 2.70312)\"><path class=\"edge\" d=\"M 0 0 V -2.70312 H -12.2222\"/><rect class=\"sym\" height=\"6\" width=\"6\" x=\"-3\" y=\"-3\"/><text class=\"lab\" transform=\"translate(0 11)\">3</text></g><path class=\"edge\" d=\"M 0 0 V -10.5158 H -18.3333\"/><circle class=\"sym\" cx=\"0\" cy=\"0\" r=\"3\"/><text class=\"lab rgt\" transform=\"translate(3 -7.0)\">6</text></g><path class=\"edge\" d=\"M 0 0 V -4.89431 H 27.5\"/><circle class=\"sym\" cx=\"0\" cy=\"0\" r=\"3\"/><text class=\"lab lft\" transform=\"translate(-3 -7.0)\">7</text></g><path class=\"edge\" d=\"M 0 0 V -66.2571 H 25.9722\"/><circle class=\"sym\" cx=\"0\" cy=\"0\" r=\"3\"/><text class=\"lab lft\" transform=\"translate(-3 -7.0)\">8</text></g><path class=\"edge\" d=\"M 0 0 V -10.2296 H 25.2083\"/><circle class=\"sym\" cx=\"0\" cy=\"0\" r=\"3\"/><text class=\"lab lft\" transform=\"translate(-3 -7.0)\">10</text></g><circle class=\"sym\" cx=\"0\" cy=\"0\" r=\"3\"/><text class=\"lab\" transform=\"translate(0 -11)\">11</text></g></g></g></g></g></svg>"
      ],
      "text/plain": [
       "<IPython.core.display.SVG object>"
      ]
     },
     "execution_count": 29,
     "metadata": {
      "filenames": {
       "image/svg+xml": "/home/runner/work/tskit-site/tskit-site/docs/_build/jupyter_execute/ancestry_51_0.svg"
      }
     },
     "output_type": "execute_result"
    }
   ],
   "source": [
    "ts = msprime.sim_ancestry(\n",
    "    3, recombination_rate=0.25, sequence_length=1, discrete_genome=False,\n",
    "    random_seed=33)\n",
    "SVG(ts.draw_svg())"
   ]
  },
  {
   "cell_type": "code",
   "execution_count": 30,
   "id": "6271f8a2",
   "metadata": {
    "tags": [
     "remove-cell"
    ]
   },
   "outputs": [],
   "source": [
    "assert 1 < ts.num_trees < 5"
   ]
  },
  {
   "cell_type": "markdown",
   "id": "c7be68f7",
   "metadata": {},
   "source": [
    "Here we see that the breakpoints along the genome occur at floating point\n",
    "positions. Simulating a continuous genome sequence can be useful for\n",
    "theoretical work, but we recommend using discrete coordinates for most\n",
    "purposes.\n",
    "\n",
    ":::{note}\n",
    "With a discrete genome and a recombination rate of {math}`r`,\n",
    "the expected number of recombinations per unit time and per unit\n",
    "length is {math}`1-e^{-r}`. Therefore the total map length for a\n",
    "segment of length {math}`L` and recombination rate {math}`r`\n",
    "is {math}`L (1 - e^{-r})`\n",
    "and so {math}`Lr (1 - r/2) < L (1 - e^{-r}) < Lr`.\n",
    ":::\n",
    "\n",
    "(sec_ancestry_multiple_chromosomes)=\n",
    "\n",
    "### Multiple chromosomes\n",
    "\n",
    "Msprime does not directly support simulating multiple chromosomes\n",
    "simultaneously, but we can emulate it using a single linear genome split into\n",
    "chromosome segments. Multiple chromosomes are modelled by specifying\n",
    "a recombination map with single base-pair segments with recombination\n",
    "probability 1/2 separating adjacent chromosomes. The probability that\n",
    "a recombination breakpoint occurs over one unit of time at a given base pair\n",
    "that has recombination rate {math}`r` is {math}`1-e^{-r}`. Thus, we set the\n",
    "recombination rate in the base pair segments separating chromosomes to\n",
    "{math}`\\log(2)`. This ensures that the recombination probability each\n",
    "generation is 1/2.\n",
    "\n",
    "#### Do I need to do this?\n",
    "\n",
    "The main purpose of simulating multiple chromosomes together (instead of\n",
    "running independent simulations for each chromosome) is to capture\n",
    "correlations between trees on distinct chromosomes. In many scenarios,\n",
    "**simulating multiple chromosomes may not be necessary**, and independent\n",
    "simulations may be preferable as they will be much more efficient.\n",
    "\n",
    "[Nelson et al. 2020](https://doi.org/10.1371/journal.pgen.1008619) describes\n",
    "a few cases where simulating multiple chromosomes using the DTWF is important\n",
    "for accurately modeling shared patterns of variation between samples.\n",
    "In large simulated cohorts, where many samples can be close\n",
    "relatives, we need the DTWF model and multiple chromosomes to obtain the\n",
    "correct distribution of the number and total length of shared IBD segments. We\n",
    "similarly require multiple chromosomes and the DTWF model to get the correct\n",
    "ancestry patterns for very recently admixed populations.\n",
    "\n",
    "Additionally,\n",
    "{ref}`Multiple merger coalescents <sec_ancestry_models_multiple_mergers>`\n",
    "result in positively correlated ancestries between unlinked chromosomes\n",
    "(see [Birkner et al. 2013](https://www.genetics.org/content/193/1/255)).\n",
    "This correlation does not break down in time and multiple chromosomes should\n",
    "not be simulated independently under the multiple merger models. Unlinked\n",
    "chromosomes should scatter into distinct ancestors instantaneously under\n",
    "multiple merger coalescents, not with probability 1/2 per generation\n",
    "as in discrete population models. In msprime, this waiting time of length zero\n",
    "is approximated by an exponential distribution with rate {math}`r`, i.e. the\n",
    "recombination rate at the base pair separating the chromosomes, which\n",
    "should be set to a high enough value to obtain an acceptable approximation.\n",
    "We recommend considering in particular the relative error in comparison to\n",
    "the magnitudes other waiting times which are likely to arise in the simulation.\n",
    "\n",
    ":::{important}\n",
    "Simulations of multiple chromosomes under either DTWF or the multiple merger\n",
    "models should use a {ref}`discrete genome <sec_ancestry_discrete_genome>`.\n",
    "While it is possible to set up such a simulation using a continuous genome,\n",
    "we *strongly* recommend against it, as chromosome divisions cannot be defined\n",
    "as discrete break points and the simulation will be very inefficient.\n",
    ":::\n",
    "\n",
    "#### Example\n",
    "\n",
    "We first set up the chromosome coordinates, recombination rates, and the\n",
    "corresponding recombination map. The following defines a recombination map for\n",
    "three chromosomes each 1 cM in length:"
   ]
  },
  {
   "cell_type": "code",
   "execution_count": 31,
   "id": "e33fd979",
   "metadata": {},
   "outputs": [],
   "source": [
    "import math\n",
    "\n",
    "r_chrom = 1e-8\n",
    "r_break = math.log(2)\n",
    "chrom_positions = [0, 1e6, 2e6, 3e6]\n",
    "map_positions = [\n",
    "    chrom_positions[0],\n",
    "    chrom_positions[1],\n",
    "    chrom_positions[1] + 1,\n",
    "    chrom_positions[2],\n",
    "    chrom_positions[2] + 1,\n",
    "    chrom_positions[3]\n",
    "]\n",
    "rates = [r_chrom, r_break, r_chrom, r_break, r_chrom]\n",
    "rate_map = msprime.RateMap(position=map_positions, rate=rates)"
   ]
  },
  {
   "cell_type": "markdown",
   "id": "d59219f4",
   "metadata": {},
   "source": [
    "We cannot use the default {class}`.StandardCoalescent` model to run simulations\n",
    "of multiple chromosomes; doing so would be equivalent to running independent\n",
    "replicate simulations and **much** less efficient. To get the correct\n",
    "correlation between chromosomes, we must use a model like\n",
    "{ref}`discrete-time Wright-Fisher <sec_ancestry_models_dtwf>`.\n",
    "However, because correlations\n",
    "between chromosomes break down very rapidly, we only need to simulate using\n",
    "`dtwf` for roughly 10-20 generations, after which we can switch to the `hudson`\n",
    "model to finish the simulation more efficiently (see the\n",
    "{ref}`sec_ancestry_models_specifying` section for more information on switching\n",
    "between ancestry models).\n",
    "\n",
    "In this example, we simulate 10 sampled diploid individuals using the\n",
    "recombination map defined above for three chromosomes and switching from the\n",
    "`dtwf` to `hudson` model 20 generations ago:"
   ]
  },
  {
   "cell_type": "code",
   "execution_count": 32,
   "id": "aad73feb",
   "metadata": {},
   "outputs": [
    {
     "data": {
      "text/html": [
       "\n",
       "<div>\n",
       "  <style>\n",
       "    .tskit-table thead tr th {text-align: left;padding: 0.5em 0.5em;}\n",
       "    .tskit-table tbody tr td {padding: 0.5em 0.5em;}\n",
       "    .tskit-table tbody tr td:first-of-type {text-align: left;}\n",
       "    .tskit-details-label {vertical-align: top; padding-right:5px;}\n",
       "    .tskit-table-set {display: inline-flex;flex-wrap: wrap;margin: -12px 0 0 -12px;width: calc(100% + 12px);}\n",
       "    .tskit-table-set-table {margin: 12px 0 0 12px;}\n",
       "    details {display: inline-block;}\n",
       "    summary {cursor: pointer; outline: 0; display: list-item;}\n",
       "  </style>\n",
       "  <div class=\"tskit-table-set\">\n",
       "    <div class=\"tskit-table-set-table\">\n",
       "      <table class=\"tskit-table\">\n",
       "        <thead>\n",
       "          <tr>\n",
       "            <th style=\"padding:0;line-height:21px;\">\n",
       "              <img style=\"height: 32px;display: inline-block;padding: 3px 5px 3px 0;\"src=\"https://raw.githubusercontent.com/tskit-dev/administrative/main/tskit_logo.svg\"/>\n",
       "              <a target=\"_blank\" href=\"https://tskit.readthedocs.io/en/latest/python-api.html#the-treesequence-class\"> Tree Sequence\n",
       "            </th>\n",
       "          </tr>\n",
       "        </thead>\n",
       "        <tbody>\n",
       "          <tr><td>Trees</td><td>351</td></tr>\n",
       "          <tr><td>Sequence Length</td><td>3000000.0</td></tr>\n",
       "          <tr><td>Sample Nodes</td><td>20</td></tr>\n",
       "          <tr><td>Total Size</td><td>53.8 KiB</td></tr>\n",
       "          <tr>\n",
       "            <td>Metadata</td><td style=\"text-align: left;\">No Metadata</td></tr>\n",
       "        </tbody>\n",
       "      </table>\n",
       "    </div>\n",
       "    <div class=\"tskit-table-set-table\">\n",
       "      <table class=\"tskit-table\">\n",
       "        <thead>\n",
       "          <tr>\n",
       "            <th style=\"line-height:21px;\">Table</th>\n",
       "            <th>Rows</th>\n",
       "            <th>Size</th>\n",
       "            <th>Has Metadata</th>\n",
       "          </tr>\n",
       "        </thead>\n",
       "        <tbody>\n",
       "\n",
       "      <tr>\n",
       "        <td>Edges</td>\n",
       "          <td>1254</td>\n",
       "          <td>34.3 KiB</td>\n",
       "          <td style=\"text-align: center;\">\n",
       "\n",
       "          </td>\n",
       "        </tr>\n",
       "\n",
       "      <tr>\n",
       "        <td>Individuals</td>\n",
       "          <td>10</td>\n",
       "          <td>172 Bytes</td>\n",
       "          <td style=\"text-align: center;\">\n",
       "\n",
       "          </td>\n",
       "        </tr>\n",
       "\n",
       "      <tr>\n",
       "        <td>Migrations</td>\n",
       "          <td>0</td>\n",
       "          <td>4 Bytes</td>\n",
       "          <td style=\"text-align: center;\">\n",
       "\n",
       "          </td>\n",
       "        </tr>\n",
       "\n",
       "      <tr>\n",
       "        <td>Mutations</td>\n",
       "          <td>0</td>\n",
       "          <td>8 Bytes</td>\n",
       "          <td style=\"text-align: center;\">\n",
       "\n",
       "          </td>\n",
       "        </tr>\n",
       "\n",
       "      <tr>\n",
       "        <td>Nodes</td>\n",
       "          <td>342</td>\n",
       "          <td>8.0 KiB</td>\n",
       "          <td style=\"text-align: center;\">\n",
       "\n",
       "          </td>\n",
       "        </tr>\n",
       "\n",
       "      <tr>\n",
       "        <td>Populations</td>\n",
       "          <td>1</td>\n",
       "          <td>216 Bytes</td>\n",
       "          <td style=\"text-align: center;\">\n",
       "            ✅\n",
       "          </td>\n",
       "        </tr>\n",
       "\n",
       "      <tr>\n",
       "        <td>Provenances</td>\n",
       "          <td>1</td>\n",
       "          <td>1.3 KiB</td>\n",
       "          <td style=\"text-align: center;\">\n",
       "\n",
       "          </td>\n",
       "        </tr>\n",
       "\n",
       "      <tr>\n",
       "        <td>Sites</td>\n",
       "          <td>0</td>\n",
       "          <td>8 Bytes</td>\n",
       "          <td style=\"text-align: center;\">\n",
       "\n",
       "          </td>\n",
       "        </tr>\n",
       "\n",
       "        </tbody>\n",
       "      </table>\n",
       "    </div>\n",
       "  </div>\n",
       "</div>\n"
      ],
      "text/plain": [
       "<tskit.trees.TreeSequence at 0x7fbfec66cb20>"
      ]
     },
     "execution_count": 32,
     "metadata": {},
     "output_type": "execute_result"
    }
   ],
   "source": [
    "ts = msprime.sim_ancestry(\n",
    "    10,\n",
    "    population_size=1000,\n",
    "    recombination_rate=rate_map,\n",
    "    model=[\n",
    "        msprime.DiscreteTimeWrightFisher(duration=20),\n",
    "        msprime.StandardCoalescent(),\n",
    "    ],\n",
    "    random_seed=1234,\n",
    ")\n",
    "ts"
   ]
  },
  {
   "cell_type": "markdown",
   "id": "cb8f65df",
   "metadata": {},
   "source": [
    "To place each chromosome in its own separate tree sequence, we can trim the full tree\n",
    "sequence for each chromosome by defining the end points of each chromosome and\n",
    "using the {meth}`~tskit.TreeSequence.keep_intervals` method. It is important to\n",
    "specify `simplify=False` so that node indices remain consistent across\n",
    "chromosomes. The {meth}`~tskit.TreeSequence.trim` method is then used to trim\n",
    "the tree sequences to the focal chromosome, so that position indices begin at\n",
    "0 within each chromosome tree sequence."
   ]
  },
  {
   "cell_type": "code",
   "execution_count": 33,
   "id": "e77ef750",
   "metadata": {},
   "outputs": [
    {
     "name": "stdout",
     "output_type": "stream",
     "text": [
      "1000000.0\n",
      "1000000.0\n",
      "1000000.0\n"
     ]
    },
    {
     "data": {
      "text/html": [
       "\n",
       "<div>\n",
       "  <style>\n",
       "    .tskit-table thead tr th {text-align: left;padding: 0.5em 0.5em;}\n",
       "    .tskit-table tbody tr td {padding: 0.5em 0.5em;}\n",
       "    .tskit-table tbody tr td:first-of-type {text-align: left;}\n",
       "    .tskit-details-label {vertical-align: top; padding-right:5px;}\n",
       "    .tskit-table-set {display: inline-flex;flex-wrap: wrap;margin: -12px 0 0 -12px;width: calc(100% + 12px);}\n",
       "    .tskit-table-set-table {margin: 12px 0 0 12px;}\n",
       "    details {display: inline-block;}\n",
       "    summary {cursor: pointer; outline: 0; display: list-item;}\n",
       "  </style>\n",
       "  <div class=\"tskit-table-set\">\n",
       "    <div class=\"tskit-table-set-table\">\n",
       "      <table class=\"tskit-table\">\n",
       "        <thead>\n",
       "          <tr>\n",
       "            <th style=\"padding:0;line-height:21px;\">\n",
       "              <img style=\"height: 32px;display: inline-block;padding: 3px 5px 3px 0;\"src=\"https://raw.githubusercontent.com/tskit-dev/administrative/main/tskit_logo.svg\"/>\n",
       "              <a target=\"_blank\" href=\"https://tskit.readthedocs.io/en/latest/python-api.html#the-treesequence-class\"> Tree Sequence\n",
       "            </th>\n",
       "          </tr>\n",
       "        </thead>\n",
       "        <tbody>\n",
       "          <tr><td>Trees</td><td>102</td></tr>\n",
       "          <tr><td>Sequence Length</td><td>1000000.0</td></tr>\n",
       "          <tr><td>Sample Nodes</td><td>20</td></tr>\n",
       "          <tr><td>Total Size</td><td>23.7 KiB</td></tr>\n",
       "          <tr>\n",
       "            <td>Metadata</td><td style=\"text-align: left;\">No Metadata</td></tr>\n",
       "        </tbody>\n",
       "      </table>\n",
       "    </div>\n",
       "    <div class=\"tskit-table-set-table\">\n",
       "      <table class=\"tskit-table\">\n",
       "        <thead>\n",
       "          <tr>\n",
       "            <th style=\"line-height:21px;\">Table</th>\n",
       "            <th>Rows</th>\n",
       "            <th>Size</th>\n",
       "            <th>Has Metadata</th>\n",
       "          </tr>\n",
       "        </thead>\n",
       "        <tbody>\n",
       "\n",
       "      <tr>\n",
       "        <td>Edges</td>\n",
       "          <td>371</td>\n",
       "          <td>10.1 KiB</td>\n",
       "          <td style=\"text-align: center;\">\n",
       "\n",
       "          </td>\n",
       "        </tr>\n",
       "\n",
       "      <tr>\n",
       "        <td>Individuals</td>\n",
       "          <td>10</td>\n",
       "          <td>172 Bytes</td>\n",
       "          <td style=\"text-align: center;\">\n",
       "\n",
       "          </td>\n",
       "        </tr>\n",
       "\n",
       "      <tr>\n",
       "        <td>Migrations</td>\n",
       "          <td>0</td>\n",
       "          <td>4 Bytes</td>\n",
       "          <td style=\"text-align: center;\">\n",
       "\n",
       "          </td>\n",
       "        </tr>\n",
       "\n",
       "      <tr>\n",
       "        <td>Mutations</td>\n",
       "          <td>0</td>\n",
       "          <td>8 Bytes</td>\n",
       "          <td style=\"text-align: center;\">\n",
       "\n",
       "          </td>\n",
       "        </tr>\n",
       "\n",
       "      <tr>\n",
       "        <td>Nodes</td>\n",
       "          <td>342</td>\n",
       "          <td>8.0 KiB</td>\n",
       "          <td style=\"text-align: center;\">\n",
       "\n",
       "          </td>\n",
       "        </tr>\n",
       "\n",
       "      <tr>\n",
       "        <td>Populations</td>\n",
       "          <td>1</td>\n",
       "          <td>216 Bytes</td>\n",
       "          <td style=\"text-align: center;\">\n",
       "            ✅\n",
       "          </td>\n",
       "        </tr>\n",
       "\n",
       "      <tr>\n",
       "        <td>Provenances</td>\n",
       "          <td>3</td>\n",
       "          <td>2.2 KiB</td>\n",
       "          <td style=\"text-align: center;\">\n",
       "\n",
       "          </td>\n",
       "        </tr>\n",
       "\n",
       "      <tr>\n",
       "        <td>Sites</td>\n",
       "          <td>0</td>\n",
       "          <td>8 Bytes</td>\n",
       "          <td style=\"text-align: center;\">\n",
       "\n",
       "          </td>\n",
       "        </tr>\n",
       "\n",
       "        </tbody>\n",
       "      </table>\n",
       "    </div>\n",
       "  </div>\n",
       "</div>\n"
      ],
      "text/plain": [
       "<tskit.trees.TreeSequence at 0x7fbfc819ad60>"
      ]
     },
     "execution_count": 33,
     "metadata": {},
     "output_type": "execute_result"
    }
   ],
   "source": [
    "ts_chroms = []\n",
    "for j in range(len(chrom_positions) - 1):\n",
    "    start, end = chrom_positions[j: j + 2]\n",
    "    chrom_ts = ts.keep_intervals([[start, end]], simplify=False).trim()\n",
    "    ts_chroms.append(chrom_ts)\n",
    "    print(chrom_ts.sequence_length)\n",
    "\n",
    "# the third chromosome\n",
    "chrom_ts"
   ]
  },
  {
   "cell_type": "markdown",
   "id": "364098b2",
   "metadata": {},
   "source": [
    "This gives us a list of tree sequences, one for each chromosome, in the order\n",
    "that they were stitched together in the initial recombination map.\n",
    "\n",
    "\n",
    "## Recording more information\n",
    "\n",
    "By default `msprime` stores the minimum amount of information required\n",
    "to represent the simulated genealogical history of the samples. Sometimes\n",
    "we are interested in more detailed information; this section gives details\n",
    "of options that allow us to do this.\n",
    "\n",
    "(sec_ancestry_full_arg)=\n",
    "\n",
    "### Ancestral recombination graph\n",
    "\n",
    "In `msprime` we usually want to simulate the coalescent with recombination\n",
    "and represent the output as efficiently as possible. As a result, we don't\n",
    "store individual recombination events, but rather their effects on the output\n",
    "tree sequence. We also do not explicitly store common ancestor events that\n",
    "do not result in marginal coalescences. For some purposes, however, we want\n",
    "to get information on the full history of the simulation, not just the minimal\n",
    "representation of its outcome. The `record_full_arg` option to\n",
    "{func}`.sim_ancestry` provides this functionality, as illustrated in the\n",
    "following example:"
   ]
  },
  {
   "cell_type": "code",
   "execution_count": 34,
   "id": "06a00ada",
   "metadata": {},
   "outputs": [
    {
     "name": "stdout",
     "output_type": "stream",
     "text": [
      "id\tflags\tpopulation\tindividual\ttime\tmetadata\n",
      "0\t1\t0\t0\t0.00000000000000\t\n",
      "1\t1\t0\t0\t0.00000000000000\t\n",
      "2\t1\t0\t1\t0.00000000000000\t\n",
      "3\t1\t0\t1\t0.00000000000000\t\n",
      "4\t1\t0\t2\t0.00000000000000\t\n",
      "5\t1\t0\t2\t0.00000000000000\t\n",
      "6\t0\t0\t-1\t0.21230673613116\t\n",
      "7\t0\t0\t-1\t0.51485156833449\t\n",
      "8\t0\t0\t-1\t0.71161448701612\t\n",
      "9\t131072\t0\t-1\t0.91107704517576\t\n",
      "10\t131072\t0\t-1\t0.91107704517576\t\n",
      "11\t262144\t0\t-1\t1.21743776274571\t\n",
      "12\t0\t0\t-1\t1.23130397112052\t\n",
      "13\t0\t0\t-1\t4.80416300493305\t\n"
     ]
    },
    {
     "data": {
      "image/svg+xml": [
       "<svg xmlns=\"http://www.w3.org/2000/svg\" xmlns:ev=\"http://www.w3.org/2001/xml-events\" xmlns:xlink=\"http://www.w3.org/1999/xlink\" baseProfile=\"full\" height=\"200\" version=\"1.1\" width=\"400\"><defs><style type=\"text/css\"><![CDATA[.tree-sequence .background path {fill: #808080; fill-opacity:0}.tree-sequence .background path:nth-child(odd) {fill-opacity:.1}.axes {font-size: 14px}.x-axis .tick .lab {font-weight: bold}.axes, .tree {font-size: 14px; text-anchor:middle}.y-axis line.grid {stroke: #FAFAFA}.y-axis > .lab text {transform: translateX(0.8em) rotate(-90deg)}.x-axis .tick g {transform: translateY(0.9em)}.x-axis > .lab text {transform: translateY(-0.8em)}.axes line, .edge {stroke:black; fill:none}.node > .sym {fill: black; stroke: none}.site > .sym {stroke: black}.mut text {fill: red; font-style: italic}.mut line {fill: none; stroke: none}.mut .sym {fill: none; stroke: red}.node .mut .sym {stroke-width: 1.5px}.tree text, .tree-sequence text {dominant-baseline: central}.plotbox .lab.lft {text-anchor: end}.plotbox .lab.rgt {text-anchor: start}]]></style></defs><g class=\"tree-sequence\"><g class=\"background\"><path d=\"M20,0 l180,0 l0,138.2 l0,25 l0,5 l-180,0 l0,-5 l0,-25 l0,-138.2z\"/><path d=\"M200,0 l180,0 l0,138.2 l0,25 l0,5 l-180,0 l0,-5 l0,-25 l0,-138.2z\"/></g><g class=\"axes\"><g class=\"x-axis\"><g class=\"lab\" transform=\"translate(200,200)\"><text text-anchor=\"middle\">Genome position</text></g><line x1=\"20\" x2=\"380\" y1=\"163.2\" y2=\"163.2\"/><g class=\"tick\" transform=\"translate(20 163.2)\"><line x1=\"0\" x2=\"0\" y1=\"0\" y2=\"5\"/><g class=\"lab\" transform=\"translate(0,5)\"><text>0</text></g></g><g class=\"tick\" transform=\"translate(200 163.2)\"><line x1=\"0\" x2=\"0\" y1=\"0\" y2=\"5\"/><g class=\"lab\" transform=\"translate(0,5)\"><text>1</text></g></g><g class=\"tick\" transform=\"translate(380 163.2)\"><line x1=\"0\" x2=\"0\" y1=\"0\" y2=\"5\"/><g class=\"lab\" transform=\"translate(0,5)\"><text>2</text></g></g></g></g><g class=\"plotbox trees\"><g class=\"tree t0\" transform=\"translate(20 0)\"><g class=\"plotbox\"><g class=\"node n13 p0 root\" transform=\"translate(101.667 26.8)\"><g class=\"a13 node n8 p0\" transform=\"translate(-35 80.5874)\"><g class=\"a8 node n6 p0\" transform=\"translate(-23.3333 9.832)\"><g class=\"a6 i0 leaf node n0 p0 sample\" transform=\"translate(-11.6667 4.18059)\"><path class=\"edge\" d=\"M 0 0 V -4.18059 H 11.6667\"/><rect class=\"sym\" height=\"6\" width=\"6\" x=\"-3\" y=\"-3\"/><text class=\"lab\" transform=\"translate(0 11)\">0</text></g><g class=\"a6 i2 leaf node n5 p0 sample\" transform=\"translate(11.6667 4.18059)\"><path class=\"edge\" d=\"M 0 0 V -4.18059 H -11.6667\"/><rect class=\"sym\" height=\"6\" width=\"6\" x=\"-3\" y=\"-3\"/><text class=\"lab\" transform=\"translate(0 11)\">5</text></g><path class=\"edge\" d=\"M 0 0 V -9.832 H 23.3333\"/><circle class=\"sym\" cx=\"0\" cy=\"0\" r=\"3\"/><text class=\"lab lft\" transform=\"translate(-3 -7.0)\">6</text></g><g class=\"a8 node n7 p0\" transform=\"translate(23.3333 3.87451)\"><g class=\"a7 i1 leaf node n2 p0 sample\" transform=\"translate(-11.6667 10.1381)\"><path class=\"edge\" d=\"M 0 0 V -10.1381 H 11.6667\"/><rect class=\"sym\" height=\"6\" width=\"6\" x=\"-3\" y=\"-3\"/><text class=\"lab\" transform=\"translate(0 11)\">2</text></g><g class=\"a7 i1 leaf node n3 p0 sample\" transform=\"translate(11.6667 10.1381)\"><path class=\"edge\" d=\"M 0 0 V -10.1381 H -11.6667\"/><rect class=\"sym\" height=\"6\" width=\"6\" x=\"-3\" y=\"-3\"/><text class=\"lab\" transform=\"translate(0 11)\">3</text></g><path class=\"edge\" d=\"M 0 0 V -3.87451 H -23.3333\"/><circle class=\"sym\" cx=\"0\" cy=\"0\" r=\"3\"/><text class=\"lab rgt\" transform=\"translate(3 -7.0)\">7</text></g><path class=\"edge\" d=\"M 0 0 V -80.5874 H 35\"/><circle class=\"sym\" cx=\"0\" cy=\"0\" r=\"3\"/><text class=\"lab lft\" transform=\"translate(-3 -7.0)\">8</text></g><g class=\"a13 node n12 p0\" transform=\"translate(35 70.3541)\"><g class=\"a12 i2 leaf node n4 p0 sample\" transform=\"translate(11.6667 24.2459)\"><path class=\"edge\" d=\"M 0 0 V -24.2459 H -11.6667\"/><rect class=\"sym\" height=\"6\" width=\"6\" x=\"-3\" y=\"-3\"/><text class=\"lab\" transform=\"translate(0 11)\">4</text></g><g class=\"a12 node n11 p0\" transform=\"translate(-11.6667 0.273043)\"><g class=\"a11 node n9 p0\" transform=\"translate(0.0 6.03263)\"><g class=\"a9 i0 leaf node n1 p0 sample\" transform=\"translate(0.0 17.9403)\"><path class=\"edge\" d=\"M 0 0 V -17.9403 H 0.0\"/><rect class=\"sym\" height=\"6\" width=\"6\" x=\"-3\" y=\"-3\"/><text class=\"lab\" transform=\"translate(0 11)\">1</text></g><path class=\"edge\" d=\"M 0 0 V -6.03263 H 0.0\"/><circle class=\"sym\" cx=\"0\" cy=\"0\" r=\"3\"/><text class=\"lab lft\" transform=\"translate(-3 -7.0)\">9</text></g><path class=\"edge\" d=\"M 0 0 V -0.273043 H 11.6667\"/><circle class=\"sym\" cx=\"0\" cy=\"0\" r=\"3\"/><text class=\"lab lft\" transform=\"translate(-3 -7.0)\">11</text></g><path class=\"edge\" d=\"M 0 0 V -70.3541 H -35\"/><circle class=\"sym\" cx=\"0\" cy=\"0\" r=\"3\"/><text class=\"lab rgt\" transform=\"translate(3 -7.0)\">12</text></g><circle class=\"sym\" cx=\"0\" cy=\"0\" r=\"3\"/><text class=\"lab\" transform=\"translate(0 -11)\">13</text></g></g></g><g class=\"tree t1\" transform=\"translate(200 0)\"><g class=\"plotbox\"><g class=\"node n13 p0 root\" transform=\"translate(101.667 26.8)\"><g class=\"a13 node n8 p0\" transform=\"translate(-35 80.5874)\"><g class=\"a8 node n6 p0\" transform=\"translate(-23.3333 9.832)\"><g class=\"a6 i0 leaf node n0 p0 sample\" transform=\"translate(-11.6667 4.18059)\"><path class=\"edge\" d=\"M 0 0 V -4.18059 H 11.6667\"/><rect class=\"sym\" height=\"6\" width=\"6\" x=\"-3\" y=\"-3\"/><text class=\"lab\" transform=\"translate(0 11)\">0</text></g><g class=\"a6 i2 leaf node n5 p0 sample\" transform=\"translate(11.6667 4.18059)\"><path class=\"edge\" d=\"M 0 0 V -4.18059 H -11.6667\"/><rect class=\"sym\" height=\"6\" width=\"6\" x=\"-3\" y=\"-3\"/><text class=\"lab\" transform=\"translate(0 11)\">5</text></g><path class=\"edge\" d=\"M 0 0 V -9.832 H 23.3333\"/><circle class=\"sym\" cx=\"0\" cy=\"0\" r=\"3\"/><text class=\"lab lft\" transform=\"translate(-3 -7.0)\">6</text></g><g class=\"a8 node n7 p0\" transform=\"translate(23.3333 3.87451)\"><g class=\"a7 i1 leaf node n2 p0 sample\" transform=\"translate(-11.6667 10.1381)\"><path class=\"edge\" d=\"M 0 0 V -10.1381 H 11.6667\"/><rect class=\"sym\" height=\"6\" width=\"6\" x=\"-3\" y=\"-3\"/><text class=\"lab\" transform=\"translate(0 11)\">2</text></g><g class=\"a7 i1 leaf node n3 p0 sample\" transform=\"translate(11.6667 10.1381)\"><path class=\"edge\" d=\"M 0 0 V -10.1381 H -11.6667\"/><rect class=\"sym\" height=\"6\" width=\"6\" x=\"-3\" y=\"-3\"/><text class=\"lab\" transform=\"translate(0 11)\">3</text></g><path class=\"edge\" d=\"M 0 0 V -3.87451 H -23.3333\"/><circle class=\"sym\" cx=\"0\" cy=\"0\" r=\"3\"/><text class=\"lab rgt\" transform=\"translate(3 -7.0)\">7</text></g><path class=\"edge\" d=\"M 0 0 V -80.5874 H 35\"/><circle class=\"sym\" cx=\"0\" cy=\"0\" r=\"3\"/><text class=\"lab lft\" transform=\"translate(-3 -7.0)\">8</text></g><g class=\"a13 node n12 p0\" transform=\"translate(35 70.3541)\"><g class=\"a12 i2 leaf node n4 p0 sample\" transform=\"translate(11.6667 24.2459)\"><path class=\"edge\" d=\"M 0 0 V -24.2459 H -11.6667\"/><rect class=\"sym\" height=\"6\" width=\"6\" x=\"-3\" y=\"-3\"/><text class=\"lab\" transform=\"translate(0 11)\">4</text></g><g class=\"a12 node n11 p0\" transform=\"translate(-11.6667 0.273043)\"><g class=\"a11 node n10 p0\" transform=\"translate(0.0 6.03263)\"><g class=\"a10 i0 leaf node n1 p0 sample\" transform=\"translate(0.0 17.9403)\"><path class=\"edge\" d=\"M 0 0 V -17.9403 H 0.0\"/><rect class=\"sym\" height=\"6\" width=\"6\" x=\"-3\" y=\"-3\"/><text class=\"lab\" transform=\"translate(0 11)\">1</text></g><path class=\"edge\" d=\"M 0 0 V -6.03263 H 0.0\"/><circle class=\"sym\" cx=\"0\" cy=\"0\" r=\"3\"/><text class=\"lab lft\" transform=\"translate(-3 -7.0)\">10</text></g><path class=\"edge\" d=\"M 0 0 V -0.273043 H 11.6667\"/><circle class=\"sym\" cx=\"0\" cy=\"0\" r=\"3\"/><text class=\"lab lft\" transform=\"translate(-3 -7.0)\">11</text></g><path class=\"edge\" d=\"M 0 0 V -70.3541 H -35\"/><circle class=\"sym\" cx=\"0\" cy=\"0\" r=\"3\"/><text class=\"lab rgt\" transform=\"translate(3 -7.0)\">12</text></g><circle class=\"sym\" cx=\"0\" cy=\"0\" r=\"3\"/><text class=\"lab\" transform=\"translate(0 -11)\">13</text></g></g></g></g></g></svg>"
      ],
      "text/plain": [
       "<IPython.core.display.SVG object>"
      ]
     },
     "execution_count": 34,
     "metadata": {
      "filenames": {
       "image/svg+xml": "/home/runner/work/tskit-site/tskit-site/docs/_build/jupyter_execute/ancestry_60_1.svg"
      }
     },
     "output_type": "execute_result"
    }
   ],
   "source": [
    "ts = msprime.sim_ancestry(\n",
    "    3, recombination_rate=0.1, sequence_length=2,\n",
    "    record_full_arg=True, random_seed=42)\n",
    "print(ts.tables.nodes)\n",
    "SVG(ts.draw_svg())"
   ]
  },
  {
   "cell_type": "markdown",
   "id": "cf8dec29",
   "metadata": {},
   "source": [
    "After running the simulation we first print out the\n",
    "[node table](<https://tskit.readthedocs.io/en/stable/data-model.html#node-table>), which\n",
    "contains information on all the nodes in the tree sequence. Note that `flags`\n",
    "column contains several different values: all of the sample nodes (at time 0)\n",
    "have a flag value of `1` ({data}`tskit.NODE_IS_SAMPLE`). Most other\n",
    "nodes have a flag value of `0`, which is the standard for internal nodes\n",
    "in a coalescent simulations.\n",
    "\n",
    "Nodes 9 and 10 have flags equal to 131072 ({data}`.NODE_IS_RE_EVENT`), which\n",
    "tells us that they correspond to a recombination event in the ARG. A\n",
    "recombination event results in two extra nodes being recorded, one identifying\n",
    "the individual providing the genetic material to the left of the breakpoint and\n",
    "the other identifying the individuals providing the genetic material to the\n",
    "right. The effect of this extra node can be seen in the trees: node 9 is\n",
    "present as a 'unary' node in the left hand tree and node 10 in the right.\n",
    "\n",
    "In this particular case, the first thing that happens to these two lineages\n",
    "as we go up the tree sequence is that they coalesce straight back together again\n",
    "at node 11, forming a (normally undetectable) \"diamond event\" in the ARG, and\n",
    "explaining why the topology of both these trees appears the same. In a full ARG,\n",
    "this is one of many ways that a coalescent event can occur without resulting in a\n",
    "marginal coalescence, and which instead results in an additional unary node in the\n",
    "trees. Such nodes are given a flags value of 262144 ({data}`.NODE_IS_CA_EVENT`).\n",
    "\n",
    "If we wish to reduce these trees down to the minimal representation, we can\n",
    "use {meth}`tskit.TreeSequence.simplify`. The resulting tree sequence will have\n",
    "all of these unary nodes removed and will be equivalent to (but not identical, due to\n",
    "stochastic effects) calling {func}`.sim_ancestry` without the `record_full_arg`\n",
    "argument.\n",
    "\n",
    "Migrations nodes are also recording in the ARG using the\n",
    "{data}`.NODE_IS_MIG_EVENT` flag. See the {ref}`sec_api_node_flags`\n",
    "section for more details.\n",
    "\n",
    "(sec_ancestry_record_migrations)=\n",
    "\n",
    "### Migration events"
   ]
  },
  {
   "cell_type": "code",
   "execution_count": 35,
   "id": "090afe0a",
   "metadata": {
    "tags": [
     "remove-cell"
    ]
   },
   "outputs": [],
   "source": [
    "    msprime.core.set_seed_rng_seed(42)"
   ]
  },
  {
   "cell_type": "markdown",
   "id": "0f34de57",
   "metadata": {},
   "source": [
    "When running simulations with {ref}`demography <sec_demography>`, by\n",
    "default, migration events are not recorded in the resulting tree sequence.\n",
    "While the population associated with each node is determined by the simulated migration\n",
    "events, knowledge of the\n",
    "precise sequence of migrations is useful in a number of situations: for example see\n",
    "the `tskit`\n",
    "[tutorial on introgression.](<https://tskit-dev.github.io/tutorials/introgression.html>)\n",
    "\n",
    "The `record_migrations` parameter allows us to record these events in the\n",
    "simulated tree sequence outputted by {func}`.sim_ancestry`. Briefly, a migration record\n",
    "encodes the node associated with the migration, the time of the event, the source and\n",
    "destination populations (backwards in time), and the left and right coordinates of the\n",
    "migrating segement. For more details on migration records, see the\n",
    "{ref}`migration table definition.<tskit:sec_migration_table_definition>`\n",
    "\n",
    "Here, we provide a simple example of the effect of setting `record_migrations=True`\n",
    "using the {meth}`stepping stone model<msprime.Demography.stepping_stone_model>`\n",
    "where migration is permitted between adjacent populations. Additionally, we\n",
    "set `record_full_arg=True` (see {ref}`previous section <sec_ancestry_full_arg>`)\n",
    "to record nodes corresponding to migration events. This is not necessary, but will be\n",
    "helpful to visualise the result."
   ]
  },
  {
   "cell_type": "code",
   "execution_count": 36,
   "id": "cdec18d0",
   "metadata": {},
   "outputs": [],
   "source": [
    "N = 10\n",
    "demography = msprime.Demography.stepping_stone_model(\n",
    "    [20] * N, migration_rate=0.1, boundaries=True\n",
    ")\n",
    "ts = msprime.sim_ancestry(\n",
    "    {0: 1, N - 1: 1},\n",
    "    demography=demography,\n",
    "    record_migrations=True,\n",
    "    record_full_arg=True,\n",
    "    random_seed=6,\n",
    ")"
   ]
  },
  {
   "cell_type": "markdown",
   "id": "bb3c09ce",
   "metadata": {},
   "source": [
    "In the following visualisation, we trace the migration history of two samples backwards\n",
    "in time to their most recent common ancestor. Each one of the ten populations in the\n",
    "model is assigned a \n",
    "colour and a position on the x axis. The time of migration events is recorded on the y\n",
    "axis."
   ]
  },
  {
   "cell_type": "code",
   "execution_count": 37,
   "id": "2625cfe6",
   "metadata": {},
   "outputs": [
    {
     "data": {
      "image/png": "[encoded data removed]",
      "text/plain": [
       "<Figure size 432x288 with 1 Axes>"
      ]
     },
     "metadata": {
      "filenames": {
       "image/png": "/home/runner/work/tskit-site/tskit-site/docs/_build/jupyter_execute/ancestry_66_0.png"
      },
      "needs_background": "light"
     },
     "output_type": "display_data"
    }
   ],
   "source": [
    "import tskit\n",
    "import numpy as np\n",
    "import matplotlib\n",
    "\n",
    "cmap = matplotlib.cm.get_cmap('viridis')\n",
    "tree = ts.first()\n",
    "mig_color_dict = {}\n",
    "for u, linestyle in zip(ts.samples()[::2], [\"dotted\", \"dashdot\"]):\n",
    "    mig = ts.tables.migrations\n",
    "    loc = []\n",
    "    time = []\n",
    "    while u != tskit.NULL:\n",
    "        migs = np.where(mig.node == u)[0]\n",
    "        for cur_mig in migs:\n",
    "            cur_mig = mig[cur_mig]\n",
    "            loc.append(cur_mig.dest + 0.5)\n",
    "            time.append(cur_mig.time)\n",
    "        u = tree.parent(u)\n",
    "    plt.plot(loc, time, linestyle=linestyle, color=\"black\")\n",
    "for i in range(N):\n",
    "    rgba = cmap(i / N)\n",
    "    mig_color_dict[i] = np.array(rgba)*255\n",
    "    plt.axvspan(i, i+1, facecolor=rgba, alpha=0.5)\n",
    "plt.ylabel(\"Time of migration event\")\n",
    "plt.xlabel(\"Population\")\n",
    "plt.show()"
   ]
  },
  {
   "cell_type": "markdown",
   "id": "001d47fe",
   "metadata": {},
   "source": [
    "Note also how many migration events occurred before the two\n",
    "samples coalesced, even in this small example.\n",
    "\n",
    "The next visualisation shows where each of these migrations fall on the edges\n",
    "of the simulated tree. We show the nodes associated with each migration\n",
    "event, colouring nodes and edges by the population with which they are associated\n",
    "(using the same colour scheme as the previous visualisation)."
   ]
  },
  {
   "cell_type": "code",
   "execution_count": 38,
   "id": "117b5a4a",
   "metadata": {},
   "outputs": [
    {
     "data": {
      "image/svg+xml": [
       "<svg xmlns=\"http://www.w3.org/2000/svg\" xmlns:ev=\"http://www.w3.org/2001/xml-events\" xmlns:xlink=\"http://www.w3.org/1999/xlink\" baseProfile=\"full\" height=\"400\" version=\"1.1\" width=\"500\"><defs><style type=\"text/css\"><![CDATA[.tree-sequence .background path {fill: #808080; fill-opacity:0}.tree-sequence .background path:nth-child(odd) {fill-opacity:.1}.axes {font-size: 14px}.x-axis .tick .lab {font-weight: bold}.axes, .tree {font-size: 14px; text-anchor:middle}.y-axis line.grid {stroke: #FAFAFA}.y-axis > .lab text {transform: translateX(0.8em) rotate(-90deg)}.x-axis .tick g {transform: translateY(0.9em)}.x-axis > .lab text {transform: translateY(-0.8em)}.axes line, .edge {stroke:black; fill:none}.node > .sym {fill: black; stroke: none}.site > .sym {stroke: black}.mut text {fill: red; font-style: italic}.mut line {fill: none; stroke: none}.mut .sym {fill: none; stroke: red}.node .mut .sym {stroke-width: 1.5px}.tree text, .tree-sequence text {dominant-baseline: central}.plotbox .lab.lft {text-anchor: end}.plotbox .lab.rgt {text-anchor: start}.tree .edge {stroke-width:4px}.node.n0> .sym {fill: rgb(68.08602, 1.24287, 84.000825)}.node.n0 > .edge {stroke: rgb(68.08602, 1.24287, 84.000825)}.node.n1> .sym {fill: rgb(68.08602, 1.24287, 84.000825)}.node.n1 > .edge {stroke: rgb(68.08602, 1.24287, 84.000825)}.node.n2> .sym {fill: rgb(189.05394, 222.72949500000001, 38.138055)}.node.n2 > .edge {stroke: rgb(189.05394, 222.72949500000001, 38.138055)}.node.n3> .sym {fill: rgb(189.05394, 222.72949500000001, 38.138055)}.node.n3 > .edge {stroke: rgb(189.05394, 222.72949500000001, 38.138055)}.node.n4> .sym {fill: rgb(121.76352, 209.46821999999997, 81.139725)}.node.n4 > .edge {stroke: rgb(121.76352, 209.46821999999997, 81.139725)}.node.n5> .sym {fill: rgb(72.068865, 35.93613, 116.666835)}.node.n5 > .edge {stroke: rgb(72.068865, 35.93613, 116.666835)}.node.n6> .sym {fill: rgb(72.068865, 35.93613, 116.666835)}.node.n6 > .edge {stroke: rgb(72.068865, 35.93613, 116.666835)}.node.n7> .sym {fill: rgb(64.75342500000001, 67.63977, 135.145665)}.node.n7 > .edge {stroke: rgb(64.75342500000001, 67.63977, 135.145665)}.node.n8> .sym {fill: rgb(72.068865, 35.93613, 116.666835)}.node.n8 > .edge {stroke: rgb(72.068865, 35.93613, 116.666835)}.node.n9> .sym {fill: rgb(68.08602, 1.24287, 84.000825)}.node.n9 > .edge {stroke: rgb(68.08602, 1.24287, 84.000825)}.node.n10> .sym {fill: rgb(72.068865, 35.93613, 116.666835)}.node.n10 > .edge {stroke: rgb(72.068865, 35.93613, 116.666835)}.node.n11> .sym {fill: rgb(121.76352, 209.46821999999997, 81.139725)}.node.n11 > .edge {stroke: rgb(121.76352, 209.46821999999997, 81.139725)}.node.n12> .sym {fill: rgb(68.069955, 190.93150500000002, 112.346115)}.node.n12 > .edge {stroke: rgb(68.069955, 190.93150500000002, 112.346115)}.node.n13> .sym {fill: rgb(34.34646, 167.95218, 132.000495)}.node.n13 > .edge {stroke: rgb(34.34646, 167.95218, 132.000495)}.node.n14> .sym {fill: rgb(68.069955, 190.93150500000002, 112.346115)}.node.n14 > .edge {stroke: rgb(68.069955, 190.93150500000002, 112.346115)}.node.n15> .sym {fill: rgb(68.08602, 1.24287, 84.000825)}.node.n15 > .edge {stroke: rgb(68.08602, 1.24287, 84.000825)}.node.n16> .sym {fill: rgb(64.75342500000001, 67.63977, 135.145665)}.node.n16 > .edge {stroke: rgb(64.75342500000001, 67.63977, 135.145665)}.node.n17> .sym {fill: rgb(68.069955, 190.93150500000002, 112.346115)}.node.n17 > .edge {stroke: rgb(68.069955, 190.93150500000002, 112.346115)}.node.n18> .sym {fill: rgb(34.34646, 167.95218, 132.000495)}.node.n18 > .edge {stroke: rgb(34.34646, 167.95218, 132.000495)}.node.n19> .sym {fill: rgb(68.069955, 190.93150500000002, 112.346115)}.node.n19 > .edge {stroke: rgb(68.069955, 190.93150500000002, 112.346115)}.node.n20> .sym {fill: rgb(121.76352, 209.46821999999997, 81.139725)}.node.n20 > .edge {stroke: rgb(121.76352, 209.46821999999997, 81.139725)}.node.n21> .sym {fill: rgb(34.34646, 167.95218, 132.000495)}.node.n21 > .edge {stroke: rgb(34.34646, 167.95218, 132.000495)}.node.n22> .sym {fill: rgb(72.068865, 35.93613, 116.666835)}.node.n22 > .edge {stroke: rgb(72.068865, 35.93613, 116.666835)}.node.n23> .sym {fill: rgb(68.069955, 190.93150500000002, 112.346115)}.node.n23 > .edge {stroke: rgb(68.069955, 190.93150500000002, 112.346115)}.node.n24> .sym {fill: rgb(64.75342500000001, 67.63977, 135.145665)}.node.n24 > .edge {stroke: rgb(64.75342500000001, 67.63977, 135.145665)}.node.n25> .sym {fill: rgb(68.069955, 190.93150500000002, 112.346115)}.node.n25 > .edge {stroke: rgb(68.069955, 190.93150500000002, 112.346115)}.node.n26> .sym {fill: rgb(121.76352, 209.46821999999997, 81.139725)}.node.n26 > .edge {stroke: rgb(121.76352, 209.46821999999997, 81.139725)}.node.n27> .sym {fill: rgb(72.068865, 35.93613, 116.666835)}.node.n27 > .edge {stroke: rgb(72.068865, 35.93613, 116.666835)}.node.n28> .sym {fill: rgb(189.05394, 222.72949500000001, 38.138055)}.node.n28 > .edge {stroke: rgb(189.05394, 222.72949500000001, 38.138055)}.node.n29> .sym {fill: rgb(64.75342500000001, 67.63977, 135.145665)}.node.n29 > .edge {stroke: rgb(64.75342500000001, 67.63977, 135.145665)}.node.n30> .sym {fill: rgb(52.72278, 94.79829, 141.044835)}.node.n30 > .edge {stroke: rgb(52.72278, 94.79829, 141.044835)}.node.n31> .sym {fill: rgb(52.72278, 94.79829, 141.044835)}.node.n31 > .edge {stroke: rgb(52.72278, 94.79829, 141.044835)}.node.n32> .sym {fill: rgb(64.75342500000001, 67.63977, 135.145665)}.node.n32 > .edge {stroke: rgb(64.75342500000001, 67.63977, 135.145665)}.node.n33> .sym {fill: rgb(64.75342500000001, 67.63977, 135.145665)}.node.n33 > .edge {stroke: rgb(64.75342500000001, 67.63977, 135.145665)}.node.n34> .sym {fill: rgb(121.76352, 209.46821999999997, 81.139725)}.node.n34 > .edge {stroke: rgb(121.76352, 209.46821999999997, 81.139725)}.node.n35> .sym {fill: rgb(52.72278, 94.79829, 141.044835)}.node.n35 > .edge {stroke: rgb(52.72278, 94.79829, 141.044835)}.node.n36> .sym {fill: rgb(64.75342500000001, 67.63977, 135.145665)}.node.n36 > .edge {stroke: rgb(64.75342500000001, 67.63977, 135.145665)}.node.n37> .sym {fill: rgb(72.068865, 35.93613, 116.666835)}.node.n37 > .edge {stroke: rgb(72.068865, 35.93613, 116.666835)}.node.n38> .sym {fill: rgb(189.05394, 222.72949500000001, 38.138055)}.node.n38 > .edge {stroke: rgb(189.05394, 222.72949500000001, 38.138055)}.node.n39> .sym {fill: rgb(34.34646, 167.95218, 132.000495)}.node.n39 > .edge {stroke: rgb(34.34646, 167.95218, 132.000495)}.node.n40> .sym {fill: rgb(52.72278, 94.79829, 141.044835)}.node.n40 > .edge {stroke: rgb(52.72278, 94.79829, 141.044835)}.node.n41> .sym {fill: rgb(32.52984, 144.57199500000002, 140.39178)}.node.n41 > .edge {stroke: rgb(32.52984, 144.57199500000002, 140.39178)}.node.n42> .sym {fill: rgb(34.34646, 167.95218, 132.000495)}.node.n42 > .edge {stroke: rgb(34.34646, 167.95218, 132.000495)}.node.n43> .sym {fill: rgb(68.08602, 1.24287, 84.000825)}.node.n43 > .edge {stroke: rgb(68.08602, 1.24287, 84.000825)}.node.n44> .sym {fill: rgb(41.724374999999995, 120.13891500000001, 142.32774)}.node.n44 > .edge {stroke: rgb(41.724374999999995, 120.13891500000001, 142.32774)}.node.n45> .sym {fill: rgb(52.72278, 94.79829, 141.044835)}.node.n45 > .edge {stroke: rgb(52.72278, 94.79829, 141.044835)}.node.n46> .sym {fill: rgb(72.068865, 35.93613, 116.666835)}.node.n46 > .edge {stroke: rgb(72.068865, 35.93613, 116.666835)}.node.n47> .sym {fill: rgb(64.75342500000001, 67.63977, 135.145665)}.node.n47 > .edge {stroke: rgb(64.75342500000001, 67.63977, 135.145665)}.node.n48> .sym {fill: rgb(64.75342500000001, 67.63977, 135.145665)}.node.n48 > .edge {stroke: rgb(64.75342500000001, 67.63977, 135.145665)}.node.n49> .sym {fill: rgb(64.75342500000001, 67.63977, 135.145665)}.node.n49 > .edge {stroke: rgb(64.75342500000001, 67.63977, 135.145665)}.node.n50> .sym {fill: rgb(68.069955, 190.93150500000002, 112.346115)}.node.n50 > .edge {stroke: rgb(68.069955, 190.93150500000002, 112.346115)}.node.n51> .sym {fill: rgb(72.068865, 35.93613, 116.666835)}.node.n51 > .edge {stroke: rgb(72.068865, 35.93613, 116.666835)}.node.n52> .sym {fill: rgb(64.75342500000001, 67.63977, 135.145665)}.node.n52 > .edge {stroke: rgb(64.75342500000001, 67.63977, 135.145665)}.node.n53> .sym {fill: rgb(52.72278, 94.79829, 141.044835)}.node.n53 > .edge {stroke: rgb(52.72278, 94.79829, 141.044835)}.node.n54> .sym {fill: rgb(41.724374999999995, 120.13891500000001, 142.32774)}.node.n54 > .edge {stroke: rgb(41.724374999999995, 120.13891500000001, 142.32774)}.node.n55> .sym {fill: rgb(121.76352, 209.46821999999997, 81.139725)}.node.n55 > .edge {stroke: rgb(121.76352, 209.46821999999997, 81.139725)}.node.n56> .sym {fill: rgb(189.05394, 222.72949500000001, 38.138055)}.node.n56 > .edge {stroke: rgb(189.05394, 222.72949500000001, 38.138055)}.node.n57> .sym {fill: rgb(121.76352, 209.46821999999997, 81.139725)}.node.n57 > .edge {stroke: rgb(121.76352, 209.46821999999997, 81.139725)}.node.n58> .sym {fill: rgb(32.52984, 144.57199500000002, 140.39178)}.node.n58 > .edge {stroke: rgb(32.52984, 144.57199500000002, 140.39178)}.node.n59> .sym {fill: rgb(189.05394, 222.72949500000001, 38.138055)}.node.n59 > .edge {stroke: rgb(189.05394, 222.72949500000001, 38.138055)}.node.n60> .sym {fill: rgb(41.724374999999995, 120.13891500000001, 142.32774)}.node.n60 > .edge {stroke: rgb(41.724374999999995, 120.13891500000001, 142.32774)}.node.n61> .sym {fill: rgb(52.72278, 94.79829, 141.044835)}.node.n61 > .edge {stroke: rgb(52.72278, 94.79829, 141.044835)}.node.n62> .sym {fill: rgb(121.76352, 209.46821999999997, 81.139725)}.node.n62 > .edge {stroke: rgb(121.76352, 209.46821999999997, 81.139725)}.node.n63> .sym {fill: rgb(121.76352, 209.46821999999997, 81.139725)}.node.n63 > .edge {stroke: rgb(121.76352, 209.46821999999997, 81.139725)}.node.n64> .sym {fill: rgb(189.05394, 222.72949500000001, 38.138055)}.node.n64 > .edge {stroke: rgb(189.05394, 222.72949500000001, 38.138055)}.node.n65> .sym {fill: rgb(64.75342500000001, 67.63977, 135.145665)}.node.n65 > .edge {stroke: rgb(64.75342500000001, 67.63977, 135.145665)}.node.n66> .sym {fill: rgb(189.05394, 222.72949500000001, 38.138055)}.node.n66 > .edge {stroke: rgb(189.05394, 222.72949500000001, 38.138055)}.node.n67> .sym {fill: rgb(72.068865, 35.93613, 116.666835)}.node.n67 > .edge {stroke: rgb(72.068865, 35.93613, 116.666835)}.node.n68> .sym {fill: rgb(121.76352, 209.46821999999997, 81.139725)}.node.n68 > .edge {stroke: rgb(121.76352, 209.46821999999997, 81.139725)}.node.n69> .sym {fill: rgb(68.08602, 1.24287, 84.000825)}.node.n69 > .edge {stroke: rgb(68.08602, 1.24287, 84.000825)}.node.n70> .sym {fill: rgb(121.76352, 209.46821999999997, 81.139725)}.node.n70 > .edge {stroke: rgb(121.76352, 209.46821999999997, 81.139725)}.node.n71> .sym {fill: rgb(189.05394, 222.72949500000001, 38.138055)}.node.n71 > .edge {stroke: rgb(189.05394, 222.72949500000001, 38.138055)}.node.n72> .sym {fill: rgb(72.068865, 35.93613, 116.666835)}.node.n72 > .edge {stroke: rgb(72.068865, 35.93613, 116.666835)}.node.n73> .sym {fill: rgb(64.75342500000001, 67.63977, 135.145665)}.node.n73 > .edge {stroke: rgb(64.75342500000001, 67.63977, 135.145665)}.node.n74> .sym {fill: rgb(68.069955, 190.93150500000002, 112.346115)}.node.n74 > .edge {stroke: rgb(68.069955, 190.93150500000002, 112.346115)}.node.n75> .sym {fill: rgb(121.76352, 209.46821999999997, 81.139725)}.node.n75 > .edge {stroke: rgb(121.76352, 209.46821999999997, 81.139725)}.node.n76> .sym {fill: rgb(72.068865, 35.93613, 116.666835)}.node.n76 > .edge {stroke: rgb(72.068865, 35.93613, 116.666835)}.node.n77> .sym {fill: rgb(68.069955, 190.93150500000002, 112.346115)}.node.n77 > .edge {stroke: rgb(68.069955, 190.93150500000002, 112.346115)}.node.n78> .sym {fill: rgb(34.34646, 167.95218, 132.000495)}.node.n78 > .edge {stroke: rgb(34.34646, 167.95218, 132.000495)}.node.n79> .sym {fill: rgb(68.069955, 190.93150500000002, 112.346115)}.node.n79 > .edge {stroke: rgb(68.069955, 190.93150500000002, 112.346115)}.node.n80> .sym {fill: rgb(121.76352, 209.46821999999997, 81.139725)}.node.n80 > .edge {stroke: rgb(121.76352, 209.46821999999997, 81.139725)}.node.n81> .sym {fill: rgb(121.76352, 209.46821999999997, 81.139725)}.node.n81 > .edge {stroke: rgb(121.76352, 209.46821999999997, 81.139725)}.node.n82> .sym {fill: rgb(68.069955, 190.93150500000002, 112.346115)}.node.n82 > .edge {stroke: rgb(68.069955, 190.93150500000002, 112.346115)}.node.n83> .sym {fill: rgb(64.75342500000001, 67.63977, 135.145665)}.node.n83 > .edge {stroke: rgb(64.75342500000001, 67.63977, 135.145665)}.node.n84> .sym {fill: rgb(121.76352, 209.46821999999997, 81.139725)}.node.n84 > .edge {stroke: rgb(121.76352, 209.46821999999997, 81.139725)}.node.n85> .sym {fill: rgb(72.068865, 35.93613, 116.666835)}.node.n85 > .edge {stroke: rgb(72.068865, 35.93613, 116.666835)}.node.n86> .sym {fill: rgb(68.069955, 190.93150500000002, 112.346115)}.node.n86 > .edge {stroke: rgb(68.069955, 190.93150500000002, 112.346115)}.node.n87> .sym {fill: rgb(189.05394, 222.72949500000001, 38.138055)}.node.n87 > .edge {stroke: rgb(189.05394, 222.72949500000001, 38.138055)}.node.n88> .sym {fill: rgb(121.76352, 209.46821999999997, 81.139725)}.node.n88 > .edge {stroke: rgb(121.76352, 209.46821999999997, 81.139725)}.node.n89> .sym {fill: rgb(64.75342500000001, 67.63977, 135.145665)}.node.n89 > .edge {stroke: rgb(64.75342500000001, 67.63977, 135.145665)}.node.n90> .sym {fill: rgb(121.76352, 209.46821999999997, 81.139725)}.node.n90 > .edge {stroke: rgb(121.76352, 209.46821999999997, 81.139725)}.node.n91> .sym {fill: rgb(68.069955, 190.93150500000002, 112.346115)}.node.n91 > .edge {stroke: rgb(68.069955, 190.93150500000002, 112.346115)}.node.n92> .sym {fill: rgb(34.34646, 167.95218, 132.000495)}.node.n92 > .edge {stroke: rgb(34.34646, 167.95218, 132.000495)}.node.n93> .sym {fill: rgb(68.069955, 190.93150500000002, 112.346115)}.node.n93 > .edge {stroke: rgb(68.069955, 190.93150500000002, 112.346115)}.node.n94> .sym {fill: rgb(52.72278, 94.79829, 141.044835)}.node.n94 > .edge {stroke: rgb(52.72278, 94.79829, 141.044835)}.node.n95> .sym {fill: rgb(41.724374999999995, 120.13891500000001, 142.32774)}.node.n95 > .edge {stroke: rgb(41.724374999999995, 120.13891500000001, 142.32774)}.node.n96> .sym {fill: rgb(34.34646, 167.95218, 132.000495)}.node.n96 > .edge {stroke: rgb(34.34646, 167.95218, 132.000495)}.node.n97> .sym {fill: rgb(68.069955, 190.93150500000002, 112.346115)}.node.n97 > .edge {stroke: rgb(68.069955, 190.93150500000002, 112.346115)}.node.n98> .sym {fill: rgb(32.52984, 144.57199500000002, 140.39178)}.node.n98 > .edge {stroke: rgb(32.52984, 144.57199500000002, 140.39178)}.node.n99> .sym {fill: rgb(34.34646, 167.95218, 132.000495)}.node.n99 > .edge {stroke: rgb(34.34646, 167.95218, 132.000495)}.node.n100> .sym {fill: rgb(34.34646, 167.95218, 132.000495)}.node.n100 > .edge {stroke: rgb(34.34646, 167.95218, 132.000495)}.node.n101> .sym {fill: rgb(32.52984, 144.57199500000002, 140.39178)}.node.n101 > .edge {stroke: rgb(32.52984, 144.57199500000002, 140.39178)}.node.n102> .sym {fill: rgb(34.34646, 167.95218, 132.000495)}.node.n102 > .edge {stroke: rgb(34.34646, 167.95218, 132.000495)}.node.n103> .sym {fill: rgb(34.34646, 167.95218, 132.000495)}.node.n103 > .edge {stroke: rgb(34.34646, 167.95218, 132.000495)}.node.n104> .sym {fill: rgb(189.05394, 222.72949500000001, 38.138055)}.node.n104 > .edge {stroke: rgb(189.05394, 222.72949500000001, 38.138055)}.node.n105> .sym {fill: rgb(121.76352, 209.46821999999997, 81.139725)}.node.n105 > .edge {stroke: rgb(121.76352, 209.46821999999997, 81.139725)}.node.n106> .sym {fill: rgb(32.52984, 144.57199500000002, 140.39178)}.node.n106 > .edge {stroke: rgb(32.52984, 144.57199500000002, 140.39178)}.node.n107> .sym {fill: rgb(189.05394, 222.72949500000001, 38.138055)}.node.n107 > .edge {stroke: rgb(189.05394, 222.72949500000001, 38.138055)}.node.n108> .sym {fill: rgb(121.76352, 209.46821999999997, 81.139725)}.node.n108 > .edge {stroke: rgb(121.76352, 209.46821999999997, 81.139725)}.node.n109> .sym {fill: rgb(189.05394, 222.72949500000001, 38.138055)}.node.n109 > .edge {stroke: rgb(189.05394, 222.72949500000001, 38.138055)}.node.n110> .sym {fill: rgb(121.76352, 209.46821999999997, 81.139725)}.node.n110 > .edge {stroke: rgb(121.76352, 209.46821999999997, 81.139725)}.node.n111> .sym {fill: rgb(41.724374999999995, 120.13891500000001, 142.32774)}.node.n111 > .edge {stroke: rgb(41.724374999999995, 120.13891500000001, 142.32774)}.node.n112> .sym {fill: rgb(32.52984, 144.57199500000002, 140.39178)}.node.n112 > .edge {stroke: rgb(32.52984, 144.57199500000002, 140.39178)}.node.n113> .sym {fill: rgb(34.34646, 167.95218, 132.000495)}.node.n113 > .edge {stroke: rgb(34.34646, 167.95218, 132.000495)}.node.n114> .sym {fill: rgb(68.069955, 190.93150500000002, 112.346115)}.node.n114 > .edge {stroke: rgb(68.069955, 190.93150500000002, 112.346115)}.node.n115> .sym {fill: rgb(32.52984, 144.57199500000002, 140.39178)}.node.n115 > .edge {stroke: rgb(32.52984, 144.57199500000002, 140.39178)}.node.n116> .sym {fill: rgb(34.34646, 167.95218, 132.000495)}.node.n116 > .edge {stroke: rgb(34.34646, 167.95218, 132.000495)}.node.n117> .sym {fill: rgb(68.069955, 190.93150500000002, 112.346115)}.node.n117 > .edge {stroke: rgb(68.069955, 190.93150500000002, 112.346115)}.node.n118> .sym {fill: rgb(68.069955, 190.93150500000002, 112.346115)}.node.n118 > .edge {stroke: rgb(68.069955, 190.93150500000002, 112.346115)}.node.n4> .sym {fill: rgb(121.76352, 209.46821999999997, 81.139725)}.node.n4 > .edge {stroke: rgb(121.76352, 209.46821999999997, 81.139725)}.node.n5> .sym {fill: rgb(72.068865, 35.93613, 116.666835)}.node.n5 > .edge {stroke: rgb(72.068865, 35.93613, 116.666835)}.node.n6> .sym {fill: rgb(72.068865, 35.93613, 116.666835)}.node.n6 > .edge {stroke: rgb(72.068865, 35.93613, 116.666835)}.node.n7> .sym {fill: rgb(64.75342500000001, 67.63977, 135.145665)}.node.n7 > .edge {stroke: rgb(64.75342500000001, 67.63977, 135.145665)}.node.n8> .sym {fill: rgb(72.068865, 35.93613, 116.666835)}.node.n8 > .edge {stroke: rgb(72.068865, 35.93613, 116.666835)}.node.n9> .sym {fill: rgb(68.08602, 1.24287, 84.000825)}.node.n9 > .edge {stroke: rgb(68.08602, 1.24287, 84.000825)}.node.n10> .sym {fill: rgb(72.068865, 35.93613, 116.666835)}.node.n10 > .edge {stroke: rgb(72.068865, 35.93613, 116.666835)}.node.n11> .sym {fill: rgb(121.76352, 209.46821999999997, 81.139725)}.node.n11 > .edge {stroke: rgb(121.76352, 209.46821999999997, 81.139725)}.node.n12> .sym {fill: rgb(68.069955, 190.93150500000002, 112.346115)}.node.n12 > .edge {stroke: rgb(68.069955, 190.93150500000002, 112.346115)}.node.n13> .sym {fill: rgb(34.34646, 167.95218, 132.000495)}.node.n13 > .edge {stroke: rgb(34.34646, 167.95218, 132.000495)}.node.n14> .sym {fill: rgb(68.069955, 190.93150500000002, 112.346115)}.node.n14 > .edge {stroke: rgb(68.069955, 190.93150500000002, 112.346115)}.node.n15> .sym {fill: rgb(68.08602, 1.24287, 84.000825)}.node.n15 > .edge {stroke: rgb(68.08602, 1.24287, 84.000825)}.node.n16> .sym {fill: rgb(64.75342500000001, 67.63977, 135.145665)}.node.n16 > .edge {stroke: rgb(64.75342500000001, 67.63977, 135.145665)}.node.n17> .sym {fill: rgb(68.069955, 190.93150500000002, 112.346115)}.node.n17 > .edge {stroke: rgb(68.069955, 190.93150500000002, 112.346115)}.node.n18> .sym {fill: rgb(34.34646, 167.95218, 132.000495)}.node.n18 > .edge {stroke: rgb(34.34646, 167.95218, 132.000495)}.node.n19> .sym {fill: rgb(68.069955, 190.93150500000002, 112.346115)}.node.n19 > .edge {stroke: rgb(68.069955, 190.93150500000002, 112.346115)}.node.n20> .sym {fill: rgb(121.76352, 209.46821999999997, 81.139725)}.node.n20 > .edge {stroke: rgb(121.76352, 209.46821999999997, 81.139725)}.node.n21> .sym {fill: rgb(34.34646, 167.95218, 132.000495)}.node.n21 > .edge {stroke: rgb(34.34646, 167.95218, 132.000495)}.node.n22> .sym {fill: rgb(72.068865, 35.93613, 116.666835)}.node.n22 > .edge {stroke: rgb(72.068865, 35.93613, 116.666835)}.node.n23> .sym {fill: rgb(68.069955, 190.93150500000002, 112.346115)}.node.n23 > .edge {stroke: rgb(68.069955, 190.93150500000002, 112.346115)}.node.n24> .sym {fill: rgb(64.75342500000001, 67.63977, 135.145665)}.node.n24 > .edge {stroke: rgb(64.75342500000001, 67.63977, 135.145665)}.node.n25> .sym {fill: rgb(68.069955, 190.93150500000002, 112.346115)}.node.n25 > .edge {stroke: rgb(68.069955, 190.93150500000002, 112.346115)}.node.n26> .sym {fill: rgb(121.76352, 209.46821999999997, 81.139725)}.node.n26 > .edge {stroke: rgb(121.76352, 209.46821999999997, 81.139725)}.node.n27> .sym {fill: rgb(72.068865, 35.93613, 116.666835)}.node.n27 > .edge {stroke: rgb(72.068865, 35.93613, 116.666835)}.node.n28> .sym {fill: rgb(189.05394, 222.72949500000001, 38.138055)}.node.n28 > .edge {stroke: rgb(189.05394, 222.72949500000001, 38.138055)}.node.n29> .sym {fill: rgb(64.75342500000001, 67.63977, 135.145665)}.node.n29 > .edge {stroke: rgb(64.75342500000001, 67.63977, 135.145665)}.node.n30> .sym {fill: rgb(52.72278, 94.79829, 141.044835)}.node.n30 > .edge {stroke: rgb(52.72278, 94.79829, 141.044835)}.node.n31> .sym {fill: rgb(52.72278, 94.79829, 141.044835)}.node.n31 > .edge {stroke: rgb(52.72278, 94.79829, 141.044835)}.node.n32> .sym {fill: rgb(64.75342500000001, 67.63977, 135.145665)}.node.n32 > .edge {stroke: rgb(64.75342500000001, 67.63977, 135.145665)}.node.n33> .sym {fill: rgb(64.75342500000001, 67.63977, 135.145665)}.node.n33 > .edge {stroke: rgb(64.75342500000001, 67.63977, 135.145665)}.node.n34> .sym {fill: rgb(121.76352, 209.46821999999997, 81.139725)}.node.n34 > .edge {stroke: rgb(121.76352, 209.46821999999997, 81.139725)}.node.n35> .sym {fill: rgb(52.72278, 94.79829, 141.044835)}.node.n35 > .edge {stroke: rgb(52.72278, 94.79829, 141.044835)}.node.n36> .sym {fill: rgb(64.75342500000001, 67.63977, 135.145665)}.node.n36 > .edge {stroke: rgb(64.75342500000001, 67.63977, 135.145665)}.node.n37> .sym {fill: rgb(72.068865, 35.93613, 116.666835)}.node.n37 > .edge {stroke: rgb(72.068865, 35.93613, 116.666835)}.node.n38> .sym {fill: rgb(189.05394, 222.72949500000001, 38.138055)}.node.n38 > .edge {stroke: rgb(189.05394, 222.72949500000001, 38.138055)}.node.n39> .sym {fill: rgb(34.34646, 167.95218, 132.000495)}.node.n39 > .edge {stroke: rgb(34.34646, 167.95218, 132.000495)}.node.n40> .sym {fill: rgb(52.72278, 94.79829, 141.044835)}.node.n40 > .edge {stroke: rgb(52.72278, 94.79829, 141.044835)}.node.n41> .sym {fill: rgb(32.52984, 144.57199500000002, 140.39178)}.node.n41 > .edge {stroke: rgb(32.52984, 144.57199500000002, 140.39178)}.node.n42> .sym {fill: rgb(34.34646, 167.95218, 132.000495)}.node.n42 > .edge {stroke: rgb(34.34646, 167.95218, 132.000495)}.node.n43> .sym {fill: rgb(68.08602, 1.24287, 84.000825)}.node.n43 > .edge {stroke: rgb(68.08602, 1.24287, 84.000825)}.node.n44> .sym {fill: rgb(41.724374999999995, 120.13891500000001, 142.32774)}.node.n44 > .edge {stroke: rgb(41.724374999999995, 120.13891500000001, 142.32774)}.node.n45> .sym {fill: rgb(52.72278, 94.79829, 141.044835)}.node.n45 > .edge {stroke: rgb(52.72278, 94.79829, 141.044835)}.node.n46> .sym {fill: rgb(72.068865, 35.93613, 116.666835)}.node.n46 > .edge {stroke: rgb(72.068865, 35.93613, 116.666835)}.node.n47> .sym {fill: rgb(64.75342500000001, 67.63977, 135.145665)}.node.n47 > .edge {stroke: rgb(64.75342500000001, 67.63977, 135.145665)}.node.n48> .sym {fill: rgb(64.75342500000001, 67.63977, 135.145665)}.node.n48 > .edge {stroke: rgb(64.75342500000001, 67.63977, 135.145665)}.node.n50> .sym {fill: rgb(68.069955, 190.93150500000002, 112.346115)}.node.n50 > .edge {stroke: rgb(68.069955, 190.93150500000002, 112.346115)}.node.n51> .sym {fill: rgb(72.068865, 35.93613, 116.666835)}.node.n51 > .edge {stroke: rgb(72.068865, 35.93613, 116.666835)}.node.n52> .sym {fill: rgb(64.75342500000001, 67.63977, 135.145665)}.node.n52 > .edge {stroke: rgb(64.75342500000001, 67.63977, 135.145665)}.node.n53> .sym {fill: rgb(52.72278, 94.79829, 141.044835)}.node.n53 > .edge {stroke: rgb(52.72278, 94.79829, 141.044835)}.node.n54> .sym {fill: rgb(41.724374999999995, 120.13891500000001, 142.32774)}.node.n54 > .edge {stroke: rgb(41.724374999999995, 120.13891500000001, 142.32774)}.node.n55> .sym {fill: rgb(121.76352, 209.46821999999997, 81.139725)}.node.n55 > .edge {stroke: rgb(121.76352, 209.46821999999997, 81.139725)}.node.n56> .sym {fill: rgb(189.05394, 222.72949500000001, 38.138055)}.node.n56 > .edge {stroke: rgb(189.05394, 222.72949500000001, 38.138055)}.node.n57> .sym {fill: rgb(121.76352, 209.46821999999997, 81.139725)}.node.n57 > .edge {stroke: rgb(121.76352, 209.46821999999997, 81.139725)}.node.n58> .sym {fill: rgb(32.52984, 144.57199500000002, 140.39178)}.node.n58 > .edge {stroke: rgb(32.52984, 144.57199500000002, 140.39178)}.node.n59> .sym {fill: rgb(189.05394, 222.72949500000001, 38.138055)}.node.n59 > .edge {stroke: rgb(189.05394, 222.72949500000001, 38.138055)}.node.n60> .sym {fill: rgb(41.724374999999995, 120.13891500000001, 142.32774)}.node.n60 > .edge {stroke: rgb(41.724374999999995, 120.13891500000001, 142.32774)}.node.n61> .sym {fill: rgb(52.72278, 94.79829, 141.044835)}.node.n61 > .edge {stroke: rgb(52.72278, 94.79829, 141.044835)}.node.n62> .sym {fill: rgb(121.76352, 209.46821999999997, 81.139725)}.node.n62 > .edge {stroke: rgb(121.76352, 209.46821999999997, 81.139725)}.node.n63> .sym {fill: rgb(121.76352, 209.46821999999997, 81.139725)}.node.n63 > .edge {stroke: rgb(121.76352, 209.46821999999997, 81.139725)}.node.n64> .sym {fill: rgb(189.05394, 222.72949500000001, 38.138055)}.node.n64 > .edge {stroke: rgb(189.05394, 222.72949500000001, 38.138055)}.node.n65> .sym {fill: rgb(64.75342500000001, 67.63977, 135.145665)}.node.n65 > .edge {stroke: rgb(64.75342500000001, 67.63977, 135.145665)}.node.n66> .sym {fill: rgb(189.05394, 222.72949500000001, 38.138055)}.node.n66 > .edge {stroke: rgb(189.05394, 222.72949500000001, 38.138055)}.node.n67> .sym {fill: rgb(72.068865, 35.93613, 116.666835)}.node.n67 > .edge {stroke: rgb(72.068865, 35.93613, 116.666835)}.node.n68> .sym {fill: rgb(121.76352, 209.46821999999997, 81.139725)}.node.n68 > .edge {stroke: rgb(121.76352, 209.46821999999997, 81.139725)}.node.n69> .sym {fill: rgb(68.08602, 1.24287, 84.000825)}.node.n69 > .edge {stroke: rgb(68.08602, 1.24287, 84.000825)}.node.n70> .sym {fill: rgb(121.76352, 209.46821999999997, 81.139725)}.node.n70 > .edge {stroke: rgb(121.76352, 209.46821999999997, 81.139725)}.node.n71> .sym {fill: rgb(189.05394, 222.72949500000001, 38.138055)}.node.n71 > .edge {stroke: rgb(189.05394, 222.72949500000001, 38.138055)}.node.n72> .sym {fill: rgb(72.068865, 35.93613, 116.666835)}.node.n72 > .edge {stroke: rgb(72.068865, 35.93613, 116.666835)}.node.n73> .sym {fill: rgb(64.75342500000001, 67.63977, 135.145665)}.node.n73 > .edge {stroke: rgb(64.75342500000001, 67.63977, 135.145665)}.node.n74> .sym {fill: rgb(68.069955, 190.93150500000002, 112.346115)}.node.n74 > .edge {stroke: rgb(68.069955, 190.93150500000002, 112.346115)}.node.n75> .sym {fill: rgb(121.76352, 209.46821999999997, 81.139725)}.node.n75 > .edge {stroke: rgb(121.76352, 209.46821999999997, 81.139725)}.node.n76> .sym {fill: rgb(72.068865, 35.93613, 116.666835)}.node.n76 > .edge {stroke: rgb(72.068865, 35.93613, 116.666835)}.node.n77> .sym {fill: rgb(68.069955, 190.93150500000002, 112.346115)}.node.n77 > .edge {stroke: rgb(68.069955, 190.93150500000002, 112.346115)}.node.n78> .sym {fill: rgb(34.34646, 167.95218, 132.000495)}.node.n78 > .edge {stroke: rgb(34.34646, 167.95218, 132.000495)}.node.n79> .sym {fill: rgb(68.069955, 190.93150500000002, 112.346115)}.node.n79 > .edge {stroke: rgb(68.069955, 190.93150500000002, 112.346115)}.node.n80> .sym {fill: rgb(121.76352, 209.46821999999997, 81.139725)}.node.n80 > .edge {stroke: rgb(121.76352, 209.46821999999997, 81.139725)}.node.n81> .sym {fill: rgb(121.76352, 209.46821999999997, 81.139725)}.node.n81 > .edge {stroke: rgb(121.76352, 209.46821999999997, 81.139725)}.node.n82> .sym {fill: rgb(68.069955, 190.93150500000002, 112.346115)}.node.n82 > .edge {stroke: rgb(68.069955, 190.93150500000002, 112.346115)}.node.n83> .sym {fill: rgb(64.75342500000001, 67.63977, 135.145665)}.node.n83 > .edge {stroke: rgb(64.75342500000001, 67.63977, 135.145665)}.node.n84> .sym {fill: rgb(121.76352, 209.46821999999997, 81.139725)}.node.n84 > .edge {stroke: rgb(121.76352, 209.46821999999997, 81.139725)}.node.n85> .sym {fill: rgb(72.068865, 35.93613, 116.666835)}.node.n85 > .edge {stroke: rgb(72.068865, 35.93613, 116.666835)}.node.n86> .sym {fill: rgb(68.069955, 190.93150500000002, 112.346115)}.node.n86 > .edge {stroke: rgb(68.069955, 190.93150500000002, 112.346115)}.node.n87> .sym {fill: rgb(189.05394, 222.72949500000001, 38.138055)}.node.n87 > .edge {stroke: rgb(189.05394, 222.72949500000001, 38.138055)}.node.n88> .sym {fill: rgb(121.76352, 209.46821999999997, 81.139725)}.node.n88 > .edge {stroke: rgb(121.76352, 209.46821999999997, 81.139725)}.node.n89> .sym {fill: rgb(64.75342500000001, 67.63977, 135.145665)}.node.n89 > .edge {stroke: rgb(64.75342500000001, 67.63977, 135.145665)}.node.n90> .sym {fill: rgb(121.76352, 209.46821999999997, 81.139725)}.node.n90 > .edge {stroke: rgb(121.76352, 209.46821999999997, 81.139725)}.node.n91> .sym {fill: rgb(68.069955, 190.93150500000002, 112.346115)}.node.n91 > .edge {stroke: rgb(68.069955, 190.93150500000002, 112.346115)}.node.n92> .sym {fill: rgb(34.34646, 167.95218, 132.000495)}.node.n92 > .edge {stroke: rgb(34.34646, 167.95218, 132.000495)}.node.n93> .sym {fill: rgb(68.069955, 190.93150500000002, 112.346115)}.node.n93 > .edge {stroke: rgb(68.069955, 190.93150500000002, 112.346115)}.node.n94> .sym {fill: rgb(52.72278, 94.79829, 141.044835)}.node.n94 > .edge {stroke: rgb(52.72278, 94.79829, 141.044835)}.node.n95> .sym {fill: rgb(41.724374999999995, 120.13891500000001, 142.32774)}.node.n95 > .edge {stroke: rgb(41.724374999999995, 120.13891500000001, 142.32774)}.node.n96> .sym {fill: rgb(34.34646, 167.95218, 132.000495)}.node.n96 > .edge {stroke: rgb(34.34646, 167.95218, 132.000495)}.node.n97> .sym {fill: rgb(68.069955, 190.93150500000002, 112.346115)}.node.n97 > .edge {stroke: rgb(68.069955, 190.93150500000002, 112.346115)}.node.n98> .sym {fill: rgb(32.52984, 144.57199500000002, 140.39178)}.node.n98 > .edge {stroke: rgb(32.52984, 144.57199500000002, 140.39178)}.node.n99> .sym {fill: rgb(34.34646, 167.95218, 132.000495)}.node.n99 > .edge {stroke: rgb(34.34646, 167.95218, 132.000495)}.node.n100> .sym {fill: rgb(34.34646, 167.95218, 132.000495)}.node.n100 > .edge {stroke: rgb(34.34646, 167.95218, 132.000495)}.node.n101> .sym {fill: rgb(32.52984, 144.57199500000002, 140.39178)}.node.n101 > .edge {stroke: rgb(32.52984, 144.57199500000002, 140.39178)}.node.n102> .sym {fill: rgb(34.34646, 167.95218, 132.000495)}.node.n102 > .edge {stroke: rgb(34.34646, 167.95218, 132.000495)}.node.n104> .sym {fill: rgb(189.05394, 222.72949500000001, 38.138055)}.node.n104 > .edge {stroke: rgb(189.05394, 222.72949500000001, 38.138055)}.node.n105> .sym {fill: rgb(121.76352, 209.46821999999997, 81.139725)}.node.n105 > .edge {stroke: rgb(121.76352, 209.46821999999997, 81.139725)}.node.n106> .sym {fill: rgb(32.52984, 144.57199500000002, 140.39178)}.node.n106 > .edge {stroke: rgb(32.52984, 144.57199500000002, 140.39178)}.node.n107> .sym {fill: rgb(189.05394, 222.72949500000001, 38.138055)}.node.n107 > .edge {stroke: rgb(189.05394, 222.72949500000001, 38.138055)}.node.n108> .sym {fill: rgb(121.76352, 209.46821999999997, 81.139725)}.node.n108 > .edge {stroke: rgb(121.76352, 209.46821999999997, 81.139725)}.node.n109> .sym {fill: rgb(189.05394, 222.72949500000001, 38.138055)}.node.n109 > .edge {stroke: rgb(189.05394, 222.72949500000001, 38.138055)}.node.n110> .sym {fill: rgb(121.76352, 209.46821999999997, 81.139725)}.node.n110 > .edge {stroke: rgb(121.76352, 209.46821999999997, 81.139725)}.node.n111> .sym {fill: rgb(41.724374999999995, 120.13891500000001, 142.32774)}.node.n111 > .edge {stroke: rgb(41.724374999999995, 120.13891500000001, 142.32774)}.node.n112> .sym {fill: rgb(32.52984, 144.57199500000002, 140.39178)}.node.n112 > .edge {stroke: rgb(32.52984, 144.57199500000002, 140.39178)}.node.n113> .sym {fill: rgb(34.34646, 167.95218, 132.000495)}.node.n113 > .edge {stroke: rgb(34.34646, 167.95218, 132.000495)}.node.n114> .sym {fill: rgb(68.069955, 190.93150500000002, 112.346115)}.node.n114 > .edge {stroke: rgb(68.069955, 190.93150500000002, 112.346115)}.node.n115> .sym {fill: rgb(32.52984, 144.57199500000002, 140.39178)}.node.n115 > .edge {stroke: rgb(32.52984, 144.57199500000002, 140.39178)}.node.n116> .sym {fill: rgb(34.34646, 167.95218, 132.000495)}.node.n116 > .edge {stroke: rgb(34.34646, 167.95218, 132.000495)}.node.n117> .sym {fill: rgb(68.069955, 190.93150500000002, 112.346115)}.node.n117 > .edge {stroke: rgb(68.069955, 190.93150500000002, 112.346115)}]]></style></defs><g class=\"tree t0\"><g class=\"plotbox\"><g class=\"node n118 p7 root\" transform=\"translate(321.875 26.8)\"><g class=\"a118 node n114 p7\" transform=\"translate(100.625 9.63369)\"><g class=\"a114 node n110 p8\" transform=\"translate(0.0 23.8789)\"><g class=\"a110 node n109 p9\" transform=\"translate(0.0 5.87693)\"><g class=\"a109 node n108 p8\" transform=\"translate(0.0 1.37987)\"><g class=\"a108 node n107 p9\" transform=\"translate(0.0 4.22103)\"><g class=\"a107 node n105 p8\" transform=\"translate(0.0 8.93021)\"><g class=\"a105 node n104 p9\" transform=\"translate(0.0 4.24781)\"><g class=\"a104 node n88 p8\" transform=\"translate(0.0 43.955)\"><g class=\"a88 node n87 p9\" transform=\"translate(0.0 2.6527)\"><g class=\"a87 node n80 p8\" transform=\"translate(0.0 13.3643)\"><g class=\"a80 node n79 p7\" transform=\"translate(0.0 6.42778)\"><g class=\"a79 node n78 p6\" transform=\"translate(0.0 10.9311)\"><g class=\"a78 node n77 p7\" transform=\"translate(0.0 2.37326)\"><g class=\"a77 node n75 p8\" transform=\"translate(0.0 4.65181)\"><g class=\"a75 node n71 p9\" transform=\"translate(0.0 3.56036)\"><g class=\"a71 node n70 p8\" transform=\"translate(0.0 2.35403)\"><g class=\"a70 node n66 p9\" transform=\"translate(0.0 19.1674)\"><g class=\"a66 node n63 p8\" transform=\"translate(0.0 7.91227)\"><g class=\"a63 node n56 p9\" transform=\"translate(0.0 39.902)\"><g class=\"a56 node n55 p8\" transform=\"translate(0.0 0.123189)\"><g class=\"a55 node n50 p7\" transform=\"translate(0.0 6.84213)\"><g class=\"a50 node n42 p6\" transform=\"translate(0.0 19.6119)\"><g class=\"a42 node n41 p5\" transform=\"translate(0.0 10.4837)\"><g class=\"a41 node n39 p6\" transform=\"translate(0.0 7.56636)\"><g class=\"a39 node n25 p7\" transform=\"translate(0.0 24.5567)\"><g class=\"a25 node n20 p8\" transform=\"translate(0.0 9.21247)\"><g class=\"a20 node n19 p7\" transform=\"translate(0.0 4.82249)\"><g class=\"a19 node n18 p6\" transform=\"translate(0.0 3.25794)\"><g class=\"a18 node n17 p7\" transform=\"translate(0.0 1.2781)\"><g class=\"a17 node n13 p6\" transform=\"translate(0.0 18.7564)\"><g class=\"a13 node n12 p7\" transform=\"translate(0.0 4.58798)\"><g class=\"a12 node n4 p8\" transform=\"translate(0.0 18.0543)\"><g class=\"a4 i1 leaf node n2 p9 sample\" transform=\"translate(0.0 1.82598)\"><path class=\"edge\" d=\"M 0 0 V -1.82598 H 0.0\"/><rect class=\"sym\" height=\"10\" width=\"10\" x=\"-5\" y=\"-5\"/><text class=\"lab\" transform=\"translate(0 11)\"/></g><path class=\"edge\" d=\"M 0 0 V -18.0543 H 0.0\"/><circle class=\"sym\" cx=\"0\" cy=\"0\" r=\"5\"/><text class=\"lab lft\" transform=\"translate(-3 -7.0)\"/></g><path class=\"edge\" d=\"M 0 0 V -4.58798 H 0.0\"/><circle class=\"sym\" cx=\"0\" cy=\"0\" r=\"5\"/><text class=\"lab lft\" transform=\"translate(-3 -7.0)\"/></g><path class=\"edge\" d=\"M 0 0 V -18.7564 H 0.0\"/><circle class=\"sym\" cx=\"0\" cy=\"0\" r=\"5\"/><text class=\"lab lft\" transform=\"translate(-3 -7.0)\"/></g><path class=\"edge\" d=\"M 0 0 V -1.2781 H 0.0\"/><circle class=\"sym\" cx=\"0\" cy=\"0\" r=\"5\"/><text class=\"lab lft\" transform=\"translate(-3 -7.0)\"/></g><path class=\"edge\" d=\"M 0 0 V -3.25794 H 0.0\"/><circle class=\"sym\" cx=\"0\" cy=\"0\" r=\"5\"/><text class=\"lab lft\" transform=\"translate(-3 -7.0)\"/></g><path class=\"edge\" d=\"M 0 0 V -4.82249 H 0.0\"/><circle class=\"sym\" cx=\"0\" cy=\"0\" r=\"5\"/><text class=\"lab lft\" transform=\"translate(-3 -7.0)\"/></g><path class=\"edge\" d=\"M 0 0 V -9.21247 H 0.0\"/><circle class=\"sym\" cx=\"0\" cy=\"0\" r=\"5\"/><text class=\"lab lft\" transform=\"translate(-3 -7.0)\"/></g><path class=\"edge\" d=\"M 0 0 V -24.5567 H 0.0\"/><circle class=\"sym\" cx=\"0\" cy=\"0\" r=\"5\"/><text class=\"lab lft\" transform=\"translate(-3 -7.0)\"/></g><path class=\"edge\" d=\"M 0 0 V -7.56636 H 0.0\"/><circle class=\"sym\" cx=\"0\" cy=\"0\" r=\"5\"/><text class=\"lab lft\" transform=\"translate(-3 -7.0)\"/></g><path class=\"edge\" d=\"M 0 0 V -10.4837 H 0.0\"/><circle class=\"sym\" cx=\"0\" cy=\"0\" r=\"5\"/><text class=\"lab lft\" transform=\"translate(-3 -7.0)\"/></g><path class=\"edge\" d=\"M 0 0 V -19.6119 H 0.0\"/><circle class=\"sym\" cx=\"0\" cy=\"0\" r=\"5\"/><text class=\"lab lft\" transform=\"translate(-3 -7.0)\"/></g><path class=\"edge\" d=\"M 0 0 V -6.84213 H 0.0\"/><circle class=\"sym\" cx=\"0\" cy=\"0\" r=\"5\"/><text class=\"lab lft\" transform=\"translate(-3 -7.0)\"/></g><path class=\"edge\" d=\"M 0 0 V -0.123189 H 0.0\"/><circle class=\"sym\" cx=\"0\" cy=\"0\" r=\"5\"/><text class=\"lab lft\" transform=\"translate(-3 -7.0)\"/></g><path class=\"edge\" d=\"M 0 0 V -39.902 H 0.0\"/><circle class=\"sym\" cx=\"0\" cy=\"0\" r=\"5\"/><text class=\"lab lft\" transform=\"translate(-3 -7.0)\"/></g><path class=\"edge\" d=\"M 0 0 V -7.91227 H 0.0\"/><circle class=\"sym\" cx=\"0\" cy=\"0\" r=\"5\"/><text class=\"lab lft\" transform=\"translate(-3 -7.0)\"/></g><path class=\"edge\" d=\"M 0 0 V -19.1674 H 0.0\"/><circle class=\"sym\" cx=\"0\" cy=\"0\" r=\"5\"/><text class=\"lab lft\" transform=\"translate(-3 -7.0)\"/></g><path class=\"edge\" d=\"M 0 0 V -2.35403 H 0.0\"/><circle class=\"sym\" cx=\"0\" cy=\"0\" r=\"5\"/><text class=\"lab lft\" transform=\"translate(-3 -7.0)\"/></g><path class=\"edge\" d=\"M 0 0 V -3.56036 H 0.0\"/><circle class=\"sym\" cx=\"0\" cy=\"0\" r=\"5\"/><text class=\"lab lft\" transform=\"translate(-3 -7.0)\"/></g><path class=\"edge\" d=\"M 0 0 V -4.65181 H 0.0\"/><circle class=\"sym\" cx=\"0\" cy=\"0\" r=\"5\"/><text class=\"lab lft\" transform=\"translate(-3 -7.0)\"/></g><path class=\"edge\" d=\"M 0 0 V -2.37326 H 0.0\"/><circle class=\"sym\" cx=\"0\" cy=\"0\" r=\"5\"/><text class=\"lab lft\" transform=\"translate(-3 -7.0)\"/></g><path class=\"edge\" d=\"M 0 0 V -10.9311 H 0.0\"/><circle class=\"sym\" cx=\"0\" cy=\"0\" r=\"5\"/><text class=\"lab lft\" transform=\"translate(-3 -7.0)\"/></g><path class=\"edge\" d=\"M 0 0 V -6.42778 H 0.0\"/><circle class=\"sym\" cx=\"0\" cy=\"0\" r=\"5\"/><text class=\"lab lft\" transform=\"translate(-3 -7.0)\"/></g><path class=\"edge\" d=\"M 0 0 V -13.3643 H 0.0\"/><circle class=\"sym\" cx=\"0\" cy=\"0\" r=\"5\"/><text class=\"lab lft\" transform=\"translate(-3 -7.0)\"/></g><path class=\"edge\" d=\"M 0 0 V -2.6527 H 0.0\"/><circle class=\"sym\" cx=\"0\" cy=\"0\" r=\"5\"/><text class=\"lab lft\" transform=\"translate(-3 -7.0)\"/></g><path class=\"edge\" d=\"M 0 0 V -43.955 H 0.0\"/><circle class=\"sym\" cx=\"0\" cy=\"0\" r=\"5\"/><text class=\"lab lft\" transform=\"translate(-3 -7.0)\"/></g><path class=\"edge\" d=\"M 0 0 V -4.24781 H 0.0\"/><circle class=\"sym\" cx=\"0\" cy=\"0\" r=\"5\"/><text class=\"lab lft\" transform=\"translate(-3 -7.0)\"/></g><path class=\"edge\" d=\"M 0 0 V -8.93021 H 0.0\"/><circle class=\"sym\" cx=\"0\" cy=\"0\" r=\"5\"/><text class=\"lab lft\" transform=\"translate(-3 -7.0)\"/></g><path class=\"edge\" d=\"M 0 0 V -4.22103 H 0.0\"/><circle class=\"sym\" cx=\"0\" cy=\"0\" r=\"5\"/><text class=\"lab lft\" transform=\"translate(-3 -7.0)\"/></g><path class=\"edge\" d=\"M 0 0 V -1.37987 H 0.0\"/><circle class=\"sym\" cx=\"0\" cy=\"0\" r=\"5\"/><text class=\"lab lft\" transform=\"translate(-3 -7.0)\"/></g><path class=\"edge\" d=\"M 0 0 V -5.87693 H 0.0\"/><circle class=\"sym\" cx=\"0\" cy=\"0\" r=\"5\"/><text class=\"lab lft\" transform=\"translate(-3 -7.0)\"/></g><path class=\"edge\" d=\"M 0 0 V -23.8789 H 0.0\"/><circle class=\"sym\" cx=\"0\" cy=\"0\" r=\"5\"/><text class=\"lab lft\" transform=\"translate(-3 -7.0)\"/></g><path class=\"edge\" d=\"M 0 0 V -9.63369 H -100.625\"/><circle class=\"sym\" cx=\"0\" cy=\"0\" r=\"5\"/><text class=\"lab rgt\" transform=\"translate(3 -7.0)\"/></g><g class=\"a118 node n117 p7\" transform=\"translate(-100.625 0.514921)\"><g class=\"a117 node n116 p6\" transform=\"translate(0.0 1.71262)\"><g class=\"a116 node n115 p5\" transform=\"translate(0.0 1.32199)\"><g class=\"a115 node n113 p6\" transform=\"translate(0.0 17.0415)\"><g class=\"a113 node n112 p5\" transform=\"translate(0.0 0.802122)\"><g class=\"a112 node n111 p4\" transform=\"translate(0.0 3.62464)\"><g class=\"a111 node n106 p5\" transform=\"translate(0.0 24.5822)\"><g class=\"a106 node n103 p6\" transform=\"translate(0.0 9.89794)\"><g class=\"a103 node n100 p6\" transform=\"translate(-86.25 9.49666)\"><g class=\"a100 node n98 p5\" transform=\"translate(0.0 2.76293)\"><g class=\"a98 node n95 p4\" transform=\"translate(0.0 10.7743)\"><g class=\"a95 node n94 p3\" transform=\"translate(0.0 2.94916)\"><g class=\"a94 node n89 p2\" transform=\"translate(0.0 14.07)\"><g class=\"a89 node n85 p1\" transform=\"translate(0.0 8.62956)\"><g class=\"a85 node n83 p2\" transform=\"translate(0.0 4.33854)\"><g class=\"a83 node n76 p1\" transform=\"translate(0.0 29.4755)\"><g class=\"a76 node n73 p2\" transform=\"translate(0.0 2.58008)\"><g class=\"a73 node n72 p1\" transform=\"translate(0.0 0.210851)\"><g class=\"a72 node n69 p0\" transform=\"translate(0.0 8.31165)\"><g class=\"a69 node n67 p1\" transform=\"translate(0.0 8.5243)\"><g class=\"a67 node n65 p2\" transform=\"translate(0.0 9.78603)\"><g class=\"a65 node n61 p3\" transform=\"translate(0.0 10.6617)\"><g class=\"a61 node n60 p4\" transform=\"translate(0.0 1.38518)\"><g class=\"a60 node n58 p5\" transform=\"translate(0.0 14.3513)\"><g class=\"a58 node n54 p4\" transform=\"translate(0.0 19.6104)\"><g class=\"a54 node n53 p3\" transform=\"translate(0.0 1.9965)\"><g class=\"a53 node n52 p2\" transform=\"translate(0.0 0.223959)\"><g class=\"a52 node n51 p1\" transform=\"translate(0.0 0.29445)\"><g class=\"a51 node n49 p2\" transform=\"translate(0.0 13.2966)\"><g class=\"a49 node n47 p2\" transform=\"translate(57.5 1.41369)\"><g class=\"a47 node n46 p1\" transform=\"translate(0.0 0.779863)\"><g class=\"a46 node n43 p0\" transform=\"translate(0.0 6.27206)\"><g class=\"a43 node n37 p1\" transform=\"translate(0.0 23.8165)\"><g class=\"a37 node n32 p2\" transform=\"translate(0.0 2.51255)\"><g class=\"a32 node n31 p3\" transform=\"translate(0.0 0.70817)\"><g class=\"a31 node n29 p2\" transform=\"translate(0.0 2.22817)\"><g class=\"a29 node n27 p1\" transform=\"translate(0.0 7.44677)\"><g class=\"a27 node n24 p2\" transform=\"translate(0.0 6.85563)\"><g class=\"a24 node n22 p1\" transform=\"translate(0.0 0.955721)\"><g class=\"a22 node n15 p0\" transform=\"translate(0.0 24.9745)\"><g class=\"a15 node n10 p1\" transform=\"translate(0.0 19.3011)\"><g class=\"a10 node n9 p0\" transform=\"translate(0.0 0.870586)\"><g class=\"a9 node n6 p1\" transform=\"translate(0.0 11.2515)\"><g class=\"a6 i0 leaf node n1 p0 sample\" transform=\"translate(0.0 3.78537)\"><path class=\"edge\" d=\"M 0 0 V -3.78537 H 0.0\"/><rect class=\"sym\" height=\"10\" width=\"10\" x=\"-5\" y=\"-5\"/><text class=\"lab\" transform=\"translate(0 11)\"/></g><path class=\"edge\" d=\"M 0 0 V -11.2515 H 0.0\"/><circle class=\"sym\" cx=\"0\" cy=\"0\" r=\"5\"/><text class=\"lab lft\" transform=\"translate(-3 -7.0)\"/></g><path class=\"edge\" d=\"M 0 0 V -0.870586 H 0.0\"/><circle class=\"sym\" cx=\"0\" cy=\"0\" r=\"5\"/><text class=\"lab lft\" transform=\"translate(-3 -7.0)\"/></g><path class=\"edge\" d=\"M 0 0 V -19.3011 H 0.0\"/><circle class=\"sym\" cx=\"0\" cy=\"0\" r=\"5\"/><text class=\"lab lft\" transform=\"translate(-3 -7.0)\"/></g><path class=\"edge\" d=\"M 0 0 V -24.9745 H 0.0\"/><circle class=\"sym\" cx=\"0\" cy=\"0\" r=\"5\"/><text class=\"lab lft\" transform=\"translate(-3 -7.0)\"/></g><path class=\"edge\" d=\"M 0 0 V -0.955721 H 0.0\"/><circle class=\"sym\" cx=\"0\" cy=\"0\" r=\"5\"/><text class=\"lab lft\" transform=\"translate(-3 -7.0)\"/></g><path class=\"edge\" d=\"M 0 0 V -6.85563 H 0.0\"/><circle class=\"sym\" cx=\"0\" cy=\"0\" r=\"5\"/><text class=\"lab lft\" transform=\"translate(-3 -7.0)\"/></g><path class=\"edge\" d=\"M 0 0 V -7.44677 H 0.0\"/><circle class=\"sym\" cx=\"0\" cy=\"0\" r=\"5\"/><text class=\"lab lft\" transform=\"translate(-3 -7.0)\"/></g><path class=\"edge\" d=\"M 0 0 V -2.22817 H 0.0\"/><circle class=\"sym\" cx=\"0\" cy=\"0\" r=\"5\"/><text class=\"lab lft\" transform=\"translate(-3 -7.0)\"/></g><path class=\"edge\" d=\"M 0 0 V -0.70817 H 0.0\"/><circle class=\"sym\" cx=\"0\" cy=\"0\" r=\"5\"/><text class=\"lab lft\" transform=\"translate(-3 -7.0)\"/></g><path class=\"edge\" d=\"M 0 0 V -2.51255 H 0.0\"/><circle class=\"sym\" cx=\"0\" cy=\"0\" r=\"5\"/><text class=\"lab lft\" transform=\"translate(-3 -7.0)\"/></g><path class=\"edge\" d=\"M 0 0 V -23.8165 H 0.0\"/><circle class=\"sym\" cx=\"0\" cy=\"0\" r=\"5\"/><text class=\"lab lft\" transform=\"translate(-3 -7.0)\"/></g><path class=\"edge\" d=\"M 0 0 V -6.27206 H 0.0\"/><circle class=\"sym\" cx=\"0\" cy=\"0\" r=\"5\"/><text class=\"lab lft\" transform=\"translate(-3 -7.0)\"/></g><path class=\"edge\" d=\"M 0 0 V -0.779863 H 0.0\"/><circle class=\"sym\" cx=\"0\" cy=\"0\" r=\"5\"/><text class=\"lab lft\" transform=\"translate(-3 -7.0)\"/></g><path class=\"edge\" d=\"M 0 0 V -1.41369 H -57.5\"/><circle class=\"sym\" cx=\"0\" cy=\"0\" r=\"5\"/><text class=\"lab rgt\" transform=\"translate(3 -7.0)\"/></g><g class=\"a49 node n48 p2\" transform=\"translate(-57.5 0.4944)\"><g class=\"a48 node n45 p3\" transform=\"translate(0.0 4.0854)\"><g class=\"a45 node n44 p4\" transform=\"translate(0.0 0.415865)\"><g class=\"a44 node n40 p3\" transform=\"translate(0.0 18.2124)\"><g class=\"a40 node n36 p2\" transform=\"translate(0.0 9.38967)\"><g class=\"a36 node n35 p3\" transform=\"translate(0.0 1.00765)\"><g class=\"a35 node n33 p2\" transform=\"translate(0.0 0.785364)\"><g class=\"a33 node n30 p3\" transform=\"translate(0.0 3.14744)\"><g class=\"a30 node n16 p2\" transform=\"translate(0.0 33.3642)\"><g class=\"a16 node n8 p1\" transform=\"translate(0.0 31.3756)\"><g class=\"a8 node n7 p2\" transform=\"translate(0.0 2.62891)\"><g class=\"a7 node n5 p1\" transform=\"translate(0.0 6.10849)\"><g class=\"a5 i0 leaf node n0 p0 sample\" transform=\"translate(0.0 2.15696)\"><path class=\"edge\" d=\"M 0 0 V -2.15696 H 0.0\"/><rect class=\"sym\" height=\"10\" width=\"10\" x=\"-5\" y=\"-5\"/><text class=\"lab\" transform=\"translate(0 11)\"/></g><path class=\"edge\" d=\"M 0 0 V -6.10849 H 0.0\"/><circle class=\"sym\" cx=\"0\" cy=\"0\" r=\"5\"/><text class=\"lab lft\" transform=\"translate(-3 -7.0)\"/></g><path class=\"edge\" d=\"M 0 0 V -2.62891 H 0.0\"/><circle class=\"sym\" cx=\"0\" cy=\"0\" r=\"5\"/><text class=\"lab lft\" transform=\"translate(-3 -7.0)\"/></g><path class=\"edge\" d=\"M 0 0 V -31.3756 H 0.0\"/><circle class=\"sym\" cx=\"0\" cy=\"0\" r=\"5\"/><text class=\"lab lft\" transform=\"translate(-3 -7.0)\"/></g><path class=\"edge\" d=\"M 0 0 V -33.3642 H 0.0\"/><circle class=\"sym\" cx=\"0\" cy=\"0\" r=\"5\"/><text class=\"lab lft\" transform=\"translate(-3 -7.0)\"/></g><path class=\"edge\" d=\"M 0 0 V -3.14744 H 0.0\"/><circle class=\"sym\" cx=\"0\" cy=\"0\" r=\"5\"/><text class=\"lab lft\" transform=\"translate(-3 -7.0)\"/></g><path class=\"edge\" d=\"M 0 0 V -0.785364 H 0.0\"/><circle class=\"sym\" cx=\"0\" cy=\"0\" r=\"5\"/><text class=\"lab lft\" transform=\"translate(-3 -7.0)\"/></g><path class=\"edge\" d=\"M 0 0 V -1.00765 H 0.0\"/><circle class=\"sym\" cx=\"0\" cy=\"0\" r=\"5\"/><text class=\"lab lft\" transform=\"translate(-3 -7.0)\"/></g><path class=\"edge\" d=\"M 0 0 V -9.38967 H 0.0\"/><circle class=\"sym\" cx=\"0\" cy=\"0\" r=\"5\"/><text class=\"lab lft\" transform=\"translate(-3 -7.0)\"/></g><path class=\"edge\" d=\"M 0 0 V -18.2124 H 0.0\"/><circle class=\"sym\" cx=\"0\" cy=\"0\" r=\"5\"/><text class=\"lab lft\" transform=\"translate(-3 -7.0)\"/></g><path class=\"edge\" d=\"M 0 0 V -0.415865 H 0.0\"/><circle class=\"sym\" cx=\"0\" cy=\"0\" r=\"5\"/><text class=\"lab lft\" transform=\"translate(-3 -7.0)\"/></g><path class=\"edge\" d=\"M 0 0 V -4.0854 H 0.0\"/><circle class=\"sym\" cx=\"0\" cy=\"0\" r=\"5\"/><text class=\"lab lft\" transform=\"translate(-3 -7.0)\"/></g><path class=\"edge\" d=\"M 0 0 V -0.4944 H 57.5\"/><circle class=\"sym\" cx=\"0\" cy=\"0\" r=\"5\"/><text class=\"lab lft\" transform=\"translate(-3 -7.0)\"/></g><path class=\"edge\" d=\"M 0 0 V -13.2966 H 0.0\"/><circle class=\"sym\" cx=\"0\" cy=\"0\" r=\"5\"/><text class=\"lab lft\" transform=\"translate(-3 -7.0)\"/></g><path class=\"edge\" d=\"M 0 0 V -0.29445 H 0.0\"/><circle class=\"sym\" cx=\"0\" cy=\"0\" r=\"5\"/><text class=\"lab lft\" transform=\"translate(-3 -7.0)\"/></g><path class=\"edge\" d=\"M 0 0 V -0.223959 H 0.0\"/><circle class=\"sym\" cx=\"0\" cy=\"0\" r=\"5\"/><text class=\"lab lft\" transform=\"translate(-3 -7.0)\"/></g><path class=\"edge\" d=\"M 0 0 V -1.9965 H 0.0\"/><circle class=\"sym\" cx=\"0\" cy=\"0\" r=\"5\"/><text class=\"lab lft\" transform=\"translate(-3 -7.0)\"/></g><path class=\"edge\" d=\"M 0 0 V -19.6104 H 0.0\"/><circle class=\"sym\" cx=\"0\" cy=\"0\" r=\"5\"/><text class=\"lab lft\" transform=\"translate(-3 -7.0)\"/></g><path class=\"edge\" d=\"M 0 0 V -14.3513 H 0.0\"/><circle class=\"sym\" cx=\"0\" cy=\"0\" r=\"5\"/><text class=\"lab lft\" transform=\"translate(-3 -7.0)\"/></g><path class=\"edge\" d=\"M 0 0 V -1.38518 H 0.0\"/><circle class=\"sym\" cx=\"0\" cy=\"0\" r=\"5\"/><text class=\"lab lft\" transform=\"translate(-3 -7.0)\"/></g><path class=\"edge\" d=\"M 0 0 V -10.6617 H 0.0\"/><circle class=\"sym\" cx=\"0\" cy=\"0\" r=\"5\"/><text class=\"lab lft\" transform=\"translate(-3 -7.0)\"/></g><path class=\"edge\" d=\"M 0 0 V -9.78603 H 0.0\"/><circle class=\"sym\" cx=\"0\" cy=\"0\" r=\"5\"/><text class=\"lab lft\" transform=\"translate(-3 -7.0)\"/></g><path class=\"edge\" d=\"M 0 0 V -8.5243 H 0.0\"/><circle class=\"sym\" cx=\"0\" cy=\"0\" r=\"5\"/><text class=\"lab lft\" transform=\"translate(-3 -7.0)\"/></g><path class=\"edge\" d=\"M 0 0 V -8.31165 H 0.0\"/><circle class=\"sym\" cx=\"0\" cy=\"0\" r=\"5\"/><text class=\"lab lft\" transform=\"translate(-3 -7.0)\"/></g><path class=\"edge\" d=\"M 0 0 V -0.210851 H 0.0\"/><circle class=\"sym\" cx=\"0\" cy=\"0\" r=\"5\"/><text class=\"lab lft\" transform=\"translate(-3 -7.0)\"/></g><path class=\"edge\" d=\"M 0 0 V -2.58008 H 0.0\"/><circle class=\"sym\" cx=\"0\" cy=\"0\" r=\"5\"/><text class=\"lab lft\" transform=\"translate(-3 -7.0)\"/></g><path class=\"edge\" d=\"M 0 0 V -29.4755 H 0.0\"/><circle class=\"sym\" cx=\"0\" cy=\"0\" r=\"5\"/><text class=\"lab lft\" transform=\"translate(-3 -7.0)\"/></g><path class=\"edge\" d=\"M 0 0 V -4.33854 H 0.0\"/><circle class=\"sym\" cx=\"0\" cy=\"0\" r=\"5\"/><text class=\"lab lft\" transform=\"translate(-3 -7.0)\"/></g><path class=\"edge\" d=\"M 0 0 V -8.62956 H 0.0\"/><circle class=\"sym\" cx=\"0\" cy=\"0\" r=\"5\"/><text class=\"lab lft\" transform=\"translate(-3 -7.0)\"/></g><path class=\"edge\" d=\"M 0 0 V -14.07 H 0.0\"/><circle class=\"sym\" cx=\"0\" cy=\"0\" r=\"5\"/><text class=\"lab lft\" transform=\"translate(-3 -7.0)\"/></g><path class=\"edge\" d=\"M 0 0 V -2.94916 H 0.0\"/><circle class=\"sym\" cx=\"0\" cy=\"0\" r=\"5\"/><text class=\"lab lft\" transform=\"translate(-3 -7.0)\"/></g><path class=\"edge\" d=\"M 0 0 V -10.7743 H 0.0\"/><circle class=\"sym\" cx=\"0\" cy=\"0\" r=\"5\"/><text class=\"lab lft\" transform=\"translate(-3 -7.0)\"/></g><path class=\"edge\" d=\"M 0 0 V -2.76293 H 0.0\"/><circle class=\"sym\" cx=\"0\" cy=\"0\" r=\"5\"/><text class=\"lab lft\" transform=\"translate(-3 -7.0)\"/></g><path class=\"edge\" d=\"M 0 0 V -9.49666 H 86.25\"/><circle class=\"sym\" cx=\"0\" cy=\"0\" r=\"5\"/><text class=\"lab lft\" transform=\"translate(-3 -7.0)\"/></g><g class=\"a103 node n102 p6\" transform=\"translate(86.25 0.451349)\"><g class=\"a102 node n101 p5\" transform=\"translate(0.0 3.41565)\"><g class=\"a101 node n99 p6\" transform=\"translate(0.0 6.0261)\"><g class=\"a99 node n97 p7\" transform=\"translate(0.0 10.105)\"><g class=\"a97 node n96 p6\" transform=\"translate(0.0 0.00807103)\"><g class=\"a96 node n93 p7\" transform=\"translate(0.0 14.6698)\"><g class=\"a93 node n92 p6\" transform=\"translate(0.0 1.04484)\"><g class=\"a92 node n91 p7\" transform=\"translate(0.0 3.13834)\"><g class=\"a91 node n90 p8\" transform=\"translate(0.0 0.389666)\"><g class=\"a90 node n86 p7\" transform=\"translate(0.0 6.75832)\"><g class=\"a86 node n84 p8\" transform=\"translate(0.0 2.83955)\"><g class=\"a84 node n82 p7\" transform=\"translate(0.0 6.98088)\"><g class=\"a82 node n81 p8\" transform=\"translate(0.0 1.37062)\"><g class=\"a81 node n74 p7\" transform=\"translate(0.0 25.8928)\"><g class=\"a74 node n68 p8\" transform=\"translate(0.0 14.8576)\"><g class=\"a68 node n64 p9\" transform=\"translate(0.0 16.154)\"><g class=\"a64 node n62 p8\" transform=\"translate(0.0 2.99798)\"><g class=\"a62 node n59 p9\" transform=\"translate(0.0 19.3938)\"><g class=\"a59 node n57 p8\" transform=\"translate(0.0 10.5674)\"><g class=\"a57 node n38 p9\" transform=\"translate(0.0 57.8727)\"><g class=\"a38 node n34 p8\" transform=\"translate(0.0 2.50731)\"><g class=\"a34 node n28 p9\" transform=\"translate(0.0 9.9084)\"><g class=\"a28 node n26 p8\" transform=\"translate(0.0 4.51202)\"><g class=\"a26 node n23 p7\" transform=\"translate(0.0 3.91429)\"><g class=\"a23 node n21 p6\" transform=\"translate(0.0 5.44247)\"><g class=\"a21 node n14 p7\" transform=\"translate(0.0 24.4763)\"><g class=\"a14 node n11 p8\" transform=\"translate(0.0 13.2271)\"><g class=\"a11 i1 leaf node n3 p9 sample\" transform=\"translate(0.0 17.9797)\"><path class=\"edge\" d=\"M 0 0 V -17.9797 H 0.0\"/><rect class=\"sym\" height=\"10\" width=\"10\" x=\"-5\" y=\"-5\"/><text class=\"lab\" transform=\"translate(0 11)\"/></g><path class=\"edge\" d=\"M 0 0 V -13.2271 H 0.0\"/><circle class=\"sym\" cx=\"0\" cy=\"0\" r=\"5\"/><text class=\"lab lft\" transform=\"translate(-3 -7.0)\"/></g><path class=\"edge\" d=\"M 0 0 V -24.4763 H 0.0\"/><circle class=\"sym\" cx=\"0\" cy=\"0\" r=\"5\"/><text class=\"lab lft\" transform=\"translate(-3 -7.0)\"/></g><path class=\"edge\" d=\"M 0 0 V -5.44247 H 0.0\"/><circle class=\"sym\" cx=\"0\" cy=\"0\" r=\"5\"/><text class=\"lab lft\" transform=\"translate(-3 -7.0)\"/></g><path class=\"edge\" d=\"M 0 0 V -3.91429 H 0.0\"/><circle class=\"sym\" cx=\"0\" cy=\"0\" r=\"5\"/><text class=\"lab lft\" transform=\"translate(-3 -7.0)\"/></g><path class=\"edge\" d=\"M 0 0 V -4.51202 H 0.0\"/><circle class=\"sym\" cx=\"0\" cy=\"0\" r=\"5\"/><text class=\"lab lft\" transform=\"translate(-3 -7.0)\"/></g><path class=\"edge\" d=\"M 0 0 V -9.9084 H 0.0\"/><circle class=\"sym\" cx=\"0\" cy=\"0\" r=\"5\"/><text class=\"lab lft\" transform=\"translate(-3 -7.0)\"/></g><path class=\"edge\" d=\"M 0 0 V -2.50731 H 0.0\"/><circle class=\"sym\" cx=\"0\" cy=\"0\" r=\"5\"/><text class=\"lab lft\" transform=\"translate(-3 -7.0)\"/></g><path class=\"edge\" d=\"M 0 0 V -57.8727 H 0.0\"/><circle class=\"sym\" cx=\"0\" cy=\"0\" r=\"5\"/><text class=\"lab lft\" transform=\"translate(-3 -7.0)\"/></g><path class=\"edge\" d=\"M 0 0 V -10.5674 H 0.0\"/><circle class=\"sym\" cx=\"0\" cy=\"0\" r=\"5\"/><text class=\"lab lft\" transform=\"translate(-3 -7.0)\"/></g><path class=\"edge\" d=\"M 0 0 V -19.3938 H 0.0\"/><circle class=\"sym\" cx=\"0\" cy=\"0\" r=\"5\"/><text class=\"lab lft\" transform=\"translate(-3 -7.0)\"/></g><path class=\"edge\" d=\"M 0 0 V -2.99798 H 0.0\"/><circle class=\"sym\" cx=\"0\" cy=\"0\" r=\"5\"/><text class=\"lab lft\" transform=\"translate(-3 -7.0)\"/></g><path class=\"edge\" d=\"M 0 0 V -16.154 H 0.0\"/><circle class=\"sym\" cx=\"0\" cy=\"0\" r=\"5\"/><text class=\"lab lft\" transform=\"translate(-3 -7.0)\"/></g><path class=\"edge\" d=\"M 0 0 V -14.8576 H 0.0\"/><circle class=\"sym\" cx=\"0\" cy=\"0\" r=\"5\"/><text class=\"lab lft\" transform=\"translate(-3 -7.0)\"/></g><path class=\"edge\" d=\"M 0 0 V -25.8928 H 0.0\"/><circle class=\"sym\" cx=\"0\" cy=\"0\" r=\"5\"/><text class=\"lab lft\" transform=\"translate(-3 -7.0)\"/></g><path class=\"edge\" d=\"M 0 0 V -1.37062 H 0.0\"/><circle class=\"sym\" cx=\"0\" cy=\"0\" r=\"5\"/><text class=\"lab lft\" transform=\"translate(-3 -7.0)\"/></g><path class=\"edge\" d=\"M 0 0 V -6.98088 H 0.0\"/><circle class=\"sym\" cx=\"0\" cy=\"0\" r=\"5\"/><text class=\"lab lft\" transform=\"translate(-3 -7.0)\"/></g><path class=\"edge\" d=\"M 0 0 V -2.83955 H 0.0\"/><circle class=\"sym\" cx=\"0\" cy=\"0\" r=\"5\"/><text class=\"lab lft\" transform=\"translate(-3 -7.0)\"/></g><path class=\"edge\" d=\"M 0 0 V -6.75832 H 0.0\"/><circle class=\"sym\" cx=\"0\" cy=\"0\" r=\"5\"/><text class=\"lab lft\" transform=\"translate(-3 -7.0)\"/></g><path class=\"edge\" d=\"M 0 0 V -0.389666 H 0.0\"/><circle class=\"sym\" cx=\"0\" cy=\"0\" r=\"5\"/><text class=\"lab lft\" transform=\"translate(-3 -7.0)\"/></g><path class=\"edge\" d=\"M 0 0 V -3.13834 H 0.0\"/><circle class=\"sym\" cx=\"0\" cy=\"0\" r=\"5\"/><text class=\"lab lft\" transform=\"translate(-3 -7.0)\"/></g><path class=\"edge\" d=\"M 0 0 V -1.04484 H 0.0\"/><circle class=\"sym\" cx=\"0\" cy=\"0\" r=\"5\"/><text class=\"lab lft\" transform=\"translate(-3 -7.0)\"/></g><path class=\"edge\" d=\"M 0 0 V -14.6698 H 0.0\"/><circle class=\"sym\" cx=\"0\" cy=\"0\" r=\"5\"/><text class=\"lab lft\" transform=\"translate(-3 -7.0)\"/></g><path class=\"edge\" d=\"M 0 0 V -0.00807103 H 0.0\"/><circle class=\"sym\" cx=\"0\" cy=\"0\" r=\"5\"/><text class=\"lab lft\" transform=\"translate(-3 -7.0)\"/></g><path class=\"edge\" d=\"M 0 0 V -10.105 H 0.0\"/><circle class=\"sym\" cx=\"0\" cy=\"0\" r=\"5\"/><text class=\"lab lft\" transform=\"translate(-3 -7.0)\"/></g><path class=\"edge\" d=\"M 0 0 V -6.0261 H 0.0\"/><circle class=\"sym\" cx=\"0\" cy=\"0\" r=\"5\"/><text class=\"lab lft\" transform=\"translate(-3 -7.0)\"/></g><path class=\"edge\" d=\"M 0 0 V -3.41565 H 0.0\"/><circle class=\"sym\" cx=\"0\" cy=\"0\" r=\"5\"/><text class=\"lab lft\" transform=\"translate(-3 -7.0)\"/></g><path class=\"edge\" d=\"M 0 0 V -0.451349 H -86.25\"/><circle class=\"sym\" cx=\"0\" cy=\"0\" r=\"5\"/><text class=\"lab rgt\" transform=\"translate(3 -7.0)\"/></g><path class=\"edge\" d=\"M 0 0 V -9.89794 H 0.0\"/><circle class=\"sym\" cx=\"0\" cy=\"0\" r=\"5\"/><text class=\"lab lft\" transform=\"translate(-3 -7.0)\"/></g><path class=\"edge\" d=\"M 0 0 V -24.5822 H 0.0\"/><circle class=\"sym\" cx=\"0\" cy=\"0\" r=\"5\"/><text class=\"lab lft\" transform=\"translate(-3 -7.0)\"/></g><path class=\"edge\" d=\"M 0 0 V -3.62464 H 0.0\"/><circle class=\"sym\" cx=\"0\" cy=\"0\" r=\"5\"/><text class=\"lab lft\" transform=\"translate(-3 -7.0)\"/></g><path class=\"edge\" d=\"M 0 0 V -0.802122 H 0.0\"/><circle class=\"sym\" cx=\"0\" cy=\"0\" r=\"5\"/><text class=\"lab lft\" transform=\"translate(-3 -7.0)\"/></g><path class=\"edge\" d=\"M 0 0 V -17.0415 H 0.0\"/><circle class=\"sym\" cx=\"0\" cy=\"0\" r=\"5\"/><text class=\"lab lft\" transform=\"translate(-3 -7.0)\"/></g><path class=\"edge\" d=\"M 0 0 V -1.32199 H 0.0\"/><circle class=\"sym\" cx=\"0\" cy=\"0\" r=\"5\"/><text class=\"lab lft\" transform=\"translate(-3 -7.0)\"/></g><path class=\"edge\" d=\"M 0 0 V -1.71262 H 0.0\"/><circle class=\"sym\" cx=\"0\" cy=\"0\" r=\"5\"/><text class=\"lab lft\" transform=\"translate(-3 -7.0)\"/></g><path class=\"edge\" d=\"M 0 0 V -0.514921 H 100.625\"/><circle class=\"sym\" cx=\"0\" cy=\"0\" r=\"5\"/><text class=\"lab lft\" transform=\"translate(-3 -7.0)\"/></g><circle class=\"sym\" cx=\"0\" cy=\"0\" r=\"5\"/><text class=\"lab\" transform=\"translate(0 -11)\"/></g></g></g></svg>"
      ],
      "text/plain": [
       "<IPython.core.display.SVG object>"
      ]
     },
     "execution_count": 38,
     "metadata": {
      "filenames": {
       "image/svg+xml": "/home/runner/work/tskit-site/tskit-site/docs/_build/jupyter_execute/ancestry_68_0.svg"
      }
     },
     "output_type": "execute_result"
    }
   ],
   "source": [
    "mig_color_dict = {}\n",
    "cmap = matplotlib.cm.get_cmap(\"viridis\")\n",
    "for i in range(N):\n",
    "    rgba = cmap(i / N)\n",
    "    mig_color_dict[i] = np.array(rgba) * 255\n",
    "\n",
    "edge_colors = {}\n",
    "string = \".tree .edge {stroke-width:4px}\"\n",
    "pop = ts.tables.nodes.population\n",
    "for node in ts.nodes():\n",
    "    node = node.id\n",
    "    edge_colors[node] = mig_color_dict[pop[node]]\n",
    "    string += (\n",
    "        \".node.n\"\n",
    "        + str(node)\n",
    "        + \"> .sym {fill: rgb\"\n",
    "        + str(tuple(mig_color_dict[pop[node]][0:3]))\n",
    "        + \"}\"\n",
    "    )\n",
    "    string += (\n",
    "        \".node.n\"\n",
    "        + str(node)\n",
    "        + \" > .edge {stroke: rgb\"\n",
    "        + str(tuple(mig_color_dict[pop[node]][0:3]))\n",
    "        + \"}\"\n",
    "    )\n",
    "for mig in ts.migrations():\n",
    "    edge_colors[mig.node] = mig_color_dict[mig.source]\n",
    "    string += (\n",
    "        \".node.n\"\n",
    "        + str(mig.node)\n",
    "        + \"> .sym {fill: rgb\"\n",
    "        + str(tuple(mig_color_dict[pop[mig.node]][0:3]))\n",
    "        + \"}\"\n",
    "    )\n",
    "    string += (\n",
    "        \".node.n\"\n",
    "        + str(mig.node)\n",
    "        + \" > .edge {stroke: rgb\"\n",
    "        + str(tuple(mig_color_dict[mig.dest][0:3]))\n",
    "        + \"}\"\n",
    "    )\n",
    "node_labels = {node.id: \"\" for node in ts.nodes()}\n",
    "SVG(\n",
    "    ts.first().draw_svg(\n",
    "        size=(500, 400), style=string, node_labels=node_labels, symbol_size=10\n",
    "    )\n",
    ")"
   ]
  },
  {
   "cell_type": "markdown",
   "id": "4daa9b2b",
   "metadata": {},
   "source": [
    "(sec_ancestry_census_events)=\n",
    "\n",
    "### Census events\n",
    "\n",
    "Census events allow you to add a node to each branch of the tree sequence at a given time\n",
    "during the simulation. This can be useful when you wish to study haplotypes that are\n",
    "ancestral to your simulated sample, or when you wish to know which lineages were present in\n",
    "which populations at specified times.\n",
    "\n",
    "For instance, the following example creates a two population island\n",
    "model {class}`.Demography`, with the populations exchanging migrants\n",
    "at rate 0.05. At generation 5000, we add a census event using the\n",
    "{meth}`.Demography.add_census` method\n",
    "to determine where each of the lineages is at that time:"
   ]
  },
  {
   "cell_type": "code",
   "execution_count": 39,
   "id": "d17847d8",
   "metadata": {},
   "outputs": [
    {
     "data": {
      "image/svg+xml": [
       "<svg xmlns=\"http://www.w3.org/2000/svg\" xmlns:ev=\"http://www.w3.org/2001/xml-events\" xmlns:xlink=\"http://www.w3.org/1999/xlink\" baseProfile=\"full\" height=\"200\" version=\"1.1\" width=\"800\"><defs><style type=\"text/css\"><![CDATA[.tree-sequence .background path {fill: #808080; fill-opacity:0}.tree-sequence .background path:nth-child(odd) {fill-opacity:.1}.axes {font-size: 14px}.x-axis .tick .lab {font-weight: bold}.axes, .tree {font-size: 14px; text-anchor:middle}.y-axis line.grid {stroke: #FAFAFA}.y-axis > .lab text {transform: translateX(0.8em) rotate(-90deg)}.x-axis .tick g {transform: translateY(0.9em)}.x-axis > .lab text {transform: translateY(-0.8em)}.axes line, .edge {stroke:black; fill:none}.node > .sym {fill: black; stroke: none}.site > .sym {stroke: black}.mut text {fill: red; font-style: italic}.mut line {fill: none; stroke: none}.mut .sym {fill: none; stroke: red}.node .mut .sym {stroke-width: 1.5px}.tree text, .tree-sequence text {dominant-baseline: central}.plotbox .lab.lft {text-anchor: end}.plotbox .lab.rgt {text-anchor: start}]]></style></defs><g class=\"tree-sequence\"><g class=\"background\"><path d=\"M20,0 l190,0 l0,138.2 l10.64,25 l0,5 l-200.64,0 l0,-5 l0,-25 l0,-138.2z\"/><path d=\"M210,0 l190,0 l0,138.2 l135.28,25 l0,5 l-314.64,0 l0,-5 l-10.64,-25 l0,-138.2z\"/><path d=\"M400,0 l190,0 l0,138.2 l142.88,25 l0,5 l-197.6,0 l0,-5 l-135.28,-25 l0,-138.2z\"/><path d=\"M590,0 l190,0 l0,138.2 l0,25 l0,5 l-47.12,0 l0,-5 l-142.88,-25 l0,-138.2z\"/></g><g class=\"axes\"><g class=\"x-axis\"><g class=\"lab\" transform=\"translate(400,200)\"><text text-anchor=\"middle\">Genome position</text></g><line x1=\"20\" x2=\"780\" y1=\"163.2\" y2=\"163.2\"/><g class=\"tick\" transform=\"translate(20 163.2)\"><line x1=\"0\" x2=\"0\" y1=\"0\" y2=\"5\"/><g class=\"lab\" transform=\"translate(0,5)\"><text>0</text></g></g><g class=\"tick\" transform=\"translate(220.64 163.2)\"><line x1=\"0\" x2=\"0\" y1=\"0\" y2=\"5\"/><g class=\"lab\" transform=\"translate(0,5)\"><text>264</text></g></g><g class=\"tick\" transform=\"translate(535.28 163.2)\"><line x1=\"0\" x2=\"0\" y1=\"0\" y2=\"5\"/><g class=\"lab\" transform=\"translate(0,5)\"><text>678</text></g></g><g class=\"tick\" transform=\"translate(732.88 163.2)\"><line x1=\"0\" x2=\"0\" y1=\"0\" y2=\"5\"/><g class=\"lab\" transform=\"translate(0,5)\"><text>938</text></g></g><g class=\"tick\" transform=\"translate(780 163.2)\"><line x1=\"0\" x2=\"0\" y1=\"0\" y2=\"5\"/><g class=\"lab\" transform=\"translate(0,5)\"><text>1000</text></g></g></g></g><g class=\"plotbox trees\"><g class=\"tree t0\" transform=\"translate(20 0)\"><g class=\"plotbox\"><g class=\"node n14 p1 root\" transform=\"translate(95 60.9777)\"><g class=\"a14 node n9 p0\" transform=\"translate(37.5 2.68648)\"><g class=\"a9 node n5 p1\" transform=\"translate(0.0 14.5376)\"><g class=\"a5 i0 leaf node n1 p0 sample\" transform=\"translate(-18.75 43.1983)\"><path class=\"edge\" d=\"M 0 0 V -43.1983 H 18.75\"/><rect class=\"sym\" height=\"6\" width=\"6\" x=\"-3\" y=\"-3\"/><text class=\"lab\" transform=\"translate(0 11)\">1</text></g><g class=\"a5 i1 leaf node n3 p1 sample\" transform=\"translate(18.75 43.1983)\"><path class=\"edge\" d=\"M 0 0 V -43.1983 H -18.75\"/><rect class=\"sym\" height=\"6\" width=\"6\" x=\"-3\" y=\"-3\"/><text class=\"lab\" transform=\"translate(0 11)\">3</text></g><path class=\"edge\" d=\"M 0 0 V -14.5376 H 0.0\"/><circle class=\"sym\" cx=\"0\" cy=\"0\" r=\"3\"/><text class=\"lab lft\" transform=\"translate(-3 -7.0)\">5</text></g><path class=\"edge\" d=\"M 0 0 V -2.68648 H -37.5\"/><circle class=\"sym\" cx=\"0\" cy=\"0\" r=\"3\"/><text class=\"lab rgt\" transform=\"translate(3 -7.0)\">9</text></g><g class=\"a14 node n12 p1\" transform=\"translate(-37.5 2.68648)\"><g class=\"a12 node n4 p1\" transform=\"translate(0.0 30.8089)\"><g class=\"a4 i0 leaf node n0 p0 sample\" transform=\"translate(-18.75 26.927)\"><path class=\"edge\" d=\"M 0 0 V -26.927 H 18.75\"/><rect class=\"sym\" height=\"6\" width=\"6\" x=\"-3\" y=\"-3\"/><text class=\"lab\" transform=\"translate(0 11)\">0</text></g><g class=\"a4 i1 leaf node n2 p1 sample\" transform=\"translate(18.75 26.927)\"><path class=\"edge\" d=\"M 0 0 V -26.927 H -18.75\"/><rect class=\"sym\" height=\"6\" width=\"6\" x=\"-3\" y=\"-3\"/><text class=\"lab\" transform=\"translate(0 11)\">2</text></g><path class=\"edge\" d=\"M 0 0 V -30.8089 H 0.0\"/><circle class=\"sym\" cx=\"0\" cy=\"0\" r=\"3\"/><text class=\"lab lft\" transform=\"translate(-3 -7.0)\">4</text></g><path class=\"edge\" d=\"M 0 0 V -2.68648 H 37.5\"/><circle class=\"sym\" cx=\"0\" cy=\"0\" r=\"3\"/><text class=\"lab lft\" transform=\"translate(-3 -7.0)\">12</text></g><circle class=\"sym\" cx=\"0\" cy=\"0\" r=\"3\"/><text class=\"lab\" transform=\"translate(0 -11)\">14</text></g></g></g><g class=\"tree t1\" transform=\"translate(210 0)\"><g class=\"plotbox\"><g class=\"node n14 p1 root\" transform=\"translate(118.438 60.9777)\"><g class=\"a14 node n10 p0\" transform=\"translate(32.8125 2.68648)\"><g class=\"a10 i1 leaf node n3 p1 sample\" transform=\"translate(0.0 57.7359)\"><path class=\"edge\" d=\"M 0 0 V -57.7359 H 0.0\"/><rect class=\"sym\" height=\"6\" width=\"6\" x=\"-3\" y=\"-3\"/><text class=\"lab\" transform=\"translate(0 11)\">3</text></g><path class=\"edge\" d=\"M 0 0 V -2.68648 H -32.8125\"/><circle class=\"sym\" cx=\"0\" cy=\"0\" r=\"3\"/><text class=\"lab rgt\" transform=\"translate(3 -7.0)\">10</text></g><g class=\"a14 node n13 p1\" transform=\"translate(-32.8125 2.68648)\"><g class=\"a13 node n6 p0\" transform=\"translate(0.0 9.0437)\"><g class=\"a6 i0 leaf node n1 p0 sample\" transform=\"translate(28.125 48.6922)\"><path class=\"edge\" d=\"M 0 0 V -48.6922 H -28.125\"/><rect class=\"sym\" height=\"6\" width=\"6\" x=\"-3\" y=\"-3\"/><text class=\"lab\" transform=\"translate(0 11)\">1</text></g><g class=\"a6 node n4 p1\" transform=\"translate(-28.125 21.7652)\"><g class=\"a4 i0 leaf node n0 p0 sample\" transform=\"translate(-18.75 26.927)\"><path class=\"edge\" d=\"M 0 0 V -26.927 H 18.75\"/><rect class=\"sym\" height=\"6\" width=\"6\" x=\"-3\" y=\"-3\"/><text class=\"lab\" transform=\"translate(0 11)\">0</text></g><g class=\"a4 i1 leaf node n2 p1 sample\" transform=\"translate(18.75 26.927)\"><path class=\"edge\" d=\"M 0 0 V -26.927 H -18.75\"/><rect class=\"sym\" height=\"6\" width=\"6\" x=\"-3\" y=\"-3\"/><text class=\"lab\" transform=\"translate(0 11)\">2</text></g><path class=\"edge\" d=\"M 0 0 V -21.7652 H 28.125\"/><circle class=\"sym\" cx=\"0\" cy=\"0\" r=\"3\"/><text class=\"lab lft\" transform=\"translate(-3 -7.0)\">4</text></g><path class=\"edge\" d=\"M 0 0 V -9.0437 H 0.0\"/><circle class=\"sym\" cx=\"0\" cy=\"0\" r=\"3\"/><text class=\"lab lft\" transform=\"translate(-3 -7.0)\">6</text></g><path class=\"edge\" d=\"M 0 0 V -2.68648 H 32.8125\"/><circle class=\"sym\" cx=\"0\" cy=\"0\" r=\"3\"/><text class=\"lab lft\" transform=\"translate(-3 -7.0)\">13</text></g><circle class=\"sym\" cx=\"0\" cy=\"0\" r=\"3\"/><text class=\"lab\" transform=\"translate(0 -11)\">14</text></g></g></g><g class=\"tree t2\" transform=\"translate(400 0)\"><g class=\"plotbox\"><g class=\"node n14 p1 root\" transform=\"translate(95 60.9777)\"><g class=\"a14 node n13 p1\" transform=\"translate(-37.5 2.68648)\"><g class=\"a13 node n6 p0\" transform=\"translate(0.0 9.0437)\"><g class=\"a6 i0 leaf node n1 p0 sample\" transform=\"translate(18.75 48.6922)\"><path class=\"edge\" d=\"M 0 0 V -48.6922 H -18.75\"/><rect class=\"sym\" height=\"6\" width=\"6\" x=\"-3\" y=\"-3\"/><text class=\"lab\" transform=\"translate(0 11)\">1</text></g><g class=\"a6 i0 leaf node n0 p0 sample\" transform=\"translate(-18.75 48.6922)\"><path class=\"edge\" d=\"M 0 0 V -48.6922 H 18.75\"/><rect class=\"sym\" height=\"6\" width=\"6\" x=\"-3\" y=\"-3\"/><text class=\"lab\" transform=\"translate(0 11)\">0</text></g><path class=\"edge\" d=\"M 0 0 V -9.0437 H 0.0\"/><circle class=\"sym\" cx=\"0\" cy=\"0\" r=\"3\"/><text class=\"lab lft\" transform=\"translate(-3 -7.0)\">6</text></g><path class=\"edge\" d=\"M 0 0 V -2.68648 H 37.5\"/><circle class=\"sym\" cx=\"0\" cy=\"0\" r=\"3\"/><text class=\"lab lft\" transform=\"translate(-3 -7.0)\">13</text></g><g class=\"a14 node n11 p0\" transform=\"translate(37.5 2.68648)\"><g class=\"a11 node n7 p1\" transform=\"translate(0.0 4.84214)\"><g class=\"a7 i1 leaf node n2 p1 sample\" transform=\"translate(-18.75 52.8937)\"><path class=\"edge\" d=\"M 0 0 V -52.8937 H 18.75\"/><rect class=\"sym\" height=\"6\" width=\"6\" x=\"-3\" y=\"-3\"/><text class=\"lab\" transform=\"translate(0 11)\">2</text></g><g class=\"a7 i1 leaf node n3 p1 sample\" transform=\"translate(18.75 52.8937)\"><path class=\"edge\" d=\"M 0 0 V -52.8937 H -18.75\"/><rect class=\"sym\" height=\"6\" width=\"6\" x=\"-3\" y=\"-3\"/><text class=\"lab\" transform=\"translate(0 11)\">3</text></g><path class=\"edge\" d=\"M 0 0 V -4.84214 H 0.0\"/><circle class=\"sym\" cx=\"0\" cy=\"0\" r=\"3\"/><text class=\"lab lft\" transform=\"translate(-3 -7.0)\">7</text></g><path class=\"edge\" d=\"M 0 0 V -2.68648 H -37.5\"/><circle class=\"sym\" cx=\"0\" cy=\"0\" r=\"3\"/><text class=\"lab rgt\" transform=\"translate(3 -7.0)\">11</text></g><circle class=\"sym\" cx=\"0\" cy=\"0\" r=\"3\"/><text class=\"lab\" transform=\"translate(0 -11)\">14</text></g></g></g><g class=\"tree t3\" transform=\"translate(590 0)\"><g class=\"plotbox\"><g class=\"node n15 p0 root\" transform=\"translate(95 26.8)\"><g class=\"a15 node n8 p0\" transform=\"translate(-37.5 36.8641)\"><g class=\"a8 node n6 p0\" transform=\"translate(0.0 9.0437)\"><g class=\"a6 i0 leaf node n1 p0 sample\" transform=\"translate(18.75 48.6922)\"><path class=\"edge\" d=\"M 0 0 V -48.6922 H -18.75\"/><rect class=\"sym\" height=\"6\" width=\"6\" x=\"-3\" y=\"-3\"/><text class=\"lab\" transform=\"translate(0 11)\">1</text></g><g class=\"a6 i0 leaf node n0 p0 sample\" transform=\"translate(-18.75 48.6922)\"><path class=\"edge\" d=\"M 0 0 V -48.6922 H 18.75\"/><rect class=\"sym\" height=\"6\" width=\"6\" x=\"-3\" y=\"-3\"/><text class=\"lab\" transform=\"translate(0 11)\">0</text></g><path class=\"edge\" d=\"M 0 0 V -9.0437 H 0.0\"/><circle class=\"sym\" cx=\"0\" cy=\"0\" r=\"3\"/><text class=\"lab lft\" transform=\"translate(-3 -7.0)\">6</text></g><path class=\"edge\" d=\"M 0 0 V -36.8641 H 37.5\"/><circle class=\"sym\" cx=\"0\" cy=\"0\" r=\"3\"/><text class=\"lab lft\" transform=\"translate(-3 -7.0)\">8</text></g><g class=\"a15 node n11 p0\" transform=\"translate(37.5 36.8641)\"><g class=\"a11 node n7 p1\" transform=\"translate(0.0 4.84214)\"><g class=\"a7 i1 leaf node n2 p1 sample\" transform=\"translate(-18.75 52.8937)\"><path class=\"edge\" d=\"M 0 0 V -52.8937 H 18.75\"/><rect class=\"sym\" height=\"6\" width=\"6\" x=\"-3\" y=\"-3\"/><text class=\"lab\" transform=\"translate(0 11)\">2</text></g><g class=\"a7 i1 leaf node n3 p1 sample\" transform=\"translate(18.75 52.8937)\"><path class=\"edge\" d=\"M 0 0 V -52.8937 H -18.75\"/><rect class=\"sym\" height=\"6\" width=\"6\" x=\"-3\" y=\"-3\"/><text class=\"lab\" transform=\"translate(0 11)\">3</text></g><path class=\"edge\" d=\"M 0 0 V -4.84214 H 0.0\"/><circle class=\"sym\" cx=\"0\" cy=\"0\" r=\"3\"/><text class=\"lab lft\" transform=\"translate(-3 -7.0)\">7</text></g><path class=\"edge\" d=\"M 0 0 V -36.8641 H -37.5\"/><circle class=\"sym\" cx=\"0\" cy=\"0\" r=\"3\"/><text class=\"lab rgt\" transform=\"translate(3 -7.0)\">11</text></g><circle class=\"sym\" cx=\"0\" cy=\"0\" r=\"3\"/><text class=\"lab\" transform=\"translate(0 -11)\">15</text></g></g></g></g></g></svg>"
      ],
      "text/plain": [
       "<IPython.core.display.SVG object>"
      ]
     },
     "execution_count": 39,
     "metadata": {
      "filenames": {
       "image/svg+xml": "/home/runner/work/tskit-site/tskit-site/docs/_build/jupyter_execute/ancestry_70_0.svg"
      }
     },
     "output_type": "execute_result"
    }
   ],
   "source": [
    "demography = msprime.Demography.island_model([1000, 1000], migration_rate=0.05)\n",
    "demography.add_census(time=5000)\n",
    "ts = msprime.sim_ancestry(\n",
    "    {0: 1, 1: 1},\n",
    "    demography=demography,\n",
    "    recombination_rate=1e-7,\n",
    "    sequence_length=1000,\n",
    "    random_seed=141\n",
    ")\n",
    "SVG(ts.draw_svg())"
   ]
  },
  {
   "cell_type": "markdown",
   "id": "e400d113",
   "metadata": {},
   "source": [
    "The resulting tree sequence has nodes on each tree at the specified census time.\n",
    "These are the nodes with IDs 8, 9, 10, 11, 12 and 13.\n",
    "\n",
    "This tells us that the genetic material ancestral to the present day sample was\n",
    "held within 5 haplotypes at time 5000. The node table shows us that four of\n",
    "these haplotypes (nodes 8, 9, 10 and 11) were in population 0 at this time, and\n",
    "two of these haplotypes (nodes 12 and 13) were in population 1 at this time."
   ]
  },
  {
   "cell_type": "code",
   "execution_count": 40,
   "id": "0211538c",
   "metadata": {},
   "outputs": [
    {
     "name": "stdout",
     "output_type": "stream",
     "text": [
      "id\tflags\tpopulation\tindividual\ttime\tmetadata\n",
      "0\t1\t0\t0\t0.00000000000000\t\n",
      "1\t1\t0\t0\t0.00000000000000\t\n",
      "2\t1\t1\t1\t0.00000000000000\t\n",
      "3\t1\t1\t1\t0.00000000000000\t\n",
      "4\t0\t1\t-1\t2331.91109773698145\t\n",
      "5\t0\t1\t-1\t3741.02811877494014\t\n",
      "6\t0\t0\t-1\t4216.80416679880909\t\n",
      "7\t0\t1\t-1\t4580.66488182548528\t\n",
      "8\t1048576\t0\t-1\t5000.00000000000000\t\n",
      "9\t1048576\t0\t-1\t5000.00000000000000\t\n",
      "10\t1048576\t0\t-1\t5000.00000000000000\t\n",
      "11\t1048576\t0\t-1\t5000.00000000000000\t\n",
      "12\t1048576\t1\t-1\t5000.00000000000000\t\n",
      "13\t1048576\t1\t-1\t5000.00000000000000\t\n",
      "14\t0\t1\t-1\t5232.65267391737507\t\n",
      "15\t0\t0\t-1\t8192.48105713510449\t\n"
     ]
    }
   ],
   "source": [
    "print(ts.tables.nodes)"
   ]
  },
  {
   "cell_type": "markdown",
   "id": "d134c3ee",
   "metadata": {},
   "source": [
    "If we wish to study these ancestral haplotypes further, we can simplify the tree sequence\n",
    "with respect to the census nodes and perform subsequent analyses on this simplified tree\n",
    "sequence.\n",
    "In this example, `ts_anc` is a tree sequence obtained from the original tree sequence\n",
    "`ts` by labelling the census nodes as samples and removing all nodes and edges that are\n",
    "not ancestral to these census nodes."
   ]
  },
  {
   "cell_type": "code",
   "execution_count": 41,
   "id": "6ecc0cda",
   "metadata": {},
   "outputs": [],
   "source": [
    "nodes = [i.id for i in ts.nodes() if i.flags==msprime.NODE_IS_CEN_EVENT]\n",
    "ts_anc = ts.simplify(samples=nodes)"
   ]
  },
  {
   "cell_type": "markdown",
   "id": "09b41491",
   "metadata": {},
   "source": [
    "(sec_ancestry_census_events_dtwf)=\n",
    "\n",
    "#### Using the DTWF model\n",
    "\n",
    "Census events assume that they are being used as part of a continuous time\n",
    "simulation process, in which multiple events are guaranteed not to happen\n",
    "at the same time. However, the {class}`.DiscreteTimeWrightFisher` model does\n",
    "not meet these assumptions, and allows multiple events (such as coalescences,\n",
    "migrations etc) to all occur at the same time. This includes census events,\n",
    "which can lead to errors when used in conjunction with the DTWF model.\n",
    "\n",
    "Consider the following example:"
   ]
  },
  {
   "cell_type": "code",
   "execution_count": 42,
   "id": "f6634df1",
   "metadata": {},
   "outputs": [
    {
     "data": {
      "image/svg+xml": [
       "<svg xmlns=\"http://www.w3.org/2000/svg\" xmlns:ev=\"http://www.w3.org/2001/xml-events\" xmlns:xlink=\"http://www.w3.org/1999/xlink\" baseProfile=\"full\" height=\"200\" version=\"1.1\" width=\"200\"><defs><style type=\"text/css\"><![CDATA[.tree-sequence .background path {fill: #808080; fill-opacity:0}.tree-sequence .background path:nth-child(odd) {fill-opacity:.1}.axes {font-size: 14px}.x-axis .tick .lab {font-weight: bold}.axes, .tree {font-size: 14px; text-anchor:middle}.y-axis line.grid {stroke: #FAFAFA}.y-axis > .lab text {transform: translateX(0.8em) rotate(-90deg)}.x-axis .tick g {transform: translateY(0.9em)}.x-axis > .lab text {transform: translateY(-0.8em)}.axes line, .edge {stroke:black; fill:none}.node > .sym {fill: black; stroke: none}.site > .sym {stroke: black}.mut text {fill: red; font-style: italic}.mut line {fill: none; stroke: none}.mut .sym {fill: none; stroke: red}.node .mut .sym {stroke-width: 1.5px}.tree text, .tree-sequence text {dominant-baseline: central}.plotbox .lab.lft {text-anchor: end}.plotbox .lab.rgt {text-anchor: start}]]></style></defs><g class=\"tree-sequence\"><g class=\"background\"><path d=\"M56.8,0 l123.2,0 l0,138.2 l0,25 l0,5 l-123.2,0 l0,-5 l0,-25 l0,-138.2z\"/></g><g class=\"axes\"><g class=\"x-axis\"><g class=\"lab\" transform=\"translate(118.4,200)\"><text text-anchor=\"middle\">Genome position</text></g><line x1=\"56.8\" x2=\"180\" y1=\"163.2\" y2=\"163.2\"/><g class=\"tick\" transform=\"translate(56.8 163.2)\"><line x1=\"0\" x2=\"0\" y1=\"0\" y2=\"5\"/><g class=\"lab\" transform=\"translate(0,5)\"><text>0</text></g></g><g class=\"tick\" transform=\"translate(180 163.2)\"><line x1=\"0\" x2=\"0\" y1=\"0\" y2=\"5\"/><g class=\"lab\" transform=\"translate(0,5)\"><text>1</text></g></g></g><g class=\"y-axis\"><g class=\"lab\" transform=\"translate(0,65.7)\"><text text-anchor=\"middle\">Time</text></g><line x1=\"56.8\" x2=\"56.8\" y1=\"121.4\" y2=\"10\"/><g class=\"tick\" transform=\"translate(56.8 121.4)\"><line x1=\"0\" x2=\"-5\" y1=\"0\" y2=\"0\"/><g class=\"lab\" transform=\"translate(-5,0)\"><text text-anchor=\"end\">0.00</text></g></g><g class=\"tick\" transform=\"translate(56.8 118.772)\"><line x1=\"0\" x2=\"-5\" y1=\"0\" y2=\"0\"/><g class=\"lab\" transform=\"translate(-5,0)\"><text text-anchor=\"end\">1.00</text></g></g><g class=\"tick\" transform=\"translate(56.8 110.889)\"><line x1=\"0\" x2=\"-5\" y1=\"0\" y2=\"0\"/><g class=\"lab\" transform=\"translate(-5,0)\"><text text-anchor=\"end\">4.00</text></g></g><g class=\"tick\" transform=\"translate(56.8 108.261)\"><line x1=\"0\" x2=\"-5\" y1=\"0\" y2=\"0\"/><g class=\"lab\" transform=\"translate(-5,0)\"><text text-anchor=\"end\">5.00</text></g></g><g class=\"tick\" transform=\"translate(56.8 66.2167)\"><line x1=\"0\" x2=\"-5\" y1=\"0\" y2=\"0\"/><g class=\"lab\" transform=\"translate(-5,0)\"><text text-anchor=\"end\">21.00</text></g></g><g class=\"tick\" transform=\"translate(56.8 26.8)\"><line x1=\"0\" x2=\"-5\" y1=\"0\" y2=\"0\"/><g class=\"lab\" transform=\"translate(-5,0)\"><text text-anchor=\"end\">36.00</text></g></g></g></g><g class=\"plotbox trees\"><g class=\"tree t0\" transform=\"translate(56.8 0)\"><g class=\"plotbox\"><g class=\"node n10 p0 root\" transform=\"translate(78.5 26.8)\"><g class=\"a10 i0 leaf node n1 p0 sample\" transform=\"translate(17.7667 94.6)\"><path class=\"edge\" d=\"M 0 0 V -94.6 H -17.7667\"/><rect class=\"sym\" height=\"6\" width=\"6\" x=\"-3\" y=\"-3\"/><text class=\"lab\" transform=\"translate(0 11)\">1</text></g><g class=\"a10 node n9 p0\" transform=\"translate(-17.7667 39.4167)\"><g class=\"a9 i2 leaf node n4 p0 sample\" transform=\"translate(21.6667 55.1833)\"><path class=\"edge\" d=\"M 0 0 V -55.1833 H -21.6667\"/><rect class=\"sym\" height=\"6\" width=\"6\" x=\"-3\" y=\"-3\"/><text class=\"lab\" transform=\"translate(0 11)\">4</text></g><g class=\"a9 node n8 p0\" transform=\"translate(-21.6667 42.0444)\"><g class=\"a8 i0 leaf node n0 p0 sample\" transform=\"translate(-12.1333 13.1389)\"><path class=\"edge\" d=\"M 0 0 V -13.1389 H 12.1333\"/><rect class=\"sym\" height=\"6\" width=\"6\" x=\"-3\" y=\"-3\"/><text class=\"lab\" transform=\"translate(0 11)\">0</text></g><g class=\"a8 node n7 p0\" transform=\"translate(12.1333 2.62778)\"><g class=\"a7 i1 leaf node n2 p0 sample\" transform=\"translate(-10.4 10.5111)\"><path class=\"edge\" d=\"M 0 0 V -10.5111 H 10.4\"/><rect class=\"sym\" height=\"6\" width=\"6\" x=\"-3\" y=\"-3\"/><text class=\"lab\" transform=\"translate(0 11)\">2</text></g><g class=\"a7 node n6 p0\" transform=\"translate(10.4 7.88333)\"><g class=\"a6 i1 leaf node n3 p0 sample\" transform=\"translate(-6.93333 2.62778)\"><path class=\"edge\" d=\"M 0 0 V -2.62778 H 6.93333\"/><rect class=\"sym\" height=\"6\" width=\"6\" x=\"-3\" y=\"-3\"/><text class=\"lab\" transform=\"translate(0 11)\">3</text></g><g class=\"a6 i2 leaf node n5 p0 sample\" transform=\"translate(6.93333 2.62778)\"><path class=\"edge\" d=\"M 0 0 V -2.62778 H -6.93333\"/><rect class=\"sym\" height=\"6\" width=\"6\" x=\"-3\" y=\"-3\"/><text class=\"lab\" transform=\"translate(0 11)\">5</text></g><path class=\"edge\" d=\"M 0 0 V -7.88333 H -10.4\"/><circle class=\"sym\" cx=\"0\" cy=\"0\" r=\"3\"/><text class=\"lab rgt\" transform=\"translate(3 -7.0)\">6</text></g><path class=\"edge\" d=\"M 0 0 V -2.62778 H -12.1333\"/><circle class=\"sym\" cx=\"0\" cy=\"0\" r=\"3\"/><text class=\"lab rgt\" transform=\"translate(3 -7.0)\">7</text></g><path class=\"edge\" d=\"M 0 0 V -42.0444 H 21.6667\"/><circle class=\"sym\" cx=\"0\" cy=\"0\" r=\"3\"/><text class=\"lab lft\" transform=\"translate(-3 -7.0)\">8</text></g><path class=\"edge\" d=\"M 0 0 V -39.4167 H 17.7667\"/><circle class=\"sym\" cx=\"0\" cy=\"0\" r=\"3\"/><text class=\"lab lft\" transform=\"translate(-3 -7.0)\">9</text></g><circle class=\"sym\" cx=\"0\" cy=\"0\" r=\"3\"/><text class=\"lab\" transform=\"translate(0 -11)\">10</text></g></g></g></g></g></svg>"
      ],
      "text/plain": [
       "<IPython.core.display.SVG object>"
      ]
     },
     "execution_count": 42,
     "metadata": {
      "filenames": {
       "image/svg+xml": "/home/runner/work/tskit-site/tskit-site/docs/_build/jupyter_execute/ancestry_76_0.svg"
      }
     },
     "output_type": "execute_result"
    }
   ],
   "source": [
    "demography = msprime.Demography()\n",
    "demography.add_population(name=\"A\", initial_size=10)\n",
    "ts = msprime.sim_ancestry({\"A\": 3}, demography=demography, model=\"dtwf\", random_seed=1)\n",
    "SVG(ts.draw_svg(y_axis=True))"
   ]
  },
  {
   "cell_type": "markdown",
   "id": "332ce950",
   "metadata": {},
   "source": [
    "We can see that a coalescence happens at time 21, giving node 9. Now, let's\n",
    "try to perform a census at time 21:"
   ]
  },
  {
   "cell_type": "code",
   "execution_count": 43,
   "id": "dc39012c",
   "metadata": {
    "tags": [
     "raises-exception"
    ]
   },
   "outputs": [
    {
     "ename": "LibraryError",
     "evalue": "The simulation model supplied resulted in a parent node having a time value <= to its child. This can occur either as a result of multiple bottlenecks happening at the same time or because of numerical imprecision with very small population sizes.",
     "output_type": "error",
     "traceback": [
      "\u001b[0;31m---------------------------------------------------------------------------\u001b[0m",
      "\u001b[0;31mLibraryError\u001b[0m                              Traceback (most recent call last)",
      "\u001b[0;32m<ipython-input-43-8564f026503b>\u001b[0m in \u001b[0;36m<module>\u001b[0;34m\u001b[0m\n\u001b[1;32m      2\u001b[0m \u001b[0mdemography\u001b[0m\u001b[0;34m.\u001b[0m\u001b[0madd_population\u001b[0m\u001b[0;34m(\u001b[0m\u001b[0mname\u001b[0m\u001b[0;34m=\u001b[0m\u001b[0;34m\"A\"\u001b[0m\u001b[0;34m,\u001b[0m \u001b[0minitial_size\u001b[0m\u001b[0;34m=\u001b[0m\u001b[0;36m10\u001b[0m\u001b[0;34m)\u001b[0m\u001b[0;34m\u001b[0m\u001b[0;34m\u001b[0m\u001b[0m\n\u001b[1;32m      3\u001b[0m \u001b[0mdemography\u001b[0m\u001b[0;34m.\u001b[0m\u001b[0madd_census\u001b[0m\u001b[0;34m(\u001b[0m\u001b[0mtime\u001b[0m\u001b[0;34m=\u001b[0m\u001b[0;36m21\u001b[0m\u001b[0;34m)\u001b[0m\u001b[0;34m\u001b[0m\u001b[0;34m\u001b[0m\u001b[0m\n\u001b[0;32m----> 4\u001b[0;31m \u001b[0mts\u001b[0m \u001b[0;34m=\u001b[0m \u001b[0mmsprime\u001b[0m\u001b[0;34m.\u001b[0m\u001b[0msim_ancestry\u001b[0m\u001b[0;34m(\u001b[0m\u001b[0;34m{\u001b[0m\u001b[0;34m\"A\"\u001b[0m\u001b[0;34m:\u001b[0m \u001b[0;36m3\u001b[0m\u001b[0;34m}\u001b[0m\u001b[0;34m,\u001b[0m \u001b[0mdemography\u001b[0m\u001b[0;34m=\u001b[0m\u001b[0mdemography\u001b[0m\u001b[0;34m,\u001b[0m \u001b[0mmodel\u001b[0m\u001b[0;34m=\u001b[0m\u001b[0;34m\"dtwf\"\u001b[0m\u001b[0;34m,\u001b[0m \u001b[0mrandom_seed\u001b[0m\u001b[0;34m=\u001b[0m\u001b[0;36m1\u001b[0m\u001b[0;34m)\u001b[0m\u001b[0;34m\u001b[0m\u001b[0;34m\u001b[0m\u001b[0m\n\u001b[0m",
      "\u001b[0;32m~/work/tskit-site/tskit-site/msprime/ancestry.py\u001b[0m in \u001b[0;36msim_ancestry\u001b[0;34m(samples, demography, sequence_length, discrete_genome, recombination_rate, gene_conversion_rate, gene_conversion_tract_length, population_size, ploidy, model, initial_state, start_time, end_time, record_migrations, record_full_arg, num_labels, random_seed, num_replicates, replicate_index, record_provenance)\u001b[0m\n\u001b[1;32m   1164\u001b[0m         \u001b[0mrandom_seed\u001b[0m\u001b[0;34m=\u001b[0m\u001b[0mrandom_seed\u001b[0m\u001b[0;34m,\u001b[0m\u001b[0;34m\u001b[0m\u001b[0;34m\u001b[0m\u001b[0m\n\u001b[1;32m   1165\u001b[0m     )\n\u001b[0;32m-> 1166\u001b[0;31m     return _wrap_replicates(\n\u001b[0m\u001b[1;32m   1167\u001b[0m         \u001b[0msim\u001b[0m\u001b[0;34m,\u001b[0m\u001b[0;34m\u001b[0m\u001b[0;34m\u001b[0m\u001b[0m\n\u001b[1;32m   1168\u001b[0m         \u001b[0mnum_replicates\u001b[0m\u001b[0;34m=\u001b[0m\u001b[0mnum_replicates\u001b[0m\u001b[0;34m,\u001b[0m\u001b[0;34m\u001b[0m\u001b[0;34m\u001b[0m\u001b[0m\n",
      "\u001b[0;32m~/work/tskit-site/tskit-site/msprime/ancestry.py\u001b[0m in \u001b[0;36m_wrap_replicates\u001b[0;34m(simulator, num_replicates, replicate_index, provenance_dict, mutation_rate)\u001b[0m\n\u001b[1;32m    671\u001b[0m     )\n\u001b[1;32m    672\u001b[0m     \u001b[0;32mif\u001b[0m \u001b[0mreplicate_index\u001b[0m \u001b[0;32mis\u001b[0m \u001b[0;32mnot\u001b[0m \u001b[0;32mNone\u001b[0m\u001b[0;34m:\u001b[0m\u001b[0;34m\u001b[0m\u001b[0;34m\u001b[0m\u001b[0m\n\u001b[0;32m--> 673\u001b[0;31m         \u001b[0mdeque\u001b[0m \u001b[0;34m=\u001b[0m \u001b[0mcollections\u001b[0m\u001b[0;34m.\u001b[0m\u001b[0mdeque\u001b[0m\u001b[0;34m(\u001b[0m\u001b[0miterator\u001b[0m\u001b[0;34m,\u001b[0m \u001b[0mmaxlen\u001b[0m\u001b[0;34m=\u001b[0m\u001b[0;36m1\u001b[0m\u001b[0;34m)\u001b[0m\u001b[0;34m\u001b[0m\u001b[0;34m\u001b[0m\u001b[0m\n\u001b[0m\u001b[1;32m    674\u001b[0m         \u001b[0;32mreturn\u001b[0m \u001b[0mdeque\u001b[0m\u001b[0;34m.\u001b[0m\u001b[0mpop\u001b[0m\u001b[0;34m(\u001b[0m\u001b[0;34m)\u001b[0m\u001b[0;34m\u001b[0m\u001b[0;34m\u001b[0m\u001b[0m\n\u001b[1;32m    675\u001b[0m     \u001b[0;32melse\u001b[0m\u001b[0;34m:\u001b[0m\u001b[0;34m\u001b[0m\u001b[0;34m\u001b[0m\u001b[0m\n",
      "\u001b[0;32m~/work/tskit-site/tskit-site/msprime/ancestry.py\u001b[0m in \u001b[0;36mrun_replicates\u001b[0;34m(self, num_replicates, mutation_rate, provenance_dict)\u001b[0m\n\u001b[1;32m   1435\u001b[0m         \u001b[0;32mfor\u001b[0m \u001b[0mreplicate_index\u001b[0m \u001b[0;32min\u001b[0m \u001b[0mrange\u001b[0m\u001b[0;34m(\u001b[0m\u001b[0mnum_replicates\u001b[0m\u001b[0;34m)\u001b[0m\u001b[0;34m:\u001b[0m\u001b[0;34m\u001b[0m\u001b[0;34m\u001b[0m\u001b[0m\n\u001b[1;32m   1436\u001b[0m             \u001b[0mlogger\u001b[0m\u001b[0;34m.\u001b[0m\u001b[0minfo\u001b[0m\u001b[0;34m(\u001b[0m\u001b[0;34m\"Starting replicate %d\"\u001b[0m\u001b[0;34m,\u001b[0m \u001b[0mreplicate_index\u001b[0m\u001b[0;34m)\u001b[0m\u001b[0;34m\u001b[0m\u001b[0;34m\u001b[0m\u001b[0m\n\u001b[0;32m-> 1437\u001b[0;31m             \u001b[0mself\u001b[0m\u001b[0;34m.\u001b[0m\u001b[0mrun\u001b[0m\u001b[0;34m(\u001b[0m\u001b[0;34m)\u001b[0m\u001b[0;34m\u001b[0m\u001b[0;34m\u001b[0m\u001b[0m\n\u001b[0m\u001b[1;32m   1438\u001b[0m             \u001b[0;32mif\u001b[0m \u001b[0mmutation_rate\u001b[0m \u001b[0;32mis\u001b[0m \u001b[0;32mnot\u001b[0m \u001b[0;32mNone\u001b[0m\u001b[0;34m:\u001b[0m\u001b[0;34m\u001b[0m\u001b[0;34m\u001b[0m\u001b[0m\n\u001b[1;32m   1439\u001b[0m                 \u001b[0;31m# This is only called from simulate() or the ms interface,\u001b[0m\u001b[0;34m\u001b[0m\u001b[0;34m\u001b[0m\u001b[0;34m\u001b[0m\u001b[0m\n",
      "\u001b[0;32m~/work/tskit-site/tskit-site/msprime/ancestry.py\u001b[0m in \u001b[0;36mrun\u001b[0;34m(self, event_chunk, debug_func)\u001b[0m\n\u001b[1;32m   1400\u001b[0m                 \u001b[0;32mraise\u001b[0m \u001b[0mValueError\u001b[0m\u001b[0;34m(\u001b[0m\u001b[0;34m\"Model durations must be >= 0\"\u001b[0m\u001b[0;34m)\u001b[0m\u001b[0;34m\u001b[0m\u001b[0;34m\u001b[0m\u001b[0m\n\u001b[1;32m   1401\u001b[0m             \u001b[0mend_time\u001b[0m \u001b[0;34m=\u001b[0m \u001b[0mmin\u001b[0m\u001b[0;34m(\u001b[0m\u001b[0mself\u001b[0m\u001b[0;34m.\u001b[0m\u001b[0mtime\u001b[0m \u001b[0;34m+\u001b[0m \u001b[0mmodel_duration\u001b[0m\u001b[0;34m,\u001b[0m \u001b[0mself\u001b[0m\u001b[0;34m.\u001b[0m\u001b[0mend_time\u001b[0m\u001b[0;34m)\u001b[0m\u001b[0;34m\u001b[0m\u001b[0;34m\u001b[0m\u001b[0m\n\u001b[0;32m-> 1402\u001b[0;31m             \u001b[0mexit_reason\u001b[0m \u001b[0;34m=\u001b[0m \u001b[0mself\u001b[0m\u001b[0;34m.\u001b[0m\u001b[0m_run_until\u001b[0m\u001b[0;34m(\u001b[0m\u001b[0mend_time\u001b[0m\u001b[0;34m,\u001b[0m \u001b[0mevent_chunk\u001b[0m\u001b[0;34m,\u001b[0m \u001b[0mdebug_func\u001b[0m\u001b[0;34m)\u001b[0m\u001b[0;34m\u001b[0m\u001b[0;34m\u001b[0m\u001b[0m\n\u001b[0m\u001b[1;32m   1403\u001b[0m             \u001b[0;32mif\u001b[0m \u001b[0mexit_reason\u001b[0m \u001b[0;34m==\u001b[0m \u001b[0mExitReason\u001b[0m\u001b[0;34m.\u001b[0m\u001b[0mCOALESCENCE\u001b[0m \u001b[0;32mor\u001b[0m \u001b[0mself\u001b[0m\u001b[0;34m.\u001b[0m\u001b[0mtime\u001b[0m \u001b[0;34m==\u001b[0m \u001b[0mself\u001b[0m\u001b[0;34m.\u001b[0m\u001b[0mend_time\u001b[0m\u001b[0;34m:\u001b[0m\u001b[0;34m\u001b[0m\u001b[0;34m\u001b[0m\u001b[0m\n\u001b[1;32m   1404\u001b[0m                 \u001b[0mlogger\u001b[0m\u001b[0;34m.\u001b[0m\u001b[0mdebug\u001b[0m\u001b[0;34m(\u001b[0m\u001b[0;34m\"Skipping remaining %d models\"\u001b[0m\u001b[0;34m,\u001b[0m \u001b[0mlen\u001b[0m\u001b[0;34m(\u001b[0m\u001b[0mself\u001b[0m\u001b[0;34m.\u001b[0m\u001b[0mmodels\u001b[0m\u001b[0;34m)\u001b[0m \u001b[0;34m-\u001b[0m \u001b[0mj\u001b[0m \u001b[0;34m-\u001b[0m \u001b[0;36m1\u001b[0m\u001b[0;34m)\u001b[0m\u001b[0;34m\u001b[0m\u001b[0;34m\u001b[0m\u001b[0m\n",
      "\u001b[0;32m~/work/tskit-site/tskit-site/msprime/ancestry.py\u001b[0m in \u001b[0;36m_run_until\u001b[0;34m(self, end_time, event_chunk, debug_func)\u001b[0m\n\u001b[1;32m   1365\u001b[0m         \u001b[0mret\u001b[0m \u001b[0;34m=\u001b[0m \u001b[0mExitReason\u001b[0m\u001b[0;34m.\u001b[0m\u001b[0mMAX_EVENTS\u001b[0m\u001b[0;34m\u001b[0m\u001b[0;34m\u001b[0m\u001b[0m\n\u001b[1;32m   1366\u001b[0m         \u001b[0;32mwhile\u001b[0m \u001b[0mret\u001b[0m \u001b[0;34m==\u001b[0m \u001b[0mExitReason\u001b[0m\u001b[0;34m.\u001b[0m\u001b[0mMAX_EVENTS\u001b[0m\u001b[0;34m:\u001b[0m\u001b[0;34m\u001b[0m\u001b[0;34m\u001b[0m\u001b[0m\n\u001b[0;32m-> 1367\u001b[0;31m             \u001b[0mret\u001b[0m \u001b[0;34m=\u001b[0m \u001b[0mExitReason\u001b[0m\u001b[0;34m(\u001b[0m\u001b[0msuper\u001b[0m\u001b[0;34m(\u001b[0m\u001b[0;34m)\u001b[0m\u001b[0;34m.\u001b[0m\u001b[0mrun\u001b[0m\u001b[0;34m(\u001b[0m\u001b[0mend_time\u001b[0m\u001b[0;34m,\u001b[0m \u001b[0mevent_chunk\u001b[0m\u001b[0;34m)\u001b[0m\u001b[0;34m)\u001b[0m\u001b[0;34m\u001b[0m\u001b[0;34m\u001b[0m\u001b[0m\n\u001b[0m\u001b[1;32m   1368\u001b[0m             \u001b[0;32mif\u001b[0m \u001b[0mself\u001b[0m\u001b[0;34m.\u001b[0m\u001b[0mtime\u001b[0m \u001b[0;34m>\u001b[0m \u001b[0mend_time\u001b[0m\u001b[0;34m:\u001b[0m\u001b[0;34m\u001b[0m\u001b[0;34m\u001b[0m\u001b[0m\n\u001b[1;32m   1369\u001b[0m                 \u001b[0;31m# Currently the Pedigree and Sweeps models are \"non-reentrant\"\u001b[0m\u001b[0;34m\u001b[0m\u001b[0;34m\u001b[0m\u001b[0;34m\u001b[0m\u001b[0m\n",
      "\u001b[0;31mLibraryError\u001b[0m: The simulation model supplied resulted in a parent node having a time value <= to its child. This can occur either as a result of multiple bottlenecks happening at the same time or because of numerical imprecision with very small population sizes."
     ]
    }
   ],
   "source": [
    "demography = msprime.Demography()\n",
    "demography.add_population(name=\"A\", initial_size=10)\n",
    "demography.add_census(time=21)\n",
    "ts = msprime.sim_ancestry({\"A\": 3}, demography=demography, model=\"dtwf\", random_seed=1)"
   ]
  },
  {
   "cell_type": "markdown",
   "id": "70502905",
   "metadata": {},
   "source": [
    "We got an error from msprime about a parent node having a time value <= to its child,\n",
    "which occured because we tried to add set of census nodes at time 21, but node 9 was\n",
    "already at time 21, giving a zero branch length (which is disallowed by tskit).\n",
    "\n",
    "The solution is to use non-integer time values when performing a census\n",
    "under the DTWF:"
   ]
  },
  {
   "cell_type": "code",
   "execution_count": 44,
   "id": "c76de059",
   "metadata": {},
   "outputs": [
    {
     "data": {
      "image/svg+xml": [
       "<svg xmlns=\"http://www.w3.org/2000/svg\" xmlns:ev=\"http://www.w3.org/2001/xml-events\" xmlns:xlink=\"http://www.w3.org/1999/xlink\" baseProfile=\"full\" height=\"200\" version=\"1.1\" width=\"200\"><defs><style type=\"text/css\"><![CDATA[.tree-sequence .background path {fill: #808080; fill-opacity:0}.tree-sequence .background path:nth-child(odd) {fill-opacity:.1}.axes {font-size: 14px}.x-axis .tick .lab {font-weight: bold}.axes, .tree {font-size: 14px; text-anchor:middle}.y-axis line.grid {stroke: #FAFAFA}.y-axis > .lab text {transform: translateX(0.8em) rotate(-90deg)}.x-axis .tick g {transform: translateY(0.9em)}.x-axis > .lab text {transform: translateY(-0.8em)}.axes line, .edge {stroke:black; fill:none}.node > .sym {fill: black; stroke: none}.site > .sym {stroke: black}.mut text {fill: red; font-style: italic}.mut line {fill: none; stroke: none}.mut .sym {fill: none; stroke: red}.node .mut .sym {stroke-width: 1.5px}.tree text, .tree-sequence text {dominant-baseline: central}.plotbox .lab.lft {text-anchor: end}.plotbox .lab.rgt {text-anchor: start}]]></style></defs><g class=\"tree-sequence\"><g class=\"background\"><path d=\"M56.8,0 l123.2,0 l0,138.2 l0,25 l0,5 l-123.2,0 l0,-5 l0,-25 l0,-138.2z\"/></g><g class=\"axes\"><g class=\"x-axis\"><g class=\"lab\" transform=\"translate(118.4,200)\"><text text-anchor=\"middle\">Genome position</text></g><line x1=\"56.8\" x2=\"180\" y1=\"163.2\" y2=\"163.2\"/><g class=\"tick\" transform=\"translate(56.8 163.2)\"><line x1=\"0\" x2=\"0\" y1=\"0\" y2=\"5\"/><g class=\"lab\" transform=\"translate(0,5)\"><text>0</text></g></g><g class=\"tick\" transform=\"translate(180 163.2)\"><line x1=\"0\" x2=\"0\" y1=\"0\" y2=\"5\"/><g class=\"lab\" transform=\"translate(0,5)\"><text>1</text></g></g></g><g class=\"y-axis\"><g class=\"lab\" transform=\"translate(0,65.7)\"><text text-anchor=\"middle\">Time</text></g><line x1=\"56.8\" x2=\"56.8\" y1=\"121.4\" y2=\"10\"/><g class=\"tick\" transform=\"translate(56.8 121.4)\"><line x1=\"0\" x2=\"-5\" y1=\"0\" y2=\"0\"/><g class=\"lab\" transform=\"translate(-5,0)\"><text text-anchor=\"end\">0.00</text></g></g><g class=\"tick\" transform=\"translate(56.8 118.772)\"><line x1=\"0\" x2=\"-5\" y1=\"0\" y2=\"0\"/><g class=\"lab\" transform=\"translate(-5,0)\"><text text-anchor=\"end\">1.00</text></g></g><g class=\"tick\" transform=\"translate(56.8 110.889)\"><line x1=\"0\" x2=\"-5\" y1=\"0\" y2=\"0\"/><g class=\"lab\" transform=\"translate(-5,0)\"><text text-anchor=\"end\">4.00</text></g></g><g class=\"tick\" transform=\"translate(56.8 108.261)\"><line x1=\"0\" x2=\"-5\" y1=\"0\" y2=\"0\"/><g class=\"lab\" transform=\"translate(-5,0)\"><text text-anchor=\"end\">5.00</text></g></g><g class=\"tick\" transform=\"translate(56.8 66.2167)\"><line x1=\"0\" x2=\"-5\" y1=\"0\" y2=\"0\"/><g class=\"lab\" transform=\"translate(-5,0)\"><text text-anchor=\"end\">21.00</text></g></g><g class=\"tick\" transform=\"translate(56.8 64.9028)\"><line x1=\"0\" x2=\"-5\" y1=\"0\" y2=\"0\"/><g class=\"lab\" transform=\"translate(-5,0)\"><text text-anchor=\"end\">21.50</text></g></g><g class=\"tick\" transform=\"translate(56.8 26.8)\"><line x1=\"0\" x2=\"-5\" y1=\"0\" y2=\"0\"/><g class=\"lab\" transform=\"translate(-5,0)\"><text text-anchor=\"end\">36.00</text></g></g></g></g><g class=\"plotbox trees\"><g class=\"tree t0\" transform=\"translate(56.8 0)\"><g class=\"plotbox\"><g class=\"node n12 p0 root\" transform=\"translate(78.5 26.8)\"><g class=\"a12 node n10 p0\" transform=\"translate(17.7667 38.1028)\"><g class=\"a10 i0 leaf node n1 p0 sample\" transform=\"translate(0.0 56.4972)\"><path class=\"edge\" d=\"M 0 0 V -56.4972 H 0.0\"/><rect class=\"sym\" height=\"6\" width=\"6\" x=\"-3\" y=\"-3\"/><text class=\"lab\" transform=\"translate(0 11)\">1</text></g><path class=\"edge\" d=\"M 0 0 V -38.1028 H -17.7667\"/><circle class=\"sym\" cx=\"0\" cy=\"0\" r=\"3\"/><text class=\"lab rgt\" transform=\"translate(3 -7.0)\">10</text></g><g class=\"a12 node n11 p0\" transform=\"translate(-17.7667 38.1028)\"><g class=\"a11 node n9 p0\" transform=\"translate(0.0 1.31389)\"><g class=\"a9 i2 leaf node n4 p0 sample\" transform=\"translate(21.6667 55.1833)\"><path class=\"edge\" d=\"M 0 0 V -55.1833 H -21.6667\"/><rect class=\"sym\" height=\"6\" width=\"6\" x=\"-3\" y=\"-3\"/><text class=\"lab\" transform=\"translate(0 11)\">4</text></g><g class=\"a9 node n8 p0\" transform=\"translate(-21.6667 42.0444)\"><g class=\"a8 i0 leaf node n0 p0 sample\" transform=\"translate(-12.1333 13.1389)\"><path class=\"edge\" d=\"M 0 0 V -13.1389 H 12.1333\"/><rect class=\"sym\" height=\"6\" width=\"6\" x=\"-3\" y=\"-3\"/><text class=\"lab\" transform=\"translate(0 11)\">0</text></g><g class=\"a8 node n7 p0\" transform=\"translate(12.1333 2.62778)\"><g class=\"a7 i1 leaf node n2 p0 sample\" transform=\"translate(-10.4 10.5111)\"><path class=\"edge\" d=\"M 0 0 V -10.5111 H 10.4\"/><rect class=\"sym\" height=\"6\" width=\"6\" x=\"-3\" y=\"-3\"/><text class=\"lab\" transform=\"translate(0 11)\">2</text></g><g class=\"a7 node n6 p0\" transform=\"translate(10.4 7.88333)\"><g class=\"a6 i1 leaf node n3 p0 sample\" transform=\"translate(-6.93333 2.62778)\"><path class=\"edge\" d=\"M 0 0 V -2.62778 H 6.93333\"/><rect class=\"sym\" height=\"6\" width=\"6\" x=\"-3\" y=\"-3\"/><text class=\"lab\" transform=\"translate(0 11)\">3</text></g><g class=\"a6 i2 leaf node n5 p0 sample\" transform=\"translate(6.93333 2.62778)\"><path class=\"edge\" d=\"M 0 0 V -2.62778 H -6.93333\"/><rect class=\"sym\" height=\"6\" width=\"6\" x=\"-3\" y=\"-3\"/><text class=\"lab\" transform=\"translate(0 11)\">5</text></g><path class=\"edge\" d=\"M 0 0 V -7.88333 H -10.4\"/><circle class=\"sym\" cx=\"0\" cy=\"0\" r=\"3\"/><text class=\"lab rgt\" transform=\"translate(3 -7.0)\">6</text></g><path class=\"edge\" d=\"M 0 0 V -2.62778 H -12.1333\"/><circle class=\"sym\" cx=\"0\" cy=\"0\" r=\"3\"/><text class=\"lab rgt\" transform=\"translate(3 -7.0)\">7</text></g><path class=\"edge\" d=\"M 0 0 V -42.0444 H 21.6667\"/><circle class=\"sym\" cx=\"0\" cy=\"0\" r=\"3\"/><text class=\"lab lft\" transform=\"translate(-3 -7.0)\">8</text></g><path class=\"edge\" d=\"M 0 0 V -1.31389 H 0.0\"/><circle class=\"sym\" cx=\"0\" cy=\"0\" r=\"3\"/><text class=\"lab lft\" transform=\"translate(-3 -7.0)\">9</text></g><path class=\"edge\" d=\"M 0 0 V -38.1028 H 17.7667\"/><circle class=\"sym\" cx=\"0\" cy=\"0\" r=\"3\"/><text class=\"lab lft\" transform=\"translate(-3 -7.0)\">11</text></g><circle class=\"sym\" cx=\"0\" cy=\"0\" r=\"3\"/><text class=\"lab\" transform=\"translate(0 -11)\">12</text></g></g></g></g></g></svg>"
      ],
      "text/plain": [
       "<IPython.core.display.SVG object>"
      ]
     },
     "execution_count": 44,
     "metadata": {
      "filenames": {
       "image/svg+xml": "/home/runner/work/tskit-site/tskit-site/docs/_build/jupyter_execute/ancestry_80_0.svg"
      }
     },
     "output_type": "execute_result"
    }
   ],
   "source": [
    "demography = msprime.Demography()\n",
    "demography.add_population(name=\"A\", initial_size=10)\n",
    "demography.add_census(time=21.5)\n",
    "ts = msprime.sim_ancestry({\"A\": 3}, demography=demography, model=\"dtwf\", random_seed=1)\n",
    "SVG(ts.draw_svg(y_axis=True))"
   ]
  },
  {
   "cell_type": "markdown",
   "id": "ad7b268a",
   "metadata": {},
   "source": [
    "## Manipulating simulation time\n",
    "\n",
    "(sec_ancestry_end_time)=\n",
    "\n",
    "### Stopping simulations early\n",
    "\n",
    "In most simulations we want to simulate a complete history for our samples:\n",
    "that is, to when we have a common ancestor at every point along the\n",
    "sequence. For example, here we generate a complete ancestral history\n",
    "for two diploid samples:"
   ]
  },
  {
   "cell_type": "code",
   "execution_count": 45,
   "id": "44d85249",
   "metadata": {},
   "outputs": [
    {
     "data": {
      "image/svg+xml": [
       "<svg xmlns=\"http://www.w3.org/2000/svg\" xmlns:ev=\"http://www.w3.org/2001/xml-events\" xmlns:xlink=\"http://www.w3.org/1999/xlink\" baseProfile=\"full\" height=\"200\" version=\"1.1\" width=\"800\"><defs><style type=\"text/css\"><![CDATA[.tree-sequence .background path {fill: #808080; fill-opacity:0}.tree-sequence .background path:nth-child(odd) {fill-opacity:.1}.axes {font-size: 14px}.x-axis .tick .lab {font-weight: bold}.axes, .tree {font-size: 14px; text-anchor:middle}.y-axis line.grid {stroke: #FAFAFA}.y-axis > .lab text {transform: translateX(0.8em) rotate(-90deg)}.x-axis .tick g {transform: translateY(0.9em)}.x-axis > .lab text {transform: translateY(-0.8em)}.axes line, .edge {stroke:black; fill:none}.node > .sym {fill: black; stroke: none}.site > .sym {stroke: black}.mut text {fill: red; font-style: italic}.mut line {fill: none; stroke: none}.mut .sym {fill: none; stroke: red}.node .mut .sym {stroke-width: 1.5px}.tree text, .tree-sequence text {dominant-baseline: central}.plotbox .lab.lft {text-anchor: end}.plotbox .lab.rgt {text-anchor: start}]]></style></defs><g class=\"tree-sequence\"><g class=\"background\"><path d=\"M56.8,0 l180.8,0 l0,138.2 l180.8,25 l0,5 l-361.6,0 l0,-5 l0,-25 l0,-138.2z\"/><path d=\"M237.6,0 l180.8,0 l0,138.2 l216.96,25 l0,5 l-216.96,0 l0,-5 l-180.8,-25 l0,-138.2z\"/><path d=\"M418.4,0 l180.8,0 l0,138.2 l108.48,25 l0,5 l-72.32,0 l0,-5 l-216.96,-25 l0,-138.2z\"/><path d=\"M599.2,0 l180.8,0 l0,138.2 l0,25 l0,5 l-72.32,0 l0,-5 l-108.48,-25 l0,-138.2z\"/></g><g class=\"axes\"><g class=\"x-axis\"><g class=\"lab\" transform=\"translate(418.4,200)\"><text text-anchor=\"middle\">Genome position</text></g><line x1=\"56.8\" x2=\"780\" y1=\"163.2\" y2=\"163.2\"/><g class=\"tick\" transform=\"translate(56.8 163.2)\"><line x1=\"0\" x2=\"0\" y1=\"0\" y2=\"5\"/><g class=\"lab\" transform=\"translate(0,5)\"><text>0</text></g></g><g class=\"tick\" transform=\"translate(418.4 163.2)\"><line x1=\"0\" x2=\"0\" y1=\"0\" y2=\"5\"/><g class=\"lab\" transform=\"translate(0,5)\"><text>5</text></g></g><g class=\"tick\" transform=\"translate(635.36 163.2)\"><line x1=\"0\" x2=\"0\" y1=\"0\" y2=\"5\"/><g class=\"lab\" transform=\"translate(0,5)\"><text>8</text></g></g><g class=\"tick\" transform=\"translate(707.68 163.2)\"><line x1=\"0\" x2=\"0\" y1=\"0\" y2=\"5\"/><g class=\"lab\" transform=\"translate(0,5)\"><text>9</text></g></g><g class=\"tick\" transform=\"translate(780 163.2)\"><line x1=\"0\" x2=\"0\" y1=\"0\" y2=\"5\"/><g class=\"lab\" transform=\"translate(0,5)\"><text>10</text></g></g></g><g class=\"y-axis\"><g class=\"lab\" transform=\"translate(0,65.7)\"><text text-anchor=\"middle\">Time</text></g><line x1=\"56.8\" x2=\"56.8\" y1=\"121.4\" y2=\"10\"/><g class=\"tick\" transform=\"translate(56.8 121.4)\"><line x1=\"0\" x2=\"-5\" y1=\"0\" y2=\"0\"/><g class=\"lab\" transform=\"translate(-5,0)\"><text text-anchor=\"end\">0.00</text></g></g><g class=\"tick\" transform=\"translate(56.8 114.488)\"><line x1=\"0\" x2=\"-5\" y1=\"0\" y2=\"0\"/><g class=\"lab\" transform=\"translate(-5,0)\"><text text-anchor=\"end\">0.31</text></g></g><g class=\"tick\" transform=\"translate(56.8 114.017)\"><line x1=\"0\" x2=\"-5\" y1=\"0\" y2=\"0\"/><g class=\"lab\" transform=\"translate(-5,0)\"><text text-anchor=\"end\">0.33</text></g></g><g class=\"tick\" transform=\"translate(56.8 110.994)\"><line x1=\"0\" x2=\"-5\" y1=\"0\" y2=\"0\"/><g class=\"lab\" transform=\"translate(-5,0)\"><text text-anchor=\"end\">0.47</text></g></g><g class=\"tick\" transform=\"translate(56.8 95.3192)\"><line x1=\"0\" x2=\"-5\" y1=\"0\" y2=\"0\"/><g class=\"lab\" transform=\"translate(-5,0)\"><text text-anchor=\"end\">1.17</text></g></g><g class=\"tick\" transform=\"translate(56.8 35.8533)\"><line x1=\"0\" x2=\"-5\" y1=\"0\" y2=\"0\"/><g class=\"lab\" transform=\"translate(-5,0)\"><text text-anchor=\"end\">3.83</text></g></g><g class=\"tick\" transform=\"translate(56.8 26.8)\"><line x1=\"0\" x2=\"-5\" y1=\"0\" y2=\"0\"/><g class=\"lab\" transform=\"translate(-5,0)\"><text text-anchor=\"end\">4.23</text></g></g></g></g><g class=\"plotbox trees\"><g class=\"tree t0\" transform=\"translate(56.8 0)\"><g class=\"plotbox\"><g class=\"node n9 p0 root\" transform=\"translate(68.4 26.8)\"><g class=\"a9 i0 leaf node n0 p0 sample\" transform=\"translate(-30.8 94.6)\"><path class=\"edge\" d=\"M 0 0 V -94.6 H 30.8\"/><rect class=\"sym\" height=\"6\" width=\"6\" x=\"-3\" y=\"-3\"/><text class=\"lab\" transform=\"translate(0 11)\">0</text></g><g class=\"a9 node n6 p0\" transform=\"translate(30.8 84.1936)\"><g class=\"a6 i0 leaf node n1 p0 sample\" transform=\"translate(-26.4 10.4064)\"><path class=\"edge\" d=\"M 0 0 V -10.4064 H 26.4\"/><rect class=\"sym\" height=\"6\" width=\"6\" x=\"-3\" y=\"-3\"/><text class=\"lab\" transform=\"translate(0 11)\">1</text></g><g class=\"a6 node n5 p0\" transform=\"translate(26.4 3.02377)\"><g class=\"a5 i1 leaf node n2 p0 sample\" transform=\"translate(-17.6 7.38266)\"><path class=\"edge\" d=\"M 0 0 V -7.38266 H 17.6\"/><rect class=\"sym\" height=\"6\" width=\"6\" x=\"-3\" y=\"-3\"/><text class=\"lab\" transform=\"translate(0 11)\">2</text></g><g class=\"a5 i1 leaf node n3 p0 sample\" transform=\"translate(17.6 7.38266)\"><path class=\"edge\" d=\"M 0 0 V -7.38266 H -17.6\"/><rect class=\"sym\" height=\"6\" width=\"6\" x=\"-3\" y=\"-3\"/><text class=\"lab\" transform=\"translate(0 11)\">3</text></g><path class=\"edge\" d=\"M 0 0 V -3.02377 H -26.4\"/><circle class=\"sym\" cx=\"0\" cy=\"0\" r=\"3\"/><text class=\"lab rgt\" transform=\"translate(3 -7.0)\">5</text></g><path class=\"edge\" d=\"M 0 0 V -84.1936 H -30.8\"/><circle class=\"sym\" cx=\"0\" cy=\"0\" r=\"3\"/><text class=\"lab rgt\" transform=\"translate(3 -7.0)\">6</text></g><circle class=\"sym\" cx=\"0\" cy=\"0\" r=\"3\"/><text class=\"lab\" transform=\"translate(0 -11)\">9</text></g></g></g><g class=\"tree t1\" transform=\"translate(237.6 0)\"><g class=\"plotbox\"><g class=\"node n8 p0 root\" transform=\"translate(68.4 35.8533)\"><g class=\"a8 i0 leaf node n0 p0 sample\" transform=\"translate(-30.8 85.5467)\"><path class=\"edge\" d=\"M 0 0 V -85.5467 H 30.8\"/><rect class=\"sym\" height=\"6\" width=\"6\" x=\"-3\" y=\"-3\"/><text class=\"lab\" transform=\"translate(0 11)\">0</text></g><g class=\"a8 node n6 p0\" transform=\"translate(30.8 75.1402)\"><g class=\"a6 i0 leaf node n1 p0 sample\" transform=\"translate(-26.4 10.4064)\"><path class=\"edge\" d=\"M 0 0 V -10.4064 H 26.4\"/><rect class=\"sym\" height=\"6\" width=\"6\" x=\"-3\" y=\"-3\"/><text class=\"lab\" transform=\"translate(0 11)\">1</text></g><g class=\"a6 node n5 p0\" transform=\"translate(26.4 3.02377)\"><g class=\"a5 i1 leaf node n2 p0 sample\" transform=\"translate(-17.6 7.38266)\"><path class=\"edge\" d=\"M 0 0 V -7.38266 H 17.6\"/><rect class=\"sym\" height=\"6\" width=\"6\" x=\"-3\" y=\"-3\"/><text class=\"lab\" transform=\"translate(0 11)\">2</text></g><g class=\"a5 i1 leaf node n3 p0 sample\" transform=\"translate(17.6 7.38266)\"><path class=\"edge\" d=\"M 0 0 V -7.38266 H -17.6\"/><rect class=\"sym\" height=\"6\" width=\"6\" x=\"-3\" y=\"-3\"/><text class=\"lab\" transform=\"translate(0 11)\">3</text></g><path class=\"edge\" d=\"M 0 0 V -3.02377 H -26.4\"/><circle class=\"sym\" cx=\"0\" cy=\"0\" r=\"3\"/><text class=\"lab rgt\" transform=\"translate(3 -7.0)\">5</text></g><path class=\"edge\" d=\"M 0 0 V -75.1402 H -30.8\"/><circle class=\"sym\" cx=\"0\" cy=\"0\" r=\"3\"/><text class=\"lab rgt\" transform=\"translate(3 -7.0)\">6</text></g><circle class=\"sym\" cx=\"0\" cy=\"0\" r=\"3\"/><text class=\"lab\" transform=\"translate(0 -11)\">8</text></g></g></g><g class=\"tree t2\" transform=\"translate(418.4 0)\"><g class=\"plotbox\"><g class=\"node n7 p0 root\" transform=\"translate(68.4 95.3192)\"><g class=\"a7 i0 leaf node n0 p0 sample\" transform=\"translate(-30.8 26.0808)\"><path class=\"edge\" d=\"M 0 0 V -26.0808 H 30.8\"/><rect class=\"sym\" height=\"6\" width=\"6\" x=\"-3\" y=\"-3\"/><text class=\"lab\" transform=\"translate(0 11)\">0</text></g><g class=\"a7 node n6 p0\" transform=\"translate(30.8 15.6743)\"><g class=\"a6 i0 leaf node n1 p0 sample\" transform=\"translate(-26.4 10.4064)\"><path class=\"edge\" d=\"M 0 0 V -10.4064 H 26.4\"/><rect class=\"sym\" height=\"6\" width=\"6\" x=\"-3\" y=\"-3\"/><text class=\"lab\" transform=\"translate(0 11)\">1</text></g><g class=\"a6 node n5 p0\" transform=\"translate(26.4 3.02377)\"><g class=\"a5 i1 leaf node n2 p0 sample\" transform=\"translate(-17.6 7.38266)\"><path class=\"edge\" d=\"M 0 0 V -7.38266 H 17.6\"/><rect class=\"sym\" height=\"6\" width=\"6\" x=\"-3\" y=\"-3\"/><text class=\"lab\" transform=\"translate(0 11)\">2</text></g><g class=\"a5 i1 leaf node n3 p0 sample\" transform=\"translate(17.6 7.38266)\"><path class=\"edge\" d=\"M 0 0 V -7.38266 H -17.6\"/><rect class=\"sym\" height=\"6\" width=\"6\" x=\"-3\" y=\"-3\"/><text class=\"lab\" transform=\"translate(0 11)\">3</text></g><path class=\"edge\" d=\"M 0 0 V -3.02377 H -26.4\"/><circle class=\"sym\" cx=\"0\" cy=\"0\" r=\"3\"/><text class=\"lab rgt\" transform=\"translate(3 -7.0)\">5</text></g><path class=\"edge\" d=\"M 0 0 V -15.6743 H -30.8\"/><circle class=\"sym\" cx=\"0\" cy=\"0\" r=\"3\"/><text class=\"lab rgt\" transform=\"translate(3 -7.0)\">6</text></g><circle class=\"sym\" cx=\"0\" cy=\"0\" r=\"3\"/><text class=\"lab\" transform=\"translate(0 -11)\">7</text></g></g></g><g class=\"tree t3\" transform=\"translate(599.2 0)\"><g class=\"plotbox\"><g class=\"node n7 p0 root\" transform=\"translate(77.2 95.3192)\"><g class=\"a7 i0 leaf node n0 p0 sample\" transform=\"translate(-39.6 26.0808)\"><path class=\"edge\" d=\"M 0 0 V -26.0808 H 39.6\"/><rect class=\"sym\" height=\"6\" width=\"6\" x=\"-3\" y=\"-3\"/><text class=\"lab\" transform=\"translate(0 11)\">0</text></g><g class=\"a7 node n5 p0\" transform=\"translate(39.6 18.6981)\"><g class=\"a5 i1 leaf node n3 p0 sample\" transform=\"translate(26.4 7.38266)\"><path class=\"edge\" d=\"M 0 0 V -7.38266 H -26.4\"/><rect class=\"sym\" height=\"6\" width=\"6\" x=\"-3\" y=\"-3\"/><text class=\"lab\" transform=\"translate(0 11)\">3</text></g><g class=\"a5 node n4 p0\" transform=\"translate(-26.4 0.47066)\"><g class=\"a4 i0 leaf node n1 p0 sample\" transform=\"translate(-17.6 6.912)\"><path class=\"edge\" d=\"M 0 0 V -6.912 H 17.6\"/><rect class=\"sym\" height=\"6\" width=\"6\" x=\"-3\" y=\"-3\"/><text class=\"lab\" transform=\"translate(0 11)\">1</text></g><g class=\"a4 i1 leaf node n2 p0 sample\" transform=\"translate(17.6 6.912)\"><path class=\"edge\" d=\"M 0 0 V -6.912 H -17.6\"/><rect class=\"sym\" height=\"6\" width=\"6\" x=\"-3\" y=\"-3\"/><text class=\"lab\" transform=\"translate(0 11)\">2</text></g><path class=\"edge\" d=\"M 0 0 V -0.47066 H 26.4\"/><circle class=\"sym\" cx=\"0\" cy=\"0\" r=\"3\"/><text class=\"lab lft\" transform=\"translate(-3 -7.0)\">4</text></g><path class=\"edge\" d=\"M 0 0 V -18.6981 H -39.6\"/><circle class=\"sym\" cx=\"0\" cy=\"0\" r=\"3\"/><text class=\"lab rgt\" transform=\"translate(3 -7.0)\">5</text></g><circle class=\"sym\" cx=\"0\" cy=\"0\" r=\"3\"/><text class=\"lab\" transform=\"translate(0 -11)\">7</text></g></g></g></g></g></svg>"
      ],
      "text/plain": [
       "<IPython.core.display.SVG object>"
      ]
     },
     "execution_count": 45,
     "metadata": {
      "filenames": {
       "image/svg+xml": "/home/runner/work/tskit-site/tskit-site/docs/_build/jupyter_execute/ancestry_82_0.svg"
      }
     },
     "output_type": "execute_result"
    }
   ],
   "source": [
    "ts = msprime.sim_ancestry(2, sequence_length=10, recombination_rate=0.1, random_seed=42)\n",
    "SVG(ts.draw_svg(y_axis=True))"
   ]
  },
  {
   "cell_type": "markdown",
   "id": "ab235346",
   "metadata": {},
   "source": [
    "Sometimes we would like to stop the simulation early, **before** complete\n",
    "coalescence has occured; perhaps we would like to\n",
    "{ref}`combine several simulations<sec_ancestry_initial_state_combining>`\n",
    "with different properties, or we are really only interested in the\n",
    "recent past and simulating more ancient processes would be a waste\n",
    "of computational resources.\n",
    "\n",
    "We can do this by specifying a ``end_time`` value.\n",
    "Let's repeat the same simulation as above with an ``end_time`` of 2:"
   ]
  },
  {
   "cell_type": "code",
   "execution_count": 46,
   "id": "be3d4816",
   "metadata": {},
   "outputs": [
    {
     "data": {
      "image/svg+xml": [
       "<svg xmlns=\"http://www.w3.org/2000/svg\" xmlns:ev=\"http://www.w3.org/2001/xml-events\" xmlns:xlink=\"http://www.w3.org/1999/xlink\" baseProfile=\"full\" height=\"200\" version=\"1.1\" width=\"600\"><defs><style type=\"text/css\"><![CDATA[.tree-sequence .background path {fill: #808080; fill-opacity:0}.tree-sequence .background path:nth-child(odd) {fill-opacity:.1}.axes {font-size: 14px}.x-axis .tick .lab {font-weight: bold}.axes, .tree {font-size: 14px; text-anchor:middle}.y-axis line.grid {stroke: #FAFAFA}.y-axis > .lab text {transform: translateX(0.8em) rotate(-90deg)}.x-axis .tick g {transform: translateY(0.9em)}.x-axis > .lab text {transform: translateY(-0.8em)}.axes line, .edge {stroke:black; fill:none}.node > .sym {fill: black; stroke: none}.site > .sym {stroke: black}.mut text {fill: red; font-style: italic}.mut line {fill: none; stroke: none}.mut .sym {fill: none; stroke: red}.node .mut .sym {stroke-width: 1.5px}.tree text, .tree-sequence text {dominant-baseline: central}.plotbox .lab.lft {text-anchor: end}.plotbox .lab.rgt {text-anchor: start}]]></style></defs><g class=\"tree-sequence\"><g class=\"background\"><path d=\"M56.8,0 l174.4,0 l0,138.2 l244.16,25 l0,5 l-418.56,0 l0,-5 l0,-25 l0,-138.2z\"/><path d=\"M231.2,0 l174.4,0 l0,138.2 l122.08,25 l0,5 l-52.32,0 l0,-5 l-244.16,-25 l0,-138.2z\"/><path d=\"M405.6,0 l174.4,0 l0,138.2 l0,25 l0,5 l-52.32,0 l0,-5 l-122.08,-25 l0,-138.2z\"/></g><g class=\"axes\"><g class=\"x-axis\"><g class=\"lab\" transform=\"translate(318.4,200)\"><text text-anchor=\"middle\">Genome position</text></g><line x1=\"56.8\" x2=\"580\" y1=\"163.2\" y2=\"163.2\"/><g class=\"tick\" transform=\"translate(56.8 163.2)\"><line x1=\"0\" x2=\"0\" y1=\"0\" y2=\"5\"/><g class=\"lab\" transform=\"translate(0,5)\"><text>0</text></g></g><g class=\"tick\" transform=\"translate(475.36 163.2)\"><line x1=\"0\" x2=\"0\" y1=\"0\" y2=\"5\"/><g class=\"lab\" transform=\"translate(0,5)\"><text>8</text></g></g><g class=\"tick\" transform=\"translate(527.68 163.2)\"><line x1=\"0\" x2=\"0\" y1=\"0\" y2=\"5\"/><g class=\"lab\" transform=\"translate(0,5)\"><text>9</text></g></g><g class=\"tick\" transform=\"translate(580 163.2)\"><line x1=\"0\" x2=\"0\" y1=\"0\" y2=\"5\"/><g class=\"lab\" transform=\"translate(0,5)\"><text>10</text></g></g></g><g class=\"y-axis\"><g class=\"lab\" transform=\"translate(0,65.7)\"><text text-anchor=\"middle\">Time</text></g><line x1=\"56.8\" x2=\"56.8\" y1=\"121.4\" y2=\"10\"/><g class=\"tick\" transform=\"translate(56.8 121.4)\"><line x1=\"0\" x2=\"-5\" y1=\"0\" y2=\"0\"/><g class=\"lab\" transform=\"translate(-5,0)\"><text text-anchor=\"end\">0.00</text></g></g><g class=\"tick\" transform=\"translate(56.8 106.766)\"><line x1=\"0\" x2=\"-5\" y1=\"0\" y2=\"0\"/><g class=\"lab\" transform=\"translate(-5,0)\"><text text-anchor=\"end\">0.31</text></g></g><g class=\"tick\" transform=\"translate(56.8 105.77)\"><line x1=\"0\" x2=\"-5\" y1=\"0\" y2=\"0\"/><g class=\"lab\" transform=\"translate(-5,0)\"><text text-anchor=\"end\">0.33</text></g></g><g class=\"tick\" transform=\"translate(56.8 99.3683)\"><line x1=\"0\" x2=\"-5\" y1=\"0\" y2=\"0\"/><g class=\"lab\" transform=\"translate(-5,0)\"><text text-anchor=\"end\">0.47</text></g></g><g class=\"tick\" transform=\"translate(56.8 66.1837)\"><line x1=\"0\" x2=\"-5\" y1=\"0\" y2=\"0\"/><g class=\"lab\" transform=\"translate(-5,0)\"><text text-anchor=\"end\">1.17</text></g></g><g class=\"tick\" transform=\"translate(56.8 26.8)\"><line x1=\"0\" x2=\"-5\" y1=\"0\" y2=\"0\"/><g class=\"lab\" transform=\"translate(-5,0)\"><text text-anchor=\"end\">2.00</text></g></g></g></g><g class=\"plotbox trees\"><g class=\"tree t0\" transform=\"translate(56.8 0)\"><g class=\"plotbox\"><g class=\"node n9 p0 root\" transform=\"translate(36.8 26.8)\"><g class=\"a9 i0 leaf node n0 p0 sample\" transform=\"translate(0.0 94.6)\"><path class=\"edge\" d=\"M 0 0 V -94.6 H 0.0\"/><rect class=\"sym\" height=\"6\" width=\"6\" x=\"-3\" y=\"-3\"/><text class=\"lab\" transform=\"translate(0 11)\">0</text></g><circle class=\"sym\" cx=\"0\" cy=\"0\" r=\"3\"/><text class=\"lab\" transform=\"translate(0 -11)\">9</text></g><g class=\"node n8 p0 root\" transform=\"translate(95.6 26.8)\"><g class=\"a8 node n6 p0\" transform=\"translate(0.0 72.5683)\"><g class=\"a6 i0 leaf node n1 p0 sample\" transform=\"translate(-25.2 22.0317)\"><path class=\"edge\" d=\"M 0 0 V -22.0317 H 25.2\"/><rect class=\"sym\" height=\"6\" width=\"6\" x=\"-3\" y=\"-3\"/><text class=\"lab\" transform=\"translate(0 11)\">1</text></g><g class=\"a6 node n5 p0\" transform=\"translate(25.2 6.40171)\"><g class=\"a5 i1 leaf node n2 p0 sample\" transform=\"translate(-16.8 15.63)\"><path class=\"edge\" d=\"M 0 0 V -15.63 H 16.8\"/><rect class=\"sym\" height=\"6\" width=\"6\" x=\"-3\" y=\"-3\"/><text class=\"lab\" transform=\"translate(0 11)\">2</text></g><g class=\"a5 i1 leaf node n3 p0 sample\" transform=\"translate(16.8 15.63)\"><path class=\"edge\" d=\"M 0 0 V -15.63 H -16.8\"/><rect class=\"sym\" height=\"6\" width=\"6\" x=\"-3\" y=\"-3\"/><text class=\"lab\" transform=\"translate(0 11)\">3</text></g><path class=\"edge\" d=\"M 0 0 V -6.40171 H -25.2\"/><circle class=\"sym\" cx=\"0\" cy=\"0\" r=\"3\"/><text class=\"lab rgt\" transform=\"translate(3 -7.0)\">5</text></g><path class=\"edge\" d=\"M 0 0 V -72.5683 H 0.0\"/><circle class=\"sym\" cx=\"0\" cy=\"0\" r=\"3\"/><text class=\"lab lft\" transform=\"translate(-3 -7.0)\">6</text></g><circle class=\"sym\" cx=\"0\" cy=\"0\" r=\"3\"/><text class=\"lab\" transform=\"translate(0 -11)\">8</text></g></g></g><g class=\"tree t1\" transform=\"translate(231.2 0)\"><g class=\"plotbox\"><g class=\"node n7 p0 root\" transform=\"translate(66.2 66.1837)\"><g class=\"a7 i0 leaf node n0 p0 sample\" transform=\"translate(-29.4 55.2163)\"><path class=\"edge\" d=\"M 0 0 V -55.2163 H 29.4\"/><rect class=\"sym\" height=\"6\" width=\"6\" x=\"-3\" y=\"-3\"/><text class=\"lab\" transform=\"translate(0 11)\">0</text></g><g class=\"a7 node n6 p0\" transform=\"translate(29.4 33.1845)\"><g class=\"a6 i0 leaf node n1 p0 sample\" transform=\"translate(-25.2 22.0317)\"><path class=\"edge\" d=\"M 0 0 V -22.0317 H 25.2\"/><rect class=\"sym\" height=\"6\" width=\"6\" x=\"-3\" y=\"-3\"/><text class=\"lab\" transform=\"translate(0 11)\">1</text></g><g class=\"a6 node n5 p0\" transform=\"translate(25.2 6.40171)\"><g class=\"a5 i1 leaf node n2 p0 sample\" transform=\"translate(-16.8 15.63)\"><path class=\"edge\" d=\"M 0 0 V -15.63 H 16.8\"/><rect class=\"sym\" height=\"6\" width=\"6\" x=\"-3\" y=\"-3\"/><text class=\"lab\" transform=\"translate(0 11)\">2</text></g><g class=\"a5 i1 leaf node n3 p0 sample\" transform=\"translate(16.8 15.63)\"><path class=\"edge\" d=\"M 0 0 V -15.63 H -16.8\"/><rect class=\"sym\" height=\"6\" width=\"6\" x=\"-3\" y=\"-3\"/><text class=\"lab\" transform=\"translate(0 11)\">3</text></g><path class=\"edge\" d=\"M 0 0 V -6.40171 H -25.2\"/><circle class=\"sym\" cx=\"0\" cy=\"0\" r=\"3\"/><text class=\"lab rgt\" transform=\"translate(3 -7.0)\">5</text></g><path class=\"edge\" d=\"M 0 0 V -33.1845 H -29.4\"/><circle class=\"sym\" cx=\"0\" cy=\"0\" r=\"3\"/><text class=\"lab rgt\" transform=\"translate(3 -7.0)\">6</text></g><circle class=\"sym\" cx=\"0\" cy=\"0\" r=\"3\"/><text class=\"lab\" transform=\"translate(0 -11)\">7</text></g></g></g><g class=\"tree t2\" transform=\"translate(405.6 0)\"><g class=\"plotbox\"><g class=\"node n7 p0 root\" transform=\"translate(74.6 66.1837)\"><g class=\"a7 i0 leaf node n0 p0 sample\" transform=\"translate(-37.8 55.2163)\"><path class=\"edge\" d=\"M 0 0 V -55.2163 H 37.8\"/><rect class=\"sym\" height=\"6\" width=\"6\" x=\"-3\" y=\"-3\"/><text class=\"lab\" transform=\"translate(0 11)\">0</text></g><g class=\"a7 node n5 p0\" transform=\"translate(37.8 39.5863)\"><g class=\"a5 i1 leaf node n3 p0 sample\" transform=\"translate(25.2 15.63)\"><path class=\"edge\" d=\"M 0 0 V -15.63 H -25.2\"/><rect class=\"sym\" height=\"6\" width=\"6\" x=\"-3\" y=\"-3\"/><text class=\"lab\" transform=\"translate(0 11)\">3</text></g><g class=\"a5 node n4 p0\" transform=\"translate(-25.2 0.996447)\"><g class=\"a4 i0 leaf node n1 p0 sample\" transform=\"translate(-16.8 14.6336)\"><path class=\"edge\" d=\"M 0 0 V -14.6336 H 16.8\"/><rect class=\"sym\" height=\"6\" width=\"6\" x=\"-3\" y=\"-3\"/><text class=\"lab\" transform=\"translate(0 11)\">1</text></g><g class=\"a4 i1 leaf node n2 p0 sample\" transform=\"translate(16.8 14.6336)\"><path class=\"edge\" d=\"M 0 0 V -14.6336 H -16.8\"/><rect class=\"sym\" height=\"6\" width=\"6\" x=\"-3\" y=\"-3\"/><text class=\"lab\" transform=\"translate(0 11)\">2</text></g><path class=\"edge\" d=\"M 0 0 V -0.996447 H 25.2\"/><circle class=\"sym\" cx=\"0\" cy=\"0\" r=\"3\"/><text class=\"lab lft\" transform=\"translate(-3 -7.0)\">4</text></g><path class=\"edge\" d=\"M 0 0 V -39.5863 H -37.8\"/><circle class=\"sym\" cx=\"0\" cy=\"0\" r=\"3\"/><text class=\"lab rgt\" transform=\"translate(3 -7.0)\">5</text></g><circle class=\"sym\" cx=\"0\" cy=\"0\" r=\"3\"/><text class=\"lab\" transform=\"translate(0 -11)\">7</text></g></g></g></g></g></svg>"
      ],
      "text/plain": [
       "<IPython.core.display.SVG object>"
      ]
     },
     "execution_count": 46,
     "metadata": {
      "filenames": {
       "image/svg+xml": "/home/runner/work/tskit-site/tskit-site/docs/_build/jupyter_execute/ancestry_84_0.svg"
      }
     },
     "output_type": "execute_result"
    }
   ],
   "source": [
    "ts = msprime.sim_ancestry(\n",
    "    2, sequence_length=10, recombination_rate=0.1, end_time=2, random_seed=42)\n",
    "SVG(ts.draw_svg(y_axis=True))"
   ]
  },
  {
   "cell_type": "markdown",
   "id": "086b069b",
   "metadata": {},
   "source": [
    "There are a number of important things to observe about this\n",
    "tree sequence:\n",
    "\n",
    "1. The history up until time 2 is **identical** to the original simulation.\n",
    "2. The first tree has not fully coalesced, and we therefore have **multiple\n",
    "roots**. Trees with multiple roots are fully supported in tskit.\n",
    "3. The nodes 8 and 9 are at time 2 (our ``end_time`` value), and these\n",
    "connect to the uncoalesced portions of the tree. These \"unary\" nodes\n",
    "are very important for ensuring the correct statistical properties\n",
    "when we\n",
    "{ref}`combine multiple simulations<sec_ancestry_initial_state_combining>`.\n",
    "\n",
    ":::{seealso}\n",
    "The ancestry model {ref}`duration<sec_ancestry_models_specifying_duration>`\n",
    "can also be used to stop simulations before coalescence.\n",
    ":::\n",
    "\n",
    "For discrete time models, the exact interpretation\n",
    "of the ``end_time`` is important --- we continue to simulate\n",
    "the process while the time is <= ``end_time``. For example here\n",
    "we use an ``end_time`` of 1 generation in a {ref}`sec_ancestry_models_dtwf`\n",
    "simulation:"
   ]
  },
  {
   "cell_type": "code",
   "execution_count": 47,
   "id": "057e1db3",
   "metadata": {},
   "outputs": [
    {
     "data": {
      "image/svg+xml": [
       "<svg xmlns=\"http://www.w3.org/2000/svg\" xmlns:ev=\"http://www.w3.org/2001/xml-events\" xmlns:xlink=\"http://www.w3.org/1999/xlink\" baseProfile=\"full\" height=\"200\" version=\"1.1\" width=\"200\"><defs><style type=\"text/css\"><![CDATA[.tree-sequence .background path {fill: #808080; fill-opacity:0}.tree-sequence .background path:nth-child(odd) {fill-opacity:.1}.axes {font-size: 14px}.x-axis .tick .lab {font-weight: bold}.axes, .tree {font-size: 14px; text-anchor:middle}.y-axis line.grid {stroke: #FAFAFA}.y-axis > .lab text {transform: translateX(0.8em) rotate(-90deg)}.x-axis .tick g {transform: translateY(0.9em)}.x-axis > .lab text {transform: translateY(-0.8em)}.axes line, .edge {stroke:black; fill:none}.node > .sym {fill: black; stroke: none}.site > .sym {stroke: black}.mut text {fill: red; font-style: italic}.mut line {fill: none; stroke: none}.mut .sym {fill: none; stroke: red}.node .mut .sym {stroke-width: 1.5px}.tree text, .tree-sequence text {dominant-baseline: central}.plotbox .lab.lft {text-anchor: end}.plotbox .lab.rgt {text-anchor: start}]]></style></defs><g class=\"tree-sequence\"><g class=\"background\"><path d=\"M56.8,0 l123.2,0 l0,138.2 l0,25 l0,5 l-123.2,0 l0,-5 l0,-25 l0,-138.2z\"/></g><g class=\"axes\"><g class=\"x-axis\"><g class=\"lab\" transform=\"translate(118.4,200)\"><text text-anchor=\"middle\">Genome position</text></g><line x1=\"56.8\" x2=\"180\" y1=\"163.2\" y2=\"163.2\"/><g class=\"tick\" transform=\"translate(56.8 163.2)\"><line x1=\"0\" x2=\"0\" y1=\"0\" y2=\"5\"/><g class=\"lab\" transform=\"translate(0,5)\"><text>0</text></g></g><g class=\"tick\" transform=\"translate(180 163.2)\"><line x1=\"0\" x2=\"0\" y1=\"0\" y2=\"5\"/><g class=\"lab\" transform=\"translate(0,5)\"><text>1</text></g></g></g><g class=\"y-axis\"><g class=\"lab\" transform=\"translate(0,65.7)\"><text text-anchor=\"middle\">Time</text></g><line x1=\"56.8\" x2=\"56.8\" y1=\"121.4\" y2=\"10\"/><g class=\"tick\" transform=\"translate(56.8 121.4)\"><line x1=\"0\" x2=\"-5\" y1=\"0\" y2=\"0\"/><g class=\"lab\" transform=\"translate(-5,0)\"><text text-anchor=\"end\">0.00</text></g></g><g class=\"tick\" transform=\"translate(56.8 26.8)\"><line x1=\"0\" x2=\"-5\" y1=\"0\" y2=\"0\"/><g class=\"lab\" transform=\"translate(-5,0)\"><text text-anchor=\"end\">1.00</text></g></g></g></g><g class=\"plotbox trees\"><g class=\"tree t0\" transform=\"translate(56.8 0)\"><g class=\"plotbox\"><g class=\"node n9 p0 root\" transform=\"translate(26.9333 26.8)\"><g class=\"a9 i0 leaf node n0 p0 sample\" transform=\"translate(0.0 94.6)\"><path class=\"edge\" d=\"M 0 0 V -94.6 H 0.0\"/><rect class=\"sym\" height=\"6\" width=\"6\" x=\"-3\" y=\"-3\"/><text class=\"lab\" transform=\"translate(0 11)\">0</text></g><circle class=\"sym\" cx=\"0\" cy=\"0\" r=\"3\"/><text class=\"lab\" transform=\"translate(0 -11)\">9</text></g><g class=\"node n6 p0 root\" transform=\"translate(54.6667 26.8)\"><g class=\"a6 i0 leaf node n1 p0 sample\" transform=\"translate(-13.8667 94.6)\"><path class=\"edge\" d=\"M 0 0 V -94.6 H 13.8667\"/><rect class=\"sym\" height=\"6\" width=\"6\" x=\"-3\" y=\"-3\"/><text class=\"lab\" transform=\"translate(0 11)\">1</text></g><g class=\"a6 i1 leaf node n2 p0 sample\" transform=\"translate(0.0 94.6)\"><path class=\"edge\" d=\"M 0 0 V -94.6 H 0.0\"/><rect class=\"sym\" height=\"6\" width=\"6\" x=\"-3\" y=\"-3\"/><text class=\"lab\" transform=\"translate(0 11)\">2</text></g><g class=\"a6 i2 leaf node n5 p0 sample\" transform=\"translate(13.8667 94.6)\"><path class=\"edge\" d=\"M 0 0 V -94.6 H -13.8667\"/><rect class=\"sym\" height=\"6\" width=\"6\" x=\"-3\" y=\"-3\"/><text class=\"lab\" transform=\"translate(0 11)\">5</text></g><circle class=\"sym\" cx=\"0\" cy=\"0\" r=\"3\"/><text class=\"lab\" transform=\"translate(0 -11)\">6</text></g><g class=\"node n8 p0 root\" transform=\"translate(82.4 26.8)\"><g class=\"a8 i1 leaf node n3 p0 sample\" transform=\"translate(0.0 94.6)\"><path class=\"edge\" d=\"M 0 0 V -94.6 H 0.0\"/><rect class=\"sym\" height=\"6\" width=\"6\" x=\"-3\" y=\"-3\"/><text class=\"lab\" transform=\"translate(0 11)\">3</text></g><circle class=\"sym\" cx=\"0\" cy=\"0\" r=\"3\"/><text class=\"lab\" transform=\"translate(0 -11)\">8</text></g><g class=\"node n7 p0 root\" transform=\"translate(96.2667 26.8)\"><g class=\"a7 i2 leaf node n4 p0 sample\" transform=\"translate(0.0 94.6)\"><path class=\"edge\" d=\"M 0 0 V -94.6 H 0.0\"/><rect class=\"sym\" height=\"6\" width=\"6\" x=\"-3\" y=\"-3\"/><text class=\"lab\" transform=\"translate(0 11)\">4</text></g><circle class=\"sym\" cx=\"0\" cy=\"0\" r=\"3\"/><text class=\"lab\" transform=\"translate(0 -11)\">7</text></g></g></g></g></g></svg>"
      ],
      "text/plain": [
       "<IPython.core.display.SVG object>"
      ]
     },
     "execution_count": 47,
     "metadata": {
      "filenames": {
       "image/svg+xml": "/home/runner/work/tskit-site/tskit-site/docs/_build/jupyter_execute/ancestry_86_0.svg"
      }
     },
     "output_type": "execute_result"
    }
   ],
   "source": [
    "ts = msprime.sim_ancestry(3, population_size=10, model=\"dtwf\", end_time=1, random_seed=42)\n",
    "SVG(ts.draw_svg(y_axis=True))"
   ]
  },
  {
   "cell_type": "markdown",
   "id": "115c3e7c",
   "metadata": {},
   "source": [
    "We have run 1 generation of the DTWF, resulting in the coalescence\n",
    "at node 9.\n",
    "\n",
    "\n",
    "(sec_ancestry_start_time)=\n",
    "\n",
    "### Setting the start time\n",
    "\n",
    ":::{important}\n",
    "Setting simulation start time is an advanced feature which is rarely\n",
    "needed in practice.\n",
    ":::\n",
    "\n",
    "Sometimes we need control when the simulation process starts. For\n",
    "example, given the initial configuration of at time zero we want to\n",
    "\"jump ahead\" to a later time point before we start generating\n",
    "random events. Consider the following example:"
   ]
  },
  {
   "cell_type": "code",
   "execution_count": 48,
   "id": "4f014867",
   "metadata": {},
   "outputs": [
    {
     "data": {
      "text/html": [
       "\n",
       "            <div>\n",
       "                <style scoped=\"\">\n",
       "                    .tskit-table tbody tr th:only-of-type {vertical-align: middle;}\n",
       "                    .tskit-table tbody tr th {vertical-align: top;}\n",
       "                    .tskit-table tbody td {text-align: right;padding: 0.5em 0.5em;}\n",
       "                    .tskit-table tbody th {padding: 0.5em 0.5em;}\n",
       "                </style>\n",
       "                <table border=\"1\" class=\"tskit-table\">\n",
       "                    <thead>\n",
       "                        <tr>\n",
       "                            <th>id</th><th>flags</th><th>population</th><th>individual</th><th>time</th><th>metadata</th>\n",
       "                        </tr>\n",
       "                    </thead>\n",
       "                    <tbody>\n",
       "                        <tr><td>0</td><td>1</td><td>0</td><td>0</td><td>0.00000000000000</td><td></td></tr>\n",
       "<tr><td>1</td><td>1</td><td>0</td><td>0</td><td>0.00000000000000</td><td></td></tr>\n",
       "<tr><td>2</td><td>1</td><td>0</td><td>1</td><td>0.00000000000000</td><td></td></tr>\n",
       "<tr><td>3</td><td>1</td><td>0</td><td>1</td><td>0.00000000000000</td><td></td></tr>\n",
       "<tr><td>4</td><td>0</td><td>0</td><td>-1</td><td>0.15642269424061</td><td></td></tr>\n",
       "<tr><td>5</td><td>0</td><td>0</td><td>-1</td><td>0.29152169532801</td><td></td></tr>\n",
       "<tr><td>6</td><td>0</td><td>0</td><td>-1</td><td>2.11740681320717</td><td></td></tr>\n",
       "\n",
       "                    </tbody>\n",
       "                </table>\n",
       "            </div>\n"
      ],
      "text/plain": [
       "<tskit.tables.NodeTable at 0x7fbfc1a70b50>"
      ]
     },
     "execution_count": 48,
     "metadata": {},
     "output_type": "execute_result"
    }
   ],
   "source": [
    "ts = msprime.sim_ancestry(2, random_seed=42)\n",
    "ts.tables.nodes"
   ]
  },
  {
   "cell_type": "markdown",
   "id": "3ea8a5d6",
   "metadata": {},
   "source": [
    "Now we run the same simulation with a ``start_time`` of 10:"
   ]
  },
  {
   "cell_type": "code",
   "execution_count": 49,
   "id": "1bab28d0",
   "metadata": {},
   "outputs": [
    {
     "data": {
      "text/html": [
       "\n",
       "            <div>\n",
       "                <style scoped=\"\">\n",
       "                    .tskit-table tbody tr th:only-of-type {vertical-align: middle;}\n",
       "                    .tskit-table tbody tr th {vertical-align: top;}\n",
       "                    .tskit-table tbody td {text-align: right;padding: 0.5em 0.5em;}\n",
       "                    .tskit-table tbody th {padding: 0.5em 0.5em;}\n",
       "                </style>\n",
       "                <table border=\"1\" class=\"tskit-table\">\n",
       "                    <thead>\n",
       "                        <tr>\n",
       "                            <th>id</th><th>flags</th><th>population</th><th>individual</th><th>time</th><th>metadata</th>\n",
       "                        </tr>\n",
       "                    </thead>\n",
       "                    <tbody>\n",
       "                        <tr><td>0</td><td>1</td><td>0</td><td>0</td><td>0.00000000000000</td><td></td></tr>\n",
       "<tr><td>1</td><td>1</td><td>0</td><td>0</td><td>0.00000000000000</td><td></td></tr>\n",
       "<tr><td>2</td><td>1</td><td>0</td><td>1</td><td>0.00000000000000</td><td></td></tr>\n",
       "<tr><td>3</td><td>1</td><td>0</td><td>1</td><td>0.00000000000000</td><td></td></tr>\n",
       "<tr><td>4</td><td>0</td><td>0</td><td>-1</td><td>10.15642269424061</td><td></td></tr>\n",
       "<tr><td>5</td><td>0</td><td>0</td><td>-1</td><td>10.29152169532801</td><td></td></tr>\n",
       "<tr><td>6</td><td>0</td><td>0</td><td>-1</td><td>12.11740681320717</td><td></td></tr>\n",
       "\n",
       "                    </tbody>\n",
       "                </table>\n",
       "            </div>\n"
      ],
      "text/plain": [
       "<tskit.tables.NodeTable at 0x7fbfc1a70f40>"
      ]
     },
     "execution_count": 49,
     "metadata": {},
     "output_type": "execute_result"
    }
   ],
   "source": [
    "ts = msprime.sim_ancestry(2, start_time=10, random_seed=42)\n",
    "ts.tables.nodes"
   ]
  },
  {
   "cell_type": "markdown",
   "id": "40c21988",
   "metadata": {},
   "source": [
    "We can see that the results are identical except that 10 has\n",
    "been added to all of the internal node times.\n",
    "\n",
    ":::{important}\n",
    "It is important to note that the ``start_time`` only controls the\n",
    "\"random\" events that happen within the simulation model: events\n",
    "that are specified to occur at a given time (such as sampling\n",
    "or demographic events) will occur at that time, even if this\n",
    "is before the ``start_time``.\n",
    ":::\n",
    "\n",
    "Consider the following example in which we create a simple\n",
    "{ref}`population tree<sec_demography_examples_population_tree>`\n",
    "demography, and then take samples at different times all *before*\n",
    "``start_time``:"
   ]
  },
  {
   "cell_type": "code",
   "execution_count": 50,
   "id": "10103f54",
   "metadata": {},
   "outputs": [
    {
     "data": {
      "text/html": [
       "\n",
       "            <div>\n",
       "                <style scoped=\"\">\n",
       "                    .tskit-table tbody tr th:only-of-type {vertical-align: middle;}\n",
       "                    .tskit-table tbody tr th {vertical-align: top;}\n",
       "                    .tskit-table tbody td {text-align: right;padding: 0.5em 0.5em;}\n",
       "                    .tskit-table tbody th {padding: 0.5em 0.5em;}\n",
       "                </style>\n",
       "                <table border=\"1\" class=\"tskit-table\">\n",
       "                    <thead>\n",
       "                        <tr>\n",
       "                            <th>id</th><th>flags</th><th>population</th><th>individual</th><th>time</th><th>metadata</th>\n",
       "                        </tr>\n",
       "                    </thead>\n",
       "                    <tbody>\n",
       "                        <tr><td>0</td><td>1</td><td>0</td><td>0</td><td>1.00000000000000</td><td></td></tr>\n",
       "<tr><td>1</td><td>1</td><td>1</td><td>1</td><td>2.00000000000000</td><td></td></tr>\n",
       "<tr><td>2</td><td>1</td><td>2</td><td>2</td><td>6.00000000000000</td><td></td></tr>\n",
       "<tr><td>3</td><td>0</td><td>2</td><td>-1</td><td>52.47084127199754</td><td></td></tr>\n",
       "<tr><td>4</td><td>0</td><td>2</td><td>-1</td><td>66.18169933131182</td><td></td></tr>\n",
       "\n",
       "                    </tbody>\n",
       "                </table>\n",
       "            </div>\n"
      ],
      "text/plain": [
       "<tskit.tables.NodeTable at 0x7fbfc81a0190>"
      ]
     },
     "execution_count": 50,
     "metadata": {},
     "output_type": "execute_result"
    }
   ],
   "source": [
    "demography = msprime.Demography()\n",
    "demography.add_population(name=\"A\", initial_size=100)\n",
    "demography.add_population(name=\"B\", initial_size=100)\n",
    "demography.add_population(name=\"C\", initial_size=100)\n",
    "demography.add_population_split(time=5, derived=[\"A\", \"B\"], ancestral=\"C\")\n",
    "\n",
    "ts = msprime.sim_ancestry(\n",
    "    samples=[\n",
    "        msprime.SampleSet(1, population=\"A\", time=1),\n",
    "        msprime.SampleSet(1, population=\"B\", time=2),\n",
    "        msprime.SampleSet(1, population=\"C\", time=6),\n",
    "    ],\n",
    "    demography=demography,\n",
    "    ploidy=1,\n",
    "    start_time=10,\n",
    "    random_seed=1)\n",
    "\n",
    "ts.tables.nodes"
   ]
  },
  {
   "cell_type": "markdown",
   "id": "bf80539b",
   "metadata": {},
   "source": [
    "We can see that the samples we specify are in the correct populations\n",
    "and their node times are at the sampling time. Note that all the\n",
    "coalescences happen in population ID 2 (\"C\"), indicating that the\n",
    "lineages from \"A\" and \"B\" moved there at the time of the split\n",
    "(which we can observe directly using the\n",
    "{ref}`record_migrations<sec_ancestry_record_migrations>` option if we wish).\n",
    "Note also that we drew a sample from population \"C\" at time 6,\n",
    "which is {ref}`after<sec_demography_direction_of_time>` the split;\n",
    "if we tried to draw a sample before the split, we would get an\n",
    "error because the population would be\n",
    "{ref}`inactive<sec_demography_populations_life_cycle>`.\n",
    "\n",
    ":::{seealso}\n",
    "See the {ref}`sec_ancestry_event_order` section for details\n",
    "of the precise order in which fixed-time events occur.\n",
    ":::\n",
    "\n",
    ":::{note}\n",
    "The same considerations apply when we are running simulations based\n",
    "on a given {ref}`initial state<sec_ancestry_initial_state>`; in\n",
    "this case, the ``start_time`` is by default set to the time\n",
    "of the youngest root in the input trees.\n",
    ":::\n",
    "\n",
    "(sec_ancestry_event_order)=\n",
    "### Order of event execution\n",
    "\n",
    "There are two different classes of event that happen in ancestry\n",
    "simulations: \"fixed\" and \"random\" events. Random events are\n",
    "generated by the ancestry model, and fixed events are those\n",
    "that occur at a time specified by the user. Fixed events\n",
    "are {ref}`demographic events<sec_demography_events>` or\n",
    "{ref}`sampling events<sec_ancestry_samples>`.\n",
    "If a number of different\n",
    "events are specified to occur at exactly the same time, then:\n",
    "\n",
    "1. All demographic events at this time are run, *in the order they\n",
    "were specified*.\n",
    "2. Sampling events occur immediately after all the demographic events\n",
    "have been executed. (See the {ref}`sec_ancestry_samples_sampling_time`\n",
    "section for more details on ancient sampling events.)\n",
    "\n",
    "These details are slightly different for the {ref}`sec_ancestry_models_dtwf`\n",
    "model. See the {class}`API documentation<.DiscreteTimeWrightFisher>` for\n",
    "details.\n",
    "\n",
    "(sec_ancestry_initial_state)=\n",
    "\n",
    "## Specifying the initial state\n",
    "\n",
    "By default `msprime` simulations are initialised by specifying a set of\n",
    "{ref}`samples<sec_ancestry_samples>`,\n",
    "which sets up the simulation with segments of ancestral material covering the\n",
    "whole sequence. Internally, this initial state is implemented by\n",
    "setting up a {class}`tskit.TableCollection` which contains the\n",
    "{ref}`population<tskit:sec_population_table_definition>`,\n",
    "{ref}`node<tskit:sec_node_table_definition>`,\n",
    "and {ref}`individual<tskit:sec_individual_table_definition>` information.\n",
    "The low-level simulation code then reads these tables and sets up the\n",
    "simulation accordingly. We can see what this initial state looks like\n",
    "by setting up a simple simulation and stopping it immediately:"
   ]
  },
  {
   "cell_type": "code",
   "execution_count": 51,
   "id": "82890b2c",
   "metadata": {},
   "outputs": [
    {
     "data": {
      "text/html": [
       "\n",
       "<div>\n",
       "  <style>\n",
       "    .tskit-table thead tr th {text-align: left;padding: 0.5em 0.5em;}\n",
       "    .tskit-table tbody tr td {padding: 0.5em 0.5em;}\n",
       "    .tskit-table tbody tr td:first-of-type {text-align: left;}\n",
       "    .tskit-details-label {vertical-align: top; padding-right:5px;}\n",
       "    .tskit-table-set {display: inline-flex;flex-wrap: wrap;margin: -12px 0 0 -12px;width: calc(100% + 12px);}\n",
       "    .tskit-table-set-table {margin: 12px 0 0 12px;}\n",
       "    details {display: inline-block;}\n",
       "    summary {cursor: pointer; outline: 0; display: list-item;}\n",
       "  </style>\n",
       "  <div class=\"tskit-table-set\">\n",
       "    <div class=\"tskit-table-set-table\">\n",
       "      <table class=\"tskit-table\">\n",
       "        <thead>\n",
       "          <tr>\n",
       "            <th style=\"padding:0;line-height:21px;\">\n",
       "              <img style=\"height: 32px;display: inline-block;padding: 3px 5px 3px 0;\"src=\"https://raw.githubusercontent.com/tskit-dev/administrative/main/tskit_logo.svg\"/>\n",
       "              <a target=\"_blank\" href=\"https://tskit.readthedocs.io/en/latest/python-api.html#the-treesequence-class\"> Tree Sequence\n",
       "            </th>\n",
       "          </tr>\n",
       "        </thead>\n",
       "        <tbody>\n",
       "          <tr><td>Trees</td><td>1</td></tr>\n",
       "          <tr><td>Sequence Length</td><td>1.0</td></tr>\n",
       "          <tr><td>Sample Nodes</td><td>2</td></tr>\n",
       "          <tr><td>Total Size</td><td>1.3 KiB</td></tr>\n",
       "          <tr>\n",
       "            <td>Metadata</td><td style=\"text-align: left;\">No Metadata</td></tr>\n",
       "        </tbody>\n",
       "      </table>\n",
       "    </div>\n",
       "    <div class=\"tskit-table-set-table\">\n",
       "      <table class=\"tskit-table\">\n",
       "        <thead>\n",
       "          <tr>\n",
       "            <th style=\"line-height:21px;\">Table</th>\n",
       "            <th>Rows</th>\n",
       "            <th>Size</th>\n",
       "            <th>Has Metadata</th>\n",
       "          </tr>\n",
       "        </thead>\n",
       "        <tbody>\n",
       "\n",
       "      <tr>\n",
       "        <td>Edges</td>\n",
       "          <td>0</td>\n",
       "          <td>4 Bytes</td>\n",
       "          <td style=\"text-align: center;\">\n",
       "\n",
       "          </td>\n",
       "        </tr>\n",
       "\n",
       "      <tr>\n",
       "        <td>Individuals</td>\n",
       "          <td>1</td>\n",
       "          <td>28 Bytes</td>\n",
       "          <td style=\"text-align: center;\">\n",
       "\n",
       "          </td>\n",
       "        </tr>\n",
       "\n",
       "      <tr>\n",
       "        <td>Migrations</td>\n",
       "          <td>0</td>\n",
       "          <td>4 Bytes</td>\n",
       "          <td style=\"text-align: center;\">\n",
       "\n",
       "          </td>\n",
       "        </tr>\n",
       "\n",
       "      <tr>\n",
       "        <td>Mutations</td>\n",
       "          <td>0</td>\n",
       "          <td>8 Bytes</td>\n",
       "          <td style=\"text-align: center;\">\n",
       "\n",
       "          </td>\n",
       "        </tr>\n",
       "\n",
       "      <tr>\n",
       "        <td>Nodes</td>\n",
       "          <td>2</td>\n",
       "          <td>52 Bytes</td>\n",
       "          <td style=\"text-align: center;\">\n",
       "\n",
       "          </td>\n",
       "        </tr>\n",
       "\n",
       "      <tr>\n",
       "        <td>Populations</td>\n",
       "          <td>1</td>\n",
       "          <td>216 Bytes</td>\n",
       "          <td style=\"text-align: center;\">\n",
       "            ✅\n",
       "          </td>\n",
       "        </tr>\n",
       "\n",
       "      <tr>\n",
       "        <td>Provenances</td>\n",
       "          <td>1</td>\n",
       "          <td>969 Bytes</td>\n",
       "          <td style=\"text-align: center;\">\n",
       "\n",
       "          </td>\n",
       "        </tr>\n",
       "\n",
       "      <tr>\n",
       "        <td>Sites</td>\n",
       "          <td>0</td>\n",
       "          <td>8 Bytes</td>\n",
       "          <td style=\"text-align: center;\">\n",
       "\n",
       "          </td>\n",
       "        </tr>\n",
       "\n",
       "        </tbody>\n",
       "      </table>\n",
       "    </div>\n",
       "  </div>\n",
       "</div>\n"
      ],
      "text/plain": [
       "<tskit.trees.TreeSequence at 0x7fbfc816fcd0>"
      ]
     },
     "execution_count": 51,
     "metadata": {},
     "output_type": "execute_result"
    }
   ],
   "source": [
    "initial_ts = msprime.sim_ancestry(1, end_time=0)\n",
    "initial_ts"
   ]
  },
  {
   "cell_type": "markdown",
   "id": "b4278d67",
   "metadata": {},
   "source": [
    "We can see that the returned tree sequence has one population,\n",
    "two sample nodes and one individual (since sample individuals are\n",
    "{ref}`diploid<sec_ancestry_ploidy>` by default). There are no\n",
    "{ref}`edges<tskit:sec_edge_table_definition>` because the simulation\n",
    "didn't run for any period of time: we're essentially just returning\n",
    "the initial state used to start the simulation.\n",
    "\n",
    "Then, running a simulation in which the ``initial_state`` is equal to\n",
    "``initial_ts`` is *precisely* the same as running the simulation\n",
    "with the same arguments as we used above:"
   ]
  },
  {
   "cell_type": "code",
   "execution_count": 52,
   "id": "73558730",
   "metadata": {},
   "outputs": [],
   "source": [
    "ts1 = msprime.sim_ancestry(initial_state=initial_ts, population_size=100, random_seed=2)\n",
    "ts2 = msprime.sim_ancestry(1, population_size=100, random_seed=2)\n",
    "assert ts1.equals(ts2, ignore_provenance=True)"
   ]
  },
  {
   "cell_type": "markdown",
   "id": "2410d311",
   "metadata": {},
   "source": [
    ":::{warning}\n",
    "Note that the ``initial_state`` tree sequence only contains the\n",
    "information about the ancestral histories, and not any of the\n",
    "simulation parameters. In the previous example we used default\n",
    "parameters to keep things simple, but in general the full\n",
    "simulation model will need to be specified as well as the initial state.\n",
    "In particular, see the {ref}`sec_ancestry_initial_state_demography` section.\n",
    ":::\n",
    "\n",
    "While it is possible to specify the initial state manually by\n",
    "constructing the input tree sequence,\n",
    "it is an advanced topic and rarely necessary. More often we are\n",
    "interested in specifying the initial state of an ``msprime``\n",
    "simulation using the output of *another* simulation.\n",
    "\n",
    ":::{note}\n",
    "The ``initial_state`` tree sequence is quite literally the initial\n",
    "state of the tree sequence that is returned at the end of a simulation,\n",
    "and that any information present (including metadata) will not be\n",
    "altered.\n",
    ":::\n",
    "\n",
    "(sec_ancestry_initial_state_combining)=\n",
    "\n",
    "### Combining backward-time simulations\n",
    "\n",
    "Suppose that we wished to simulate a scenario\n",
    "in which we have recombination happening at some rate in the recent past,\n",
    "and in the more distant past there is no recombination.\n",
    "We can do this by combining the simulations,\n",
    "using one as the ``initial_state`` for the other.\n",
    "\n",
    "We first run the simulation of the recent past:"
   ]
  },
  {
   "cell_type": "code",
   "execution_count": 53,
   "id": "1f145422",
   "metadata": {},
   "outputs": [
    {
     "data": {
      "image/svg+xml": [
       "<svg xmlns=\"http://www.w3.org/2000/svg\" xmlns:ev=\"http://www.w3.org/2001/xml-events\" xmlns:xlink=\"http://www.w3.org/1999/xlink\" baseProfile=\"full\" height=\"200\" version=\"1.1\" width=\"600\"><defs><style type=\"text/css\"><![CDATA[.tree-sequence .background path {fill: #808080; fill-opacity:0}.tree-sequence .background path:nth-child(odd) {fill-opacity:.1}.axes {font-size: 14px}.x-axis .tick .lab {font-weight: bold}.axes, .tree {font-size: 14px; text-anchor:middle}.y-axis line.grid {stroke: #FAFAFA}.y-axis > .lab text {transform: translateX(0.8em) rotate(-90deg)}.x-axis .tick g {transform: translateY(0.9em)}.x-axis > .lab text {transform: translateY(-0.8em)}.axes line, .edge {stroke:black; fill:none}.node > .sym {fill: black; stroke: none}.site > .sym {stroke: black}.mut text {fill: red; font-style: italic}.mut line {fill: none; stroke: none}.mut .sym {fill: none; stroke: red}.node .mut .sym {stroke-width: 1.5px}.tree text, .tree-sequence text {dominant-baseline: central}.plotbox .lab.lft {text-anchor: end}.plotbox .lab.rgt {text-anchor: start}]]></style></defs><g class=\"tree-sequence\"><g class=\"background\"><path d=\"M56.8,0 l174.4,0 l0,138.2 l-122.08,25 l0,5 l-52.32,0 l0,-5 l0,-25 l0,-138.2z\"/><path d=\"M231.2,0 l174.4,0 l0,138.2 l69.76,25 l0,5 l-366.24,0 l0,-5 l122.08,-25 l0,-138.2z\"/><path d=\"M405.6,0 l174.4,0 l0,138.2 l0,25 l0,5 l-104.64,0 l0,-5 l-69.76,-25 l0,-138.2z\"/></g><g class=\"axes\"><g class=\"x-axis\"><g class=\"lab\" transform=\"translate(318.4,200)\"><text text-anchor=\"middle\">Genome position</text></g><line x1=\"56.8\" x2=\"580\" y1=\"163.2\" y2=\"163.2\"/><g class=\"tick\" transform=\"translate(56.8 163.2)\"><line x1=\"0\" x2=\"0\" y1=\"0\" y2=\"5\"/><g class=\"lab\" transform=\"translate(0,5)\"><text>0</text></g></g><g class=\"tick\" transform=\"translate(109.12 163.2)\"><line x1=\"0\" x2=\"0\" y1=\"0\" y2=\"5\"/><g class=\"lab\" transform=\"translate(0,5)\"><text>1</text></g></g><g class=\"tick\" transform=\"translate(475.36 163.2)\"><line x1=\"0\" x2=\"0\" y1=\"0\" y2=\"5\"/><g class=\"lab\" transform=\"translate(0,5)\"><text>8</text></g></g><g class=\"tick\" transform=\"translate(580 163.2)\"><line x1=\"0\" x2=\"0\" y1=\"0\" y2=\"5\"/><g class=\"lab\" transform=\"translate(0,5)\"><text>10</text></g></g></g><g class=\"y-axis\"><g class=\"lab\" transform=\"translate(0,65.7)\"><text text-anchor=\"middle\">Time</text></g><line x1=\"56.8\" x2=\"56.8\" y1=\"121.4\" y2=\"10\"/><g class=\"tick\" transform=\"translate(56.8 121.4)\"><line x1=\"0\" x2=\"-5\" y1=\"0\" y2=\"0\"/><g class=\"lab\" transform=\"translate(-5,0)\"><text text-anchor=\"end\">0.00</text></g></g><g class=\"tick\" transform=\"translate(56.8 107.199)\"><line x1=\"0\" x2=\"-5\" y1=\"0\" y2=\"0\"/><g class=\"lab\" transform=\"translate(-5,0)\"><text text-anchor=\"end\">1.50</text></g></g><g class=\"tick\" transform=\"translate(56.8 57.1523)\"><line x1=\"0\" x2=\"-5\" y1=\"0\" y2=\"0\"/><g class=\"lab\" transform=\"translate(-5,0)\"><text text-anchor=\"end\">6.79</text></g></g><g class=\"tick\" transform=\"translate(56.8 26.8)\"><line x1=\"0\" x2=\"-5\" y1=\"0\" y2=\"0\"/><g class=\"lab\" transform=\"translate(-5,0)\"><text text-anchor=\"end\">10.00</text></g></g></g></g><g class=\"plotbox trees\"><g class=\"tree t0\" transform=\"translate(56.8 0)\"><g class=\"plotbox\"><g class=\"node n9 p0 root\" transform=\"translate(36.8 26.8)\"><g class=\"a9 i0 leaf node n0 p0 sample\" transform=\"translate(0.0 94.6)\"><path class=\"edge\" d=\"M 0 0 V -94.6 H 0.0\"/><rect class=\"sym\" height=\"6\" width=\"6\" x=\"-3\" y=\"-3\"/><text class=\"lab\" transform=\"translate(0 11)\">0</text></g><circle class=\"sym\" cx=\"0\" cy=\"0\" r=\"3\"/><text class=\"lab\" transform=\"translate(0 -11)\">9</text></g><g class=\"node n8 p0 root\" transform=\"translate(70.4 26.8)\"><g class=\"a8 i0 leaf node n1 p0 sample\" transform=\"translate(0.0 94.6)\"><path class=\"edge\" d=\"M 0 0 V -94.6 H 0.0\"/><rect class=\"sym\" height=\"6\" width=\"6\" x=\"-3\" y=\"-3\"/><text class=\"lab\" transform=\"translate(0 11)\">1</text></g><circle class=\"sym\" cx=\"0\" cy=\"0\" r=\"3\"/><text class=\"lab\" transform=\"translate(0 -11)\">8</text></g><g class=\"node n7 p0 root\" transform=\"translate(120.8 26.8)\"><g class=\"a7 node n5 p0\" transform=\"translate(0.0 30.3523)\"><g class=\"a5 i1 leaf node n2 p0 sample\" transform=\"translate(-16.8 64.2477)\"><path class=\"edge\" d=\"M 0 0 V -64.2477 H 16.8\"/><rect class=\"sym\" height=\"6\" width=\"6\" x=\"-3\" y=\"-3\"/><text class=\"lab\" transform=\"translate(0 11)\">2</text></g><g class=\"a5 i1 leaf node n3 p0 sample\" transform=\"translate(16.8 64.2477)\"><path class=\"edge\" d=\"M 0 0 V -64.2477 H -16.8\"/><rect class=\"sym\" height=\"6\" width=\"6\" x=\"-3\" y=\"-3\"/><text class=\"lab\" transform=\"translate(0 11)\">3</text></g><path class=\"edge\" d=\"M 0 0 V -30.3523 H 0.0\"/><circle class=\"sym\" cx=\"0\" cy=\"0\" r=\"3\"/><text class=\"lab lft\" transform=\"translate(-3 -7.0)\">5</text></g><circle class=\"sym\" cx=\"0\" cy=\"0\" r=\"3\"/><text class=\"lab\" transform=\"translate(0 -11)\">7</text></g></g></g><g class=\"tree t1\" transform=\"translate(231.2 0)\"><g class=\"plotbox\"><g class=\"node n9 p0 root\" transform=\"translate(36.8 26.8)\"><g class=\"a9 i0 leaf node n0 p0 sample\" transform=\"translate(0.0 94.6)\"><path class=\"edge\" d=\"M 0 0 V -94.6 H 0.0\"/><rect class=\"sym\" height=\"6\" width=\"6\" x=\"-3\" y=\"-3\"/><text class=\"lab\" transform=\"translate(0 11)\">0</text></g><circle class=\"sym\" cx=\"0\" cy=\"0\" r=\"3\"/><text class=\"lab\" transform=\"translate(0 -11)\">9</text></g><g class=\"node n6 p0 root\" transform=\"translate(70.4 26.8)\"><g class=\"a6 i0 leaf node n1 p0 sample\" transform=\"translate(0.0 94.6)\"><path class=\"edge\" d=\"M 0 0 V -94.6 H 0.0\"/><rect class=\"sym\" height=\"6\" width=\"6\" x=\"-3\" y=\"-3\"/><text class=\"lab\" transform=\"translate(0 11)\">1</text></g><circle class=\"sym\" cx=\"0\" cy=\"0\" r=\"3\"/><text class=\"lab\" transform=\"translate(0 -11)\">6</text></g><g class=\"node n7 p0 root\" transform=\"translate(120.8 26.8)\"><g class=\"a7 node n5 p0\" transform=\"translate(0.0 30.3523)\"><g class=\"a5 i1 leaf node n2 p0 sample\" transform=\"translate(-16.8 64.2477)\"><path class=\"edge\" d=\"M 0 0 V -64.2477 H 16.8\"/><rect class=\"sym\" height=\"6\" width=\"6\" x=\"-3\" y=\"-3\"/><text class=\"lab\" transform=\"translate(0 11)\">2</text></g><g class=\"a5 i1 leaf node n3 p0 sample\" transform=\"translate(16.8 64.2477)\"><path class=\"edge\" d=\"M 0 0 V -64.2477 H -16.8\"/><rect class=\"sym\" height=\"6\" width=\"6\" x=\"-3\" y=\"-3\"/><text class=\"lab\" transform=\"translate(0 11)\">3</text></g><path class=\"edge\" d=\"M 0 0 V -30.3523 H 0.0\"/><circle class=\"sym\" cx=\"0\" cy=\"0\" r=\"3\"/><text class=\"lab lft\" transform=\"translate(-3 -7.0)\">5</text></g><circle class=\"sym\" cx=\"0\" cy=\"0\" r=\"3\"/><text class=\"lab\" transform=\"translate(0 -11)\">7</text></g></g></g><g class=\"tree t2\" transform=\"translate(405.6 0)\"><g class=\"plotbox\"><g class=\"node n9 p0 root\" transform=\"translate(36.8 26.8)\"><g class=\"a9 i0 leaf node n0 p0 sample\" transform=\"translate(0.0 94.6)\"><path class=\"edge\" d=\"M 0 0 V -94.6 H 0.0\"/><rect class=\"sym\" height=\"6\" width=\"6\" x=\"-3\" y=\"-3\"/><text class=\"lab\" transform=\"translate(0 11)\">0</text></g><circle class=\"sym\" cx=\"0\" cy=\"0\" r=\"3\"/><text class=\"lab\" transform=\"translate(0 -11)\">9</text></g><g class=\"node n7 p0 root\" transform=\"translate(112.4 26.8)\"><g class=\"a7 node n5 p0\" transform=\"translate(0.0 30.3523)\"><g class=\"a5 i1 leaf node n3 p0 sample\" transform=\"translate(25.2 64.2477)\"><path class=\"edge\" d=\"M 0 0 V -64.2477 H -25.2\"/><rect class=\"sym\" height=\"6\" width=\"6\" x=\"-3\" y=\"-3\"/><text class=\"lab\" transform=\"translate(0 11)\">3</text></g><g class=\"a5 node n4 p0\" transform=\"translate(-25.2 50.0464)\"><g class=\"a4 i0 leaf node n1 p0 sample\" transform=\"translate(-16.8 14.2013)\"><path class=\"edge\" d=\"M 0 0 V -14.2013 H 16.8\"/><rect class=\"sym\" height=\"6\" width=\"6\" x=\"-3\" y=\"-3\"/><text class=\"lab\" transform=\"translate(0 11)\">1</text></g><g class=\"a4 i1 leaf node n2 p0 sample\" transform=\"translate(16.8 14.2013)\"><path class=\"edge\" d=\"M 0 0 V -14.2013 H -16.8\"/><rect class=\"sym\" height=\"6\" width=\"6\" x=\"-3\" y=\"-3\"/><text class=\"lab\" transform=\"translate(0 11)\">2</text></g><path class=\"edge\" d=\"M 0 0 V -50.0464 H 25.2\"/><circle class=\"sym\" cx=\"0\" cy=\"0\" r=\"3\"/><text class=\"lab lft\" transform=\"translate(-3 -7.0)\">4</text></g><path class=\"edge\" d=\"M 0 0 V -30.3523 H 0.0\"/><circle class=\"sym\" cx=\"0\" cy=\"0\" r=\"3\"/><text class=\"lab lft\" transform=\"translate(-3 -7.0)\">5</text></g><circle class=\"sym\" cx=\"0\" cy=\"0\" r=\"3\"/><text class=\"lab\" transform=\"translate(0 -11)\">7</text></g></g></g></g></g></svg>"
      ],
      "text/plain": [
       "<IPython.core.display.SVG object>"
      ]
     },
     "execution_count": 53,
     "metadata": {
      "filenames": {
       "image/svg+xml": "/home/runner/work/tskit-site/tskit-site/docs/_build/jupyter_execute/ancestry_98_0.svg"
      }
     },
     "output_type": "execute_result"
    }
   ],
   "source": [
    "ts1 = msprime.sim_ancestry(\n",
    "    2, recombination_rate=0.01, sequence_length=10, end_time=10,\n",
    "    population_size=100, random_seed=1)\n",
    "SVG(ts1.draw_svg(y_axis=True))"
   ]
  },
  {
   "cell_type": "markdown",
   "id": "c2e542bd",
   "metadata": {},
   "source": [
    "Some recombination and coalescence has happened and we have three\n",
    "marginal trees along the genome. None of these trees has fully coalesced,\n",
    "and so each of the trees has multiple roots.\n",
    "\n",
    ":::{important}\n",
    "The set of nodes at time 10 connecting to all the internal nodes in the\n",
    "trees are very important: without these nodes and unary edges, the\n",
    "statistical properties of the combined simulations would not be correct!\n",
    "(See also section below on\n",
    "{ref}`forward simulations<sec_ancestry_initial_state_forward_simulations>`.)\n",
    ":::\n",
    "\n",
    "We then run the next phase of the simulation in which there is\n",
    "*no* recombination by passing ``ts1`` as the argument to ``initial_state``:"
   ]
  },
  {
   "cell_type": "code",
   "execution_count": 54,
   "id": "6b3b3304",
   "metadata": {},
   "outputs": [
    {
     "data": {
      "image/svg+xml": [
       "<svg xmlns=\"http://www.w3.org/2000/svg\" xmlns:ev=\"http://www.w3.org/2001/xml-events\" xmlns:xlink=\"http://www.w3.org/1999/xlink\" baseProfile=\"full\" height=\"200\" version=\"1.1\" width=\"600\"><defs><style type=\"text/css\"><![CDATA[.tree-sequence .background path {fill: #808080; fill-opacity:0}.tree-sequence .background path:nth-child(odd) {fill-opacity:.1}.axes {font-size: 14px}.x-axis .tick .lab {font-weight: bold}.axes, .tree {font-size: 14px; text-anchor:middle}.y-axis line.grid {stroke: #FAFAFA}.y-axis > .lab text {transform: translateX(0.8em) rotate(-90deg)}.x-axis .tick g {transform: translateY(0.9em)}.x-axis > .lab text {transform: translateY(-0.8em)}.axes line, .edge {stroke:black; fill:none}.node > .sym {fill: black; stroke: none}.site > .sym {stroke: black}.mut text {fill: red; font-style: italic}.mut line {fill: none; stroke: none}.mut .sym {fill: none; stroke: red}.node .mut .sym {stroke-width: 1.5px}.tree text, .tree-sequence text {dominant-baseline: central}.plotbox .lab.lft {text-anchor: end}.plotbox .lab.rgt {text-anchor: start}]]></style></defs><g class=\"tree-sequence\"><g class=\"background\"><path d=\"M56.8,0 l174.4,0 l0,138.2 l-122.08,25 l0,5 l-52.32,0 l0,-5 l0,-25 l0,-138.2z\"/><path d=\"M231.2,0 l174.4,0 l0,138.2 l69.76,25 l0,5 l-366.24,0 l0,-5 l122.08,-25 l0,-138.2z\"/><path d=\"M405.6,0 l174.4,0 l0,138.2 l0,25 l0,5 l-104.64,0 l0,-5 l-69.76,-25 l0,-138.2z\"/></g><g class=\"axes\"><g class=\"x-axis\"><g class=\"lab\" transform=\"translate(318.4,200)\"><text text-anchor=\"middle\">Genome position</text></g><line x1=\"56.8\" x2=\"580\" y1=\"163.2\" y2=\"163.2\"/><g class=\"tick\" transform=\"translate(56.8 163.2)\"><line x1=\"0\" x2=\"0\" y1=\"0\" y2=\"5\"/><g class=\"lab\" transform=\"translate(0,5)\"><text>0</text></g></g><g class=\"tick\" transform=\"translate(109.12 163.2)\"><line x1=\"0\" x2=\"0\" y1=\"0\" y2=\"5\"/><g class=\"lab\" transform=\"translate(0,5)\"><text>1</text></g></g><g class=\"tick\" transform=\"translate(475.36 163.2)\"><line x1=\"0\" x2=\"0\" y1=\"0\" y2=\"5\"/><g class=\"lab\" transform=\"translate(0,5)\"><text>8</text></g></g><g class=\"tick\" transform=\"translate(580 163.2)\"><line x1=\"0\" x2=\"0\" y1=\"0\" y2=\"5\"/><g class=\"lab\" transform=\"translate(0,5)\"><text>10</text></g></g></g><g class=\"y-axis\"><g class=\"lab\" transform=\"translate(0,65.7)\"><text text-anchor=\"middle\">Time</text></g><line x1=\"56.8\" x2=\"56.8\" y1=\"121.4\" y2=\"10\"/><g class=\"tick\" transform=\"translate(56.8 121.4)\"><line x1=\"0\" x2=\"-5\" y1=\"0\" y2=\"0\"/><g class=\"lab\" transform=\"translate(-5,0)\"><text text-anchor=\"end\">0.00</text></g></g><g class=\"tick\" transform=\"translate(56.8 120.93)\"><line x1=\"0\" x2=\"-5\" y1=\"0\" y2=\"0\"/><g class=\"lab\" transform=\"translate(-5,0)\"><text text-anchor=\"end\">1.50</text></g></g><g class=\"tick\" transform=\"translate(56.8 119.271)\"><line x1=\"0\" x2=\"-5\" y1=\"0\" y2=\"0\"/><g class=\"lab\" transform=\"translate(-5,0)\"><text text-anchor=\"end\">6.79</text></g></g><g class=\"tick\" transform=\"translate(56.8 118.266)\"><line x1=\"0\" x2=\"-5\" y1=\"0\" y2=\"0\"/><g class=\"lab\" transform=\"translate(-5,0)\"><text text-anchor=\"end\">10.00</text></g></g><g class=\"tick\" transform=\"translate(56.8 109.905)\"><line x1=\"0\" x2=\"-5\" y1=\"0\" y2=\"0\"/><g class=\"lab\" transform=\"translate(-5,0)\"><text text-anchor=\"end\">36.68</text></g></g><g class=\"tick\" transform=\"translate(56.8 71.6211)\"><line x1=\"0\" x2=\"-5\" y1=\"0\" y2=\"0\"/><g class=\"lab\" transform=\"translate(-5,0)\"><text text-anchor=\"end\">158.83</text></g></g><g class=\"tick\" transform=\"translate(56.8 26.8)\"><line x1=\"0\" x2=\"-5\" y1=\"0\" y2=\"0\"/><g class=\"lab\" transform=\"translate(-5,0)\"><text text-anchor=\"end\">301.84</text></g></g></g></g><g class=\"plotbox trees\"><g class=\"tree t0\" transform=\"translate(56.8 0)\"><g class=\"plotbox\"><g class=\"node n12 p0 root\" transform=\"translate(87.2 26.8)\"><g class=\"a12 node n7 p0\" transform=\"translate(33.6 91.4658)\"><g class=\"a7 node n5 p0\" transform=\"translate(0.0 1.00559)\"><g class=\"a5 i1 leaf node n2 p0 sample\" transform=\"translate(-16.8 2.12857)\"><path class=\"edge\" d=\"M 0 0 V -2.12857 H 16.8\"/><rect class=\"sym\" height=\"6\" width=\"6\" x=\"-3\" y=\"-3\"/><text class=\"lab\" transform=\"translate(0 11)\">2</text></g><g class=\"a5 i1 leaf node n3 p0 sample\" transform=\"translate(16.8 2.12857)\"><path class=\"edge\" d=\"M 0 0 V -2.12857 H -16.8\"/><rect class=\"sym\" height=\"6\" width=\"6\" x=\"-3\" y=\"-3\"/><text class=\"lab\" transform=\"translate(0 11)\">3</text></g><path class=\"edge\" d=\"M 0 0 V -1.00559 H 0.0\"/><circle class=\"sym\" cx=\"0\" cy=\"0\" r=\"3\"/><text class=\"lab lft\" transform=\"translate(-3 -7.0)\">5</text></g><path class=\"edge\" d=\"M 0 0 V -91.4658 H -33.6\"/><circle class=\"sym\" cx=\"0\" cy=\"0\" r=\"3\"/><text class=\"lab rgt\" transform=\"translate(3 -7.0)\">7</text></g><g class=\"a12 node n11 p0\" transform=\"translate(-33.6 44.8211)\"><g class=\"a11 node n8 p0\" transform=\"translate(16.8 46.6448)\"><g class=\"a8 i0 leaf node n1 p0 sample\" transform=\"translate(0.0 3.13416)\"><path class=\"edge\" d=\"M 0 0 V -3.13416 H 0.0\"/><rect class=\"sym\" height=\"6\" width=\"6\" x=\"-3\" y=\"-3\"/><text class=\"lab\" transform=\"translate(0 11)\">1</text></g><path class=\"edge\" d=\"M 0 0 V -46.6448 H -16.8\"/><circle class=\"sym\" cx=\"0\" cy=\"0\" r=\"3\"/><text class=\"lab rgt\" transform=\"translate(3 -7.0)\">8</text></g><g class=\"a11 node n9 p0\" transform=\"translate(-16.8 46.6448)\"><g class=\"a9 i0 leaf node n0 p0 sample\" transform=\"translate(0.0 3.13416)\"><path class=\"edge\" d=\"M 0 0 V -3.13416 H 0.0\"/><rect class=\"sym\" height=\"6\" width=\"6\" x=\"-3\" y=\"-3\"/><text class=\"lab\" transform=\"translate(0 11)\">0</text></g><path class=\"edge\" d=\"M 0 0 V -46.6448 H 16.8\"/><circle class=\"sym\" cx=\"0\" cy=\"0\" r=\"3\"/><text class=\"lab lft\" transform=\"translate(-3 -7.0)\">9</text></g><path class=\"edge\" d=\"M 0 0 V -44.8211 H 33.6\"/><circle class=\"sym\" cx=\"0\" cy=\"0\" r=\"3\"/><text class=\"lab lft\" transform=\"translate(-3 -7.0)\">11</text></g><circle class=\"sym\" cx=\"0\" cy=\"0\" r=\"3\"/><text class=\"lab\" transform=\"translate(0 -11)\">12</text></g></g></g><g class=\"tree t1\" transform=\"translate(231.2 0)\"><g class=\"plotbox\"><g class=\"node n12 p0 root\" transform=\"translate(87.2 26.8)\"><g class=\"a12 node n7 p0\" transform=\"translate(33.6 91.4658)\"><g class=\"a7 node n5 p0\" transform=\"translate(0.0 1.00559)\"><g class=\"a5 i1 leaf node n2 p0 sample\" transform=\"translate(-16.8 2.12857)\"><path class=\"edge\" d=\"M 0 0 V -2.12857 H 16.8\"/><rect class=\"sym\" height=\"6\" width=\"6\" x=\"-3\" y=\"-3\"/><text class=\"lab\" transform=\"translate(0 11)\">2</text></g><g class=\"a5 i1 leaf node n3 p0 sample\" transform=\"translate(16.8 2.12857)\"><path class=\"edge\" d=\"M 0 0 V -2.12857 H -16.8\"/><rect class=\"sym\" height=\"6\" width=\"6\" x=\"-3\" y=\"-3\"/><text class=\"lab\" transform=\"translate(0 11)\">3</text></g><path class=\"edge\" d=\"M 0 0 V -1.00559 H 0.0\"/><circle class=\"sym\" cx=\"0\" cy=\"0\" r=\"3\"/><text class=\"lab lft\" transform=\"translate(-3 -7.0)\">5</text></g><path class=\"edge\" d=\"M 0 0 V -91.4658 H -33.6\"/><circle class=\"sym\" cx=\"0\" cy=\"0\" r=\"3\"/><text class=\"lab rgt\" transform=\"translate(3 -7.0)\">7</text></g><g class=\"a12 node n10 p0\" transform=\"translate(-33.6 83.1051)\"><g class=\"a10 node n6 p0\" transform=\"translate(16.8 8.36072)\"><g class=\"a6 i0 leaf node n1 p0 sample\" transform=\"translate(0.0 3.13416)\"><path class=\"edge\" d=\"M 0 0 V -3.13416 H 0.0\"/><rect class=\"sym\" height=\"6\" width=\"6\" x=\"-3\" y=\"-3\"/><text class=\"lab\" transform=\"translate(0 11)\">1</text></g><path class=\"edge\" d=\"M 0 0 V -8.36072 H -16.8\"/><circle class=\"sym\" cx=\"0\" cy=\"0\" r=\"3\"/><text class=\"lab rgt\" transform=\"translate(3 -7.0)\">6</text></g><g class=\"a10 node n9 p0\" transform=\"translate(-16.8 8.36072)\"><g class=\"a9 i0 leaf node n0 p0 sample\" transform=\"translate(0.0 3.13416)\"><path class=\"edge\" d=\"M 0 0 V -3.13416 H 0.0\"/><rect class=\"sym\" height=\"6\" width=\"6\" x=\"-3\" y=\"-3\"/><text class=\"lab\" transform=\"translate(0 11)\">0</text></g><path class=\"edge\" d=\"M 0 0 V -8.36072 H 16.8\"/><circle class=\"sym\" cx=\"0\" cy=\"0\" r=\"3\"/><text class=\"lab lft\" transform=\"translate(-3 -7.0)\">9</text></g><path class=\"edge\" d=\"M 0 0 V -83.1051 H 33.6\"/><circle class=\"sym\" cx=\"0\" cy=\"0\" r=\"3\"/><text class=\"lab lft\" transform=\"translate(-3 -7.0)\">10</text></g><circle class=\"sym\" cx=\"0\" cy=\"0\" r=\"3\"/><text class=\"lab\" transform=\"translate(0 -11)\">12</text></g></g></g><g class=\"tree t2\" transform=\"translate(405.6 0)\"><g class=\"plotbox\"><g class=\"node n12 p0 root\" transform=\"translate(74.6 26.8)\"><g class=\"a12 node n7 p0\" transform=\"translate(37.8 91.4658)\"><g class=\"a7 node n5 p0\" transform=\"translate(0.0 1.00559)\"><g class=\"a5 i1 leaf node n3 p0 sample\" transform=\"translate(25.2 2.12857)\"><path class=\"edge\" d=\"M 0 0 V -2.12857 H -25.2\"/><rect class=\"sym\" height=\"6\" width=\"6\" x=\"-3\" y=\"-3\"/><text class=\"lab\" transform=\"translate(0 11)\">3</text></g><g class=\"a5 node n4 p0\" transform=\"translate(-25.2 1.65807)\"><g class=\"a4 i0 leaf node n1 p0 sample\" transform=\"translate(-16.8 0.470498)\"><path class=\"edge\" d=\"M 0 0 V -0.470498 H 16.8\"/><rect class=\"sym\" height=\"6\" width=\"6\" x=\"-3\" y=\"-3\"/><text class=\"lab\" transform=\"translate(0 11)\">1</text></g><g class=\"a4 i1 leaf node n2 p0 sample\" transform=\"translate(16.8 0.470498)\"><path class=\"edge\" d=\"M 0 0 V -0.470498 H -16.8\"/><rect class=\"sym\" height=\"6\" width=\"6\" x=\"-3\" y=\"-3\"/><text class=\"lab\" transform=\"translate(0 11)\">2</text></g><path class=\"edge\" d=\"M 0 0 V -1.65807 H 25.2\"/><circle class=\"sym\" cx=\"0\" cy=\"0\" r=\"3\"/><text class=\"lab lft\" transform=\"translate(-3 -7.0)\">4</text></g><path class=\"edge\" d=\"M 0 0 V -1.00559 H 0.0\"/><circle class=\"sym\" cx=\"0\" cy=\"0\" r=\"3\"/><text class=\"lab lft\" transform=\"translate(-3 -7.0)\">5</text></g><path class=\"edge\" d=\"M 0 0 V -91.4658 H -37.8\"/><circle class=\"sym\" cx=\"0\" cy=\"0\" r=\"3\"/><text class=\"lab rgt\" transform=\"translate(3 -7.0)\">7</text></g><g class=\"a12 node n9 p0\" transform=\"translate(-37.8 91.4658)\"><g class=\"a9 i0 leaf node n0 p0 sample\" transform=\"translate(0.0 3.13416)\"><path class=\"edge\" d=\"M 0 0 V -3.13416 H 0.0\"/><rect class=\"sym\" height=\"6\" width=\"6\" x=\"-3\" y=\"-3\"/><text class=\"lab\" transform=\"translate(0 11)\">0</text></g><path class=\"edge\" d=\"M 0 0 V -91.4658 H 37.8\"/><circle class=\"sym\" cx=\"0\" cy=\"0\" r=\"3\"/><text class=\"lab lft\" transform=\"translate(-3 -7.0)\">9</text></g><circle class=\"sym\" cx=\"0\" cy=\"0\" r=\"3\"/><text class=\"lab\" transform=\"translate(0 -11)\">12</text></g></g></g></g></g></svg>"
      ],
      "text/plain": [
       "<IPython.core.display.SVG object>"
      ]
     },
     "execution_count": 54,
     "metadata": {
      "filenames": {
       "image/svg+xml": "/home/runner/work/tskit-site/tskit-site/docs/_build/jupyter_execute/ancestry_100_0.svg"
      }
     },
     "output_type": "execute_result"
    }
   ],
   "source": [
    "ts2 = msprime.sim_ancestry(initial_state=ts1, population_size=100, random_seed=3)\n",
    "SVG(ts2.draw_svg(y_axis=True))"
   ]
  },
  {
   "cell_type": "markdown",
   "id": "6f8c0878",
   "metadata": {},
   "source": [
    "Since there is no recombination in this more ancient simulation,\n",
    "node ``12`` is the MRCA in all three trees. The unary nodes\n",
    "``6``, ``7``, ``8``, and ``9`` marking the transition between the\n",
    "two simulation regimes are still present in the trees. If you\n",
    "wish to remove these, we can use the {meth}`tskit.TreeSequence.simplify`\n",
    "method:"
   ]
  },
  {
   "cell_type": "code",
   "execution_count": 55,
   "id": "f9364159",
   "metadata": {},
   "outputs": [
    {
     "data": {
      "image/svg+xml": [
       "<svg xmlns=\"http://www.w3.org/2000/svg\" xmlns:ev=\"http://www.w3.org/2001/xml-events\" xmlns:xlink=\"http://www.w3.org/1999/xlink\" baseProfile=\"full\" height=\"200\" version=\"1.1\" width=\"600\"><defs><style type=\"text/css\"><![CDATA[.tree-sequence .background path {fill: #808080; fill-opacity:0}.tree-sequence .background path:nth-child(odd) {fill-opacity:.1}.axes {font-size: 14px}.x-axis .tick .lab {font-weight: bold}.axes, .tree {font-size: 14px; text-anchor:middle}.y-axis line.grid {stroke: #FAFAFA}.y-axis > .lab text {transform: translateX(0.8em) rotate(-90deg)}.x-axis .tick g {transform: translateY(0.9em)}.x-axis > .lab text {transform: translateY(-0.8em)}.axes line, .edge {stroke:black; fill:none}.node > .sym {fill: black; stroke: none}.site > .sym {stroke: black}.mut text {fill: red; font-style: italic}.mut line {fill: none; stroke: none}.mut .sym {fill: none; stroke: red}.node .mut .sym {stroke-width: 1.5px}.tree text, .tree-sequence text {dominant-baseline: central}.plotbox .lab.lft {text-anchor: end}.plotbox .lab.rgt {text-anchor: start}]]></style></defs><g class=\"tree-sequence\"><g class=\"background\"><path d=\"M20,0 l186.667,0 l0,138.2 l-130.667,25 l0,5 l-56,0 l0,-5 l0,-25 l0,-138.2z\"/><path d=\"M206.667,0 l186.667,0 l0,138.2 l74.6667,25 l0,5 l-392,0 l0,-5 l130.667,-25 l0,-138.2z\"/><path d=\"M393.333,0 l186.667,0 l0,138.2 l0,25 l0,5 l-112,0 l0,-5 l-74.6667,-25 l0,-138.2z\"/></g><g class=\"axes\"><g class=\"x-axis\"><g class=\"lab\" transform=\"translate(300,200)\"><text text-anchor=\"middle\">Genome position</text></g><line x1=\"20\" x2=\"580\" y1=\"163.2\" y2=\"163.2\"/><g class=\"tick\" transform=\"translate(20 163.2)\"><line x1=\"0\" x2=\"0\" y1=\"0\" y2=\"5\"/><g class=\"lab\" transform=\"translate(0,5)\"><text>0</text></g></g><g class=\"tick\" transform=\"translate(76 163.2)\"><line x1=\"0\" x2=\"0\" y1=\"0\" y2=\"5\"/><g class=\"lab\" transform=\"translate(0,5)\"><text>1</text></g></g><g class=\"tick\" transform=\"translate(468 163.2)\"><line x1=\"0\" x2=\"0\" y1=\"0\" y2=\"5\"/><g class=\"lab\" transform=\"translate(0,5)\"><text>8</text></g></g><g class=\"tick\" transform=\"translate(580 163.2)\"><line x1=\"0\" x2=\"0\" y1=\"0\" y2=\"5\"/><g class=\"lab\" transform=\"translate(0,5)\"><text>10</text></g></g></g></g><g class=\"plotbox trees\"><g class=\"tree t0\" transform=\"translate(20 0)\"><g class=\"plotbox\"><g class=\"node n8 p0 root\" transform=\"translate(93.3333 26.8)\"><g class=\"a8 node n5 p0\" transform=\"translate(36.6667 92.4714)\"><g class=\"a5 i1 leaf node n2 p0 sample\" transform=\"translate(-18.3333 2.12857)\"><path class=\"edge\" d=\"M 0 0 V -2.12857 H 18.3333\"/><rect class=\"sym\" height=\"6\" width=\"6\" x=\"-3\" y=\"-3\"/><text class=\"lab\" transform=\"translate(0 11)\">2</text></g><g class=\"a5 i1 leaf node n3 p0 sample\" transform=\"translate(18.3333 2.12857)\"><path class=\"edge\" d=\"M 0 0 V -2.12857 H -18.3333\"/><rect class=\"sym\" height=\"6\" width=\"6\" x=\"-3\" y=\"-3\"/><text class=\"lab\" transform=\"translate(0 11)\">3</text></g><path class=\"edge\" d=\"M 0 0 V -92.4714 H -36.6667\"/><circle class=\"sym\" cx=\"0\" cy=\"0\" r=\"3\"/><text class=\"lab rgt\" transform=\"translate(3 -7.0)\">5</text></g><g class=\"a8 node n7 p0\" transform=\"translate(-36.6667 44.8211)\"><g class=\"a7 i0 leaf node n0 p0 sample\" transform=\"translate(-18.3333 49.7789)\"><path class=\"edge\" d=\"M 0 0 V -49.7789 H 18.3333\"/><rect class=\"sym\" height=\"6\" width=\"6\" x=\"-3\" y=\"-3\"/><text class=\"lab\" transform=\"translate(0 11)\">0</text></g><g class=\"a7 i0 leaf node n1 p0 sample\" transform=\"translate(18.3333 49.7789)\"><path class=\"edge\" d=\"M 0 0 V -49.7789 H -18.3333\"/><rect class=\"sym\" height=\"6\" width=\"6\" x=\"-3\" y=\"-3\"/><text class=\"lab\" transform=\"translate(0 11)\">1</text></g><path class=\"edge\" d=\"M 0 0 V -44.8211 H 36.6667\"/><circle class=\"sym\" cx=\"0\" cy=\"0\" r=\"3\"/><text class=\"lab lft\" transform=\"translate(-3 -7.0)\">7</text></g><circle class=\"sym\" cx=\"0\" cy=\"0\" r=\"3\"/><text class=\"lab\" transform=\"translate(0 -11)\">8</text></g></g></g><g class=\"tree t1\" transform=\"translate(206.667 0)\"><g class=\"plotbox\"><g class=\"node n8 p0 root\" transform=\"translate(93.3333 26.8)\"><g class=\"a8 node n5 p0\" transform=\"translate(36.6667 92.4714)\"><g class=\"a5 i1 leaf node n2 p0 sample\" transform=\"translate(-18.3333 2.12857)\"><path class=\"edge\" d=\"M 0 0 V -2.12857 H 18.3333\"/><rect class=\"sym\" height=\"6\" width=\"6\" x=\"-3\" y=\"-3\"/><text class=\"lab\" transform=\"translate(0 11)\">2</text></g><g class=\"a5 i1 leaf node n3 p0 sample\" transform=\"translate(18.3333 2.12857)\"><path class=\"edge\" d=\"M 0 0 V -2.12857 H -18.3333\"/><rect class=\"sym\" height=\"6\" width=\"6\" x=\"-3\" y=\"-3\"/><text class=\"lab\" transform=\"translate(0 11)\">3</text></g><path class=\"edge\" d=\"M 0 0 V -92.4714 H -36.6667\"/><circle class=\"sym\" cx=\"0\" cy=\"0\" r=\"3\"/><text class=\"lab rgt\" transform=\"translate(3 -7.0)\">5</text></g><g class=\"a8 node n6 p0\" transform=\"translate(-36.6667 83.1051)\"><g class=\"a6 i0 leaf node n0 p0 sample\" transform=\"translate(-18.3333 11.4949)\"><path class=\"edge\" d=\"M 0 0 V -11.4949 H 18.3333\"/><rect class=\"sym\" height=\"6\" width=\"6\" x=\"-3\" y=\"-3\"/><text class=\"lab\" transform=\"translate(0 11)\">0</text></g><g class=\"a6 i0 leaf node n1 p0 sample\" transform=\"translate(18.3333 11.4949)\"><path class=\"edge\" d=\"M 0 0 V -11.4949 H -18.3333\"/><rect class=\"sym\" height=\"6\" width=\"6\" x=\"-3\" y=\"-3\"/><text class=\"lab\" transform=\"translate(0 11)\">1</text></g><path class=\"edge\" d=\"M 0 0 V -83.1051 H 36.6667\"/><circle class=\"sym\" cx=\"0\" cy=\"0\" r=\"3\"/><text class=\"lab lft\" transform=\"translate(-3 -7.0)\">6</text></g><circle class=\"sym\" cx=\"0\" cy=\"0\" r=\"3\"/><text class=\"lab\" transform=\"translate(0 -11)\">8</text></g></g></g><g class=\"tree t2\" transform=\"translate(393.333 0)\"><g class=\"plotbox\"><g class=\"node n8 p0 root\" transform=\"translate(79.5833 26.8)\"><g class=\"a8 node n5 p0\" transform=\"translate(41.25 92.4714)\"><g class=\"a5 i1 leaf node n3 p0 sample\" transform=\"translate(27.5 2.12857)\"><path class=\"edge\" d=\"M 0 0 V -2.12857 H -27.5\"/><rect class=\"sym\" height=\"6\" width=\"6\" x=\"-3\" y=\"-3\"/><text class=\"lab\" transform=\"translate(0 11)\">3</text></g><g class=\"a5 node n4 p0\" transform=\"translate(-27.5 1.65807)\"><g class=\"a4 i0 leaf node n1 p0 sample\" transform=\"translate(-18.3333 0.470498)\"><path class=\"edge\" d=\"M 0 0 V -0.470498 H 18.3333\"/><rect class=\"sym\" height=\"6\" width=\"6\" x=\"-3\" y=\"-3\"/><text class=\"lab\" transform=\"translate(0 11)\">1</text></g><g class=\"a4 i1 leaf node n2 p0 sample\" transform=\"translate(18.3333 0.470498)\"><path class=\"edge\" d=\"M 0 0 V -0.470498 H -18.3333\"/><rect class=\"sym\" height=\"6\" width=\"6\" x=\"-3\" y=\"-3\"/><text class=\"lab\" transform=\"translate(0 11)\">2</text></g><path class=\"edge\" d=\"M 0 0 V -1.65807 H 27.5\"/><circle class=\"sym\" cx=\"0\" cy=\"0\" r=\"3\"/><text class=\"lab lft\" transform=\"translate(-3 -7.0)\">4</text></g><path class=\"edge\" d=\"M 0 0 V -92.4714 H -41.25\"/><circle class=\"sym\" cx=\"0\" cy=\"0\" r=\"3\"/><text class=\"lab rgt\" transform=\"translate(3 -7.0)\">5</text></g><g class=\"a8 i0 leaf node n0 p0 sample\" transform=\"translate(-41.25 94.6)\"><path class=\"edge\" d=\"M 0 0 V -94.6 H 41.25\"/><rect class=\"sym\" height=\"6\" width=\"6\" x=\"-3\" y=\"-3\"/><text class=\"lab\" transform=\"translate(0 11)\">0</text></g><circle class=\"sym\" cx=\"0\" cy=\"0\" r=\"3\"/><text class=\"lab\" transform=\"translate(0 -11)\">8</text></g></g></g></g></g></svg>"
      ],
      "text/plain": [
       "<IPython.core.display.SVG object>"
      ]
     },
     "execution_count": 55,
     "metadata": {
      "filenames": {
       "image/svg+xml": "/home/runner/work/tskit-site/tskit-site/docs/_build/jupyter_execute/ancestry_102_0.svg"
      }
     },
     "output_type": "execute_result"
    }
   ],
   "source": [
    "ts_simplified = ts2.simplify()\n",
    "SVG(ts_simplified.draw_svg())"
   ]
  },
  {
   "cell_type": "markdown",
   "id": "354c8507",
   "metadata": {},
   "source": [
    "(sec_ancestry_initial_state_demography)=\n",
    "\n",
    "### Interaction with demography\n",
    "\n",
    "In the previous example we saw how to combine two single population simulations.\n",
    "We can also combine more complex simulations involving\n",
    "{ref}`demography<sec_demography>`, but care needs to be taken to ensure that\n",
    "the correct models are simulated in each part of the simulation.\n",
    "Suppose we have simple model with a\n",
    "{ref}`population split<sec_demography_events_population_split>`:"
   ]
  },
  {
   "cell_type": "code",
   "execution_count": 56,
   "id": "80fdc1b0",
   "metadata": {},
   "outputs": [
    {
     "data": {
      "text/html": [
       "<div style=\"margin-left:20px\"><div><style scoped=\"\">\n",
       "            .tskit-table thead tr th:only-of-type {vertical-align: middle;}\n",
       "            .tskit-table thead tr th {text-align: center;vertical-align: top;}\n",
       "            .tskit-table tbody td {text-align: right;padding: 0.5em 0.5em;}\n",
       "            .tskit-table tbody th {padding: 0.5em 0.5em;}\n",
       "        </style><b>Populations (3)</b><table border=\"1\" class=\"tskit-table\"><thead><tr><th>id</th><th>name</th><th>description</th><th>initial_size</th><th>growth_rate</th><th>default_sampling_time</th><th>extra_metadata</th></tr></thead><tbody><tr><td>0</td><td>A</td><td>Contemporary population A</td><td>100.0</td><td>0</td><td>0</td><td>{}</td></tr><tr><td>1</td><td>B</td><td>Contemporary population B</td><td>200.0</td><td>0</td><td>0</td><td>{}</td></tr><tr><td>2</td><td>C</td><td>Ancestral population</td><td>300.0</td><td>0</td><td>1e+02</td><td>{}</td></tr></tbody></table></div><div><style scoped=\"\">\n",
       "            .tskit-table thead tr th:only-of-type {vertical-align: middle;}\n",
       "            .tskit-table thead tr th {text-align: center;vertical-align: top;}\n",
       "            .tskit-table tbody td {text-align: right;padding: 0.5em 0.5em;}\n",
       "            .tskit-table tbody th {padding: 0.5em 0.5em;}\n",
       "        </style><b>Migration matrix (all zero)</b><table border=\"1\" class=\"tskit-table\"><thead><tr></tr></thead><tbody></tbody></table></div><div><style scoped=\"\">\n",
       "            .tskit-table thead tr th:only-of-type {vertical-align: middle;}\n",
       "            .tskit-table thead tr th {text-align: center;vertical-align: top;}\n",
       "            .tskit-table tbody td {text-align: right;padding: 0.5em 0.5em;}\n",
       "            .tskit-table tbody th {padding: 0.5em 0.5em;}\n",
       "        </style><b>Events (1)</b><table border=\"1\" class=\"tskit-table\"><thead><tr><th>time</th><th>type</th><th>parameters</th><th>effect</th></tr></thead><tbody><tr><td>100</td><td><a href='https://tskit.dev/msprime/docs/latest/api.html#msprime.Demography.add_population_split'>Population Split</a></td><td>derived=[A, B], ancestral=C</td><td>Moves all lineages from derived populations &#x27;A&#x27; and &#x27;B&#x27; to the ancestral &#x27;C&#x27; population. Also set the derived populations to inactive, and all migration rates to and from the derived populations to zero.</td></tr></tbody></table></div></div>"
      ],
      "text/plain": [
       "Demography(populations=[Population(initial_size=100, growth_rate=0, name='A', description='Contemporary population A', extra_metadata={}, default_sampling_time=None, initially_active=None, id=0), Population(initial_size=200, growth_rate=0, name='B', description='Contemporary population B', extra_metadata={}, default_sampling_time=None, initially_active=None, id=1), Population(initial_size=300, growth_rate=0, name='C', description='Ancestral population', extra_metadata={}, default_sampling_time=100, initially_active=False, id=2)], events=[PopulationSplit(time=100, derived=['A', 'B'], ancestral='C')], migration_matrix=array([[0., 0., 0.],\n",
       "       [0., 0., 0.],\n",
       "       [0., 0., 0.]]))"
      ]
     },
     "execution_count": 56,
     "metadata": {},
     "output_type": "execute_result"
    }
   ],
   "source": [
    "demography = msprime.Demography()\n",
    "demography.add_population(name=\"A\", description=\"Contemporary population A\", initial_size=100)\n",
    "demography.add_population(name=\"B\", description=\"Contemporary population B\", initial_size=200)\n",
    "demography.add_population(name=\"C\", description=\"Ancestral population\", initial_size=300)\n",
    "demography.add_population_split(time=100, ancestral=\"C\", derived=[\"A\", \"B\"])\n",
    "demography"
   ]
  },
  {
   "cell_type": "markdown",
   "id": "0d6be90c",
   "metadata": {},
   "source": [
    "Then, we run a simulation of this model for 50 generations:"
   ]
  },
  {
   "cell_type": "code",
   "execution_count": 57,
   "id": "162cf1ce",
   "metadata": {},
   "outputs": [
    {
     "data": {
      "image/svg+xml": [
       "<svg xmlns=\"http://www.w3.org/2000/svg\" xmlns:ev=\"http://www.w3.org/2001/xml-events\" xmlns:xlink=\"http://www.w3.org/1999/xlink\" baseProfile=\"full\" height=\"200\" version=\"1.1\" width=\"200\"><defs><style type=\"text/css\"><![CDATA[.tree-sequence .background path {fill: #808080; fill-opacity:0}.tree-sequence .background path:nth-child(odd) {fill-opacity:.1}.axes {font-size: 14px}.x-axis .tick .lab {font-weight: bold}.axes, .tree {font-size: 14px; text-anchor:middle}.y-axis line.grid {stroke: #FAFAFA}.y-axis > .lab text {transform: translateX(0.8em) rotate(-90deg)}.x-axis .tick g {transform: translateY(0.9em)}.x-axis > .lab text {transform: translateY(-0.8em)}.axes line, .edge {stroke:black; fill:none}.node > .sym {fill: black; stroke: none}.site > .sym {stroke: black}.mut text {fill: red; font-style: italic}.mut line {fill: none; stroke: none}.mut .sym {fill: none; stroke: red}.node .mut .sym {stroke-width: 1.5px}.tree text, .tree-sequence text {dominant-baseline: central}.plotbox .lab.lft {text-anchor: end}.plotbox .lab.rgt {text-anchor: start}]]></style></defs><g class=\"tree-sequence\"><g class=\"background\"><path d=\"M56.8,0 l123.2,0 l0,138.2 l0,25 l0,5 l-123.2,0 l0,-5 l0,-25 l0,-138.2z\"/></g><g class=\"axes\"><g class=\"x-axis\"><g class=\"lab\" transform=\"translate(118.4,200)\"><text text-anchor=\"middle\">Genome position</text></g><line x1=\"56.8\" x2=\"180\" y1=\"163.2\" y2=\"163.2\"/><g class=\"tick\" transform=\"translate(56.8 163.2)\"><line x1=\"0\" x2=\"0\" y1=\"0\" y2=\"5\"/><g class=\"lab\" transform=\"translate(0,5)\"><text>0</text></g></g><g class=\"tick\" transform=\"translate(180 163.2)\"><line x1=\"0\" x2=\"0\" y1=\"0\" y2=\"5\"/><g class=\"lab\" transform=\"translate(0,5)\"><text>1</text></g></g></g><g class=\"y-axis\"><g class=\"lab\" transform=\"translate(0,65.7)\"><text text-anchor=\"middle\">Time</text></g><line x1=\"56.8\" x2=\"56.8\" y1=\"121.4\" y2=\"10\"/><g class=\"tick\" transform=\"translate(56.8 121.4)\"><line x1=\"0\" x2=\"-5\" y1=\"0\" y2=\"0\"/><g class=\"lab\" transform=\"translate(-5,0)\"><text text-anchor=\"end\">0.00</text></g></g><g class=\"tick\" transform=\"translate(56.8 40.9527)\"><line x1=\"0\" x2=\"-5\" y1=\"0\" y2=\"0\"/><g class=\"lab\" transform=\"translate(-5,0)\"><text text-anchor=\"end\">42.52</text></g></g><g class=\"tick\" transform=\"translate(56.8 26.8)\"><line x1=\"0\" x2=\"-5\" y1=\"0\" y2=\"0\"/><g class=\"lab\" transform=\"translate(-5,0)\"><text text-anchor=\"end\">50.00</text></g></g></g></g><g class=\"plotbox trees\"><g class=\"tree t0\" transform=\"translate(56.8 0)\"><g class=\"plotbox\"><g class=\"node n5 p0 root\" transform=\"translate(40.8 26.8)\"><g class=\"a5 node n4 p0\" transform=\"translate(0.0 14.1527)\"><g class=\"a4 i0 leaf node n0 p0 sample\" transform=\"translate(-10.4 80.4473)\"><path class=\"edge\" d=\"M 0 0 V -80.4473 H 10.4\"/><rect class=\"sym\" height=\"6\" width=\"6\" x=\"-3\" y=\"-3\"/><text class=\"lab\" transform=\"translate(0 11)\">0:A</text></g><g class=\"a4 i0 leaf node n1 p0 sample\" transform=\"translate(10.4 80.4473)\"><path class=\"edge\" d=\"M 0 0 V -80.4473 H -10.4\"/><rect class=\"sym\" height=\"6\" width=\"6\" x=\"-3\" y=\"-3\"/><text class=\"lab\" transform=\"translate(0 11)\">1:A</text></g><path class=\"edge\" d=\"M 0 0 V -14.1527 H 0.0\"/><circle class=\"sym\" cx=\"0\" cy=\"0\" r=\"3\"/><text class=\"lab lft\" transform=\"translate(-3 -7.0)\">4:A</text></g><circle class=\"sym\" cx=\"0\" cy=\"0\" r=\"3\"/><text class=\"lab\" transform=\"translate(0 -11)\">5:A</text></g><g class=\"node n7 p1 root\" transform=\"translate(72 26.8)\"><g class=\"a7 i1 leaf node n2 p1 sample\" transform=\"translate(0.0 94.6)\"><path class=\"edge\" d=\"M 0 0 V -94.6 H 0.0\"/><rect class=\"sym\" height=\"6\" width=\"6\" x=\"-3\" y=\"-3\"/><text class=\"lab\" transform=\"translate(0 11)\">2:B</text></g><circle class=\"sym\" cx=\"0\" cy=\"0\" r=\"3\"/><text class=\"lab\" transform=\"translate(0 -11)\">7:B</text></g><g class=\"node n6 p1 root\" transform=\"translate(92.8 26.8)\"><g class=\"a6 i1 leaf node n3 p1 sample\" transform=\"translate(0.0 94.6)\"><path class=\"edge\" d=\"M 0 0 V -94.6 H 0.0\"/><rect class=\"sym\" height=\"6\" width=\"6\" x=\"-3\" y=\"-3\"/><text class=\"lab\" transform=\"translate(0 11)\">3:B</text></g><circle class=\"sym\" cx=\"0\" cy=\"0\" r=\"3\"/><text class=\"lab\" transform=\"translate(0 -11)\">6:B</text></g></g></g></g></g></svg>"
      ],
      "text/plain": [
       "<IPython.core.display.SVG object>"
      ]
     },
     "execution_count": 57,
     "metadata": {
      "filenames": {
       "image/svg+xml": "/home/runner/work/tskit-site/tskit-site/docs/_build/jupyter_execute/ancestry_106_0.svg"
      }
     },
     "output_type": "execute_result"
    }
   ],
   "source": [
    "ts1 = msprime.sim_ancestry(\n",
    "    samples={\"A\": 1, \"B\": 1}, demography=demography, end_time=50, random_seed=1234)\n",
    "node_labels = {\n",
    "    node.id: f\"{node.id}:{ts1.population(node.population).metadata['name']}\"\n",
    "    for node in ts1.nodes()}\n",
    "SVG(ts1.draw_svg(node_labels=node_labels, y_axis=True))"
   ]
  },
  {
   "cell_type": "markdown",
   "id": "1719401c",
   "metadata": {},
   "source": [
    "After 50 generations we can see there has been a coalescence in population ``A``\n",
    "but none in ``B`` and we therefore have three lineages left when the simulation\n",
    "finishes. We can then continue the simulation based on this initial state:"
   ]
  },
  {
   "cell_type": "code",
   "execution_count": 58,
   "id": "9b3103b9",
   "metadata": {},
   "outputs": [
    {
     "data": {
      "image/svg+xml": [
       "<svg xmlns=\"http://www.w3.org/2000/svg\" xmlns:ev=\"http://www.w3.org/2001/xml-events\" xmlns:xlink=\"http://www.w3.org/1999/xlink\" baseProfile=\"full\" height=\"200\" version=\"1.1\" width=\"200\"><defs><style type=\"text/css\"><![CDATA[.tree-sequence .background path {fill: #808080; fill-opacity:0}.tree-sequence .background path:nth-child(odd) {fill-opacity:.1}.axes {font-size: 14px}.x-axis .tick .lab {font-weight: bold}.axes, .tree {font-size: 14px; text-anchor:middle}.y-axis line.grid {stroke: #FAFAFA}.y-axis > .lab text {transform: translateX(0.8em) rotate(-90deg)}.x-axis .tick g {transform: translateY(0.9em)}.x-axis > .lab text {transform: translateY(-0.8em)}.axes line, .edge {stroke:black; fill:none}.node > .sym {fill: black; stroke: none}.site > .sym {stroke: black}.mut text {fill: red; font-style: italic}.mut line {fill: none; stroke: none}.mut .sym {fill: none; stroke: red}.node .mut .sym {stroke-width: 1.5px}.tree text, .tree-sequence text {dominant-baseline: central}.plotbox .lab.lft {text-anchor: end}.plotbox .lab.rgt {text-anchor: start}]]></style></defs><g class=\"tree-sequence\"><g class=\"background\"><path d=\"M56.8,0 l123.2,0 l0,138.2 l0,25 l0,5 l-123.2,0 l0,-5 l0,-25 l0,-138.2z\"/></g><g class=\"axes\"><g class=\"x-axis\"><g class=\"lab\" transform=\"translate(118.4,200)\"><text text-anchor=\"middle\">Genome position</text></g><line x1=\"56.8\" x2=\"180\" y1=\"163.2\" y2=\"163.2\"/><g class=\"tick\" transform=\"translate(56.8 163.2)\"><line x1=\"0\" x2=\"0\" y1=\"0\" y2=\"5\"/><g class=\"lab\" transform=\"translate(0,5)\"><text>0</text></g></g><g class=\"tick\" transform=\"translate(180 163.2)\"><line x1=\"0\" x2=\"0\" y1=\"0\" y2=\"5\"/><g class=\"lab\" transform=\"translate(0,5)\"><text>1</text></g></g></g><g class=\"y-axis\"><g class=\"lab\" transform=\"translate(0,65.7)\"><text text-anchor=\"middle\">Time</text></g><line x1=\"56.8\" x2=\"56.8\" y1=\"121.4\" y2=\"10\"/><g class=\"tick\" transform=\"translate(56.8 121.4)\"><line x1=\"0\" x2=\"-5\" y1=\"0\" y2=\"0\"/><g class=\"lab\" transform=\"translate(-5,0)\"><text text-anchor=\"end\">0.00</text></g></g><g class=\"tick\" transform=\"translate(56.8 114.008)\"><line x1=\"0\" x2=\"-5\" y1=\"0\" y2=\"0\"/><g class=\"lab\" transform=\"translate(-5,0)\"><text text-anchor=\"end\">42.52</text></g></g><g class=\"tick\" transform=\"translate(56.8 112.708)\"><line x1=\"0\" x2=\"-5\" y1=\"0\" y2=\"0\"/><g class=\"lab\" transform=\"translate(-5,0)\"><text text-anchor=\"end\">50.00</text></g></g><g class=\"tick\" transform=\"translate(56.8 88.1604)\"><line x1=\"0\" x2=\"-5\" y1=\"0\" y2=\"0\"/><g class=\"lab\" transform=\"translate(-5,0)\"><text text-anchor=\"end\">191.21</text></g></g><g class=\"tick\" transform=\"translate(56.8 26.8)\"><line x1=\"0\" x2=\"-5\" y1=\"0\" y2=\"0\"/><g class=\"lab\" transform=\"translate(-5,0)\"><text text-anchor=\"end\">544.17</text></g></g></g></g><g class=\"plotbox trees\"><g class=\"tree t0\" transform=\"translate(56.8 0)\"><g class=\"plotbox\"><g class=\"node n9 p2 root\" transform=\"translate(74.6 26.8)\"><g class=\"a9 node n7 p1\" transform=\"translate(18.2 85.9079)\"><g class=\"a7 i1 leaf node n2 p1 sample\" transform=\"translate(0.0 8.69212)\"><path class=\"edge\" d=\"M 0 0 V -8.69212 H 0.0\"/><rect class=\"sym\" height=\"6\" width=\"6\" x=\"-3\" y=\"-3\"/><text class=\"lab\" transform=\"translate(0 11)\">2:B</text></g><path class=\"edge\" d=\"M 0 0 V -85.9079 H -18.2\"/><circle class=\"sym\" cx=\"0\" cy=\"0\" r=\"3\"/><text class=\"lab rgt\" transform=\"translate(3 -7.0)\">7:B</text></g><g class=\"a9 node n8 p2\" transform=\"translate(-18.2 61.3604)\"><g class=\"a8 node n5 p0\" transform=\"translate(-15.6 24.5474)\"><g class=\"a5 node n4 p0\" transform=\"translate(0.0 1.30039)\"><g class=\"a4 i0 leaf node n0 p0 sample\" transform=\"translate(-10.4 7.39173)\"><path class=\"edge\" d=\"M 0 0 V -7.39173 H 10.4\"/><rect class=\"sym\" height=\"6\" width=\"6\" x=\"-3\" y=\"-3\"/><text class=\"lab\" transform=\"translate(0 11)\">0:A</text></g><g class=\"a4 i0 leaf node n1 p0 sample\" transform=\"translate(10.4 7.39173)\"><path class=\"edge\" d=\"M 0 0 V -7.39173 H -10.4\"/><rect class=\"sym\" height=\"6\" width=\"6\" x=\"-3\" y=\"-3\"/><text class=\"lab\" transform=\"translate(0 11)\">1:A</text></g><path class=\"edge\" d=\"M 0 0 V -1.30039 H 0.0\"/><circle class=\"sym\" cx=\"0\" cy=\"0\" r=\"3\"/><text class=\"lab lft\" transform=\"translate(-3 -7.0)\">4:A</text></g><path class=\"edge\" d=\"M 0 0 V -24.5474 H 15.6\"/><circle class=\"sym\" cx=\"0\" cy=\"0\" r=\"3\"/><text class=\"lab lft\" transform=\"translate(-3 -7.0)\">5:A</text></g><g class=\"a8 node n6 p1\" transform=\"translate(15.6 24.5474)\"><g class=\"a6 i1 leaf node n3 p1 sample\" transform=\"translate(0.0 8.69212)\"><path class=\"edge\" d=\"M 0 0 V -8.69212 H 0.0\"/><rect class=\"sym\" height=\"6\" width=\"6\" x=\"-3\" y=\"-3\"/><text class=\"lab\" transform=\"translate(0 11)\">3:B</text></g><path class=\"edge\" d=\"M 0 0 V -24.5474 H -15.6\"/><circle class=\"sym\" cx=\"0\" cy=\"0\" r=\"3\"/><text class=\"lab rgt\" transform=\"translate(3 -7.0)\">6:B</text></g><path class=\"edge\" d=\"M 0 0 V -61.3604 H 18.2\"/><circle class=\"sym\" cx=\"0\" cy=\"0\" r=\"3\"/><text class=\"lab lft\" transform=\"translate(-3 -7.0)\">8:C</text></g><circle class=\"sym\" cx=\"0\" cy=\"0\" r=\"3\"/><text class=\"lab\" transform=\"translate(0 -11)\">9:C</text></g></g></g></g></g></svg>"
      ],
      "text/plain": [
       "<IPython.core.display.SVG object>"
      ]
     },
     "execution_count": 58,
     "metadata": {
      "filenames": {
       "image/svg+xml": "/home/runner/work/tskit-site/tskit-site/docs/_build/jupyter_execute/ancestry_108_0.svg"
      }
     },
     "output_type": "execute_result"
    }
   ],
   "source": [
    "ts2 = msprime.sim_ancestry(\n",
    "    initial_state=ts1, demography=demography, random_seed=5678)\n",
    "node_labels = {\n",
    "    node.id: f\"{node.id}:{ts2.population(node.population).metadata['name']}\"\n",
    "    for node in ts2.nodes()}\n",
    "SVG(ts2.draw_svg(node_labels=node_labels, y_axis=True))"
   ]
  },
  {
   "cell_type": "markdown",
   "id": "d8ba0ca7",
   "metadata": {},
   "source": [
    "Note that we use the **same** demography object, and so the lineages\n",
    "migrate and ultimately coalesce in population ``C``, as we'd expect.\n",
    "This is the simplest case, in which we already have the demography\n",
    "object which we can use to model the entire simulation from end-to-end.\n",
    "\n",
    "In other cases (e.g. when working with simulations from a different\n",
    "program), we don't have the {class}`.Demography` object at hand\n",
    "and we need to create one that is both compatible with the\n",
    "``initial_state`` tree sequence and reflects the demographic\n",
    "model that we are interested in using. The best way to do this\n",
    "is to use the {meth}`.Demography.from_tree_sequence` method to\n",
    "first get a base demography that is based on the\n",
    "tree sequence {ref}`population table<tskit:sec_population_table_definition>`\n",
    "and {ref}`metadata<tskit:sec_metadata>`:"
   ]
  },
  {
   "cell_type": "code",
   "execution_count": 59,
   "id": "2b5d6990",
   "metadata": {},
   "outputs": [
    {
     "data": {
      "text/html": [
       "<div style=\"margin-left:20px\"><div><style scoped=\"\">\n",
       "            .tskit-table thead tr th:only-of-type {vertical-align: middle;}\n",
       "            .tskit-table thead tr th {text-align: center;vertical-align: top;}\n",
       "            .tskit-table tbody td {text-align: right;padding: 0.5em 0.5em;}\n",
       "            .tskit-table tbody th {padding: 0.5em 0.5em;}\n",
       "        </style><b>Populations (3)</b><table border=\"1\" class=\"tskit-table\"><thead><tr><th>id</th><th>name</th><th>description</th><th>initial_size</th><th>growth_rate</th><th>default_sampling_time</th><th>extra_metadata</th></tr></thead><tbody><tr><td>0</td><td>A</td><td>Contemporary population A</td><td>0.0</td><td>0</td><td>0</td><td>{}</td></tr><tr><td>1</td><td>B</td><td>Contemporary population B</td><td>0.0</td><td>0</td><td>0</td><td>{}</td></tr><tr><td>2</td><td>C</td><td>Ancestral population</td><td>0.0</td><td>0</td><td>0</td><td>{}</td></tr></tbody></table></div><div><style scoped=\"\">\n",
       "            .tskit-table thead tr th:only-of-type {vertical-align: middle;}\n",
       "            .tskit-table thead tr th {text-align: center;vertical-align: top;}\n",
       "            .tskit-table tbody td {text-align: right;padding: 0.5em 0.5em;}\n",
       "            .tskit-table tbody th {padding: 0.5em 0.5em;}\n",
       "        </style><b>Migration matrix (all zero)</b><table border=\"1\" class=\"tskit-table\"><thead><tr></tr></thead><tbody></tbody></table></div><div><style scoped=\"\">\n",
       "            .tskit-table thead tr th:only-of-type {vertical-align: middle;}\n",
       "            .tskit-table thead tr th {text-align: center;vertical-align: top;}\n",
       "            .tskit-table tbody td {text-align: right;padding: 0.5em 0.5em;}\n",
       "            .tskit-table tbody th {padding: 0.5em 0.5em;}\n",
       "        </style><b>Events (0)</b><table border=\"1\" class=\"tskit-table\"><thead><tr></tr></thead><tbody></tbody></table></div></div>"
      ],
      "text/plain": [
       "Demography(populations=[Population(initial_size=0, growth_rate=0, name='A', description='Contemporary population A', extra_metadata={}, default_sampling_time=None, initially_active=None, id=0), Population(initial_size=0, growth_rate=0, name='B', description='Contemporary population B', extra_metadata={}, default_sampling_time=None, initially_active=None, id=1), Population(initial_size=0, growth_rate=0, name='C', description='Ancestral population', extra_metadata={}, default_sampling_time=None, initially_active=None, id=2)], events=[], migration_matrix=array([[0., 0., 0.],\n",
       "       [0., 0., 0.],\n",
       "       [0., 0., 0.]]))"
      ]
     },
     "execution_count": 59,
     "metadata": {},
     "output_type": "execute_result"
    }
   ],
   "source": [
    "demography = msprime.Demography.from_tree_sequence(ts1)\n",
    "demography"
   ]
  },
  {
   "cell_type": "markdown",
   "id": "af02c1a6",
   "metadata": {},
   "source": [
    "We can see that the population names and descriptions have been recovered\n",
    "from the tree sequence metadata but **no other information**: the\n",
    "population sizes are all zero and we no longer have a population split\n",
    "event. If we try to run a simulation using this demography we get an\n",
    "error:"
   ]
  },
  {
   "cell_type": "code",
   "execution_count": 60,
   "id": "e9456d9f",
   "metadata": {
    "tags": [
     "raises-exception"
    ]
   },
   "outputs": [
    {
     "ename": "InputError",
     "evalue": "Input error in initialise: Attempt to sample lineage in a population with size=0",
     "output_type": "error",
     "traceback": [
      "\u001b[0;31m---------------------------------------------------------------------------\u001b[0m",
      "\u001b[0;31mInputError\u001b[0m                                Traceback (most recent call last)",
      "\u001b[0;32m<ipython-input-60-e427bdafa23a>\u001b[0m in \u001b[0;36m<module>\u001b[0;34m\u001b[0m\n\u001b[0;32m----> 1\u001b[0;31m \u001b[0mts\u001b[0m \u001b[0;34m=\u001b[0m \u001b[0mmsprime\u001b[0m\u001b[0;34m.\u001b[0m\u001b[0msim_ancestry\u001b[0m\u001b[0;34m(\u001b[0m\u001b[0minitial_state\u001b[0m\u001b[0;34m=\u001b[0m\u001b[0mts1\u001b[0m\u001b[0;34m,\u001b[0m \u001b[0mdemography\u001b[0m\u001b[0;34m=\u001b[0m\u001b[0mdemography\u001b[0m\u001b[0;34m)\u001b[0m\u001b[0;34m\u001b[0m\u001b[0;34m\u001b[0m\u001b[0m\n\u001b[0m",
      "\u001b[0;32m~/work/tskit-site/tskit-site/msprime/ancestry.py\u001b[0m in \u001b[0;36msim_ancestry\u001b[0;34m(samples, demography, sequence_length, discrete_genome, recombination_rate, gene_conversion_rate, gene_conversion_tract_length, population_size, ploidy, model, initial_state, start_time, end_time, record_migrations, record_full_arg, num_labels, random_seed, num_replicates, replicate_index, record_provenance)\u001b[0m\n\u001b[1;32m   1145\u001b[0m         \u001b[0mframe\u001b[0m \u001b[0;34m=\u001b[0m \u001b[0minspect\u001b[0m\u001b[0;34m.\u001b[0m\u001b[0mcurrentframe\u001b[0m\u001b[0;34m(\u001b[0m\u001b[0;34m)\u001b[0m\u001b[0;34m\u001b[0m\u001b[0;34m\u001b[0m\u001b[0m\n\u001b[1;32m   1146\u001b[0m         \u001b[0mprovenance_dict\u001b[0m \u001b[0;34m=\u001b[0m \u001b[0m_build_provenance\u001b[0m\u001b[0;34m(\u001b[0m\u001b[0;34m\"sim_ancestry\"\u001b[0m\u001b[0;34m,\u001b[0m \u001b[0mrandom_seed\u001b[0m\u001b[0;34m,\u001b[0m \u001b[0mframe\u001b[0m\u001b[0;34m)\u001b[0m\u001b[0;34m\u001b[0m\u001b[0;34m\u001b[0m\u001b[0m\n\u001b[0;32m-> 1147\u001b[0;31m     sim = _parse_sim_ancestry(\n\u001b[0m\u001b[1;32m   1148\u001b[0m         \u001b[0msamples\u001b[0m\u001b[0;34m=\u001b[0m\u001b[0msamples\u001b[0m\u001b[0;34m,\u001b[0m\u001b[0;34m\u001b[0m\u001b[0;34m\u001b[0m\u001b[0m\n\u001b[1;32m   1149\u001b[0m         \u001b[0msequence_length\u001b[0m\u001b[0;34m=\u001b[0m\u001b[0msequence_length\u001b[0m\u001b[0;34m,\u001b[0m\u001b[0;34m\u001b[0m\u001b[0;34m\u001b[0m\u001b[0m\n",
      "\u001b[0;32m~/work/tskit-site/tskit-site/msprime/ancestry.py\u001b[0m in \u001b[0;36m_parse_sim_ancestry\u001b[0;34m(samples, sequence_length, recombination_rate, gene_conversion_rate, gene_conversion_tract_length, discrete_genome, population_size, demography, ploidy, model, initial_state, start_time, end_time, record_migrations, record_full_arg, num_labels, random_seed, init_for_debugger)\u001b[0m\n\u001b[1;32m    969\u001b[0m     \u001b[0mrandom_generator\u001b[0m \u001b[0;34m=\u001b[0m \u001b[0m_msprime\u001b[0m\u001b[0;34m.\u001b[0m\u001b[0mRandomGenerator\u001b[0m\u001b[0;34m(\u001b[0m\u001b[0mrandom_seed\u001b[0m\u001b[0;34m)\u001b[0m\u001b[0;34m\u001b[0m\u001b[0;34m\u001b[0m\u001b[0m\n\u001b[1;32m    970\u001b[0m \u001b[0;34m\u001b[0m\u001b[0m\n\u001b[0;32m--> 971\u001b[0;31m     return Simulator(\n\u001b[0m\u001b[1;32m    972\u001b[0m         \u001b[0mtables\u001b[0m\u001b[0;34m=\u001b[0m\u001b[0minitial_state\u001b[0m\u001b[0;34m,\u001b[0m\u001b[0;34m\u001b[0m\u001b[0;34m\u001b[0m\u001b[0m\n\u001b[1;32m    973\u001b[0m         \u001b[0mrecombination_map\u001b[0m\u001b[0;34m=\u001b[0m\u001b[0mrecombination_map\u001b[0m\u001b[0;34m,\u001b[0m\u001b[0;34m\u001b[0m\u001b[0;34m\u001b[0m\u001b[0m\n",
      "\u001b[0;32m~/work/tskit-site/tskit-site/msprime/ancestry.py\u001b[0m in \u001b[0;36m__init__\u001b[0;34m(self, tables, recombination_map, gene_conversion_map, gene_conversion_tract_length, discrete_genome, ploidy, demography, random_generator, models, store_migrations, store_full_arg, start_time, end_time, num_labels)\u001b[0m\n\u001b[1;32m   1256\u001b[0m \u001b[0;34m\u001b[0m\u001b[0m\n\u001b[1;32m   1257\u001b[0m         \u001b[0mstart_time\u001b[0m \u001b[0;34m=\u001b[0m \u001b[0;34m-\u001b[0m\u001b[0;36m1\u001b[0m \u001b[0;32mif\u001b[0m \u001b[0mstart_time\u001b[0m \u001b[0;32mis\u001b[0m \u001b[0;32mNone\u001b[0m \u001b[0;32melse\u001b[0m \u001b[0mstart_time\u001b[0m\u001b[0;34m\u001b[0m\u001b[0;34m\u001b[0m\u001b[0m\n\u001b[0;32m-> 1258\u001b[0;31m         super().__init__(\n\u001b[0m\u001b[1;32m   1259\u001b[0m             \u001b[0mtables\u001b[0m\u001b[0;34m=\u001b[0m\u001b[0mll_tables\u001b[0m\u001b[0;34m,\u001b[0m\u001b[0;34m\u001b[0m\u001b[0;34m\u001b[0m\u001b[0m\n\u001b[1;32m   1260\u001b[0m             \u001b[0mrecombination_map\u001b[0m\u001b[0;34m=\u001b[0m\u001b[0mll_recomb_map\u001b[0m\u001b[0;34m,\u001b[0m\u001b[0;34m\u001b[0m\u001b[0;34m\u001b[0m\u001b[0m\n",
      "\u001b[0;31mInputError\u001b[0m: Input error in initialise: Attempt to sample lineage in a population with size=0"
     ]
    }
   ],
   "source": [
    "ts = msprime.sim_ancestry(initial_state=ts1, demography=demography)"
   ]
  },
  {
   "cell_type": "markdown",
   "id": "c2761d18",
   "metadata": {},
   "source": [
    "To recover the original model we must update the {class}`.Population`\n",
    "objects in place and add the\n",
    "{ref}`population split<sec_demography_events_population_split>` event:"
   ]
  },
  {
   "cell_type": "code",
   "execution_count": 61,
   "id": "ba0ccdc4",
   "metadata": {},
   "outputs": [
    {
     "data": {
      "text/html": [
       "<div style=\"margin-left:20px\"><div><style scoped=\"\">\n",
       "            .tskit-table thead tr th:only-of-type {vertical-align: middle;}\n",
       "            .tskit-table thead tr th {text-align: center;vertical-align: top;}\n",
       "            .tskit-table tbody td {text-align: right;padding: 0.5em 0.5em;}\n",
       "            .tskit-table tbody th {padding: 0.5em 0.5em;}\n",
       "        </style><b>Populations (3)</b><table border=\"1\" class=\"tskit-table\"><thead><tr><th>id</th><th>name</th><th>description</th><th>initial_size</th><th>growth_rate</th><th>default_sampling_time</th><th>extra_metadata</th></tr></thead><tbody><tr><td>0</td><td>A</td><td>Contemporary population A</td><td>100.0</td><td>0</td><td>0</td><td>{}</td></tr><tr><td>1</td><td>B</td><td>Contemporary population B</td><td>200.0</td><td>0</td><td>0</td><td>{}</td></tr><tr><td>2</td><td>C</td><td>Ancestral population</td><td>300.0</td><td>0</td><td>1e+02</td><td>{}</td></tr></tbody></table></div><div><style scoped=\"\">\n",
       "            .tskit-table thead tr th:only-of-type {vertical-align: middle;}\n",
       "            .tskit-table thead tr th {text-align: center;vertical-align: top;}\n",
       "            .tskit-table tbody td {text-align: right;padding: 0.5em 0.5em;}\n",
       "            .tskit-table tbody th {padding: 0.5em 0.5em;}\n",
       "        </style><b>Migration matrix (all zero)</b><table border=\"1\" class=\"tskit-table\"><thead><tr></tr></thead><tbody></tbody></table></div><div><style scoped=\"\">\n",
       "            .tskit-table thead tr th:only-of-type {vertical-align: middle;}\n",
       "            .tskit-table thead tr th {text-align: center;vertical-align: top;}\n",
       "            .tskit-table tbody td {text-align: right;padding: 0.5em 0.5em;}\n",
       "            .tskit-table tbody th {padding: 0.5em 0.5em;}\n",
       "        </style><b>Events (1)</b><table border=\"1\" class=\"tskit-table\"><thead><tr><th>time</th><th>type</th><th>parameters</th><th>effect</th></tr></thead><tbody><tr><td>100</td><td><a href='https://tskit.dev/msprime/docs/latest/api.html#msprime.Demography.add_population_split'>Population Split</a></td><td>derived=[A, B], ancestral=C</td><td>Moves all lineages from derived populations &#x27;A&#x27; and &#x27;B&#x27; to the ancestral &#x27;C&#x27; population. Also set the derived populations to inactive, and all migration rates to and from the derived populations to zero.</td></tr></tbody></table></div></div>"
      ],
      "text/plain": [
       "Demography(populations=[Population(initial_size=100, growth_rate=0, name='A', description='Contemporary population A', extra_metadata={}, default_sampling_time=None, initially_active=None, id=0), Population(initial_size=200, growth_rate=0, name='B', description='Contemporary population B', extra_metadata={}, default_sampling_time=None, initially_active=None, id=1), Population(initial_size=300, growth_rate=0, name='C', description='Ancestral population', extra_metadata={}, default_sampling_time=100, initially_active=False, id=2)], events=[PopulationSplit(time=100, derived=['A', 'B'], ancestral='C')], migration_matrix=array([[0., 0., 0.],\n",
       "       [0., 0., 0.],\n",
       "       [0., 0., 0.]]))"
      ]
     },
     "execution_count": 61,
     "metadata": {},
     "output_type": "execute_result"
    }
   ],
   "source": [
    "demography[\"A\"].initial_size = 100\n",
    "demography[\"B\"].initial_size = 200\n",
    "demography[\"C\"].initial_size = 300\n",
    "demography.add_population_split(time=100, ancestral=\"C\", derived=[\"A\", \"B\"])\n",
    "demography"
   ]
  },
  {
   "cell_type": "markdown",
   "id": "f9b4a370",
   "metadata": {},
   "source": [
    ":::{note}\n",
    "See the {class}`.Demography` documentation for details on how to access\n",
    "{class}`.Population` objects.\n",
    ":::\n",
    "\n",
    "The demography that we obtain from {meth}`.Demography.from_tree_sequence`\n",
    "is really just a template, which we update and elaborate as we need.\n",
    "In particular, we are free to add more populations as needed.\n",
    "\n",
    "(sec_ancestry_initial_state_forward_simulations)=\n",
    "\n",
    "### Continuing forwards-time simulations (\"recapitating\")\n",
    "\n",
    "The most common use for the ``initial_state`` argument is to\n",
    "start the simulation from the output of a forwards-time simulation.\n",
    "Informally, we take an 'unfinished'\n",
    "tree sequence as a parameter to {func}`.sim_ancestry`, initialise the simulation\n",
    "from the state of this tree sequence and then run the simulation until\n",
    "coalescence. The returned tree sequence is then the result of taking the\n",
    "input tree sequence and completing the trees using the coalescent.\n",
    "\n",
    "This is useful for forwards-time simulators such as\n",
    "[SLiM](https://messerlab.org/slim/) and\n",
    "[fwdpy11](https://pypi.org/project/fwdpy11/)\n",
    "that can output tree sequences. By running\n",
    "forward-time simulation for a certain number of generations we obtain a\n",
    "tree sequence, but these trees may not have had sufficient time to\n",
    "reach a most recent common ancestor. By using the `initial_state` argument\n",
    "to {func}`.sim_ancestry` we can combine the best of both forwards- and\n",
    "backwards-time simulators. The recent past can be simulated forwards\n",
    "in time and the ancient past by the coalescent. The coalescent\n",
    "simulation is initialised by the root segments of the\n",
    "input tree sequence, ensuring that the minimal amount of ancestral\n",
    "material possible is simulated.\n",
    "\n",
    "Any tree sequence can be provided as input to this process, but there is a\n",
    "specific topological requirement that must be met for the simulations to be\n",
    "statistically correct. To ensure that ancestral segments are correctly\n",
    "associated within chromosomes when constructing the initial conditions for the\n",
    "coalescent simulation, forward-time simulators **must** retain the nodes\n",
    "corresponding to the initial generation. Furthermore, for every sample in the\n",
    "final generation (i.e. the extant population at the present time) there must be\n",
    "a path to one of the founder population nodes.\n",
    "\n",
    ":::{seealso}\n",
    "See the {ref}`recapitation tutorial<pyslim:sec_tutorial_recapitation>`\n",
    "from the [pyslim](https://github.com/tskit-dev/pyslim) documentation\n",
    "for a detailed explanation of this process when\n",
    "using [SLiM](https://messerlab.org/slim/).\n",
    ":::\n",
    "\n",
    "(sec_ancestry_models)=\n",
    "\n",
    "\n",
    "## Models\n",
    "\n",
    "The ancestry model determines the model under which the ancestral\n",
    "history of the sample is generated. It is concerned with the\n",
    "the basic processes of how (for example) common ancestor and\n",
    "recombination events occur. For example, the default\n",
    "\"standard\" or {ref}`sec_ancestry_models_hudson` is an\n",
    "efficient continuous time model, and the\n",
    "{ref}`sec_ancestry_models_dtwf` model allows\n",
    "for more detailed (if less efficient) simulations by\n",
    "making fewer mathematical approximations.\n",
    "We can combine multiple ancestry models in a simulation\n",
    "using a flexible {ref}`notation<sec_ancestry_models_specifying>`.\n",
    "\n",
    ":::{seealso}\n",
    "See the {ref}`sec_ancestry_quickref` for a summary of the available\n",
    "ancestry models\n",
    ":::\n",
    "\n",
    ":::{important}\n",
    "The ancestry model is distinct from the {ref}`demographic model<sec_demography>`,\n",
    "which is mostly independent of the chosen ancestry model.\n",
    ":::\n",
    "\n",
    "(sec_ancestry_models_specifying)=\n",
    "\n",
    "### Specifying ancestry models\n",
    "\n",
    "The ancestry models used during a simulation are specified using\n",
    "the ``model`` parameter to {func}`.sim_ancestry`. Each model is a\n",
    "subclass of the {class}`.AncestryModel` class (see the following\n",
    "subsections for the available models, and examples of their usage).\n",
    "\n",
    "#### Single models\n",
    "\n",
    "Most of the time we want to run a simulation under a single\n",
    "ancestry model. By default, we run simulations under the\n",
    "{class}`.StandardCoalescent` model. If we wish to run\n",
    "under a different model, we use the ``model`` argument to\n",
    "{func}`.sim_ancestry`. For example, here we use the\n",
    "{class}`SMC<.SmcApproxCoalescent>` model instead of the\n",
    "standard coalescent:"
   ]
  },
  {
   "cell_type": "code",
   "execution_count": 62,
   "id": "aa9ddea2",
   "metadata": {},
   "outputs": [],
   "source": [
    "ts1 = msprime.sim_ancestry(\n",
    "    10,\n",
    "    sequence_length=10,\n",
    "    recombination_rate=0.1,\n",
    "    model=msprime.SmcApproxCoalescent(),\n",
    "    random_seed=1234)"
   ]
  },
  {
   "cell_type": "markdown",
   "id": "b06ed960",
   "metadata": {},
   "source": [
    "We specify the model as an instance of one of the ancestry model classes.\n",
    "For nonparametric models, there is also a useful shorthand\n",
    "of the model name:"
   ]
  },
  {
   "cell_type": "code",
   "execution_count": 63,
   "id": "64dca4ca",
   "metadata": {},
   "outputs": [],
   "source": [
    "ts2 = msprime.sim_ancestry(\n",
    "    10,\n",
    "    sequence_length=10,\n",
    "    recombination_rate=0.1,\n",
    "    model=\"smc\",\n",
    "    random_seed=1234)\n",
    "assert ts1.equals(ts2, ignore_provenance=True)"
   ]
  },
  {
   "cell_type": "markdown",
   "id": "022b4742",
   "metadata": {},
   "source": [
    "This string form is useful for single model simulations;\n",
    "however, when working with\n",
    "{ref}`sec_ancestry_models_specifying_multiple` it is better to use\n",
    "the explicit class form so that the\n",
    "{ref}`sec_ancestry_models_specifying_duration` can be set.\n",
    "\n",
    "(sec_ancestry_models_specifying_duration)=\n",
    "#### Model duration\n",
    "\n",
    "Each ancestry model instance has a {attr}`~.AncestryModel.duration` associated\n",
    "with it. This is the maximum amount of time that this model can run for. Thus,\n",
    "if we wanted to run 10 generations of the {class}`.DiscreteTimeWrightFisher`\n",
    "model we could write:"
   ]
  },
  {
   "cell_type": "code",
   "execution_count": 64,
   "id": "9283e766",
   "metadata": {},
   "outputs": [
    {
     "data": {
      "image/svg+xml": [
       "<svg xmlns=\"http://www.w3.org/2000/svg\" xmlns:ev=\"http://www.w3.org/2001/xml-events\" xmlns:xlink=\"http://www.w3.org/1999/xlink\" baseProfile=\"full\" height=\"200\" version=\"1.1\" width=\"200\"><defs><style type=\"text/css\"><![CDATA[.tree-sequence .background path {fill: #808080; fill-opacity:0}.tree-sequence .background path:nth-child(odd) {fill-opacity:.1}.axes {font-size: 14px}.x-axis .tick .lab {font-weight: bold}.axes, .tree {font-size: 14px; text-anchor:middle}.y-axis line.grid {stroke: #FAFAFA}.y-axis > .lab text {transform: translateX(0.8em) rotate(-90deg)}.x-axis .tick g {transform: translateY(0.9em)}.x-axis > .lab text {transform: translateY(-0.8em)}.axes line, .edge {stroke:black; fill:none}.node > .sym {fill: black; stroke: none}.site > .sym {stroke: black}.mut text {fill: red; font-style: italic}.mut line {fill: none; stroke: none}.mut .sym {fill: none; stroke: red}.node .mut .sym {stroke-width: 1.5px}.tree text, .tree-sequence text {dominant-baseline: central}.plotbox .lab.lft {text-anchor: end}.plotbox .lab.rgt {text-anchor: start}]]></style></defs><g class=\"tree-sequence\"><g class=\"background\"><path d=\"M56.8,0 l123.2,0 l0,138.2 l0,25 l0,5 l-123.2,0 l0,-5 l0,-25 l0,-138.2z\"/></g><g class=\"axes\"><g class=\"x-axis\"><g class=\"lab\" transform=\"translate(118.4,200)\"><text text-anchor=\"middle\">Genome position</text></g><line x1=\"56.8\" x2=\"180\" y1=\"163.2\" y2=\"163.2\"/><g class=\"tick\" transform=\"translate(56.8 163.2)\"><line x1=\"0\" x2=\"0\" y1=\"0\" y2=\"5\"/><g class=\"lab\" transform=\"translate(0,5)\"><text>0</text></g></g><g class=\"tick\" transform=\"translate(180 163.2)\"><line x1=\"0\" x2=\"0\" y1=\"0\" y2=\"5\"/><g class=\"lab\" transform=\"translate(0,5)\"><text>1</text></g></g></g><g class=\"y-axis\"><g class=\"lab\" transform=\"translate(0,65.7)\"><text text-anchor=\"middle\">Time</text></g><line x1=\"56.8\" x2=\"56.8\" y1=\"121.4\" y2=\"10\"/><g class=\"tick\" transform=\"translate(56.8 121.4)\"><line x1=\"0\" x2=\"-5\" y1=\"0\" y2=\"0\"/><g class=\"lab\" transform=\"translate(-5,0)\"><text text-anchor=\"end\">0.00</text></g></g><g class=\"tick\" transform=\"translate(56.8 111.94)\"><line x1=\"0\" x2=\"-5\" y1=\"0\" y2=\"0\"/><g class=\"lab\" transform=\"translate(-5,0)\"><text text-anchor=\"end\">1.00</text></g></g><g class=\"tick\" transform=\"translate(56.8 102.48)\"><line x1=\"0\" x2=\"-5\" y1=\"0\" y2=\"0\"/><g class=\"lab\" transform=\"translate(-5,0)\"><text text-anchor=\"end\">2.00</text></g></g><g class=\"tick\" transform=\"translate(56.8 26.8)\"><line x1=\"0\" x2=\"-5\" y1=\"0\" y2=\"0\"/><g class=\"lab\" transform=\"translate(-5,0)\"><text text-anchor=\"end\">10.00</text></g></g></g></g><g class=\"plotbox trees\"><g class=\"tree t0\" transform=\"translate(56.8 0)\"><g class=\"plotbox\"><g class=\"node n10 p0 root\" transform=\"translate(33.8667 26.8)\"><g class=\"a10 node n7 p0\" transform=\"translate(0.0 75.68)\"><g class=\"a7 i0 leaf node n0 p0 sample\" transform=\"translate(-6.93333 18.92)\"><path class=\"edge\" d=\"M 0 0 V -18.92 H 6.93333\"/><rect class=\"sym\" height=\"6\" width=\"6\" x=\"-3\" y=\"-3\"/><text class=\"lab\" transform=\"translate(0 11)\">0</text></g><g class=\"a7 i2 leaf node n4 p0 sample\" transform=\"translate(6.93333 18.92)\"><path class=\"edge\" d=\"M 0 0 V -18.92 H -6.93333\"/><rect class=\"sym\" height=\"6\" width=\"6\" x=\"-3\" y=\"-3\"/><text class=\"lab\" transform=\"translate(0 11)\">4</text></g><path class=\"edge\" d=\"M 0 0 V -75.68 H 0.0\"/><circle class=\"sym\" cx=\"0\" cy=\"0\" r=\"3\"/><text class=\"lab lft\" transform=\"translate(-3 -7.0)\">7</text></g><circle class=\"sym\" cx=\"0\" cy=\"0\" r=\"3\"/><text class=\"lab\" transform=\"translate(0 -11)\">10</text></g><g class=\"node n11 p0 root\" transform=\"translate(54.6667 26.8)\"><g class=\"a11 i0 leaf node n1 p0 sample\" transform=\"translate(0.0 94.6)\"><path class=\"edge\" d=\"M 0 0 V -94.6 H 0.0\"/><rect class=\"sym\" height=\"6\" width=\"6\" x=\"-3\" y=\"-3\"/><text class=\"lab\" transform=\"translate(0 11)\">1</text></g><circle class=\"sym\" cx=\"0\" cy=\"0\" r=\"3\"/><text class=\"lab\" transform=\"translate(0 -11)\">11</text></g><g class=\"node n8 p0 root\" transform=\"translate(75.4667 26.8)\"><g class=\"a8 node n6 p0\" transform=\"translate(0.0 85.14)\"><g class=\"a6 i1 leaf node n2 p0 sample\" transform=\"translate(-6.93333 9.46)\"><path class=\"edge\" d=\"M 0 0 V -9.46 H 6.93333\"/><rect class=\"sym\" height=\"6\" width=\"6\" x=\"-3\" y=\"-3\"/><text class=\"lab\" transform=\"translate(0 11)\">2</text></g><g class=\"a6 i2 leaf node n5 p0 sample\" transform=\"translate(6.93333 9.46)\"><path class=\"edge\" d=\"M 0 0 V -9.46 H -6.93333\"/><rect class=\"sym\" height=\"6\" width=\"6\" x=\"-3\" y=\"-3\"/><text class=\"lab\" transform=\"translate(0 11)\">5</text></g><path class=\"edge\" d=\"M 0 0 V -85.14 H 0.0\"/><circle class=\"sym\" cx=\"0\" cy=\"0\" r=\"3\"/><text class=\"lab lft\" transform=\"translate(-3 -7.0)\">6</text></g><circle class=\"sym\" cx=\"0\" cy=\"0\" r=\"3\"/><text class=\"lab\" transform=\"translate(0 -11)\">8</text></g><g class=\"node n9 p0 root\" transform=\"translate(96.2667 26.8)\"><g class=\"a9 i1 leaf node n3 p0 sample\" transform=\"translate(0.0 94.6)\"><path class=\"edge\" d=\"M 0 0 V -94.6 H 0.0\"/><rect class=\"sym\" height=\"6\" width=\"6\" x=\"-3\" y=\"-3\"/><text class=\"lab\" transform=\"translate(0 11)\">3</text></g><circle class=\"sym\" cx=\"0\" cy=\"0\" r=\"3\"/><text class=\"lab\" transform=\"translate(0 -11)\">9</text></g></g></g></g></g></svg>"
      ],
      "text/plain": [
       "<IPython.core.display.SVG object>"
      ]
     },
     "execution_count": 64,
     "metadata": {
      "filenames": {
       "image/svg+xml": "/home/runner/work/tskit-site/tskit-site/docs/_build/jupyter_execute/ancestry_120_0.svg"
      }
     },
     "output_type": "execute_result"
    }
   ],
   "source": [
    "ts = msprime.sim_ancestry(\n",
    "    3,\n",
    "    population_size=10,\n",
    "    model=msprime.DiscreteTimeWrightFisher(duration=10),\n",
    "    random_seed=1234)\n",
    "SVG(ts.draw_svg(y_axis=True))"
   ]
  },
  {
   "cell_type": "markdown",
   "id": "209af430",
   "metadata": {},
   "source": [
    ":::{note}\n",
    "Using the duration value for a single model like this is identical to\n",
    "specifying an ``end_time`` value: see the {ref}`sec_ancestry_end_time`\n",
    "section for more information.\n",
    ":::\n",
    "\n",
    "It is vital to understand that the ``duration`` value here is **not**\n",
    "an absolute time at which the simulation must stop, but rather\n",
    "the number of generations that the model should run for. To illustrate\n",
    "this we can use the {ref}`start_time<sec_ancestry_start_time>` parameter:"
   ]
  },
  {
   "cell_type": "code",
   "execution_count": 65,
   "id": "77008e3e",
   "metadata": {},
   "outputs": [
    {
     "data": {
      "image/svg+xml": [
       "<svg xmlns=\"http://www.w3.org/2000/svg\" xmlns:ev=\"http://www.w3.org/2001/xml-events\" xmlns:xlink=\"http://www.w3.org/1999/xlink\" baseProfile=\"full\" height=\"200\" version=\"1.1\" width=\"200\"><defs><style type=\"text/css\"><![CDATA[.tree-sequence .background path {fill: #808080; fill-opacity:0}.tree-sequence .background path:nth-child(odd) {fill-opacity:.1}.axes {font-size: 14px}.x-axis .tick .lab {font-weight: bold}.axes, .tree {font-size: 14px; text-anchor:middle}.y-axis line.grid {stroke: #FAFAFA}.y-axis > .lab text {transform: translateX(0.8em) rotate(-90deg)}.x-axis .tick g {transform: translateY(0.9em)}.x-axis > .lab text {transform: translateY(-0.8em)}.axes line, .edge {stroke:black; fill:none}.node > .sym {fill: black; stroke: none}.site > .sym {stroke: black}.mut text {fill: red; font-style: italic}.mut line {fill: none; stroke: none}.mut .sym {fill: none; stroke: red}.node .mut .sym {stroke-width: 1.5px}.tree text, .tree-sequence text {dominant-baseline: central}.plotbox .lab.lft {text-anchor: end}.plotbox .lab.rgt {text-anchor: start}]]></style></defs><g class=\"tree-sequence\"><g class=\"background\"><path d=\"M56.8,0 l123.2,0 l0,138.2 l0,25 l0,5 l-123.2,0 l0,-5 l0,-25 l0,-138.2z\"/></g><g class=\"axes\"><g class=\"x-axis\"><g class=\"lab\" transform=\"translate(118.4,200)\"><text text-anchor=\"middle\">Genome position</text></g><line x1=\"56.8\" x2=\"180\" y1=\"163.2\" y2=\"163.2\"/><g class=\"tick\" transform=\"translate(56.8 163.2)\"><line x1=\"0\" x2=\"0\" y1=\"0\" y2=\"5\"/><g class=\"lab\" transform=\"translate(0,5)\"><text>0</text></g></g><g class=\"tick\" transform=\"translate(180 163.2)\"><line x1=\"0\" x2=\"0\" y1=\"0\" y2=\"5\"/><g class=\"lab\" transform=\"translate(0,5)\"><text>1</text></g></g></g><g class=\"y-axis\"><g class=\"lab\" transform=\"translate(0,65.7)\"><text text-anchor=\"middle\">Time</text></g><line x1=\"56.8\" x2=\"56.8\" y1=\"121.4\" y2=\"10\"/><g class=\"tick\" transform=\"translate(56.8 121.4)\"><line x1=\"0\" x2=\"-5\" y1=\"0\" y2=\"0\"/><g class=\"lab\" transform=\"translate(-5,0)\"><text text-anchor=\"end\">0.00</text></g></g><g class=\"tick\" transform=\"translate(56.8 83.56)\"><line x1=\"0\" x2=\"-5\" y1=\"0\" y2=\"0\"/><g class=\"lab\" transform=\"translate(-5,0)\"><text text-anchor=\"end\">6.00</text></g></g><g class=\"tick\" transform=\"translate(56.8 77.2533)\"><line x1=\"0\" x2=\"-5\" y1=\"0\" y2=\"0\"/><g class=\"lab\" transform=\"translate(-5,0)\"><text text-anchor=\"end\">7.00</text></g></g><g class=\"tick\" transform=\"translate(56.8 26.8)\"><line x1=\"0\" x2=\"-5\" y1=\"0\" y2=\"0\"/><g class=\"lab\" transform=\"translate(-5,0)\"><text text-anchor=\"end\">15.00</text></g></g></g></g><g class=\"plotbox trees\"><g class=\"tree t0\" transform=\"translate(56.8 0)\"><g class=\"plotbox\"><g class=\"node n10 p0 root\" transform=\"translate(33.8667 26.8)\"><g class=\"a10 node n7 p0\" transform=\"translate(0.0 50.4533)\"><g class=\"a7 i0 leaf node n0 p0 sample\" transform=\"translate(-6.93333 44.1467)\"><path class=\"edge\" d=\"M 0 0 V -44.1467 H 6.93333\"/><rect class=\"sym\" height=\"6\" width=\"6\" x=\"-3\" y=\"-3\"/><text class=\"lab\" transform=\"translate(0 11)\">0</text></g><g class=\"a7 i2 leaf node n4 p0 sample\" transform=\"translate(6.93333 44.1467)\"><path class=\"edge\" d=\"M 0 0 V -44.1467 H -6.93333\"/><rect class=\"sym\" height=\"6\" width=\"6\" x=\"-3\" y=\"-3\"/><text class=\"lab\" transform=\"translate(0 11)\">4</text></g><path class=\"edge\" d=\"M 0 0 V -50.4533 H 0.0\"/><circle class=\"sym\" cx=\"0\" cy=\"0\" r=\"3\"/><text class=\"lab lft\" transform=\"translate(-3 -7.0)\">7</text></g><circle class=\"sym\" cx=\"0\" cy=\"0\" r=\"3\"/><text class=\"lab\" transform=\"translate(0 -11)\">10</text></g><g class=\"node n11 p0 root\" transform=\"translate(54.6667 26.8)\"><g class=\"a11 i0 leaf node n1 p0 sample\" transform=\"translate(0.0 94.6)\"><path class=\"edge\" d=\"M 0 0 V -94.6 H 0.0\"/><rect class=\"sym\" height=\"6\" width=\"6\" x=\"-3\" y=\"-3\"/><text class=\"lab\" transform=\"translate(0 11)\">1</text></g><circle class=\"sym\" cx=\"0\" cy=\"0\" r=\"3\"/><text class=\"lab\" transform=\"translate(0 -11)\">11</text></g><g class=\"node n8 p0 root\" transform=\"translate(75.4667 26.8)\"><g class=\"a8 node n6 p0\" transform=\"translate(0.0 56.76)\"><g class=\"a6 i1 leaf node n2 p0 sample\" transform=\"translate(-6.93333 37.84)\"><path class=\"edge\" d=\"M 0 0 V -37.84 H 6.93333\"/><rect class=\"sym\" height=\"6\" width=\"6\" x=\"-3\" y=\"-3\"/><text class=\"lab\" transform=\"translate(0 11)\">2</text></g><g class=\"a6 i2 leaf node n5 p0 sample\" transform=\"translate(6.93333 37.84)\"><path class=\"edge\" d=\"M 0 0 V -37.84 H -6.93333\"/><rect class=\"sym\" height=\"6\" width=\"6\" x=\"-3\" y=\"-3\"/><text class=\"lab\" transform=\"translate(0 11)\">5</text></g><path class=\"edge\" d=\"M 0 0 V -56.76 H 0.0\"/><circle class=\"sym\" cx=\"0\" cy=\"0\" r=\"3\"/><text class=\"lab lft\" transform=\"translate(-3 -7.0)\">6</text></g><circle class=\"sym\" cx=\"0\" cy=\"0\" r=\"3\"/><text class=\"lab\" transform=\"translate(0 -11)\">8</text></g><g class=\"node n9 p0 root\" transform=\"translate(96.2667 26.8)\"><g class=\"a9 i1 leaf node n3 p0 sample\" transform=\"translate(0.0 94.6)\"><path class=\"edge\" d=\"M 0 0 V -94.6 H 0.0\"/><rect class=\"sym\" height=\"6\" width=\"6\" x=\"-3\" y=\"-3\"/><text class=\"lab\" transform=\"translate(0 11)\">3</text></g><circle class=\"sym\" cx=\"0\" cy=\"0\" r=\"3\"/><text class=\"lab\" transform=\"translate(0 -11)\">9</text></g></g></g></g></g></svg>"
      ],
      "text/plain": [
       "<IPython.core.display.SVG object>"
      ]
     },
     "execution_count": 65,
     "metadata": {
      "filenames": {
       "image/svg+xml": "/home/runner/work/tskit-site/tskit-site/docs/_build/jupyter_execute/ancestry_122_0.svg"
      }
     },
     "output_type": "execute_result"
    }
   ],
   "source": [
    "ts = msprime.sim_ancestry(\n",
    "    3,\n",
    "    population_size=10,\n",
    "    start_time=5,\n",
    "    model=msprime.DiscreteTimeWrightFisher(duration=10),\n",
    "    random_seed=1234)\n",
    "SVG(ts.draw_svg(y_axis=True))"
   ]
  },
  {
   "cell_type": "markdown",
   "id": "98d642e3",
   "metadata": {},
   "source": [
    "We can see that the simulation continued until 15 generations ago,\n",
    "because it didn't start until 5 generations ago and we then specified\n",
    "that the model should run for at most 10 generations.\n",
    "\n",
    "The model activity time is specified as a duration in this way\n",
    "as this is a natural way to specify\n",
    "{ref}`sec_ancestry_models_specifying_multiple`, in which\n",
    "some of the models may run for random periods of time.\n",
    "\n",
    "\n",
    "(sec_ancestry_models_specifying_completion)=\n",
    "\n",
    "#### Model completion\n",
    "\n",
    "Most ancestry models will run until the overall simulation has\n",
    "completed; that is, when we have simulated back to the most\n",
    "recent common ancestor at every position along the sequence.\n",
    "For example, the {class}`.StandardCoalescent` and\n",
    "{class}`.DiscreteTimeWrightFisher` models will simulate\n",
    "until coalescence, unless we explicitly indicate that we wish\n",
    "to stop the simulation early via the\n",
    "{ref}`model duration<sec_ancestry_models_specifying_duration>`\n",
    "or the {ref}`end_time<sec_ancestry_end_time>` parameter.\n",
    "\n",
    "Models such as {class}`.SweepGenicSelection` are different though:\n",
    "they are only defined for a limited amount of time and\n",
    "may not run until coalescence (see the\n",
    "{ref}`sec_ancestry_models_selective_sweeps`\n",
    "for more information on the model itself)."
   ]
  },
  {
   "cell_type": "code",
   "execution_count": 66,
   "id": "35df70da",
   "metadata": {},
   "outputs": [
    {
     "data": {
      "image/svg+xml": [
       "<svg xmlns=\"http://www.w3.org/2000/svg\" xmlns:ev=\"http://www.w3.org/2001/xml-events\" xmlns:xlink=\"http://www.w3.org/1999/xlink\" baseProfile=\"full\" height=\"200\" version=\"1.1\" width=\"200\"><defs><style type=\"text/css\"><![CDATA[.tree-sequence .background path {fill: #808080; fill-opacity:0}.tree-sequence .background path:nth-child(odd) {fill-opacity:.1}.axes {font-size: 14px}.x-axis .tick .lab {font-weight: bold}.axes, .tree {font-size: 14px; text-anchor:middle}.y-axis line.grid {stroke: #FAFAFA}.y-axis > .lab text {transform: translateX(0.8em) rotate(-90deg)}.x-axis .tick g {transform: translateY(0.9em)}.x-axis > .lab text {transform: translateY(-0.8em)}.axes line, .edge {stroke:black; fill:none}.node > .sym {fill: black; stroke: none}.site > .sym {stroke: black}.mut text {fill: red; font-style: italic}.mut line {fill: none; stroke: none}.mut .sym {fill: none; stroke: red}.node .mut .sym {stroke-width: 1.5px}.tree text, .tree-sequence text {dominant-baseline: central}.plotbox .lab.lft {text-anchor: end}.plotbox .lab.rgt {text-anchor: start}]]></style></defs><g class=\"tree-sequence\"><g class=\"background\"><path d=\"M56.8,0 l123.2,0 l0,138.2 l0,25 l0,5 l-123.2,0 l0,-5 l0,-25 l0,-138.2z\"/></g><g class=\"axes\"><g class=\"x-axis\"><g class=\"lab\" transform=\"translate(118.4,200)\"><text text-anchor=\"middle\">Genome position</text></g><line x1=\"56.8\" x2=\"180\" y1=\"163.2\" y2=\"163.2\"/><g class=\"tick\" transform=\"translate(56.8 163.2)\"><line x1=\"0\" x2=\"0\" y1=\"0\" y2=\"5\"/><g class=\"lab\" transform=\"translate(0,5)\"><text>0</text></g></g><g class=\"tick\" transform=\"translate(180 163.2)\"><line x1=\"0\" x2=\"0\" y1=\"0\" y2=\"5\"/><g class=\"lab\" transform=\"translate(0,5)\"><text>10</text></g></g></g><g class=\"y-axis\"><g class=\"lab\" transform=\"translate(0,65.7)\"><text text-anchor=\"middle\">Time</text></g><line x1=\"56.8\" x2=\"56.8\" y1=\"121.4\" y2=\"10\"/><g class=\"tick\" transform=\"translate(56.8 121.4)\"><line x1=\"0\" x2=\"-5\" y1=\"0\" y2=\"0\"/><g class=\"lab\" transform=\"translate(-5,0)\"><text text-anchor=\"end\">0.00</text></g></g><g class=\"tick\" transform=\"translate(56.8 104.887)\"><line x1=\"0\" x2=\"-5\" y1=\"0\" y2=\"0\"/><g class=\"lab\" transform=\"translate(-5,0)\"><text text-anchor=\"end\">5.27</text></g></g><g class=\"tick\" transform=\"translate(56.8 76.106)\"><line x1=\"0\" x2=\"-5\" y1=\"0\" y2=\"0\"/><g class=\"lab\" transform=\"translate(-5,0)\"><text text-anchor=\"end\">14.47</text></g></g><g class=\"tick\" transform=\"translate(56.8 26.8)\"><line x1=\"0\" x2=\"-5\" y1=\"0\" y2=\"0\"/><g class=\"lab\" transform=\"translate(-5,0)\"><text text-anchor=\"end\">30.22</text></g></g></g></g><g class=\"plotbox trees\"><g class=\"tree t0\" transform=\"translate(56.8 0)\"><g class=\"plotbox\"><g class=\"node n10 p0 root\" transform=\"translate(26.9333 26.8)\"><g class=\"a10 i0 leaf node n0 p0 sample\" transform=\"translate(0.0 94.6)\"><path class=\"edge\" d=\"M 0 0 V -94.6 H 0.0\"/><rect class=\"sym\" height=\"6\" width=\"6\" x=\"-3\" y=\"-3\"/><text class=\"lab\" transform=\"translate(0 11)\">0</text></g><circle class=\"sym\" cx=\"0\" cy=\"0\" r=\"3\"/><text class=\"lab\" transform=\"translate(0 -11)\">10</text></g><g class=\"node n8 p0 root\" transform=\"translate(47.7333 26.8)\"><g class=\"a8 i1 leaf node n3 p0 sample\" transform=\"translate(-6.93333 94.6)\"><path class=\"edge\" d=\"M 0 0 V -94.6 H 6.93333\"/><rect class=\"sym\" height=\"6\" width=\"6\" x=\"-3\" y=\"-3\"/><text class=\"lab\" transform=\"translate(0 11)\">3</text></g><g class=\"a8 i2 leaf node n5 p0 sample\" transform=\"translate(6.93333 94.6)\"><path class=\"edge\" d=\"M 0 0 V -94.6 H -6.93333\"/><rect class=\"sym\" height=\"6\" width=\"6\" x=\"-3\" y=\"-3\"/><text class=\"lab\" transform=\"translate(0 11)\">5</text></g><circle class=\"sym\" cx=\"0\" cy=\"0\" r=\"3\"/><text class=\"lab\" transform=\"translate(0 -11)\">8</text></g><g class=\"node n9 p0 root\" transform=\"translate(85.8667 26.8)\"><g class=\"a9 node n7 p0\" transform=\"translate(0.0 49.306)\"><g class=\"a7 i2 leaf node n4 p0 sample\" transform=\"translate(10.4 45.294)\"><path class=\"edge\" d=\"M 0 0 V -45.294 H -10.4\"/><rect class=\"sym\" height=\"6\" width=\"6\" x=\"-3\" y=\"-3\"/><text class=\"lab\" transform=\"translate(0 11)\">4</text></g><g class=\"a7 node n6 p0\" transform=\"translate(-10.4 28.7812)\"><g class=\"a6 i0 leaf node n1 p0 sample\" transform=\"translate(-6.93333 16.5128)\"><path class=\"edge\" d=\"M 0 0 V -16.5128 H 6.93333\"/><rect class=\"sym\" height=\"6\" width=\"6\" x=\"-3\" y=\"-3\"/><text class=\"lab\" transform=\"translate(0 11)\">1</text></g><g class=\"a6 i1 leaf node n2 p0 sample\" transform=\"translate(6.93333 16.5128)\"><path class=\"edge\" d=\"M 0 0 V -16.5128 H -6.93333\"/><rect class=\"sym\" height=\"6\" width=\"6\" x=\"-3\" y=\"-3\"/><text class=\"lab\" transform=\"translate(0 11)\">2</text></g><path class=\"edge\" d=\"M 0 0 V -28.7812 H 10.4\"/><circle class=\"sym\" cx=\"0\" cy=\"0\" r=\"3\"/><text class=\"lab lft\" transform=\"translate(-3 -7.0)\">6</text></g><path class=\"edge\" d=\"M 0 0 V -49.306 H 0.0\"/><circle class=\"sym\" cx=\"0\" cy=\"0\" r=\"3\"/><text class=\"lab lft\" transform=\"translate(-3 -7.0)\">7</text></g><circle class=\"sym\" cx=\"0\" cy=\"0\" r=\"3\"/><text class=\"lab\" transform=\"translate(0 -11)\">9</text></g></g></g></g></g></svg>"
      ],
      "text/plain": [
       "<IPython.core.display.SVG object>"
      ]
     },
     "execution_count": 66,
     "metadata": {
      "filenames": {
       "image/svg+xml": "/home/runner/work/tskit-site/tskit-site/docs/_build/jupyter_execute/ancestry_124_0.svg"
      }
     },
     "output_type": "execute_result"
    }
   ],
   "source": [
    "sweep = msprime.SweepGenicSelection(\n",
    "    position=5,\n",
    "    start_frequency=0.1,\n",
    "    end_frequency=0.9,\n",
    "    s=0.25,\n",
    "    dt=1e-6,\n",
    ")\n",
    "ts = msprime.sim_ancestry(\n",
    "    3,\n",
    "    sequence_length=10,\n",
    "    population_size=100,\n",
    "    model=sweep,\n",
    "    random_seed=1234)\n",
    "SVG(ts.draw_svg(y_axis=True))"
   ]
  },
  {
   "cell_type": "markdown",
   "id": "16ffcc53",
   "metadata": {},
   "source": [
    "Here, we see that even though we didn't specify\n",
    "a {ref}`model duration<sec_ancestry_models_specifying_duration>`\n",
    "or {ref}`end_time<sec_ancestry_end_time>` parameter the simulation\n",
    "has ended before we reached coalescence. In addition, the\n",
    "model duration is **random**:"
   ]
  },
  {
   "cell_type": "code",
   "execution_count": 67,
   "id": "3a179537",
   "metadata": {},
   "outputs": [
    {
     "data": {
      "image/svg+xml": [
       "<svg xmlns=\"http://www.w3.org/2000/svg\" xmlns:ev=\"http://www.w3.org/2001/xml-events\" xmlns:xlink=\"http://www.w3.org/1999/xlink\" baseProfile=\"full\" height=\"200\" version=\"1.1\" width=\"200\"><defs><style type=\"text/css\"><![CDATA[.tree-sequence .background path {fill: #808080; fill-opacity:0}.tree-sequence .background path:nth-child(odd) {fill-opacity:.1}.axes {font-size: 14px}.x-axis .tick .lab {font-weight: bold}.axes, .tree {font-size: 14px; text-anchor:middle}.y-axis line.grid {stroke: #FAFAFA}.y-axis > .lab text {transform: translateX(0.8em) rotate(-90deg)}.x-axis .tick g {transform: translateY(0.9em)}.x-axis > .lab text {transform: translateY(-0.8em)}.axes line, .edge {stroke:black; fill:none}.node > .sym {fill: black; stroke: none}.site > .sym {stroke: black}.mut text {fill: red; font-style: italic}.mut line {fill: none; stroke: none}.mut .sym {fill: none; stroke: red}.node .mut .sym {stroke-width: 1.5px}.tree text, .tree-sequence text {dominant-baseline: central}.plotbox .lab.lft {text-anchor: end}.plotbox .lab.rgt {text-anchor: start}]]></style></defs><g class=\"tree-sequence\"><g class=\"background\"><path d=\"M56.8,0 l123.2,0 l0,138.2 l0,25 l0,5 l-123.2,0 l0,-5 l0,-25 l0,-138.2z\"/></g><g class=\"axes\"><g class=\"x-axis\"><g class=\"lab\" transform=\"translate(118.4,200)\"><text text-anchor=\"middle\">Genome position</text></g><line x1=\"56.8\" x2=\"180\" y1=\"163.2\" y2=\"163.2\"/><g class=\"tick\" transform=\"translate(56.8 163.2)\"><line x1=\"0\" x2=\"0\" y1=\"0\" y2=\"5\"/><g class=\"lab\" transform=\"translate(0,5)\"><text>0</text></g></g><g class=\"tick\" transform=\"translate(180 163.2)\"><line x1=\"0\" x2=\"0\" y1=\"0\" y2=\"5\"/><g class=\"lab\" transform=\"translate(0,5)\"><text>10</text></g></g></g><g class=\"y-axis\"><g class=\"lab\" transform=\"translate(0,65.7)\"><text text-anchor=\"middle\">Time</text></g><line x1=\"56.8\" x2=\"56.8\" y1=\"121.4\" y2=\"10\"/><g class=\"tick\" transform=\"translate(56.8 121.4)\"><line x1=\"0\" x2=\"-5\" y1=\"0\" y2=\"0\"/><g class=\"lab\" transform=\"translate(-5,0)\"><text text-anchor=\"end\">0.00</text></g></g><g class=\"tick\" transform=\"translate(56.8 79.6954)\"><line x1=\"0\" x2=\"-5\" y1=\"0\" y2=\"0\"/><g class=\"lab\" transform=\"translate(-5,0)\"><text text-anchor=\"end\">12.41</text></g></g><g class=\"tick\" transform=\"translate(56.8 44.7757)\"><line x1=\"0\" x2=\"-5\" y1=\"0\" y2=\"0\"/><g class=\"lab\" transform=\"translate(-5,0)\"><text text-anchor=\"end\">22.80</text></g></g><g class=\"tick\" transform=\"translate(56.8 36.2554)\"><line x1=\"0\" x2=\"-5\" y1=\"0\" y2=\"0\"/><g class=\"lab\" transform=\"translate(-5,0)\"><text text-anchor=\"end\">25.33</text></g></g><g class=\"tick\" transform=\"translate(56.8 26.8)\"><line x1=\"0\" x2=\"-5\" y1=\"0\" y2=\"0\"/><g class=\"lab\" transform=\"translate(-5,0)\"><text text-anchor=\"end\">28.15</text></g></g></g></g><g class=\"plotbox trees\"><g class=\"tree t0\" transform=\"translate(56.8 0)\"><g class=\"plotbox\"><g class=\"node n10 p0 root\" transform=\"translate(26.9333 26.8)\"><g class=\"a10 i0 leaf node n1 p0 sample\" transform=\"translate(0.0 94.6)\"><path class=\"edge\" d=\"M 0 0 V -94.6 H 0.0\"/><rect class=\"sym\" height=\"6\" width=\"6\" x=\"-3\" y=\"-3\"/><text class=\"lab\" transform=\"translate(0 11)\">1</text></g><circle class=\"sym\" cx=\"0\" cy=\"0\" r=\"3\"/><text class=\"lab\" transform=\"translate(0 -11)\">10</text></g><g class=\"node n9 p0 root\" transform=\"translate(66.8 26.8)\"><g class=\"a9 node n7 p0\" transform=\"translate(19.0667 17.9757)\"><g class=\"a7 i2 leaf node n4 p0 sample\" transform=\"translate(10.4 76.6243)\"><path class=\"edge\" d=\"M 0 0 V -76.6243 H -10.4\"/><rect class=\"sym\" height=\"6\" width=\"6\" x=\"-3\" y=\"-3\"/><text class=\"lab\" transform=\"translate(0 11)\">4</text></g><g class=\"a7 node n6 p0\" transform=\"translate(-10.4 34.9197)\"><g class=\"a6 i1 leaf node n3 p0 sample\" transform=\"translate(-6.93333 41.7046)\"><path class=\"edge\" d=\"M 0 0 V -41.7046 H 6.93333\"/><rect class=\"sym\" height=\"6\" width=\"6\" x=\"-3\" y=\"-3\"/><text class=\"lab\" transform=\"translate(0 11)\">3</text></g><g class=\"a6 i2 leaf node n5 p0 sample\" transform=\"translate(6.93333 41.7046)\"><path class=\"edge\" d=\"M 0 0 V -41.7046 H -6.93333\"/><rect class=\"sym\" height=\"6\" width=\"6\" x=\"-3\" y=\"-3\"/><text class=\"lab\" transform=\"translate(0 11)\">5</text></g><path class=\"edge\" d=\"M 0 0 V -34.9197 H 10.4\"/><circle class=\"sym\" cx=\"0\" cy=\"0\" r=\"3\"/><text class=\"lab lft\" transform=\"translate(-3 -7.0)\">6</text></g><path class=\"edge\" d=\"M 0 0 V -17.9757 H -19.0667\"/><circle class=\"sym\" cx=\"0\" cy=\"0\" r=\"3\"/><text class=\"lab rgt\" transform=\"translate(3 -7.0)\">7</text></g><g class=\"a9 node n8 p0\" transform=\"translate(-19.0667 9.45536)\"><g class=\"a8 i0 leaf node n0 p0 sample\" transform=\"translate(-6.93333 85.1446)\"><path class=\"edge\" d=\"M 0 0 V -85.1446 H 6.93333\"/><rect class=\"sym\" height=\"6\" width=\"6\" x=\"-3\" y=\"-3\"/><text class=\"lab\" transform=\"translate(0 11)\">0</text></g><g class=\"a8 i1 leaf node n2 p0 sample\" transform=\"translate(6.93333 85.1446)\"><path class=\"edge\" d=\"M 0 0 V -85.1446 H -6.93333\"/><rect class=\"sym\" height=\"6\" width=\"6\" x=\"-3\" y=\"-3\"/><text class=\"lab\" transform=\"translate(0 11)\">2</text></g><path class=\"edge\" d=\"M 0 0 V -9.45536 H 19.0667\"/><circle class=\"sym\" cx=\"0\" cy=\"0\" r=\"3\"/><text class=\"lab lft\" transform=\"translate(-3 -7.0)\">8</text></g><circle class=\"sym\" cx=\"0\" cy=\"0\" r=\"3\"/><text class=\"lab\" transform=\"translate(0 -11)\">9</text></g></g></g></g></g></svg>"
      ],
      "text/plain": [
       "<IPython.core.display.SVG object>"
      ]
     },
     "execution_count": 67,
     "metadata": {
      "filenames": {
       "image/svg+xml": "/home/runner/work/tskit-site/tskit-site/docs/_build/jupyter_execute/ancestry_126_0.svg"
      }
     },
     "output_type": "execute_result"
    }
   ],
   "source": [
    "ts = msprime.sim_ancestry(\n",
    "    3,\n",
    "    sequence_length=10,\n",
    "    population_size=100,\n",
    "    model=sweep,\n",
    "    random_seed=12345)\n",
    "SVG(ts.draw_svg(y_axis=True))"
   ]
  },
  {
   "cell_type": "markdown",
   "id": "b0dc05a1",
   "metadata": {},
   "source": [
    "Here we ran the same simulation with a different random seed, and\n",
    "we can see that the time the model completed was different in\n",
    "the two cases (30.22 vs 28.15 generations ago).\n",
    "\n",
    ":::{note}\n",
    "Models such as {class}`.SweepGenicSelection` can also complete due\n",
    "to full coalescence.\n",
    ":::\n",
    "\n",
    "(sec_ancestry_models_specifying_multiple)=\n",
    "\n",
    "#### Multiple models\n",
    "\n",
    "Sometimes we are interested in combining different models in a simulation.\n",
    "To do this we provide a **list** of ancestry model instances as the\n",
    "``model`` argument to {func}`.sim_ancestry`. The models\n",
    "are run in the order they are specified. For each model, if its\n",
    "{attr}`~.AncestryModel.duration` is set, then the simulation will run\n",
    "for at most that additional time duration. If the ``duration`` is\n",
    "not set (or ``None``), then the model will run until\n",
    "{ref}`completion<sec_ancestry_models_specifying_completion>`.\n",
    "\n",
    "\n",
    "For example, here we run a hybrid DTWF and coalescent\n",
    "simulation (see the {ref}`sec_ancestry_models_dtwf` section for more\n",
    "details):"
   ]
  },
  {
   "cell_type": "code",
   "execution_count": 68,
   "id": "90eaf4cc",
   "metadata": {},
   "outputs": [],
   "source": [
    "ts = msprime.sim_ancestry(\n",
    "    2,\n",
    "    population_size=1000,\n",
    "    model=[\n",
    "        msprime.DiscreteTimeWrightFisher(duration=500),\n",
    "        msprime.StandardCoalescent(),\n",
    "    ],\n",
    "    random_seed=2\n",
    ")"
   ]
  },
  {
   "cell_type": "markdown",
   "id": "62487211",
   "metadata": {},
   "source": [
    ":::{warning}\n",
    "It is very imporant to remember to set a ``duration`` value in the first\n",
    "model here! Otherwise, the entire simulation will run under the DTWF model.\n",
    ":::\n",
    "\n",
    "In this example we've run the {class}`.DiscreteTimeWrightFisher`\n",
    "model for the first 500 generations, and then switched to the\n",
    "{class}`.StandardCoalescent`. Because we did not specify a\n",
    "``duration`` in the second model, it will run until coalescence.\n",
    "\n",
    ":::{note}\n",
    "Switching models at a fixed time point like this is equivalent to\n",
    "first running the DTWF phase of the simulation with ``end_time=500``\n",
    "and then using the output as the\n",
    "{ref}`initial state<sec_ancestry_initial_state>` for the simulation\n",
    "of the Hudson phase. The model switching syntax here is a little\n",
    "more convenient and efficient, however.\n",
    ":::\n",
    "\n",
    ":::{seealso}\n",
    "See the {ref}`sec_ancestry_models_selective_sweeps_multiple` section for\n",
    "an example of running many models with random durations.\n",
    ":::\n",
    "\n",
    ":::{tip}\n",
    "The logging output of msprime can be very useful when working with\n",
    "multiple models. See the {ref}`sec_logging` section for more\n",
    "details.\n",
    ":::\n",
    "\n",
    "(sec_ancestry_models_hudson)=\n",
    "\n",
    "### Hudson coalescent\n",
    "\n",
    "The {class}`standard coalescent<.StandardCoalescent>`\n",
    "is the default model in msprime. The algorithm\n",
    "for simulating the coalescent with recombination was developed\n",
    "by [Hudson (1983)](https://doi.org/10.1016/0040-5809(83)90013-8),\n",
    "and so we refer to it as the \"Hudson\" coalescent.\n",
    "\n",
    "Running a simulation without specifying a ``model`` is the\n",
    "same as running with ``model=\"hudson\"``:"
   ]
  },
  {
   "cell_type": "code",
   "execution_count": 69,
   "id": "0383e6ad",
   "metadata": {},
   "outputs": [],
   "source": [
    "ts1 = msprime.sim_ancestry(5, random_seed=2)\n",
    "ts2 = msprime.sim_ancestry(5, model=\"hudson\", random_seed=2)\n",
    "# This is the same simulation so tree sequences are equal\n",
    "assert ts1.equals(ts2, ignore_provenance=True)"
   ]
  },
  {
   "cell_type": "markdown",
   "id": "d4e57a9d",
   "metadata": {},
   "source": [
    "Time is measured in units of generations ago. This is a continuous time\n",
    "model, in which the simulation moves event-by-event backwards\n",
    "in time (contrasting with the {ref}`sec_ancestry_models_dtwf` model, which\n",
    "works generation-by-generation). Thus, we can have fractional\n",
    "generations, as in this example where the MRCA of the sample\n",
    "occurs 10.59 \"generations\" ago:"
   ]
  },
  {
   "cell_type": "code",
   "execution_count": 70,
   "id": "3fd55690",
   "metadata": {},
   "outputs": [
    {
     "data": {
      "image/svg+xml": [
       "<svg xmlns=\"http://www.w3.org/2000/svg\" xmlns:ev=\"http://www.w3.org/2001/xml-events\" xmlns:xlink=\"http://www.w3.org/1999/xlink\" baseProfile=\"full\" height=\"200\" version=\"1.1\" width=\"200\"><defs><style type=\"text/css\"><![CDATA[.tree-sequence .background path {fill: #808080; fill-opacity:0}.tree-sequence .background path:nth-child(odd) {fill-opacity:.1}.axes {font-size: 14px}.x-axis .tick .lab {font-weight: bold}.axes, .tree {font-size: 14px; text-anchor:middle}.y-axis line.grid {stroke: #FAFAFA}.y-axis > .lab text {transform: translateX(0.8em) rotate(-90deg)}.x-axis .tick g {transform: translateY(0.9em)}.x-axis > .lab text {transform: translateY(-0.8em)}.axes line, .edge {stroke:black; fill:none}.node > .sym {fill: black; stroke: none}.site > .sym {stroke: black}.mut text {fill: red; font-style: italic}.mut line {fill: none; stroke: none}.mut .sym {fill: none; stroke: red}.node .mut .sym {stroke-width: 1.5px}.tree text, .tree-sequence text {dominant-baseline: central}.plotbox .lab.lft {text-anchor: end}.plotbox .lab.rgt {text-anchor: start}]]></style></defs><g class=\"tree-sequence\"><g class=\"background\"><path d=\"M56.8,0 l123.2,0 l0,138.2 l0,25 l0,5 l-123.2,0 l0,-5 l0,-25 l0,-138.2z\"/></g><g class=\"axes\"><g class=\"x-axis\"><g class=\"lab\" transform=\"translate(118.4,200)\"><text text-anchor=\"middle\">Genome position</text></g><line x1=\"56.8\" x2=\"180\" y1=\"163.2\" y2=\"163.2\"/><g class=\"tick\" transform=\"translate(56.8 163.2)\"><line x1=\"0\" x2=\"0\" y1=\"0\" y2=\"5\"/><g class=\"lab\" transform=\"translate(0,5)\"><text>0</text></g></g><g class=\"tick\" transform=\"translate(180 163.2)\"><line x1=\"0\" x2=\"0\" y1=\"0\" y2=\"5\"/><g class=\"lab\" transform=\"translate(0,5)\"><text>1</text></g></g></g><g class=\"y-axis\"><g class=\"lab\" transform=\"translate(0,65.7)\"><text text-anchor=\"middle\">Time</text></g><line x1=\"56.8\" x2=\"56.8\" y1=\"121.4\" y2=\"10\"/><g class=\"tick\" transform=\"translate(56.8 121.4)\"><line x1=\"0\" x2=\"-5\" y1=\"0\" y2=\"0\"/><g class=\"lab\" transform=\"translate(-5,0)\"><text text-anchor=\"end\">0.00</text></g></g><g class=\"tick\" transform=\"translate(56.8 121.363)\"><line x1=\"0\" x2=\"-5\" y1=\"0\" y2=\"0\"/><g class=\"lab\" transform=\"translate(-5,0)\"><text text-anchor=\"end\">0.00</text></g></g><g class=\"tick\" transform=\"translate(56.8 121.092)\"><line x1=\"0\" x2=\"-5\" y1=\"0\" y2=\"0\"/><g class=\"lab\" transform=\"translate(-5,0)\"><text text-anchor=\"end\">0.03</text></g></g><g class=\"tick\" transform=\"translate(56.8 110.629)\"><line x1=\"0\" x2=\"-5\" y1=\"0\" y2=\"0\"/><g class=\"lab\" transform=\"translate(-5,0)\"><text text-anchor=\"end\">1.21</text></g></g><g class=\"tick\" transform=\"translate(56.8 62.7796)\"><line x1=\"0\" x2=\"-5\" y1=\"0\" y2=\"0\"/><g class=\"lab\" transform=\"translate(-5,0)\"><text text-anchor=\"end\">6.56</text></g></g><g class=\"tick\" transform=\"translate(56.8 26.8)\"><line x1=\"0\" x2=\"-5\" y1=\"0\" y2=\"0\"/><g class=\"lab\" transform=\"translate(-5,0)\"><text text-anchor=\"end\">10.59</text></g></g></g></g><g class=\"plotbox trees\"><g class=\"tree t0\" transform=\"translate(56.8 0)\"><g class=\"plotbox\"><g class=\"node n10 p0 root\" transform=\"translate(68.5333 26.8)\"><g class=\"a10 node n8 p0\" transform=\"translate(-20.8 83.8291)\"><g class=\"a8 node n6 p0\" transform=\"translate(13.8667 10.7334)\"><g class=\"a6 i1 leaf node n3 p0 sample\" transform=\"translate(-6.93333 0.0374811)\"><path class=\"edge\" d=\"M 0 0 V -0.0374811 H 6.93333\"/><rect class=\"sym\" height=\"6\" width=\"6\" x=\"-3\" y=\"-3\"/><text class=\"lab\" transform=\"translate(0 11)\">3</text></g><g class=\"a6 i2 leaf node n4 p0 sample\" transform=\"translate(6.93333 0.0374811)\"><path class=\"edge\" d=\"M 0 0 V -0.0374811 H -6.93333\"/><rect class=\"sym\" height=\"6\" width=\"6\" x=\"-3\" y=\"-3\"/><text class=\"lab\" transform=\"translate(0 11)\">4</text></g><path class=\"edge\" d=\"M 0 0 V -10.7334 H -13.8667\"/><circle class=\"sym\" cx=\"0\" cy=\"0\" r=\"3\"/><text class=\"lab rgt\" transform=\"translate(3 -7.0)\">6</text></g><g class=\"a8 node n7 p0\" transform=\"translate(-13.8667 10.4625)\"><g class=\"a7 i0 leaf node n0 p0 sample\" transform=\"translate(-6.93333 0.30835)\"><path class=\"edge\" d=\"M 0 0 V -0.30835 H 6.93333\"/><rect class=\"sym\" height=\"6\" width=\"6\" x=\"-3\" y=\"-3\"/><text class=\"lab\" transform=\"translate(0 11)\">0</text></g><g class=\"a7 i1 leaf node n2 p0 sample\" transform=\"translate(6.93333 0.30835)\"><path class=\"edge\" d=\"M 0 0 V -0.30835 H -6.93333\"/><rect class=\"sym\" height=\"6\" width=\"6\" x=\"-3\" y=\"-3\"/><text class=\"lab\" transform=\"translate(0 11)\">2</text></g><path class=\"edge\" d=\"M 0 0 V -10.4625 H 13.8667\"/><circle class=\"sym\" cx=\"0\" cy=\"0\" r=\"3\"/><text class=\"lab lft\" transform=\"translate(-3 -7.0)\">7</text></g><path class=\"edge\" d=\"M 0 0 V -83.8291 H 20.8\"/><circle class=\"sym\" cx=\"0\" cy=\"0\" r=\"3\"/><text class=\"lab lft\" transform=\"translate(-3 -7.0)\">8</text></g><g class=\"a10 node n9 p0\" transform=\"translate(20.8 35.9796)\"><g class=\"a9 i0 leaf node n1 p0 sample\" transform=\"translate(-6.93333 58.6204)\"><path class=\"edge\" d=\"M 0 0 V -58.6204 H 6.93333\"/><rect class=\"sym\" height=\"6\" width=\"6\" x=\"-3\" y=\"-3\"/><text class=\"lab\" transform=\"translate(0 11)\">1</text></g><g class=\"a9 i2 leaf node n5 p0 sample\" transform=\"translate(6.93333 58.6204)\"><path class=\"edge\" d=\"M 0 0 V -58.6204 H -6.93333\"/><rect class=\"sym\" height=\"6\" width=\"6\" x=\"-3\" y=\"-3\"/><text class=\"lab\" transform=\"translate(0 11)\">5</text></g><path class=\"edge\" d=\"M 0 0 V -35.9796 H -20.8\"/><circle class=\"sym\" cx=\"0\" cy=\"0\" r=\"3\"/><text class=\"lab rgt\" transform=\"translate(3 -7.0)\">9</text></g><circle class=\"sym\" cx=\"0\" cy=\"0\" r=\"3\"/><text class=\"lab\" transform=\"translate(0 -11)\">10</text></g></g></g></g></g></svg>"
      ],
      "text/plain": [
       "<IPython.core.display.SVG object>"
      ]
     },
     "execution_count": 70,
     "metadata": {
      "filenames": {
       "image/svg+xml": "/home/runner/work/tskit-site/tskit-site/docs/_build/jupyter_execute/ancestry_132_0.svg"
      }
     },
     "output_type": "execute_result"
    }
   ],
   "source": [
    "ts = msprime.sim_ancestry(3, random_seed=234)\n",
    "SVG(ts.draw_svg(y_axis=True))"
   ]
  },
  {
   "cell_type": "markdown",
   "id": "1700be33",
   "metadata": {},
   "source": [
    "This occurs because time is scaled to be proportional to\n",
    "the population size; if we run the same simulation with a\n",
    "different {ref}`population size<sec_ancestry_demography>`, we can see that\n",
    "the time values are simply scaled up accordingly\n",
    "(the default ``population_size`` is 1):"
   ]
  },
  {
   "cell_type": "code",
   "execution_count": 71,
   "id": "f5383d31",
   "metadata": {},
   "outputs": [
    {
     "data": {
      "image/svg+xml": [
       "<svg xmlns=\"http://www.w3.org/2000/svg\" xmlns:ev=\"http://www.w3.org/2001/xml-events\" xmlns:xlink=\"http://www.w3.org/1999/xlink\" baseProfile=\"full\" height=\"200\" version=\"1.1\" width=\"200\"><defs><style type=\"text/css\"><![CDATA[.tree-sequence .background path {fill: #808080; fill-opacity:0}.tree-sequence .background path:nth-child(odd) {fill-opacity:.1}.axes {font-size: 14px}.x-axis .tick .lab {font-weight: bold}.axes, .tree {font-size: 14px; text-anchor:middle}.y-axis line.grid {stroke: #FAFAFA}.y-axis > .lab text {transform: translateX(0.8em) rotate(-90deg)}.x-axis .tick g {transform: translateY(0.9em)}.x-axis > .lab text {transform: translateY(-0.8em)}.axes line, .edge {stroke:black; fill:none}.node > .sym {fill: black; stroke: none}.site > .sym {stroke: black}.mut text {fill: red; font-style: italic}.mut line {fill: none; stroke: none}.mut .sym {fill: none; stroke: red}.node .mut .sym {stroke-width: 1.5px}.tree text, .tree-sequence text {dominant-baseline: central}.plotbox .lab.lft {text-anchor: end}.plotbox .lab.rgt {text-anchor: start}]]></style></defs><g class=\"tree-sequence\"><g class=\"background\"><path d=\"M56.8,0 l123.2,0 l0,138.2 l0,25 l0,5 l-123.2,0 l0,-5 l0,-25 l0,-138.2z\"/></g><g class=\"axes\"><g class=\"x-axis\"><g class=\"lab\" transform=\"translate(118.4,200)\"><text text-anchor=\"middle\">Genome position</text></g><line x1=\"56.8\" x2=\"180\" y1=\"163.2\" y2=\"163.2\"/><g class=\"tick\" transform=\"translate(56.8 163.2)\"><line x1=\"0\" x2=\"0\" y1=\"0\" y2=\"5\"/><g class=\"lab\" transform=\"translate(0,5)\"><text>0</text></g></g><g class=\"tick\" transform=\"translate(180 163.2)\"><line x1=\"0\" x2=\"0\" y1=\"0\" y2=\"5\"/><g class=\"lab\" transform=\"translate(0,5)\"><text>1</text></g></g></g><g class=\"y-axis\"><g class=\"lab\" transform=\"translate(0,65.7)\"><text text-anchor=\"middle\">Time</text></g><line x1=\"56.8\" x2=\"56.8\" y1=\"121.4\" y2=\"10\"/><g class=\"tick\" transform=\"translate(56.8 121.4)\"><line x1=\"0\" x2=\"-5\" y1=\"0\" y2=\"0\"/><g class=\"lab\" transform=\"translate(-5,0)\"><text text-anchor=\"end\">0.00</text></g></g><g class=\"tick\" transform=\"translate(56.8 121.363)\"><line x1=\"0\" x2=\"-5\" y1=\"0\" y2=\"0\"/><g class=\"lab\" transform=\"translate(-5,0)\"><text text-anchor=\"end\">0.42</text></g></g><g class=\"tick\" transform=\"translate(56.8 121.092)\"><line x1=\"0\" x2=\"-5\" y1=\"0\" y2=\"0\"/><g class=\"lab\" transform=\"translate(-5,0)\"><text text-anchor=\"end\">3.45</text></g></g><g class=\"tick\" transform=\"translate(56.8 110.629)\"><line x1=\"0\" x2=\"-5\" y1=\"0\" y2=\"0\"/><g class=\"lab\" transform=\"translate(-5,0)\"><text text-anchor=\"end\">120.53</text></g></g><g class=\"tick\" transform=\"translate(56.8 62.7796)\"><line x1=\"0\" x2=\"-5\" y1=\"0\" y2=\"0\"/><g class=\"lab\" transform=\"translate(-5,0)\"><text text-anchor=\"end\">655.98</text></g></g><g class=\"tick\" transform=\"translate(56.8 26.8)\"><line x1=\"0\" x2=\"-5\" y1=\"0\" y2=\"0\"/><g class=\"lab\" transform=\"translate(-5,0)\"><text text-anchor=\"end\">1058.61</text></g></g></g></g><g class=\"plotbox trees\"><g class=\"tree t0\" transform=\"translate(56.8 0)\"><g class=\"plotbox\"><g class=\"node n10 p0 root\" transform=\"translate(68.5333 26.8)\"><g class=\"a10 node n8 p0\" transform=\"translate(-20.8 83.8291)\"><g class=\"a8 node n6 p0\" transform=\"translate(13.8667 10.7334)\"><g class=\"a6 i1 leaf node n3 p0 sample\" transform=\"translate(-6.93333 0.0374811)\"><path class=\"edge\" d=\"M 0 0 V -0.0374811 H 6.93333\"/><rect class=\"sym\" height=\"6\" width=\"6\" x=\"-3\" y=\"-3\"/><text class=\"lab\" transform=\"translate(0 11)\">3</text></g><g class=\"a6 i2 leaf node n4 p0 sample\" transform=\"translate(6.93333 0.0374811)\"><path class=\"edge\" d=\"M 0 0 V -0.0374811 H -6.93333\"/><rect class=\"sym\" height=\"6\" width=\"6\" x=\"-3\" y=\"-3\"/><text class=\"lab\" transform=\"translate(0 11)\">4</text></g><path class=\"edge\" d=\"M 0 0 V -10.7334 H -13.8667\"/><circle class=\"sym\" cx=\"0\" cy=\"0\" r=\"3\"/><text class=\"lab rgt\" transform=\"translate(3 -7.0)\">6</text></g><g class=\"a8 node n7 p0\" transform=\"translate(-13.8667 10.4625)\"><g class=\"a7 i0 leaf node n0 p0 sample\" transform=\"translate(-6.93333 0.30835)\"><path class=\"edge\" d=\"M 0 0 V -0.30835 H 6.93333\"/><rect class=\"sym\" height=\"6\" width=\"6\" x=\"-3\" y=\"-3\"/><text class=\"lab\" transform=\"translate(0 11)\">0</text></g><g class=\"a7 i1 leaf node n2 p0 sample\" transform=\"translate(6.93333 0.30835)\"><path class=\"edge\" d=\"M 0 0 V -0.30835 H -6.93333\"/><rect class=\"sym\" height=\"6\" width=\"6\" x=\"-3\" y=\"-3\"/><text class=\"lab\" transform=\"translate(0 11)\">2</text></g><path class=\"edge\" d=\"M 0 0 V -10.4625 H 13.8667\"/><circle class=\"sym\" cx=\"0\" cy=\"0\" r=\"3\"/><text class=\"lab lft\" transform=\"translate(-3 -7.0)\">7</text></g><path class=\"edge\" d=\"M 0 0 V -83.8291 H 20.8\"/><circle class=\"sym\" cx=\"0\" cy=\"0\" r=\"3\"/><text class=\"lab lft\" transform=\"translate(-3 -7.0)\">8</text></g><g class=\"a10 node n9 p0\" transform=\"translate(20.8 35.9796)\"><g class=\"a9 i0 leaf node n1 p0 sample\" transform=\"translate(-6.93333 58.6204)\"><path class=\"edge\" d=\"M 0 0 V -58.6204 H 6.93333\"/><rect class=\"sym\" height=\"6\" width=\"6\" x=\"-3\" y=\"-3\"/><text class=\"lab\" transform=\"translate(0 11)\">1</text></g><g class=\"a9 i2 leaf node n5 p0 sample\" transform=\"translate(6.93333 58.6204)\"><path class=\"edge\" d=\"M 0 0 V -58.6204 H -6.93333\"/><rect class=\"sym\" height=\"6\" width=\"6\" x=\"-3\" y=\"-3\"/><text class=\"lab\" transform=\"translate(0 11)\">5</text></g><path class=\"edge\" d=\"M 0 0 V -35.9796 H -20.8\"/><circle class=\"sym\" cx=\"0\" cy=\"0\" r=\"3\"/><text class=\"lab rgt\" transform=\"translate(3 -7.0)\">9</text></g><circle class=\"sym\" cx=\"0\" cy=\"0\" r=\"3\"/><text class=\"lab\" transform=\"translate(0 -11)\">10</text></g></g></g></g></g></svg>"
      ],
      "text/plain": [
       "<IPython.core.display.SVG object>"
      ]
     },
     "execution_count": 71,
     "metadata": {
      "filenames": {
       "image/svg+xml": "/home/runner/work/tskit-site/tskit-site/docs/_build/jupyter_execute/ancestry_134_0.svg"
      }
     },
     "output_type": "execute_result"
    }
   ],
   "source": [
    "ts = msprime.sim_ancestry(3, population_size=100, random_seed=234)\n",
    "SVG(ts.draw_svg(y_axis=True))"
   ]
  },
  {
   "cell_type": "markdown",
   "id": "e187a652",
   "metadata": {},
   "source": [
    ":::{seealso}\n",
    "The {ref}`ploidy<sec_ancestry_ploidy>` parameter also controls\n",
    "the time scale; the\n",
    "default here is the diploid time scale where time is measured\n",
    "in units of 4N generations.\n",
    ":::\n",
    "\n",
    "(sec_ancestry_models_smc)=\n",
    "\n",
    "### SMC approximations\n",
    "\n",
    "The {class}`SMC <.SmcApproxCoalescent>` and {class}`SMC' <.SmcPrimeApproxCoalescent>`\n",
    "are approximations of the continuous time\n",
    "{ref}`Hudson coalescent<sec_ancestry_models_hudson>` model. These were originally\n",
    "motivated largely by the need to simulate coalescent processes more efficiently\n",
    "than was possible using the software available at the time; however,\n",
    "[improved algorithms](https://doi.org/10.1371/journal.pcbi.1004842)\n",
    "mean that such approximations are now mostly unnecessary for simulations.\n",
    "\n",
    "The SMC and SMC' are however very important for inference, as the approximations\n",
    "have made many analytical advances possible.\n",
    "\n",
    "Since the SMC approximations are not required for simulation efficiency, these\n",
    "models are implemented using a naive rejection sampling approach in msprime.\n",
    "The implementation is intended to facilitate the study of the\n",
    "SMC approximations, rather than to be used in a general-purpose way.\n",
    "\n",
    "(sec_ancestry_models_dtwf)=\n",
    "\n",
    "### Discrete Time Wright-Fisher\n",
    "\n",
    "Msprime provides the option to perform discrete-time Wright-Fisher (DTWF)\n",
    "simulations for scenarios when the coalescent model is not appropriate, including large\n",
    "sample sizes, multiple chromosomes, or recent migration.\n",
    "Please see the {class}`API documentation<.DiscreteTimeWrightFisher>`\n",
    "for a formal description of the model,\n",
    "and [Nelson et al. 2020](https://doi.org/10.1371/journal.pgen.1008619) for\n",
    "more details and background information.\n",
    "\n",
    "To run DTWF simulations, we need to provide the ``model=\"dtwf\"`` argument\n",
    "to {func}`.sim_ancestry`:"
   ]
  },
  {
   "cell_type": "code",
   "execution_count": 72,
   "id": "afb8d5aa",
   "metadata": {},
   "outputs": [
    {
     "data": {
      "image/svg+xml": [
       "<svg xmlns=\"http://www.w3.org/2000/svg\" xmlns:ev=\"http://www.w3.org/2001/xml-events\" xmlns:xlink=\"http://www.w3.org/1999/xlink\" baseProfile=\"full\" height=\"200\" version=\"1.1\" width=\"200\"><defs><style type=\"text/css\"><![CDATA[.tree-sequence .background path {fill: #808080; fill-opacity:0}.tree-sequence .background path:nth-child(odd) {fill-opacity:.1}.axes {font-size: 14px}.x-axis .tick .lab {font-weight: bold}.axes, .tree {font-size: 14px; text-anchor:middle}.y-axis line.grid {stroke: #FAFAFA}.y-axis > .lab text {transform: translateX(0.8em) rotate(-90deg)}.x-axis .tick g {transform: translateY(0.9em)}.x-axis > .lab text {transform: translateY(-0.8em)}.axes line, .edge {stroke:black; fill:none}.node > .sym {fill: black; stroke: none}.site > .sym {stroke: black}.mut text {fill: red; font-style: italic}.mut line {fill: none; stroke: none}.mut .sym {fill: none; stroke: red}.node .mut .sym {stroke-width: 1.5px}.tree text, .tree-sequence text {dominant-baseline: central}.plotbox .lab.lft {text-anchor: end}.plotbox .lab.rgt {text-anchor: start}]]></style></defs><g class=\"tree-sequence\"><g class=\"background\"><path d=\"M56.8,0 l123.2,0 l0,138.2 l0,25 l0,5 l-123.2,0 l0,-5 l0,-25 l0,-138.2z\"/></g><g class=\"axes\"><g class=\"x-axis\"><g class=\"lab\" transform=\"translate(118.4,200)\"><text text-anchor=\"middle\">Genome position</text></g><line x1=\"56.8\" x2=\"180\" y1=\"163.2\" y2=\"163.2\"/><g class=\"tick\" transform=\"translate(56.8 163.2)\"><line x1=\"0\" x2=\"0\" y1=\"0\" y2=\"5\"/><g class=\"lab\" transform=\"translate(0,5)\"><text>0</text></g></g><g class=\"tick\" transform=\"translate(180 163.2)\"><line x1=\"0\" x2=\"0\" y1=\"0\" y2=\"5\"/><g class=\"lab\" transform=\"translate(0,5)\"><text>1</text></g></g></g><g class=\"y-axis\"><g class=\"lab\" transform=\"translate(0,65.7)\"><text text-anchor=\"middle\">Time</text></g><line x1=\"56.8\" x2=\"56.8\" y1=\"121.4\" y2=\"10\"/><g class=\"tick\" transform=\"translate(56.8 121.4)\"><line x1=\"0\" x2=\"-5\" y1=\"0\" y2=\"0\"/><g class=\"lab\" transform=\"translate(-5,0)\"><text text-anchor=\"end\">0.00</text></g></g><g class=\"tick\" transform=\"translate(56.8 103.374)\"><line x1=\"0\" x2=\"-5\" y1=\"0\" y2=\"0\"/><g class=\"lab\" transform=\"translate(-5,0)\"><text text-anchor=\"end\">1.00</text></g></g><g class=\"tick\" transform=\"translate(56.8 74.803)\"><line x1=\"0\" x2=\"-5\" y1=\"0\" y2=\"0\"/><g class=\"lab\" transform=\"translate(-5,0)\"><text text-anchor=\"end\">5.00</text></g></g><g class=\"tick\" transform=\"translate(56.8 64.2584)\"><line x1=\"0\" x2=\"-5\" y1=\"0\" y2=\"0\"/><g class=\"lab\" transform=\"translate(-5,0)\"><text text-anchor=\"end\">8.00</text></g></g><g class=\"tick\" transform=\"translate(56.8 59.0397)\"><line x1=\"0\" x2=\"-5\" y1=\"0\" y2=\"0\"/><g class=\"lab\" transform=\"translate(-5,0)\"><text text-anchor=\"end\">10.00</text></g></g><g class=\"tick\" transform=\"translate(56.8 26.8)\"><line x1=\"0\" x2=\"-5\" y1=\"0\" y2=\"0\"/><g class=\"lab\" transform=\"translate(-5,0)\"><text text-anchor=\"end\">37.00</text></g></g></g></g><g class=\"plotbox trees\"><g class=\"tree t0\" transform=\"translate(56.8 0)\"><g class=\"plotbox\"><g class=\"node n13 p0 root\" transform=\"translate(66.15 26.8)\"><g class=\"a13 node n10 p0\" transform=\"translate(-22.75 48.003)\"><g class=\"a10 i0 leaf node n1 p0 sample\" transform=\"translate(2.6 46.597)\"><path class=\"edge\" d=\"M 0 0 V -46.597 H -2.6\"/><rect class=\"sym\" height=\"6\" width=\"6\" x=\"-3\" y=\"-3\"/><text class=\"lab\" transform=\"translate(0 11)\">1</text></g><g class=\"a10 i3 leaf node n7 p0 sample\" transform=\"translate(13 46.597)\"><path class=\"edge\" d=\"M 0 0 V -46.597 H -13\"/><rect class=\"sym\" height=\"6\" width=\"6\" x=\"-3\" y=\"-3\"/><text class=\"lab\" transform=\"translate(0 11)\">7</text></g><g class=\"a10 node n9 p0\" transform=\"translate(-13 28.5708)\"><g class=\"a9 i0 leaf node n0 p0 sample\" transform=\"translate(-5.2 18.0262)\"><path class=\"edge\" d=\"M 0 0 V -18.0262 H 5.2\"/><rect class=\"sym\" height=\"6\" width=\"6\" x=\"-3\" y=\"-3\"/><text class=\"lab\" transform=\"translate(0 11)\">0</text></g><g class=\"a9 i1 leaf node n3 p0 sample\" transform=\"translate(5.2 18.0262)\"><path class=\"edge\" d=\"M 0 0 V -18.0262 H -5.2\"/><rect class=\"sym\" height=\"6\" width=\"6\" x=\"-3\" y=\"-3\"/><text class=\"lab\" transform=\"translate(0 11)\">3</text></g><path class=\"edge\" d=\"M 0 0 V -28.5708 H 13\"/><circle class=\"sym\" cx=\"0\" cy=\"0\" r=\"3\"/><text class=\"lab lft\" transform=\"translate(-3 -7.0)\">9</text></g><path class=\"edge\" d=\"M 0 0 V -48.003 H 22.75\"/><circle class=\"sym\" cx=\"0\" cy=\"0\" r=\"3\"/><text class=\"lab lft\" transform=\"translate(-3 -7.0)\">10</text></g><g class=\"a13 node n12 p0\" transform=\"translate(22.75 32.2397)\"><g class=\"a12 i2 leaf node n4 p0 sample\" transform=\"translate(9.1 62.3603)\"><path class=\"edge\" d=\"M 0 0 V -62.3603 H -9.1\"/><rect class=\"sym\" height=\"6\" width=\"6\" x=\"-3\" y=\"-3\"/><text class=\"lab\" transform=\"translate(0 11)\">4</text></g><g class=\"a12 node n11 p0\" transform=\"translate(-9.1 5.21869)\"><g class=\"a11 i2 leaf node n5 p0 sample\" transform=\"translate(7.8 57.1416)\"><path class=\"edge\" d=\"M 0 0 V -57.1416 H -7.8\"/><rect class=\"sym\" height=\"6\" width=\"6\" x=\"-3\" y=\"-3\"/><text class=\"lab\" transform=\"translate(0 11)\">5</text></g><g class=\"a11 node n8 p0\" transform=\"translate(-7.8 39.1154)\"><g class=\"a8 i1 leaf node n2 p0 sample\" transform=\"translate(-5.2 18.0262)\"><path class=\"edge\" d=\"M 0 0 V -18.0262 H 5.2\"/><rect class=\"sym\" height=\"6\" width=\"6\" x=\"-3\" y=\"-3\"/><text class=\"lab\" transform=\"translate(0 11)\">2</text></g><g class=\"a8 i3 leaf node n6 p0 sample\" transform=\"translate(5.2 18.0262)\"><path class=\"edge\" d=\"M 0 0 V -18.0262 H -5.2\"/><rect class=\"sym\" height=\"6\" width=\"6\" x=\"-3\" y=\"-3\"/><text class=\"lab\" transform=\"translate(0 11)\">6</text></g><path class=\"edge\" d=\"M 0 0 V -39.1154 H 7.8\"/><circle class=\"sym\" cx=\"0\" cy=\"0\" r=\"3\"/><text class=\"lab lft\" transform=\"translate(-3 -7.0)\">8</text></g><path class=\"edge\" d=\"M 0 0 V -5.21869 H 9.1\"/><circle class=\"sym\" cx=\"0\" cy=\"0\" r=\"3\"/><text class=\"lab lft\" transform=\"translate(-3 -7.0)\">11</text></g><path class=\"edge\" d=\"M 0 0 V -32.2397 H -22.75\"/><circle class=\"sym\" cx=\"0\" cy=\"0\" r=\"3\"/><text class=\"lab rgt\" transform=\"translate(3 -7.0)\">12</text></g><circle class=\"sym\" cx=\"0\" cy=\"0\" r=\"3\"/><text class=\"lab\" transform=\"translate(0 -11)\">13</text></g></g></g></g></g></svg>"
      ],
      "text/plain": [
       "<IPython.core.display.SVG object>"
      ]
     },
     "execution_count": 72,
     "metadata": {
      "filenames": {
       "image/svg+xml": "/home/runner/work/tskit-site/tskit-site/docs/_build/jupyter_execute/ancestry_136_0.svg"
      }
     },
     "output_type": "execute_result"
    }
   ],
   "source": [
    "ts = msprime.sim_ancestry(4, population_size=10, model=\"dtwf\", random_seed=7)\n",
    "SVG(ts.draw_svg(y_axis=True, tree_height_scale=\"log_time\"))"
   ]
  },
  {
   "cell_type": "markdown",
   "id": "2266f95d",
   "metadata": {},
   "source": [
    "There are a few important points to note here:\n",
    "\n",
    "1. All node times are integers (this is discrete time counted in generations);\n",
    "2. We can have **non-binary** nodes (see node 10);\n",
    "3. We can have **simultaneous** events (see nodes 8 and 9).\n",
    "\n",
    "Most features can be used with the DTWF model, and an error will be raised if\n",
    "you attempt to use a feature that is not implemented for DTWF. (Please let\n",
    "us know if this feature is important to you!)\n",
    "\n",
    ":::{important}\n",
    "For DTWF simulations with population structure, each row of the migration\n",
    "matrix must sum to one or less.\n",
    ":::\n",
    "\n",
    "Because DTWF simulations trace the history of a sample by going backwards\n",
    "in time generation-by-generation rather than event-by-event like the\n",
    "continuous time models, it is significantly slower to simulate than\n",
    "the standard coalescent.\n",
    "\n",
    "\"Hybrid\" simulations can be a good solution if DTWF simulations are\n",
    "slow. In this case we can use DTWF simulations for the recent past, and using\n",
    "the standard coalescent for the more distant past (where it is an excellent\n",
    "approximation of the discrete time model). Hybrid simulations\n",
    "of this type provide the best of computational efficiency and accuracy.\n",
    "\n",
    ":::{seealso}\n",
    "See [Nelson et al. 2020](https://doi.org/10.1371/journal.pgen.1008619) for\n",
    "more details and examples where the DTWF model is more realistic than\n",
    "the coalescent, and an assessment of the accuracy of hybrid simulations.\n",
    ":::\n",
    "\n",
    "For example, here we simulate with the DTWF model for 500 generations,\n",
    "before switching to the standard (Hudson) coalescent:"
   ]
  },
  {
   "cell_type": "code",
   "execution_count": 73,
   "id": "aa6f5390",
   "metadata": {},
   "outputs": [
    {
     "data": {
      "image/svg+xml": [
       "<svg xmlns=\"http://www.w3.org/2000/svg\" xmlns:ev=\"http://www.w3.org/2001/xml-events\" xmlns:xlink=\"http://www.w3.org/1999/xlink\" baseProfile=\"full\" height=\"200\" version=\"1.1\" width=\"200\"><defs><style type=\"text/css\"><![CDATA[.tree-sequence .background path {fill: #808080; fill-opacity:0}.tree-sequence .background path:nth-child(odd) {fill-opacity:.1}.axes {font-size: 14px}.x-axis .tick .lab {font-weight: bold}.axes, .tree {font-size: 14px; text-anchor:middle}.y-axis line.grid {stroke: #FAFAFA}.y-axis > .lab text {transform: translateX(0.8em) rotate(-90deg)}.x-axis .tick g {transform: translateY(0.9em)}.x-axis > .lab text {transform: translateY(-0.8em)}.axes line, .edge {stroke:black; fill:none}.node > .sym {fill: black; stroke: none}.site > .sym {stroke: black}.mut text {fill: red; font-style: italic}.mut line {fill: none; stroke: none}.mut .sym {fill: none; stroke: red}.node .mut .sym {stroke-width: 1.5px}.tree text, .tree-sequence text {dominant-baseline: central}.plotbox .lab.lft {text-anchor: end}.plotbox .lab.rgt {text-anchor: start}]]></style></defs><g class=\"tree-sequence\"><g class=\"background\"><path d=\"M56.8,0 l123.2,0 l0,138.2 l0,25 l0,5 l-123.2,0 l0,-5 l0,-25 l0,-138.2z\"/></g><g class=\"axes\"><g class=\"x-axis\"><g class=\"lab\" transform=\"translate(118.4,200)\"><text text-anchor=\"middle\">Genome position</text></g><line x1=\"56.8\" x2=\"180\" y1=\"163.2\" y2=\"163.2\"/><g class=\"tick\" transform=\"translate(56.8 163.2)\"><line x1=\"0\" x2=\"0\" y1=\"0\" y2=\"5\"/><g class=\"lab\" transform=\"translate(0,5)\"><text>0</text></g></g><g class=\"tick\" transform=\"translate(180 163.2)\"><line x1=\"0\" x2=\"0\" y1=\"0\" y2=\"5\"/><g class=\"lab\" transform=\"translate(0,5)\"><text>1</text></g></g></g><g class=\"y-axis\"><g class=\"lab\" transform=\"translate(0,65.7)\"><text text-anchor=\"middle\">Time</text></g><line x1=\"56.8\" x2=\"56.8\" y1=\"121.4\" y2=\"10\"/><g class=\"tick\" transform=\"translate(56.8 121.4)\"><line x1=\"0\" x2=\"-5\" y1=\"0\" y2=\"0\"/><g class=\"lab\" transform=\"translate(-5,0)\"><text text-anchor=\"end\">0.00</text></g></g><g class=\"tick\" transform=\"translate(56.8 69.5098)\"><line x1=\"0\" x2=\"-5\" y1=\"0\" y2=\"0\"/><g class=\"lab\" transform=\"translate(-5,0)\"><text text-anchor=\"end\">74.00</text></g></g><g class=\"tick\" transform=\"translate(56.8 49.0357)\"><line x1=\"0\" x2=\"-5\" y1=\"0\" y2=\"0\"/><g class=\"lab\" transform=\"translate(-5,0)\"><text text-anchor=\"end\">411.00</text></g></g><g class=\"tick\" transform=\"translate(56.8 26.8)\"><line x1=\"0\" x2=\"-5\" y1=\"0\" y2=\"0\"/><g class=\"lab\" transform=\"translate(-5,0)\"><text text-anchor=\"end\">2619.53</text></g></g></g></g><g class=\"plotbox trees\"><g class=\"tree t0\" transform=\"translate(56.8 0)\"><g class=\"plotbox\"><g class=\"node n6 p0 root\" transform=\"translate(61.6 26.8)\"><g class=\"a6 node n4 p0\" transform=\"translate(20.8 42.7098)\"><g class=\"a4 i0 leaf node n1 p0 sample\" transform=\"translate(-10.4 51.8902)\"><path class=\"edge\" d=\"M 0 0 V -51.8902 H 10.4\"/><rect class=\"sym\" height=\"6\" width=\"6\" x=\"-3\" y=\"-3\"/><text class=\"lab\" transform=\"translate(0 11)\">1</text></g><g class=\"a4 i1 leaf node n3 p0 sample\" transform=\"translate(10.4 51.8902)\"><path class=\"edge\" d=\"M 0 0 V -51.8902 H -10.4\"/><rect class=\"sym\" height=\"6\" width=\"6\" x=\"-3\" y=\"-3\"/><text class=\"lab\" transform=\"translate(0 11)\">3</text></g><path class=\"edge\" d=\"M 0 0 V -42.7098 H -20.8\"/><circle class=\"sym\" cx=\"0\" cy=\"0\" r=\"3\"/><text class=\"lab rgt\" transform=\"translate(3 -7.0)\">4</text></g><g class=\"a6 node n5 p0\" transform=\"translate(-20.8 22.2357)\"><g class=\"a5 i0 leaf node n0 p0 sample\" transform=\"translate(-10.4 72.3643)\"><path class=\"edge\" d=\"M 0 0 V -72.3643 H 10.4\"/><rect class=\"sym\" height=\"6\" width=\"6\" x=\"-3\" y=\"-3\"/><text class=\"lab\" transform=\"translate(0 11)\">0</text></g><g class=\"a5 i1 leaf node n2 p0 sample\" transform=\"translate(10.4 72.3643)\"><path class=\"edge\" d=\"M 0 0 V -72.3643 H -10.4\"/><rect class=\"sym\" height=\"6\" width=\"6\" x=\"-3\" y=\"-3\"/><text class=\"lab\" transform=\"translate(0 11)\">2</text></g><path class=\"edge\" d=\"M 0 0 V -22.2357 H 20.8\"/><circle class=\"sym\" cx=\"0\" cy=\"0\" r=\"3\"/><text class=\"lab lft\" transform=\"translate(-3 -7.0)\">5</text></g><circle class=\"sym\" cx=\"0\" cy=\"0\" r=\"3\"/><text class=\"lab\" transform=\"translate(0 -11)\">6</text></g></g></g></g></g></svg>"
      ],
      "text/plain": [
       "<IPython.core.display.SVG object>"
      ]
     },
     "execution_count": 73,
     "metadata": {
      "filenames": {
       "image/svg+xml": "/home/runner/work/tskit-site/tskit-site/docs/_build/jupyter_execute/ancestry_138_0.svg"
      }
     },
     "output_type": "execute_result"
    }
   ],
   "source": [
    "ts = msprime.sim_ancestry(\n",
    "    2,\n",
    "    population_size=1000,\n",
    "    model=[\n",
    "        msprime.DiscreteTimeWrightFisher(duration=500),\n",
    "        msprime.StandardCoalescent(),\n",
    "    ],\n",
    "    random_seed=4\n",
    ")\n",
    "SVG(ts.draw_svg(y_axis=True, tree_height_scale=\"log_time\"))"
   ]
  },
  {
   "cell_type": "markdown",
   "id": "8fc94fab",
   "metadata": {},
   "source": [
    "Because of the integer node times, we can see here that most of the coalescent\n",
    "happened during the Wright-Fisher phase of the simulation, and as-of 500\n",
    "generations in the past, there were only two lineages left. The continuous\n",
    "time standard coalescent model was then used to simulate the ancient past of\n",
    "these two lineages.\n",
    "\n",
    "See the {ref}`sec_ancestry_models_specifying` section for more details on\n",
    "how the use the ``model`` argument to {func}`.sim_ancestry` to run\n",
    "multiple models.\n",
    "\n",
    ":::{seealso}\n",
    "See the {ref}`sec_ancestry_multiple_chromosomes` section for information\n",
    "on how to simulate multiple chromosomes using the DTWF.\n",
    ":::\n",
    "\n",
    "(sec_ancestry_models_multiple_mergers)=\n",
    "\n",
    "### Multiple merger coalescents\n",
    "\n",
    "Some evolutionary scenarios, such as a skewed offspring distribution\n",
    "combined with a type III survivorship curve, range expansion, and\n",
    "rapid adaptation, can predict genealogies with up to four simultaneous\n",
    "multiple mergers. Msprime provides the option to simulate from two classes\n",
    "of such genealogical processes: the {class}`.BetaCoalescent` and\n",
    "the {class}`.DiracCoalescent`. Please see the API documentation for formal\n",
    "details of the models.\n",
    "\n",
    "For haploid organisms, both models result in genealogies in which\n",
    "any number of lineages can merge into a common ancestor,\n",
    "but only one merger event can take place at a given time. For {math}`p`-ploids,\n",
    "up to {math}`2p` simultaneous mergers can take place, corresponding to the\n",
    "{math}`2p` available parental chromosome copies.\n",
    "\n",
    "The diploid Beta-Xi-coalescent can be simulated as follows:"
   ]
  },
  {
   "cell_type": "code",
   "execution_count": 74,
   "id": "f24f5dff",
   "metadata": {},
   "outputs": [
    {
     "data": {
      "image/svg+xml": [
       "<svg xmlns=\"http://www.w3.org/2000/svg\" xmlns:ev=\"http://www.w3.org/2001/xml-events\" xmlns:xlink=\"http://www.w3.org/1999/xlink\" baseProfile=\"full\" height=\"200\" version=\"1.1\" width=\"200\"><defs><style type=\"text/css\"><![CDATA[.tree-sequence .background path {fill: #808080; fill-opacity:0}.tree-sequence .background path:nth-child(odd) {fill-opacity:.1}.axes {font-size: 14px}.x-axis .tick .lab {font-weight: bold}.axes, .tree {font-size: 14px; text-anchor:middle}.y-axis line.grid {stroke: #FAFAFA}.y-axis > .lab text {transform: translateX(0.8em) rotate(-90deg)}.x-axis .tick g {transform: translateY(0.9em)}.x-axis > .lab text {transform: translateY(-0.8em)}.axes line, .edge {stroke:black; fill:none}.node > .sym {fill: black; stroke: none}.site > .sym {stroke: black}.mut text {fill: red; font-style: italic}.mut line {fill: none; stroke: none}.mut .sym {fill: none; stroke: red}.node .mut .sym {stroke-width: 1.5px}.tree text, .tree-sequence text {dominant-baseline: central}.plotbox .lab.lft {text-anchor: end}.plotbox .lab.rgt {text-anchor: start}]]></style></defs><g class=\"tree-sequence\"><g class=\"background\"><path d=\"M20,0 l160,0 l0,138.2 l0,25 l0,5 l-160,0 l0,-5 l0,-25 l0,-138.2z\"/></g><g class=\"axes\"><g class=\"x-axis\"><g class=\"lab\" transform=\"translate(100,200)\"><text text-anchor=\"middle\">Genome position</text></g><line x1=\"20\" x2=\"180\" y1=\"163.2\" y2=\"163.2\"/><g class=\"tick\" transform=\"translate(20 163.2)\"><line x1=\"0\" x2=\"0\" y1=\"0\" y2=\"5\"/><g class=\"lab\" transform=\"translate(0,5)\"><text>0</text></g></g><g class=\"tick\" transform=\"translate(180 163.2)\"><line x1=\"0\" x2=\"0\" y1=\"0\" y2=\"5\"/><g class=\"lab\" transform=\"translate(0,5)\"><text>1</text></g></g></g></g><g class=\"plotbox trees\"><g class=\"tree t0\" transform=\"translate(20 0)\"><g class=\"plotbox\"><g class=\"node n16 p0 root\" transform=\"translate(98 26.8)\"><g class=\"a16 node n12 p0\" transform=\"translate(30 71.1024)\"><g class=\"a12 i4 leaf node n8 p0 sample\" transform=\"translate(-6 23.4976)\"><path class=\"edge\" d=\"M 0 0 V -23.4976 H 6\"/><rect class=\"sym\" height=\"6\" width=\"6\" x=\"-3\" y=\"-3\"/><text class=\"lab\" transform=\"translate(0 11)\">8</text></g><g class=\"a12 i4 leaf node n9 p0 sample\" transform=\"translate(6 23.4976)\"><path class=\"edge\" d=\"M 0 0 V -23.4976 H -6\"/><rect class=\"sym\" height=\"6\" width=\"6\" x=\"-3\" y=\"-3\"/><text class=\"lab\" transform=\"translate(0 11)\">9</text></g><path class=\"edge\" d=\"M 0 0 V -71.1024 H -30\"/><circle class=\"sym\" cx=\"0\" cy=\"0\" r=\"3\"/><text class=\"lab rgt\" transform=\"translate(3 -7.0)\">12</text></g><g class=\"a16 node n15 p0\" transform=\"translate(-30 50.5666)\"><g class=\"a15 node n11 p0\" transform=\"translate(-18 31.832)\"><g class=\"a11 i1 leaf node n2 p0 sample\" transform=\"translate(12 12.2014)\"><path class=\"edge\" d=\"M 0 0 V -12.2014 H -12\"/><rect class=\"sym\" height=\"6\" width=\"6\" x=\"-3\" y=\"-3\"/><text class=\"lab\" transform=\"translate(0 11)\">2</text></g><g class=\"a11 node n10 p0\" transform=\"translate(-12 1.6429)\"><g class=\"a10 i0 leaf node n0 p0 sample\" transform=\"translate(-12 10.5585)\"><path class=\"edge\" d=\"M 0 0 V -10.5585 H 12\"/><rect class=\"sym\" height=\"6\" width=\"6\" x=\"-3\" y=\"-3\"/><text class=\"lab\" transform=\"translate(0 11)\">0</text></g><g class=\"a10 i2 leaf node n4 p0 sample\" transform=\"translate(0.0 10.5585)\"><path class=\"edge\" d=\"M 0 0 V -10.5585 H 0.0\"/><rect class=\"sym\" height=\"6\" width=\"6\" x=\"-3\" y=\"-3\"/><text class=\"lab\" transform=\"translate(0 11)\">4</text></g><g class=\"a10 i3 leaf node n6 p0 sample\" transform=\"translate(12 10.5585)\"><path class=\"edge\" d=\"M 0 0 V -10.5585 H -12\"/><rect class=\"sym\" height=\"6\" width=\"6\" x=\"-3\" y=\"-3\"/><text class=\"lab\" transform=\"translate(0 11)\">6</text></g><path class=\"edge\" d=\"M 0 0 V -1.6429 H 12\"/><circle class=\"sym\" cx=\"0\" cy=\"0\" r=\"3\"/><text class=\"lab lft\" transform=\"translate(-3 -7.0)\">10</text></g><path class=\"edge\" d=\"M 0 0 V -31.832 H 18\"/><circle class=\"sym\" cx=\"0\" cy=\"0\" r=\"3\"/><text class=\"lab lft\" transform=\"translate(-3 -7.0)\">11</text></g><g class=\"a15 node n14 p0\" transform=\"translate(18 9.11835)\"><g class=\"a14 i0 leaf node n1 p0 sample\" transform=\"translate(-12 34.9151)\"><path class=\"edge\" d=\"M 0 0 V -34.9151 H 12\"/><rect class=\"sym\" height=\"6\" width=\"6\" x=\"-3\" y=\"-3\"/><text class=\"lab\" transform=\"translate(0 11)\">1</text></g><g class=\"a14 node n13 p0\" transform=\"translate(12 11.4175)\"><g class=\"a13 i1 leaf node n3 p0 sample\" transform=\"translate(-12 23.4976)\"><path class=\"edge\" d=\"M 0 0 V -23.4976 H 12\"/><rect class=\"sym\" height=\"6\" width=\"6\" x=\"-3\" y=\"-3\"/><text class=\"lab\" transform=\"translate(0 11)\">3</text></g><g class=\"a13 i2 leaf node n5 p0 sample\" transform=\"translate(0.0 23.4976)\"><path class=\"edge\" d=\"M 0 0 V -23.4976 H 0.0\"/><rect class=\"sym\" height=\"6\" width=\"6\" x=\"-3\" y=\"-3\"/><text class=\"lab\" transform=\"translate(0 11)\">5</text></g><g class=\"a13 i3 leaf node n7 p0 sample\" transform=\"translate(12 23.4976)\"><path class=\"edge\" d=\"M 0 0 V -23.4976 H -12\"/><rect class=\"sym\" height=\"6\" width=\"6\" x=\"-3\" y=\"-3\"/><text class=\"lab\" transform=\"translate(0 11)\">7</text></g><path class=\"edge\" d=\"M 0 0 V -11.4175 H -12\"/><circle class=\"sym\" cx=\"0\" cy=\"0\" r=\"3\"/><text class=\"lab rgt\" transform=\"translate(3 -7.0)\">13</text></g><path class=\"edge\" d=\"M 0 0 V -9.11835 H -18\"/><circle class=\"sym\" cx=\"0\" cy=\"0\" r=\"3\"/><text class=\"lab rgt\" transform=\"translate(3 -7.0)\">14</text></g><path class=\"edge\" d=\"M 0 0 V -50.5666 H 30\"/><circle class=\"sym\" cx=\"0\" cy=\"0\" r=\"3\"/><text class=\"lab lft\" transform=\"translate(-3 -7.0)\">15</text></g><circle class=\"sym\" cx=\"0\" cy=\"0\" r=\"3\"/><text class=\"lab\" transform=\"translate(0 -11)\">16</text></g></g></g></g></g></svg>"
      ],
      "text/plain": [
       "<IPython.core.display.SVG object>"
      ]
     },
     "execution_count": 74,
     "metadata": {
      "filenames": {
       "image/svg+xml": "/home/runner/work/tskit-site/tskit-site/docs/_build/jupyter_execute/ancestry_140_0.svg"
      }
     },
     "output_type": "execute_result"
    }
   ],
   "source": [
    "ts = msprime.sim_ancestry(\n",
    "    samples=5, ploidy=2, random_seed=1,\n",
    "    model=msprime.BetaCoalescent(alpha=1.001))\n",
    "SVG(ts.draw_svg())\n"
   ]
  },
  {
   "cell_type": "markdown",
   "id": "667622af",
   "metadata": {},
   "source": [
    "The specified value of {math}`\\alpha = 1.001` corresponds to a heavily skewed\n",
    "offspring distribution. Values closer to {math}`\\alpha = 2` result in trees\n",
    "whose distribution is closer to that of the standard coalescent, often featuring\n",
    "no multiple mergers for small sample sizes:"
   ]
  },
  {
   "cell_type": "code",
   "execution_count": 75,
   "id": "f74bc9ac",
   "metadata": {},
   "outputs": [
    {
     "data": {
      "image/svg+xml": [
       "<svg xmlns=\"http://www.w3.org/2000/svg\" xmlns:ev=\"http://www.w3.org/2001/xml-events\" xmlns:xlink=\"http://www.w3.org/1999/xlink\" baseProfile=\"full\" height=\"200\" version=\"1.1\" width=\"200\"><defs><style type=\"text/css\"><![CDATA[.tree-sequence .background path {fill: #808080; fill-opacity:0}.tree-sequence .background path:nth-child(odd) {fill-opacity:.1}.axes {font-size: 14px}.x-axis .tick .lab {font-weight: bold}.axes, .tree {font-size: 14px; text-anchor:middle}.y-axis line.grid {stroke: #FAFAFA}.y-axis > .lab text {transform: translateX(0.8em) rotate(-90deg)}.x-axis .tick g {transform: translateY(0.9em)}.x-axis > .lab text {transform: translateY(-0.8em)}.axes line, .edge {stroke:black; fill:none}.node > .sym {fill: black; stroke: none}.site > .sym {stroke: black}.mut text {fill: red; font-style: italic}.mut line {fill: none; stroke: none}.mut .sym {fill: none; stroke: red}.node .mut .sym {stroke-width: 1.5px}.tree text, .tree-sequence text {dominant-baseline: central}.plotbox .lab.lft {text-anchor: end}.plotbox .lab.rgt {text-anchor: start}]]></style></defs><g class=\"tree-sequence\"><g class=\"background\"><path d=\"M20,0 l160,0 l0,138.2 l0,25 l0,5 l-160,0 l0,-5 l0,-25 l0,-138.2z\"/></g><g class=\"axes\"><g class=\"x-axis\"><g class=\"lab\" transform=\"translate(100,200)\"><text text-anchor=\"middle\">Genome position</text></g><line x1=\"20\" x2=\"180\" y1=\"163.2\" y2=\"163.2\"/><g class=\"tick\" transform=\"translate(20 163.2)\"><line x1=\"0\" x2=\"0\" y1=\"0\" y2=\"5\"/><g class=\"lab\" transform=\"translate(0,5)\"><text>0</text></g></g><g class=\"tick\" transform=\"translate(180 163.2)\"><line x1=\"0\" x2=\"0\" y1=\"0\" y2=\"5\"/><g class=\"lab\" transform=\"translate(0,5)\"><text>1</text></g></g></g></g><g class=\"plotbox trees\"><g class=\"tree t0\" transform=\"translate(20 0)\"><g class=\"plotbox\"><g class=\"node n14 p0 root\" transform=\"translate(102.031 26.8)\"><g class=\"a14 i3 leaf node n6 p0 sample\" transform=\"translate(30.4688 94.6)\"><path class=\"edge\" d=\"M 0 0 V -94.6 H -30.4688\"/><rect class=\"sym\" height=\"6\" width=\"6\" x=\"-3\" y=\"-3\"/><text class=\"lab\" transform=\"translate(0 11)\">6</text></g><g class=\"a14 node n13 p0\" transform=\"translate(-30.4688 10.6488)\"><g class=\"a13 node n10 p0\" transform=\"translate(32.8125 55.1326)\"><g class=\"a10 i2 leaf node n5 p0 sample\" transform=\"translate(13.125 28.8186)\"><path class=\"edge\" d=\"M 0 0 V -28.8186 H -13.125\"/><rect class=\"sym\" height=\"6\" width=\"6\" x=\"-3\" y=\"-3\"/><text class=\"lab\" transform=\"translate(0 11)\">5</text></g><g class=\"a10 node n9 p0\" transform=\"translate(-13.125 11.6467)\"><g class=\"a9 i3 leaf node n7 p0 sample\" transform=\"translate(11.25 17.1719)\"><path class=\"edge\" d=\"M 0 0 V -17.1719 H -11.25\"/><rect class=\"sym\" height=\"6\" width=\"6\" x=\"-3\" y=\"-3\"/><text class=\"lab\" transform=\"translate(0 11)\">7</text></g><g class=\"a9 node n8 p0\" transform=\"translate(-11.25 6.03837)\"><g class=\"a8 i0 leaf node n1 p0 sample\" transform=\"translate(-7.5 11.1336)\"><path class=\"edge\" d=\"M 0 0 V -11.1336 H 7.5\"/><rect class=\"sym\" height=\"6\" width=\"6\" x=\"-3\" y=\"-3\"/><text class=\"lab\" transform=\"translate(0 11)\">1</text></g><g class=\"a8 i1 leaf node n3 p0 sample\" transform=\"translate(7.5 11.1336)\"><path class=\"edge\" d=\"M 0 0 V -11.1336 H -7.5\"/><rect class=\"sym\" height=\"6\" width=\"6\" x=\"-3\" y=\"-3\"/><text class=\"lab\" transform=\"translate(0 11)\">3</text></g><path class=\"edge\" d=\"M 0 0 V -6.03837 H 11.25\"/><circle class=\"sym\" cx=\"0\" cy=\"0\" r=\"3\"/><text class=\"lab lft\" transform=\"translate(-3 -7.0)\">8</text></g><path class=\"edge\" d=\"M 0 0 V -11.6467 H 13.125\"/><circle class=\"sym\" cx=\"0\" cy=\"0\" r=\"3\"/><text class=\"lab lft\" transform=\"translate(-3 -7.0)\">9</text></g><path class=\"edge\" d=\"M 0 0 V -55.1326 H -32.8125\"/><circle class=\"sym\" cx=\"0\" cy=\"0\" r=\"3\"/><text class=\"lab rgt\" transform=\"translate(3 -7.0)\">10</text></g><g class=\"a13 node n12 p0\" transform=\"translate(-32.8125 7.74681)\"><g class=\"a12 i0 leaf node n0 p0 sample\" transform=\"translate(-11.25 76.2044)\"><path class=\"edge\" d=\"M 0 0 V -76.2044 H 11.25\"/><rect class=\"sym\" height=\"6\" width=\"6\" x=\"-3\" y=\"-3\"/><text class=\"lab\" transform=\"translate(0 11)\">0</text></g><g class=\"a12 node n11 p0\" transform=\"translate(11.25 3.18189)\"><g class=\"a11 i1 leaf node n2 p0 sample\" transform=\"translate(-7.5 73.0225)\"><path class=\"edge\" d=\"M 0 0 V -73.0225 H 7.5\"/><rect class=\"sym\" height=\"6\" width=\"6\" x=\"-3\" y=\"-3\"/><text class=\"lab\" transform=\"translate(0 11)\">2</text></g><g class=\"a11 i2 leaf node n4 p0 sample\" transform=\"translate(7.5 73.0225)\"><path class=\"edge\" d=\"M 0 0 V -73.0225 H -7.5\"/><rect class=\"sym\" height=\"6\" width=\"6\" x=\"-3\" y=\"-3\"/><text class=\"lab\" transform=\"translate(0 11)\">4</text></g><path class=\"edge\" d=\"M 0 0 V -3.18189 H -11.25\"/><circle class=\"sym\" cx=\"0\" cy=\"0\" r=\"3\"/><text class=\"lab rgt\" transform=\"translate(3 -7.0)\">11</text></g><path class=\"edge\" d=\"M 0 0 V -7.74681 H 32.8125\"/><circle class=\"sym\" cx=\"0\" cy=\"0\" r=\"3\"/><text class=\"lab lft\" transform=\"translate(-3 -7.0)\">12</text></g><path class=\"edge\" d=\"M 0 0 V -10.6488 H 30.4688\"/><circle class=\"sym\" cx=\"0\" cy=\"0\" r=\"3\"/><text class=\"lab lft\" transform=\"translate(-3 -7.0)\">13</text></g><circle class=\"sym\" cx=\"0\" cy=\"0\" r=\"3\"/><text class=\"lab\" transform=\"translate(0 -11)\">14</text></g></g></g></g></g></svg>"
      ],
      "text/plain": [
       "<IPython.core.display.SVG object>"
      ]
     },
     "execution_count": 75,
     "metadata": {
      "filenames": {
       "image/svg+xml": "/home/runner/work/tskit-site/tskit-site/docs/_build/jupyter_execute/ancestry_142_0.svg"
      }
     },
     "output_type": "execute_result"
    }
   ],
   "source": [
    "ts = msprime.sim_ancestry(\n",
    "    samples=4, ploidy=2, random_seed=1,\n",
    "    model=msprime.BetaCoalescent(alpha=1.8))\n",
    "SVG(ts.draw_svg())\n"
   ]
  },
  {
   "cell_type": "markdown",
   "id": "a1f905f4",
   "metadata": {},
   "source": [
    "Multiple mergers still take place in a haploid simulation, but only one merger\n",
    "can take place at a given time:"
   ]
  },
  {
   "cell_type": "code",
   "execution_count": 76,
   "id": "9340e574",
   "metadata": {},
   "outputs": [
    {
     "data": {
      "image/svg+xml": [
       "<svg xmlns=\"http://www.w3.org/2000/svg\" xmlns:ev=\"http://www.w3.org/2001/xml-events\" xmlns:xlink=\"http://www.w3.org/1999/xlink\" baseProfile=\"full\" height=\"200\" version=\"1.1\" width=\"200\"><defs><style type=\"text/css\"><![CDATA[.tree-sequence .background path {fill: #808080; fill-opacity:0}.tree-sequence .background path:nth-child(odd) {fill-opacity:.1}.axes {font-size: 14px}.x-axis .tick .lab {font-weight: bold}.axes, .tree {font-size: 14px; text-anchor:middle}.y-axis line.grid {stroke: #FAFAFA}.y-axis > .lab text {transform: translateX(0.8em) rotate(-90deg)}.x-axis .tick g {transform: translateY(0.9em)}.x-axis > .lab text {transform: translateY(-0.8em)}.axes line, .edge {stroke:black; fill:none}.node > .sym {fill: black; stroke: none}.site > .sym {stroke: black}.mut text {fill: red; font-style: italic}.mut line {fill: none; stroke: none}.mut .sym {fill: none; stroke: red}.node .mut .sym {stroke-width: 1.5px}.tree text, .tree-sequence text {dominant-baseline: central}.plotbox .lab.lft {text-anchor: end}.plotbox .lab.rgt {text-anchor: start}]]></style></defs><g class=\"tree-sequence\"><g class=\"background\"><path d=\"M20,0 l160,0 l0,138.2 l0,25 l0,5 l-160,0 l0,-5 l0,-25 l0,-138.2z\"/></g><g class=\"axes\"><g class=\"x-axis\"><g class=\"lab\" transform=\"translate(100,200)\"><text text-anchor=\"middle\">Genome position</text></g><line x1=\"20\" x2=\"180\" y1=\"163.2\" y2=\"163.2\"/><g class=\"tick\" transform=\"translate(20 163.2)\"><line x1=\"0\" x2=\"0\" y1=\"0\" y2=\"5\"/><g class=\"lab\" transform=\"translate(0,5)\"><text>0</text></g></g><g class=\"tick\" transform=\"translate(180 163.2)\"><line x1=\"0\" x2=\"0\" y1=\"0\" y2=\"5\"/><g class=\"lab\" transform=\"translate(0,5)\"><text>1</text></g></g></g></g><g class=\"plotbox trees\"><g class=\"tree t0\" transform=\"translate(20 0)\"><g class=\"plotbox\"><g class=\"node n14 p0 root\" transform=\"translate(93.5 26.8)\"><g class=\"a14 i1 leaf node n1 p0 sample\" transform=\"translate(28.5 94.6)\"><path class=\"edge\" d=\"M 0 0 V -94.6 H -28.5\"/><rect class=\"sym\" height=\"6\" width=\"6\" x=\"-3\" y=\"-3\"/><text class=\"lab\" transform=\"translate(0 11)\">1</text></g><g class=\"a14 i2 leaf node n2 p0 sample\" transform=\"translate(40.5 94.6)\"><path class=\"edge\" d=\"M 0 0 V -94.6 H -40.5\"/><rect class=\"sym\" height=\"6\" width=\"6\" x=\"-3\" y=\"-3\"/><text class=\"lab\" transform=\"translate(0 11)\">2</text></g><g class=\"a14 node n13 p0\" transform=\"translate(-40.5 16.9651)\"><g class=\"a13 i0 leaf node n0 p0 sample\" transform=\"translate(-27 77.6349)\"><path class=\"edge\" d=\"M 0 0 V -77.6349 H 27\"/><rect class=\"sym\" height=\"6\" width=\"6\" x=\"-3\" y=\"-3\"/><text class=\"lab\" transform=\"translate(0 11)\">0</text></g><g class=\"a13 node n12 p0\" transform=\"translate(27 0.361523)\"><g class=\"a12 i5 leaf node n5 p0 sample\" transform=\"translate(-6 77.2734)\"><path class=\"edge\" d=\"M 0 0 V -77.2734 H 6\"/><rect class=\"sym\" height=\"6\" width=\"6\" x=\"-3\" y=\"-3\"/><text class=\"lab\" transform=\"translate(0 11)\">5</text></g><g class=\"a12 i7 leaf node n7 p0 sample\" transform=\"translate(30 77.2734)\"><path class=\"edge\" d=\"M 0 0 V -77.2734 H -30\"/><rect class=\"sym\" height=\"6\" width=\"6\" x=\"-3\" y=\"-3\"/><text class=\"lab\" transform=\"translate(0 11)\">7</text></g><g class=\"a12 node n10 p0\" transform=\"translate(-30 45.6373)\"><g class=\"a10 i3 leaf node n3 p0 sample\" transform=\"translate(-12 31.6361)\"><path class=\"edge\" d=\"M 0 0 V -31.6361 H 12\"/><rect class=\"sym\" height=\"6\" width=\"6\" x=\"-3\" y=\"-3\"/><text class=\"lab\" transform=\"translate(0 11)\">3</text></g><g class=\"a10 i4 leaf node n4 p0 sample\" transform=\"translate(0.0 31.6361)\"><path class=\"edge\" d=\"M 0 0 V -31.6361 H 0.0\"/><rect class=\"sym\" height=\"6\" width=\"6\" x=\"-3\" y=\"-3\"/><text class=\"lab\" transform=\"translate(0 11)\">4</text></g><g class=\"a10 i9 leaf node n9 p0 sample\" transform=\"translate(12 31.6361)\"><path class=\"edge\" d=\"M 0 0 V -31.6361 H -12\"/><rect class=\"sym\" height=\"6\" width=\"6\" x=\"-3\" y=\"-3\"/><text class=\"lab\" transform=\"translate(0 11)\">9</text></g><path class=\"edge\" d=\"M 0 0 V -45.6373 H 30\"/><circle class=\"sym\" cx=\"0\" cy=\"0\" r=\"3\"/><text class=\"lab lft\" transform=\"translate(-3 -7.0)\">10</text></g><g class=\"a12 node n11 p0\" transform=\"translate(12 18.6532)\"><g class=\"a11 i6 leaf node n6 p0 sample\" transform=\"translate(-6 58.6202)\"><path class=\"edge\" d=\"M 0 0 V -58.6202 H 6\"/><rect class=\"sym\" height=\"6\" width=\"6\" x=\"-3\" y=\"-3\"/><text class=\"lab\" transform=\"translate(0 11)\">6</text></g><g class=\"a11 i8 leaf node n8 p0 sample\" transform=\"translate(6 58.6202)\"><path class=\"edge\" d=\"M 0 0 V -58.6202 H -6\"/><rect class=\"sym\" height=\"6\" width=\"6\" x=\"-3\" y=\"-3\"/><text class=\"lab\" transform=\"translate(0 11)\">8</text></g><path class=\"edge\" d=\"M 0 0 V -18.6532 H -12\"/><circle class=\"sym\" cx=\"0\" cy=\"0\" r=\"3\"/><text class=\"lab rgt\" transform=\"translate(3 -7.0)\">11</text></g><path class=\"edge\" d=\"M 0 0 V -0.361523 H -27\"/><circle class=\"sym\" cx=\"0\" cy=\"0\" r=\"3\"/><text class=\"lab rgt\" transform=\"translate(3 -7.0)\">12</text></g><path class=\"edge\" d=\"M 0 0 V -16.9651 H 40.5\"/><circle class=\"sym\" cx=\"0\" cy=\"0\" r=\"3\"/><text class=\"lab lft\" transform=\"translate(-3 -7.0)\">13</text></g><circle class=\"sym\" cx=\"0\" cy=\"0\" r=\"3\"/><text class=\"lab\" transform=\"translate(0 -11)\">14</text></g></g></g></g></g></svg>"
      ],
      "text/plain": [
       "<IPython.core.display.SVG object>"
      ]
     },
     "execution_count": 76,
     "metadata": {
      "filenames": {
       "image/svg+xml": "/home/runner/work/tskit-site/tskit-site/docs/_build/jupyter_execute/ancestry_144_0.svg"
      }
     },
     "output_type": "execute_result"
    }
   ],
   "source": [
    "ts = msprime.sim_ancestry(\n",
    "    samples=10, ploidy=1, random_seed=1,\n",
    "    model=msprime.BetaCoalescent(alpha=1.001))\n",
    "SVG(ts.draw_svg())\n"
   ]
  },
  {
   "cell_type": "markdown",
   "id": "0a433125",
   "metadata": {},
   "source": [
    "A haploid simulation results in larger individual mergers than a polyploid simulation\n",
    "because large mergers typically get broken up into multiple simultaneous mergers\n",
    "in the polyploid model.\n",
    "\n",
    "The number of generations between merger events in the Beta-coalescent depends\n",
    "nonlinearly on both {math}`\\alpha` and the population size {math}`N`\n",
    "as detailed above.\n",
    "For a fixed {math}`\\alpha`, the number of generations between common ancestor events\n",
    "is proportional to {math}`N^{\\alpha - 1}`, albeit with a complicated constant of\n",
    "proportionality that depends on {math}`\\alpha`. The dependence on {math}`\\alpha`\n",
    "for fixed {math}`N` is not monotone. Thus, branch lengths and the number of\n",
    "generations until a most recent common ancestor depend on both of these parameters.\n",
    "\n",
    "To illustrate, for {math}`\\alpha` close to 2 the relationship between effective\n",
    "population size and number of generations is almost linear:"
   ]
  },
  {
   "cell_type": "code",
   "execution_count": 77,
   "id": "c9f8b053",
   "metadata": {},
   "outputs": [
    {
     "name": "stdout",
     "output_type": "stream",
     "text": [
      "0.14959691919068155\n",
      "14.286394871874865\n"
     ]
    }
   ],
   "source": [
    "ts = msprime.sim_ancestry(\n",
    "    samples=1, ploidy=2, random_seed=1, population_size=10,\n",
    "    model=msprime.BetaCoalescent(alpha=1.99))\n",
    "tree = ts.first()\n",
    "print(tree.tmrca(0,1))\n",
    "ts = msprime.sim_ancestry(\n",
    "    samples=1, ploidy=2, random_seed=1, population_size=1000,\n",
    "    model=msprime.BetaCoalescent(alpha=1.99))\n",
    "tree = ts.first()\n",
    "print(tree.tmrca(0,1))\n"
   ]
  },
  {
   "cell_type": "markdown",
   "id": "0ac2bbed",
   "metadata": {},
   "source": [
    "For {math}`\\alpha` close to 1 the effective population size has little effect:"
   ]
  },
  {
   "cell_type": "code",
   "execution_count": 78,
   "id": "20bd0fe0",
   "metadata": {},
   "outputs": [
    {
     "name": "stdout",
     "output_type": "stream",
     "text": [
      "16.311807036386615\n",
      "25.85247192870844\n"
     ]
    }
   ],
   "source": [
    "ts = msprime.sim_ancestry(\n",
    "    samples=1, ploidy=2, random_seed=1, population_size=10,\n",
    "    model=msprime.BetaCoalescent(alpha=1.1))\n",
    "tree = ts.first()\n",
    "print(tree.tmrca(0,1))\n",
    "ts = msprime.sim_ancestry(\n",
    "    samples=1, ploidy=2, random_seed=1, population_size=1000,\n",
    "    model=msprime.BetaCoalescent(alpha=1.1))\n",
    "tree = ts.first()\n",
    "print(tree.tmrca(0,1))\n"
   ]
  },
  {
   "cell_type": "markdown",
   "id": "e1e10537",
   "metadata": {},
   "source": [
    "The Dirac-coalescent is simulated similarly in both the diploid case:"
   ]
  },
  {
   "cell_type": "code",
   "execution_count": 79,
   "id": "681a7191",
   "metadata": {},
   "outputs": [
    {
     "data": {
      "image/svg+xml": [
       "<svg xmlns=\"http://www.w3.org/2000/svg\" xmlns:ev=\"http://www.w3.org/2001/xml-events\" xmlns:xlink=\"http://www.w3.org/1999/xlink\" baseProfile=\"full\" height=\"200\" version=\"1.1\" width=\"200\"><defs><style type=\"text/css\"><![CDATA[.tree-sequence .background path {fill: #808080; fill-opacity:0}.tree-sequence .background path:nth-child(odd) {fill-opacity:.1}.axes {font-size: 14px}.x-axis .tick .lab {font-weight: bold}.axes, .tree {font-size: 14px; text-anchor:middle}.y-axis line.grid {stroke: #FAFAFA}.y-axis > .lab text {transform: translateX(0.8em) rotate(-90deg)}.x-axis .tick g {transform: translateY(0.9em)}.x-axis > .lab text {transform: translateY(-0.8em)}.axes line, .edge {stroke:black; fill:none}.node > .sym {fill: black; stroke: none}.site > .sym {stroke: black}.mut text {fill: red; font-style: italic}.mut line {fill: none; stroke: none}.mut .sym {fill: none; stroke: red}.node .mut .sym {stroke-width: 1.5px}.tree text, .tree-sequence text {dominant-baseline: central}.plotbox .lab.lft {text-anchor: end}.plotbox .lab.rgt {text-anchor: start}]]></style></defs><g class=\"tree-sequence\"><g class=\"background\"><path d=\"M20,0 l160,0 l0,138.2 l0,25 l0,5 l-160,0 l0,-5 l0,-25 l0,-138.2z\"/></g><g class=\"axes\"><g class=\"x-axis\"><g class=\"lab\" transform=\"translate(100,200)\"><text text-anchor=\"middle\">Genome position</text></g><line x1=\"20\" x2=\"180\" y1=\"163.2\" y2=\"163.2\"/><g class=\"tick\" transform=\"translate(20 163.2)\"><line x1=\"0\" x2=\"0\" y1=\"0\" y2=\"5\"/><g class=\"lab\" transform=\"translate(0,5)\"><text>0</text></g></g><g class=\"tick\" transform=\"translate(180 163.2)\"><line x1=\"0\" x2=\"0\" y1=\"0\" y2=\"5\"/><g class=\"lab\" transform=\"translate(0,5)\"><text>1</text></g></g></g></g><g class=\"plotbox trees\"><g class=\"tree t0\" transform=\"translate(20 0)\"><g class=\"plotbox\"><g class=\"node n15 p0 root\" transform=\"translate(107.75 26.8)\"><g class=\"a15 node n12 p0\" transform=\"translate(20.25 68.1879)\"><g class=\"a12 i0 leaf node n1 p0 sample\" transform=\"translate(-6 26.4121)\"><path class=\"edge\" d=\"M 0 0 V -26.4121 H 6\"/><rect class=\"sym\" height=\"6\" width=\"6\" x=\"-3\" y=\"-3\"/><text class=\"lab\" transform=\"translate(0 11)\">1</text></g><g class=\"a12 i1 leaf node n2 p0 sample\" transform=\"translate(6 26.4121)\"><path class=\"edge\" d=\"M 0 0 V -26.4121 H -6\"/><rect class=\"sym\" height=\"6\" width=\"6\" x=\"-3\" y=\"-3\"/><text class=\"lab\" transform=\"translate(0 11)\">2</text></g><path class=\"edge\" d=\"M 0 0 V -68.1879 H -20.25\"/><circle class=\"sym\" cx=\"0\" cy=\"0\" r=\"3\"/><text class=\"lab rgt\" transform=\"translate(3 -7.0)\">12</text></g><g class=\"a15 node n14 p0\" transform=\"translate(-20.25 35.7213)\"><g class=\"a14 i3 leaf node n6 p0 sample\" transform=\"translate(22.5 58.8787)\"><path class=\"edge\" d=\"M 0 0 V -58.8787 H -22.5\"/><rect class=\"sym\" height=\"6\" width=\"6\" x=\"-3\" y=\"-3\"/><text class=\"lab\" transform=\"translate(0 11)\">6</text></g><g class=\"a14 node n13 p0\" transform=\"translate(-22.5 13.5018)\"><g class=\"a13 node n10 p0\" transform=\"translate(-21 44.817)\"><g class=\"a10 i0 leaf node n0 p0 sample\" transform=\"translate(-18 0.559851)\"><path class=\"edge\" d=\"M 0 0 V -0.559851 H 18\"/><rect class=\"sym\" height=\"6\" width=\"6\" x=\"-3\" y=\"-3\"/><text class=\"lab\" transform=\"translate(0 11)\">0</text></g><g class=\"a10 i2 leaf node n5 p0 sample\" transform=\"translate(-6 0.559851)\"><path class=\"edge\" d=\"M 0 0 V -0.559851 H 6\"/><rect class=\"sym\" height=\"6\" width=\"6\" x=\"-3\" y=\"-3\"/><text class=\"lab\" transform=\"translate(0 11)\">5</text></g><g class=\"a10 i3 leaf node n7 p0 sample\" transform=\"translate(6 0.559851)\"><path class=\"edge\" d=\"M 0 0 V -0.559851 H -6\"/><rect class=\"sym\" height=\"6\" width=\"6\" x=\"-3\" y=\"-3\"/><text class=\"lab\" transform=\"translate(0 11)\">7</text></g><g class=\"a10 i4 leaf node n9 p0 sample\" transform=\"translate(18 0.559851)\"><path class=\"edge\" d=\"M 0 0 V -0.559851 H -18\"/><rect class=\"sym\" height=\"6\" width=\"6\" x=\"-3\" y=\"-3\"/><text class=\"lab\" transform=\"translate(0 11)\">9</text></g><path class=\"edge\" d=\"M 0 0 V -44.817 H 21\"/><circle class=\"sym\" cx=\"0\" cy=\"0\" r=\"3\"/><text class=\"lab lft\" transform=\"translate(-3 -7.0)\">10</text></g><g class=\"a13 node n11 p0\" transform=\"translate(21 44.817)\"><g class=\"a11 i1 leaf node n3 p0 sample\" transform=\"translate(-12 0.559851)\"><path class=\"edge\" d=\"M 0 0 V -0.559851 H 12\"/><rect class=\"sym\" height=\"6\" width=\"6\" x=\"-3\" y=\"-3\"/><text class=\"lab\" transform=\"translate(0 11)\">3</text></g><g class=\"a11 i2 leaf node n4 p0 sample\" transform=\"translate(0.0 0.559851)\"><path class=\"edge\" d=\"M 0 0 V -0.559851 H 0.0\"/><rect class=\"sym\" height=\"6\" width=\"6\" x=\"-3\" y=\"-3\"/><text class=\"lab\" transform=\"translate(0 11)\">4</text></g><g class=\"a11 i4 leaf node n8 p0 sample\" transform=\"translate(12 0.559851)\"><path class=\"edge\" d=\"M 0 0 V -0.559851 H -12\"/><rect class=\"sym\" height=\"6\" width=\"6\" x=\"-3\" y=\"-3\"/><text class=\"lab\" transform=\"translate(0 11)\">8</text></g><path class=\"edge\" d=\"M 0 0 V -44.817 H -21\"/><circle class=\"sym\" cx=\"0\" cy=\"0\" r=\"3\"/><text class=\"lab rgt\" transform=\"translate(3 -7.0)\">11</text></g><path class=\"edge\" d=\"M 0 0 V -13.5018 H 22.5\"/><circle class=\"sym\" cx=\"0\" cy=\"0\" r=\"3\"/><text class=\"lab lft\" transform=\"translate(-3 -7.0)\">13</text></g><path class=\"edge\" d=\"M 0 0 V -35.7213 H 20.25\"/><circle class=\"sym\" cx=\"0\" cy=\"0\" r=\"3\"/><text class=\"lab lft\" transform=\"translate(-3 -7.0)\">14</text></g><circle class=\"sym\" cx=\"0\" cy=\"0\" r=\"3\"/><text class=\"lab\" transform=\"translate(0 -11)\">15</text></g></g></g></g></g></svg>"
      ],
      "text/plain": [
       "<IPython.core.display.SVG object>"
      ]
     },
     "execution_count": 79,
     "metadata": {
      "filenames": {
       "image/svg+xml": "/home/runner/work/tskit-site/tskit-site/docs/_build/jupyter_execute/ancestry_150_0.svg"
      }
     },
     "output_type": "execute_result"
    }
   ],
   "source": [
    "ts = msprime.sim_ancestry(\n",
    "    samples=5, ploidy=2, random_seed=1,\n",
    "    model=msprime.DiracCoalescent(psi=0.9, c=10))\n",
    "SVG(ts.draw_svg())\n"
   ]
  },
  {
   "cell_type": "markdown",
   "id": "a841771f",
   "metadata": {},
   "source": [
    "and in the haploid case:"
   ]
  },
  {
   "cell_type": "code",
   "execution_count": 80,
   "id": "f8a6803d",
   "metadata": {},
   "outputs": [
    {
     "data": {
      "image/svg+xml": [
       "<svg xmlns=\"http://www.w3.org/2000/svg\" xmlns:ev=\"http://www.w3.org/2001/xml-events\" xmlns:xlink=\"http://www.w3.org/1999/xlink\" baseProfile=\"full\" height=\"200\" version=\"1.1\" width=\"200\"><defs><style type=\"text/css\"><![CDATA[.tree-sequence .background path {fill: #808080; fill-opacity:0}.tree-sequence .background path:nth-child(odd) {fill-opacity:.1}.axes {font-size: 14px}.x-axis .tick .lab {font-weight: bold}.axes, .tree {font-size: 14px; text-anchor:middle}.y-axis line.grid {stroke: #FAFAFA}.y-axis > .lab text {transform: translateX(0.8em) rotate(-90deg)}.x-axis .tick g {transform: translateY(0.9em)}.x-axis > .lab text {transform: translateY(-0.8em)}.axes line, .edge {stroke:black; fill:none}.node > .sym {fill: black; stroke: none}.site > .sym {stroke: black}.mut text {fill: red; font-style: italic}.mut line {fill: none; stroke: none}.mut .sym {fill: none; stroke: red}.node .mut .sym {stroke-width: 1.5px}.tree text, .tree-sequence text {dominant-baseline: central}.plotbox .lab.lft {text-anchor: end}.plotbox .lab.rgt {text-anchor: start}]]></style></defs><g class=\"tree-sequence\"><g class=\"background\"><path d=\"M20,0 l160,0 l0,138.2 l0,25 l0,5 l-160,0 l0,-5 l0,-25 l0,-138.2z\"/></g><g class=\"axes\"><g class=\"x-axis\"><g class=\"lab\" transform=\"translate(100,200)\"><text text-anchor=\"middle\">Genome position</text></g><line x1=\"20\" x2=\"180\" y1=\"163.2\" y2=\"163.2\"/><g class=\"tick\" transform=\"translate(20 163.2)\"><line x1=\"0\" x2=\"0\" y1=\"0\" y2=\"5\"/><g class=\"lab\" transform=\"translate(0,5)\"><text>0</text></g></g><g class=\"tick\" transform=\"translate(180 163.2)\"><line x1=\"0\" x2=\"0\" y1=\"0\" y2=\"5\"/><g class=\"lab\" transform=\"translate(0,5)\"><text>1</text></g></g></g></g><g class=\"plotbox trees\"><g class=\"tree t0\" transform=\"translate(20 0)\"><g class=\"plotbox\"><g class=\"node n11 p0 root\" transform=\"translate(104 26.8)\"><g class=\"a11 i1 leaf node n1 p0 sample\" transform=\"translate(30 94.6)\"><path class=\"edge\" d=\"M 0 0 V -94.6 H -30\"/><rect class=\"sym\" height=\"6\" width=\"6\" x=\"-3\" y=\"-3\"/><text class=\"lab\" transform=\"translate(0 11)\">1</text></g><g class=\"a11 node n10 p0\" transform=\"translate(-30 77.5503)\"><g class=\"a10 i0 leaf node n0 p0 sample\" transform=\"translate(-48 17.0497)\"><path class=\"edge\" d=\"M 0 0 V -17.0497 H 48\"/><rect class=\"sym\" height=\"6\" width=\"6\" x=\"-3\" y=\"-3\"/><text class=\"lab\" transform=\"translate(0 11)\">0</text></g><g class=\"a10 i2 leaf node n2 p0 sample\" transform=\"translate(-36 17.0497)\"><path class=\"edge\" d=\"M 0 0 V -17.0497 H 36\"/><rect class=\"sym\" height=\"6\" width=\"6\" x=\"-3\" y=\"-3\"/><text class=\"lab\" transform=\"translate(0 11)\">2</text></g><g class=\"a10 i3 leaf node n3 p0 sample\" transform=\"translate(-24 17.0497)\"><path class=\"edge\" d=\"M 0 0 V -17.0497 H 24\"/><rect class=\"sym\" height=\"6\" width=\"6\" x=\"-3\" y=\"-3\"/><text class=\"lab\" transform=\"translate(0 11)\">3</text></g><g class=\"a10 i4 leaf node n4 p0 sample\" transform=\"translate(-12 17.0497)\"><path class=\"edge\" d=\"M 0 0 V -17.0497 H 12\"/><rect class=\"sym\" height=\"6\" width=\"6\" x=\"-3\" y=\"-3\"/><text class=\"lab\" transform=\"translate(0 11)\">4</text></g><g class=\"a10 i5 leaf node n5 p0 sample\" transform=\"translate(0.0 17.0497)\"><path class=\"edge\" d=\"M 0 0 V -17.0497 H 0.0\"/><rect class=\"sym\" height=\"6\" width=\"6\" x=\"-3\" y=\"-3\"/><text class=\"lab\" transform=\"translate(0 11)\">5</text></g><g class=\"a10 i6 leaf node n6 p0 sample\" transform=\"translate(12 17.0497)\"><path class=\"edge\" d=\"M 0 0 V -17.0497 H -12\"/><rect class=\"sym\" height=\"6\" width=\"6\" x=\"-3\" y=\"-3\"/><text class=\"lab\" transform=\"translate(0 11)\">6</text></g><g class=\"a10 i7 leaf node n7 p0 sample\" transform=\"translate(24 17.0497)\"><path class=\"edge\" d=\"M 0 0 V -17.0497 H -24\"/><rect class=\"sym\" height=\"6\" width=\"6\" x=\"-3\" y=\"-3\"/><text class=\"lab\" transform=\"translate(0 11)\">7</text></g><g class=\"a10 i8 leaf node n8 p0 sample\" transform=\"translate(36 17.0497)\"><path class=\"edge\" d=\"M 0 0 V -17.0497 H -36\"/><rect class=\"sym\" height=\"6\" width=\"6\" x=\"-3\" y=\"-3\"/><text class=\"lab\" transform=\"translate(0 11)\">8</text></g><g class=\"a10 i9 leaf node n9 p0 sample\" transform=\"translate(48 17.0497)\"><path class=\"edge\" d=\"M 0 0 V -17.0497 H -48\"/><rect class=\"sym\" height=\"6\" width=\"6\" x=\"-3\" y=\"-3\"/><text class=\"lab\" transform=\"translate(0 11)\">9</text></g><path class=\"edge\" d=\"M 0 0 V -77.5503 H 30\"/><circle class=\"sym\" cx=\"0\" cy=\"0\" r=\"3\"/><text class=\"lab lft\" transform=\"translate(-3 -7.0)\">10</text></g><circle class=\"sym\" cx=\"0\" cy=\"0\" r=\"3\"/><text class=\"lab\" transform=\"translate(0 -11)\">11</text></g></g></g></g></g></svg>"
      ],
      "text/plain": [
       "<IPython.core.display.SVG object>"
      ]
     },
     "execution_count": 80,
     "metadata": {
      "filenames": {
       "image/svg+xml": "/home/runner/work/tskit-site/tskit-site/docs/_build/jupyter_execute/ancestry_152_0.svg"
      }
     },
     "output_type": "execute_result"
    }
   ],
   "source": [
    "ts = msprime.sim_ancestry(\n",
    "    samples=10, ploidy=1, random_seed=1,\n",
    "    model=msprime.DiracCoalescent(psi=0.9, c=10))\n",
    "SVG(ts.draw_svg())\n"
   ]
  },
  {
   "cell_type": "markdown",
   "id": "5d7c6cb1",
   "metadata": {},
   "source": [
    "As with the Beta-coalescent, a haploid simulation results in larger individual\n",
    "mergers than a polyploid simulation because large mergers typically get broken\n",
    "up into multiple simultaneous mergers in the polyploid model. Larger values\n",
    "of the parameter {math}`c > 0` result in more frequent multiple mergers,\n",
    "while larger values of {math}`0 < \\psi \\leq 1` result in multiple mergers\n",
    "with more participating lineages. Setting either parameter to 0 would correspond\n",
    "to the standard coalescent.\n",
    "\n",
    "The Dirac-coalescent is obtained as the infinite population scaling limit of\n",
    "Moran models, and therefore branch lengths are proportional to {math}`N^2`\n",
    "generations, as opposed to {math}`N` generations under the standard coalescent."
   ]
  },
  {
   "cell_type": "code",
   "execution_count": 81,
   "id": "a34c68ac",
   "metadata": {},
   "outputs": [
    {
     "name": "stdout",
     "output_type": "stream",
     "text": [
      "64.7216732891741\n",
      "6472.167328917411\n"
     ]
    }
   ],
   "source": [
    "ts = msprime.sim_ancestry(\n",
    "    samples=1, ploidy=2, random_seed=1, population_size=10,\n",
    "    model=msprime.DiracCoalescent(psi=0.1, c=1))\n",
    "tree = ts.first()\n",
    "print(tree.tmrca(0,1))\n",
    "ts = msprime.sim_ancestry(\n",
    "    samples=1, ploidy=2, random_seed=1, population_size=100,\n",
    "    model=msprime.DiracCoalescent(psi=0.1, c=1))\n",
    "tree = ts.first()\n",
    "print(tree.tmrca(0,1))\n"
   ]
  },
  {
   "cell_type": "markdown",
   "id": "a3bb89c8",
   "metadata": {},
   "source": [
    "(sec_ancestry_models_selective_sweeps)=\n",
    "\n",
    "### Selective sweeps\n",
    "\n",
    "Although the coalescent assumes that lineages are exchangable, (and therefore\n",
    "evolving neutrally), approximations to some forms of selective sweep\n",
    "(beneficial mutation moves through the population), have been derived. This is\n",
    "done through the use of a structured coalescent model in the spirit of\n",
    "[Braverman et al. (1995)](https://www.ncbi.nlm.nih.gov/pmc/articles/PMC1206652/).\n",
    "\n",
    "In the {class}`.SweepGenicSelection` model,\n",
    "the population is split between two classes of selective backgrounds,\n",
    "those linked to the beneficial allele, call it {math}`B`, and those not,\n",
    "{math}`b`. In this model we track competing\n",
    "rates of coalescence and recombination on the {math}`B` and {math}`b`\n",
    "backgrounds.\n",
    "The user supplies a final allele frequency and a starting\n",
    "allele frequency, between which msprime simulates a stochastic\n",
    "sweep trajectory according to a conditional diffusion model [(Coop\n",
    "and Griffiths, 2004](https://pubmed.ncbi.nlm.nih.gov/15465123/);\n",
    "[Kim and Stephan 2002](https://pubmed.ncbi.nlm.nih.gov/11861577/)).\n",
    "\n",
    "Beyond the start and end frequencies of the sweep trajectory, the user\n",
    "must specify the selection coefficient of the beneficial mutation\n",
    "{math}`s` the selective\n",
    "advantage of the {math}`B` homozygote over the {math}`b` homozygote\n",
    "and {math}`h=0.5`. The position represents the location along\n",
    "the chromosome where the beneficial allele occurs.\n",
    "All other parameters can be set as usual.\n",
    "\n",
    ":::{warning}\n",
    "The implementation of the structured coalescent is quite general, but there are\n",
    "some limitations in the current implementation of the sweeps model (e.g., no\n",
    "change of population size during a sweep). Please let us know if there are\n",
    "related features you would like to see (or if you would be interested in\n",
    "helping to create this functionality!)\n",
    ":::\n",
    "\n",
    "\n",
    "#### Hard sweeps\n",
    "\n",
    ":::{todo}\n",
    "What's a hard sweep? Some intro sentences here.\n",
    ":::\n",
    "\n",
    "In this example we run some replicate hard sweep simulations\n",
    "and plot the mean\n",
    "{meth}`pairwise diversity<tskit.TreeSequence.diversity>` in windows\n",
    "across the simulated region, showing the characteristic\n",
    "valley of diversity.\n",
    "\n",
    "First we set up some basic parameters, and define the sweep model:"
   ]
  },
  {
   "cell_type": "code",
   "execution_count": 82,
   "id": "d5384319",
   "metadata": {},
   "outputs": [],
   "source": [
    "Ne = 1e3\n",
    "L = 1e6  # Length of simulated region\n",
    "num_reps = 100\n",
    "\n",
    "# define hard sweep model\n",
    "sweep_model = msprime.SweepGenicSelection(\n",
    "    position=L / 2,  # middle of chrom\n",
    "    start_frequency=1.0 / (2 * Ne),\n",
    "    end_frequency=1.0 - (1.0 / (2 * Ne)),\n",
    "    s=0.25,\n",
    "    dt=1e-6,\n",
    ")"
   ]
  },
  {
   "cell_type": "markdown",
   "id": "3f35b7b7",
   "metadata": {},
   "source": [
    ":::{todo}\n",
    "Explain why these parameters give a hard sweep.\n",
    ":::\n",
    "\n",
    "Next we set up the replicate simulations. As described\n",
    "in the {ref}`sec_ancestry_models_specifying_multiple` section,\n",
    "the ``model`` parameter is a list when we want to run multiple\n",
    "ancestry models. In this example, we have a sweep that occurs\n",
    "in the immediate past, and is then followed by the\n",
    "standard coalescent for the rest of time:"
   ]
  },
  {
   "cell_type": "code",
   "execution_count": 83,
   "id": "2878eff3",
   "metadata": {},
   "outputs": [],
   "source": [
    "reps = msprime.sim_ancestry(\n",
    "    5,\n",
    "    model=[sweep_model, msprime.StandardCoalescent()],\n",
    "    population_size=Ne,\n",
    "    recombination_rate=1e-7,\n",
    "    sequence_length=L,\n",
    "    num_replicates=num_reps,\n",
    ")"
   ]
  },
  {
   "cell_type": "markdown",
   "id": "5926c11f",
   "metadata": {},
   "source": [
    ":::{note}\n",
    "Because the {class}`.SweepGenicSelection` model has a random\n",
    "{ref}`duration<sec_ancestry_models_specifying_duration>` we do\n",
    "not set this value in the model. Please see the\n",
    "{ref}`sec_ancestry_models_specifying_completion` section for\n",
    "more discussion on this important point.\n",
    ":::\n",
    "\n",
    "Once we've set up the replicate simulations we can compute the\n",
    "windows for plotting, run the actual simulations\n",
    "(see the {ref}`sec_randomness_replication` section for more details)\n",
    "and compute the\n",
    "{meth}`pairwise diversity<tskit.TreeSequence.diversity>`."
   ]
  },
  {
   "cell_type": "code",
   "execution_count": 84,
   "id": "81b0777f",
   "metadata": {},
   "outputs": [],
   "source": [
    "wins = np.linspace(0, L, 21)\n",
    "mids = (wins[1:] + wins[:-1]) / 2\n",
    "diversity = np.zeros((num_reps, mids.shape[0]))\n",
    "for j, ts in enumerate(reps):\n",
    "    diversity[j] = ts.diversity(windows=wins, mode=\"branch\")"
   ]
  },
  {
   "cell_type": "markdown",
   "id": "e1f61c2b",
   "metadata": {},
   "source": [
    "Finally, we can plot the observed mean diversity across the replicates\n",
    "and compare it to the neutral expectation:"
   ]
  },
  {
   "cell_type": "code",
   "execution_count": 85,
   "id": "01c3ccf9",
   "metadata": {},
   "outputs": [
    {
     "data": {
      "image/png": "[encoded data removed]",
      "text/plain": [
       "<Figure size 432x288 with 1 Axes>"
      ]
     },
     "metadata": {
      "filenames": {
       "image/png": "/home/runner/work/tskit-site/tskit-site/docs/_build/jupyter_execute/ancestry_162_0.png"
      },
      "needs_background": "light"
     },
     "output_type": "display_data"
    }
   ],
   "source": [
    "from matplotlib import pyplot as plt\n",
    "\n",
    "plt.plot(mids, diversity.mean(axis=0), label=\"Simulations\")\n",
    "plt.axhline(4 * Ne, linestyle=\":\", label=r'Neutral expectation')\n",
    "plt.ylabel(r'Branch $\\pi$');\n",
    "plt.xlabel('Position (bp)')\n",
    "plt.legend();"
   ]
  },
  {
   "cell_type": "markdown",
   "id": "f9fe0ec0",
   "metadata": {},
   "source": [
    ":::{note}\n",
    "We use the \"branch\" measure of pairwise diversity which is\n",
    "defined in terms of the trees rather than nucleotide sequences. See\n",
    "[Ralph et al. 2020](https://doi.org/10.1534/genetics.120.303253)\n",
    "for more information.\n",
    ":::\n",
    "\n",
    "As we can see, the selective sweep has reduced variation in the region\n",
    "most closely linked to the beneficial allele and then diversity\n",
    "increases with distance to each side.\n",
    "\n",
    "(sec_ancestry_models_selective_sweeps_multiple)=\n",
    "\n",
    "#### Multiple sweeps\n",
    "\n",
    ":::{todo}\n",
    "This example is very artificial; it would be much better to illustrate\n",
    "with a meaningful example from the literature. Pull requests welcome!\n",
    ":::\n",
    "\n",
    "To illustrate the idea that we can simulate large numbers of different\n",
    "models, in this example we create a simulation in which we have\n",
    "sweeps happening at random points along the genome, which\n",
    "are separated by a random duration of the standard coalescent.\n",
    "\n",
    "First we set up our models:"
   ]
  },
  {
   "cell_type": "code",
   "execution_count": 86,
   "id": "e4e98093",
   "metadata": {},
   "outputs": [
    {
     "data": {
      "text/plain": [
       "[StandardCoalescent(duration=0.9664535356921388),\n",
       " SweepGenicSelection(duration=None, position=57, start_frequency=0.4, end_frequency=0.5, s=0.01, dt=1e-06),\n",
       " StandardCoalescent(duration=0.11685051774599753),\n",
       " SweepGenicSelection(duration=None, position=12, start_frequency=0.4, end_frequency=0.5, s=0.01, dt=1e-06),\n",
       " StandardCoalescent(duration=0.9109759624491242)]"
      ]
     },
     "execution_count": 86,
     "metadata": {},
     "output_type": "execute_result"
    }
   ],
   "source": [
    "import random\n",
    "random.seed(1234)\n",
    "L = 100\n",
    "\n",
    "models = []\n",
    "for _ in range(100):\n",
    "    models.append(msprime.StandardCoalescent(duration=random.uniform(0, 1)))\n",
    "    models.append(\n",
    "        msprime.SweepGenicSelection(\n",
    "            position=random.randint(1, L - 1),\n",
    "            start_frequency=0.4,\n",
    "            end_frequency=0.5,\n",
    "            s=0.01,\n",
    "            dt=1e-6,\n",
    "        )\n",
    "    )\n",
    "models.append(msprime.StandardCoalescent())\n",
    "models[:5]"
   ]
  },
  {
   "cell_type": "markdown",
   "id": "7beedcb3",
   "metadata": {},
   "source": [
    "We've created a list of models that have random parameters using the\n",
    "standard Python tools. There are lots of sweeps (many more than we\n",
    "will actually run, in all probability), each at a random position\n",
    "on the genome and each separated by a random amount of time running\n",
    "the standard coalescent. Finally, we add an instance of the standard\n",
    "coalescent without a {ref}`duration<sec_ancestry_models_specifying_duration>`\n",
    "to guarantee that our simulation will always coalesce fully\n",
    "(See the {ref}`sec_ancestry_models_specifying_completion` section\n",
    "for more information.) Finally, we print out the first 5 models\n",
    "so we can inspect them.\n",
    "\n",
    "Then, we can run our simulation as usual:"
   ]
  },
  {
   "cell_type": "code",
   "execution_count": 87,
   "id": "a487734e",
   "metadata": {},
   "outputs": [
    {
     "data": {
      "text/html": [
       "\n",
       "<div>\n",
       "  <style>\n",
       "    .tskit-table thead tr th {text-align: left;padding: 0.5em 0.5em;}\n",
       "    .tskit-table tbody tr td {padding: 0.5em 0.5em;}\n",
       "    .tskit-table tbody tr td:first-of-type {text-align: left;}\n",
       "    .tskit-details-label {vertical-align: top; padding-right:5px;}\n",
       "    .tskit-table-set {display: inline-flex;flex-wrap: wrap;margin: -12px 0 0 -12px;width: calc(100% + 12px);}\n",
       "    .tskit-table-set-table {margin: 12px 0 0 12px;}\n",
       "    details {display: inline-block;}\n",
       "    summary {cursor: pointer; outline: 0; display: list-item;}\n",
       "  </style>\n",
       "  <div class=\"tskit-table-set\">\n",
       "    <div class=\"tskit-table-set-table\">\n",
       "      <table class=\"tskit-table\">\n",
       "        <thead>\n",
       "          <tr>\n",
       "            <th style=\"padding:0;line-height:21px;\">\n",
       "              <img style=\"height: 32px;display: inline-block;padding: 3px 5px 3px 0;\"src=\"https://raw.githubusercontent.com/tskit-dev/administrative/main/tskit_logo.svg\"/>\n",
       "              <a target=\"_blank\" href=\"https://tskit.readthedocs.io/en/latest/python-api.html#the-treesequence-class\"> Tree Sequence\n",
       "            </th>\n",
       "          </tr>\n",
       "        </thead>\n",
       "        <tbody>\n",
       "          <tr><td>Trees</td><td>100</td></tr>\n",
       "          <tr><td>Sequence Length</td><td>100.0</td></tr>\n",
       "          <tr><td>Sample Nodes</td><td>20</td></tr>\n",
       "          <tr><td>Total Size</td><td>95.0 KiB</td></tr>\n",
       "          <tr>\n",
       "            <td>Metadata</td><td style=\"text-align: left;\">No Metadata</td></tr>\n",
       "        </tbody>\n",
       "      </table>\n",
       "    </div>\n",
       "    <div class=\"tskit-table-set-table\">\n",
       "      <table class=\"tskit-table\">\n",
       "        <thead>\n",
       "          <tr>\n",
       "            <th style=\"line-height:21px;\">Table</th>\n",
       "            <th>Rows</th>\n",
       "            <th>Size</th>\n",
       "            <th>Has Metadata</th>\n",
       "          </tr>\n",
       "        </thead>\n",
       "        <tbody>\n",
       "\n",
       "      <tr>\n",
       "        <td>Edges</td>\n",
       "          <td>1626</td>\n",
       "          <td>44.5 KiB</td>\n",
       "          <td style=\"text-align: center;\">\n",
       "\n",
       "          </td>\n",
       "        </tr>\n",
       "\n",
       "      <tr>\n",
       "        <td>Individuals</td>\n",
       "          <td>10</td>\n",
       "          <td>172 Bytes</td>\n",
       "          <td style=\"text-align: center;\">\n",
       "\n",
       "          </td>\n",
       "        </tr>\n",
       "\n",
       "      <tr>\n",
       "        <td>Migrations</td>\n",
       "          <td>0</td>\n",
       "          <td>4 Bytes</td>\n",
       "          <td style=\"text-align: center;\">\n",
       "\n",
       "          </td>\n",
       "        </tr>\n",
       "\n",
       "      <tr>\n",
       "        <td>Mutations</td>\n",
       "          <td>0</td>\n",
       "          <td>8 Bytes</td>\n",
       "          <td style=\"text-align: center;\">\n",
       "\n",
       "          </td>\n",
       "        </tr>\n",
       "\n",
       "      <tr>\n",
       "        <td>Nodes</td>\n",
       "          <td>533</td>\n",
       "          <td>12.5 KiB</td>\n",
       "          <td style=\"text-align: center;\">\n",
       "\n",
       "          </td>\n",
       "        </tr>\n",
       "\n",
       "      <tr>\n",
       "        <td>Populations</td>\n",
       "          <td>1</td>\n",
       "          <td>216 Bytes</td>\n",
       "          <td style=\"text-align: center;\">\n",
       "            ✅\n",
       "          </td>\n",
       "        </tr>\n",
       "\n",
       "      <tr>\n",
       "        <td>Provenances</td>\n",
       "          <td>1</td>\n",
       "          <td>25.0 KiB</td>\n",
       "          <td style=\"text-align: center;\">\n",
       "\n",
       "          </td>\n",
       "        </tr>\n",
       "\n",
       "      <tr>\n",
       "        <td>Sites</td>\n",
       "          <td>0</td>\n",
       "          <td>8 Bytes</td>\n",
       "          <td style=\"text-align: center;\">\n",
       "\n",
       "          </td>\n",
       "        </tr>\n",
       "\n",
       "        </tbody>\n",
       "      </table>\n",
       "    </div>\n",
       "  </div>\n",
       "</div>\n"
      ],
      "text/plain": [
       "<tskit.trees.TreeSequence at 0x7fbfc1a55b50>"
      ]
     },
     "execution_count": 87,
     "metadata": {},
     "output_type": "execute_result"
    }
   ],
   "source": [
    "ts = msprime.sim_ancestry(\n",
    "    10,\n",
    "    population_size=100,\n",
    "    sequence_length=L,\n",
    "    recombination_rate=0.01,\n",
    "    model=models,\n",
    "    random_seed=6789\n",
    ")\n",
    "ts"
   ]
  },
  {
   "cell_type": "markdown",
   "id": "6f1459df",
   "metadata": {},
   "source": [
    ":::{tip}\n",
    "The logging output of msprime can be very useful when working with\n",
    "multiple models. See the {ref}`sec_logging` section for more\n",
    "details.\n",
    ":::\n",
    "\n",
    "(sec_ancestry_missing_data)=\n",
    "\n",
    "## Missing data\n",
    "\n",
    ":::{todo}\n",
    "Give an example of doing a simulation with unknown rates on the flanks\n",
    "and show that the resulting tree sequence has missing data in these\n",
    "regions.\n",
    ":::\n",
    "\n",
    "(sec_ancestry_errors)=\n",
    "\n",
    "## Common errors\n",
    "\n",
    "(sec_ancestry_errors_infinite_waiting_time)=\n",
    "\n",
    "### Infinite waiting time\n",
    "\n",
    "```{eval-rst}\n",
    ".. todo:: explain this, why it happens and give examples of when\n",
    "   we don't detect it. Mention the possible_lineage_locations method.\n",
    "```"
   ]
  },
  {
   "cell_type": "code",
   "execution_count": 88,
   "id": "74b3e3a8",
   "metadata": {
    "tags": [
     "raises-exception"
    ]
   },
   "outputs": [
    {
     "ename": "LibraryError",
     "evalue": "Infinite waiting time until next simulation event.",
     "output_type": "error",
     "traceback": [
      "\u001b[0;31m---------------------------------------------------------------------------\u001b[0m",
      "\u001b[0;31mLibraryError\u001b[0m                              Traceback (most recent call last)",
      "\u001b[0;32m<ipython-input-88-617bafbb05d4>\u001b[0m in \u001b[0;36m<module>\u001b[0;34m\u001b[0m\n\u001b[1;32m      2\u001b[0m \u001b[0mdemography\u001b[0m\u001b[0;34m.\u001b[0m\u001b[0madd_population\u001b[0m\u001b[0;34m(\u001b[0m\u001b[0mname\u001b[0m\u001b[0;34m=\u001b[0m\u001b[0;34m\"A\"\u001b[0m\u001b[0;34m,\u001b[0m \u001b[0minitial_size\u001b[0m\u001b[0;34m=\u001b[0m\u001b[0;36m1\u001b[0m\u001b[0;34m)\u001b[0m\u001b[0;34m\u001b[0m\u001b[0;34m\u001b[0m\u001b[0m\n\u001b[1;32m      3\u001b[0m \u001b[0mdemography\u001b[0m\u001b[0;34m.\u001b[0m\u001b[0madd_population\u001b[0m\u001b[0;34m(\u001b[0m\u001b[0mname\u001b[0m\u001b[0;34m=\u001b[0m\u001b[0;34m\"B\"\u001b[0m\u001b[0;34m,\u001b[0m \u001b[0minitial_size\u001b[0m\u001b[0;34m=\u001b[0m\u001b[0;36m1\u001b[0m\u001b[0;34m)\u001b[0m\u001b[0;34m\u001b[0m\u001b[0;34m\u001b[0m\u001b[0m\n\u001b[0;32m----> 4\u001b[0;31m \u001b[0mmsprime\u001b[0m\u001b[0;34m.\u001b[0m\u001b[0msim_ancestry\u001b[0m\u001b[0;34m(\u001b[0m\u001b[0msamples\u001b[0m\u001b[0;34m=\u001b[0m\u001b[0;34m{\u001b[0m\u001b[0;34m\"A\"\u001b[0m\u001b[0;34m:\u001b[0m \u001b[0;36m1\u001b[0m\u001b[0;34m,\u001b[0m \u001b[0;34m\"B\"\u001b[0m\u001b[0;34m:\u001b[0m \u001b[0;36m1\u001b[0m\u001b[0;34m}\u001b[0m\u001b[0;34m,\u001b[0m \u001b[0mdemography\u001b[0m\u001b[0;34m=\u001b[0m\u001b[0mdemography\u001b[0m\u001b[0;34m)\u001b[0m\u001b[0;34m\u001b[0m\u001b[0;34m\u001b[0m\u001b[0m\n\u001b[0m",
      "\u001b[0;32m~/work/tskit-site/tskit-site/msprime/ancestry.py\u001b[0m in \u001b[0;36msim_ancestry\u001b[0;34m(samples, demography, sequence_length, discrete_genome, recombination_rate, gene_conversion_rate, gene_conversion_tract_length, population_size, ploidy, model, initial_state, start_time, end_time, record_migrations, record_full_arg, num_labels, random_seed, num_replicates, replicate_index, record_provenance)\u001b[0m\n\u001b[1;32m   1164\u001b[0m         \u001b[0mrandom_seed\u001b[0m\u001b[0;34m=\u001b[0m\u001b[0mrandom_seed\u001b[0m\u001b[0;34m,\u001b[0m\u001b[0;34m\u001b[0m\u001b[0;34m\u001b[0m\u001b[0m\n\u001b[1;32m   1165\u001b[0m     )\n\u001b[0;32m-> 1166\u001b[0;31m     return _wrap_replicates(\n\u001b[0m\u001b[1;32m   1167\u001b[0m         \u001b[0msim\u001b[0m\u001b[0;34m,\u001b[0m\u001b[0;34m\u001b[0m\u001b[0;34m\u001b[0m\u001b[0m\n\u001b[1;32m   1168\u001b[0m         \u001b[0mnum_replicates\u001b[0m\u001b[0;34m=\u001b[0m\u001b[0mnum_replicates\u001b[0m\u001b[0;34m,\u001b[0m\u001b[0;34m\u001b[0m\u001b[0;34m\u001b[0m\u001b[0m\n",
      "\u001b[0;32m~/work/tskit-site/tskit-site/msprime/ancestry.py\u001b[0m in \u001b[0;36m_wrap_replicates\u001b[0;34m(simulator, num_replicates, replicate_index, provenance_dict, mutation_rate)\u001b[0m\n\u001b[1;32m    671\u001b[0m     )\n\u001b[1;32m    672\u001b[0m     \u001b[0;32mif\u001b[0m \u001b[0mreplicate_index\u001b[0m \u001b[0;32mis\u001b[0m \u001b[0;32mnot\u001b[0m \u001b[0;32mNone\u001b[0m\u001b[0;34m:\u001b[0m\u001b[0;34m\u001b[0m\u001b[0;34m\u001b[0m\u001b[0m\n\u001b[0;32m--> 673\u001b[0;31m         \u001b[0mdeque\u001b[0m \u001b[0;34m=\u001b[0m \u001b[0mcollections\u001b[0m\u001b[0;34m.\u001b[0m\u001b[0mdeque\u001b[0m\u001b[0;34m(\u001b[0m\u001b[0miterator\u001b[0m\u001b[0;34m,\u001b[0m \u001b[0mmaxlen\u001b[0m\u001b[0;34m=\u001b[0m\u001b[0;36m1\u001b[0m\u001b[0;34m)\u001b[0m\u001b[0;34m\u001b[0m\u001b[0;34m\u001b[0m\u001b[0m\n\u001b[0m\u001b[1;32m    674\u001b[0m         \u001b[0;32mreturn\u001b[0m \u001b[0mdeque\u001b[0m\u001b[0;34m.\u001b[0m\u001b[0mpop\u001b[0m\u001b[0;34m(\u001b[0m\u001b[0;34m)\u001b[0m\u001b[0;34m\u001b[0m\u001b[0;34m\u001b[0m\u001b[0m\n\u001b[1;32m    675\u001b[0m     \u001b[0;32melse\u001b[0m\u001b[0;34m:\u001b[0m\u001b[0;34m\u001b[0m\u001b[0;34m\u001b[0m\u001b[0m\n",
      "\u001b[0;32m~/work/tskit-site/tskit-site/msprime/ancestry.py\u001b[0m in \u001b[0;36mrun_replicates\u001b[0;34m(self, num_replicates, mutation_rate, provenance_dict)\u001b[0m\n\u001b[1;32m   1435\u001b[0m         \u001b[0;32mfor\u001b[0m \u001b[0mreplicate_index\u001b[0m \u001b[0;32min\u001b[0m \u001b[0mrange\u001b[0m\u001b[0;34m(\u001b[0m\u001b[0mnum_replicates\u001b[0m\u001b[0;34m)\u001b[0m\u001b[0;34m:\u001b[0m\u001b[0;34m\u001b[0m\u001b[0;34m\u001b[0m\u001b[0m\n\u001b[1;32m   1436\u001b[0m             \u001b[0mlogger\u001b[0m\u001b[0;34m.\u001b[0m\u001b[0minfo\u001b[0m\u001b[0;34m(\u001b[0m\u001b[0;34m\"Starting replicate %d\"\u001b[0m\u001b[0;34m,\u001b[0m \u001b[0mreplicate_index\u001b[0m\u001b[0;34m)\u001b[0m\u001b[0;34m\u001b[0m\u001b[0;34m\u001b[0m\u001b[0m\n\u001b[0;32m-> 1437\u001b[0;31m             \u001b[0mself\u001b[0m\u001b[0;34m.\u001b[0m\u001b[0mrun\u001b[0m\u001b[0;34m(\u001b[0m\u001b[0;34m)\u001b[0m\u001b[0;34m\u001b[0m\u001b[0;34m\u001b[0m\u001b[0m\n\u001b[0m\u001b[1;32m   1438\u001b[0m             \u001b[0;32mif\u001b[0m \u001b[0mmutation_rate\u001b[0m \u001b[0;32mis\u001b[0m \u001b[0;32mnot\u001b[0m \u001b[0;32mNone\u001b[0m\u001b[0;34m:\u001b[0m\u001b[0;34m\u001b[0m\u001b[0;34m\u001b[0m\u001b[0m\n\u001b[1;32m   1439\u001b[0m                 \u001b[0;31m# This is only called from simulate() or the ms interface,\u001b[0m\u001b[0;34m\u001b[0m\u001b[0;34m\u001b[0m\u001b[0;34m\u001b[0m\u001b[0m\n",
      "\u001b[0;32m~/work/tskit-site/tskit-site/msprime/ancestry.py\u001b[0m in \u001b[0;36mrun\u001b[0;34m(self, event_chunk, debug_func)\u001b[0m\n\u001b[1;32m   1400\u001b[0m                 \u001b[0;32mraise\u001b[0m \u001b[0mValueError\u001b[0m\u001b[0;34m(\u001b[0m\u001b[0;34m\"Model durations must be >= 0\"\u001b[0m\u001b[0;34m)\u001b[0m\u001b[0;34m\u001b[0m\u001b[0;34m\u001b[0m\u001b[0m\n\u001b[1;32m   1401\u001b[0m             \u001b[0mend_time\u001b[0m \u001b[0;34m=\u001b[0m \u001b[0mmin\u001b[0m\u001b[0;34m(\u001b[0m\u001b[0mself\u001b[0m\u001b[0;34m.\u001b[0m\u001b[0mtime\u001b[0m \u001b[0;34m+\u001b[0m \u001b[0mmodel_duration\u001b[0m\u001b[0;34m,\u001b[0m \u001b[0mself\u001b[0m\u001b[0;34m.\u001b[0m\u001b[0mend_time\u001b[0m\u001b[0;34m)\u001b[0m\u001b[0;34m\u001b[0m\u001b[0;34m\u001b[0m\u001b[0m\n\u001b[0;32m-> 1402\u001b[0;31m             \u001b[0mexit_reason\u001b[0m \u001b[0;34m=\u001b[0m \u001b[0mself\u001b[0m\u001b[0;34m.\u001b[0m\u001b[0m_run_until\u001b[0m\u001b[0;34m(\u001b[0m\u001b[0mend_time\u001b[0m\u001b[0;34m,\u001b[0m \u001b[0mevent_chunk\u001b[0m\u001b[0;34m,\u001b[0m \u001b[0mdebug_func\u001b[0m\u001b[0;34m)\u001b[0m\u001b[0;34m\u001b[0m\u001b[0;34m\u001b[0m\u001b[0m\n\u001b[0m\u001b[1;32m   1403\u001b[0m             \u001b[0;32mif\u001b[0m \u001b[0mexit_reason\u001b[0m \u001b[0;34m==\u001b[0m \u001b[0mExitReason\u001b[0m\u001b[0;34m.\u001b[0m\u001b[0mCOALESCENCE\u001b[0m \u001b[0;32mor\u001b[0m \u001b[0mself\u001b[0m\u001b[0;34m.\u001b[0m\u001b[0mtime\u001b[0m \u001b[0;34m==\u001b[0m \u001b[0mself\u001b[0m\u001b[0;34m.\u001b[0m\u001b[0mend_time\u001b[0m\u001b[0;34m:\u001b[0m\u001b[0;34m\u001b[0m\u001b[0;34m\u001b[0m\u001b[0m\n\u001b[1;32m   1404\u001b[0m                 \u001b[0mlogger\u001b[0m\u001b[0;34m.\u001b[0m\u001b[0mdebug\u001b[0m\u001b[0;34m(\u001b[0m\u001b[0;34m\"Skipping remaining %d models\"\u001b[0m\u001b[0;34m,\u001b[0m \u001b[0mlen\u001b[0m\u001b[0;34m(\u001b[0m\u001b[0mself\u001b[0m\u001b[0;34m.\u001b[0m\u001b[0mmodels\u001b[0m\u001b[0;34m)\u001b[0m \u001b[0;34m-\u001b[0m \u001b[0mj\u001b[0m \u001b[0;34m-\u001b[0m \u001b[0;36m1\u001b[0m\u001b[0;34m)\u001b[0m\u001b[0;34m\u001b[0m\u001b[0;34m\u001b[0m\u001b[0m\n",
      "\u001b[0;32m~/work/tskit-site/tskit-site/msprime/ancestry.py\u001b[0m in \u001b[0;36m_run_until\u001b[0;34m(self, end_time, event_chunk, debug_func)\u001b[0m\n\u001b[1;32m   1365\u001b[0m         \u001b[0mret\u001b[0m \u001b[0;34m=\u001b[0m \u001b[0mExitReason\u001b[0m\u001b[0;34m.\u001b[0m\u001b[0mMAX_EVENTS\u001b[0m\u001b[0;34m\u001b[0m\u001b[0;34m\u001b[0m\u001b[0m\n\u001b[1;32m   1366\u001b[0m         \u001b[0;32mwhile\u001b[0m \u001b[0mret\u001b[0m \u001b[0;34m==\u001b[0m \u001b[0mExitReason\u001b[0m\u001b[0;34m.\u001b[0m\u001b[0mMAX_EVENTS\u001b[0m\u001b[0;34m:\u001b[0m\u001b[0;34m\u001b[0m\u001b[0;34m\u001b[0m\u001b[0m\n\u001b[0;32m-> 1367\u001b[0;31m             \u001b[0mret\u001b[0m \u001b[0;34m=\u001b[0m \u001b[0mExitReason\u001b[0m\u001b[0;34m(\u001b[0m\u001b[0msuper\u001b[0m\u001b[0;34m(\u001b[0m\u001b[0;34m)\u001b[0m\u001b[0;34m.\u001b[0m\u001b[0mrun\u001b[0m\u001b[0;34m(\u001b[0m\u001b[0mend_time\u001b[0m\u001b[0;34m,\u001b[0m \u001b[0mevent_chunk\u001b[0m\u001b[0;34m)\u001b[0m\u001b[0;34m)\u001b[0m\u001b[0;34m\u001b[0m\u001b[0;34m\u001b[0m\u001b[0m\n\u001b[0m\u001b[1;32m   1368\u001b[0m             \u001b[0;32mif\u001b[0m \u001b[0mself\u001b[0m\u001b[0;34m.\u001b[0m\u001b[0mtime\u001b[0m \u001b[0;34m>\u001b[0m \u001b[0mend_time\u001b[0m\u001b[0;34m:\u001b[0m\u001b[0;34m\u001b[0m\u001b[0;34m\u001b[0m\u001b[0m\n\u001b[1;32m   1369\u001b[0m                 \u001b[0;31m# Currently the Pedigree and Sweeps models are \"non-reentrant\"\u001b[0m\u001b[0;34m\u001b[0m\u001b[0;34m\u001b[0m\u001b[0;34m\u001b[0m\u001b[0m\n",
      "\u001b[0;31mLibraryError\u001b[0m: Infinite waiting time until next simulation event."
     ]
    }
   ],
   "source": [
    "demography = msprime.Demography()\n",
    "demography.add_population(name=\"A\", initial_size=1)\n",
    "demography.add_population(name=\"B\", initial_size=1)\n",
    "msprime.sim_ancestry(samples={\"A\": 1, \"B\": 1}, demography=demography)"
   ]
  }
 ],
 "metadata": {
  "jupytext": {
   "text_representation": {
    "extension": ".md",
    "format_name": "myst",
    "format_version": 0.12,
    "jupytext_version": "1.9.1"
   }
  },
  "kernelspec": {
   "display_name": "Python 3",
   "language": "python",
   "name": "python3"
  },
  "language_info": {
   "codemirror_mode": {
    "name": "ipython",
    "version": 3
   },
   "file_extension": ".py",
   "mimetype": "text/x-python",
   "name": "python",
   "nbconvert_exporter": "python",
   "pygments_lexer": "ipython3",
   "version": "3.8.10"
  },
  "source_map": [
   15,
   22,
   40,
   43,
   112,
   115,
   143,
   151,
   159,
   167,
   200,
   210,
   224,
   234,
   256,
   265,
   326,
   331,
   334,
   342,
   345,
   379,
   383,
   413,
   423,
   431,
   460,
   463,
   468,
   471,
   493,
   497,
   501,
   504,
   508,
   512,
   529,
   533,
   559,
   564,
   571,
   575,
   583,
   590,
   593,
   599,
   607,
   610,
   628,
   634,
   637,
   642,
   649,
   652,
   729,
   745,
   763,
   775,
   785,
   795,
   822,
   828,
   869,
   873,
   897,
   909,
   917,
   944,
   954,
   1003,
   1022,
   1033,
   1043,
   1045,
   1054,
   1057,
   1072,
   1077,
   1082,
   1088,
   1097,
   1103,
   1116,
   1119,
   1131,
   1135,
   1160,
   1163,
   1183,
   1186,
   1190,
   1193,
   1211,
   1230,
   1294,
   1297,
   1308,
   1312,
   1348,
   1353,
   1370,
   1373,
   1382,
   1385,
   1399,
   1406,
   1408,
   1415,
   1420,
   1427,
   1443,
   1446,
   1454,
   1458,
   1464,
   1470,
   1569,
   1576,
   1582,
   1590,
   1606,
   1613,
   1626,
   1634,
   1666,
   1681,
   1688,
   1696,
   1725,
   1735,
   1780,
   1785,
   1794,
   1797,
   1805,
   1808,
   1852,
   1855,
   1892,
   1903,
   1940,
   1947,
   1954,
   1961,
   1966,
   1973,
   1991,
   2004,
   2008,
   2021,
   2025,
   2032,
   2036,
   2043,
   2057,
   2070,
   2125,
   2138,
   2151,
   2160,
   2176,
   2182,
   2187,
   2195,
   2224,
   2243,
   2257,
   2267,
   2298
  ]
 },
 "nbformat": 4,
 "nbformat_minor": 5
}