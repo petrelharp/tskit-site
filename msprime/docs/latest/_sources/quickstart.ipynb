{
 "cells": [
  {
   "cell_type": "markdown",
   "id": "4fbfa6a8",
   "metadata": {},
   "source": [
    "(sec_quickstart)=\n",
    "\n",
    "# Quickstart\n",
    "\n",
    "This page gives some simple examples of how to use the major features\n",
    "of {program}`msprime`, with links to more detailed documentation\n",
    "and tutorial content.\n",
    "\n",
    "See the {ref}`sec_installation` page for instructions on installing\n",
    "{program}`msprime` (short version: ``pip install msprime`` or\n",
    "``conda install -c conda-forge msprime`` will work for most users).\n",
    "\n",
    "(sec_quickstart_ancestry)=\n",
    "\n",
    "## Ancestry\n",
    "\n",
    "Msprime simulates ancestral histories for a set of sample genomes\n",
    "using backwards-in-time population genetic models.\n",
    "Here we run a simple simulation of a short recombining sequence under\n",
    "human-like parameters:"
   ]
  },
  {
   "cell_type": "code",
   "execution_count": 1,
   "id": "5be3a416",
   "metadata": {},
   "outputs": [
    {
     "data": {
      "image/svg+xml": [
       "<svg xmlns=\"http://www.w3.org/2000/svg\" xmlns:ev=\"http://www.w3.org/2001/xml-events\" xmlns:xlink=\"http://www.w3.org/1999/xlink\" baseProfile=\"full\" height=\"200\" version=\"1.1\" width=\"800\"><defs><style type=\"text/css\"><![CDATA[.tree-sequence .background path {fill: #808080; fill-opacity:0}.tree-sequence .background path:nth-child(odd) {fill-opacity:.1}.axes {font-size: 14px}.x-axis .tick .lab {font-weight: bold}.axes, .tree {font-size: 14px; text-anchor:middle}.y-axis line.grid {stroke: #FAFAFA}.y-axis > .lab text {transform: translateX(0.8em) rotate(-90deg)}.x-axis .tick g {transform: translateY(0.9em)}.x-axis > .lab text {transform: translateY(-0.8em)}.axes line, .edge {stroke:black; fill:none}.node > .sym {fill: black; stroke: none}.site > .sym {stroke: black}.mut text {fill: red; font-style: italic}.mut line {fill: none; stroke: none}.mut .sym {fill: none; stroke: red}.node .mut .sym {stroke-width: 1.5px}.tree text, .tree-sequence text {dominant-baseline: central}.plotbox .lab.lft {text-anchor: end}.plotbox .lab.rgt {text-anchor: start}]]></style></defs><g class=\"tree-sequence\"><g class=\"background\"><path d=\"M20,0 l190,0 l0,138.2 l-168.568,25 l0,5 l-21.432,0 l0,-5 l0,-25 l0,-138.2z\"/><path d=\"M210,0 l190,0 l0,138.2 l-261.136,25 l0,5 l-97.432,0 l0,-5 l168.568,-25 l0,-138.2z\"/><path d=\"M400,0 l190,0 l0,138.2 l38.152,25 l0,5 l-489.288,0 l0,-5 l261.136,-25 l0,-138.2z\"/><path d=\"M590,0 l190,0 l0,138.2 l0,25 l0,5 l-151.848,0 l0,-5 l-38.152,-25 l0,-138.2z\"/></g><g class=\"axes\"><g class=\"x-axis\"><g class=\"lab\" transform=\"translate(400,200)\"><text text-anchor=\"middle\">Genome position</text></g><line x1=\"20\" x2=\"780\" y1=\"163.2\" y2=\"163.2\"/><g class=\"tick\" transform=\"translate(20 163.2)\"><line x1=\"0\" x2=\"0\" y1=\"0\" y2=\"5\"/><g class=\"lab\" transform=\"translate(0,5)\"><text>0</text></g></g><g class=\"tick\" transform=\"translate(41.432 163.2)\"><line x1=\"0\" x2=\"0\" y1=\"0\" y2=\"5\"/><g class=\"lab\" transform=\"translate(0,5)\"><text>141</text></g></g><g class=\"tick\" transform=\"translate(138.864 163.2)\"><line x1=\"0\" x2=\"0\" y1=\"0\" y2=\"5\"/><g class=\"lab\" transform=\"translate(0,5)\"><text>782</text></g></g><g class=\"tick\" transform=\"translate(628.152 163.2)\"><line x1=\"0\" x2=\"0\" y1=\"0\" y2=\"5\"/><g class=\"lab\" transform=\"translate(0,5)\"><text>4001</text></g></g><g class=\"tick\" transform=\"translate(780 163.2)\"><line x1=\"0\" x2=\"0\" y1=\"0\" y2=\"5\"/><g class=\"lab\" transform=\"translate(0,5)\"><text>5000</text></g></g></g></g><g class=\"plotbox trees\"><g class=\"tree t0\" transform=\"translate(20 0)\"><g class=\"plotbox\"><g class=\"node n13 p0 root\" transform=\"translate(124.688 26.8)\"><g class=\"a13 i1 leaf node n3 p0 sample\" transform=\"translate(32.8125 94.6)\"><path class=\"edge\" d=\"M 0 0 V -94.6 H -32.8125\"/><rect class=\"sym\" height=\"6\" width=\"6\" x=\"-3\" y=\"-3\"/><text class=\"lab\" transform=\"translate(0 11)\">3</text></g><g class=\"a13 node n10 p0\" transform=\"translate(-32.8125 79.037)\"><g class=\"a10 node n8 p0\" transform=\"translate(28.125 12.0777)\"><g class=\"a8 i0 leaf node n1 p0 sample\" transform=\"translate(-12.5 3.48524)\"><path class=\"edge\" d=\"M 0 0 V -3.48524 H 12.5\"/><rect class=\"sym\" height=\"6\" width=\"6\" x=\"-3\" y=\"-3\"/><text class=\"lab\" transform=\"translate(0 11)\">1</text></g><g class=\"a8 i2 leaf node n5 p0 sample\" transform=\"translate(12.5 3.48524)\"><path class=\"edge\" d=\"M 0 0 V -3.48524 H -12.5\"/><rect class=\"sym\" height=\"6\" width=\"6\" x=\"-3\" y=\"-3\"/><text class=\"lab\" transform=\"translate(0 11)\">5</text></g><path class=\"edge\" d=\"M 0 0 V -12.0777 H -28.125\"/><circle class=\"sym\" cx=\"0\" cy=\"0\" r=\"3\"/><text class=\"lab rgt\" transform=\"translate(3 -7.0)\">8</text></g><g class=\"a10 node n9 p0\" transform=\"translate(-28.125 11.4842)\"><g class=\"a9 i2 leaf node n4 p0 sample\" transform=\"translate(18.75 4.07879)\"><path class=\"edge\" d=\"M 0 0 V -4.07879 H -18.75\"/><rect class=\"sym\" height=\"6\" width=\"6\" x=\"-3\" y=\"-3\"/><text class=\"lab\" transform=\"translate(0 11)\">4</text></g><g class=\"a9 node n6 p0\" transform=\"translate(-18.75 3.0756)\"><g class=\"a6 i0 leaf node n0 p0 sample\" transform=\"translate(-12.5 1.00319)\"><path class=\"edge\" d=\"M 0 0 V -1.00319 H 12.5\"/><rect class=\"sym\" height=\"6\" width=\"6\" x=\"-3\" y=\"-3\"/><text class=\"lab\" transform=\"translate(0 11)\">0</text></g><g class=\"a6 i1 leaf node n2 p0 sample\" transform=\"translate(12.5 1.00319)\"><path class=\"edge\" d=\"M 0 0 V -1.00319 H -12.5\"/><rect class=\"sym\" height=\"6\" width=\"6\" x=\"-3\" y=\"-3\"/><text class=\"lab\" transform=\"translate(0 11)\">2</text></g><path class=\"edge\" d=\"M 0 0 V -3.0756 H 18.75\"/><circle class=\"sym\" cx=\"0\" cy=\"0\" r=\"3\"/><text class=\"lab lft\" transform=\"translate(-3 -7.0)\">6</text></g><path class=\"edge\" d=\"M 0 0 V -11.4842 H 28.125\"/><circle class=\"sym\" cx=\"0\" cy=\"0\" r=\"3\"/><text class=\"lab lft\" transform=\"translate(-3 -7.0)\">9</text></g><path class=\"edge\" d=\"M 0 0 V -79.037 H 32.8125\"/><circle class=\"sym\" cx=\"0\" cy=\"0\" r=\"3\"/><text class=\"lab lft\" transform=\"translate(-3 -7.0)\">10</text></g><circle class=\"sym\" cx=\"0\" cy=\"0\" r=\"3\"/><text class=\"lab\" transform=\"translate(0 -11)\">13</text></g></g></g><g class=\"tree t1\" transform=\"translate(210 0)\"><g class=\"plotbox\"><g class=\"node n12 p0 root\" transform=\"translate(124.688 50.9994)\"><g class=\"a12 i1 leaf node n3 p0 sample\" transform=\"translate(32.8125 70.4006)\"><path class=\"edge\" d=\"M 0 0 V -70.4006 H -32.8125\"/><rect class=\"sym\" height=\"6\" width=\"6\" x=\"-3\" y=\"-3\"/><text class=\"lab\" transform=\"translate(0 11)\">3</text></g><g class=\"a12 node n10 p0\" transform=\"translate(-32.8125 54.8376)\"><g class=\"a10 node n8 p0\" transform=\"translate(28.125 12.0777)\"><g class=\"a8 i0 leaf node n1 p0 sample\" transform=\"translate(-12.5 3.48524)\"><path class=\"edge\" d=\"M 0 0 V -3.48524 H 12.5\"/><rect class=\"sym\" height=\"6\" width=\"6\" x=\"-3\" y=\"-3\"/><text class=\"lab\" transform=\"translate(0 11)\">1</text></g><g class=\"a8 i2 leaf node n5 p0 sample\" transform=\"translate(12.5 3.48524)\"><path class=\"edge\" d=\"M 0 0 V -3.48524 H -12.5\"/><rect class=\"sym\" height=\"6\" width=\"6\" x=\"-3\" y=\"-3\"/><text class=\"lab\" transform=\"translate(0 11)\">5</text></g><path class=\"edge\" d=\"M 0 0 V -12.0777 H -28.125\"/><circle class=\"sym\" cx=\"0\" cy=\"0\" r=\"3\"/><text class=\"lab rgt\" transform=\"translate(3 -7.0)\">8</text></g><g class=\"a10 node n9 p0\" transform=\"translate(-28.125 11.4842)\"><g class=\"a9 i2 leaf node n4 p0 sample\" transform=\"translate(18.75 4.07879)\"><path class=\"edge\" d=\"M 0 0 V -4.07879 H -18.75\"/><rect class=\"sym\" height=\"6\" width=\"6\" x=\"-3\" y=\"-3\"/><text class=\"lab\" transform=\"translate(0 11)\">4</text></g><g class=\"a9 node n6 p0\" transform=\"translate(-18.75 3.0756)\"><g class=\"a6 i0 leaf node n0 p0 sample\" transform=\"translate(-12.5 1.00319)\"><path class=\"edge\" d=\"M 0 0 V -1.00319 H 12.5\"/><rect class=\"sym\" height=\"6\" width=\"6\" x=\"-3\" y=\"-3\"/><text class=\"lab\" transform=\"translate(0 11)\">0</text></g><g class=\"a6 i1 leaf node n2 p0 sample\" transform=\"translate(12.5 1.00319)\"><path class=\"edge\" d=\"M 0 0 V -1.00319 H -12.5\"/><rect class=\"sym\" height=\"6\" width=\"6\" x=\"-3\" y=\"-3\"/><text class=\"lab\" transform=\"translate(0 11)\">2</text></g><path class=\"edge\" d=\"M 0 0 V -3.0756 H 18.75\"/><circle class=\"sym\" cx=\"0\" cy=\"0\" r=\"3\"/><text class=\"lab lft\" transform=\"translate(-3 -7.0)\">6</text></g><path class=\"edge\" d=\"M 0 0 V -11.4842 H 28.125\"/><circle class=\"sym\" cx=\"0\" cy=\"0\" r=\"3\"/><text class=\"lab lft\" transform=\"translate(-3 -7.0)\">9</text></g><path class=\"edge\" d=\"M 0 0 V -54.8376 H 32.8125\"/><circle class=\"sym\" cx=\"0\" cy=\"0\" r=\"3\"/><text class=\"lab lft\" transform=\"translate(-3 -7.0)\">10</text></g><circle class=\"sym\" cx=\"0\" cy=\"0\" r=\"3\"/><text class=\"lab\" transform=\"translate(0 -11)\">12</text></g></g></g><g class=\"tree t2\" transform=\"translate(400 0)\"><g class=\"plotbox\"><g class=\"node n11 p0 root\" transform=\"translate(124.688 90.3248)\"><g class=\"a11 i1 leaf node n3 p0 sample\" transform=\"translate(32.8125 31.0752)\"><path class=\"edge\" d=\"M 0 0 V -31.0752 H -32.8125\"/><rect class=\"sym\" height=\"6\" width=\"6\" x=\"-3\" y=\"-3\"/><text class=\"lab\" transform=\"translate(0 11)\">3</text></g><g class=\"a11 node n10 p0\" transform=\"translate(-32.8125 15.5122)\"><g class=\"a10 node n8 p0\" transform=\"translate(28.125 12.0777)\"><g class=\"a8 i0 leaf node n1 p0 sample\" transform=\"translate(-12.5 3.48524)\"><path class=\"edge\" d=\"M 0 0 V -3.48524 H 12.5\"/><rect class=\"sym\" height=\"6\" width=\"6\" x=\"-3\" y=\"-3\"/><text class=\"lab\" transform=\"translate(0 11)\">1</text></g><g class=\"a8 i2 leaf node n5 p0 sample\" transform=\"translate(12.5 3.48524)\"><path class=\"edge\" d=\"M 0 0 V -3.48524 H -12.5\"/><rect class=\"sym\" height=\"6\" width=\"6\" x=\"-3\" y=\"-3\"/><text class=\"lab\" transform=\"translate(0 11)\">5</text></g><path class=\"edge\" d=\"M 0 0 V -12.0777 H -28.125\"/><circle class=\"sym\" cx=\"0\" cy=\"0\" r=\"3\"/><text class=\"lab rgt\" transform=\"translate(3 -7.0)\">8</text></g><g class=\"a10 node n9 p0\" transform=\"translate(-28.125 11.4842)\"><g class=\"a9 i2 leaf node n4 p0 sample\" transform=\"translate(18.75 4.07879)\"><path class=\"edge\" d=\"M 0 0 V -4.07879 H -18.75\"/><rect class=\"sym\" height=\"6\" width=\"6\" x=\"-3\" y=\"-3\"/><text class=\"lab\" transform=\"translate(0 11)\">4</text></g><g class=\"a9 node n6 p0\" transform=\"translate(-18.75 3.0756)\"><g class=\"a6 i0 leaf node n0 p0 sample\" transform=\"translate(-12.5 1.00319)\"><path class=\"edge\" d=\"M 0 0 V -1.00319 H 12.5\"/><rect class=\"sym\" height=\"6\" width=\"6\" x=\"-3\" y=\"-3\"/><text class=\"lab\" transform=\"translate(0 11)\">0</text></g><g class=\"a6 i1 leaf node n2 p0 sample\" transform=\"translate(12.5 1.00319)\"><path class=\"edge\" d=\"M 0 0 V -1.00319 H -12.5\"/><rect class=\"sym\" height=\"6\" width=\"6\" x=\"-3\" y=\"-3\"/><text class=\"lab\" transform=\"translate(0 11)\">2</text></g><path class=\"edge\" d=\"M 0 0 V -3.0756 H 18.75\"/><circle class=\"sym\" cx=\"0\" cy=\"0\" r=\"3\"/><text class=\"lab lft\" transform=\"translate(-3 -7.0)\">6</text></g><path class=\"edge\" d=\"M 0 0 V -11.4842 H 28.125\"/><circle class=\"sym\" cx=\"0\" cy=\"0\" r=\"3\"/><text class=\"lab lft\" transform=\"translate(-3 -7.0)\">9</text></g><path class=\"edge\" d=\"M 0 0 V -15.5122 H 32.8125\"/><circle class=\"sym\" cx=\"0\" cy=\"0\" r=\"3\"/><text class=\"lab lft\" transform=\"translate(-3 -7.0)\">10</text></g><circle class=\"sym\" cx=\"0\" cy=\"0\" r=\"3\"/><text class=\"lab\" transform=\"translate(0 -11)\">11</text></g></g></g><g class=\"tree t3\" transform=\"translate(590 0)\"><g class=\"plotbox\"><g class=\"node n11 p0 root\" transform=\"translate(124.688 90.3248)\"><g class=\"a11 i1 leaf node n3 p0 sample\" transform=\"translate(32.8125 31.0752)\"><path class=\"edge\" d=\"M 0 0 V -31.0752 H -32.8125\"/><rect class=\"sym\" height=\"6\" width=\"6\" x=\"-3\" y=\"-3\"/><text class=\"lab\" transform=\"translate(0 11)\">3</text></g><g class=\"a11 node n10 p0\" transform=\"translate(-32.8125 15.5122)\"><g class=\"a10 node n8 p0\" transform=\"translate(-28.125 12.0777)\"><g class=\"a8 i2 leaf node n5 p0 sample\" transform=\"translate(18.75 3.48524)\"><path class=\"edge\" d=\"M 0 0 V -3.48524 H -18.75\"/><rect class=\"sym\" height=\"6\" width=\"6\" x=\"-3\" y=\"-3\"/><text class=\"lab\" transform=\"translate(0 11)\">5</text></g><g class=\"a8 node n7 p0\" transform=\"translate(-18.75 1.62753)\"><g class=\"a7 i0 leaf node n0 p0 sample\" transform=\"translate(-12.5 1.85771)\"><path class=\"edge\" d=\"M 0 0 V -1.85771 H 12.5\"/><rect class=\"sym\" height=\"6\" width=\"6\" x=\"-3\" y=\"-3\"/><text class=\"lab\" transform=\"translate(0 11)\">0</text></g><g class=\"a7 i0 leaf node n1 p0 sample\" transform=\"translate(12.5 1.85771)\"><path class=\"edge\" d=\"M 0 0 V -1.85771 H -12.5\"/><rect class=\"sym\" height=\"6\" width=\"6\" x=\"-3\" y=\"-3\"/><text class=\"lab\" transform=\"translate(0 11)\">1</text></g><path class=\"edge\" d=\"M 0 0 V -1.62753 H 18.75\"/><circle class=\"sym\" cx=\"0\" cy=\"0\" r=\"3\"/><text class=\"lab lft\" transform=\"translate(-3 -7.0)\">7</text></g><path class=\"edge\" d=\"M 0 0 V -12.0777 H 28.125\"/><circle class=\"sym\" cx=\"0\" cy=\"0\" r=\"3\"/><text class=\"lab lft\" transform=\"translate(-3 -7.0)\">8</text></g><g class=\"a10 node n9 p0\" transform=\"translate(28.125 11.4842)\"><g class=\"a9 i2 leaf node n4 p0 sample\" transform=\"translate(12.5 4.07879)\"><path class=\"edge\" d=\"M 0 0 V -4.07879 H -12.5\"/><rect class=\"sym\" height=\"6\" width=\"6\" x=\"-3\" y=\"-3\"/><text class=\"lab\" transform=\"translate(0 11)\">4</text></g><g class=\"a9 i1 leaf node n2 p0 sample\" transform=\"translate(-12.5 4.07879)\"><path class=\"edge\" d=\"M 0 0 V -4.07879 H 12.5\"/><rect class=\"sym\" height=\"6\" width=\"6\" x=\"-3\" y=\"-3\"/><text class=\"lab\" transform=\"translate(0 11)\">2</text></g><path class=\"edge\" d=\"M 0 0 V -11.4842 H -28.125\"/><circle class=\"sym\" cx=\"0\" cy=\"0\" r=\"3\"/><text class=\"lab rgt\" transform=\"translate(3 -7.0)\">9</text></g><path class=\"edge\" d=\"M 0 0 V -15.5122 H 32.8125\"/><circle class=\"sym\" cx=\"0\" cy=\"0\" r=\"3\"/><text class=\"lab lft\" transform=\"translate(-3 -7.0)\">10</text></g><circle class=\"sym\" cx=\"0\" cy=\"0\" r=\"3\"/><text class=\"lab\" transform=\"translate(0 -11)\">11</text></g></g></g></g></g></svg>"
      ],
      "text/plain": [
       "<IPython.core.display.SVG object>"
      ]
     },
     "execution_count": 1,
     "metadata": {
      "filenames": {
       "image/svg+xml": "/home/runner/work/tskit-site/tskit-site/docs/_build/jupyter_execute/quickstart_1_0.svg"
      }
     },
     "output_type": "execute_result"
    }
   ],
   "source": [
    "    import msprime\n",
    "    from IPython.display import SVG, display\n",
    "\n",
    "    # Simulate an ancestral history for 3 diploid samples under the coalescent\n",
    "    # with recombination on a 5kb region with human-like parameters.\n",
    "    ts = msprime.sim_ancestry(\n",
    "        samples=3,\n",
    "        recombination_rate=1e-8,\n",
    "        sequence_length=5_000,\n",
    "        population_size=10_000,\n",
    "        random_seed=123456)\n",
    "    # Visualise the simulated ancestral history.\n",
    "    SVG(ts.draw_svg())"
   ]
  },
  {
   "cell_type": "markdown",
   "id": "d377235f",
   "metadata": {},
   "source": [
    "In this example we simulate the ancestral history of three diploid\n",
    "individuals (see {ref}`sec_ancestry_samples` and {ref}`sec_ancestry_ploidy`)\n",
    "for a 5kb sequence with a\n",
    "[recombination](<https://en.wikipedia.org/wiki/Genetic_recombination>)\n",
    "rate of {math}`10^{-8}`\n",
    "(see {ref}`sec_ancestry_genome_properties`)\n",
    "from a population with a constant size of 10,000 (see\n",
    "the {ref}`sec_quickstart_demography` section below)\n",
    "under the default\n",
    "[coalescent](<https://en.wikipedia.org/wiki/Coalescent_theory>)\n",
    "ancestry model (see the {ref}`sec_ancestry_models` for details on\n",
    "other available models).\n",
    "To ensure that\n",
    "the output of this example is predictable, we set a random seed\n",
    "(see {ref}`sec_randomness_seeds`).\n",
    "\n",
    "When recombination is present, the ancestry of a sample of DNA sequences\n",
    "cannot be represented by a single genealogical tree relating the\n",
    "samples to their genetic ancestors; there is instead\n",
    "a *sequence* of highly correlated trees along the genome.\n",
    "The result of our simulation is therefore a [tree sequence](https://tskit.dev)\n",
    "object from the {ref}`tskit <tskit:sec_introduction>` library,\n",
    "which provides a rich suite of operations for\n",
    "analysing these genealogical histories: see the\n",
    "{ref}`tutorials:sec_tskit_getting_started` tutorial for help.\n",
    "In this example we show a visualisation\n",
    "of the four different trees along the 5kb region\n",
    "(see the {ref}`tutorials:sec_tskit_viz` tutorial for more\n",
    "examples).  Because we have specified three diploid sample\n",
    "*individuals*, each of these trees has 6 \"sample\" nodes\n",
    "(the \"leaves\" or \"tips\"), because each diploid individual\n",
    "has two monoploid genomes (see {ref}`sec_ancestry_samples`).\n",
    "\n",
    "See the {ref}`sec_ancestry` section for more details on\n",
    "ancestry simulations.\n",
    "\n",
    "## Mutations\n",
    "\n",
    "The {func}`.sim_ancestry` function generates a simulated ancestral\n",
    "history for some samples.\n",
    "If we want [genome sequence](<https://en.wikipedia.org/wiki/Genome>)\n",
    "we must also simulate some\n",
    "[mutations](<https://en.wikipedia.org/wiki/Mutation>) on these trees.\n",
    "However, it's important to note that it's not always necessary to\n",
    "simulate mutations in order to use the simulations; often, it's\n",
    "better *not to*; see the {ref}`tutorials:sec_tskit_no_mutations`\n",
    "tutorial for more information.\n",
    "\n",
    "Given an input tree sequence (which may be generated by msprime\n",
    "or any other simulator that supports [tskit](https://tskit.dev)\n",
    "output), we can superimpose mutations on that ancestral history\n",
    "using the {func}`.sim_mutations` function under a number\n",
    "of different {ref}`models<sec_mutations_models>` of sequence\n",
    "evolution. For example,\n",
    "here we generate some mutations for the tree sequence simulated\n",
    "in the previous section under the {class}`Jukes-Cantor<.JC69>`\n",
    "model:"
   ]
  },
  {
   "cell_type": "code",
   "execution_count": 2,
   "id": "3f8c8481",
   "metadata": {},
   "outputs": [
    {
     "data": {
      "image/svg+xml": [
       "<svg xmlns=\"http://www.w3.org/2000/svg\" xmlns:ev=\"http://www.w3.org/2001/xml-events\" xmlns:xlink=\"http://www.w3.org/1999/xlink\" baseProfile=\"full\" height=\"200\" version=\"1.1\" width=\"800\"><defs><style type=\"text/css\"><![CDATA[.tree-sequence .background path {fill: #808080; fill-opacity:0}.tree-sequence .background path:nth-child(odd) {fill-opacity:.1}.axes {font-size: 14px}.x-axis .tick .lab {font-weight: bold}.axes, .tree {font-size: 14px; text-anchor:middle}.y-axis line.grid {stroke: #FAFAFA}.y-axis > .lab text {transform: translateX(0.8em) rotate(-90deg)}.x-axis .tick g {transform: translateY(0.9em)}.x-axis > .lab text {transform: translateY(-0.8em)}.axes line, .edge {stroke:black; fill:none}.node > .sym {fill: black; stroke: none}.site > .sym {stroke: black}.mut text {fill: red; font-style: italic}.mut line {fill: none; stroke: none}.mut .sym {fill: none; stroke: red}.node .mut .sym {stroke-width: 1.5px}.tree text, .tree-sequence text {dominant-baseline: central}.plotbox .lab.lft {text-anchor: end}.plotbox .lab.rgt {text-anchor: start}]]></style></defs><g class=\"tree-sequence\"><g class=\"background\"><path d=\"M20,0 l190,0 l0,138.2 l-168.568,25 l0,5 l-21.432,0 l0,-5 l0,-25 l0,-138.2z\"/><path d=\"M210,0 l190,0 l0,138.2 l-261.136,25 l0,5 l-97.432,0 l0,-5 l168.568,-25 l0,-138.2z\"/><path d=\"M400,0 l190,0 l0,138.2 l38.152,25 l0,5 l-489.288,0 l0,-5 l261.136,-25 l0,-138.2z\"/><path d=\"M590,0 l190,0 l0,138.2 l0,25 l0,5 l-151.848,0 l0,-5 l-38.152,-25 l0,-138.2z\"/></g><g class=\"axes\"><g class=\"x-axis\"><g class=\"lab\" transform=\"translate(400,200)\"><text text-anchor=\"middle\">Genome position</text></g><line x1=\"20\" x2=\"780\" y1=\"163.2\" y2=\"163.2\"/><g class=\"tick\" transform=\"translate(20 163.2)\"><line x1=\"0\" x2=\"0\" y1=\"0\" y2=\"5\"/><g class=\"lab\" transform=\"translate(0,5)\"><text>0</text></g></g><g class=\"tick\" transform=\"translate(41.432 163.2)\"><line x1=\"0\" x2=\"0\" y1=\"0\" y2=\"5\"/><g class=\"lab\" transform=\"translate(0,5)\"><text>141</text></g></g><g class=\"tick\" transform=\"translate(138.864 163.2)\"><line x1=\"0\" x2=\"0\" y1=\"0\" y2=\"5\"/><g class=\"lab\" transform=\"translate(0,5)\"><text>782</text></g></g><g class=\"tick\" transform=\"translate(628.152 163.2)\"><line x1=\"0\" x2=\"0\" y1=\"0\" y2=\"5\"/><g class=\"lab\" transform=\"translate(0,5)\"><text>4001</text></g></g><g class=\"tick\" transform=\"translate(780 163.2)\"><line x1=\"0\" x2=\"0\" y1=\"0\" y2=\"5\"/><g class=\"lab\" transform=\"translate(0,5)\"><text>5000</text></g></g><g class=\"site s0\" transform=\"translate(33.68 163.2)\"><line class=\"sym\" x1=\"0\" x2=\"0\" y1=\"0\" y2=\"-10\"/><g class=\"mut m0\"><polyline class=\"sym\" points=\"2.5,-6.5 0,-1.5 -2.5,-6.5\"/></g></g><g class=\"site s1\" transform=\"translate(70.616 163.2)\"><line class=\"sym\" x1=\"0\" x2=\"0\" y1=\"0\" y2=\"-10\"/><g class=\"mut m1\"><polyline class=\"sym\" points=\"2.5,-6.5 0,-1.5 -2.5,-6.5\"/></g></g><g class=\"site s2\" transform=\"translate(144.488 163.2)\"><line class=\"sym\" x1=\"0\" x2=\"0\" y1=\"0\" y2=\"-10\"/><g class=\"mut m2\"><polyline class=\"sym\" points=\"2.5,-6.5 0,-1.5 -2.5,-6.5\"/></g></g><g class=\"site s3\" transform=\"translate(507.008 163.2)\"><line class=\"sym\" x1=\"0\" x2=\"0\" y1=\"0\" y2=\"-10\"/><g class=\"mut m3\"><polyline class=\"sym\" points=\"2.5,-6.5 0,-1.5 -2.5,-6.5\"/></g></g></g></g><g class=\"plotbox trees\"><g class=\"tree t0\" transform=\"translate(20 0)\"><g class=\"plotbox\"><g class=\"node n13 p0 root\" transform=\"translate(124.688 26.8)\"><g class=\"a13 i1 leaf node n3 p0 sample\" transform=\"translate(32.8125 94.6)\"><path class=\"edge\" d=\"M 0 0 V -94.6 H -32.8125\"/><rect class=\"sym\" height=\"6\" width=\"6\" x=\"-3\" y=\"-3\"/><text class=\"lab\" transform=\"translate(0 11)\">3</text></g><g class=\"a13 m0 node n10 p0 s0\" transform=\"translate(-32.8125 79.037)\"><g class=\"a10 node n8 p0\" transform=\"translate(28.125 12.0777)\"><g class=\"a8 i0 leaf node n1 p0 sample\" transform=\"translate(-12.5 3.48524)\"><path class=\"edge\" d=\"M 0 0 V -3.48524 H 12.5\"/><rect class=\"sym\" height=\"6\" width=\"6\" x=\"-3\" y=\"-3\"/><text class=\"lab\" transform=\"translate(0 11)\">1</text></g><g class=\"a8 i2 leaf node n5 p0 sample\" transform=\"translate(12.5 3.48524)\"><path class=\"edge\" d=\"M 0 0 V -3.48524 H -12.5\"/><rect class=\"sym\" height=\"6\" width=\"6\" x=\"-3\" y=\"-3\"/><text class=\"lab\" transform=\"translate(0 11)\">5</text></g><path class=\"edge\" d=\"M 0 0 V -12.0777 H -28.125\"/><circle class=\"sym\" cx=\"0\" cy=\"0\" r=\"3\"/><text class=\"lab rgt\" transform=\"translate(3 -7.0)\">8</text></g><g class=\"a10 node n9 p0\" transform=\"translate(-28.125 11.4842)\"><g class=\"a9 i2 leaf node n4 p0 sample\" transform=\"translate(18.75 4.07879)\"><path class=\"edge\" d=\"M 0 0 V -4.07879 H -18.75\"/><rect class=\"sym\" height=\"6\" width=\"6\" x=\"-3\" y=\"-3\"/><text class=\"lab\" transform=\"translate(0 11)\">4</text></g><g class=\"a9 node n6 p0\" transform=\"translate(-18.75 3.0756)\"><g class=\"a6 i0 leaf node n0 p0 sample\" transform=\"translate(-12.5 1.00319)\"><path class=\"edge\" d=\"M 0 0 V -1.00319 H 12.5\"/><rect class=\"sym\" height=\"6\" width=\"6\" x=\"-3\" y=\"-3\"/><text class=\"lab\" transform=\"translate(0 11)\">0</text></g><g class=\"a6 i1 leaf node n2 p0 sample\" transform=\"translate(12.5 1.00319)\"><path class=\"edge\" d=\"M 0 0 V -1.00319 H -12.5\"/><rect class=\"sym\" height=\"6\" width=\"6\" x=\"-3\" y=\"-3\"/><text class=\"lab\" transform=\"translate(0 11)\">2</text></g><path class=\"edge\" d=\"M 0 0 V -3.0756 H 18.75\"/><circle class=\"sym\" cx=\"0\" cy=\"0\" r=\"3\"/><text class=\"lab lft\" transform=\"translate(-3 -7.0)\">6</text></g><path class=\"edge\" d=\"M 0 0 V -11.4842 H 28.125\"/><circle class=\"sym\" cx=\"0\" cy=\"0\" r=\"3\"/><text class=\"lab lft\" transform=\"translate(-3 -7.0)\">9</text></g><path class=\"edge\" d=\"M 0 0 V -79.037 H 32.8125\"/><g class=\"mut m0 s0\" transform=\"translate(0 -0.962491)\"><line x1=\"0\" x2=\"0\" y1=\"0\" y2=\"0.962491\"/><path class=\"sym\" d=\"M -3,-3 l 6,6 M -3,3 l 6,-6\"/><text class=\"lab lft\" transform=\"translate(-5 0)\">0</text></g><circle class=\"sym\" cx=\"0\" cy=\"0\" r=\"3\"/><text class=\"lab lft\" transform=\"translate(-3 -7.0)\">10</text></g><circle class=\"sym\" cx=\"0\" cy=\"0\" r=\"3\"/><text class=\"lab\" transform=\"translate(0 -11)\">13</text></g></g></g><g class=\"tree t1\" transform=\"translate(210 0)\"><g class=\"plotbox\"><g class=\"node n12 p0 root\" transform=\"translate(124.688 50.9994)\"><g class=\"a12 i1 leaf node n3 p0 sample\" transform=\"translate(32.8125 70.4006)\"><path class=\"edge\" d=\"M 0 0 V -70.4006 H -32.8125\"/><rect class=\"sym\" height=\"6\" width=\"6\" x=\"-3\" y=\"-3\"/><text class=\"lab\" transform=\"translate(0 11)\">3</text></g><g class=\"a12 m1 node n10 p0 s1\" transform=\"translate(-32.8125 54.8376)\"><g class=\"a10 node n8 p0\" transform=\"translate(28.125 12.0777)\"><g class=\"a8 i0 leaf node n1 p0 sample\" transform=\"translate(-12.5 3.48524)\"><path class=\"edge\" d=\"M 0 0 V -3.48524 H 12.5\"/><rect class=\"sym\" height=\"6\" width=\"6\" x=\"-3\" y=\"-3\"/><text class=\"lab\" transform=\"translate(0 11)\">1</text></g><g class=\"a8 i2 leaf node n5 p0 sample\" transform=\"translate(12.5 3.48524)\"><path class=\"edge\" d=\"M 0 0 V -3.48524 H -12.5\"/><rect class=\"sym\" height=\"6\" width=\"6\" x=\"-3\" y=\"-3\"/><text class=\"lab\" transform=\"translate(0 11)\">5</text></g><path class=\"edge\" d=\"M 0 0 V -12.0777 H -28.125\"/><circle class=\"sym\" cx=\"0\" cy=\"0\" r=\"3\"/><text class=\"lab rgt\" transform=\"translate(3 -7.0)\">8</text></g><g class=\"a10 node n9 p0\" transform=\"translate(-28.125 11.4842)\"><g class=\"a9 i2 leaf node n4 p0 sample\" transform=\"translate(18.75 4.07879)\"><path class=\"edge\" d=\"M 0 0 V -4.07879 H -18.75\"/><rect class=\"sym\" height=\"6\" width=\"6\" x=\"-3\" y=\"-3\"/><text class=\"lab\" transform=\"translate(0 11)\">4</text></g><g class=\"a9 node n6 p0\" transform=\"translate(-18.75 3.0756)\"><g class=\"a6 i0 leaf node n0 p0 sample\" transform=\"translate(-12.5 1.00319)\"><path class=\"edge\" d=\"M 0 0 V -1.00319 H 12.5\"/><rect class=\"sym\" height=\"6\" width=\"6\" x=\"-3\" y=\"-3\"/><text class=\"lab\" transform=\"translate(0 11)\">0</text></g><g class=\"a6 i1 leaf node n2 p0 sample\" transform=\"translate(12.5 1.00319)\"><path class=\"edge\" d=\"M 0 0 V -1.00319 H -12.5\"/><rect class=\"sym\" height=\"6\" width=\"6\" x=\"-3\" y=\"-3\"/><text class=\"lab\" transform=\"translate(0 11)\">2</text></g><path class=\"edge\" d=\"M 0 0 V -3.0756 H 18.75\"/><circle class=\"sym\" cx=\"0\" cy=\"0\" r=\"3\"/><text class=\"lab lft\" transform=\"translate(-3 -7.0)\">6</text></g><path class=\"edge\" d=\"M 0 0 V -11.4842 H 28.125\"/><circle class=\"sym\" cx=\"0\" cy=\"0\" r=\"3\"/><text class=\"lab lft\" transform=\"translate(-3 -7.0)\">9</text></g><path class=\"edge\" d=\"M 0 0 V -54.8376 H 32.8125\"/><g class=\"mut m1 s1\" transform=\"translate(0 -44.3139)\"><line x1=\"0\" x2=\"0\" y1=\"0\" y2=\"44.3139\"/><path class=\"sym\" d=\"M -3,-3 l 6,6 M -3,3 l 6,-6\"/><text class=\"lab lft\" transform=\"translate(-5 0)\">1</text></g><circle class=\"sym\" cx=\"0\" cy=\"0\" r=\"3\"/><text class=\"lab lft\" transform=\"translate(-3 -7.0)\">10</text></g><circle class=\"sym\" cx=\"0\" cy=\"0\" r=\"3\"/><text class=\"lab\" transform=\"translate(0 -11)\">12</text></g></g></g><g class=\"tree t2\" transform=\"translate(400 0)\"><g class=\"plotbox\"><g class=\"node n11 p0 root\" transform=\"translate(124.688 90.3248)\"><g class=\"a11 i1 leaf m3 node n3 p0 s3 sample\" transform=\"translate(32.8125 31.0752)\"><path class=\"edge\" d=\"M 0 0 V -31.0752 H -32.8125\"/><g class=\"mut m3 s3\" transform=\"translate(0 -1.57025)\"><line x1=\"0\" x2=\"0\" y1=\"0\" y2=\"1.57025\"/><path class=\"sym\" d=\"M -3,-3 l 6,6 M -3,3 l 6,-6\"/><text class=\"lab rgt\" transform=\"translate(5 0)\">3</text></g><rect class=\"sym\" height=\"6\" width=\"6\" x=\"-3\" y=\"-3\"/><text class=\"lab\" transform=\"translate(0 11)\">3</text></g><g class=\"a11 node n10 p0\" transform=\"translate(-32.8125 15.5122)\"><g class=\"a10 node n8 p0\" transform=\"translate(28.125 12.0777)\"><g class=\"a8 i0 leaf node n1 p0 sample\" transform=\"translate(-12.5 3.48524)\"><path class=\"edge\" d=\"M 0 0 V -3.48524 H 12.5\"/><rect class=\"sym\" height=\"6\" width=\"6\" x=\"-3\" y=\"-3\"/><text class=\"lab\" transform=\"translate(0 11)\">1</text></g><g class=\"a8 i2 leaf node n5 p0 sample\" transform=\"translate(12.5 3.48524)\"><path class=\"edge\" d=\"M 0 0 V -3.48524 H -12.5\"/><rect class=\"sym\" height=\"6\" width=\"6\" x=\"-3\" y=\"-3\"/><text class=\"lab\" transform=\"translate(0 11)\">5</text></g><path class=\"edge\" d=\"M 0 0 V -12.0777 H -28.125\"/><circle class=\"sym\" cx=\"0\" cy=\"0\" r=\"3\"/><text class=\"lab rgt\" transform=\"translate(3 -7.0)\">8</text></g><g class=\"a10 m2 node n9 p0 s2\" transform=\"translate(-28.125 11.4842)\"><g class=\"a9 i2 leaf node n4 p0 sample\" transform=\"translate(18.75 4.07879)\"><path class=\"edge\" d=\"M 0 0 V -4.07879 H -18.75\"/><rect class=\"sym\" height=\"6\" width=\"6\" x=\"-3\" y=\"-3\"/><text class=\"lab\" transform=\"translate(0 11)\">4</text></g><g class=\"a9 node n6 p0\" transform=\"translate(-18.75 3.0756)\"><g class=\"a6 i0 leaf node n0 p0 sample\" transform=\"translate(-12.5 1.00319)\"><path class=\"edge\" d=\"M 0 0 V -1.00319 H 12.5\"/><rect class=\"sym\" height=\"6\" width=\"6\" x=\"-3\" y=\"-3\"/><text class=\"lab\" transform=\"translate(0 11)\">0</text></g><g class=\"a6 i1 leaf node n2 p0 sample\" transform=\"translate(12.5 1.00319)\"><path class=\"edge\" d=\"M 0 0 V -1.00319 H -12.5\"/><rect class=\"sym\" height=\"6\" width=\"6\" x=\"-3\" y=\"-3\"/><text class=\"lab\" transform=\"translate(0 11)\">2</text></g><path class=\"edge\" d=\"M 0 0 V -3.0756 H 18.75\"/><circle class=\"sym\" cx=\"0\" cy=\"0\" r=\"3\"/><text class=\"lab lft\" transform=\"translate(-3 -7.0)\">6</text></g><path class=\"edge\" d=\"M 0 0 V -11.4842 H 28.125\"/><g class=\"mut m2 s2\" transform=\"translate(0 -8.93025)\"><line x1=\"0\" x2=\"0\" y1=\"0\" y2=\"8.93025\"/><path class=\"sym\" d=\"M -3,-3 l 6,6 M -3,3 l 6,-6\"/><text class=\"lab lft\" transform=\"translate(-5 0)\">2</text></g><circle class=\"sym\" cx=\"0\" cy=\"0\" r=\"3\"/><text class=\"lab lft\" transform=\"translate(-3 -7.0)\">9</text></g><path class=\"edge\" d=\"M 0 0 V -15.5122 H 32.8125\"/><circle class=\"sym\" cx=\"0\" cy=\"0\" r=\"3\"/><text class=\"lab lft\" transform=\"translate(-3 -7.0)\">10</text></g><circle class=\"sym\" cx=\"0\" cy=\"0\" r=\"3\"/><text class=\"lab\" transform=\"translate(0 -11)\">11</text></g></g></g><g class=\"tree t3\" transform=\"translate(590 0)\"><g class=\"plotbox\"><g class=\"node n11 p0 root\" transform=\"translate(124.688 90.3248)\"><g class=\"a11 i1 leaf node n3 p0 sample\" transform=\"translate(32.8125 31.0752)\"><path class=\"edge\" d=\"M 0 0 V -31.0752 H -32.8125\"/><rect class=\"sym\" height=\"6\" width=\"6\" x=\"-3\" y=\"-3\"/><text class=\"lab\" transform=\"translate(0 11)\">3</text></g><g class=\"a11 node n10 p0\" transform=\"translate(-32.8125 15.5122)\"><g class=\"a10 node n8 p0\" transform=\"translate(-28.125 12.0777)\"><g class=\"a8 i2 leaf node n5 p0 sample\" transform=\"translate(18.75 3.48524)\"><path class=\"edge\" d=\"M 0 0 V -3.48524 H -18.75\"/><rect class=\"sym\" height=\"6\" width=\"6\" x=\"-3\" y=\"-3\"/><text class=\"lab\" transform=\"translate(0 11)\">5</text></g><g class=\"a8 node n7 p0\" transform=\"translate(-18.75 1.62753)\"><g class=\"a7 i0 leaf node n0 p0 sample\" transform=\"translate(-12.5 1.85771)\"><path class=\"edge\" d=\"M 0 0 V -1.85771 H 12.5\"/><rect class=\"sym\" height=\"6\" width=\"6\" x=\"-3\" y=\"-3\"/><text class=\"lab\" transform=\"translate(0 11)\">0</text></g><g class=\"a7 i0 leaf node n1 p0 sample\" transform=\"translate(12.5 1.85771)\"><path class=\"edge\" d=\"M 0 0 V -1.85771 H -12.5\"/><rect class=\"sym\" height=\"6\" width=\"6\" x=\"-3\" y=\"-3\"/><text class=\"lab\" transform=\"translate(0 11)\">1</text></g><path class=\"edge\" d=\"M 0 0 V -1.62753 H 18.75\"/><circle class=\"sym\" cx=\"0\" cy=\"0\" r=\"3\"/><text class=\"lab lft\" transform=\"translate(-3 -7.0)\">7</text></g><path class=\"edge\" d=\"M 0 0 V -12.0777 H 28.125\"/><circle class=\"sym\" cx=\"0\" cy=\"0\" r=\"3\"/><text class=\"lab lft\" transform=\"translate(-3 -7.0)\">8</text></g><g class=\"a10 node n9 p0\" transform=\"translate(28.125 11.4842)\"><g class=\"a9 i2 leaf node n4 p0 sample\" transform=\"translate(12.5 4.07879)\"><path class=\"edge\" d=\"M 0 0 V -4.07879 H -12.5\"/><rect class=\"sym\" height=\"6\" width=\"6\" x=\"-3\" y=\"-3\"/><text class=\"lab\" transform=\"translate(0 11)\">4</text></g><g class=\"a9 i1 leaf node n2 p0 sample\" transform=\"translate(-12.5 4.07879)\"><path class=\"edge\" d=\"M 0 0 V -4.07879 H 12.5\"/><rect class=\"sym\" height=\"6\" width=\"6\" x=\"-3\" y=\"-3\"/><text class=\"lab\" transform=\"translate(0 11)\">2</text></g><path class=\"edge\" d=\"M 0 0 V -11.4842 H -28.125\"/><circle class=\"sym\" cx=\"0\" cy=\"0\" r=\"3\"/><text class=\"lab rgt\" transform=\"translate(3 -7.0)\">9</text></g><path class=\"edge\" d=\"M 0 0 V -15.5122 H 32.8125\"/><circle class=\"sym\" cx=\"0\" cy=\"0\" r=\"3\"/><text class=\"lab lft\" transform=\"translate(-3 -7.0)\">10</text></g><circle class=\"sym\" cx=\"0\" cy=\"0\" r=\"3\"/><text class=\"lab\" transform=\"translate(0 -11)\">11</text></g></g></g></g></g></svg>"
      ],
      "text/plain": [
       "<IPython.core.display.SVG object>"
      ]
     },
     "execution_count": 2,
     "metadata": {
      "filenames": {
       "image/svg+xml": "/home/runner/work/tskit-site/tskit-site/docs/_build/jupyter_execute/quickstart_3_0.svg"
      }
     },
     "output_type": "execute_result"
    }
   ],
   "source": [
    "mutated_ts = msprime.sim_mutations(ts, rate=1e-8, random_seed=54321)\n",
    "SVG(mutated_ts.draw_svg())"
   ]
  },
  {
   "cell_type": "markdown",
   "id": "bcc67343",
   "metadata": {},
   "source": [
    "This visualisation shows us where the mutations occurred both in terms\n",
    "of position along the genome (the tick marks with red chevrons on the\n",
    "x-axis) and the branches of trees that they occurred on (the red crosses).\n",
    "This information is stored in the tskit\n",
    "{ref}`site<tskit:sec_site_table_definition>`\n",
    "and\n",
    "{ref}`mutation<tskit:sec_mutation_table_definition>` tables:"
   ]
  },
  {
   "cell_type": "code",
   "execution_count": 3,
   "id": "7e5ab4fb",
   "metadata": {},
   "outputs": [
    {
     "data": {
      "text/html": [
       "\n",
       "            <div>\n",
       "                <style scoped=\"\">\n",
       "                    .tskit-table tbody tr th:only-of-type {vertical-align: middle;}\n",
       "                    .tskit-table tbody tr th {vertical-align: top;}\n",
       "                    .tskit-table tbody td {text-align: right;padding: 0.5em 0.5em;}\n",
       "                    .tskit-table tbody th {padding: 0.5em 0.5em;}\n",
       "                </style>\n",
       "                <table border=\"1\" class=\"tskit-table\">\n",
       "                    <thead>\n",
       "                        <tr>\n",
       "                            <th>id</th><th>position</th><th>ancestral_state</th><th>metadata</th>\n",
       "                        </tr>\n",
       "                    </thead>\n",
       "                    <tbody>\n",
       "                        <tr><td>0</td><td>90.00000000</td><td>T</td><td></td></tr>\n",
       "<tr><td>1</td><td>333.00000000</td><td>G</td><td></td></tr>\n",
       "<tr><td>2</td><td>819.00000000</td><td>T</td><td></td></tr>\n",
       "<tr><td>3</td><td>3204.00000000</td><td>A</td><td></td></tr>\n",
       "\n",
       "                    </tbody>\n",
       "                </table>\n",
       "            </div>\n"
      ],
      "text/plain": [
       "<tskit.tables.SiteTable at 0x7fed34c5f340>"
      ]
     },
     "execution_count": 3,
     "metadata": {},
     "output_type": "execute_result"
    }
   ],
   "source": [
    "mutated_ts.tables.sites"
   ]
  },
  {
   "cell_type": "code",
   "execution_count": 4,
   "id": "c18988e1",
   "metadata": {},
   "outputs": [
    {
     "data": {
      "text/html": [
       "\n",
       "            <div>\n",
       "                <style scoped=\"\">\n",
       "                    .tskit-table tbody tr th:only-of-type {vertical-align: middle;}\n",
       "                    .tskit-table tbody tr th {vertical-align: top;}\n",
       "                    .tskit-table tbody td {text-align: right;padding: 0.5em 0.5em;}\n",
       "                    .tskit-table tbody th {padding: 0.5em 0.5em;}\n",
       "                </style>\n",
       "                <table border=\"1\" class=\"tskit-table\">\n",
       "                    <thead>\n",
       "                        <tr>\n",
       "                            <th>id</th><th>site</th><th>node</th><th>time</th><th>derived_state</th><th>parent</th><th>metadata</th>\n",
       "                        </tr>\n",
       "                    </thead>\n",
       "                    <tbody>\n",
       "                        <tr><td>0</td><td>0</td><td>10</td><td>12191.4064954057</td><td>G</td><td>-1</td><td></td></tr>\n",
       "<tr><td>1</td><td>1</td><td>10</td><td>44173.26473294006</td><td>C</td><td>-1</td><td></td></tr>\n",
       "<tr><td>2</td><td>2</td><td>9</td><td>9597.219523507081</td><td>G</td><td>-1</td><td></td></tr>\n",
       "<tr><td>3</td><td>3</td><td>3</td><td>1158.4291490099815</td><td>C</td><td>-1</td><td></td></tr>\n",
       "\n",
       "                    </tbody>\n",
       "                </table>\n",
       "            </div>\n"
      ],
      "text/plain": [
       "<tskit.tables.MutationTable at 0x7fed34c59970>"
      ]
     },
     "execution_count": 4,
     "metadata": {},
     "output_type": "execute_result"
    }
   ],
   "source": [
    "mutated_ts.tables.mutations"
   ]
  },
  {
   "cell_type": "markdown",
   "id": "2d85973e",
   "metadata": {},
   "source": [
    "The combination of sites and mutations on a given ancestry then\n",
    "defines the variants, which we can access using the\n",
    "{meth}`~tskit:tskit.TreeSequence.variants` method:"
   ]
  },
  {
   "cell_type": "code",
   "execution_count": 5,
   "id": "ee8db91a",
   "metadata": {},
   "outputs": [
    {
     "name": "stdout",
     "output_type": "stream",
     "text": [
      "{'site': {'id': 0, 'position': 90.0, 'ancestral_state': 'T', 'mutations': [{'id': 0, 'site': 0, 'node': 10, 'time': 12191.4064954057, 'derived_state': 'G', 'parent': -1, 'metadata': b''}], 'metadata': b''}, 'alleles': ('T', 'G'), 'has_missing_data': False, 'num_alleles': 2, 'genotypes': array([1, 1, 1, 0, 1, 1], dtype=int8), 'position': 90.0, 'index': 0}\n",
      "{'site': {'id': 1, 'position': 333.0, 'ancestral_state': 'G', 'mutations': [{'id': 1, 'site': 1, 'node': 10, 'time': 44173.26473294006, 'derived_state': 'C', 'parent': -1, 'metadata': b''}], 'metadata': b''}, 'alleles': ('G', 'C'), 'has_missing_data': False, 'num_alleles': 2, 'genotypes': array([1, 1, 1, 0, 1, 1], dtype=int8), 'position': 333.0, 'index': 1}\n",
      "{'site': {'id': 2, 'position': 819.0, 'ancestral_state': 'T', 'mutations': [{'id': 2, 'site': 2, 'node': 9, 'time': 9597.219523507081, 'derived_state': 'G', 'parent': -1, 'metadata': b''}], 'metadata': b''}, 'alleles': ('T', 'G'), 'has_missing_data': False, 'num_alleles': 2, 'genotypes': array([1, 0, 1, 0, 1, 0], dtype=int8), 'position': 819.0, 'index': 2}\n",
      "{'site': {'id': 3, 'position': 3204.0, 'ancestral_state': 'A', 'mutations': [{'id': 3, 'site': 3, 'node': 3, 'time': 1158.4291490099815, 'derived_state': 'C', 'parent': -1, 'metadata': b''}], 'metadata': b''}, 'alleles': ('A', 'C'), 'has_missing_data': False, 'num_alleles': 2, 'genotypes': array([0, 0, 0, 1, 0, 0], dtype=int8), 'position': 3204.0, 'index': 3}\n"
     ]
    }
   ],
   "source": [
    "for variant in mutated_ts.variants():\n",
    "    print(variant)"
   ]
  },
  {
   "cell_type": "markdown",
   "id": "4280cd25",
   "metadata": {},
   "source": [
    ":::{seealso}\n",
    "See {ref}`tutorials:sec_tskit_getting_started` tutorial for more\n",
    "information on how to use tree sequences to efficiently store\n",
    "and analyse data.\n",
    ":::\n",
    "\n",
    "(sec_quickstart_demography)=\n",
    "\n",
    "## Demography\n",
    "\n",
    "By default ancestry simulations assume an extremely simple\n",
    "population structure in which a single randomly mating population\n",
    "of a fixed size exists for all time. For most simulations this\n",
    "is an unrealistic assumption, and so msprime provides a way\n",
    "to describe more complex demographic models using the\n",
    "{ref}`demography API<sec_demography>`.\n",
    "\n",
    "For example, here we define a simple three population model\n",
    "in which populations \"A\" and \"B\" split from \"C\" 500 generations ago:"
   ]
  },
  {
   "cell_type": "code",
   "execution_count": 6,
   "id": "a1d0b2ed",
   "metadata": {},
   "outputs": [
    {
     "data": {
      "text/html": [
       "<div style=\"margin-left:20px\"><div><style scoped=\"\">\n",
       "            .tskit-table thead tr th:only-of-type {vertical-align: middle;}\n",
       "            .tskit-table thead tr th {text-align: center;vertical-align: top;}\n",
       "            .tskit-table tbody td {text-align: right;padding: 0.5em 0.5em;}\n",
       "            .tskit-table tbody th {padding: 0.5em 0.5em;}\n",
       "        </style><b>Populations (3)</b><table border=\"1\" class=\"tskit-table\"><thead><tr><th>id</th><th>name</th><th>description</th><th>initial_size</th><th>growth_rate</th><th>default_sampling_time</th><th>extra_metadata</th></tr></thead><tbody><tr><td>0</td><td>A</td><td></td><td>10000.0</td><td>0</td><td>0</td><td>{}</td></tr><tr><td>1</td><td>B</td><td></td><td>5000.0</td><td>0</td><td>0</td><td>{}</td></tr><tr><td>2</td><td>C</td><td></td><td>1000.0</td><td>0</td><td>5e+02</td><td>{}</td></tr></tbody></table></div><div><style scoped=\"\">\n",
       "            .tskit-table thead tr th:only-of-type {vertical-align: middle;}\n",
       "            .tskit-table thead tr th {text-align: center;vertical-align: top;}\n",
       "            .tskit-table tbody td {text-align: right;padding: 0.5em 0.5em;}\n",
       "            .tskit-table tbody th {padding: 0.5em 0.5em;}\n",
       "        </style><b>Migration matrix (all zero)</b><table border=\"1\" class=\"tskit-table\"><thead><tr></tr></thead><tbody></tbody></table></div><div><style scoped=\"\">\n",
       "            .tskit-table thead tr th:only-of-type {vertical-align: middle;}\n",
       "            .tskit-table thead tr th {text-align: center;vertical-align: top;}\n",
       "            .tskit-table tbody td {text-align: right;padding: 0.5em 0.5em;}\n",
       "            .tskit-table tbody th {padding: 0.5em 0.5em;}\n",
       "        </style><b>Events (1)</b><table border=\"1\" class=\"tskit-table\"><thead><tr><th>time</th><th>type</th><th>parameters</th><th>effect</th></tr></thead><tbody><tr><td>500</td><td><a href='https://tskit.dev/msprime/docs/latest/api.html#msprime.Demography.add_population_split'>Population Split</a></td><td>derived=[A, B], ancestral=C</td><td>Moves all lineages from derived populations &#x27;A&#x27; and &#x27;B&#x27; to the ancestral &#x27;C&#x27; population. Also set the derived populations to inactive, and all migration rates to and from the derived populations to zero.</td></tr></tbody></table></div></div>"
      ],
      "text/plain": [
       "Demography(populations=[Population(initial_size=10000, growth_rate=0, name='A', description='', extra_metadata={}, default_sampling_time=None, initially_active=None, id=0), Population(initial_size=5000, growth_rate=0, name='B', description='', extra_metadata={}, default_sampling_time=None, initially_active=None, id=1), Population(initial_size=1000, growth_rate=0, name='C', description='', extra_metadata={}, default_sampling_time=500, initially_active=False, id=2)], events=[PopulationSplit(time=500, derived=['A', 'B'], ancestral='C')], migration_matrix=array([[0., 0., 0.],\n",
       "       [0., 0., 0.],\n",
       "       [0., 0., 0.]]))"
      ]
     },
     "execution_count": 6,
     "metadata": {},
     "output_type": "execute_result"
    }
   ],
   "source": [
    "demography = msprime.Demography()\n",
    "demography.add_population(name=\"A\", initial_size=10_000)\n",
    "demography.add_population(name=\"B\", initial_size=5_000)\n",
    "demography.add_population(name=\"C\", initial_size=1_000)\n",
    "demography.add_population_split(time=500, derived=[\"A\", \"B\"], ancestral=\"C\")\n",
    "demography"
   ]
  },
  {
   "cell_type": "markdown",
   "id": "04bda9f2",
   "metadata": {},
   "source": [
    "The demography API provides\n",
    "{ref}`debugging tools<sec_demography_debugging_tools>` to help understand\n",
    "and visualise the demographic models we define, as well as some\n",
    "{ref}`numerical methods<sec_demography_numerical>` to provide analytical\n",
    "predictions about these models.\n",
    "\n",
    "We can then simulate ancestral histories conditioned on these\n",
    "models using {func}`.sim_ancestry`. For example, here we simulate\n",
    "5 diploid sample individuals from populations \"A\" and \"B\":"
   ]
  },
  {
   "cell_type": "code",
   "execution_count": 7,
   "id": "81ca9b4c",
   "metadata": {},
   "outputs": [
    {
     "data": {
      "text/html": [
       "\n",
       "<div>\n",
       "  <style>\n",
       "    .tskit-table thead tr th {text-align: left;padding: 0.5em 0.5em;}\n",
       "    .tskit-table tbody tr td {padding: 0.5em 0.5em;}\n",
       "    .tskit-table tbody tr td:first-of-type {text-align: left;}\n",
       "    .tskit-details-label {vertical-align: top; padding-right:5px;}\n",
       "    .tskit-table-set {display: inline-flex;flex-wrap: wrap;margin: -12px 0 0 -12px;width: calc(100% + 12px);}\n",
       "    .tskit-table-set-table {margin: 12px 0 0 12px;}\n",
       "    details {display: inline-block;}\n",
       "    summary {cursor: pointer; outline: 0; display: list-item;}\n",
       "  </style>\n",
       "  <div class=\"tskit-table-set\">\n",
       "    <div class=\"tskit-table-set-table\">\n",
       "      <table class=\"tskit-table\">\n",
       "        <thead>\n",
       "          <tr>\n",
       "            <th style=\"padding:0;line-height:21px;\">\n",
       "              <img style=\"height: 32px;display: inline-block;padding: 3px 5px 3px 0;\"src=\"https://raw.githubusercontent.com/tskit-dev/administrative/main/tskit_logo.svg\"/>\n",
       "              <a target=\"_blank\" href=\"https://tskit.readthedocs.io/en/latest/python-api.html#the-treesequence-class\"> Tree Sequence\n",
       "            </th>\n",
       "          </tr>\n",
       "        </thead>\n",
       "        <tbody>\n",
       "          <tr><td>Trees</td><td>1</td></tr>\n",
       "          <tr><td>Sequence Length</td><td>1.0</td></tr>\n",
       "          <tr><td>Sample Nodes</td><td>20</td></tr>\n",
       "          <tr><td>Total Size</td><td>4.4 KiB</td></tr>\n",
       "          <tr>\n",
       "            <td>Metadata</td><td style=\"text-align: left;\">No Metadata</td></tr>\n",
       "        </tbody>\n",
       "      </table>\n",
       "    </div>\n",
       "    <div class=\"tskit-table-set-table\">\n",
       "      <table class=\"tskit-table\">\n",
       "        <thead>\n",
       "          <tr>\n",
       "            <th style=\"line-height:21px;\">Table</th>\n",
       "            <th>Rows</th>\n",
       "            <th>Size</th>\n",
       "            <th>Has Metadata</th>\n",
       "          </tr>\n",
       "        </thead>\n",
       "        <tbody>\n",
       "\n",
       "      <tr>\n",
       "        <td>Edges</td>\n",
       "          <td>38</td>\n",
       "          <td>1.0 KiB</td>\n",
       "          <td style=\"text-align: center;\">\n",
       "\n",
       "          </td>\n",
       "        </tr>\n",
       "\n",
       "      <tr>\n",
       "        <td>Individuals</td>\n",
       "          <td>10</td>\n",
       "          <td>172 Bytes</td>\n",
       "          <td style=\"text-align: center;\">\n",
       "\n",
       "          </td>\n",
       "        </tr>\n",
       "\n",
       "      <tr>\n",
       "        <td>Migrations</td>\n",
       "          <td>0</td>\n",
       "          <td>4 Bytes</td>\n",
       "          <td style=\"text-align: center;\">\n",
       "\n",
       "          </td>\n",
       "        </tr>\n",
       "\n",
       "      <tr>\n",
       "        <td>Mutations</td>\n",
       "          <td>0</td>\n",
       "          <td>8 Bytes</td>\n",
       "          <td style=\"text-align: center;\">\n",
       "\n",
       "          </td>\n",
       "        </tr>\n",
       "\n",
       "      <tr>\n",
       "        <td>Nodes</td>\n",
       "          <td>39</td>\n",
       "          <td>940 Bytes</td>\n",
       "          <td style=\"text-align: center;\">\n",
       "\n",
       "          </td>\n",
       "        </tr>\n",
       "\n",
       "      <tr>\n",
       "        <td>Populations</td>\n",
       "          <td>3</td>\n",
       "          <td>278 Bytes</td>\n",
       "          <td style=\"text-align: center;\">\n",
       "            ✅\n",
       "          </td>\n",
       "        </tr>\n",
       "\n",
       "      <tr>\n",
       "        <td>Provenances</td>\n",
       "          <td>1</td>\n",
       "          <td>1.6 KiB</td>\n",
       "          <td style=\"text-align: center;\">\n",
       "\n",
       "          </td>\n",
       "        </tr>\n",
       "\n",
       "      <tr>\n",
       "        <td>Sites</td>\n",
       "          <td>0</td>\n",
       "          <td>8 Bytes</td>\n",
       "          <td style=\"text-align: center;\">\n",
       "\n",
       "          </td>\n",
       "        </tr>\n",
       "\n",
       "        </tbody>\n",
       "      </table>\n",
       "    </div>\n",
       "  </div>\n",
       "</div>\n"
      ],
      "text/plain": [
       "<tskit.trees.TreeSequence at 0x7fed34c5fa60>"
      ]
     },
     "execution_count": 7,
     "metadata": {},
     "output_type": "execute_result"
    }
   ],
   "source": [
    "ts = msprime.sim_ancestry({\"A\": 5, \"B\": 5}, demography=demography, random_seed=123)\n",
    "ts"
   ]
  },
  {
   "cell_type": "markdown",
   "id": "78518839",
   "metadata": {},
   "source": [
    "See the {ref}`sec_demography` section for more details on defining\n",
    "demographic models, and the {ref}`sec_ancestry_samples` section for more details\n",
    "on how to specify samples under these models in ancestry simulations."
   ]
  }
 ],
 "metadata": {
  "jupytext": {
   "text_representation": {
    "extension": ".md",
    "format_name": "myst",
    "format_version": 0.12,
    "jupytext_version": "1.9.1"
   }
  },
  "kernelspec": {
   "display_name": "Python 3",
   "language": "python",
   "name": "python3"
  },
  "language_info": {
   "codemirror_mode": {
    "name": "ipython",
    "version": 3
   },
   "file_extension": ".py",
   "mimetype": "text/x-python",
   "name": "python",
   "nbconvert_exporter": "python",
   "pygments_lexer": "ipython3",
   "version": "3.8.10"
  },
  "source_map": [
   12,
   35,
   50,
   110,
   113,
   122,
   125,
   127,
   132,
   135,
   156,
   163,
   175,
   178
  ]
 },
 "nbformat": 4,
 "nbformat_minor": 5
}